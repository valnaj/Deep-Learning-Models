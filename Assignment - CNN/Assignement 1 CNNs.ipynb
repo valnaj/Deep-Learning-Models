{
 "cells": [
  {
   "cell_type": "code",
   "execution_count": 27,
   "metadata": {},
   "outputs": [
    {
     "name": "stdout",
     "output_type": "stream",
     "text": [
      "CUDA is available\n",
      "cuDNN is available\n",
      "Device is set to: cuda\n"
     ]
    }
   ],
   "source": [
    "import torch\n",
    "\n",
    "# see if CUDA is available\n",
    "if torch.cuda.is_available():\n",
    "    print(\"CUDA is available\")\n",
    "\n",
    "# see if cuDNN is available\n",
    "if torch.backends.cudnn.enabled:\n",
    "    print(\"cuDNN is available\")\n",
    "\n",
    "# set the device\n",
    "device = torch.device(\"cuda\" if torch.cuda.is_available() else \"cpu\")\n",
    "print(\"Device is set to:\", device)"
   ]
  },
  {
   "cell_type": "code",
   "execution_count": 28,
   "metadata": {},
   "outputs": [],
   "source": [
    "from torchvision import transforms, datasets, models\n",
    "from torch.utils.data import DataLoader, random_split\n",
    "import pytorch_lightning as pl\n",
    "from pytorch_lightning import Trainer, loggers\n",
    "from pytorch_lightning.loggers import TensorBoardLogger\n",
    "from pytorch_lightning.callbacks import EarlyStopping, ModelCheckpoint\n",
    "import torchmetrics\n",
    "import tensorboard\n",
    "\n",
    "class CIFAR100DataModule(pl.LightningDataModule):\n",
    "    def __init__(self, data_dir='./data', batch_size=128):\n",
    "        super().__init__()\n",
    "        self.data_dir = data_dir\n",
    "        self.batch_size = batch_size\n",
    "        self.transform = transforms.Compose([\n",
    "            transforms.ToTensor(),\n",
    "            transforms.Normalize((0.5071, 0.4867, 0.4408), (0.2675, 0.2565, 0.2761))\n",
    "        ])\n",
    "\n",
    "    def setup(self, stage=None):\n",
    "        # Load data\n",
    "        cifar100_train = datasets.CIFAR100(root=self.data_dir, train=True, download=True, transform=self.transform)\n",
    "        cifar100_test = datasets.CIFAR100(root=self.data_dir, train=False, download=True, transform=self.transform)\n",
    "\n",
    "        # Train/val split\n",
    "        self.train, self.val = random_split(cifar100_train, [45000, 5000])\n",
    "        self.test = cifar100_test\n",
    "\n",
    "    def train_dataloader(self):\n",
    "        return DataLoader(self.train, batch_size=self.batch_size, shuffle=True, num_workers=7, persistent_workers=True)\n",
    "\n",
    "    def val_dataloader(self):\n",
    "        return DataLoader(self.val, batch_size=self.batch_size, num_workers=7, persistent_workers=True)\n",
    "\n",
    "    def test_dataloader(self):\n",
    "        return DataLoader(self.test, batch_size=self.batch_size, num_workers=7, persistent_workers=True)\n"
   ]
  },
  {
   "cell_type": "code",
   "execution_count": 33,
   "metadata": {},
   "outputs": [],
   "source": [
    "class BasicBlock(nn.Module):\n",
    "    def __init__(self, in_channels, out_channels, stride=1):\n",
    "        super(BasicBlock, self).__init__()\n",
    "        self.conv1 = nn.Conv2d(in_channels, out_channels, kernel_size=3, stride=stride, padding=1, bias=False)\n",
    "        self.bn1 = nn.BatchNorm2d(out_channels)\n",
    "        self.relu = nn.ReLU(inplace=True)\n",
    "        self.conv2 = nn.Conv2d(out_channels, out_channels, kernel_size=3, stride=1, padding=1, bias=False)\n",
    "        self.bn2 = nn.BatchNorm2d(out_channels)\n",
    "\n",
    "        self.shortcut = nn.Sequential()\n",
    "        if stride != 1 or in_channels != out_channels:\n",
    "            self.shortcut = nn.Sequential(\n",
    "                nn.Conv2d(in_channels, out_channels, kernel_size=1, stride=stride, bias=False),\n",
    "                nn.BatchNorm2d(out_channels)\n",
    "            )\n",
    "\n",
    "    def forward(self, x):\n",
    "        out = self.relu(self.bn1(self.conv1(x)))\n",
    "        out = self.bn2(self.conv2(out))\n",
    "        out += self.shortcut(x)\n",
    "        out = self.relu(out)\n",
    "        return out\n",
    "\n",
    "\n",
    "class Bottleneck(nn.Module):\n",
    "    expansion = 4\n",
    "\n",
    "    def __init__(self, in_channels, out_channels, stride=1):\n",
    "        super(Bottleneck, self).__init__()\n",
    "        self.conv1 = nn.Conv2d(in_channels, out_channels, kernel_size=1, bias=False)\n",
    "        self.bn1 = nn.BatchNorm2d(out_channels)\n",
    "        self.conv2 = nn.Conv2d(out_channels, out_channels, kernel_size=3, stride=stride, padding=1, bias=False)\n",
    "        self.bn2 = nn.BatchNorm2d(out_channels)\n",
    "        self.conv3 = nn.Conv2d(out_channels, out_channels * 4, kernel_size=1, bias=False)\n",
    "        self.bn3 = nn.BatchNorm2d(out_channels * 4)\n",
    "        self.relu = nn.ReLU(inplace=True)\n",
    "\n",
    "        self.shortcut = nn.Sequential()\n",
    "        if stride != 1 or in_channels != out_channels * 4:\n",
    "            self.shortcut = nn.Sequential(\n",
    "                nn.Conv2d(in_channels, out_channels * 4, kernel_size=1, stride=stride, bias=False),\n",
    "                nn.BatchNorm2d(out_channels * 4)\n",
    "            )\n",
    "\n",
    "    def forward(self, x):\n",
    "        out = self.relu(self.bn1(self.conv1(x)))\n",
    "        out = self.relu(self.bn2(self.conv2(out)))\n",
    "        out = self.bn3(self.conv3(out))\n",
    "        out += self.shortcut(x)\n",
    "        out = self.relu(out)\n",
    "        return out\n",
    "        \n",
    "\n",
    "class ResNet(pl.LightningModule):\n",
    "    def __init__(self, block, num_blocks, num_classes=100, learning_rate=0.01):\n",
    "        super(ResNet, self).__init__()\n",
    "        self.in_channels = 64\n",
    "        self.learning_rate = learning_rate\n",
    "\n",
    "        self.conv1 = nn.Conv2d(3, 64, kernel_size=3, stride=1, padding=1, bias=False)\n",
    "        self.bn1 = nn.BatchNorm2d(64)\n",
    "        self.relu = nn.ReLU(inplace=True)\n",
    "\n",
    "        self.layer1 = self._make_layer(block, 64, num_blocks[0], stride=1)\n",
    "        self.layer2 = self._make_layer(block, 128, num_blocks[1], stride=2)\n",
    "        self.layer3 = self._make_layer(block, 256, num_blocks[2], stride=2)\n",
    "        self.layer4 = self._make_layer(block, 512, num_blocks[3], stride=2)\n",
    "\n",
    "        self.avgpool = nn.AdaptiveAvgPool2d((1, 1))\n",
    "        self.fc = nn.Linear(512 * block.expansion, num_classes)\n",
    "\n",
    "        # Accuracy metrics\n",
    "        self.train_acc = torchmetrics.Accuracy(num_classes=num_classes, average='macro', task='multiclass')\n",
    "        self.val_acc = torchmetrics.Accuracy(num_classes=num_classes, average='macro', task='multiclass')\n",
    "\n",
    "        # Testing metrics\n",
    "        self.test_acc = torchmetrics.Accuracy(num_classes=num_classes, average='macro', task='multiclass')\n",
    "        self.test_precision = torchmetrics.Precision(num_classes=num_classes, average='macro', task='multiclass')\n",
    "        self.test_recall = torchmetrics.Recall(num_classes=num_classes, average='macro', task='multiclass')\n",
    "        self.test_f1 = torchmetrics.F1Score(num_classes=num_classes, average='macro', task='multiclass')\n",
    "\n",
    "    def _make_layer(self, block, out_channels, num_blocks, stride):\n",
    "        strides = [stride] + [1] * (num_blocks - 1)\n",
    "        layers = []\n",
    "        for stride in strides:\n",
    "            layers.append(block(self.in_channels, out_channels, stride))\n",
    "            self.in_channels = out_channels * block.expansion\n",
    "        return nn.Sequential(*layers)\n",
    "\n",
    "    def forward(self, x):\n",
    "        x = self.relu(self.bn1(self.conv1(x)))\n",
    "        x = self.layer1(x)\n",
    "        x = self.layer2(x)\n",
    "        x = self.layer3(x)\n",
    "        x = self.layer4(x)\n",
    "        x = self.avgpool(x)\n",
    "        x = torch.flatten(x, 1)\n",
    "        x = self.fc(x)\n",
    "        return x\n",
    "\n",
    "    def configure_optimizers(self):\n",
    "        optimizer = torch.optim.Adam(self.parameters(), lr=self.learning_rate)\n",
    "        return optimizer\n",
    "\n",
    "    def training_step(self, batch, batch_idx):\n",
    "        x, y = batch\n",
    "        logits = self(x)\n",
    "        loss = F.cross_entropy(logits, y)\n",
    "        self.train_acc(logits, y)\n",
    "        self.log('train_loss', loss, on_epoch=True, prog_bar=True)\n",
    "        self.log('train_acc', self.train_acc, on_epoch=True, prog_bar=True)\n",
    "        return loss\n",
    "\n",
    "    def validation_step(self, batch, batch_idx):\n",
    "        x, y = batch\n",
    "        logits = self(x)\n",
    "        loss = F.cross_entropy(logits, y)\n",
    "        self.val_acc(logits, y)\n",
    "        self.log('val_loss', loss, prog_bar=True)\n",
    "        self.log('val_acc', self.val_acc, prog_bar=True)\n",
    "\n",
    "    def test_step(self, batch, batch_idx):\n",
    "        x, y = batch\n",
    "        logits = self(x)\n",
    "        loss = F.cross_entropy(logits, y)\n",
    "        # Update metrics\n",
    "        self.test_acc(logits, y)\n",
    "        self.test_precision(logits, y)\n",
    "        self.test_recall(logits, y)\n",
    "        self.test_f1(logits, y)\n",
    "\n",
    "        self.log('test_loss', loss)\n",
    "        self.log('test_acc', self.test_acc, prog_bar=True)\n",
    "        self.log('test_precision', self.test_precision, prog_bar=True)\n",
    "        self.log('test_recall', self.test_recall, prog_bar=True)\n",
    "        self.log('test_f1', self.test_f1, prog_bar=True)\n",
    "        return {\"loss\": loss}\n",
    "\n",
    "def ResNet200(num_classes=100, learning_rate=0.01):\n",
    "    return ResNet(Bottleneck, [3, 24, 36, 3], num_classes, learning_rate)"
   ]
  },
  {
   "cell_type": "code",
   "execution_count": 30,
   "metadata": {},
   "outputs": [
    {
     "name": "stderr",
     "output_type": "stream",
     "text": [
      "GPU available: True (cuda), used: True\n",
      "TPU available: False, using: 0 TPU cores\n",
      "IPU available: False, using: 0 IPUs\n",
      "HPU available: False, using: 0 HPUs\n"
     ]
    },
    {
     "name": "stdout",
     "output_type": "stream",
     "text": [
      "Files already downloaded and verified\n",
      "Files already downloaded and verified\n"
     ]
    },
    {
     "name": "stderr",
     "output_type": "stream",
     "text": [
      "LOCAL_RANK: 0 - CUDA_VISIBLE_DEVICES: [0]\n",
      "\n",
      "   | Name           | Type                | Params\n",
      "--------------------------------------------------------\n",
      "0  | conv1          | Conv2d              | 1.7 K \n",
      "1  | bn1            | BatchNorm2d         | 128   \n",
      "2  | relu           | ReLU                | 0     \n",
      "3  | layer1         | Sequential          | 215 K \n",
      "4  | layer2         | Sequential          | 6.8 M \n",
      "5  | layer3         | Sequential          | 40.6 M\n",
      "6  | layer4         | Sequential          | 15.0 M\n",
      "7  | avgpool        | AdaptiveAvgPool2d   | 0     \n",
      "8  | fc             | Linear              | 204 K \n",
      "9  | train_acc      | MulticlassAccuracy  | 0     \n",
      "10 | val_acc        | MulticlassAccuracy  | 0     \n",
      "11 | test_acc       | MulticlassAccuracy  | 0     \n",
      "12 | test_precision | MulticlassPrecision | 0     \n",
      "13 | test_recall    | MulticlassRecall    | 0     \n",
      "14 | test_f1        | MulticlassF1Score   | 0     \n",
      "--------------------------------------------------------\n",
      "62.8 M    Trainable params\n",
      "0         Non-trainable params\n",
      "62.8 M    Total params\n",
      "251.288   Total estimated model params size (MB)\n"
     ]
    },
    {
     "name": "stdout",
     "output_type": "stream",
     "text": [
      "Epoch 0: 100%|██████████| 352/352 [1:00:22<00:00,  0.10it/s, v_num=62, train_loss_step=3.900, train_acc_step=0.0873, val_loss=4.020, val_acc=0.0735, train_loss_epoch=4.340, train_acc_epoch=0.041]"
     ]
    },
    {
     "name": "stderr",
     "output_type": "stream",
     "text": [
      "Metric val_acc improved. New best score: 0.073\n",
      "Epoch 0, global step 352: 'val_acc' reached 0.07350 (best 0.07350), saving model to 'c:\\\\Users\\\\Owner\\\\Documents\\\\MMA\\\\MULTI TASK\\\\Final Project\\\\lightning_logs\\\\version_62\\\\checkpoints\\\\best-checkpoint.ckpt' as top 1\n"
     ]
    },
    {
     "name": "stdout",
     "output_type": "stream",
     "text": [
      "Epoch 1: 100%|██████████| 352/352 [1:16:17<00:00,  0.08it/s, v_num=62, train_loss_step=3.700, train_acc_step=0.114, val_loss=3.560, val_acc=0.145, train_loss_epoch=3.780, train_acc_epoch=0.109]  "
     ]
    },
    {
     "name": "stderr",
     "output_type": "stream",
     "text": [
      "Metric val_acc improved by 0.071 >= min_delta = 0.0. New best score: 0.145\n",
      "Epoch 1, global step 704: 'val_acc' reached 0.14491 (best 0.14491), saving model to 'c:\\\\Users\\\\Owner\\\\Documents\\\\MMA\\\\MULTI TASK\\\\Final Project\\\\lightning_logs\\\\version_62\\\\checkpoints\\\\best-checkpoint.ckpt' as top 1\n"
     ]
    },
    {
     "name": "stdout",
     "output_type": "stream",
     "text": [
      "Epoch 2: 100%|██████████| 352/352 [1:08:41<00:00,  0.09it/s, v_num=62, train_loss_step=2.940, train_acc_step=0.174, val_loss=3.180, val_acc=0.205, train_loss_epoch=3.380, train_acc_epoch=0.179]"
     ]
    },
    {
     "name": "stderr",
     "output_type": "stream",
     "text": [
      "Metric val_acc improved by 0.060 >= min_delta = 0.0. New best score: 0.205\n",
      "Epoch 2, global step 1056: 'val_acc' reached 0.20464 (best 0.20464), saving model to 'c:\\\\Users\\\\Owner\\\\Documents\\\\MMA\\\\MULTI TASK\\\\Final Project\\\\lightning_logs\\\\version_62\\\\checkpoints\\\\best-checkpoint.ckpt' as top 1\n"
     ]
    },
    {
     "name": "stdout",
     "output_type": "stream",
     "text": [
      "Epoch 3: 100%|██████████| 352/352 [1:35:52<00:00,  0.06it/s, v_num=62, train_loss_step=2.580, train_acc_step=0.245, val_loss=2.970, val_acc=0.269, train_loss_epoch=2.920, train_acc_epoch=0.260]"
     ]
    },
    {
     "name": "stderr",
     "output_type": "stream",
     "text": [
      "Metric val_acc improved by 0.064 >= min_delta = 0.0. New best score: 0.269\n",
      "Epoch 3, global step 1408: 'val_acc' reached 0.26889 (best 0.26889), saving model to 'c:\\\\Users\\\\Owner\\\\Documents\\\\MMA\\\\MULTI TASK\\\\Final Project\\\\lightning_logs\\\\version_62\\\\checkpoints\\\\best-checkpoint.ckpt' as top 1\n"
     ]
    },
    {
     "name": "stdout",
     "output_type": "stream",
     "text": [
      "Epoch 4: 100%|██████████| 352/352 [48:44<00:00,  0.12it/s, v_num=62, train_loss_step=2.710, train_acc_step=0.197, val_loss=2.520, val_acc=0.345, train_loss_epoch=2.500, train_acc_epoch=0.342]  "
     ]
    },
    {
     "name": "stderr",
     "output_type": "stream",
     "text": [
      "Metric val_acc improved by 0.076 >= min_delta = 0.0. New best score: 0.345\n",
      "Epoch 4, global step 1760: 'val_acc' reached 0.34478 (best 0.34478), saving model to 'c:\\\\Users\\\\Owner\\\\Documents\\\\MMA\\\\MULTI TASK\\\\Final Project\\\\lightning_logs\\\\version_62\\\\checkpoints\\\\best-checkpoint.ckpt' as top 1\n"
     ]
    },
    {
     "name": "stdout",
     "output_type": "stream",
     "text": [
      "Epoch 5: 100%|██████████| 352/352 [39:09<00:00,  0.15it/s, v_num=62, train_loss_step=2.330, train_acc_step=0.252, val_loss=3.330, val_acc=0.335, train_loss_epoch=2.180, train_acc_epoch=0.407]"
     ]
    },
    {
     "name": "stderr",
     "output_type": "stream",
     "text": [
      "Epoch 5, global step 2112: 'val_acc' was not in top 1\n"
     ]
    },
    {
     "name": "stdout",
     "output_type": "stream",
     "text": [
      "Epoch 6: 100%|██████████| 352/352 [58:39<00:00,  0.10it/s, v_num=62, train_loss_step=1.940, train_acc_step=0.376, val_loss=2.160, val_acc=0.427, train_loss_epoch=1.970, train_acc_epoch=0.459]"
     ]
    },
    {
     "name": "stderr",
     "output_type": "stream",
     "text": [
      "Metric val_acc improved by 0.082 >= min_delta = 0.0. New best score: 0.427\n",
      "Epoch 6, global step 2464: 'val_acc' reached 0.42657 (best 0.42657), saving model to 'c:\\\\Users\\\\Owner\\\\Documents\\\\MMA\\\\MULTI TASK\\\\Final Project\\\\lightning_logs\\\\version_62\\\\checkpoints\\\\best-checkpoint.ckpt' as top 1\n"
     ]
    },
    {
     "name": "stdout",
     "output_type": "stream",
     "text": [
      "Epoch 7: 100%|██████████| 352/352 [48:38<00:00,  0.12it/s, v_num=62, train_loss_step=1.850, train_acc_step=0.321, val_loss=2.010, val_acc=0.456, train_loss_epoch=1.740, train_acc_epoch=0.513]"
     ]
    },
    {
     "name": "stderr",
     "output_type": "stream",
     "text": [
      "Metric val_acc improved by 0.029 >= min_delta = 0.0. New best score: 0.456\n",
      "Epoch 7, global step 2816: 'val_acc' reached 0.45558 (best 0.45558), saving model to 'c:\\\\Users\\\\Owner\\\\Documents\\\\MMA\\\\MULTI TASK\\\\Final Project\\\\lightning_logs\\\\version_62\\\\checkpoints\\\\best-checkpoint.ckpt' as top 1\n"
     ]
    },
    {
     "name": "stdout",
     "output_type": "stream",
     "text": [
      "Epoch 8: 100%|██████████| 352/352 [53:16<00:00,  0.11it/s, v_num=62, train_loss_step=1.580, train_acc_step=0.475, val_loss=3.060, val_acc=0.474, train_loss_epoch=1.620, train_acc_epoch=0.541]"
     ]
    },
    {
     "name": "stderr",
     "output_type": "stream",
     "text": [
      "Metric val_acc improved by 0.018 >= min_delta = 0.0. New best score: 0.474\n",
      "Epoch 8, global step 3168: 'val_acc' reached 0.47395 (best 0.47395), saving model to 'c:\\\\Users\\\\Owner\\\\Documents\\\\MMA\\\\MULTI TASK\\\\Final Project\\\\lightning_logs\\\\version_62\\\\checkpoints\\\\best-checkpoint.ckpt' as top 1\n"
     ]
    },
    {
     "name": "stdout",
     "output_type": "stream",
     "text": [
      "Epoch 9: 100%|██████████| 352/352 [1:09:31<00:00,  0.08it/s, v_num=62, train_loss_step=1.330, train_acc_step=0.504, val_loss=3.600, val_acc=0.463, train_loss_epoch=1.410, train_acc_epoch=0.593]"
     ]
    },
    {
     "name": "stderr",
     "output_type": "stream",
     "text": [
      "Epoch 9, global step 3520: 'val_acc' was not in top 1\n"
     ]
    },
    {
     "name": "stdout",
     "output_type": "stream",
     "text": [
      "Epoch 10: 100%|██████████| 352/352 [48:52<00:00,  0.12it/s, v_num=62, train_loss_step=1.380, train_acc_step=0.474, val_loss=2.140, val_acc=0.479, train_loss_epoch=1.340, train_acc_epoch=0.609] "
     ]
    },
    {
     "name": "stderr",
     "output_type": "stream",
     "text": [
      "Metric val_acc improved by 0.005 >= min_delta = 0.0. New best score: 0.479\n",
      "Epoch 10, global step 3872: 'val_acc' reached 0.47914 (best 0.47914), saving model to 'c:\\\\Users\\\\Owner\\\\Documents\\\\MMA\\\\MULTI TASK\\\\Final Project\\\\lightning_logs\\\\version_62\\\\checkpoints\\\\best-checkpoint.ckpt' as top 1\n"
     ]
    },
    {
     "name": "stdout",
     "output_type": "stream",
     "text": [
      "Epoch 11: 100%|██████████| 352/352 [49:50<00:00,  0.12it/s, v_num=62, train_loss_step=1.160, train_acc_step=0.549, val_loss=4.690, val_acc=0.494, train_loss_epoch=1.240, train_acc_epoch=0.634] "
     ]
    },
    {
     "name": "stderr",
     "output_type": "stream",
     "text": [
      "Metric val_acc improved by 0.015 >= min_delta = 0.0. New best score: 0.494\n",
      "Epoch 11, global step 4224: 'val_acc' reached 0.49382 (best 0.49382), saving model to 'c:\\\\Users\\\\Owner\\\\Documents\\\\MMA\\\\MULTI TASK\\\\Final Project\\\\lightning_logs\\\\version_62\\\\checkpoints\\\\best-checkpoint.ckpt' as top 1\n"
     ]
    },
    {
     "name": "stdout",
     "output_type": "stream",
     "text": [
      "Epoch 12: 100%|██████████| 352/352 [53:36<00:00,  0.11it/s, v_num=62, train_loss_step=0.992, train_acc_step=0.602, val_loss=2.000, val_acc=0.520, train_loss_epoch=0.949, train_acc_epoch=0.710]"
     ]
    },
    {
     "name": "stderr",
     "output_type": "stream",
     "text": [
      "Metric val_acc improved by 0.026 >= min_delta = 0.0. New best score: 0.520\n",
      "Epoch 12, global step 4576: 'val_acc' reached 0.52026 (best 0.52026), saving model to 'c:\\\\Users\\\\Owner\\\\Documents\\\\MMA\\\\MULTI TASK\\\\Final Project\\\\lightning_logs\\\\version_62\\\\checkpoints\\\\best-checkpoint.ckpt' as top 1\n"
     ]
    },
    {
     "name": "stdout",
     "output_type": "stream",
     "text": [
      "Epoch 13: 100%|██████████| 352/352 [48:30<00:00,  0.12it/s, v_num=62, train_loss_step=0.999, train_acc_step=0.552, val_loss=6.250, val_acc=0.494, train_loss_epoch=0.770, train_acc_epoch=0.760] "
     ]
    },
    {
     "name": "stderr",
     "output_type": "stream",
     "text": [
      "Epoch 13, global step 4928: 'val_acc' was not in top 1\n"
     ]
    },
    {
     "name": "stdout",
     "output_type": "stream",
     "text": [
      "Epoch 14: 100%|██████████| 352/352 [50:13<00:00,  0.12it/s, v_num=62, train_loss_step=0.987, train_acc_step=0.570, val_loss=2.130, val_acc=0.499, train_loss_epoch=0.766, train_acc_epoch=0.762]"
     ]
    },
    {
     "name": "stderr",
     "output_type": "stream",
     "text": [
      "Epoch 14, global step 5280: 'val_acc' was not in top 1\n"
     ]
    },
    {
     "name": "stdout",
     "output_type": "stream",
     "text": [
      "Epoch 15: 100%|██████████| 352/352 [50:12<00:00,  0.12it/s, v_num=62, train_loss_step=0.615, train_acc_step=0.642, val_loss=2.120, val_acc=0.536, train_loss_epoch=0.709, train_acc_epoch=0.778]"
     ]
    },
    {
     "name": "stderr",
     "output_type": "stream",
     "text": [
      "Metric val_acc improved by 0.015 >= min_delta = 0.0. New best score: 0.536\n",
      "Epoch 15, global step 5632: 'val_acc' reached 0.53567 (best 0.53567), saving model to 'c:\\\\Users\\\\Owner\\\\Documents\\\\MMA\\\\MULTI TASK\\\\Final Project\\\\lightning_logs\\\\version_62\\\\checkpoints\\\\best-checkpoint.ckpt' as top 1\n"
     ]
    },
    {
     "name": "stdout",
     "output_type": "stream",
     "text": [
      "Epoch 16: 100%|██████████| 352/352 [51:18<00:00,  0.11it/s, v_num=62, train_loss_step=0.715, train_acc_step=0.622, val_loss=2.350, val_acc=0.518, train_loss_epoch=0.425, train_acc_epoch=0.862]"
     ]
    },
    {
     "name": "stderr",
     "output_type": "stream",
     "text": [
      "Epoch 16, global step 5984: 'val_acc' was not in top 1\n"
     ]
    },
    {
     "name": "stdout",
     "output_type": "stream",
     "text": [
      "Epoch 17: 100%|██████████| 352/352 [42:56<00:00,  0.14it/s, v_num=62, train_loss_step=0.310, train_acc_step=0.874, val_loss=7.180, val_acc=0.542, train_loss_epoch=0.299, train_acc_epoch=0.903] "
     ]
    },
    {
     "name": "stderr",
     "output_type": "stream",
     "text": [
      "Metric val_acc improved by 0.006 >= min_delta = 0.0. New best score: 0.542\n",
      "Epoch 17, global step 6336: 'val_acc' reached 0.54172 (best 0.54172), saving model to 'c:\\\\Users\\\\Owner\\\\Documents\\\\MMA\\\\MULTI TASK\\\\Final Project\\\\lightning_logs\\\\version_62\\\\checkpoints\\\\best-checkpoint.ckpt' as top 1\n"
     ]
    },
    {
     "name": "stdout",
     "output_type": "stream",
     "text": [
      "Epoch 18: 100%|██████████| 352/352 [1:27:16<00:00,  0.07it/s, v_num=62, train_loss_step=0.243, train_acc_step=0.827, val_loss=10.60, val_acc=0.516, train_loss_epoch=0.245, train_acc_epoch=0.921] "
     ]
    },
    {
     "name": "stderr",
     "output_type": "stream",
     "text": [
      "Epoch 18, global step 6688: 'val_acc' was not in top 1\n"
     ]
    },
    {
     "name": "stdout",
     "output_type": "stream",
     "text": [
      "Epoch 19: 100%|██████████| 352/352 [1:22:21<00:00,  0.07it/s, v_num=62, train_loss_step=0.497, train_acc_step=0.684, val_loss=6.390, val_acc=0.494, train_loss_epoch=0.285, train_acc_epoch=0.909]"
     ]
    },
    {
     "name": "stderr",
     "output_type": "stream",
     "text": [
      "Epoch 19, global step 7040: 'val_acc' was not in top 1\n"
     ]
    },
    {
     "name": "stdout",
     "output_type": "stream",
     "text": [
      "Epoch 20: 100%|██████████| 352/352 [1:36:59<00:00,  0.06it/s, v_num=62, train_loss_step=0.327, train_acc_step=0.832, val_loss=2.480, val_acc=0.530, train_loss_epoch=0.337, train_acc_epoch=0.890]"
     ]
    },
    {
     "name": "stderr",
     "output_type": "stream",
     "text": [
      "Epoch 20, global step 7392: 'val_acc' was not in top 1\n"
     ]
    },
    {
     "name": "stdout",
     "output_type": "stream",
     "text": [
      "Epoch 21: 100%|██████████| 352/352 [1:18:18<00:00,  0.07it/s, v_num=62, train_loss_step=0.309, train_acc_step=0.864, val_loss=2.570, val_acc=0.500, train_loss_epoch=0.227, train_acc_epoch=0.927] "
     ]
    },
    {
     "name": "stderr",
     "output_type": "stream",
     "text": [
      "Epoch 21, global step 7744: 'val_acc' was not in top 1\n"
     ]
    },
    {
     "name": "stdout",
     "output_type": "stream",
     "text": [
      "Epoch 22: 100%|██████████| 352/352 [1:19:30<00:00,  0.07it/s, v_num=62, train_loss_step=0.258, train_acc_step=0.841, val_loss=3.240, val_acc=0.536, train_loss_epoch=0.201, train_acc_epoch=0.936] "
     ]
    },
    {
     "name": "stderr",
     "output_type": "stream",
     "text": [
      "Epoch 22, global step 8096: 'val_acc' was not in top 1\n"
     ]
    },
    {
     "name": "stdout",
     "output_type": "stream",
     "text": [
      "Epoch 23: 100%|██████████| 352/352 [1:15:47<00:00,  0.08it/s, v_num=62, train_loss_step=0.197, train_acc_step=0.876, val_loss=2.630, val_acc=0.546, train_loss_epoch=0.300, train_acc_epoch=0.905] "
     ]
    },
    {
     "name": "stderr",
     "output_type": "stream",
     "text": [
      "Metric val_acc improved by 0.004 >= min_delta = 0.0. New best score: 0.546\n",
      "Epoch 23, global step 8448: 'val_acc' reached 0.54608 (best 0.54608), saving model to 'c:\\\\Users\\\\Owner\\\\Documents\\\\MMA\\\\MULTI TASK\\\\Final Project\\\\lightning_logs\\\\version_62\\\\checkpoints\\\\best-checkpoint.ckpt' as top 1\n"
     ]
    },
    {
     "name": "stdout",
     "output_type": "stream",
     "text": [
      "Epoch 24: 100%|██████████| 352/352 [38:07<00:00,  0.15it/s, v_num=62, train_loss_step=0.102, train_acc_step=0.954, val_loss=7.230, val_acc=0.509, train_loss_epoch=0.0959, train_acc_epoch=0.970] "
     ]
    },
    {
     "name": "stderr",
     "output_type": "stream",
     "text": [
      "Epoch 24, global step 8800: 'val_acc' was not in top 1\n"
     ]
    },
    {
     "name": "stdout",
     "output_type": "stream",
     "text": [
      "Epoch 25: 100%|██████████| 352/352 [37:44<00:00,  0.16it/s, v_num=62, train_loss_step=0.0774, train_acc_step=0.983, val_loss=2.630, val_acc=0.549, train_loss_epoch=0.115, train_acc_epoch=0.964] "
     ]
    },
    {
     "name": "stderr",
     "output_type": "stream",
     "text": [
      "Metric val_acc improved by 0.003 >= min_delta = 0.0. New best score: 0.549\n",
      "Epoch 25, global step 9152: 'val_acc' reached 0.54898 (best 0.54898), saving model to 'c:\\\\Users\\\\Owner\\\\Documents\\\\MMA\\\\MULTI TASK\\\\Final Project\\\\lightning_logs\\\\version_62\\\\checkpoints\\\\best-checkpoint.ckpt' as top 1\n"
     ]
    },
    {
     "name": "stdout",
     "output_type": "stream",
     "text": [
      "Epoch 26: 100%|██████████| 352/352 [48:53<00:00,  0.12it/s, v_num=62, train_loss_step=0.216, train_acc_step=0.871, val_loss=3.330, val_acc=0.522, train_loss_epoch=0.132, train_acc_epoch=0.959]  "
     ]
    },
    {
     "name": "stderr",
     "output_type": "stream",
     "text": [
      "Epoch 26, global step 9504: 'val_acc' was not in top 1\n"
     ]
    },
    {
     "name": "stdout",
     "output_type": "stream",
     "text": [
      "Epoch 27: 100%|██████████| 352/352 [48:05<00:00,  0.12it/s, v_num=62, train_loss_step=0.0987, train_acc_step=0.974, val_loss=2.540, val_acc=0.545, train_loss_epoch=0.145, train_acc_epoch=0.954]"
     ]
    },
    {
     "name": "stderr",
     "output_type": "stream",
     "text": [
      "Epoch 27, global step 9856: 'val_acc' was not in top 1\n"
     ]
    },
    {
     "name": "stdout",
     "output_type": "stream",
     "text": [
      "Epoch 28: 100%|██████████| 352/352 [46:35<00:00,  0.13it/s, v_num=62, train_loss_step=0.163, train_acc_step=0.889, val_loss=3.800, val_acc=0.523, train_loss_epoch=0.147, train_acc_epoch=0.953]  "
     ]
    },
    {
     "name": "stderr",
     "output_type": "stream",
     "text": [
      "Epoch 28, global step 10208: 'val_acc' was not in top 1\n"
     ]
    },
    {
     "name": "stdout",
     "output_type": "stream",
     "text": [
      "Epoch 29: 100%|██████████| 352/352 [1:28:37<00:00,  0.07it/s, v_num=62, train_loss_step=0.0823, train_acc_step=0.972, val_loss=4.570, val_acc=0.551, train_loss_epoch=0.124, train_acc_epoch=0.960]"
     ]
    },
    {
     "name": "stderr",
     "output_type": "stream",
     "text": [
      "Metric val_acc improved by 0.002 >= min_delta = 0.0. New best score: 0.551\n",
      "Epoch 29, global step 10560: 'val_acc' reached 0.55066 (best 0.55066), saving model to 'c:\\\\Users\\\\Owner\\\\Documents\\\\MMA\\\\MULTI TASK\\\\Final Project\\\\lightning_logs\\\\version_62\\\\checkpoints\\\\best-checkpoint.ckpt' as top 1\n"
     ]
    },
    {
     "name": "stdout",
     "output_type": "stream",
     "text": [
      "Epoch 30: 100%|██████████| 352/352 [1:46:40<00:00,  0.05it/s, v_num=62, train_loss_step=0.224, train_acc_step=0.876, val_loss=2.760, val_acc=0.520, train_loss_epoch=0.186, train_acc_epoch=0.942]    "
     ]
    },
    {
     "name": "stderr",
     "output_type": "stream",
     "text": [
      "Epoch 30, global step 10912: 'val_acc' was not in top 1\n"
     ]
    },
    {
     "name": "stdout",
     "output_type": "stream",
     "text": [
      "Epoch 31: 100%|██████████| 352/352 [49:31<00:00,  0.12it/s, v_num=62, train_loss_step=0.192, train_acc_step=0.946, val_loss=3.430, val_acc=0.524, train_loss_epoch=0.152, train_acc_epoch=0.951]  "
     ]
    },
    {
     "name": "stderr",
     "output_type": "stream",
     "text": [
      "Epoch 31, global step 11264: 'val_acc' was not in top 1\n"
     ]
    },
    {
     "name": "stdout",
     "output_type": "stream",
     "text": [
      "Epoch 32: 100%|██████████| 352/352 [43:50<00:00,  0.13it/s, v_num=62, train_loss_step=0.00939, train_acc_step=1.000, val_loss=3.130, val_acc=0.550, train_loss_epoch=0.0531, train_acc_epoch=0.985]"
     ]
    },
    {
     "name": "stderr",
     "output_type": "stream",
     "text": [
      "Epoch 32, global step 11616: 'val_acc' was not in top 1\n"
     ]
    },
    {
     "name": "stdout",
     "output_type": "stream",
     "text": [
      "Epoch 33: 100%|██████████| 352/352 [55:18<00:00,  0.11it/s, v_num=62, train_loss_step=0.108, train_acc_step=0.882, val_loss=3.540, val_acc=0.545, train_loss_epoch=0.0352, train_acc_epoch=0.990]  "
     ]
    },
    {
     "name": "stderr",
     "output_type": "stream",
     "text": [
      "Epoch 33, global step 11968: 'val_acc' was not in top 1\n"
     ]
    },
    {
     "name": "stdout",
     "output_type": "stream",
     "text": [
      "Epoch 34: 100%|██████████| 352/352 [51:38<00:00,  0.11it/s, v_num=62, train_loss_step=0.303, train_acc_step=0.921, val_loss=3.300, val_acc=0.478, train_loss_epoch=0.0706, train_acc_epoch=0.979]   "
     ]
    },
    {
     "name": "stderr",
     "output_type": "stream",
     "text": [
      "Epoch 34, global step 12320: 'val_acc' was not in top 1\n"
     ]
    },
    {
     "name": "stdout",
     "output_type": "stream",
     "text": [
      "Epoch 35: 100%|██████████| 352/352 [50:45<00:00,  0.12it/s, v_num=62, train_loss_step=0.186, train_acc_step=0.926, val_loss=2.980, val_acc=0.537, train_loss_epoch=0.141, train_acc_epoch=0.955]  "
     ]
    },
    {
     "name": "stderr",
     "output_type": "stream",
     "text": [
      "Epoch 35, global step 12672: 'val_acc' was not in top 1\n"
     ]
    },
    {
     "name": "stdout",
     "output_type": "stream",
     "text": [
      "Epoch 36: 100%|██████████| 352/352 [51:40<00:00,  0.11it/s, v_num=62, train_loss_step=0.0805, train_acc_step=0.961, val_loss=2.550, val_acc=0.542, train_loss_epoch=0.103, train_acc_epoch=0.969] "
     ]
    },
    {
     "name": "stderr",
     "output_type": "stream",
     "text": [
      "Epoch 36, global step 13024: 'val_acc' was not in top 1\n"
     ]
    },
    {
     "name": "stdout",
     "output_type": "stream",
     "text": [
      "Epoch 37: 100%|██████████| 352/352 [1:52:53<00:00,  0.05it/s, v_num=62, train_loss_step=0.0146, train_acc_step=1.000, val_loss=2.640, val_acc=0.556, train_loss_epoch=0.117, train_acc_epoch=0.963]"
     ]
    },
    {
     "name": "stderr",
     "output_type": "stream",
     "text": [
      "Metric val_acc improved by 0.005 >= min_delta = 0.0. New best score: 0.556\n",
      "Epoch 37, global step 13376: 'val_acc' reached 0.55557 (best 0.55557), saving model to 'c:\\\\Users\\\\Owner\\\\Documents\\\\MMA\\\\MULTI TASK\\\\Final Project\\\\lightning_logs\\\\version_62\\\\checkpoints\\\\best-checkpoint.ckpt' as top 1\n"
     ]
    },
    {
     "name": "stdout",
     "output_type": "stream",
     "text": [
      "Epoch 38: 100%|██████████| 352/352 [49:29<00:00,  0.12it/s, v_num=62, train_loss_step=0.107, train_acc_step=0.947, val_loss=2.790, val_acc=0.533, train_loss_epoch=0.0684, train_acc_epoch=0.980]  "
     ]
    },
    {
     "name": "stderr",
     "output_type": "stream",
     "text": [
      "Epoch 38, global step 13728: 'val_acc' was not in top 1\n"
     ]
    },
    {
     "name": "stdout",
     "output_type": "stream",
     "text": [
      "Epoch 39: 100%|██████████| 352/352 [53:05<00:00,  0.11it/s, v_num=62, train_loss_step=0.0303, train_acc_step=0.971, val_loss=3.250, val_acc=0.540, train_loss_epoch=0.0655, train_acc_epoch=0.979] "
     ]
    },
    {
     "name": "stderr",
     "output_type": "stream",
     "text": [
      "Epoch 39, global step 14080: 'val_acc' was not in top 1\n"
     ]
    },
    {
     "name": "stdout",
     "output_type": "stream",
     "text": [
      "Epoch 40: 100%|██████████| 352/352 [52:01<00:00,  0.11it/s, v_num=62, train_loss_step=0.110, train_acc_step=0.923, val_loss=2.820, val_acc=0.543, train_loss_epoch=0.174, train_acc_epoch=0.946]    "
     ]
    },
    {
     "name": "stderr",
     "output_type": "stream",
     "text": [
      "Epoch 40, global step 14432: 'val_acc' was not in top 1\n"
     ]
    },
    {
     "name": "stdout",
     "output_type": "stream",
     "text": [
      "Epoch 41: 100%|██████████| 352/352 [1:00:39<00:00,  0.10it/s, v_num=62, train_loss_step=0.0244, train_acc_step=1.000, val_loss=2.790, val_acc=0.547, train_loss_epoch=0.0622, train_acc_epoch=0.981]"
     ]
    },
    {
     "name": "stderr",
     "output_type": "stream",
     "text": [
      "Epoch 41, global step 14784: 'val_acc' was not in top 1\n"
     ]
    },
    {
     "name": "stdout",
     "output_type": "stream",
     "text": [
      "Epoch 42: 100%|██████████| 352/352 [51:06<00:00,  0.11it/s, v_num=62, train_loss_step=0.042, train_acc_step=0.974, val_loss=2.990, val_acc=0.548, train_loss_epoch=0.0304, train_acc_epoch=0.992]   "
     ]
    },
    {
     "name": "stderr",
     "output_type": "stream",
     "text": [
      "Epoch 42, global step 15136: 'val_acc' was not in top 1\n"
     ]
    },
    {
     "name": "stdout",
     "output_type": "stream",
     "text": [
      "Epoch 43: 100%|██████████| 352/352 [50:42<00:00,  0.12it/s, v_num=62, train_loss_step=0.0417, train_acc_step=0.981, val_loss=2.740, val_acc=0.543, train_loss_epoch=0.121, train_acc_epoch=0.962] "
     ]
    },
    {
     "name": "stderr",
     "output_type": "stream",
     "text": [
      "Epoch 43, global step 15488: 'val_acc' was not in top 1\n"
     ]
    },
    {
     "name": "stdout",
     "output_type": "stream",
     "text": [
      "Epoch 44: 100%|██████████| 352/352 [54:04<00:00,  0.11it/s, v_num=62, train_loss_step=0.0888, train_acc_step=0.941, val_loss=2.820, val_acc=0.548, train_loss_epoch=0.074, train_acc_epoch=0.977] "
     ]
    },
    {
     "name": "stderr",
     "output_type": "stream",
     "text": [
      "Epoch 44, global step 15840: 'val_acc' was not in top 1\n"
     ]
    },
    {
     "name": "stdout",
     "output_type": "stream",
     "text": [
      "Epoch 45: 100%|██████████| 352/352 [57:00<00:00,  0.10it/s, v_num=62, train_loss_step=0.0282, train_acc_step=0.971, val_loss=3.050, val_acc=0.550, train_loss_epoch=0.0435, train_acc_epoch=0.987]"
     ]
    },
    {
     "name": "stderr",
     "output_type": "stream",
     "text": [
      "Epoch 45, global step 16192: 'val_acc' was not in top 1\n"
     ]
    },
    {
     "name": "stdout",
     "output_type": "stream",
     "text": [
      "Epoch 46: 100%|██████████| 352/352 [54:44<00:00,  0.11it/s, v_num=62, train_loss_step=0.196, train_acc_step=0.895, val_loss=3.710, val_acc=0.522, train_loss_epoch=0.0505, train_acc_epoch=0.984]  "
     ]
    },
    {
     "name": "stderr",
     "output_type": "stream",
     "text": [
      "Epoch 46, global step 16544: 'val_acc' was not in top 1\n"
     ]
    },
    {
     "name": "stdout",
     "output_type": "stream",
     "text": [
      "Epoch 47: 100%|██████████| 352/352 [51:11<00:00,  0.11it/s, v_num=62, train_loss_step=0.147, train_acc_step=0.918, val_loss=2.920, val_acc=0.533, train_loss_epoch=0.128, train_acc_epoch=0.960]  "
     ]
    },
    {
     "name": "stderr",
     "output_type": "stream",
     "text": [
      "Monitored metric val_acc did not improve in the last 10 records. Best score: 0.556. Signaling Trainer to stop.\n",
      "Epoch 47, global step 16896: 'val_acc' was not in top 1\n"
     ]
    },
    {
     "name": "stdout",
     "output_type": "stream",
     "text": [
      "Epoch 47: 100%|██████████| 352/352 [51:11<00:00,  0.11it/s, v_num=62, train_loss_step=0.147, train_acc_step=0.918, val_loss=2.920, val_acc=0.533, train_loss_epoch=0.128, train_acc_epoch=0.960]\n"
     ]
    },
    {
     "ename": "AttributeError",
     "evalue": "'function' object has no attribute 'load_from_checkpoint'",
     "output_type": "error",
     "traceback": [
      "\u001b[1;31m---------------------------------------------------------------------------\u001b[0m",
      "\u001b[1;31mAttributeError\u001b[0m                            Traceback (most recent call last)",
      "Cell \u001b[1;32mIn[30], line 25\u001b[0m\n\u001b[0;32m     21\u001b[0m trainer\u001b[38;5;241m.\u001b[39mfit(model, datamodule\u001b[38;5;241m=\u001b[39mdata_module)\n\u001b[0;32m     24\u001b[0m best_model_path \u001b[38;5;241m=\u001b[39m checkpoint_callback\u001b[38;5;241m.\u001b[39mbest_model_path\n\u001b[1;32m---> 25\u001b[0m best_model \u001b[38;5;241m=\u001b[39m \u001b[43mResNet200\u001b[49m\u001b[38;5;241;43m.\u001b[39;49m\u001b[43mload_from_checkpoint\u001b[49m(best_model_path)\n\u001b[0;32m     27\u001b[0m trainer\u001b[38;5;241m.\u001b[39mtest(best_model, datamodule\u001b[38;5;241m=\u001b[39mdata_module)\n",
      "\u001b[1;31mAttributeError\u001b[0m: 'function' object has no attribute 'load_from_checkpoint'"
     ]
    }
   ],
   "source": [
    "early_stopping = EarlyStopping(\n",
    "    monitor='val_acc',\n",
    "    min_delta=0.00,\n",
    "    patience=10,\n",
    "    verbose=True,\n",
    "    mode='max'\n",
    ")\n",
    "\n",
    "checkpoint_callback = ModelCheckpoint(\n",
    "    monitor='val_acc',\n",
    "    filename='best-checkpoint',\n",
    "    save_top_k=1,\n",
    "    mode='max', \n",
    "    verbose=True\n",
    ")\n",
    "\n",
    "data_module = CIFAR100DataModule()\n",
    "model = ResNet200(num_classes=100, learning_rate=0.001)\n",
    "logger = TensorBoardLogger('C:/Users/Owner/Documents/MMA/MULTI TASK/Final Project/', name='cnn_logs')\n",
    "trainer = pl.Trainer(max_epochs=500, devices=1 if torch.cuda.is_available() else 0, callbacks=[early_stopping, checkpoint_callback])\n",
    "trainer.fit(model, datamodule=data_module)"
   ]
  },
  {
   "cell_type": "code",
   "execution_count": 34,
   "metadata": {},
   "outputs": [
    {
     "name": "stdout",
     "output_type": "stream",
     "text": [
      "Files already downloaded and verified\n",
      "Files already downloaded and verified\n"
     ]
    },
    {
     "name": "stderr",
     "output_type": "stream",
     "text": [
      "LOCAL_RANK: 0 - CUDA_VISIBLE_DEVICES: [0]\n"
     ]
    },
    {
     "name": "stdout",
     "output_type": "stream",
     "text": [
      "Testing DataLoader 0: 100%|██████████| 79/79 [00:09<00:00,  8.53it/s]\n"
     ]
    },
    {
     "data": {
      "text/html": [
       "<pre style=\"white-space:pre;overflow-x:auto;line-height:normal;font-family:Menlo,'DejaVu Sans Mono',consolas,'Courier New',monospace\">┏━━━━━━━━━━━━━━━━━━━━━━━━━━━┳━━━━━━━━━━━━━━━━━━━━━━━━━━━┓\n",
       "┃<span style=\"font-weight: bold\">        Test metric        </span>┃<span style=\"font-weight: bold\">       DataLoader 0        </span>┃\n",
       "┡━━━━━━━━━━━━━━━━━━━━━━━━━━━╇━━━━━━━━━━━━━━━━━━━━━━━━━━━┩\n",
       "│<span style=\"color: #008080; text-decoration-color: #008080\">         test_acc          </span>│<span style=\"color: #800080; text-decoration-color: #800080\">    0.5537999868392944     </span>│\n",
       "│<span style=\"color: #008080; text-decoration-color: #008080\">          test_f1          </span>│<span style=\"color: #800080; text-decoration-color: #800080\">    0.5511781573295593     </span>│\n",
       "│<span style=\"color: #008080; text-decoration-color: #008080\">         test_loss         </span>│<span style=\"color: #800080; text-decoration-color: #800080\">     2.614758253097534     </span>│\n",
       "│<span style=\"color: #008080; text-decoration-color: #008080\">      test_precision       </span>│<span style=\"color: #800080; text-decoration-color: #800080\">    0.5764963626861572     </span>│\n",
       "│<span style=\"color: #008080; text-decoration-color: #008080\">        test_recall        </span>│<span style=\"color: #800080; text-decoration-color: #800080\">    0.5537999868392944     </span>│\n",
       "└───────────────────────────┴───────────────────────────┘\n",
       "</pre>\n"
      ],
      "text/plain": [
       "┏━━━━━━━━━━━━━━━━━━━━━━━━━━━┳━━━━━━━━━━━━━━━━━━━━━━━━━━━┓\n",
       "┃\u001b[1m \u001b[0m\u001b[1m       Test metric       \u001b[0m\u001b[1m \u001b[0m┃\u001b[1m \u001b[0m\u001b[1m      DataLoader 0       \u001b[0m\u001b[1m \u001b[0m┃\n",
       "┡━━━━━━━━━━━━━━━━━━━━━━━━━━━╇━━━━━━━━━━━━━━━━━━━━━━━━━━━┩\n",
       "│\u001b[36m \u001b[0m\u001b[36m        test_acc         \u001b[0m\u001b[36m \u001b[0m│\u001b[35m \u001b[0m\u001b[35m   0.5537999868392944    \u001b[0m\u001b[35m \u001b[0m│\n",
       "│\u001b[36m \u001b[0m\u001b[36m         test_f1         \u001b[0m\u001b[36m \u001b[0m│\u001b[35m \u001b[0m\u001b[35m   0.5511781573295593    \u001b[0m\u001b[35m \u001b[0m│\n",
       "│\u001b[36m \u001b[0m\u001b[36m        test_loss        \u001b[0m\u001b[36m \u001b[0m│\u001b[35m \u001b[0m\u001b[35m    2.614758253097534    \u001b[0m\u001b[35m \u001b[0m│\n",
       "│\u001b[36m \u001b[0m\u001b[36m     test_precision      \u001b[0m\u001b[36m \u001b[0m│\u001b[35m \u001b[0m\u001b[35m   0.5764963626861572    \u001b[0m\u001b[35m \u001b[0m│\n",
       "│\u001b[36m \u001b[0m\u001b[36m       test_recall       \u001b[0m\u001b[36m \u001b[0m│\u001b[35m \u001b[0m\u001b[35m   0.5537999868392944    \u001b[0m\u001b[35m \u001b[0m│\n",
       "└───────────────────────────┴───────────────────────────┘\n"
      ]
     },
     "metadata": {},
     "output_type": "display_data"
    },
    {
     "data": {
      "text/plain": [
       "[{'test_loss': 2.614758253097534,\n",
       "  'test_acc': 0.5537999868392944,\n",
       "  'test_precision': 0.5764963626861572,\n",
       "  'test_recall': 0.5537999868392944,\n",
       "  'test_f1': 0.5511781573295593}]"
      ]
     },
     "execution_count": 34,
     "metadata": {},
     "output_type": "execute_result"
    }
   ],
   "source": [
    "def load_resnet200_from_checkpoint(checkpoint_path, num_classes=100, learning_rate=0.01):\n",
    "    model = ResNet200(num_classes=num_classes, learning_rate=learning_rate)\n",
    "    checkpoint = torch.load(checkpoint_path)\n",
    "    model.load_state_dict(checkpoint['state_dict'])\n",
    "    return model\n",
    "\n",
    "\n",
    "best_model_path = checkpoint_callback.best_model_path\n",
    "best_model = load_resnet200_from_checkpoint(best_model_path, num_classes=100, learning_rate=0.01)\n",
    "trainer.test(best_model, datamodule=data_module)"
   ]
  },
  {
   "cell_type": "code",
   "execution_count": 40,
   "metadata": {},
   "outputs": [],
   "source": [
    "class CIFAR10DataModule(pl.LightningDataModule):\n",
    "    def __init__(self, data_dir='./data', batch_size=128):\n",
    "        super().__init__()\n",
    "        self.data_dir = data_dir\n",
    "        self.batch_size = batch_size\n",
    "        self.transform = transforms.Compose([\n",
    "            transforms.ToTensor(),\n",
    "            transforms.Normalize((0.4914, 0.4822, 0.4465), (0.2023, 0.1994, 0.2010))\n",
    "        ])\n",
    "\n",
    "    def setup(self, stage=None):\n",
    "        # Load data\n",
    "        cifar10_train = datasets.CIFAR10(root=self.data_dir, train=True, download=True, transform=self.transform)\n",
    "        cifar10_test = datasets.CIFAR10(root=self.data_dir, train=False, download=True, transform=self.transform)\n",
    "\n",
    "        # Train/val split\n",
    "        self.train, self.val = random_split(cifar10_train, [45000, 5000])\n",
    "        self.test = cifar10_test\n",
    "\n",
    "    def train_dataloader(self):\n",
    "        return DataLoader(self.train, batch_size=self.batch_size, shuffle=True, num_workers=7, persistent_workers=True)\n",
    "\n",
    "    def val_dataloader(self):\n",
    "        return DataLoader(self.val, batch_size=self.batch_size, num_workers=7, persistent_workers=True)\n",
    "\n",
    "    def test_dataloader(self):\n",
    "        return DataLoader(self.test, batch_size=self.batch_size, num_workers=7, persistent_workers=True)\n",
    "\n",
    "\n",
    "\n",
    "def ResNet50(num_classes=10, learning_rate=0.01):\n",
    "    return ResNet(Bottleneck, [3, 4, 6, 3], num_classes, learning_rate)"
   ]
  },
  {
   "cell_type": "code",
   "execution_count": 41,
   "metadata": {},
   "outputs": [
    {
     "name": "stderr",
     "output_type": "stream",
     "text": [
      "GPU available: True (cuda), used: True\n",
      "TPU available: False, using: 0 TPU cores\n",
      "IPU available: False, using: 0 IPUs\n",
      "HPU available: False, using: 0 HPUs\n"
     ]
    },
    {
     "name": "stdout",
     "output_type": "stream",
     "text": [
      "Files already downloaded and verified\n",
      "Files already downloaded and verified\n"
     ]
    },
    {
     "name": "stderr",
     "output_type": "stream",
     "text": [
      "LOCAL_RANK: 0 - CUDA_VISIBLE_DEVICES: [0]\n",
      "\n",
      "   | Name           | Type                | Params\n",
      "--------------------------------------------------------\n",
      "0  | conv1          | Conv2d              | 1.7 K \n",
      "1  | bn1            | BatchNorm2d         | 128   \n",
      "2  | relu           | ReLU                | 0     \n",
      "3  | layer1         | Sequential          | 215 K \n",
      "4  | layer2         | Sequential          | 1.2 M \n",
      "5  | layer3         | Sequential          | 7.1 M \n",
      "6  | layer4         | Sequential          | 15.0 M\n",
      "7  | avgpool        | AdaptiveAvgPool2d   | 0     \n",
      "8  | fc             | Linear              | 20.5 K\n",
      "9  | train_acc      | MulticlassAccuracy  | 0     \n",
      "10 | val_acc        | MulticlassAccuracy  | 0     \n",
      "11 | test_acc       | MulticlassAccuracy  | 0     \n",
      "12 | test_precision | MulticlassPrecision | 0     \n",
      "13 | test_recall    | MulticlassRecall    | 0     \n",
      "14 | test_f1        | MulticlassF1Score   | 0     \n",
      "--------------------------------------------------------\n",
      "23.5 M    Trainable params\n",
      "0         Non-trainable params\n",
      "23.5 M    Total params\n",
      "94.083    Total estimated model params size (MB)\n"
     ]
    },
    {
     "name": "stdout",
     "output_type": "stream",
     "text": [
      "Epoch 0: 100%|██████████| 352/352 [00:42<00:00,  8.35it/s, v_num=64, train_loss_step=0.906, train_acc_step=0.711, val_loss=1.200, val_acc=0.563, train_loss_epoch=1.540, train_acc_epoch=0.442]"
     ]
    },
    {
     "name": "stderr",
     "output_type": "stream",
     "text": [
      "Metric val_acc improved. New best score: 0.563\n",
      "Epoch 0, global step 352: 'val_acc' reached 0.56255 (best 0.56255), saving model to 'c:\\\\Users\\\\Owner\\\\Documents\\\\MMA\\\\MULTI TASK\\\\Final Project\\\\lightning_logs\\\\version_64\\\\checkpoints\\\\best-checkpoint.ckpt' as top 1\n"
     ]
    },
    {
     "name": "stdout",
     "output_type": "stream",
     "text": [
      "Epoch 0:   0%|          | 0/352 [03:25<?, ?it/s]\n",
      "Epoch 1: 100%|██████████| 352/352 [00:42<00:00,  8.32it/s, v_num=64, train_loss_step=0.916, train_acc_step=0.704, val_loss=0.886, val_acc=0.687, train_loss_epoch=0.988, train_acc_epoch=0.648]"
     ]
    },
    {
     "name": "stderr",
     "output_type": "stream",
     "text": [
      "Metric val_acc improved by 0.124 >= min_delta = 0.0. New best score: 0.687\n",
      "Epoch 1, global step 704: 'val_acc' reached 0.68684 (best 0.68684), saving model to 'c:\\\\Users\\\\Owner\\\\Documents\\\\MMA\\\\MULTI TASK\\\\Final Project\\\\lightning_logs\\\\version_64\\\\checkpoints\\\\best-checkpoint.ckpt' as top 1\n"
     ]
    },
    {
     "name": "stdout",
     "output_type": "stream",
     "text": [
      "Epoch 2: 100%|██████████| 352/352 [00:42<00:00,  8.23it/s, v_num=64, train_loss_step=0.555, train_acc_step=0.771, val_loss=0.764, val_acc=0.740, train_loss_epoch=0.765, train_acc_epoch=0.727]"
     ]
    },
    {
     "name": "stderr",
     "output_type": "stream",
     "text": [
      "Metric val_acc improved by 0.054 >= min_delta = 0.0. New best score: 0.740\n",
      "Epoch 2, global step 1056: 'val_acc' reached 0.74036 (best 0.74036), saving model to 'c:\\\\Users\\\\Owner\\\\Documents\\\\MMA\\\\MULTI TASK\\\\Final Project\\\\lightning_logs\\\\version_64\\\\checkpoints\\\\best-checkpoint.ckpt' as top 1\n"
     ]
    },
    {
     "name": "stdout",
     "output_type": "stream",
     "text": [
      "Epoch 3: 100%|██████████| 352/352 [00:43<00:00,  8.18it/s, v_num=64, train_loss_step=0.579, train_acc_step=0.833, val_loss=0.879, val_acc=0.707, train_loss_epoch=0.619, train_acc_epoch=0.782]"
     ]
    },
    {
     "name": "stderr",
     "output_type": "stream",
     "text": [
      "Epoch 3, global step 1408: 'val_acc' was not in top 1\n"
     ]
    },
    {
     "name": "stdout",
     "output_type": "stream",
     "text": [
      "Epoch 4: 100%|██████████| 352/352 [00:42<00:00,  8.27it/s, v_num=64, train_loss_step=0.362, train_acc_step=0.918, val_loss=0.605, val_acc=0.796, train_loss_epoch=0.509, train_acc_epoch=0.824]"
     ]
    },
    {
     "name": "stderr",
     "output_type": "stream",
     "text": [
      "Metric val_acc improved by 0.056 >= min_delta = 0.0. New best score: 0.796\n",
      "Epoch 4, global step 1760: 'val_acc' reached 0.79593 (best 0.79593), saving model to 'c:\\\\Users\\\\Owner\\\\Documents\\\\MMA\\\\MULTI TASK\\\\Final Project\\\\lightning_logs\\\\version_64\\\\checkpoints\\\\best-checkpoint.ckpt' as top 1\n"
     ]
    },
    {
     "name": "stdout",
     "output_type": "stream",
     "text": [
      "Epoch 5: 100%|██████████| 352/352 [00:42<00:00,  8.25it/s, v_num=64, train_loss_step=0.417, train_acc_step=0.802, val_loss=0.732, val_acc=0.765, train_loss_epoch=0.411, train_acc_epoch=0.857]"
     ]
    },
    {
     "name": "stderr",
     "output_type": "stream",
     "text": [
      "Epoch 5, global step 2112: 'val_acc' was not in top 1\n"
     ]
    },
    {
     "name": "stdout",
     "output_type": "stream",
     "text": [
      "Epoch 6: 100%|██████████| 352/352 [00:42<00:00,  8.24it/s, v_num=64, train_loss_step=0.396, train_acc_step=0.861, val_loss=0.825, val_acc=0.771, train_loss_epoch=0.346, train_acc_epoch=0.878]"
     ]
    },
    {
     "name": "stderr",
     "output_type": "stream",
     "text": [
      "Epoch 6, global step 2464: 'val_acc' was not in top 1\n"
     ]
    },
    {
     "name": "stdout",
     "output_type": "stream",
     "text": [
      "Epoch 7: 100%|██████████| 352/352 [00:41<00:00,  8.57it/s, v_num=64, train_loss_step=0.231, train_acc_step=0.935, val_loss=0.583, val_acc=0.808, train_loss_epoch=0.289, train_acc_epoch=0.898]"
     ]
    },
    {
     "name": "stderr",
     "output_type": "stream",
     "text": [
      "Metric val_acc improved by 0.012 >= min_delta = 0.0. New best score: 0.808\n",
      "Epoch 7, global step 2816: 'val_acc' reached 0.80838 (best 0.80838), saving model to 'c:\\\\Users\\\\Owner\\\\Documents\\\\MMA\\\\MULTI TASK\\\\Final Project\\\\lightning_logs\\\\version_64\\\\checkpoints\\\\best-checkpoint.ckpt' as top 1\n"
     ]
    },
    {
     "name": "stdout",
     "output_type": "stream",
     "text": [
      "Epoch 8: 100%|██████████| 352/352 [00:40<00:00,  8.75it/s, v_num=64, train_loss_step=0.238, train_acc_step=0.881, val_loss=0.580, val_acc=0.816, train_loss_epoch=0.220, train_acc_epoch=0.922] "
     ]
    },
    {
     "name": "stderr",
     "output_type": "stream",
     "text": [
      "Metric val_acc improved by 0.008 >= min_delta = 0.0. New best score: 0.816\n",
      "Epoch 8, global step 3168: 'val_acc' reached 0.81625 (best 0.81625), saving model to 'c:\\\\Users\\\\Owner\\\\Documents\\\\MMA\\\\MULTI TASK\\\\Final Project\\\\lightning_logs\\\\version_64\\\\checkpoints\\\\best-checkpoint.ckpt' as top 1\n"
     ]
    },
    {
     "name": "stdout",
     "output_type": "stream",
     "text": [
      "Epoch 9: 100%|██████████| 352/352 [00:40<00:00,  8.76it/s, v_num=64, train_loss_step=0.296, train_acc_step=0.916, val_loss=0.758, val_acc=0.795, train_loss_epoch=0.173, train_acc_epoch=0.938] "
     ]
    },
    {
     "name": "stderr",
     "output_type": "stream",
     "text": [
      "Epoch 9, global step 3520: 'val_acc' was not in top 1\n"
     ]
    },
    {
     "name": "stdout",
     "output_type": "stream",
     "text": [
      "Epoch 10: 100%|██████████| 352/352 [00:40<00:00,  8.75it/s, v_num=64, train_loss_step=0.126, train_acc_step=0.953, val_loss=0.711, val_acc=0.805, train_loss_epoch=0.142, train_acc_epoch=0.949] "
     ]
    },
    {
     "name": "stderr",
     "output_type": "stream",
     "text": [
      "Epoch 10, global step 3872: 'val_acc' was not in top 1\n"
     ]
    },
    {
     "name": "stdout",
     "output_type": "stream",
     "text": [
      "Epoch 11: 100%|██████████| 352/352 [00:40<00:00,  8.76it/s, v_num=64, train_loss_step=0.194, train_acc_step=0.936, val_loss=0.764, val_acc=0.807, train_loss_epoch=0.123, train_acc_epoch=0.956] "
     ]
    },
    {
     "name": "stderr",
     "output_type": "stream",
     "text": [
      "Epoch 11, global step 4224: 'val_acc' was not in top 1\n"
     ]
    },
    {
     "name": "stdout",
     "output_type": "stream",
     "text": [
      "Epoch 12: 100%|██████████| 352/352 [00:40<00:00,  8.75it/s, v_num=64, train_loss_step=0.169, train_acc_step=0.944, val_loss=0.709, val_acc=0.823, train_loss_epoch=0.106, train_acc_epoch=0.962] "
     ]
    },
    {
     "name": "stderr",
     "output_type": "stream",
     "text": [
      "Metric val_acc improved by 0.007 >= min_delta = 0.0. New best score: 0.823\n",
      "Epoch 12, global step 4576: 'val_acc' reached 0.82325 (best 0.82325), saving model to 'c:\\\\Users\\\\Owner\\\\Documents\\\\MMA\\\\MULTI TASK\\\\Final Project\\\\lightning_logs\\\\version_64\\\\checkpoints\\\\best-checkpoint.ckpt' as top 1\n"
     ]
    },
    {
     "name": "stdout",
     "output_type": "stream",
     "text": [
      "Epoch 13: 100%|██████████| 352/352 [00:40<00:00,  8.72it/s, v_num=64, train_loss_step=0.136, train_acc_step=0.956, val_loss=0.788, val_acc=0.812, train_loss_epoch=0.0972, train_acc_epoch=0.966]"
     ]
    },
    {
     "name": "stderr",
     "output_type": "stream",
     "text": [
      "Epoch 13, global step 4928: 'val_acc' was not in top 1\n"
     ]
    },
    {
     "name": "stdout",
     "output_type": "stream",
     "text": [
      "Epoch 14: 100%|██████████| 352/352 [00:40<00:00,  8.75it/s, v_num=64, train_loss_step=0.0924, train_acc_step=0.966, val_loss=0.670, val_acc=0.836, train_loss_epoch=0.109, train_acc_epoch=0.962] "
     ]
    },
    {
     "name": "stderr",
     "output_type": "stream",
     "text": [
      "Metric val_acc improved by 0.012 >= min_delta = 0.0. New best score: 0.836\n",
      "Epoch 14, global step 5280: 'val_acc' reached 0.83574 (best 0.83574), saving model to 'c:\\\\Users\\\\Owner\\\\Documents\\\\MMA\\\\MULTI TASK\\\\Final Project\\\\lightning_logs\\\\version_64\\\\checkpoints\\\\best-checkpoint.ckpt' as top 1\n"
     ]
    },
    {
     "name": "stdout",
     "output_type": "stream",
     "text": [
      "Epoch 15: 100%|██████████| 352/352 [00:40<00:00,  8.70it/s, v_num=64, train_loss_step=0.231, train_acc_step=0.910, val_loss=0.750, val_acc=0.832, train_loss_epoch=0.0579, train_acc_epoch=0.980] "
     ]
    },
    {
     "name": "stderr",
     "output_type": "stream",
     "text": [
      "Epoch 15, global step 5632: 'val_acc' was not in top 1\n"
     ]
    },
    {
     "name": "stdout",
     "output_type": "stream",
     "text": [
      "Epoch 16: 100%|██████████| 352/352 [00:40<00:00,  8.76it/s, v_num=64, train_loss_step=0.0536, train_acc_step=0.964, val_loss=0.850, val_acc=0.820, train_loss_epoch=0.0586, train_acc_epoch=0.980] "
     ]
    },
    {
     "name": "stderr",
     "output_type": "stream",
     "text": [
      "Epoch 16, global step 5984: 'val_acc' was not in top 1\n"
     ]
    },
    {
     "name": "stdout",
     "output_type": "stream",
     "text": [
      "Epoch 17: 100%|██████████| 352/352 [00:40<00:00,  8.73it/s, v_num=64, train_loss_step=0.0445, train_acc_step=0.950, val_loss=0.852, val_acc=0.823, train_loss_epoch=0.058, train_acc_epoch=0.980]  "
     ]
    },
    {
     "name": "stderr",
     "output_type": "stream",
     "text": [
      "Epoch 17, global step 6336: 'val_acc' was not in top 1\n"
     ]
    },
    {
     "name": "stdout",
     "output_type": "stream",
     "text": [
      "Epoch 18: 100%|██████████| 352/352 [00:40<00:00,  8.74it/s, v_num=64, train_loss_step=0.122, train_acc_step=0.959, val_loss=0.821, val_acc=0.825, train_loss_epoch=0.065, train_acc_epoch=0.978]  "
     ]
    },
    {
     "name": "stderr",
     "output_type": "stream",
     "text": [
      "Epoch 18, global step 6688: 'val_acc' was not in top 1\n"
     ]
    },
    {
     "name": "stdout",
     "output_type": "stream",
     "text": [
      "Epoch 19: 100%|██████████| 352/352 [00:40<00:00,  8.74it/s, v_num=64, train_loss_step=0.137, train_acc_step=0.948, val_loss=0.830, val_acc=0.823, train_loss_epoch=0.0506, train_acc_epoch=0.982] "
     ]
    },
    {
     "name": "stderr",
     "output_type": "stream",
     "text": [
      "Epoch 19, global step 7040: 'val_acc' was not in top 1\n"
     ]
    },
    {
     "name": "stdout",
     "output_type": "stream",
     "text": [
      "Epoch 20: 100%|██████████| 352/352 [00:40<00:00,  8.73it/s, v_num=64, train_loss_step=0.106, train_acc_step=0.950, val_loss=0.762, val_acc=0.845, train_loss_epoch=0.0488, train_acc_epoch=0.983]  "
     ]
    },
    {
     "name": "stderr",
     "output_type": "stream",
     "text": [
      "Metric val_acc improved by 0.010 >= min_delta = 0.0. New best score: 0.845\n",
      "Epoch 20, global step 7392: 'val_acc' reached 0.84532 (best 0.84532), saving model to 'c:\\\\Users\\\\Owner\\\\Documents\\\\MMA\\\\MULTI TASK\\\\Final Project\\\\lightning_logs\\\\version_64\\\\checkpoints\\\\best-checkpoint.ckpt' as top 1\n"
     ]
    },
    {
     "name": "stdout",
     "output_type": "stream",
     "text": [
      "Epoch 21: 100%|██████████| 352/352 [00:40<00:00,  8.68it/s, v_num=64, train_loss_step=0.0545, train_acc_step=0.966, val_loss=0.771, val_acc=0.832, train_loss_epoch=0.0472, train_acc_epoch=0.984] "
     ]
    },
    {
     "name": "stderr",
     "output_type": "stream",
     "text": [
      "Epoch 21, global step 7744: 'val_acc' was not in top 1\n"
     ]
    },
    {
     "name": "stdout",
     "output_type": "stream",
     "text": [
      "Epoch 22: 100%|██████████| 352/352 [00:40<00:00,  8.75it/s, v_num=64, train_loss_step=0.146, train_acc_step=0.952, val_loss=0.801, val_acc=0.835, train_loss_epoch=0.0755, train_acc_epoch=0.975]  "
     ]
    },
    {
     "name": "stderr",
     "output_type": "stream",
     "text": [
      "Epoch 22, global step 8096: 'val_acc' was not in top 1\n"
     ]
    },
    {
     "name": "stdout",
     "output_type": "stream",
     "text": [
      "Epoch 23: 100%|██████████| 352/352 [00:40<00:00,  8.73it/s, v_num=64, train_loss_step=0.0312, train_acc_step=0.988, val_loss=0.763, val_acc=0.844, train_loss_epoch=0.0354, train_acc_epoch=0.988] "
     ]
    },
    {
     "name": "stderr",
     "output_type": "stream",
     "text": [
      "Epoch 23, global step 8448: 'val_acc' was not in top 1\n"
     ]
    },
    {
     "name": "stdout",
     "output_type": "stream",
     "text": [
      "Epoch 24: 100%|██████████| 352/352 [00:40<00:00,  8.72it/s, v_num=64, train_loss_step=0.0373, train_acc_step=0.989, val_loss=0.803, val_acc=0.837, train_loss_epoch=0.0469, train_acc_epoch=0.984] "
     ]
    },
    {
     "name": "stderr",
     "output_type": "stream",
     "text": [
      "Epoch 24, global step 8800: 'val_acc' was not in top 1\n"
     ]
    },
    {
     "name": "stdout",
     "output_type": "stream",
     "text": [
      "Epoch 25: 100%|██████████| 352/352 [00:40<00:00,  8.66it/s, v_num=64, train_loss_step=0.015, train_acc_step=0.987, val_loss=0.844, val_acc=0.839, train_loss_epoch=0.0246, train_acc_epoch=0.991]   "
     ]
    },
    {
     "name": "stderr",
     "output_type": "stream",
     "text": [
      "Epoch 25, global step 9152: 'val_acc' was not in top 1\n"
     ]
    },
    {
     "name": "stdout",
     "output_type": "stream",
     "text": [
      "Epoch 26: 100%|██████████| 352/352 [00:40<00:00,  8.65it/s, v_num=64, train_loss_step=0.137, train_acc_step=0.977, val_loss=0.864, val_acc=0.830, train_loss_epoch=0.0374, train_acc_epoch=0.987]  "
     ]
    },
    {
     "name": "stderr",
     "output_type": "stream",
     "text": [
      "Epoch 26, global step 9504: 'val_acc' was not in top 1\n"
     ]
    },
    {
     "name": "stdout",
     "output_type": "stream",
     "text": [
      "Epoch 27: 100%|██████████| 352/352 [00:40<00:00,  8.64it/s, v_num=64, train_loss_step=0.157, train_acc_step=0.950, val_loss=0.847, val_acc=0.839, train_loss_epoch=0.0419, train_acc_epoch=0.985]  "
     ]
    },
    {
     "name": "stderr",
     "output_type": "stream",
     "text": [
      "Epoch 27, global step 9856: 'val_acc' was not in top 1\n"
     ]
    },
    {
     "name": "stdout",
     "output_type": "stream",
     "text": [
      "Epoch 28: 100%|██████████| 352/352 [00:40<00:00,  8.64it/s, v_num=64, train_loss_step=0.0546, train_acc_step=0.986, val_loss=0.774, val_acc=0.852, train_loss_epoch=0.0361, train_acc_epoch=0.987] "
     ]
    },
    {
     "name": "stderr",
     "output_type": "stream",
     "text": [
      "Metric val_acc improved by 0.006 >= min_delta = 0.0. New best score: 0.852\n",
      "Epoch 28, global step 10208: 'val_acc' reached 0.85154 (best 0.85154), saving model to 'c:\\\\Users\\\\Owner\\\\Documents\\\\MMA\\\\MULTI TASK\\\\Final Project\\\\lightning_logs\\\\version_64\\\\checkpoints\\\\best-checkpoint.ckpt' as top 1\n"
     ]
    },
    {
     "name": "stdout",
     "output_type": "stream",
     "text": [
      "Epoch 29: 100%|██████████| 352/352 [00:40<00:00,  8.59it/s, v_num=64, train_loss_step=0.00419, train_acc_step=1.000, val_loss=0.927, val_acc=0.832, train_loss_epoch=0.0201, train_acc_epoch=0.993] "
     ]
    },
    {
     "name": "stderr",
     "output_type": "stream",
     "text": [
      "Epoch 29, global step 10560: 'val_acc' was not in top 1\n"
     ]
    },
    {
     "name": "stdout",
     "output_type": "stream",
     "text": [
      "Epoch 30: 100%|██████████| 352/352 [00:40<00:00,  8.61it/s, v_num=64, train_loss_step=0.116, train_acc_step=0.981, val_loss=0.980, val_acc=0.805, train_loss_epoch=0.0416, train_acc_epoch=0.986]  "
     ]
    },
    {
     "name": "stderr",
     "output_type": "stream",
     "text": [
      "Epoch 30, global step 10912: 'val_acc' was not in top 1\n"
     ]
    },
    {
     "name": "stdout",
     "output_type": "stream",
     "text": [
      "Epoch 31: 100%|██████████| 352/352 [00:40<00:00,  8.77it/s, v_num=64, train_loss_step=0.0205, train_acc_step=1.000, val_loss=0.815, val_acc=0.836, train_loss_epoch=0.041, train_acc_epoch=0.986]  "
     ]
    },
    {
     "name": "stderr",
     "output_type": "stream",
     "text": [
      "Epoch 31, global step 11264: 'val_acc' was not in top 1\n"
     ]
    },
    {
     "name": "stdout",
     "output_type": "stream",
     "text": [
      "Epoch 32: 100%|██████████| 352/352 [00:40<00:00,  8.75it/s, v_num=64, train_loss_step=0.0146, train_acc_step=0.990, val_loss=1.050, val_acc=0.815, train_loss_epoch=0.0226, train_acc_epoch=0.992] "
     ]
    },
    {
     "name": "stderr",
     "output_type": "stream",
     "text": [
      "Epoch 32, global step 11616: 'val_acc' was not in top 1\n"
     ]
    },
    {
     "name": "stdout",
     "output_type": "stream",
     "text": [
      "Epoch 33: 100%|██████████| 352/352 [00:40<00:00,  8.77it/s, v_num=64, train_loss_step=0.0893, train_acc_step=0.993, val_loss=0.890, val_acc=0.841, train_loss_epoch=0.0284, train_acc_epoch=0.990]  "
     ]
    },
    {
     "name": "stderr",
     "output_type": "stream",
     "text": [
      "Epoch 33, global step 11968: 'val_acc' was not in top 1\n"
     ]
    },
    {
     "name": "stdout",
     "output_type": "stream",
     "text": [
      "Epoch 34: 100%|██████████| 352/352 [00:40<00:00,  8.76it/s, v_num=64, train_loss_step=0.0395, train_acc_step=0.973, val_loss=0.990, val_acc=0.826, train_loss_epoch=0.0245, train_acc_epoch=0.991]  "
     ]
    },
    {
     "name": "stderr",
     "output_type": "stream",
     "text": [
      "Epoch 34, global step 12320: 'val_acc' was not in top 1\n"
     ]
    },
    {
     "name": "stdout",
     "output_type": "stream",
     "text": [
      "Epoch 35: 100%|██████████| 352/352 [00:40<00:00,  8.76it/s, v_num=64, train_loss_step=0.105, train_acc_step=0.967, val_loss=0.797, val_acc=0.841, train_loss_epoch=0.0411, train_acc_epoch=0.986]  "
     ]
    },
    {
     "name": "stderr",
     "output_type": "stream",
     "text": [
      "Epoch 35, global step 12672: 'val_acc' was not in top 1\n"
     ]
    },
    {
     "name": "stdout",
     "output_type": "stream",
     "text": [
      "Epoch 36: 100%|██████████| 352/352 [00:40<00:00,  8.76it/s, v_num=64, train_loss_step=0.166, train_acc_step=0.960, val_loss=0.907, val_acc=0.832, train_loss_epoch=0.0209, train_acc_epoch=0.992]   "
     ]
    },
    {
     "name": "stderr",
     "output_type": "stream",
     "text": [
      "Epoch 36, global step 13024: 'val_acc' was not in top 1\n"
     ]
    },
    {
     "name": "stdout",
     "output_type": "stream",
     "text": [
      "Epoch 37: 100%|██████████| 352/352 [00:40<00:00,  8.75it/s, v_num=64, train_loss_step=0.00235, train_acc_step=1.000, val_loss=0.853, val_acc=0.851, train_loss_epoch=0.0209, train_acc_epoch=0.993] "
     ]
    },
    {
     "name": "stderr",
     "output_type": "stream",
     "text": [
      "Epoch 37, global step 13376: 'val_acc' was not in top 1\n"
     ]
    },
    {
     "name": "stdout",
     "output_type": "stream",
     "text": [
      "Epoch 38: 100%|██████████| 352/352 [00:40<00:00,  8.76it/s, v_num=64, train_loss_step=0.015, train_acc_step=0.990, val_loss=0.888, val_acc=0.852, train_loss_epoch=0.0137, train_acc_epoch=0.995]   "
     ]
    },
    {
     "name": "stderr",
     "output_type": "stream",
     "text": [
      "Metric val_acc improved by 0.000 >= min_delta = 0.0. New best score: 0.852\n",
      "Epoch 38, global step 13728: 'val_acc' reached 0.85188 (best 0.85188), saving model to 'c:\\\\Users\\\\Owner\\\\Documents\\\\MMA\\\\MULTI TASK\\\\Final Project\\\\lightning_logs\\\\version_64\\\\checkpoints\\\\best-checkpoint.ckpt' as top 1\n"
     ]
    },
    {
     "name": "stdout",
     "output_type": "stream",
     "text": [
      "Epoch 39: 100%|██████████| 352/352 [00:40<00:00,  8.73it/s, v_num=64, train_loss_step=0.0122, train_acc_step=1.000, val_loss=0.898, val_acc=0.837, train_loss_epoch=0.0411, train_acc_epoch=0.985] "
     ]
    },
    {
     "name": "stderr",
     "output_type": "stream",
     "text": [
      "Epoch 39, global step 14080: 'val_acc' was not in top 1\n"
     ]
    },
    {
     "name": "stdout",
     "output_type": "stream",
     "text": [
      "Epoch 40: 100%|██████████| 352/352 [00:40<00:00,  8.73it/s, v_num=64, train_loss_step=0.0338, train_acc_step=0.990, val_loss=0.770, val_acc=0.848, train_loss_epoch=0.0589, train_acc_epoch=0.981] "
     ]
    },
    {
     "name": "stderr",
     "output_type": "stream",
     "text": [
      "Epoch 40, global step 14432: 'val_acc' was not in top 1\n"
     ]
    },
    {
     "name": "stdout",
     "output_type": "stream",
     "text": [
      "Epoch 41: 100%|██████████| 352/352 [00:40<00:00,  8.76it/s, v_num=64, train_loss_step=0.000576, train_acc_step=1.000, val_loss=0.794, val_acc=0.855, train_loss_epoch=0.0103, train_acc_epoch=0.997]"
     ]
    },
    {
     "name": "stderr",
     "output_type": "stream",
     "text": [
      "Metric val_acc improved by 0.003 >= min_delta = 0.0. New best score: 0.855\n",
      "Epoch 41, global step 14784: 'val_acc' reached 0.85503 (best 0.85503), saving model to 'c:\\\\Users\\\\Owner\\\\Documents\\\\MMA\\\\MULTI TASK\\\\Final Project\\\\lightning_logs\\\\version_64\\\\checkpoints\\\\best-checkpoint.ckpt' as top 1\n"
     ]
    },
    {
     "name": "stdout",
     "output_type": "stream",
     "text": [
      "Epoch 42: 100%|██████████| 352/352 [00:40<00:00,  8.75it/s, v_num=64, train_loss_step=0.0106, train_acc_step=1.000, val_loss=0.794, val_acc=0.858, train_loss_epoch=0.00221, train_acc_epoch=1.000] "
     ]
    },
    {
     "name": "stderr",
     "output_type": "stream",
     "text": [
      "Metric val_acc improved by 0.003 >= min_delta = 0.0. New best score: 0.858\n",
      "Epoch 42, global step 15136: 'val_acc' reached 0.85768 (best 0.85768), saving model to 'c:\\\\Users\\\\Owner\\\\Documents\\\\MMA\\\\MULTI TASK\\\\Final Project\\\\lightning_logs\\\\version_64\\\\checkpoints\\\\best-checkpoint.ckpt' as top 1\n"
     ]
    },
    {
     "name": "stdout",
     "output_type": "stream",
     "text": [
      "Epoch 43: 100%|██████████| 352/352 [00:40<00:00,  8.71it/s, v_num=64, train_loss_step=0.00688, train_acc_step=1.000, val_loss=0.798, val_acc=0.866, train_loss_epoch=0.00291, train_acc_epoch=0.999] "
     ]
    },
    {
     "name": "stderr",
     "output_type": "stream",
     "text": [
      "Metric val_acc improved by 0.009 >= min_delta = 0.0. New best score: 0.866\n",
      "Epoch 43, global step 15488: 'val_acc' reached 0.86630 (best 0.86630), saving model to 'c:\\\\Users\\\\Owner\\\\Documents\\\\MMA\\\\MULTI TASK\\\\Final Project\\\\lightning_logs\\\\version_64\\\\checkpoints\\\\best-checkpoint.ckpt' as top 1\n"
     ]
    },
    {
     "name": "stdout",
     "output_type": "stream",
     "text": [
      "Epoch 44: 100%|██████████| 352/352 [00:40<00:00,  8.71it/s, v_num=64, train_loss_step=0.015, train_acc_step=1.000, val_loss=0.976, val_acc=0.822, train_loss_epoch=0.0355, train_acc_epoch=0.988]    "
     ]
    },
    {
     "name": "stderr",
     "output_type": "stream",
     "text": [
      "Epoch 44, global step 15840: 'val_acc' was not in top 1\n"
     ]
    },
    {
     "name": "stdout",
     "output_type": "stream",
     "text": [
      "Epoch 45: 100%|██████████| 352/352 [00:40<00:00,  8.75it/s, v_num=64, train_loss_step=0.0755, train_acc_step=0.971, val_loss=0.827, val_acc=0.847, train_loss_epoch=0.0349, train_acc_epoch=0.988] "
     ]
    },
    {
     "name": "stderr",
     "output_type": "stream",
     "text": [
      "Epoch 45, global step 16192: 'val_acc' was not in top 1\n"
     ]
    },
    {
     "name": "stdout",
     "output_type": "stream",
     "text": [
      "Epoch 46: 100%|██████████| 352/352 [00:40<00:00,  8.76it/s, v_num=64, train_loss_step=0.000891, train_acc_step=1.000, val_loss=0.847, val_acc=0.852, train_loss_epoch=0.0174, train_acc_epoch=0.994]"
     ]
    },
    {
     "name": "stderr",
     "output_type": "stream",
     "text": [
      "Epoch 46, global step 16544: 'val_acc' was not in top 1\n"
     ]
    },
    {
     "name": "stdout",
     "output_type": "stream",
     "text": [
      "Epoch 47: 100%|██████████| 352/352 [00:40<00:00,  8.78it/s, v_num=64, train_loss_step=0.0185, train_acc_step=0.983, val_loss=0.855, val_acc=0.854, train_loss_epoch=0.00755, train_acc_epoch=0.997] "
     ]
    },
    {
     "name": "stderr",
     "output_type": "stream",
     "text": [
      "Epoch 47, global step 16896: 'val_acc' was not in top 1\n"
     ]
    },
    {
     "name": "stdout",
     "output_type": "stream",
     "text": [
      "Epoch 48: 100%|██████████| 352/352 [00:40<00:00,  8.75it/s, v_num=64, train_loss_step=0.014, train_acc_step=1.000, val_loss=0.822, val_acc=0.844, train_loss_epoch=0.0407, train_acc_epoch=0.986]    "
     ]
    },
    {
     "name": "stderr",
     "output_type": "stream",
     "text": [
      "Epoch 48, global step 17248: 'val_acc' was not in top 1\n"
     ]
    },
    {
     "name": "stdout",
     "output_type": "stream",
     "text": [
      "Epoch 49: 100%|██████████| 352/352 [00:40<00:00,  8.76it/s, v_num=64, train_loss_step=0.00209, train_acc_step=1.000, val_loss=0.959, val_acc=0.842, train_loss_epoch=0.0184, train_acc_epoch=0.994] "
     ]
    },
    {
     "name": "stderr",
     "output_type": "stream",
     "text": [
      "Epoch 49, global step 17600: 'val_acc' was not in top 1\n"
     ]
    },
    {
     "name": "stdout",
     "output_type": "stream",
     "text": [
      "Epoch 50: 100%|██████████| 352/352 [00:40<00:00,  8.73it/s, v_num=64, train_loss_step=0.033, train_acc_step=0.980, val_loss=0.842, val_acc=0.854, train_loss_epoch=0.00537, train_acc_epoch=0.998]  "
     ]
    },
    {
     "name": "stderr",
     "output_type": "stream",
     "text": [
      "Epoch 50, global step 17952: 'val_acc' was not in top 1\n"
     ]
    },
    {
     "name": "stdout",
     "output_type": "stream",
     "text": [
      "Epoch 51: 100%|██████████| 352/352 [00:40<00:00,  8.74it/s, v_num=64, train_loss_step=0.0169, train_acc_step=1.000, val_loss=0.992, val_acc=0.833, train_loss_epoch=0.0138, train_acc_epoch=0.995]   "
     ]
    },
    {
     "name": "stderr",
     "output_type": "stream",
     "text": [
      "Epoch 51, global step 18304: 'val_acc' was not in top 1\n"
     ]
    },
    {
     "name": "stdout",
     "output_type": "stream",
     "text": [
      "Epoch 52: 100%|██████████| 352/352 [00:40<00:00,  8.75it/s, v_num=64, train_loss_step=0.0391, train_acc_step=0.995, val_loss=1.010, val_acc=0.831, train_loss_epoch=0.0224, train_acc_epoch=0.992]  "
     ]
    },
    {
     "name": "stderr",
     "output_type": "stream",
     "text": [
      "Epoch 52, global step 18656: 'val_acc' was not in top 1\n"
     ]
    },
    {
     "name": "stdout",
     "output_type": "stream",
     "text": [
      "Epoch 53: 100%|██████████| 352/352 [00:40<00:00,  8.74it/s, v_num=64, train_loss_step=0.00162, train_acc_step=1.000, val_loss=0.899, val_acc=0.847, train_loss_epoch=0.0243, train_acc_epoch=0.992] "
     ]
    },
    {
     "name": "stderr",
     "output_type": "stream",
     "text": [
      "Monitored metric val_acc did not improve in the last 10 records. Best score: 0.866. Signaling Trainer to stop.\n",
      "Epoch 53, global step 19008: 'val_acc' was not in top 1\n"
     ]
    },
    {
     "name": "stdout",
     "output_type": "stream",
     "text": [
      "Epoch 53: 100%|██████████| 352/352 [00:40<00:00,  8.74it/s, v_num=64, train_loss_step=0.00162, train_acc_step=1.000, val_loss=0.899, val_acc=0.847, train_loss_epoch=0.0243, train_acc_epoch=0.992]\n"
     ]
    }
   ],
   "source": [
    "early_stopping = EarlyStopping(\n",
    "    monitor='val_acc',\n",
    "    min_delta=0.00,\n",
    "    patience=10,\n",
    "    verbose=True,\n",
    "    mode='max'\n",
    ")\n",
    "\n",
    "checkpoint_callback = ModelCheckpoint(\n",
    "    monitor='val_acc',\n",
    "    filename='best-checkpoint',\n",
    "    save_top_k=1,\n",
    "    mode='max', \n",
    "    verbose=True\n",
    ")\n",
    "\n",
    "data_module = CIFAR10DataModule()\n",
    "model = ResNet50(num_classes=10, learning_rate=0.001)\n",
    "logger = TensorBoardLogger('C:/Users/Owner/Documents/MMA/MULTI TASK/Final Project/', name='cnn2_logs')\n",
    "trainer = pl.Trainer(max_epochs=500, devices=1 if torch.cuda.is_available() else 0, callbacks=[early_stopping, checkpoint_callback])\n",
    "trainer.fit(model, datamodule=data_module)"
   ]
  },
  {
   "cell_type": "code",
   "execution_count": 44,
   "metadata": {},
   "outputs": [
    {
     "name": "stdout",
     "output_type": "stream",
     "text": [
      "Files already downloaded and verified\n",
      "Files already downloaded and verified\n"
     ]
    },
    {
     "name": "stderr",
     "output_type": "stream",
     "text": [
      "LOCAL_RANK: 0 - CUDA_VISIBLE_DEVICES: [0]\n"
     ]
    },
    {
     "name": "stdout",
     "output_type": "stream",
     "text": [
      "Testing DataLoader 0: 100%|██████████| 79/79 [00:03<00:00, 23.26it/s]\n"
     ]
    },
    {
     "data": {
      "text/html": [
       "<pre style=\"white-space:pre;overflow-x:auto;line-height:normal;font-family:Menlo,'DejaVu Sans Mono',consolas,'Courier New',monospace\">┏━━━━━━━━━━━━━━━━━━━━━━━━━━━┳━━━━━━━━━━━━━━━━━━━━━━━━━━━┓\n",
       "┃<span style=\"font-weight: bold\">        Test metric        </span>┃<span style=\"font-weight: bold\">       DataLoader 0        </span>┃\n",
       "┡━━━━━━━━━━━━━━━━━━━━━━━━━━━╇━━━━━━━━━━━━━━━━━━━━━━━━━━━┩\n",
       "│<span style=\"color: #008080; text-decoration-color: #008080\">         test_acc          </span>│<span style=\"color: #800080; text-decoration-color: #800080\">    0.8579999804496765     </span>│\n",
       "│<span style=\"color: #008080; text-decoration-color: #008080\">          test_f1          </span>│<span style=\"color: #800080; text-decoration-color: #800080\">    0.8572114109992981     </span>│\n",
       "│<span style=\"color: #008080; text-decoration-color: #008080\">         test_loss         </span>│<span style=\"color: #800080; text-decoration-color: #800080\">    0.8349453806877136     </span>│\n",
       "│<span style=\"color: #008080; text-decoration-color: #008080\">      test_precision       </span>│<span style=\"color: #800080; text-decoration-color: #800080\">    0.8574167490005493     </span>│\n",
       "│<span style=\"color: #008080; text-decoration-color: #008080\">        test_recall        </span>│<span style=\"color: #800080; text-decoration-color: #800080\">    0.8579999804496765     </span>│\n",
       "└───────────────────────────┴───────────────────────────┘\n",
       "</pre>\n"
      ],
      "text/plain": [
       "┏━━━━━━━━━━━━━━━━━━━━━━━━━━━┳━━━━━━━━━━━━━━━━━━━━━━━━━━━┓\n",
       "┃\u001b[1m \u001b[0m\u001b[1m       Test metric       \u001b[0m\u001b[1m \u001b[0m┃\u001b[1m \u001b[0m\u001b[1m      DataLoader 0       \u001b[0m\u001b[1m \u001b[0m┃\n",
       "┡━━━━━━━━━━━━━━━━━━━━━━━━━━━╇━━━━━━━━━━━━━━━━━━━━━━━━━━━┩\n",
       "│\u001b[36m \u001b[0m\u001b[36m        test_acc         \u001b[0m\u001b[36m \u001b[0m│\u001b[35m \u001b[0m\u001b[35m   0.8579999804496765    \u001b[0m\u001b[35m \u001b[0m│\n",
       "│\u001b[36m \u001b[0m\u001b[36m         test_f1         \u001b[0m\u001b[36m \u001b[0m│\u001b[35m \u001b[0m\u001b[35m   0.8572114109992981    \u001b[0m\u001b[35m \u001b[0m│\n",
       "│\u001b[36m \u001b[0m\u001b[36m        test_loss        \u001b[0m\u001b[36m \u001b[0m│\u001b[35m \u001b[0m\u001b[35m   0.8349453806877136    \u001b[0m\u001b[35m \u001b[0m│\n",
       "│\u001b[36m \u001b[0m\u001b[36m     test_precision      \u001b[0m\u001b[36m \u001b[0m│\u001b[35m \u001b[0m\u001b[35m   0.8574167490005493    \u001b[0m\u001b[35m \u001b[0m│\n",
       "│\u001b[36m \u001b[0m\u001b[36m       test_recall       \u001b[0m\u001b[36m \u001b[0m│\u001b[35m \u001b[0m\u001b[35m   0.8579999804496765    \u001b[0m\u001b[35m \u001b[0m│\n",
       "└───────────────────────────┴───────────────────────────┘\n"
      ]
     },
     "metadata": {},
     "output_type": "display_data"
    },
    {
     "data": {
      "text/plain": [
       "[{'test_loss': 0.8349453806877136,\n",
       "  'test_acc': 0.8579999804496765,\n",
       "  'test_precision': 0.8574167490005493,\n",
       "  'test_recall': 0.8579999804496765,\n",
       "  'test_f1': 0.8572114109992981}]"
      ]
     },
     "execution_count": 44,
     "metadata": {},
     "output_type": "execute_result"
    }
   ],
   "source": [
    "def load_resnet50_from_checkpoint(checkpoint_path, num_classes=10, learning_rate=0.01):\n",
    "    model = ResNet50(num_classes=num_classes, learning_rate=learning_rate)\n",
    "    checkpoint = torch.load(checkpoint_path)\n",
    "    model.load_state_dict(checkpoint['state_dict'])\n",
    "    return model\n",
    "\n",
    "\n",
    "best_model_path = checkpoint_callback.best_model_path\n",
    "best_model = load_resnet50_from_checkpoint(best_model_path, num_classes=10, learning_rate=0.01)\n",
    "trainer.test(best_model, datamodule=data_module)"
   ]
  }
 ],
 "metadata": {
  "kernelspec": {
   "display_name": ".venv",
   "language": "python",
   "name": "python3"
  },
  "language_info": {
   "codemirror_mode": {
    "name": "ipython",
    "version": 3
   },
   "file_extension": ".py",
   "mimetype": "text/x-python",
   "name": "python",
   "nbconvert_exporter": "python",
   "pygments_lexer": "ipython3",
   "version": "3.11.8"
  }
 },
 "nbformat": 4,
 "nbformat_minor": 2
}
