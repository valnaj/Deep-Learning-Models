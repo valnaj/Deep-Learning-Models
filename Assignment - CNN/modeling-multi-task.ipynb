{
 "cells": [
  {
   "cell_type": "code",
   "execution_count": 1,
   "metadata": {},
   "outputs": [
    {
     "name": "stdout",
     "output_type": "stream",
     "text": [
      "CUDA is available\n",
      "cuDNN is available\n",
      "Device is set to: cuda\n"
     ]
    }
   ],
   "source": [
    "import pandas as pd\n",
    "import numpy as np\n",
    "import seaborn as sns\n",
    "\n",
    "import torch\n",
    "import torch.nn as nn\n",
    "import pytorch_lightning as pl\n",
    "from pytorch_lightning.callbacks import ModelCheckpoint, EarlyStopping, DeviceStatsMonitor\n",
    "from pytorch_lightning.profilers import AdvancedProfiler\n",
    "from pytorch_lightning import Trainer\n",
    "from torchmetrics.functional import accuracy, mean_squared_error\n",
    "from torch.utils.data import DataLoader, TensorDataset, random_split\n",
    "\n",
    "\n",
    "import os\n",
    "os.environ['KMP_DUPLICATE_LIB_OK'] = 'TRUE'  # otherwise plotting will cause kerner to die\n",
    "os.environ[\"CUDA_LAUNCH_BLOCKING\"] = \"1\"\n",
    "\n",
    "\n",
    "import sys\n",
    "import matplotlib.pyplot as plt\n",
    "\n",
    "# see if CUDA is available\n",
    "if torch.cuda.is_available():\n",
    "    print(\"CUDA is available\")\n",
    "\n",
    "# see if cuDNN is available\n",
    "if torch.backends.cudnn.enabled:\n",
    "    print(\"cuDNN is available\")\n",
    "\n",
    "# set the device\n",
    "device = torch.device(\"cuda\" if torch.cuda.is_available() else \"cpu\")\n",
    "print(\"Device is set to:\", device)"
   ]
  },
  {
   "cell_type": "markdown",
   "metadata": {},
   "source": [
    "# Preprocessing"
   ]
  },
  {
   "cell_type": "code",
   "execution_count": 2,
   "metadata": {},
   "outputs": [],
   "source": [
    "from sklearn.base import BaseEstimator, TransformerMixin\n",
    "from sklearn.impute import KNNImputer\n",
    "\n",
    "class HouseCategoryCreator(BaseEstimator, TransformerMixin):\n",
    "    def fit(self, X, y=None):\n",
    "        return self\n",
    "\n",
    "    def transform(self, X):\n",
    "        X = X.copy()\n",
    "        X['HouseCategory'] = X.apply(lambda row: self.categorize_house(row), axis=1)\n",
    "        return X\n",
    "\n",
    "    @staticmethod\n",
    "    def categorize_house(row):\n",
    "        latest_year = max(row['YearBuilt'], row['YearRemodAdd'])\n",
    "        current_year = 2010  # Use a fixed current year\n",
    "        if latest_year >= current_year - 20:\n",
    "            age_category = 'Recent'\n",
    "        elif latest_year >= current_year - 50:\n",
    "            age_category = 'Modern'\n",
    "        else:\n",
    "            age_category = 'Historic'\n",
    "        house_style = 'Single' if row['HouseStyle'] in ['1Story', '1.5Fin', '1.5Unf'] else 'Multi-Storey'\n",
    "        bldg_type = '1Fam' if row['BldgType'] == '1Fam' else ('Townhouse' if row['BldgType'] in ['TwnhsE', 'Twnhs'] else 'Multi-Family')\n",
    "        return f\"{age_category}_{house_style}_{bldg_type}\"\n",
    "    \n",
    "\n",
    "class BinaryConverter(BaseEstimator, TransformerMixin):\n",
    "    def __init__(self, columns):\n",
    "        self.columns = columns\n",
    "\n",
    "    def fit(self, X, y=None):\n",
    "        return self\n",
    "\n",
    "    def transform(self, X):\n",
    "        X = X.copy()\n",
    "        for column in self.columns:\n",
    "            X[column] = (X[column] > 0).astype(int)\n",
    "        return X\n",
    "\n",
    "class PorchCombiner(BaseEstimator, TransformerMixin):\n",
    "    def fit(self, X, y=None):\n",
    "        return self\n",
    "\n",
    "    def transform(self, X):\n",
    "        X = X.copy()\n",
    "        X['ClosedPorch'] = X['EnclosedPorch'] + X['OpenPorchSF'] + X['3SsnPorch']\n",
    "        return X\n",
    "    \n",
    "class ReplaceNaNwithNone(BaseEstimator, TransformerMixin):\n",
    "    def __init__(self, columns):\n",
    "        self.columns = columns\n",
    "\n",
    "    def fit(self, X, y=None):\n",
    "        return self\n",
    "\n",
    "    def transform(self, X):\n",
    "        X = X.copy()\n",
    "        for column in self.columns:\n",
    "            X[column] = X[column].fillna('None')\n",
    "        return X\n",
    "\n",
    "class DropNullRows(BaseEstimator, TransformerMixin):\n",
    "    def __init__(self, column):\n",
    "        self.column = column\n",
    "\n",
    "    def fit(self, X, y=None):\n",
    "        return self\n",
    "\n",
    "    def transform(self, X):\n",
    "        X = X.copy()\n",
    "        return X.dropna(subset=[self.column])\n",
    "    \n",
    "class DropColumns(BaseEstimator, TransformerMixin):\n",
    "    def __init__(self, columns):\n",
    "        self.columns = columns\n",
    "\n",
    "    def fit(self, X, y=None):\n",
    "        return self\n",
    "\n",
    "    def transform(self, X):\n",
    "        X = X.copy()\n",
    "        X.drop(self.columns, axis=1, errors='ignore', inplace=True)\n",
    "        return X\n",
    "    \n",
    "class CustomKNNImputer(BaseEstimator, TransformerMixin):\n",
    "    def __init__(self, columns, n_neighbors=5):\n",
    "        self.columns = columns\n",
    "        self.n_neighbors = n_neighbors\n",
    "        self.imputer = KNNImputer(n_neighbors=self.n_neighbors)\n",
    "\n",
    "    def fit(self, X, y=None):\n",
    "        self.imputer.fit(X[self.columns])\n",
    "        return self\n",
    "\n",
    "    def transform(self, X):\n",
    "        X = X.copy()\n",
    "        X.loc[:, self.columns] = self.imputer.transform(X[self.columns])\n",
    "        return X\n",
    "    \n",
    "class CustomFeatureEngineer(BaseEstimator, TransformerMixin):\n",
    "    def fit(self, X, y=None):\n",
    "        return self\n",
    "\n",
    "    def transform(self, X):\n",
    "        X = X.copy()\n",
    "        #X['HouseAge'] = X['YrSold'] - X['YearBuilt']\n",
    "        #X['YearsSinceRemodel'] = X['YrSold'] - X['YearRemodAdd']\n",
    "        X['TotalSqFeet'] = X['1stFlrSF'] + X['2ndFlrSF'] + X['TotalBsmtSF']\n",
    "        X['TotalBathrooms'] = X['BsmtFullBath'] + 0.5 * X['BsmtHalfBath'] + X['FullBath'] + 0.5 * X['HalfBath']\n",
    "        X['AreaQuality'] = X['GrLivArea'] * X['OverallQual']\n",
    "        return X\n",
    "\n",
    "class DebugTransformer(BaseEstimator, TransformerMixin):\n",
    "    \"\"\" A transformer for debugging the pipeline by printing the DataFrame shape and column names. \"\"\"\n",
    "    def fit(self, X, y=None):\n",
    "        return self\n",
    "\n",
    "    def transform(self, X):\n",
    "        print(\"DataFrame shape:\", X.shape)\n",
    "        print(\"Columns:\", X.columns.tolist())\n",
    "        return X"
   ]
  },
  {
   "cell_type": "code",
   "execution_count": 3,
   "metadata": {},
   "outputs": [],
   "source": [
    "from sklearn.pipeline import make_pipeline, Pipeline\n",
    "from sklearn.compose import ColumnTransformer\n",
    "from sklearn.preprocessing import StandardScaler\n",
    "\n",
    "numerical_cols_to_scale = [\n",
    "    'LotFrontage', 'LotArea', 'OverallQual', 'OverallCond', 'MasVnrArea', \n",
    "    'BsmtFinSF1', 'BsmtUnfSF', 'TotalBsmtSF', '1stFlrSF', '2ndFlrSF', \n",
    "    'GrLivArea', 'BsmtFullBath', 'BsmtHalfBath', 'FullBath', 'HalfBath', \n",
    "    'BedroomAbvGr', 'KitchenAbvGr', 'TotRmsAbvGrd', 'Fireplaces', \n",
    "    'GarageYrBlt', 'GarageCars', 'GarageArea', 'WoodDeckSF', 'ScreenPorch', \n",
    "    'MoSold', 'YrSold', 'ClosedPorch', #'HouseAge', 'YearsSinceRemodel',\n",
    "    'TotalSqFeet', 'TotalBathrooms', 'AreaQuality', 'MiscVal','PoolArea',\n",
    "    'LowQualFinSF', 'BsmtFinSF2'\n",
    "]\n",
    "\n",
    "no_scaling_cols = ['MSZoning','Street','LotShape','LandContour','Utilities','LotConfig',\n",
    "                    'LandSlope','Neighborhood','Condition1','Condition2','RoofStyle','RoofMatl',\n",
    "                    'Exterior1st','Exterior2nd','MasVnrType','ExterQual','ExterCond','Foundation',\n",
    "                    'BsmtQual','BsmtCond','BsmtExposure','BsmtFinType1','BsmtFinType2',\n",
    "                    'Heating','HeatingQC','CentralAir','KitchenQual','Functional',\n",
    "                    'FireplaceQu','GarageType','GarageFinish','GarageQual','GarageCond','PavedDrive',\n",
    "                    'SaleType','SaleCondition','HouseCategory', 'SalePrice']\n",
    "\n",
    "pipeline = Pipeline([\n",
    "    ('feature_engineering', CustomFeatureEngineer()),\n",
    "    ('drop_null_rows', DropNullRows(column='Electrical')),  \n",
    "    ('create_house_category', HouseCategoryCreator()),\n",
    "    ('replace_nan_with_none', ReplaceNaNwithNone(columns=[\n",
    "        'GarageType', 'MasVnrType', 'FireplaceQu', 'GarageFinish', 'GarageQual', \n",
    "        'GarageCond', 'BsmtQual', 'BsmtCond', 'BsmtExposure', 'BsmtFinType1', 'BsmtFinType2'\n",
    "    ])),\n",
    "    ('convert_to_binary', BinaryConverter(columns=['LowQualFinSF', 'BsmtFinSF2', 'PoolArea', 'MiscVal'])),\n",
    "    ('combine_porch', PorchCombiner()),\n",
    "    ('drop_columns', DropColumns(columns=[\n",
    "        'Id', 'MSSubClass', 'Electrical', 'HouseStyle', 'BldgType', \n",
    "        'YearBuilt', 'YearRemodAdd', 'Alley', 'PoolQC', 'Fence', \n",
    "        'MiscFeature','EnclosedPorch', 'OpenPorchSF', '3SsnPorch'\n",
    "    ])),\n",
    "    ('final_processing', ColumnTransformer([\n",
    "        ('num', Pipeline([\n",
    "            ('impute', KNNImputer(n_neighbors=5))\n",
    "            #,('scale', StandardScaler())\n",
    "        ]), numerical_cols_to_scale),\n",
    "        ('pass', 'passthrough', no_scaling_cols)\n",
    "    ], remainder='passthrough'))\n",
    "])"
   ]
  },
  {
   "cell_type": "code",
   "execution_count": 4,
   "metadata": {},
   "outputs": [
    {
     "data": {
      "text/html": [
       "<div>\n",
       "<style scoped>\n",
       "    .dataframe tbody tr th:only-of-type {\n",
       "        vertical-align: middle;\n",
       "    }\n",
       "\n",
       "    .dataframe tbody tr th {\n",
       "        vertical-align: top;\n",
       "    }\n",
       "\n",
       "    .dataframe thead th {\n",
       "        text-align: right;\n",
       "    }\n",
       "</style>\n",
       "<table border=\"1\" class=\"dataframe\">\n",
       "  <thead>\n",
       "    <tr style=\"text-align: right;\">\n",
       "      <th></th>\n",
       "      <th>Id</th>\n",
       "      <th>MSSubClass</th>\n",
       "      <th>MSZoning</th>\n",
       "      <th>LotFrontage</th>\n",
       "      <th>LotArea</th>\n",
       "      <th>Street</th>\n",
       "      <th>Alley</th>\n",
       "      <th>LotShape</th>\n",
       "      <th>LandContour</th>\n",
       "      <th>Utilities</th>\n",
       "      <th>LotConfig</th>\n",
       "      <th>LandSlope</th>\n",
       "      <th>Neighborhood</th>\n",
       "      <th>Condition1</th>\n",
       "      <th>Condition2</th>\n",
       "      <th>BldgType</th>\n",
       "      <th>HouseStyle</th>\n",
       "      <th>OverallQual</th>\n",
       "      <th>OverallCond</th>\n",
       "      <th>YearBuilt</th>\n",
       "      <th>YearRemodAdd</th>\n",
       "      <th>RoofStyle</th>\n",
       "      <th>RoofMatl</th>\n",
       "      <th>Exterior1st</th>\n",
       "      <th>Exterior2nd</th>\n",
       "      <th>MasVnrType</th>\n",
       "      <th>MasVnrArea</th>\n",
       "      <th>ExterQual</th>\n",
       "      <th>ExterCond</th>\n",
       "      <th>Foundation</th>\n",
       "      <th>BsmtQual</th>\n",
       "      <th>BsmtCond</th>\n",
       "      <th>BsmtExposure</th>\n",
       "      <th>BsmtFinType1</th>\n",
       "      <th>BsmtFinSF1</th>\n",
       "      <th>BsmtFinType2</th>\n",
       "      <th>BsmtFinSF2</th>\n",
       "      <th>BsmtUnfSF</th>\n",
       "      <th>TotalBsmtSF</th>\n",
       "      <th>Heating</th>\n",
       "      <th>HeatingQC</th>\n",
       "      <th>CentralAir</th>\n",
       "      <th>Electrical</th>\n",
       "      <th>1stFlrSF</th>\n",
       "      <th>2ndFlrSF</th>\n",
       "      <th>LowQualFinSF</th>\n",
       "      <th>GrLivArea</th>\n",
       "      <th>BsmtFullBath</th>\n",
       "      <th>BsmtHalfBath</th>\n",
       "      <th>FullBath</th>\n",
       "      <th>HalfBath</th>\n",
       "      <th>BedroomAbvGr</th>\n",
       "      <th>KitchenAbvGr</th>\n",
       "      <th>KitchenQual</th>\n",
       "      <th>TotRmsAbvGrd</th>\n",
       "      <th>Functional</th>\n",
       "      <th>Fireplaces</th>\n",
       "      <th>FireplaceQu</th>\n",
       "      <th>GarageType</th>\n",
       "      <th>GarageYrBlt</th>\n",
       "      <th>GarageFinish</th>\n",
       "      <th>GarageCars</th>\n",
       "      <th>GarageArea</th>\n",
       "      <th>GarageQual</th>\n",
       "      <th>GarageCond</th>\n",
       "      <th>PavedDrive</th>\n",
       "      <th>WoodDeckSF</th>\n",
       "      <th>OpenPorchSF</th>\n",
       "      <th>EnclosedPorch</th>\n",
       "      <th>3SsnPorch</th>\n",
       "      <th>ScreenPorch</th>\n",
       "      <th>PoolArea</th>\n",
       "      <th>PoolQC</th>\n",
       "      <th>Fence</th>\n",
       "      <th>MiscFeature</th>\n",
       "      <th>MiscVal</th>\n",
       "      <th>MoSold</th>\n",
       "      <th>YrSold</th>\n",
       "      <th>SaleType</th>\n",
       "      <th>SaleCondition</th>\n",
       "      <th>SalePrice</th>\n",
       "    </tr>\n",
       "  </thead>\n",
       "  <tbody>\n",
       "    <tr>\n",
       "      <th>0</th>\n",
       "      <td>1</td>\n",
       "      <td>60</td>\n",
       "      <td>RL</td>\n",
       "      <td>65.0</td>\n",
       "      <td>8450</td>\n",
       "      <td>Pave</td>\n",
       "      <td>NaN</td>\n",
       "      <td>Reg</td>\n",
       "      <td>Lvl</td>\n",
       "      <td>AllPub</td>\n",
       "      <td>Inside</td>\n",
       "      <td>Gtl</td>\n",
       "      <td>CollgCr</td>\n",
       "      <td>Norm</td>\n",
       "      <td>Norm</td>\n",
       "      <td>1Fam</td>\n",
       "      <td>2Story</td>\n",
       "      <td>7</td>\n",
       "      <td>5</td>\n",
       "      <td>2003</td>\n",
       "      <td>2003</td>\n",
       "      <td>Gable</td>\n",
       "      <td>CompShg</td>\n",
       "      <td>VinylSd</td>\n",
       "      <td>VinylSd</td>\n",
       "      <td>BrkFace</td>\n",
       "      <td>196.0</td>\n",
       "      <td>Gd</td>\n",
       "      <td>TA</td>\n",
       "      <td>PConc</td>\n",
       "      <td>Gd</td>\n",
       "      <td>TA</td>\n",
       "      <td>No</td>\n",
       "      <td>GLQ</td>\n",
       "      <td>706</td>\n",
       "      <td>Unf</td>\n",
       "      <td>0</td>\n",
       "      <td>150</td>\n",
       "      <td>856</td>\n",
       "      <td>GasA</td>\n",
       "      <td>Ex</td>\n",
       "      <td>Y</td>\n",
       "      <td>SBrkr</td>\n",
       "      <td>856</td>\n",
       "      <td>854</td>\n",
       "      <td>0</td>\n",
       "      <td>1710</td>\n",
       "      <td>1</td>\n",
       "      <td>0</td>\n",
       "      <td>2</td>\n",
       "      <td>1</td>\n",
       "      <td>3</td>\n",
       "      <td>1</td>\n",
       "      <td>Gd</td>\n",
       "      <td>8</td>\n",
       "      <td>Typ</td>\n",
       "      <td>0</td>\n",
       "      <td>NaN</td>\n",
       "      <td>Attchd</td>\n",
       "      <td>2003.0</td>\n",
       "      <td>RFn</td>\n",
       "      <td>2</td>\n",
       "      <td>548</td>\n",
       "      <td>TA</td>\n",
       "      <td>TA</td>\n",
       "      <td>Y</td>\n",
       "      <td>0</td>\n",
       "      <td>61</td>\n",
       "      <td>0</td>\n",
       "      <td>0</td>\n",
       "      <td>0</td>\n",
       "      <td>0</td>\n",
       "      <td>NaN</td>\n",
       "      <td>NaN</td>\n",
       "      <td>NaN</td>\n",
       "      <td>0</td>\n",
       "      <td>2</td>\n",
       "      <td>2008</td>\n",
       "      <td>WD</td>\n",
       "      <td>Normal</td>\n",
       "      <td>208500</td>\n",
       "    </tr>\n",
       "    <tr>\n",
       "      <th>1</th>\n",
       "      <td>2</td>\n",
       "      <td>20</td>\n",
       "      <td>RL</td>\n",
       "      <td>80.0</td>\n",
       "      <td>9600</td>\n",
       "      <td>Pave</td>\n",
       "      <td>NaN</td>\n",
       "      <td>Reg</td>\n",
       "      <td>Lvl</td>\n",
       "      <td>AllPub</td>\n",
       "      <td>FR2</td>\n",
       "      <td>Gtl</td>\n",
       "      <td>Veenker</td>\n",
       "      <td>Feedr</td>\n",
       "      <td>Norm</td>\n",
       "      <td>1Fam</td>\n",
       "      <td>1Story</td>\n",
       "      <td>6</td>\n",
       "      <td>8</td>\n",
       "      <td>1976</td>\n",
       "      <td>1976</td>\n",
       "      <td>Gable</td>\n",
       "      <td>CompShg</td>\n",
       "      <td>MetalSd</td>\n",
       "      <td>MetalSd</td>\n",
       "      <td>NaN</td>\n",
       "      <td>0.0</td>\n",
       "      <td>TA</td>\n",
       "      <td>TA</td>\n",
       "      <td>CBlock</td>\n",
       "      <td>Gd</td>\n",
       "      <td>TA</td>\n",
       "      <td>Gd</td>\n",
       "      <td>ALQ</td>\n",
       "      <td>978</td>\n",
       "      <td>Unf</td>\n",
       "      <td>0</td>\n",
       "      <td>284</td>\n",
       "      <td>1262</td>\n",
       "      <td>GasA</td>\n",
       "      <td>Ex</td>\n",
       "      <td>Y</td>\n",
       "      <td>SBrkr</td>\n",
       "      <td>1262</td>\n",
       "      <td>0</td>\n",
       "      <td>0</td>\n",
       "      <td>1262</td>\n",
       "      <td>0</td>\n",
       "      <td>1</td>\n",
       "      <td>2</td>\n",
       "      <td>0</td>\n",
       "      <td>3</td>\n",
       "      <td>1</td>\n",
       "      <td>TA</td>\n",
       "      <td>6</td>\n",
       "      <td>Typ</td>\n",
       "      <td>1</td>\n",
       "      <td>TA</td>\n",
       "      <td>Attchd</td>\n",
       "      <td>1976.0</td>\n",
       "      <td>RFn</td>\n",
       "      <td>2</td>\n",
       "      <td>460</td>\n",
       "      <td>TA</td>\n",
       "      <td>TA</td>\n",
       "      <td>Y</td>\n",
       "      <td>298</td>\n",
       "      <td>0</td>\n",
       "      <td>0</td>\n",
       "      <td>0</td>\n",
       "      <td>0</td>\n",
       "      <td>0</td>\n",
       "      <td>NaN</td>\n",
       "      <td>NaN</td>\n",
       "      <td>NaN</td>\n",
       "      <td>0</td>\n",
       "      <td>5</td>\n",
       "      <td>2007</td>\n",
       "      <td>WD</td>\n",
       "      <td>Normal</td>\n",
       "      <td>181500</td>\n",
       "    </tr>\n",
       "    <tr>\n",
       "      <th>2</th>\n",
       "      <td>3</td>\n",
       "      <td>60</td>\n",
       "      <td>RL</td>\n",
       "      <td>68.0</td>\n",
       "      <td>11250</td>\n",
       "      <td>Pave</td>\n",
       "      <td>NaN</td>\n",
       "      <td>IR1</td>\n",
       "      <td>Lvl</td>\n",
       "      <td>AllPub</td>\n",
       "      <td>Inside</td>\n",
       "      <td>Gtl</td>\n",
       "      <td>CollgCr</td>\n",
       "      <td>Norm</td>\n",
       "      <td>Norm</td>\n",
       "      <td>1Fam</td>\n",
       "      <td>2Story</td>\n",
       "      <td>7</td>\n",
       "      <td>5</td>\n",
       "      <td>2001</td>\n",
       "      <td>2002</td>\n",
       "      <td>Gable</td>\n",
       "      <td>CompShg</td>\n",
       "      <td>VinylSd</td>\n",
       "      <td>VinylSd</td>\n",
       "      <td>BrkFace</td>\n",
       "      <td>162.0</td>\n",
       "      <td>Gd</td>\n",
       "      <td>TA</td>\n",
       "      <td>PConc</td>\n",
       "      <td>Gd</td>\n",
       "      <td>TA</td>\n",
       "      <td>Mn</td>\n",
       "      <td>GLQ</td>\n",
       "      <td>486</td>\n",
       "      <td>Unf</td>\n",
       "      <td>0</td>\n",
       "      <td>434</td>\n",
       "      <td>920</td>\n",
       "      <td>GasA</td>\n",
       "      <td>Ex</td>\n",
       "      <td>Y</td>\n",
       "      <td>SBrkr</td>\n",
       "      <td>920</td>\n",
       "      <td>866</td>\n",
       "      <td>0</td>\n",
       "      <td>1786</td>\n",
       "      <td>1</td>\n",
       "      <td>0</td>\n",
       "      <td>2</td>\n",
       "      <td>1</td>\n",
       "      <td>3</td>\n",
       "      <td>1</td>\n",
       "      <td>Gd</td>\n",
       "      <td>6</td>\n",
       "      <td>Typ</td>\n",
       "      <td>1</td>\n",
       "      <td>TA</td>\n",
       "      <td>Attchd</td>\n",
       "      <td>2001.0</td>\n",
       "      <td>RFn</td>\n",
       "      <td>2</td>\n",
       "      <td>608</td>\n",
       "      <td>TA</td>\n",
       "      <td>TA</td>\n",
       "      <td>Y</td>\n",
       "      <td>0</td>\n",
       "      <td>42</td>\n",
       "      <td>0</td>\n",
       "      <td>0</td>\n",
       "      <td>0</td>\n",
       "      <td>0</td>\n",
       "      <td>NaN</td>\n",
       "      <td>NaN</td>\n",
       "      <td>NaN</td>\n",
       "      <td>0</td>\n",
       "      <td>9</td>\n",
       "      <td>2008</td>\n",
       "      <td>WD</td>\n",
       "      <td>Normal</td>\n",
       "      <td>223500</td>\n",
       "    </tr>\n",
       "    <tr>\n",
       "      <th>3</th>\n",
       "      <td>4</td>\n",
       "      <td>70</td>\n",
       "      <td>RL</td>\n",
       "      <td>60.0</td>\n",
       "      <td>9550</td>\n",
       "      <td>Pave</td>\n",
       "      <td>NaN</td>\n",
       "      <td>IR1</td>\n",
       "      <td>Lvl</td>\n",
       "      <td>AllPub</td>\n",
       "      <td>Corner</td>\n",
       "      <td>Gtl</td>\n",
       "      <td>Crawfor</td>\n",
       "      <td>Norm</td>\n",
       "      <td>Norm</td>\n",
       "      <td>1Fam</td>\n",
       "      <td>2Story</td>\n",
       "      <td>7</td>\n",
       "      <td>5</td>\n",
       "      <td>1915</td>\n",
       "      <td>1970</td>\n",
       "      <td>Gable</td>\n",
       "      <td>CompShg</td>\n",
       "      <td>Wd Sdng</td>\n",
       "      <td>Wd Shng</td>\n",
       "      <td>NaN</td>\n",
       "      <td>0.0</td>\n",
       "      <td>TA</td>\n",
       "      <td>TA</td>\n",
       "      <td>BrkTil</td>\n",
       "      <td>TA</td>\n",
       "      <td>Gd</td>\n",
       "      <td>No</td>\n",
       "      <td>ALQ</td>\n",
       "      <td>216</td>\n",
       "      <td>Unf</td>\n",
       "      <td>0</td>\n",
       "      <td>540</td>\n",
       "      <td>756</td>\n",
       "      <td>GasA</td>\n",
       "      <td>Gd</td>\n",
       "      <td>Y</td>\n",
       "      <td>SBrkr</td>\n",
       "      <td>961</td>\n",
       "      <td>756</td>\n",
       "      <td>0</td>\n",
       "      <td>1717</td>\n",
       "      <td>1</td>\n",
       "      <td>0</td>\n",
       "      <td>1</td>\n",
       "      <td>0</td>\n",
       "      <td>3</td>\n",
       "      <td>1</td>\n",
       "      <td>Gd</td>\n",
       "      <td>7</td>\n",
       "      <td>Typ</td>\n",
       "      <td>1</td>\n",
       "      <td>Gd</td>\n",
       "      <td>Detchd</td>\n",
       "      <td>1998.0</td>\n",
       "      <td>Unf</td>\n",
       "      <td>3</td>\n",
       "      <td>642</td>\n",
       "      <td>TA</td>\n",
       "      <td>TA</td>\n",
       "      <td>Y</td>\n",
       "      <td>0</td>\n",
       "      <td>35</td>\n",
       "      <td>272</td>\n",
       "      <td>0</td>\n",
       "      <td>0</td>\n",
       "      <td>0</td>\n",
       "      <td>NaN</td>\n",
       "      <td>NaN</td>\n",
       "      <td>NaN</td>\n",
       "      <td>0</td>\n",
       "      <td>2</td>\n",
       "      <td>2006</td>\n",
       "      <td>WD</td>\n",
       "      <td>Abnorml</td>\n",
       "      <td>140000</td>\n",
       "    </tr>\n",
       "    <tr>\n",
       "      <th>4</th>\n",
       "      <td>5</td>\n",
       "      <td>60</td>\n",
       "      <td>RL</td>\n",
       "      <td>84.0</td>\n",
       "      <td>14260</td>\n",
       "      <td>Pave</td>\n",
       "      <td>NaN</td>\n",
       "      <td>IR1</td>\n",
       "      <td>Lvl</td>\n",
       "      <td>AllPub</td>\n",
       "      <td>FR2</td>\n",
       "      <td>Gtl</td>\n",
       "      <td>NoRidge</td>\n",
       "      <td>Norm</td>\n",
       "      <td>Norm</td>\n",
       "      <td>1Fam</td>\n",
       "      <td>2Story</td>\n",
       "      <td>8</td>\n",
       "      <td>5</td>\n",
       "      <td>2000</td>\n",
       "      <td>2000</td>\n",
       "      <td>Gable</td>\n",
       "      <td>CompShg</td>\n",
       "      <td>VinylSd</td>\n",
       "      <td>VinylSd</td>\n",
       "      <td>BrkFace</td>\n",
       "      <td>350.0</td>\n",
       "      <td>Gd</td>\n",
       "      <td>TA</td>\n",
       "      <td>PConc</td>\n",
       "      <td>Gd</td>\n",
       "      <td>TA</td>\n",
       "      <td>Av</td>\n",
       "      <td>GLQ</td>\n",
       "      <td>655</td>\n",
       "      <td>Unf</td>\n",
       "      <td>0</td>\n",
       "      <td>490</td>\n",
       "      <td>1145</td>\n",
       "      <td>GasA</td>\n",
       "      <td>Ex</td>\n",
       "      <td>Y</td>\n",
       "      <td>SBrkr</td>\n",
       "      <td>1145</td>\n",
       "      <td>1053</td>\n",
       "      <td>0</td>\n",
       "      <td>2198</td>\n",
       "      <td>1</td>\n",
       "      <td>0</td>\n",
       "      <td>2</td>\n",
       "      <td>1</td>\n",
       "      <td>4</td>\n",
       "      <td>1</td>\n",
       "      <td>Gd</td>\n",
       "      <td>9</td>\n",
       "      <td>Typ</td>\n",
       "      <td>1</td>\n",
       "      <td>TA</td>\n",
       "      <td>Attchd</td>\n",
       "      <td>2000.0</td>\n",
       "      <td>RFn</td>\n",
       "      <td>3</td>\n",
       "      <td>836</td>\n",
       "      <td>TA</td>\n",
       "      <td>TA</td>\n",
       "      <td>Y</td>\n",
       "      <td>192</td>\n",
       "      <td>84</td>\n",
       "      <td>0</td>\n",
       "      <td>0</td>\n",
       "      <td>0</td>\n",
       "      <td>0</td>\n",
       "      <td>NaN</td>\n",
       "      <td>NaN</td>\n",
       "      <td>NaN</td>\n",
       "      <td>0</td>\n",
       "      <td>12</td>\n",
       "      <td>2008</td>\n",
       "      <td>WD</td>\n",
       "      <td>Normal</td>\n",
       "      <td>250000</td>\n",
       "    </tr>\n",
       "    <tr>\n",
       "      <th>...</th>\n",
       "      <td>...</td>\n",
       "      <td>...</td>\n",
       "      <td>...</td>\n",
       "      <td>...</td>\n",
       "      <td>...</td>\n",
       "      <td>...</td>\n",
       "      <td>...</td>\n",
       "      <td>...</td>\n",
       "      <td>...</td>\n",
       "      <td>...</td>\n",
       "      <td>...</td>\n",
       "      <td>...</td>\n",
       "      <td>...</td>\n",
       "      <td>...</td>\n",
       "      <td>...</td>\n",
       "      <td>...</td>\n",
       "      <td>...</td>\n",
       "      <td>...</td>\n",
       "      <td>...</td>\n",
       "      <td>...</td>\n",
       "      <td>...</td>\n",
       "      <td>...</td>\n",
       "      <td>...</td>\n",
       "      <td>...</td>\n",
       "      <td>...</td>\n",
       "      <td>...</td>\n",
       "      <td>...</td>\n",
       "      <td>...</td>\n",
       "      <td>...</td>\n",
       "      <td>...</td>\n",
       "      <td>...</td>\n",
       "      <td>...</td>\n",
       "      <td>...</td>\n",
       "      <td>...</td>\n",
       "      <td>...</td>\n",
       "      <td>...</td>\n",
       "      <td>...</td>\n",
       "      <td>...</td>\n",
       "      <td>...</td>\n",
       "      <td>...</td>\n",
       "      <td>...</td>\n",
       "      <td>...</td>\n",
       "      <td>...</td>\n",
       "      <td>...</td>\n",
       "      <td>...</td>\n",
       "      <td>...</td>\n",
       "      <td>...</td>\n",
       "      <td>...</td>\n",
       "      <td>...</td>\n",
       "      <td>...</td>\n",
       "      <td>...</td>\n",
       "      <td>...</td>\n",
       "      <td>...</td>\n",
       "      <td>...</td>\n",
       "      <td>...</td>\n",
       "      <td>...</td>\n",
       "      <td>...</td>\n",
       "      <td>...</td>\n",
       "      <td>...</td>\n",
       "      <td>...</td>\n",
       "      <td>...</td>\n",
       "      <td>...</td>\n",
       "      <td>...</td>\n",
       "      <td>...</td>\n",
       "      <td>...</td>\n",
       "      <td>...</td>\n",
       "      <td>...</td>\n",
       "      <td>...</td>\n",
       "      <td>...</td>\n",
       "      <td>...</td>\n",
       "      <td>...</td>\n",
       "      <td>...</td>\n",
       "      <td>...</td>\n",
       "      <td>...</td>\n",
       "      <td>...</td>\n",
       "      <td>...</td>\n",
       "      <td>...</td>\n",
       "      <td>...</td>\n",
       "      <td>...</td>\n",
       "      <td>...</td>\n",
       "      <td>...</td>\n",
       "    </tr>\n",
       "    <tr>\n",
       "      <th>1455</th>\n",
       "      <td>1456</td>\n",
       "      <td>60</td>\n",
       "      <td>RL</td>\n",
       "      <td>62.0</td>\n",
       "      <td>7917</td>\n",
       "      <td>Pave</td>\n",
       "      <td>NaN</td>\n",
       "      <td>Reg</td>\n",
       "      <td>Lvl</td>\n",
       "      <td>AllPub</td>\n",
       "      <td>Inside</td>\n",
       "      <td>Gtl</td>\n",
       "      <td>Gilbert</td>\n",
       "      <td>Norm</td>\n",
       "      <td>Norm</td>\n",
       "      <td>1Fam</td>\n",
       "      <td>2Story</td>\n",
       "      <td>6</td>\n",
       "      <td>5</td>\n",
       "      <td>1999</td>\n",
       "      <td>2000</td>\n",
       "      <td>Gable</td>\n",
       "      <td>CompShg</td>\n",
       "      <td>VinylSd</td>\n",
       "      <td>VinylSd</td>\n",
       "      <td>NaN</td>\n",
       "      <td>0.0</td>\n",
       "      <td>TA</td>\n",
       "      <td>TA</td>\n",
       "      <td>PConc</td>\n",
       "      <td>Gd</td>\n",
       "      <td>TA</td>\n",
       "      <td>No</td>\n",
       "      <td>Unf</td>\n",
       "      <td>0</td>\n",
       "      <td>Unf</td>\n",
       "      <td>0</td>\n",
       "      <td>953</td>\n",
       "      <td>953</td>\n",
       "      <td>GasA</td>\n",
       "      <td>Ex</td>\n",
       "      <td>Y</td>\n",
       "      <td>SBrkr</td>\n",
       "      <td>953</td>\n",
       "      <td>694</td>\n",
       "      <td>0</td>\n",
       "      <td>1647</td>\n",
       "      <td>0</td>\n",
       "      <td>0</td>\n",
       "      <td>2</td>\n",
       "      <td>1</td>\n",
       "      <td>3</td>\n",
       "      <td>1</td>\n",
       "      <td>TA</td>\n",
       "      <td>7</td>\n",
       "      <td>Typ</td>\n",
       "      <td>1</td>\n",
       "      <td>TA</td>\n",
       "      <td>Attchd</td>\n",
       "      <td>1999.0</td>\n",
       "      <td>RFn</td>\n",
       "      <td>2</td>\n",
       "      <td>460</td>\n",
       "      <td>TA</td>\n",
       "      <td>TA</td>\n",
       "      <td>Y</td>\n",
       "      <td>0</td>\n",
       "      <td>40</td>\n",
       "      <td>0</td>\n",
       "      <td>0</td>\n",
       "      <td>0</td>\n",
       "      <td>0</td>\n",
       "      <td>NaN</td>\n",
       "      <td>NaN</td>\n",
       "      <td>NaN</td>\n",
       "      <td>0</td>\n",
       "      <td>8</td>\n",
       "      <td>2007</td>\n",
       "      <td>WD</td>\n",
       "      <td>Normal</td>\n",
       "      <td>175000</td>\n",
       "    </tr>\n",
       "    <tr>\n",
       "      <th>1456</th>\n",
       "      <td>1457</td>\n",
       "      <td>20</td>\n",
       "      <td>RL</td>\n",
       "      <td>85.0</td>\n",
       "      <td>13175</td>\n",
       "      <td>Pave</td>\n",
       "      <td>NaN</td>\n",
       "      <td>Reg</td>\n",
       "      <td>Lvl</td>\n",
       "      <td>AllPub</td>\n",
       "      <td>Inside</td>\n",
       "      <td>Gtl</td>\n",
       "      <td>NWAmes</td>\n",
       "      <td>Norm</td>\n",
       "      <td>Norm</td>\n",
       "      <td>1Fam</td>\n",
       "      <td>1Story</td>\n",
       "      <td>6</td>\n",
       "      <td>6</td>\n",
       "      <td>1978</td>\n",
       "      <td>1988</td>\n",
       "      <td>Gable</td>\n",
       "      <td>CompShg</td>\n",
       "      <td>Plywood</td>\n",
       "      <td>Plywood</td>\n",
       "      <td>Stone</td>\n",
       "      <td>119.0</td>\n",
       "      <td>TA</td>\n",
       "      <td>TA</td>\n",
       "      <td>CBlock</td>\n",
       "      <td>Gd</td>\n",
       "      <td>TA</td>\n",
       "      <td>No</td>\n",
       "      <td>ALQ</td>\n",
       "      <td>790</td>\n",
       "      <td>Rec</td>\n",
       "      <td>163</td>\n",
       "      <td>589</td>\n",
       "      <td>1542</td>\n",
       "      <td>GasA</td>\n",
       "      <td>TA</td>\n",
       "      <td>Y</td>\n",
       "      <td>SBrkr</td>\n",
       "      <td>2073</td>\n",
       "      <td>0</td>\n",
       "      <td>0</td>\n",
       "      <td>2073</td>\n",
       "      <td>1</td>\n",
       "      <td>0</td>\n",
       "      <td>2</td>\n",
       "      <td>0</td>\n",
       "      <td>3</td>\n",
       "      <td>1</td>\n",
       "      <td>TA</td>\n",
       "      <td>7</td>\n",
       "      <td>Min1</td>\n",
       "      <td>2</td>\n",
       "      <td>TA</td>\n",
       "      <td>Attchd</td>\n",
       "      <td>1978.0</td>\n",
       "      <td>Unf</td>\n",
       "      <td>2</td>\n",
       "      <td>500</td>\n",
       "      <td>TA</td>\n",
       "      <td>TA</td>\n",
       "      <td>Y</td>\n",
       "      <td>349</td>\n",
       "      <td>0</td>\n",
       "      <td>0</td>\n",
       "      <td>0</td>\n",
       "      <td>0</td>\n",
       "      <td>0</td>\n",
       "      <td>NaN</td>\n",
       "      <td>MnPrv</td>\n",
       "      <td>NaN</td>\n",
       "      <td>0</td>\n",
       "      <td>2</td>\n",
       "      <td>2010</td>\n",
       "      <td>WD</td>\n",
       "      <td>Normal</td>\n",
       "      <td>210000</td>\n",
       "    </tr>\n",
       "    <tr>\n",
       "      <th>1457</th>\n",
       "      <td>1458</td>\n",
       "      <td>70</td>\n",
       "      <td>RL</td>\n",
       "      <td>66.0</td>\n",
       "      <td>9042</td>\n",
       "      <td>Pave</td>\n",
       "      <td>NaN</td>\n",
       "      <td>Reg</td>\n",
       "      <td>Lvl</td>\n",
       "      <td>AllPub</td>\n",
       "      <td>Inside</td>\n",
       "      <td>Gtl</td>\n",
       "      <td>Crawfor</td>\n",
       "      <td>Norm</td>\n",
       "      <td>Norm</td>\n",
       "      <td>1Fam</td>\n",
       "      <td>2Story</td>\n",
       "      <td>7</td>\n",
       "      <td>9</td>\n",
       "      <td>1941</td>\n",
       "      <td>2006</td>\n",
       "      <td>Gable</td>\n",
       "      <td>CompShg</td>\n",
       "      <td>CemntBd</td>\n",
       "      <td>CmentBd</td>\n",
       "      <td>NaN</td>\n",
       "      <td>0.0</td>\n",
       "      <td>Ex</td>\n",
       "      <td>Gd</td>\n",
       "      <td>Stone</td>\n",
       "      <td>TA</td>\n",
       "      <td>Gd</td>\n",
       "      <td>No</td>\n",
       "      <td>GLQ</td>\n",
       "      <td>275</td>\n",
       "      <td>Unf</td>\n",
       "      <td>0</td>\n",
       "      <td>877</td>\n",
       "      <td>1152</td>\n",
       "      <td>GasA</td>\n",
       "      <td>Ex</td>\n",
       "      <td>Y</td>\n",
       "      <td>SBrkr</td>\n",
       "      <td>1188</td>\n",
       "      <td>1152</td>\n",
       "      <td>0</td>\n",
       "      <td>2340</td>\n",
       "      <td>0</td>\n",
       "      <td>0</td>\n",
       "      <td>2</td>\n",
       "      <td>0</td>\n",
       "      <td>4</td>\n",
       "      <td>1</td>\n",
       "      <td>Gd</td>\n",
       "      <td>9</td>\n",
       "      <td>Typ</td>\n",
       "      <td>2</td>\n",
       "      <td>Gd</td>\n",
       "      <td>Attchd</td>\n",
       "      <td>1941.0</td>\n",
       "      <td>RFn</td>\n",
       "      <td>1</td>\n",
       "      <td>252</td>\n",
       "      <td>TA</td>\n",
       "      <td>TA</td>\n",
       "      <td>Y</td>\n",
       "      <td>0</td>\n",
       "      <td>60</td>\n",
       "      <td>0</td>\n",
       "      <td>0</td>\n",
       "      <td>0</td>\n",
       "      <td>0</td>\n",
       "      <td>NaN</td>\n",
       "      <td>GdPrv</td>\n",
       "      <td>Shed</td>\n",
       "      <td>2500</td>\n",
       "      <td>5</td>\n",
       "      <td>2010</td>\n",
       "      <td>WD</td>\n",
       "      <td>Normal</td>\n",
       "      <td>266500</td>\n",
       "    </tr>\n",
       "    <tr>\n",
       "      <th>1458</th>\n",
       "      <td>1459</td>\n",
       "      <td>20</td>\n",
       "      <td>RL</td>\n",
       "      <td>68.0</td>\n",
       "      <td>9717</td>\n",
       "      <td>Pave</td>\n",
       "      <td>NaN</td>\n",
       "      <td>Reg</td>\n",
       "      <td>Lvl</td>\n",
       "      <td>AllPub</td>\n",
       "      <td>Inside</td>\n",
       "      <td>Gtl</td>\n",
       "      <td>NAmes</td>\n",
       "      <td>Norm</td>\n",
       "      <td>Norm</td>\n",
       "      <td>1Fam</td>\n",
       "      <td>1Story</td>\n",
       "      <td>5</td>\n",
       "      <td>6</td>\n",
       "      <td>1950</td>\n",
       "      <td>1996</td>\n",
       "      <td>Hip</td>\n",
       "      <td>CompShg</td>\n",
       "      <td>MetalSd</td>\n",
       "      <td>MetalSd</td>\n",
       "      <td>NaN</td>\n",
       "      <td>0.0</td>\n",
       "      <td>TA</td>\n",
       "      <td>TA</td>\n",
       "      <td>CBlock</td>\n",
       "      <td>TA</td>\n",
       "      <td>TA</td>\n",
       "      <td>Mn</td>\n",
       "      <td>GLQ</td>\n",
       "      <td>49</td>\n",
       "      <td>Rec</td>\n",
       "      <td>1029</td>\n",
       "      <td>0</td>\n",
       "      <td>1078</td>\n",
       "      <td>GasA</td>\n",
       "      <td>Gd</td>\n",
       "      <td>Y</td>\n",
       "      <td>FuseA</td>\n",
       "      <td>1078</td>\n",
       "      <td>0</td>\n",
       "      <td>0</td>\n",
       "      <td>1078</td>\n",
       "      <td>1</td>\n",
       "      <td>0</td>\n",
       "      <td>1</td>\n",
       "      <td>0</td>\n",
       "      <td>2</td>\n",
       "      <td>1</td>\n",
       "      <td>Gd</td>\n",
       "      <td>5</td>\n",
       "      <td>Typ</td>\n",
       "      <td>0</td>\n",
       "      <td>NaN</td>\n",
       "      <td>Attchd</td>\n",
       "      <td>1950.0</td>\n",
       "      <td>Unf</td>\n",
       "      <td>1</td>\n",
       "      <td>240</td>\n",
       "      <td>TA</td>\n",
       "      <td>TA</td>\n",
       "      <td>Y</td>\n",
       "      <td>366</td>\n",
       "      <td>0</td>\n",
       "      <td>112</td>\n",
       "      <td>0</td>\n",
       "      <td>0</td>\n",
       "      <td>0</td>\n",
       "      <td>NaN</td>\n",
       "      <td>NaN</td>\n",
       "      <td>NaN</td>\n",
       "      <td>0</td>\n",
       "      <td>4</td>\n",
       "      <td>2010</td>\n",
       "      <td>WD</td>\n",
       "      <td>Normal</td>\n",
       "      <td>142125</td>\n",
       "    </tr>\n",
       "    <tr>\n",
       "      <th>1459</th>\n",
       "      <td>1460</td>\n",
       "      <td>20</td>\n",
       "      <td>RL</td>\n",
       "      <td>75.0</td>\n",
       "      <td>9937</td>\n",
       "      <td>Pave</td>\n",
       "      <td>NaN</td>\n",
       "      <td>Reg</td>\n",
       "      <td>Lvl</td>\n",
       "      <td>AllPub</td>\n",
       "      <td>Inside</td>\n",
       "      <td>Gtl</td>\n",
       "      <td>Edwards</td>\n",
       "      <td>Norm</td>\n",
       "      <td>Norm</td>\n",
       "      <td>1Fam</td>\n",
       "      <td>1Story</td>\n",
       "      <td>5</td>\n",
       "      <td>6</td>\n",
       "      <td>1965</td>\n",
       "      <td>1965</td>\n",
       "      <td>Gable</td>\n",
       "      <td>CompShg</td>\n",
       "      <td>HdBoard</td>\n",
       "      <td>HdBoard</td>\n",
       "      <td>NaN</td>\n",
       "      <td>0.0</td>\n",
       "      <td>Gd</td>\n",
       "      <td>TA</td>\n",
       "      <td>CBlock</td>\n",
       "      <td>TA</td>\n",
       "      <td>TA</td>\n",
       "      <td>No</td>\n",
       "      <td>BLQ</td>\n",
       "      <td>830</td>\n",
       "      <td>LwQ</td>\n",
       "      <td>290</td>\n",
       "      <td>136</td>\n",
       "      <td>1256</td>\n",
       "      <td>GasA</td>\n",
       "      <td>Gd</td>\n",
       "      <td>Y</td>\n",
       "      <td>SBrkr</td>\n",
       "      <td>1256</td>\n",
       "      <td>0</td>\n",
       "      <td>0</td>\n",
       "      <td>1256</td>\n",
       "      <td>1</td>\n",
       "      <td>0</td>\n",
       "      <td>1</td>\n",
       "      <td>1</td>\n",
       "      <td>3</td>\n",
       "      <td>1</td>\n",
       "      <td>TA</td>\n",
       "      <td>6</td>\n",
       "      <td>Typ</td>\n",
       "      <td>0</td>\n",
       "      <td>NaN</td>\n",
       "      <td>Attchd</td>\n",
       "      <td>1965.0</td>\n",
       "      <td>Fin</td>\n",
       "      <td>1</td>\n",
       "      <td>276</td>\n",
       "      <td>TA</td>\n",
       "      <td>TA</td>\n",
       "      <td>Y</td>\n",
       "      <td>736</td>\n",
       "      <td>68</td>\n",
       "      <td>0</td>\n",
       "      <td>0</td>\n",
       "      <td>0</td>\n",
       "      <td>0</td>\n",
       "      <td>NaN</td>\n",
       "      <td>NaN</td>\n",
       "      <td>NaN</td>\n",
       "      <td>0</td>\n",
       "      <td>6</td>\n",
       "      <td>2008</td>\n",
       "      <td>WD</td>\n",
       "      <td>Normal</td>\n",
       "      <td>147500</td>\n",
       "    </tr>\n",
       "  </tbody>\n",
       "</table>\n",
       "<p>1460 rows × 81 columns</p>\n",
       "</div>"
      ],
      "text/plain": [
       "        Id  MSSubClass MSZoning  LotFrontage  LotArea Street Alley LotShape  \\\n",
       "0        1          60       RL         65.0     8450   Pave   NaN      Reg   \n",
       "1        2          20       RL         80.0     9600   Pave   NaN      Reg   \n",
       "2        3          60       RL         68.0    11250   Pave   NaN      IR1   \n",
       "3        4          70       RL         60.0     9550   Pave   NaN      IR1   \n",
       "4        5          60       RL         84.0    14260   Pave   NaN      IR1   \n",
       "...    ...         ...      ...          ...      ...    ...   ...      ...   \n",
       "1455  1456          60       RL         62.0     7917   Pave   NaN      Reg   \n",
       "1456  1457          20       RL         85.0    13175   Pave   NaN      Reg   \n",
       "1457  1458          70       RL         66.0     9042   Pave   NaN      Reg   \n",
       "1458  1459          20       RL         68.0     9717   Pave   NaN      Reg   \n",
       "1459  1460          20       RL         75.0     9937   Pave   NaN      Reg   \n",
       "\n",
       "     LandContour Utilities LotConfig LandSlope Neighborhood Condition1  \\\n",
       "0            Lvl    AllPub    Inside       Gtl      CollgCr       Norm   \n",
       "1            Lvl    AllPub       FR2       Gtl      Veenker      Feedr   \n",
       "2            Lvl    AllPub    Inside       Gtl      CollgCr       Norm   \n",
       "3            Lvl    AllPub    Corner       Gtl      Crawfor       Norm   \n",
       "4            Lvl    AllPub       FR2       Gtl      NoRidge       Norm   \n",
       "...          ...       ...       ...       ...          ...        ...   \n",
       "1455         Lvl    AllPub    Inside       Gtl      Gilbert       Norm   \n",
       "1456         Lvl    AllPub    Inside       Gtl       NWAmes       Norm   \n",
       "1457         Lvl    AllPub    Inside       Gtl      Crawfor       Norm   \n",
       "1458         Lvl    AllPub    Inside       Gtl        NAmes       Norm   \n",
       "1459         Lvl    AllPub    Inside       Gtl      Edwards       Norm   \n",
       "\n",
       "     Condition2 BldgType HouseStyle  OverallQual  OverallCond  YearBuilt  \\\n",
       "0          Norm     1Fam     2Story            7            5       2003   \n",
       "1          Norm     1Fam     1Story            6            8       1976   \n",
       "2          Norm     1Fam     2Story            7            5       2001   \n",
       "3          Norm     1Fam     2Story            7            5       1915   \n",
       "4          Norm     1Fam     2Story            8            5       2000   \n",
       "...         ...      ...        ...          ...          ...        ...   \n",
       "1455       Norm     1Fam     2Story            6            5       1999   \n",
       "1456       Norm     1Fam     1Story            6            6       1978   \n",
       "1457       Norm     1Fam     2Story            7            9       1941   \n",
       "1458       Norm     1Fam     1Story            5            6       1950   \n",
       "1459       Norm     1Fam     1Story            5            6       1965   \n",
       "\n",
       "      YearRemodAdd RoofStyle RoofMatl Exterior1st Exterior2nd MasVnrType  \\\n",
       "0             2003     Gable  CompShg     VinylSd     VinylSd    BrkFace   \n",
       "1             1976     Gable  CompShg     MetalSd     MetalSd        NaN   \n",
       "2             2002     Gable  CompShg     VinylSd     VinylSd    BrkFace   \n",
       "3             1970     Gable  CompShg     Wd Sdng     Wd Shng        NaN   \n",
       "4             2000     Gable  CompShg     VinylSd     VinylSd    BrkFace   \n",
       "...            ...       ...      ...         ...         ...        ...   \n",
       "1455          2000     Gable  CompShg     VinylSd     VinylSd        NaN   \n",
       "1456          1988     Gable  CompShg     Plywood     Plywood      Stone   \n",
       "1457          2006     Gable  CompShg     CemntBd     CmentBd        NaN   \n",
       "1458          1996       Hip  CompShg     MetalSd     MetalSd        NaN   \n",
       "1459          1965     Gable  CompShg     HdBoard     HdBoard        NaN   \n",
       "\n",
       "      MasVnrArea ExterQual ExterCond Foundation BsmtQual BsmtCond  \\\n",
       "0          196.0        Gd        TA      PConc       Gd       TA   \n",
       "1            0.0        TA        TA     CBlock       Gd       TA   \n",
       "2          162.0        Gd        TA      PConc       Gd       TA   \n",
       "3            0.0        TA        TA     BrkTil       TA       Gd   \n",
       "4          350.0        Gd        TA      PConc       Gd       TA   \n",
       "...          ...       ...       ...        ...      ...      ...   \n",
       "1455         0.0        TA        TA      PConc       Gd       TA   \n",
       "1456       119.0        TA        TA     CBlock       Gd       TA   \n",
       "1457         0.0        Ex        Gd      Stone       TA       Gd   \n",
       "1458         0.0        TA        TA     CBlock       TA       TA   \n",
       "1459         0.0        Gd        TA     CBlock       TA       TA   \n",
       "\n",
       "     BsmtExposure BsmtFinType1  BsmtFinSF1 BsmtFinType2  BsmtFinSF2  \\\n",
       "0              No          GLQ         706          Unf           0   \n",
       "1              Gd          ALQ         978          Unf           0   \n",
       "2              Mn          GLQ         486          Unf           0   \n",
       "3              No          ALQ         216          Unf           0   \n",
       "4              Av          GLQ         655          Unf           0   \n",
       "...           ...          ...         ...          ...         ...   \n",
       "1455           No          Unf           0          Unf           0   \n",
       "1456           No          ALQ         790          Rec         163   \n",
       "1457           No          GLQ         275          Unf           0   \n",
       "1458           Mn          GLQ          49          Rec        1029   \n",
       "1459           No          BLQ         830          LwQ         290   \n",
       "\n",
       "      BsmtUnfSF  TotalBsmtSF Heating HeatingQC CentralAir Electrical  \\\n",
       "0           150          856    GasA        Ex          Y      SBrkr   \n",
       "1           284         1262    GasA        Ex          Y      SBrkr   \n",
       "2           434          920    GasA        Ex          Y      SBrkr   \n",
       "3           540          756    GasA        Gd          Y      SBrkr   \n",
       "4           490         1145    GasA        Ex          Y      SBrkr   \n",
       "...         ...          ...     ...       ...        ...        ...   \n",
       "1455        953          953    GasA        Ex          Y      SBrkr   \n",
       "1456        589         1542    GasA        TA          Y      SBrkr   \n",
       "1457        877         1152    GasA        Ex          Y      SBrkr   \n",
       "1458          0         1078    GasA        Gd          Y      FuseA   \n",
       "1459        136         1256    GasA        Gd          Y      SBrkr   \n",
       "\n",
       "      1stFlrSF  2ndFlrSF  LowQualFinSF  GrLivArea  BsmtFullBath  BsmtHalfBath  \\\n",
       "0          856       854             0       1710             1             0   \n",
       "1         1262         0             0       1262             0             1   \n",
       "2          920       866             0       1786             1             0   \n",
       "3          961       756             0       1717             1             0   \n",
       "4         1145      1053             0       2198             1             0   \n",
       "...        ...       ...           ...        ...           ...           ...   \n",
       "1455       953       694             0       1647             0             0   \n",
       "1456      2073         0             0       2073             1             0   \n",
       "1457      1188      1152             0       2340             0             0   \n",
       "1458      1078         0             0       1078             1             0   \n",
       "1459      1256         0             0       1256             1             0   \n",
       "\n",
       "      FullBath  HalfBath  BedroomAbvGr  KitchenAbvGr KitchenQual  \\\n",
       "0            2         1             3             1          Gd   \n",
       "1            2         0             3             1          TA   \n",
       "2            2         1             3             1          Gd   \n",
       "3            1         0             3             1          Gd   \n",
       "4            2         1             4             1          Gd   \n",
       "...        ...       ...           ...           ...         ...   \n",
       "1455         2         1             3             1          TA   \n",
       "1456         2         0             3             1          TA   \n",
       "1457         2         0             4             1          Gd   \n",
       "1458         1         0             2             1          Gd   \n",
       "1459         1         1             3             1          TA   \n",
       "\n",
       "      TotRmsAbvGrd Functional  Fireplaces FireplaceQu GarageType  GarageYrBlt  \\\n",
       "0                8        Typ           0         NaN     Attchd       2003.0   \n",
       "1                6        Typ           1          TA     Attchd       1976.0   \n",
       "2                6        Typ           1          TA     Attchd       2001.0   \n",
       "3                7        Typ           1          Gd     Detchd       1998.0   \n",
       "4                9        Typ           1          TA     Attchd       2000.0   \n",
       "...            ...        ...         ...         ...        ...          ...   \n",
       "1455             7        Typ           1          TA     Attchd       1999.0   \n",
       "1456             7       Min1           2          TA     Attchd       1978.0   \n",
       "1457             9        Typ           2          Gd     Attchd       1941.0   \n",
       "1458             5        Typ           0         NaN     Attchd       1950.0   \n",
       "1459             6        Typ           0         NaN     Attchd       1965.0   \n",
       "\n",
       "     GarageFinish  GarageCars  GarageArea GarageQual GarageCond PavedDrive  \\\n",
       "0             RFn           2         548         TA         TA          Y   \n",
       "1             RFn           2         460         TA         TA          Y   \n",
       "2             RFn           2         608         TA         TA          Y   \n",
       "3             Unf           3         642         TA         TA          Y   \n",
       "4             RFn           3         836         TA         TA          Y   \n",
       "...           ...         ...         ...        ...        ...        ...   \n",
       "1455          RFn           2         460         TA         TA          Y   \n",
       "1456          Unf           2         500         TA         TA          Y   \n",
       "1457          RFn           1         252         TA         TA          Y   \n",
       "1458          Unf           1         240         TA         TA          Y   \n",
       "1459          Fin           1         276         TA         TA          Y   \n",
       "\n",
       "      WoodDeckSF  OpenPorchSF  EnclosedPorch  3SsnPorch  ScreenPorch  \\\n",
       "0              0           61              0          0            0   \n",
       "1            298            0              0          0            0   \n",
       "2              0           42              0          0            0   \n",
       "3              0           35            272          0            0   \n",
       "4            192           84              0          0            0   \n",
       "...          ...          ...            ...        ...          ...   \n",
       "1455           0           40              0          0            0   \n",
       "1456         349            0              0          0            0   \n",
       "1457           0           60              0          0            0   \n",
       "1458         366            0            112          0            0   \n",
       "1459         736           68              0          0            0   \n",
       "\n",
       "      PoolArea PoolQC  Fence MiscFeature  MiscVal  MoSold  YrSold SaleType  \\\n",
       "0            0    NaN    NaN         NaN        0       2    2008       WD   \n",
       "1            0    NaN    NaN         NaN        0       5    2007       WD   \n",
       "2            0    NaN    NaN         NaN        0       9    2008       WD   \n",
       "3            0    NaN    NaN         NaN        0       2    2006       WD   \n",
       "4            0    NaN    NaN         NaN        0      12    2008       WD   \n",
       "...        ...    ...    ...         ...      ...     ...     ...      ...   \n",
       "1455         0    NaN    NaN         NaN        0       8    2007       WD   \n",
       "1456         0    NaN  MnPrv         NaN        0       2    2010       WD   \n",
       "1457         0    NaN  GdPrv        Shed     2500       5    2010       WD   \n",
       "1458         0    NaN    NaN         NaN        0       4    2010       WD   \n",
       "1459         0    NaN    NaN         NaN        0       6    2008       WD   \n",
       "\n",
       "     SaleCondition  SalePrice  \n",
       "0           Normal     208500  \n",
       "1           Normal     181500  \n",
       "2           Normal     223500  \n",
       "3          Abnorml     140000  \n",
       "4           Normal     250000  \n",
       "...            ...        ...  \n",
       "1455        Normal     175000  \n",
       "1456        Normal     210000  \n",
       "1457        Normal     266500  \n",
       "1458        Normal     142125  \n",
       "1459        Normal     147500  \n",
       "\n",
       "[1460 rows x 81 columns]"
      ]
     },
     "execution_count": 4,
     "metadata": {},
     "output_type": "execute_result"
    }
   ],
   "source": [
    "# remove pans columns display limit\n",
    "pd.set_option('display.max_columns', None)\n",
    "\n",
    "data = pd.read_csv(\"data/train.csv\")\n",
    "data"
   ]
  },
  {
   "cell_type": "code",
   "execution_count": 5,
   "metadata": {},
   "outputs": [],
   "source": [
    "\n",
    "data_processed = pipeline.fit_transform(data)\n",
    "\n",
    "numerical_features = data_processed[:, :-38]\n",
    "\n",
    "categorical_features = data_processed[:, -38:-2]\n",
    "features = np.concatenate((numerical_features, categorical_features), axis=1)\n",
    "target_regr = data_processed[:, -1]\n",
    "target_clas = data_processed[:, -2]"
   ]
  },
  {
   "cell_type": "code",
   "execution_count": 6,
   "metadata": {},
   "outputs": [
    {
     "name": "stdout",
     "output_type": "stream",
     "text": [
      "[65.0 8450.0 7.0 5.0 196.0 706.0 150.0 856.0 856.0 854.0 1710.0 1.0 0.0\n",
      " 2.0 1.0 3.0 1.0 8.0 0.0 2003.0 2.0 548.0 0.0 0.0 2.0 2008.0 61.0 2566.0\n",
      " 3.5 11970.0 0.0 0.0 0.0 0.0]\n"
     ]
    }
   ],
   "source": [
    "# first row of numerical features\n",
    "print(numerical_features[0])"
   ]
  },
  {
   "cell_type": "code",
   "execution_count": 7,
   "metadata": {},
   "outputs": [
    {
     "name": "stdout",
     "output_type": "stream",
     "text": [
      "['RL' 'Pave' 'Reg' 'Lvl' 'AllPub' 'Inside' 'Gtl' 'CollgCr' 'Norm' 'Norm'\n",
      " 'Gable' 'CompShg' 'VinylSd' 'VinylSd' 'BrkFace' 'Gd' 'TA' 'PConc' 'Gd'\n",
      " 'TA' 'No' 'GLQ' 'Unf' 'GasA' 'Ex' 'Y' 'Gd' 'Typ' 'None' 'Attchd' 'RFn'\n",
      " 'TA' 'TA' 'Y' 'WD' 'Normal']\n"
     ]
    }
   ],
   "source": [
    "# print first full 5 rows of categorical features\n",
    "print(categorical_features[0])"
   ]
  },
  {
   "cell_type": "markdown",
   "metadata": {},
   "source": [
    "## Managing datatypes"
   ]
  },
  {
   "cell_type": "code",
   "execution_count": 8,
   "metadata": {},
   "outputs": [
    {
     "name": "stdout",
     "output_type": "stream",
     "text": [
      "Converted Data:\n",
      "   0   1   2   3   4   5   6   7   8   9   10  11  12  13  14  15  16  17  18  \\\n",
      "0   3   1   3   3   0   4   0   5   2   2   1   1  12  13   1   2   4   2   2   \n",
      "1   3   1   3   3   0   2   0  24   1   2   1   1   8   8   2   3   4   1   2   \n",
      "2   3   1   0   3   0   4   0   5   2   2   1   1  12  13   1   2   4   2   2   \n",
      "3   3   1   0   3   0   0   0   6   2   2   1   1  13  15   2   3   4   0   4   \n",
      "4   3   1   0   3   0   2   0  15   2   2   1   1  12  13   1   2   4   2   2   \n",
      "\n",
      "   19  20  21  22  23  24  25  26  27  28  29  30  31  32  33  34  35  \n",
      "0   4   3   2   6   1   0   1   2   6   3   1   2   5   5   2   8   4  \n",
      "1   4   1   0   6   1   0   1   3   6   5   1   2   5   5   2   8   4  \n",
      "2   4   2   2   6   1   0   1   2   6   5   1   2   5   5   2   8   4  \n",
      "3   1   3   0   6   1   2   1   2   6   2   5   3   5   5   2   8   0  \n",
      "4   4   0   2   6   1   0   1   2   6   5   1   2   5   5   2   8   4  \n"
     ]
    },
    {
     "data": {
      "text/plain": [
       "array([[3, 1, 3, ..., 2, 8, 4],\n",
       "       [3, 1, 3, ..., 2, 8, 4],\n",
       "       [3, 1, 0, ..., 2, 8, 4],\n",
       "       ...,\n",
       "       [3, 1, 3, ..., 2, 8, 4],\n",
       "       [3, 1, 3, ..., 2, 8, 4],\n",
       "       [3, 1, 3, ..., 2, 8, 4]], dtype=int64)"
      ]
     },
     "execution_count": 8,
     "metadata": {},
     "output_type": "execute_result"
    }
   ],
   "source": [
    "df = pd.DataFrame(numerical_features)\n",
    "df = df.apply(pd.to_numeric, errors='coerce')\n",
    "numerical_features = df.to_numpy(dtype=np.float32)\n",
    "categorical_features_df = pd.DataFrame(categorical_features)\n",
    "\n",
    "# Convert each column to categorical type and use category codes as integers\n",
    "for column in categorical_features_df.columns:\n",
    "    categorical_features_df[column] = pd.Categorical(categorical_features_df[column])\n",
    "    categorical_features_df[column] = categorical_features_df[column].cat.codes\n",
    "print(\"Converted Data:\")\n",
    "print(categorical_features_df.head())\n",
    "\n",
    "from sklearn.preprocessing import LabelEncoder\n",
    "\n",
    "# Create a LabelEncoder object\n",
    "label_encoder = LabelEncoder()\n",
    "target_clas = label_encoder.fit_transform(target_clas)\n",
    "target_regr = target_regr.astype(np.float32)\n",
    "\n",
    "# Convert back to a numpy array of type int\n",
    "categorical_features = categorical_features_df.to_numpy(dtype=np.int64)\n",
    "categorical_features\n"
   ]
  },
  {
   "cell_type": "code",
   "execution_count": 9,
   "metadata": {},
   "outputs": [
    {
     "name": "stdout",
     "output_type": "stream",
     "text": [
      "[[65.0 8450.0 7.0 5.0 196.0 706.0 150.0 856.0 856.0 854.0 1710.0 1.0 0.0\n",
      "  2.0 1.0 3.0 1.0 8.0 0.0 2003.0 2.0 548.0 0.0 0.0 2.0 2008.0 61.0 2566.0\n",
      "  3.5 11970.0 0.0 0.0 0.0 0.0 'RL' 'Pave' 'Reg' 'Lvl' 'AllPub' 'Inside'\n",
      "  'Gtl' 'CollgCr' 'Norm' 'Norm' 'Gable' 'CompShg' 'VinylSd' 'VinylSd'\n",
      "  'BrkFace' 'Gd' 'TA' 'PConc' 'Gd' 'TA' 'No' 'GLQ' 'Unf' 'GasA' 'Ex' 'Y'\n",
      "  'Gd' 'Typ' 'None' 'Attchd' 'RFn' 'TA' 'TA' 'Y' 'WD' 'Normal']]\n",
      "[208500. 181500. 223500. 140000. 250000.]\n",
      "[10  7 10  4 10]\n"
     ]
    }
   ],
   "source": [
    "print(features[:1])\n",
    "print(target_regr[:5])\n",
    "print(target_clas[:5])"
   ]
  },
  {
   "cell_type": "markdown",
   "metadata": {},
   "source": [
    "## Preparing embedding info"
   ]
  },
  {
   "cell_type": "code",
   "execution_count": 10,
   "metadata": {},
   "outputs": [
    {
     "name": "stdout",
     "output_type": "stream",
     "text": [
      "           column  categories  embedding_dim\n",
      "0        MSZoning           5              2\n",
      "1          Street           2              1\n",
      "2           Alley           2              1\n",
      "3        LotShape           4              2\n",
      "4     LandContour           4              2\n",
      "5       Utilities           2              1\n",
      "6       LotConfig           5              2\n",
      "7       LandSlope           3              1\n",
      "8    Neighborhood          25             12\n",
      "9      Condition1           9              4\n",
      "10     Condition2           8              4\n",
      "11       BldgType           5              2\n",
      "12     HouseStyle           8              4\n",
      "13      RoofStyle           6              3\n",
      "14       RoofMatl           8              4\n",
      "15    Exterior1st          15              7\n",
      "16    Exterior2nd          16              8\n",
      "17     MasVnrType           3              1\n",
      "18      ExterQual           4              2\n",
      "19      ExterCond           5              2\n",
      "20     Foundation           6              3\n",
      "21       BsmtQual           4              2\n",
      "22       BsmtCond           4              2\n",
      "23   BsmtExposure           4              2\n",
      "24   BsmtFinType1           6              3\n",
      "25   BsmtFinType2           6              3\n",
      "26        Heating           6              3\n",
      "27      HeatingQC           5              2\n",
      "28     CentralAir           2              1\n",
      "29     Electrical           5              2\n",
      "30    KitchenQual           4              2\n",
      "31     Functional           7              3\n",
      "32    FireplaceQu           5              2\n",
      "33     GarageType           6              3\n",
      "34   GarageFinish           3              1\n",
      "35     GarageQual           5              2\n",
      "36     GarageCond           5              2\n",
      "37     PavedDrive           3              1\n",
      "38         PoolQC           3              1\n",
      "39          Fence           4              2\n",
      "40    MiscFeature           4              2\n",
      "41       SaleType           9              4\n",
      "42  SaleCondition           6              3\n"
     ]
    }
   ],
   "source": [
    "categorical_columns = data.select_dtypes(include=['object', 'category']).columns\n",
    "\n",
    "# Calculate the number of unique values in each categorical column\n",
    "embedding_info = []\n",
    "for column in categorical_columns:\n",
    "    categories = data[column].nunique()\n",
    "    embedding_dim = min(50, categories // 2)    \n",
    "    embedding_info.append({'column': column, 'categories': categories, 'embedding_dim': embedding_dim})\n",
    "\n",
    "# Display the embedding info\n",
    "embedding_info_df = pd.DataFrame(embedding_info)\n",
    "print(embedding_info_df)"
   ]
  },
  {
   "cell_type": "markdown",
   "metadata": {},
   "source": [
    "## Modeling"
   ]
  },
  {
   "cell_type": "code",
   "execution_count": 11,
   "metadata": {},
   "outputs": [],
   "source": [
    "class HousingNN(pl.LightningModule):\n",
    "    def __init__(\n",
    "        self,\n",
    "        cat_cols,\n",
    "        num_cols,\n",
    "        num_layers,\n",
    "        num_embds,\n",
    "        embedding_dim,\n",
    "        hidden_dim,\n",
    "        output_dim_price,\n",
    "        output_dim_category,\n",
    "        price_loss_weight=1e-09,  # Best weight to get a good balance of tasks (this is hard to tune as optuna minimizes validation loss and tuning the weights will always end up favoring one task over the other)\n",
    "        category_loss_weight=1,\n",
    "        lr=0.001,\n",
    "        optimizer_type=\"Adam\",\n",
    "        relu_type='LeakyReLU',\n",
    "        dropoutrate=0.3,\n",
    "    ):\n",
    "        super().__init__()\n",
    "        self.save_hyperparameters()\n",
    "\n",
    "        # Learning rate and optimizer\n",
    "        self.lr = lr\n",
    "        self.optimizer_type = optimizer_type\n",
    "\n",
    "        # Dropout rate\n",
    "        self.dropoutrate = dropoutrate\n",
    "\n",
    "        # numerical and categorical columns\n",
    "        self.cat_cols = cat_cols\n",
    "        self.num_cols = num_cols\n",
    "\n",
    "        # Neural network architecture \n",
    "        self.num_layers = num_layers\n",
    "        self.hidden_dim = hidden_dim\n",
    "        self.output_dim_price = output_dim_price\n",
    "        self.output_dim_category = output_dim_category\n",
    "        \n",
    "        # Embedding layers\n",
    "        self.num_embds = num_embds\n",
    "        self.embedding_dim = embedding_dim\n",
    "        self.total_embeddings = len(cat_cols) * embedding_dim\n",
    "        self.embeddings = nn.ModuleList(\n",
    "            [nn.Embedding(num_embds[i], embedding_dim) for i in range(len(cat_cols))]\n",
    "        )\n",
    "        print(\"Number of embedding layers:\", len(self.embeddings))\n",
    "        total_input_size = self.num_cols + self.total_embeddings\n",
    "\n",
    "        # Fully connected layers\n",
    "        self.fc = nn.Sequential(\n",
    "            nn.Linear(total_input_size, hidden_dim),\n",
    "            getattr(nn, relu_type)(),\n",
    "            nn.Linear(hidden_dim, hidden_dim * 2),\n",
    "        )\n",
    "\n",
    "        # Add additional hidden layers\n",
    "        for _ in range(num_layers - 1):\n",
    "            self.fc.add_module(\"Linear_Layer_{}\".format(_), nn.Linear(hidden_dim * 2, hidden_dim * 2))\n",
    "            self.fc.add_module(f\"{relu_type}_{_}\", getattr(nn, relu_type)())\n",
    "\n",
    "        # Output layers for Class inference\n",
    "        self.output_category = nn.Sequential(\n",
    "            nn.Linear(hidden_dim * 2, hidden_dim),\n",
    "            nn.BatchNorm1d(hidden_dim),\n",
    "            nn.Dropout(0.3),\n",
    "            nn.ReLU(),\n",
    "            nn.Linear(hidden_dim, output_dim_category),\n",
    "        )\n",
    "\n",
    "        # Output layers for Price inference\n",
    "        self.output_price = nn.Sequential(\n",
    "            nn.Linear(hidden_dim * 2, hidden_dim),\n",
    "            getattr(nn, relu_type)(),\n",
    "            nn.Linear(hidden_dim, output_dim_price),\n",
    "        )\n",
    "\n",
    "        # Loss weights\n",
    "        self.price_loss_weight = price_loss_weight\n",
    "        self.category_loss_weight = category_loss_weight\n",
    "\n",
    "        # Initialize weights using kaiming uniform\n",
    "        self.initialize_weights()\n",
    "\n",
    "    def initialize_weights(self):\n",
    "        for emb in self.embeddings:\n",
    "            nn.init.kaiming_uniform_(emb.weight.data, nonlinearity='leaky_relu')\n",
    "        for module in list(self.fc.children()) + list(self.output_price.children()) + list(self.output_category.children()):\n",
    "            if isinstance(module, nn.Linear):\n",
    "                nn.init.kaiming_uniform_(module.weight.data, nonlinearity='leaky_relu')\n",
    "\n",
    "    def forward(self, cat_features, num_features):\n",
    "    \n",
    "        # Pass categorical features through embedding layers\n",
    "        embedded_features = [emb(cat_features[:, i]) for i, emb in enumerate(self.embeddings)]\n",
    "        embedded_features = torch.cat(embedded_features, dim=1)\n",
    "        \n",
    "        # Concatenate embedded categorical features and numerical features\n",
    "        concat_features = torch.cat([embedded_features, num_features], dim=1)\n",
    "        shared_features = self.fc(concat_features)\n",
    "\n",
    "        # Generate outputs for both tasks\n",
    "        price_output = self.output_price(shared_features)\n",
    "        category_output = self.output_category(shared_features)\n",
    "\n",
    "        return price_output, category_output\n",
    "\n",
    "    def training_step(self, batch, batch_idx):\n",
    "        num_features, cat_features, price_targets, category_targets = batch\n",
    "        price_output, category_output = self(cat_features, num_features)\n",
    "        price_loss = nn.MSELoss()(price_output, price_targets)\n",
    "        category_loss = nn.CrossEntropyLoss()(category_output, category_targets)\n",
    "\n",
    "        loss = (self.price_loss_weight * price_loss +\n",
    "                    self.category_loss_weight * category_loss)\n",
    "        \n",
    "        self.log('train_loss', loss, on_step=True, on_epoch=True, prog_bar=True)\n",
    "        return loss\n",
    "    \n",
    "    def validation_step(self, batch, batch_idx):\n",
    "        num_features, cat_features, price_targets, category_targets = batch\n",
    "        price_output, category_output = self(cat_features, num_features)\n",
    "        price_loss = nn.MSELoss()(price_output, price_targets)\n",
    "        category_loss = nn.CrossEntropyLoss()(category_output, category_targets)\n",
    "\n",
    "        loss = (self.price_loss_weight * price_loss +\n",
    "                    self.category_loss_weight * category_loss)\n",
    "\n",
    "        val_accuracy = accuracy(torch.argmax(category_output, dim=1), category_targets, task='multiclass', num_classes = len(np.unique(target_clas)))\n",
    "        val_rmse = torch.sqrt(mean_squared_error(price_output.squeeze(), price_targets))\n",
    "\n",
    "        self.log('val_loss', loss, on_epoch=True, prog_bar=True)\n",
    "        self.log('val_price_loss', price_loss, on_epoch=True, prog_bar=True)\n",
    "        self.log('val_category_loss', category_loss, on_epoch=True, prog_bar=True)\n",
    "        self.log('val_accuracy', val_accuracy, on_epoch=True, prog_bar=True)\n",
    "        self.log('val_rmse', val_rmse, on_epoch=True, prog_bar=True)\n",
    "\n",
    "        return loss\n",
    "    \n",
    "    \n",
    "    \n",
    "    def test_step(self, batch, batch_idx):\n",
    "        num_features, cat_features, price_targets, category_targets = batch\n",
    "        price_output, category_output = self(cat_features, num_features)\n",
    "        price_loss = nn.MSELoss()(price_output, price_targets)\n",
    "        category_loss = nn.CrossEntropyLoss()(category_output, category_targets)\n",
    "\n",
    "        test_accuracy = accuracy(torch.argmax(category_output, dim=1), category_targets, task='multiclass', num_classes = len(np.unique(target_clas)))\n",
    "        test_rmse = torch.sqrt(mean_squared_error(price_output.squeeze(), price_targets))\n",
    "\n",
    "        self.log('test_price_loss', price_loss)\n",
    "        self.log('test_category_loss', category_loss)\n",
    "        self.log('test_accuracy', test_accuracy)\n",
    "        self.log('test_rmse', test_rmse)\n",
    "\n",
    "        return {'test_price_loss': price_loss, 'test_category_loss': category_loss, 'test_accuracy': test_accuracy, 'test_rmse': test_rmse}\n",
    "\n",
    "    def configure_optimizers(self):\n",
    "        optimizer_class = getattr(torch.optim, self.optimizer_type)\n",
    "        optimizer = optimizer_class(self.parameters(), lr=self.lr)\n",
    "        return optimizer"
   ]
  },
  {
   "cell_type": "code",
   "execution_count": 12,
   "metadata": {},
   "outputs": [
    {
     "name": "stdout",
     "output_type": "stream",
     "text": [
      "Number of classes: 16\n",
      "Number of categorical columns: 36\n",
      "Number of numerical features: 34\n",
      "Number of unique categories per column: [5, 2, 4, 4, 2, 5, 3, 25, 9, 8, 6, 8, 15, 16, 4, 4, 5, 6, 5, 5, 5, 7, 7, 6, 5, 2, 4, 7, 6, 7, 4, 6, 6, 3, 9, 6]\n"
     ]
    }
   ],
   "source": [
    "from sklearn.preprocessing import StandardScaler\n",
    "\n",
    "# Initialize the scaler\n",
    "scaler = StandardScaler()\n",
    "\n",
    "# Fit and transform the numerical features\n",
    "scaled_numerical_features = scaler.fit_transform(numerical_features)\n",
    "\n",
    "num_features_tensor = torch.tensor(numerical_features, dtype=torch.float32)\n",
    "cat_features_tensor = torch.tensor(categorical_features, dtype=torch.long)\n",
    "target_regr_tensor = torch.tensor(target_regr, dtype=torch.float32)\n",
    "target_clas_tensor = torch.tensor(target_clas, dtype=torch.long)  \n",
    "\n",
    "dataset = TensorDataset(num_features_tensor, cat_features_tensor, target_regr_tensor, target_clas_tensor)\n",
    "\n",
    "total_size = len(dataset)\n",
    "train_size = int(0.7 * total_size)\n",
    "val_size = int(0.15 * total_size)\n",
    "test_size = total_size - train_size - val_size\n",
    "train_dataset, val_dataset, test_dataset = random_split(dataset, [train_size, val_size, test_size])\n",
    "\n",
    "# Initialize the scaler\n",
    "scaler = StandardScaler()\n",
    "\n",
    "# Extract numerical features for scaling from datasets\n",
    "train_numerical_features = torch.stack([x[0] for x in train_dataset])\n",
    "val_numerical_features = torch.stack([x[0] for x in val_dataset])\n",
    "test_numerical_features = torch.stack([x[0] for x in test_dataset])\n",
    "\n",
    "# Fit the scaler only on training data\n",
    "scaler.fit(train_numerical_features.numpy())\n",
    "\n",
    "# Transform each set using the fitted scaler\n",
    "scaled_train_numerical_features = torch.tensor(scaler.transform(train_numerical_features), dtype=torch.float32)\n",
    "scaled_val_numerical_features = torch.tensor(scaler.transform(val_numerical_features), dtype=torch.float32)\n",
    "scaled_test_numerical_features = torch.tensor(scaler.transform(test_numerical_features), dtype=torch.float32)\n",
    "\n",
    "# Rebuild the datasets using the scaled numerical features\n",
    "train_dataset = TensorDataset(scaled_train_numerical_features, torch.stack([x[1] for x in train_dataset]), torch.stack([x[2] for x in train_dataset]), torch.stack([x[3] for x in train_dataset]))\n",
    "val_dataset = TensorDataset(scaled_val_numerical_features, torch.stack([x[1] for x in val_dataset]), torch.stack([x[2] for x in val_dataset]), torch.stack([x[3] for x in val_dataset]))\n",
    "test_dataset = TensorDataset(scaled_test_numerical_features, torch.stack([x[1] for x in test_dataset]), torch.stack([x[2] for x in test_dataset]), torch.stack([x[3] for x in test_dataset]))\n",
    "\n",
    "batch_size = 64\n",
    "train_loader = DataLoader(train_dataset, batch_size=batch_size, shuffle=True)\n",
    "val_loader = DataLoader(val_dataset, batch_size=batch_size)\n",
    "test_loader = DataLoader(test_dataset, batch_size=batch_size)\n",
    "\n",
    "num_classes = len(np.unique(target_clas_tensor.numpy()))\n",
    "num_categorical_cols = cat_features_tensor.shape[1]  \n",
    "num_numerical_features = num_features_tensor.shape[1] \n",
    "num_embds = [len(np.unique(cat_features_tensor[:, i])) for i in range(num_categorical_cols)]\n",
    "\n",
    "print(\"Number of classes:\", num_classes)\n",
    "print(\"Number of categorical columns:\", num_categorical_cols)\n",
    "print(\"Number of numerical features:\", num_numerical_features)\n",
    "print(\"Number of unique categories per column:\", num_embds)"
   ]
  },
  {
   "cell_type": "code",
   "execution_count": 13,
   "metadata": {},
   "outputs": [
    {
     "name": "stdout",
     "output_type": "stream",
     "text": [
      "Number of embedding layers: 36\n"
     ]
    },
    {
     "name": "stderr",
     "output_type": "stream",
     "text": [
      "GPU available: True (cuda), used: True\n",
      "TPU available: False, using: 0 TPU cores\n",
      "IPU available: False, using: 0 IPUs\n",
      "HPU available: False, using: 0 HPUs\n",
      "c:\\Users\\Owner\\Documents\\MMA\\MULTI TASK\\Final Project\\.venv\\Lib\\site-packages\\pytorch_lightning\\trainer\\connectors\\logger_connector\\logger_connector.py:75: Starting from v1.9.0, `tensorboardX` has been removed as a dependency of the `pytorch_lightning` package, due to potential conflicts with other packages in the ML ecosystem. For this reason, `logger=True` will use `CSVLogger` as the default logger, unless the `tensorboard` or `tensorboardX` packages are found. Please `pip install lightning[extra]` or one of them to enable TensorBoard support by default\n",
      "You are using a CUDA device ('NVIDIA GeForce RTX 3080') that has Tensor Cores. To properly utilize them, you should set `torch.set_float32_matmul_precision('medium' | 'high')` which will trade-off precision for performance. For more details, read https://pytorch.org/docs/stable/generated/torch.set_float32_matmul_precision.html#torch.set_float32_matmul_precision\n",
      "c:\\Users\\Owner\\Documents\\MMA\\MULTI TASK\\Final Project\\.venv\\Lib\\site-packages\\pytorch_lightning\\callbacks\\model_checkpoint.py:653: Checkpoint directory C:\\Users\\Owner\\Documents\\MMA\\MULTI TASK\\Final Project\\checkpoints exists and is not empty.\n",
      "LOCAL_RANK: 0 - CUDA_VISIBLE_DEVICES: [0]\n",
      "\n",
      "  | Name            | Type       | Params\n",
      "-----------------------------------------------\n",
      "0 | embeddings      | ModuleList | 2.3 K \n",
      "1 | fc              | Sequential | 346 K \n",
      "2 | output_category | Sequential | 35.2 K\n",
      "3 | output_price    | Sequential | 33.0 K\n",
      "-----------------------------------------------\n",
      "417 K     Trainable params\n",
      "0         Non-trainable params\n",
      "417 K     Total params\n",
      "1.669     Total estimated model params size (MB)\n"
     ]
    },
    {
     "name": "stdout",
     "output_type": "stream",
     "text": [
      "Sanity Checking DataLoader 0:   0%|          | 0/2 [00:00<?, ?it/s]"
     ]
    },
    {
     "name": "stderr",
     "output_type": "stream",
     "text": [
      "c:\\Users\\Owner\\Documents\\MMA\\MULTI TASK\\Final Project\\.venv\\Lib\\site-packages\\pytorch_lightning\\trainer\\connectors\\data_connector.py:441: The 'val_dataloader' does not have many workers which may be a bottleneck. Consider increasing the value of the `num_workers` argument` to `num_workers=7` in the `DataLoader` to improve performance.\n",
      "c:\\Users\\Owner\\Documents\\MMA\\MULTI TASK\\Final Project\\.venv\\Lib\\site-packages\\torch\\nn\\modules\\loss.py:535: UserWarning: Using a target size (torch.Size([64])) that is different to the input size (torch.Size([64, 1])). This will likely lead to incorrect results due to broadcasting. Please ensure they have the same size.\n",
      "  return F.mse_loss(input, target, reduction=self.reduction)\n"
     ]
    },
    {
     "name": "stdout",
     "output_type": "stream",
     "text": [
      "                                                                           "
     ]
    },
    {
     "name": "stderr",
     "output_type": "stream",
     "text": [
      "c:\\Users\\Owner\\Documents\\MMA\\MULTI TASK\\Final Project\\.venv\\Lib\\site-packages\\pytorch_lightning\\trainer\\connectors\\data_connector.py:441: The 'train_dataloader' does not have many workers which may be a bottleneck. Consider increasing the value of the `num_workers` argument` to `num_workers=7` in the `DataLoader` to improve performance.\n",
      "c:\\Users\\Owner\\Documents\\MMA\\MULTI TASK\\Final Project\\.venv\\Lib\\site-packages\\pytorch_lightning\\loops\\fit_loop.py:298: The number of training batches (16) is smaller than the logging interval Trainer(log_every_n_steps=50). Set a lower value for log_every_n_steps if you want to see logs for the training epoch.\n"
     ]
    },
    {
     "name": "stdout",
     "output_type": "stream",
     "text": [
      "Epoch 0: 100%|██████████| 16/16 [00:00<00:00, 39.75it/s, v_num=45, train_loss_step=35.00]"
     ]
    },
    {
     "name": "stderr",
     "output_type": "stream",
     "text": [
      "c:\\Users\\Owner\\Documents\\MMA\\MULTI TASK\\Final Project\\.venv\\Lib\\site-packages\\torch\\nn\\modules\\loss.py:535: UserWarning: Using a target size (torch.Size([61])) that is different to the input size (torch.Size([61, 1])). This will likely lead to incorrect results due to broadcasting. Please ensure they have the same size.\n",
      "  return F.mse_loss(input, target, reduction=self.reduction)\n"
     ]
    },
    {
     "name": "stdout",
     "output_type": "stream",
     "text": [
      "Epoch 0: 100%|██████████| 16/16 [00:00<00:00, 34.38it/s, v_num=45, train_loss_step=35.00, val_loss=39.20, val_price_loss=3.74e+10, val_category_loss=1.820, val_accuracy=0.486, val_rmse=1.93e+5, train_loss_epoch=42.60]"
     ]
    },
    {
     "name": "stderr",
     "output_type": "stream",
     "text": [
      "c:\\Users\\Owner\\Documents\\MMA\\MULTI TASK\\Final Project\\.venv\\Lib\\site-packages\\torch\\nn\\modules\\loss.py:535: UserWarning: Using a target size (torch.Size([26])) that is different to the input size (torch.Size([26, 1])). This will likely lead to incorrect results due to broadcasting. Please ensure they have the same size.\n",
      "  return F.mse_loss(input, target, reduction=self.reduction)\n",
      "Metric val_loss improved. New best score: 39.192\n"
     ]
    },
    {
     "name": "stdout",
     "output_type": "stream",
     "text": [
      "Epoch 1: 100%|██████████| 16/16 [00:00<00:00, 39.13it/s, v_num=45, train_loss_step=43.00, val_loss=38.40, val_price_loss=3.74e+10, val_category_loss=1.100, val_accuracy=0.656, val_rmse=1.93e+5, train_loss_epoch=41.80]"
     ]
    },
    {
     "name": "stderr",
     "output_type": "stream",
     "text": [
      "Metric val_loss improved by 0.742 >= min_delta = 0.0001. New best score: 38.450\n"
     ]
    },
    {
     "name": "stdout",
     "output_type": "stream",
     "text": [
      "Epoch 2: 100%|██████████| 16/16 [00:00<00:00, 40.11it/s, v_num=45, train_loss_step=46.60, val_loss=38.40, val_price_loss=3.73e+10, val_category_loss=1.090, val_accuracy=0.615, val_rmse=1.93e+5, train_loss_epoch=41.50]"
     ]
    },
    {
     "name": "stderr",
     "output_type": "stream",
     "text": [
      "Metric val_loss improved by 0.058 >= min_delta = 0.0001. New best score: 38.392\n"
     ]
    },
    {
     "name": "stdout",
     "output_type": "stream",
     "text": [
      "Epoch 3: 100%|██████████| 16/16 [00:00<00:00, 35.81it/s, v_num=45, train_loss_step=41.80, val_loss=38.20, val_price_loss=3.72e+10, val_category_loss=0.986, val_accuracy=0.638, val_rmse=1.93e+5, train_loss_epoch=41.20]"
     ]
    },
    {
     "name": "stderr",
     "output_type": "stream",
     "text": [
      "Metric val_loss improved by 0.211 >= min_delta = 0.0001. New best score: 38.181\n"
     ]
    },
    {
     "name": "stdout",
     "output_type": "stream",
     "text": [
      "Epoch 6: 100%|██████████| 16/16 [00:00<00:00, 38.75it/s, v_num=45, train_loss_step=7.910, val_loss=23.90, val_price_loss=5.87e+9, val_category_loss=18.00, val_accuracy=0.206, val_rmse=7.4e+4, train_loss_epoch=12.10]  "
     ]
    },
    {
     "name": "stderr",
     "output_type": "stream",
     "text": [
      "Metric val_loss improved by 14.289 >= min_delta = 0.0001. New best score: 23.892\n"
     ]
    },
    {
     "name": "stdout",
     "output_type": "stream",
     "text": [
      "Epoch 7: 100%|██████████| 16/16 [00:00<00:00, 39.32it/s, v_num=45, train_loss_step=6.180, val_loss=13.80, val_price_loss=5.86e+9, val_category_loss=7.970, val_accuracy=0.239, val_rmse=7.27e+4, train_loss_epoch=8.790]"
     ]
    },
    {
     "name": "stderr",
     "output_type": "stream",
     "text": [
      "Metric val_loss improved by 10.061 >= min_delta = 0.0001. New best score: 13.831\n"
     ]
    },
    {
     "name": "stdout",
     "output_type": "stream",
     "text": [
      "Epoch 9: 100%|██████████| 16/16 [00:00<00:00, 29.54it/s, v_num=45, train_loss_step=5.310, val_loss=13.50, val_price_loss=5.82e+9, val_category_loss=7.660, val_accuracy=0.206, val_rmse=7.38e+4, train_loss_epoch=7.810]"
     ]
    },
    {
     "name": "stderr",
     "output_type": "stream",
     "text": [
      "Metric val_loss improved by 0.352 >= min_delta = 0.0001. New best score: 13.479\n"
     ]
    },
    {
     "name": "stdout",
     "output_type": "stream",
     "text": [
      "Epoch 11: 100%|██████████| 16/16 [00:00<00:00, 37.40it/s, v_num=45, train_loss_step=7.400, val_loss=9.970, val_price_loss=5.96e+9, val_category_loss=4.010, val_accuracy=0.326, val_rmse=7.43e+4, train_loss_epoch=7.620]"
     ]
    },
    {
     "name": "stderr",
     "output_type": "stream",
     "text": [
      "Metric val_loss improved by 3.512 >= min_delta = 0.0001. New best score: 9.967\n"
     ]
    },
    {
     "name": "stdout",
     "output_type": "stream",
     "text": [
      "Epoch 14: 100%|██████████| 16/16 [00:00<00:00, 29.28it/s, v_num=45, train_loss_step=11.80, val_loss=8.710, val_price_loss=6.03e+9, val_category_loss=2.670, val_accuracy=0.482, val_rmse=7.61e+4, train_loss_epoch=7.490]"
     ]
    },
    {
     "name": "stderr",
     "output_type": "stream",
     "text": [
      "Metric val_loss improved by 1.261 >= min_delta = 0.0001. New best score: 8.706\n"
     ]
    },
    {
     "name": "stdout",
     "output_type": "stream",
     "text": [
      "Epoch 19: 100%|██████████| 16/16 [00:00<00:00, 27.66it/s, v_num=45, train_loss_step=5.340, val_loss=10.60, val_price_loss=6.24e+9, val_category_loss=4.320, val_accuracy=0.261, val_rmse=7.77e+4, train_loss_epoch=7.330] "
     ]
    },
    {
     "name": "stderr",
     "output_type": "stream",
     "text": [
      "Monitored metric val_loss did not improve in the last 5 records. Best score: 8.706. Signaling Trainer to stop.\n"
     ]
    },
    {
     "name": "stdout",
     "output_type": "stream",
     "text": [
      "Epoch 19: 100%|██████████| 16/16 [00:00<00:00, 25.38it/s, v_num=45, train_loss_step=5.340, val_loss=10.60, val_price_loss=6.24e+9, val_category_loss=4.320, val_accuracy=0.261, val_rmse=7.77e+4, train_loss_epoch=7.330]\n"
     ]
    }
   ],
   "source": [
    "\n",
    "\n",
    "model = HousingNN(\n",
    "    cat_cols=[i for i in range(num_categorical_cols)],  \n",
    "    num_cols=num_numerical_features,  \n",
    "    num_layers=5, \n",
    "    num_embds=num_embds, \n",
    "    embedding_dim=10,  \n",
    "    hidden_dim=128,\n",
    "    output_dim_price=1,\n",
    "    output_dim_category=num_classes,\n",
    "    \n",
    ")\n",
    "\n",
    "# Setup trainer with optional callbacks for checkpointing and early stopping\n",
    "checkpoint_callback = ModelCheckpoint(\n",
    "    monitor='val_loss',\n",
    "    dirpath='checkpoints/',\n",
    "    filename='model-{epoch:02d}-{val_loss:.2f}',\n",
    "    save_top_k=3,\n",
    "    mode='min'\n",
    ")\n",
    "\n",
    "early_stopping = EarlyStopping(\n",
    "    monitor='val_loss',\n",
    "    patience=5,\n",
    "    verbose=True,\n",
    "    mode='min',\n",
    "    min_delta= 0.0001\n",
    ")\n",
    "\n",
    "trainer = pl.Trainer(\n",
    "    max_epochs=50,\n",
    "    callbacks=[checkpoint_callback, early_stopping],\n",
    "    accelerator='gpu',  \n",
    "    devices=1 if torch.cuda.is_available() else 0, \n",
    ")\n",
    "\n",
    "# Fit the model\n",
    "trainer.fit(model, train_loader, val_loader)"
   ]
  },
  {
   "cell_type": "code",
   "execution_count": 14,
   "metadata": {},
   "outputs": [
    {
     "name": "stderr",
     "output_type": "stream",
     "text": [
      "c:\\Users\\Owner\\Documents\\MMA\\MULTI TASK\\Final Project\\.venv\\Lib\\site-packages\\pytorch_lightning\\trainer\\connectors\\checkpoint_connector.py:145: `.test(ckpt_path=None)` was called without a model. The best model of the previous `fit` call will be used. You can pass `.test(ckpt_path='best')` to use the best model or `.test(ckpt_path='last')` to use the last model. If you pass a value, this warning will be silenced.\n",
      "Restoring states from the checkpoint path at C:\\Users\\Owner\\Documents\\MMA\\MULTI TASK\\Final Project\\checkpoints\\model-epoch=14-val_loss=8.71.ckpt\n",
      "LOCAL_RANK: 0 - CUDA_VISIBLE_DEVICES: [0]\n",
      "Loaded model weights from the checkpoint at C:\\Users\\Owner\\Documents\\MMA\\MULTI TASK\\Final Project\\checkpoints\\model-epoch=14-val_loss=8.71.ckpt\n",
      "c:\\Users\\Owner\\Documents\\MMA\\MULTI TASK\\Final Project\\.venv\\Lib\\site-packages\\pytorch_lightning\\trainer\\connectors\\data_connector.py:441: The 'test_dataloader' does not have many workers which may be a bottleneck. Consider increasing the value of the `num_workers` argument` to `num_workers=7` in the `DataLoader` to improve performance.\n"
     ]
    },
    {
     "name": "stdout",
     "output_type": "stream",
     "text": [
      "Testing DataLoader 0: 100%|██████████| 4/4 [00:00<00:00, 65.75it/s]"
     ]
    },
    {
     "name": "stderr",
     "output_type": "stream",
     "text": [
      "c:\\Users\\Owner\\Documents\\MMA\\MULTI TASK\\Final Project\\.venv\\Lib\\site-packages\\torch\\nn\\modules\\loss.py:535: UserWarning: Using a target size (torch.Size([28])) that is different to the input size (torch.Size([28, 1])). This will likely lead to incorrect results due to broadcasting. Please ensure they have the same size.\n",
      "  return F.mse_loss(input, target, reduction=self.reduction)\n"
     ]
    },
    {
     "name": "stdout",
     "output_type": "stream",
     "text": [
      "Testing DataLoader 0: 100%|██████████| 4/4 [00:00<00:00, 54.94it/s]\n",
      "────────────────────────────────────────────────────────────────────────────────────────────────────────────────────────\n",
      "       Test metric             DataLoader 0\n",
      "────────────────────────────────────────────────────────────────────────────────────────────────────────────────────────\n",
      "      test_accuracy         0.44090908765792847\n",
      "   test_category_loss       2.6582489013671875\n",
      "     test_price_loss           4592699904.0\n",
      "        test_rmse              67954.3828125\n",
      "────────────────────────────────────────────────────────────────────────────────────────────────────────────────────────\n"
     ]
    },
    {
     "data": {
      "text/plain": [
       "[{'test_price_loss': 4592699904.0,\n",
       "  'test_category_loss': 2.6582489013671875,\n",
       "  'test_accuracy': 0.44090908765792847,\n",
       "  'test_rmse': 67954.3828125}]"
      ]
     },
     "execution_count": 14,
     "metadata": {},
     "output_type": "execute_result"
    }
   ],
   "source": [
    "trainer.test(dataloaders=test_loader)"
   ]
  },
  {
   "cell_type": "code",
   "execution_count": 15,
   "metadata": {},
   "outputs": [
    {
     "name": "stderr",
     "output_type": "stream",
     "text": [
      "c:\\Users\\Owner\\Documents\\MMA\\MULTI TASK\\Final Project\\.venv\\Lib\\site-packages\\tqdm\\auto.py:21: TqdmWarning: IProgress not found. Please update jupyter and ipywidgets. See https://ipywidgets.readthedocs.io/en/stable/user_install.html\n",
      "  from .autonotebook import tqdm as notebook_tqdm\n"
     ]
    }
   ],
   "source": [
    "import optuna\n",
    "from optuna.integration import PyTorchLightningPruningCallback\n",
    "\n",
    "def objective(trial: optuna.Trial):\n",
    "    # Define hyperparameters using trial object\n",
    "    \n",
    "    num_layers = trial.suggest_int(\"num_layers\", 1, 5)\n",
    "    hidden_dim = trial.suggest_categorical(\"hidden_dim\", [64, 128, 256, 512, 1024])\n",
    "    embedding_dim = trial.suggest_int(\"embedding_dim\", 5, 20)\n",
    "    lr = trial.suggest_float(\"lr\", 1e-5, 1e-1, log=True)\n",
    "    optimizer_type = trial.suggest_categorical(\"optimizer_type\", [\"Adam\", \"SGD\"])\n",
    "    relu_type = trial.suggest_categorical(\"relu_type\", [\"LeakyReLU\", \"ReLU\"])\n",
    "    dropoutrate = trial.suggest_float(\"droupoutrate\", 0, 0.5)\n",
    "    \n",
    "    # Create the model instance with the suggested hyperparameters\n",
    "    model = HousingNN(\n",
    "        cat_cols=[i for i in range(num_categorical_cols)],\n",
    "        num_cols=num_numerical_features,\n",
    "        num_layers=num_layers,\n",
    "        num_embds=num_embds,\n",
    "        embedding_dim=embedding_dim, \n",
    "        hidden_dim=hidden_dim,\n",
    "        output_dim_price=1,\n",
    "        output_dim_category=num_classes,\n",
    "        price_loss_weight=1e-9,\n",
    "        category_loss_weight=1,       # could also be tuned\n",
    "        lr = lr,\n",
    "        optimizer_type= optimizer_type,\n",
    "        relu_type= relu_type,\n",
    "        dropoutrate= dropoutrate\n",
    "        \n",
    "    )\n",
    "\n",
    "    early_stopping = EarlyStopping(\n",
    "        monitor='val_loss',\n",
    "        patience=5,\n",
    "        verbose=True,\n",
    "        mode='min',\n",
    "        min_delta= 0.0001\n",
    "        \n",
    "    )\n",
    "    \n",
    "    # Set up PyTorch Lightning trainer\n",
    "    trainer = pl.Trainer(\n",
    "        logger=False,\n",
    "        max_epochs=40,  # Shorter for tuning, longer for final training\n",
    "        accelerator='gpu' if torch.cuda.is_available() else None,\n",
    "        devices=1 if torch.cuda.is_available() else 0,\n",
    "        callbacks=[PyTorchLightningPruningCallback(trial, monitor=\"val_loss\"),\n",
    "                   early_stopping]\n",
    "    )\n",
    "    \n",
    "    # Fit model\n",
    "    trainer.fit(model, train_loader, val_loader)\n",
    "\n",
    "    # Retrieve the best validation accuracy and RMSE from logged metrics\n",
    "    val_accuracy = trainer.callback_metrics.get('val_accuracy', 0)\n",
    "    val_rmse = trainer.callback_metrics.get('val_rmse', float('inf'))\n",
    "\n",
    "    # Optionally store these metrics in trial (useful for later analysis)\n",
    "    trial.set_user_attr('val_accuracy', val_accuracy)\n",
    "    trial.set_user_attr('val_rmse', val_rmse)\n",
    "    \n",
    "    # Return the best validation loss\n",
    "    return trainer.callback_metrics[\"val_loss\"].item()\n"
   ]
  },
  {
   "cell_type": "code",
   "execution_count": 16,
   "metadata": {},
   "outputs": [
    {
     "name": "stderr",
     "output_type": "stream",
     "text": [
      "[I 2024-04-28 23:46:20,440] A new study created in memory with name: no-name-26b53c11-954b-4019-8245-90a3ab4f3ad5\n"
     ]
    },
    {
     "name": "stdout",
     "output_type": "stream",
     "text": [
      "Number of embedding layers: 36\n"
     ]
    },
    {
     "name": "stderr",
     "output_type": "stream",
     "text": [
      "GPU available: True (cuda), used: True\n",
      "TPU available: False, using: 0 TPU cores\n",
      "IPU available: False, using: 0 IPUs\n",
      "HPU available: False, using: 0 HPUs\n",
      "c:\\Users\\Owner\\Documents\\MMA\\MULTI TASK\\Final Project\\.venv\\Lib\\site-packages\\pytorch_lightning\\callbacks\\model_checkpoint.py:653: Checkpoint directory c:\\Users\\Owner\\Documents\\MMA\\MULTI TASK\\Final Project\\checkpoints exists and is not empty.\n",
      "LOCAL_RANK: 0 - CUDA_VISIBLE_DEVICES: [0]\n",
      "\n",
      "  | Name            | Type       | Params\n",
      "-----------------------------------------------\n",
      "0 | embeddings      | ModuleList | 1.4 K \n",
      "1 | fc              | Sequential | 653 K \n",
      "2 | output_category | Sequential | 534 K \n",
      "3 | output_price    | Sequential | 525 K \n",
      "-----------------------------------------------\n",
      "1.7 M     Trainable params\n",
      "0         Non-trainable params\n",
      "1.7 M     Total params\n",
      "6.858     Total estimated model params size (MB)\n"
     ]
    },
    {
     "name": "stdout",
     "output_type": "stream",
     "text": [
      "Sanity Checking DataLoader 0:  50%|█████     | 1/2 [00:00<00:00, 66.84it/s]"
     ]
    },
    {
     "name": "stderr",
     "output_type": "stream",
     "text": [
      "c:\\Users\\Owner\\Documents\\MMA\\MULTI TASK\\Final Project\\.venv\\Lib\\site-packages\\pytorch_lightning\\trainer\\connectors\\data_connector.py:441: The 'val_dataloader' does not have many workers which may be a bottleneck. Consider increasing the value of the `num_workers` argument` to `num_workers=7` in the `DataLoader` to improve performance.\n",
      "c:\\Users\\Owner\\Documents\\MMA\\MULTI TASK\\Final Project\\.venv\\Lib\\site-packages\\torch\\nn\\modules\\loss.py:535: UserWarning: Using a target size (torch.Size([64])) that is different to the input size (torch.Size([64, 1])). This will likely lead to incorrect results due to broadcasting. Please ensure they have the same size.\n",
      "  return F.mse_loss(input, target, reduction=self.reduction)\n"
     ]
    },
    {
     "name": "stdout",
     "output_type": "stream",
     "text": [
      "                                                                           "
     ]
    },
    {
     "name": "stderr",
     "output_type": "stream",
     "text": [
      "c:\\Users\\Owner\\Documents\\MMA\\MULTI TASK\\Final Project\\.venv\\Lib\\site-packages\\pytorch_lightning\\trainer\\connectors\\data_connector.py:441: The 'train_dataloader' does not have many workers which may be a bottleneck. Consider increasing the value of the `num_workers` argument` to `num_workers=7` in the `DataLoader` to improve performance.\n"
     ]
    },
    {
     "name": "stdout",
     "output_type": "stream",
     "text": [
      "Epoch 0: 100%|██████████| 16/16 [00:00<00:00, 33.92it/s, train_loss_step=41.70]"
     ]
    },
    {
     "name": "stderr",
     "output_type": "stream",
     "text": [
      "c:\\Users\\Owner\\Documents\\MMA\\MULTI TASK\\Final Project\\.venv\\Lib\\site-packages\\torch\\nn\\modules\\loss.py:535: UserWarning: Using a target size (torch.Size([61])) that is different to the input size (torch.Size([61, 1])). This will likely lead to incorrect results due to broadcasting. Please ensure they have the same size.\n",
      "  return F.mse_loss(input, target, reduction=self.reduction)\n"
     ]
    },
    {
     "name": "stdout",
     "output_type": "stream",
     "text": [
      "Epoch 0: 100%|██████████| 16/16 [00:00<00:00, 29.76it/s, train_loss_step=41.70, val_loss=40.80, val_price_loss=3.74e+10, val_category_loss=3.400, val_accuracy=0.0183, val_rmse=1.93e+5, train_loss_epoch=44.10]"
     ]
    },
    {
     "name": "stderr",
     "output_type": "stream",
     "text": [
      "c:\\Users\\Owner\\Documents\\MMA\\MULTI TASK\\Final Project\\.venv\\Lib\\site-packages\\torch\\nn\\modules\\loss.py:535: UserWarning: Using a target size (torch.Size([26])) that is different to the input size (torch.Size([26, 1])). This will likely lead to incorrect results due to broadcasting. Please ensure they have the same size.\n",
      "  return F.mse_loss(input, target, reduction=self.reduction)\n",
      "Metric val_loss improved. New best score: 40.782\n"
     ]
    },
    {
     "name": "stdout",
     "output_type": "stream",
     "text": [
      "Epoch 1: 100%|██████████| 16/16 [00:00<00:00, 31.39it/s, train_loss_step=44.30, val_loss=40.80, val_price_loss=3.74e+10, val_category_loss=3.390, val_accuracy=0.00917, val_rmse=1.93e+5, train_loss_epoch=44.00]"
     ]
    },
    {
     "name": "stderr",
     "output_type": "stream",
     "text": [
      "Metric val_loss improved by 0.011 >= min_delta = 0.0001. New best score: 40.771\n"
     ]
    },
    {
     "name": "stdout",
     "output_type": "stream",
     "text": [
      "Epoch 2: 100%|██████████| 16/16 [00:00<00:00, 31.96it/s, train_loss_step=52.20, val_loss=40.70, val_price_loss=3.74e+10, val_category_loss=3.350, val_accuracy=0.0138, val_rmse=1.93e+5, train_loss_epoch=44.00] "
     ]
    },
    {
     "name": "stderr",
     "output_type": "stream",
     "text": [
      "Metric val_loss improved by 0.037 >= min_delta = 0.0001. New best score: 40.734\n"
     ]
    },
    {
     "name": "stdout",
     "output_type": "stream",
     "text": [
      "Epoch 3: 100%|██████████| 16/16 [00:00<00:00, 33.74it/s, train_loss_step=55.30, val_loss=40.70, val_price_loss=3.74e+10, val_category_loss=3.300, val_accuracy=0.0183, val_rmse=1.93e+5, train_loss_epoch=44.00]"
     ]
    },
    {
     "name": "stderr",
     "output_type": "stream",
     "text": [
      "Metric val_loss improved by 0.047 >= min_delta = 0.0001. New best score: 40.687\n"
     ]
    },
    {
     "name": "stdout",
     "output_type": "stream",
     "text": [
      "Epoch 4: 100%|██████████| 16/16 [00:00<00:00, 34.06it/s, train_loss_step=39.60, val_loss=40.70, val_price_loss=3.74e+10, val_category_loss=3.270, val_accuracy=0.0229, val_rmse=1.93e+5, train_loss_epoch=43.90]"
     ]
    },
    {
     "name": "stderr",
     "output_type": "stream",
     "text": [
      "Metric val_loss improved by 0.036 >= min_delta = 0.0001. New best score: 40.651\n"
     ]
    },
    {
     "name": "stdout",
     "output_type": "stream",
     "text": [
      "Epoch 5: 100%|██████████| 16/16 [00:00<00:00, 37.31it/s, train_loss_step=53.10, val_loss=40.60, val_price_loss=3.74e+10, val_category_loss=3.230, val_accuracy=0.0321, val_rmse=1.93e+5, train_loss_epoch=43.90]"
     ]
    },
    {
     "name": "stderr",
     "output_type": "stream",
     "text": [
      "Metric val_loss improved by 0.036 >= min_delta = 0.0001. New best score: 40.615\n"
     ]
    },
    {
     "name": "stdout",
     "output_type": "stream",
     "text": [
      "Epoch 6: 100%|██████████| 16/16 [00:00<00:00, 32.87it/s, train_loss_step=52.50, val_loss=40.60, val_price_loss=3.74e+10, val_category_loss=3.190, val_accuracy=0.0459, val_rmse=1.93e+5, train_loss_epoch=43.80]"
     ]
    },
    {
     "name": "stderr",
     "output_type": "stream",
     "text": [
      "Metric val_loss improved by 0.040 >= min_delta = 0.0001. New best score: 40.574\n"
     ]
    },
    {
     "name": "stdout",
     "output_type": "stream",
     "text": [
      "Epoch 7: 100%|██████████| 16/16 [00:00<00:00, 33.85it/s, train_loss_step=43.30, val_loss=40.50, val_price_loss=3.74e+10, val_category_loss=3.140, val_accuracy=0.0505, val_rmse=1.93e+5, train_loss_epoch=43.80]"
     ]
    },
    {
     "name": "stderr",
     "output_type": "stream",
     "text": [
      "Metric val_loss improved by 0.048 >= min_delta = 0.0001. New best score: 40.526\n"
     ]
    },
    {
     "name": "stdout",
     "output_type": "stream",
     "text": [
      "Epoch 8: 100%|██████████| 16/16 [00:00<00:00, 34.06it/s, train_loss_step=48.30, val_loss=40.50, val_price_loss=3.74e+10, val_category_loss=3.110, val_accuracy=0.055, val_rmse=1.93e+5, train_loss_epoch=43.70] "
     ]
    },
    {
     "name": "stderr",
     "output_type": "stream",
     "text": [
      "Metric val_loss improved by 0.029 >= min_delta = 0.0001. New best score: 40.497\n"
     ]
    },
    {
     "name": "stdout",
     "output_type": "stream",
     "text": [
      "Epoch 9: 100%|██████████| 16/16 [00:00<00:00, 31.31it/s, train_loss_step=46.70, val_loss=40.50, val_price_loss=3.74e+10, val_category_loss=3.080, val_accuracy=0.078, val_rmse=1.93e+5, train_loss_epoch=43.70]"
     ]
    },
    {
     "name": "stderr",
     "output_type": "stream",
     "text": [
      "Metric val_loss improved by 0.032 >= min_delta = 0.0001. New best score: 40.465\n"
     ]
    },
    {
     "name": "stdout",
     "output_type": "stream",
     "text": [
      "Epoch 10: 100%|██████████| 16/16 [00:00<00:00, 32.54it/s, train_loss_step=37.10, val_loss=40.40, val_price_loss=3.74e+10, val_category_loss=3.030, val_accuracy=0.101, val_rmse=1.93e+5, train_loss_epoch=43.70]"
     ]
    },
    {
     "name": "stderr",
     "output_type": "stream",
     "text": [
      "Metric val_loss improved by 0.045 >= min_delta = 0.0001. New best score: 40.420\n"
     ]
    },
    {
     "name": "stdout",
     "output_type": "stream",
     "text": [
      "Epoch 11: 100%|██████████| 16/16 [00:00<00:00, 35.49it/s, train_loss_step=38.80, val_loss=40.40, val_price_loss=3.74e+10, val_category_loss=3.000, val_accuracy=0.115, val_rmse=1.93e+5, train_loss_epoch=43.60]"
     ]
    },
    {
     "name": "stderr",
     "output_type": "stream",
     "text": [
      "Metric val_loss improved by 0.038 >= min_delta = 0.0001. New best score: 40.382\n"
     ]
    },
    {
     "name": "stdout",
     "output_type": "stream",
     "text": [
      "Epoch 12: 100%|██████████| 16/16 [00:00<00:00, 32.80it/s, train_loss_step=39.90, val_loss=40.30, val_price_loss=3.74e+10, val_category_loss=2.960, val_accuracy=0.124, val_rmse=1.93e+5, train_loss_epoch=43.60]"
     ]
    },
    {
     "name": "stderr",
     "output_type": "stream",
     "text": [
      "Metric val_loss improved by 0.035 >= min_delta = 0.0001. New best score: 40.347\n"
     ]
    },
    {
     "name": "stdout",
     "output_type": "stream",
     "text": [
      "Epoch 13: 100%|██████████| 16/16 [00:00<00:00, 39.90it/s, train_loss_step=44.80, val_loss=40.30, val_price_loss=3.74e+10, val_category_loss=2.930, val_accuracy=0.128, val_rmse=1.93e+5, train_loss_epoch=43.50]"
     ]
    },
    {
     "name": "stderr",
     "output_type": "stream",
     "text": [
      "Metric val_loss improved by 0.033 >= min_delta = 0.0001. New best score: 40.314\n"
     ]
    },
    {
     "name": "stdout",
     "output_type": "stream",
     "text": [
      "Epoch 14: 100%|██████████| 16/16 [00:00<00:00, 38.08it/s, train_loss_step=42.60, val_loss=40.30, val_price_loss=3.74e+10, val_category_loss=2.900, val_accuracy=0.138, val_rmse=1.93e+5, train_loss_epoch=43.50]"
     ]
    },
    {
     "name": "stderr",
     "output_type": "stream",
     "text": [
      "Metric val_loss improved by 0.031 >= min_delta = 0.0001. New best score: 40.283\n"
     ]
    },
    {
     "name": "stdout",
     "output_type": "stream",
     "text": [
      "Epoch 15: 100%|██████████| 16/16 [00:00<00:00, 36.80it/s, train_loss_step=44.60, val_loss=40.20, val_price_loss=3.74e+10, val_category_loss=2.860, val_accuracy=0.142, val_rmse=1.93e+5, train_loss_epoch=43.50]"
     ]
    },
    {
     "name": "stderr",
     "output_type": "stream",
     "text": [
      "Metric val_loss improved by 0.038 >= min_delta = 0.0001. New best score: 40.246\n"
     ]
    },
    {
     "name": "stdout",
     "output_type": "stream",
     "text": [
      "Epoch 16: 100%|██████████| 16/16 [00:00<00:00, 35.01it/s, train_loss_step=51.20, val_loss=40.20, val_price_loss=3.74e+10, val_category_loss=2.840, val_accuracy=0.161, val_rmse=1.93e+5, train_loss_epoch=43.40]"
     ]
    },
    {
     "name": "stderr",
     "output_type": "stream",
     "text": [
      "Metric val_loss improved by 0.023 >= min_delta = 0.0001. New best score: 40.223\n"
     ]
    },
    {
     "name": "stdout",
     "output_type": "stream",
     "text": [
      "Epoch 17: 100%|██████████| 16/16 [00:00<00:00, 31.99it/s, train_loss_step=40.30, val_loss=40.20, val_price_loss=3.74e+10, val_category_loss=2.800, val_accuracy=0.174, val_rmse=1.93e+5, train_loss_epoch=43.40]"
     ]
    },
    {
     "name": "stderr",
     "output_type": "stream",
     "text": [
      "Metric val_loss improved by 0.042 >= min_delta = 0.0001. New best score: 40.180\n"
     ]
    },
    {
     "name": "stdout",
     "output_type": "stream",
     "text": [
      "Epoch 18: 100%|██████████| 16/16 [00:00<00:00, 31.89it/s, train_loss_step=44.60, val_loss=40.20, val_price_loss=3.74e+10, val_category_loss=2.770, val_accuracy=0.183, val_rmse=1.93e+5, train_loss_epoch=43.40]"
     ]
    },
    {
     "name": "stderr",
     "output_type": "stream",
     "text": [
      "Metric val_loss improved by 0.027 >= min_delta = 0.0001. New best score: 40.154\n"
     ]
    },
    {
     "name": "stdout",
     "output_type": "stream",
     "text": [
      "Epoch 19: 100%|██████████| 16/16 [00:00<00:00, 31.90it/s, train_loss_step=40.60, val_loss=40.10, val_price_loss=3.74e+10, val_category_loss=2.730, val_accuracy=0.206, val_rmse=1.93e+5, train_loss_epoch=43.30]"
     ]
    },
    {
     "name": "stderr",
     "output_type": "stream",
     "text": [
      "Metric val_loss improved by 0.034 >= min_delta = 0.0001. New best score: 40.120\n"
     ]
    },
    {
     "name": "stdout",
     "output_type": "stream",
     "text": [
      "Epoch 20: 100%|██████████| 16/16 [00:00<00:00, 30.27it/s, train_loss_step=44.10, val_loss=40.10, val_price_loss=3.74e+10, val_category_loss=2.710, val_accuracy=0.216, val_rmse=1.93e+5, train_loss_epoch=43.30]"
     ]
    },
    {
     "name": "stderr",
     "output_type": "stream",
     "text": [
      "Metric val_loss improved by 0.029 >= min_delta = 0.0001. New best score: 40.091\n"
     ]
    },
    {
     "name": "stdout",
     "output_type": "stream",
     "text": [
      "Epoch 21: 100%|██████████| 16/16 [00:00<00:00, 32.58it/s, train_loss_step=43.20, val_loss=40.10, val_price_loss=3.74e+10, val_category_loss=2.680, val_accuracy=0.225, val_rmse=1.93e+5, train_loss_epoch=43.30]"
     ]
    },
    {
     "name": "stderr",
     "output_type": "stream",
     "text": [
      "Metric val_loss improved by 0.028 >= min_delta = 0.0001. New best score: 40.063\n"
     ]
    },
    {
     "name": "stdout",
     "output_type": "stream",
     "text": [
      "Epoch 22: 100%|██████████| 16/16 [00:00<00:00, 30.38it/s, train_loss_step=43.30, val_loss=40.00, val_price_loss=3.74e+10, val_category_loss=2.650, val_accuracy=0.234, val_rmse=1.93e+5, train_loss_epoch=43.30]"
     ]
    },
    {
     "name": "stderr",
     "output_type": "stream",
     "text": [
      "Metric val_loss improved by 0.031 >= min_delta = 0.0001. New best score: 40.032\n"
     ]
    },
    {
     "name": "stdout",
     "output_type": "stream",
     "text": [
      "Epoch 23: 100%|██████████| 16/16 [00:00<00:00, 40.21it/s, train_loss_step=43.80, val_loss=40.00, val_price_loss=3.74e+10, val_category_loss=2.620, val_accuracy=0.239, val_rmse=1.93e+5, train_loss_epoch=43.30]"
     ]
    },
    {
     "name": "stderr",
     "output_type": "stream",
     "text": [
      "Metric val_loss improved by 0.024 >= min_delta = 0.0001. New best score: 40.009\n"
     ]
    },
    {
     "name": "stdout",
     "output_type": "stream",
     "text": [
      "Epoch 24: 100%|██████████| 16/16 [00:00<00:00, 39.42it/s, train_loss_step=39.10, val_loss=40.00, val_price_loss=3.74e+10, val_category_loss=2.590, val_accuracy=0.234, val_rmse=1.93e+5, train_loss_epoch=43.20]"
     ]
    },
    {
     "name": "stderr",
     "output_type": "stream",
     "text": [
      "Metric val_loss improved by 0.031 >= min_delta = 0.0001. New best score: 39.978\n"
     ]
    },
    {
     "name": "stdout",
     "output_type": "stream",
     "text": [
      "Epoch 25: 100%|██████████| 16/16 [00:00<00:00, 40.61it/s, train_loss_step=42.80, val_loss=40.00, val_price_loss=3.74e+10, val_category_loss=2.570, val_accuracy=0.239, val_rmse=1.93e+5, train_loss_epoch=43.20]"
     ]
    },
    {
     "name": "stderr",
     "output_type": "stream",
     "text": [
      "Metric val_loss improved by 0.025 >= min_delta = 0.0001. New best score: 39.953\n"
     ]
    },
    {
     "name": "stdout",
     "output_type": "stream",
     "text": [
      "Epoch 26: 100%|██████████| 16/16 [00:00<00:00, 37.22it/s, train_loss_step=38.10, val_loss=39.90, val_price_loss=3.74e+10, val_category_loss=2.550, val_accuracy=0.248, val_rmse=1.93e+5, train_loss_epoch=43.20]"
     ]
    },
    {
     "name": "stderr",
     "output_type": "stream",
     "text": [
      "Metric val_loss improved by 0.019 >= min_delta = 0.0001. New best score: 39.933\n"
     ]
    },
    {
     "name": "stdout",
     "output_type": "stream",
     "text": [
      "Epoch 27: 100%|██████████| 16/16 [00:00<00:00, 31.27it/s, train_loss_step=45.00, val_loss=39.90, val_price_loss=3.74e+10, val_category_loss=2.520, val_accuracy=0.257, val_rmse=1.93e+5, train_loss_epoch=43.10]"
     ]
    },
    {
     "name": "stderr",
     "output_type": "stream",
     "text": [
      "Metric val_loss improved by 0.025 >= min_delta = 0.0001. New best score: 39.909\n"
     ]
    },
    {
     "name": "stdout",
     "output_type": "stream",
     "text": [
      "Epoch 28: 100%|██████████| 16/16 [00:00<00:00, 30.56it/s, train_loss_step=41.80, val_loss=39.90, val_price_loss=3.74e+10, val_category_loss=2.500, val_accuracy=0.266, val_rmse=1.93e+5, train_loss_epoch=43.10]"
     ]
    },
    {
     "name": "stderr",
     "output_type": "stream",
     "text": [
      "Metric val_loss improved by 0.027 >= min_delta = 0.0001. New best score: 39.882\n"
     ]
    },
    {
     "name": "stdout",
     "output_type": "stream",
     "text": [
      "Epoch 29: 100%|██████████| 16/16 [00:00<00:00, 33.35it/s, train_loss_step=48.40, val_loss=39.90, val_price_loss=3.74e+10, val_category_loss=2.470, val_accuracy=0.280, val_rmse=1.93e+5, train_loss_epoch=43.10]"
     ]
    },
    {
     "name": "stderr",
     "output_type": "stream",
     "text": [
      "Metric val_loss improved by 0.022 >= min_delta = 0.0001. New best score: 39.860\n"
     ]
    },
    {
     "name": "stdout",
     "output_type": "stream",
     "text": [
      "Epoch 30: 100%|██████████| 16/16 [00:00<00:00, 32.67it/s, train_loss_step=40.20, val_loss=39.80, val_price_loss=3.74e+10, val_category_loss=2.450, val_accuracy=0.289, val_rmse=1.93e+5, train_loss_epoch=43.10]"
     ]
    },
    {
     "name": "stderr",
     "output_type": "stream",
     "text": [
      "Metric val_loss improved by 0.024 >= min_delta = 0.0001. New best score: 39.836\n"
     ]
    },
    {
     "name": "stdout",
     "output_type": "stream",
     "text": [
      "Epoch 31: 100%|██████████| 16/16 [00:00<00:00, 32.74it/s, train_loss_step=40.70, val_loss=39.80, val_price_loss=3.74e+10, val_category_loss=2.430, val_accuracy=0.294, val_rmse=1.93e+5, train_loss_epoch=43.00]"
     ]
    },
    {
     "name": "stderr",
     "output_type": "stream",
     "text": [
      "Metric val_loss improved by 0.024 >= min_delta = 0.0001. New best score: 39.812\n"
     ]
    },
    {
     "name": "stdout",
     "output_type": "stream",
     "text": [
      "Epoch 32: 100%|██████████| 16/16 [00:00<00:00, 32.54it/s, train_loss_step=38.20, val_loss=39.80, val_price_loss=3.74e+10, val_category_loss=2.410, val_accuracy=0.303, val_rmse=1.93e+5, train_loss_epoch=43.00]"
     ]
    },
    {
     "name": "stderr",
     "output_type": "stream",
     "text": [
      "Metric val_loss improved by 0.018 >= min_delta = 0.0001. New best score: 39.794\n"
     ]
    },
    {
     "name": "stdout",
     "output_type": "stream",
     "text": [
      "Epoch 33: 100%|██████████| 16/16 [00:00<00:00, 40.88it/s, train_loss_step=36.30, val_loss=39.80, val_price_loss=3.74e+10, val_category_loss=2.390, val_accuracy=0.307, val_rmse=1.93e+5, train_loss_epoch=43.00]"
     ]
    },
    {
     "name": "stderr",
     "output_type": "stream",
     "text": [
      "Metric val_loss improved by 0.023 >= min_delta = 0.0001. New best score: 39.771\n"
     ]
    },
    {
     "name": "stdout",
     "output_type": "stream",
     "text": [
      "Epoch 34: 100%|██████████| 16/16 [00:00<00:00, 40.61it/s, train_loss_step=31.00, val_loss=39.80, val_price_loss=3.74e+10, val_category_loss=2.370, val_accuracy=0.312, val_rmse=1.93e+5, train_loss_epoch=43.00]"
     ]
    },
    {
     "name": "stderr",
     "output_type": "stream",
     "text": [
      "Metric val_loss improved by 0.021 >= min_delta = 0.0001. New best score: 39.751\n"
     ]
    },
    {
     "name": "stdout",
     "output_type": "stream",
     "text": [
      "Epoch 35: 100%|██████████| 16/16 [00:00<00:00, 41.56it/s, train_loss_step=36.90, val_loss=39.70, val_price_loss=3.74e+10, val_category_loss=2.350, val_accuracy=0.321, val_rmse=1.93e+5, train_loss_epoch=43.00]"
     ]
    },
    {
     "name": "stderr",
     "output_type": "stream",
     "text": [
      "Metric val_loss improved by 0.018 >= min_delta = 0.0001. New best score: 39.733\n"
     ]
    },
    {
     "name": "stdout",
     "output_type": "stream",
     "text": [
      "Epoch 36: 100%|██████████| 16/16 [00:00<00:00, 38.20it/s, train_loss_step=35.50, val_loss=39.70, val_price_loss=3.74e+10, val_category_loss=2.330, val_accuracy=0.330, val_rmse=1.93e+5, train_loss_epoch=42.90]"
     ]
    },
    {
     "name": "stderr",
     "output_type": "stream",
     "text": [
      "Metric val_loss improved by 0.017 >= min_delta = 0.0001. New best score: 39.715\n"
     ]
    },
    {
     "name": "stdout",
     "output_type": "stream",
     "text": [
      "Epoch 37: 100%|██████████| 16/16 [00:00<00:00, 31.89it/s, train_loss_step=51.10, val_loss=39.70, val_price_loss=3.74e+10, val_category_loss=2.310, val_accuracy=0.330, val_rmse=1.93e+5, train_loss_epoch=42.90]"
     ]
    },
    {
     "name": "stderr",
     "output_type": "stream",
     "text": [
      "Metric val_loss improved by 0.019 >= min_delta = 0.0001. New best score: 39.697\n"
     ]
    },
    {
     "name": "stdout",
     "output_type": "stream",
     "text": [
      "Epoch 38: 100%|██████████| 16/16 [00:00<00:00, 29.65it/s, train_loss_step=43.90, val_loss=39.70, val_price_loss=3.74e+10, val_category_loss=2.290, val_accuracy=0.335, val_rmse=1.93e+5, train_loss_epoch=42.90]"
     ]
    },
    {
     "name": "stderr",
     "output_type": "stream",
     "text": [
      "Metric val_loss improved by 0.019 >= min_delta = 0.0001. New best score: 39.678\n"
     ]
    },
    {
     "name": "stdout",
     "output_type": "stream",
     "text": [
      "Epoch 39: 100%|██████████| 16/16 [00:00<00:00, 32.47it/s, train_loss_step=47.30, val_loss=39.70, val_price_loss=3.74e+10, val_category_loss=2.270, val_accuracy=0.339, val_rmse=1.93e+5, train_loss_epoch=42.90]"
     ]
    },
    {
     "name": "stderr",
     "output_type": "stream",
     "text": [
      "Metric val_loss improved by 0.020 >= min_delta = 0.0001. New best score: 39.658\n",
      "`Trainer.fit` stopped: `max_epochs=40` reached.\n"
     ]
    },
    {
     "name": "stdout",
     "output_type": "stream",
     "text": [
      "Epoch 39: 100%|██████████| 16/16 [00:00<00:00, 30.21it/s, train_loss_step=47.30, val_loss=39.70, val_price_loss=3.74e+10, val_category_loss=2.270, val_accuracy=0.339, val_rmse=1.93e+5, train_loss_epoch=42.90]"
     ]
    },
    {
     "name": "stderr",
     "output_type": "stream",
     "text": [
      "[I 2024-04-28 23:46:40,731] Trial 0 finished with value: 39.65816879272461 and parameters: {'num_layers': 1, 'hidden_dim': 512, 'embedding_dim': 6, 'lr': 0.00012751883352037232, 'optimizer_type': 'SGD', 'relu_type': 'ReLU', 'droupoutrate': 0.38483273924360567}. Best is trial 0 with value: 39.65816879272461.\n"
     ]
    },
    {
     "name": "stdout",
     "output_type": "stream",
     "text": [
      "\n",
      "Number of embedding layers: 36\n"
     ]
    },
    {
     "name": "stderr",
     "output_type": "stream",
     "text": [
      "GPU available: True (cuda), used: True\n",
      "TPU available: False, using: 0 TPU cores\n",
      "IPU available: False, using: 0 IPUs\n",
      "HPU available: False, using: 0 HPUs\n",
      "LOCAL_RANK: 0 - CUDA_VISIBLE_DEVICES: [0]\n",
      "\n",
      "  | Name            | Type       | Params\n",
      "-----------------------------------------------\n",
      "0 | embeddings      | ModuleList | 2.1 K \n",
      "1 | fc              | Sequential | 6.7 M \n",
      "2 | output_category | Sequential | 2.1 M \n",
      "3 | output_price    | Sequential | 2.1 M \n",
      "-----------------------------------------------\n",
      "10.9 M    Trainable params\n",
      "0         Non-trainable params\n",
      "10.9 M    Total params\n",
      "43.524    Total estimated model params size (MB)\n"
     ]
    },
    {
     "name": "stdout",
     "output_type": "stream",
     "text": [
      "Epoch 0: 100%|██████████| 16/16 [00:00<00:00, 32.41it/s, train_loss_step=44.00, val_loss=40.30, val_price_loss=3.74e+10, val_category_loss=2.930, val_accuracy=0.0917, val_rmse=1.93e+5, train_loss_epoch=43.80]"
     ]
    },
    {
     "name": "stderr",
     "output_type": "stream",
     "text": [
      "Metric val_loss improved. New best score: 40.310\n"
     ]
    },
    {
     "name": "stdout",
     "output_type": "stream",
     "text": [
      "Epoch 1: 100%|██████████| 16/16 [00:00<00:00, 37.14it/s, train_loss_step=48.50, val_loss=40.20, val_price_loss=3.74e+10, val_category_loss=2.810, val_accuracy=0.138, val_rmse=1.93e+5, train_loss_epoch=43.60] "
     ]
    },
    {
     "name": "stderr",
     "output_type": "stream",
     "text": [
      "Metric val_loss improved by 0.119 >= min_delta = 0.0001. New best score: 40.191\n"
     ]
    },
    {
     "name": "stdout",
     "output_type": "stream",
     "text": [
      "Epoch 2: 100%|██████████| 16/16 [00:00<00:00, 29.53it/s, train_loss_step=38.50, val_loss=40.00, val_price_loss=3.74e+10, val_category_loss=2.650, val_accuracy=0.225, val_rmse=1.93e+5, train_loss_epoch=43.30]"
     ]
    },
    {
     "name": "stderr",
     "output_type": "stream",
     "text": [
      "Metric val_loss improved by 0.154 >= min_delta = 0.0001. New best score: 40.037\n"
     ]
    },
    {
     "name": "stdout",
     "output_type": "stream",
     "text": [
      "Epoch 3: 100%|██████████| 16/16 [00:00<00:00, 39.51it/s, train_loss_step=53.30, val_loss=39.90, val_price_loss=3.74e+10, val_category_loss=2.510, val_accuracy=0.280, val_rmse=1.93e+5, train_loss_epoch=43.20]"
     ]
    },
    {
     "name": "stderr",
     "output_type": "stream",
     "text": [
      "Metric val_loss improved by 0.144 >= min_delta = 0.0001. New best score: 39.893\n"
     ]
    },
    {
     "name": "stdout",
     "output_type": "stream",
     "text": [
      "Epoch 4: 100%|██████████| 16/16 [00:00<00:00, 29.06it/s, train_loss_step=49.30, val_loss=39.80, val_price_loss=3.74e+10, val_category_loss=2.370, val_accuracy=0.339, val_rmse=1.93e+5, train_loss_epoch=43.00]"
     ]
    },
    {
     "name": "stderr",
     "output_type": "stream",
     "text": [
      "Metric val_loss improved by 0.137 >= min_delta = 0.0001. New best score: 39.756\n"
     ]
    },
    {
     "name": "stdout",
     "output_type": "stream",
     "text": [
      "Epoch 5: 100%|██████████| 16/16 [00:00<00:00, 43.53it/s, train_loss_step=43.90, val_loss=39.60, val_price_loss=3.74e+10, val_category_loss=2.260, val_accuracy=0.372, val_rmse=1.93e+5, train_loss_epoch=42.90]"
     ]
    },
    {
     "name": "stderr",
     "output_type": "stream",
     "text": [
      "Metric val_loss improved by 0.108 >= min_delta = 0.0001. New best score: 39.648\n"
     ]
    },
    {
     "name": "stdout",
     "output_type": "stream",
     "text": [
      "Epoch 6: 100%|██████████| 16/16 [00:00<00:00, 45.06it/s, train_loss_step=46.70, val_loss=39.60, val_price_loss=3.74e+10, val_category_loss=2.170, val_accuracy=0.399, val_rmse=1.93e+5, train_loss_epoch=42.80]"
     ]
    },
    {
     "name": "stderr",
     "output_type": "stream",
     "text": [
      "Metric val_loss improved by 0.094 >= min_delta = 0.0001. New best score: 39.554\n"
     ]
    },
    {
     "name": "stdout",
     "output_type": "stream",
     "text": [
      "Epoch 7: 100%|██████████| 16/16 [00:00<00:00, 43.84it/s, train_loss_step=44.70, val_loss=39.50, val_price_loss=3.74e+10, val_category_loss=2.090, val_accuracy=0.417, val_rmse=1.93e+5, train_loss_epoch=42.70]"
     ]
    },
    {
     "name": "stderr",
     "output_type": "stream",
     "text": [
      "Metric val_loss improved by 0.076 >= min_delta = 0.0001. New best score: 39.477\n"
     ]
    },
    {
     "name": "stdout",
     "output_type": "stream",
     "text": [
      "Epoch 8: 100%|██████████| 16/16 [00:00<00:00, 37.30it/s, train_loss_step=35.50, val_loss=39.40, val_price_loss=3.74e+10, val_category_loss=2.020, val_accuracy=0.436, val_rmse=1.93e+5, train_loss_epoch=42.60]"
     ]
    },
    {
     "name": "stderr",
     "output_type": "stream",
     "text": [
      "Metric val_loss improved by 0.068 >= min_delta = 0.0001. New best score: 39.409\n"
     ]
    },
    {
     "name": "stdout",
     "output_type": "stream",
     "text": [
      "Epoch 9: 100%|██████████| 16/16 [00:00<00:00, 24.59it/s, train_loss_step=41.00, val_loss=39.30, val_price_loss=3.74e+10, val_category_loss=1.960, val_accuracy=0.454, val_rmse=1.93e+5, train_loss_epoch=42.50]"
     ]
    },
    {
     "name": "stderr",
     "output_type": "stream",
     "text": [
      "Metric val_loss improved by 0.064 >= min_delta = 0.0001. New best score: 39.346\n"
     ]
    },
    {
     "name": "stdout",
     "output_type": "stream",
     "text": [
      "Epoch 10: 100%|██████████| 16/16 [00:00<00:00, 39.23it/s, train_loss_step=51.10, val_loss=39.30, val_price_loss=3.74e+10, val_category_loss=1.910, val_accuracy=0.472, val_rmse=1.93e+5, train_loss_epoch=42.50]"
     ]
    },
    {
     "name": "stderr",
     "output_type": "stream",
     "text": [
      "Metric val_loss improved by 0.054 >= min_delta = 0.0001. New best score: 39.292\n"
     ]
    },
    {
     "name": "stdout",
     "output_type": "stream",
     "text": [
      "Epoch 11: 100%|██████████| 16/16 [00:00<00:00, 32.12it/s, train_loss_step=40.30, val_loss=39.20, val_price_loss=3.74e+10, val_category_loss=1.860, val_accuracy=0.482, val_rmse=1.93e+5, train_loss_epoch=42.40]"
     ]
    },
    {
     "name": "stderr",
     "output_type": "stream",
     "text": [
      "Metric val_loss improved by 0.046 >= min_delta = 0.0001. New best score: 39.245\n"
     ]
    },
    {
     "name": "stdout",
     "output_type": "stream",
     "text": [
      "Epoch 12: 100%|██████████| 16/16 [00:00<00:00, 40.82it/s, train_loss_step=41.90, val_loss=39.20, val_price_loss=3.74e+10, val_category_loss=1.820, val_accuracy=0.486, val_rmse=1.93e+5, train_loss_epoch=42.30]"
     ]
    },
    {
     "name": "stderr",
     "output_type": "stream",
     "text": [
      "Metric val_loss improved by 0.045 >= min_delta = 0.0001. New best score: 39.201\n"
     ]
    },
    {
     "name": "stdout",
     "output_type": "stream",
     "text": [
      "Epoch 13: 100%|██████████| 16/16 [00:00<00:00, 29.92it/s, train_loss_step=40.30, val_loss=39.20, val_price_loss=3.74e+10, val_category_loss=1.780, val_accuracy=0.491, val_rmse=1.93e+5, train_loss_epoch=42.30]"
     ]
    },
    {
     "name": "stderr",
     "output_type": "stream",
     "text": [
      "Metric val_loss improved by 0.034 >= min_delta = 0.0001. New best score: 39.167\n"
     ]
    },
    {
     "name": "stdout",
     "output_type": "stream",
     "text": [
      "Epoch 14: 100%|██████████| 16/16 [00:00<00:00, 29.17it/s, train_loss_step=52.50, val_loss=39.10, val_price_loss=3.74e+10, val_category_loss=1.740, val_accuracy=0.509, val_rmse=1.93e+5, train_loss_epoch=42.20]"
     ]
    },
    {
     "name": "stderr",
     "output_type": "stream",
     "text": [
      "Metric val_loss improved by 0.042 >= min_delta = 0.0001. New best score: 39.125\n"
     ]
    },
    {
     "name": "stdout",
     "output_type": "stream",
     "text": [
      "Epoch 15: 100%|██████████| 16/16 [00:00<00:00, 43.24it/s, train_loss_step=53.40, val_loss=39.10, val_price_loss=3.74e+10, val_category_loss=1.710, val_accuracy=0.518, val_rmse=1.93e+5, train_loss_epoch=42.20]"
     ]
    },
    {
     "name": "stderr",
     "output_type": "stream",
     "text": [
      "Metric val_loss improved by 0.031 >= min_delta = 0.0001. New best score: 39.094\n"
     ]
    },
    {
     "name": "stdout",
     "output_type": "stream",
     "text": [
      "Epoch 16: 100%|██████████| 16/16 [00:00<00:00, 32.54it/s, train_loss_step=35.50, val_loss=39.10, val_price_loss=3.74e+10, val_category_loss=1.670, val_accuracy=0.523, val_rmse=1.93e+5, train_loss_epoch=42.20]"
     ]
    },
    {
     "name": "stderr",
     "output_type": "stream",
     "text": [
      "Metric val_loss improved by 0.038 >= min_delta = 0.0001. New best score: 39.056\n"
     ]
    },
    {
     "name": "stdout",
     "output_type": "stream",
     "text": [
      "Epoch 17: 100%|██████████| 16/16 [00:00<00:00, 40.00it/s, train_loss_step=33.80, val_loss=39.00, val_price_loss=3.74e+10, val_category_loss=1.640, val_accuracy=0.518, val_rmse=1.93e+5, train_loss_epoch=42.10]"
     ]
    },
    {
     "name": "stderr",
     "output_type": "stream",
     "text": [
      "Metric val_loss improved by 0.028 >= min_delta = 0.0001. New best score: 39.028\n"
     ]
    },
    {
     "name": "stdout",
     "output_type": "stream",
     "text": [
      "Epoch 18: 100%|██████████| 16/16 [00:00<00:00, 26.67it/s, train_loss_step=42.40, val_loss=39.00, val_price_loss=3.74e+10, val_category_loss=1.620, val_accuracy=0.532, val_rmse=1.93e+5, train_loss_epoch=42.10]"
     ]
    },
    {
     "name": "stderr",
     "output_type": "stream",
     "text": [
      "Metric val_loss improved by 0.025 >= min_delta = 0.0001. New best score: 39.003\n"
     ]
    },
    {
     "name": "stdout",
     "output_type": "stream",
     "text": [
      "Epoch 19: 100%|██████████| 16/16 [00:00<00:00, 43.57it/s, train_loss_step=35.50, val_loss=39.00, val_price_loss=3.74e+10, val_category_loss=1.590, val_accuracy=0.532, val_rmse=1.93e+5, train_loss_epoch=42.10]"
     ]
    },
    {
     "name": "stderr",
     "output_type": "stream",
     "text": [
      "Metric val_loss improved by 0.027 >= min_delta = 0.0001. New best score: 38.976\n"
     ]
    },
    {
     "name": "stdout",
     "output_type": "stream",
     "text": [
      "Epoch 20: 100%|██████████| 16/16 [00:00<00:00, 39.13it/s, train_loss_step=50.90, val_loss=39.00, val_price_loss=3.74e+10, val_category_loss=1.570, val_accuracy=0.541, val_rmse=1.93e+5, train_loss_epoch=42.00]"
     ]
    },
    {
     "name": "stderr",
     "output_type": "stream",
     "text": [
      "Metric val_loss improved by 0.022 >= min_delta = 0.0001. New best score: 38.954\n"
     ]
    },
    {
     "name": "stdout",
     "output_type": "stream",
     "text": [
      "Epoch 21: 100%|██████████| 16/16 [00:00<00:00, 34.10it/s, train_loss_step=44.40, val_loss=38.90, val_price_loss=3.74e+10, val_category_loss=1.550, val_accuracy=0.541, val_rmse=1.93e+5, train_loss_epoch=42.00]"
     ]
    },
    {
     "name": "stderr",
     "output_type": "stream",
     "text": [
      "Metric val_loss improved by 0.022 >= min_delta = 0.0001. New best score: 38.932\n"
     ]
    },
    {
     "name": "stdout",
     "output_type": "stream",
     "text": [
      "Epoch 22: 100%|██████████| 16/16 [00:00<00:00, 32.18it/s, train_loss_step=41.80, val_loss=38.90, val_price_loss=3.74e+10, val_category_loss=1.530, val_accuracy=0.541, val_rmse=1.93e+5, train_loss_epoch=42.00]"
     ]
    },
    {
     "name": "stderr",
     "output_type": "stream",
     "text": [
      "Metric val_loss improved by 0.022 >= min_delta = 0.0001. New best score: 38.911\n"
     ]
    },
    {
     "name": "stdout",
     "output_type": "stream",
     "text": [
      "Epoch 23: 100%|██████████| 16/16 [00:00<00:00, 26.56it/s, train_loss_step=44.10, val_loss=38.90, val_price_loss=3.74e+10, val_category_loss=1.500, val_accuracy=0.546, val_rmse=1.93e+5, train_loss_epoch=42.00]"
     ]
    },
    {
     "name": "stderr",
     "output_type": "stream",
     "text": [
      "Metric val_loss improved by 0.023 >= min_delta = 0.0001. New best score: 38.888\n"
     ]
    },
    {
     "name": "stdout",
     "output_type": "stream",
     "text": [
      "Epoch 24: 100%|██████████| 16/16 [00:00<00:00, 36.46it/s, train_loss_step=40.00, val_loss=38.90, val_price_loss=3.74e+10, val_category_loss=1.480, val_accuracy=0.546, val_rmse=1.93e+5, train_loss_epoch=41.90]"
     ]
    },
    {
     "name": "stderr",
     "output_type": "stream",
     "text": [
      "Metric val_loss improved by 0.020 >= min_delta = 0.0001. New best score: 38.868\n"
     ]
    },
    {
     "name": "stdout",
     "output_type": "stream",
     "text": [
      "Epoch 25: 100%|██████████| 16/16 [00:00<00:00, 28.35it/s, train_loss_step=54.00, val_loss=38.80, val_price_loss=3.74e+10, val_category_loss=1.460, val_accuracy=0.546, val_rmse=1.93e+5, train_loss_epoch=41.90]"
     ]
    },
    {
     "name": "stderr",
     "output_type": "stream",
     "text": [
      "Metric val_loss improved by 0.019 >= min_delta = 0.0001. New best score: 38.848\n"
     ]
    },
    {
     "name": "stdout",
     "output_type": "stream",
     "text": [
      "Epoch 26: 100%|██████████| 16/16 [00:00<00:00, 39.13it/s, train_loss_step=48.30, val_loss=38.80, val_price_loss=3.74e+10, val_category_loss=1.450, val_accuracy=0.555, val_rmse=1.93e+5, train_loss_epoch=41.90]"
     ]
    },
    {
     "name": "stderr",
     "output_type": "stream",
     "text": [
      "Metric val_loss improved by 0.018 >= min_delta = 0.0001. New best score: 38.830\n"
     ]
    },
    {
     "name": "stdout",
     "output_type": "stream",
     "text": [
      "Epoch 27: 100%|██████████| 16/16 [00:00<00:00, 24.23it/s, train_loss_step=53.10, val_loss=38.80, val_price_loss=3.74e+10, val_category_loss=1.430, val_accuracy=0.555, val_rmse=1.93e+5, train_loss_epoch=41.90]"
     ]
    },
    {
     "name": "stderr",
     "output_type": "stream",
     "text": [
      "Metric val_loss improved by 0.015 >= min_delta = 0.0001. New best score: 38.815\n"
     ]
    },
    {
     "name": "stdout",
     "output_type": "stream",
     "text": [
      "Epoch 28: 100%|██████████| 16/16 [00:00<00:00, 40.52it/s, train_loss_step=42.00, val_loss=38.80, val_price_loss=3.74e+10, val_category_loss=1.420, val_accuracy=0.555, val_rmse=1.93e+5, train_loss_epoch=41.80]"
     ]
    },
    {
     "name": "stderr",
     "output_type": "stream",
     "text": [
      "Metric val_loss improved by 0.014 >= min_delta = 0.0001. New best score: 38.802\n"
     ]
    },
    {
     "name": "stdout",
     "output_type": "stream",
     "text": [
      "Epoch 29: 100%|██████████| 16/16 [00:00<00:00, 34.13it/s, train_loss_step=44.80, val_loss=38.80, val_price_loss=3.74e+10, val_category_loss=1.400, val_accuracy=0.583, val_rmse=1.93e+5, train_loss_epoch=41.80]"
     ]
    },
    {
     "name": "stderr",
     "output_type": "stream",
     "text": [
      "Metric val_loss improved by 0.016 >= min_delta = 0.0001. New best score: 38.786\n"
     ]
    },
    {
     "name": "stdout",
     "output_type": "stream",
     "text": [
      "Epoch 30: 100%|██████████| 16/16 [00:00<00:00, 26.92it/s, train_loss_step=43.80, val_loss=38.80, val_price_loss=3.74e+10, val_category_loss=1.390, val_accuracy=0.583, val_rmse=1.93e+5, train_loss_epoch=41.80]"
     ]
    },
    {
     "name": "stderr",
     "output_type": "stream",
     "text": [
      "Metric val_loss improved by 0.013 >= min_delta = 0.0001. New best score: 38.773\n"
     ]
    },
    {
     "name": "stdout",
     "output_type": "stream",
     "text": [
      "Epoch 31: 100%|██████████| 16/16 [00:00<00:00, 44.08it/s, train_loss_step=54.10, val_loss=38.80, val_price_loss=3.74e+10, val_category_loss=1.370, val_accuracy=0.596, val_rmse=1.93e+5, train_loss_epoch=41.80]"
     ]
    },
    {
     "name": "stderr",
     "output_type": "stream",
     "text": [
      "Metric val_loss improved by 0.017 >= min_delta = 0.0001. New best score: 38.756\n"
     ]
    },
    {
     "name": "stdout",
     "output_type": "stream",
     "text": [
      "Epoch 32: 100%|██████████| 16/16 [00:00<00:00, 32.09it/s, train_loss_step=40.80, val_loss=38.70, val_price_loss=3.74e+10, val_category_loss=1.360, val_accuracy=0.601, val_rmse=1.93e+5, train_loss_epoch=41.80]"
     ]
    },
    {
     "name": "stderr",
     "output_type": "stream",
     "text": [
      "Metric val_loss improved by 0.015 >= min_delta = 0.0001. New best score: 38.741\n"
     ]
    },
    {
     "name": "stdout",
     "output_type": "stream",
     "text": [
      "Epoch 33: 100%|██████████| 16/16 [00:00<00:00, 32.35it/s, train_loss_step=49.40, val_loss=38.70, val_price_loss=3.74e+10, val_category_loss=1.340, val_accuracy=0.596, val_rmse=1.93e+5, train_loss_epoch=41.80]"
     ]
    },
    {
     "name": "stderr",
     "output_type": "stream",
     "text": [
      "Metric val_loss improved by 0.012 >= min_delta = 0.0001. New best score: 38.729\n"
     ]
    },
    {
     "name": "stdout",
     "output_type": "stream",
     "text": [
      "Epoch 34: 100%|██████████| 16/16 [00:00<00:00, 32.94it/s, train_loss_step=37.00, val_loss=38.70, val_price_loss=3.74e+10, val_category_loss=1.330, val_accuracy=0.606, val_rmse=1.93e+5, train_loss_epoch=41.80]"
     ]
    },
    {
     "name": "stderr",
     "output_type": "stream",
     "text": [
      "Metric val_loss improved by 0.013 >= min_delta = 0.0001. New best score: 38.715\n"
     ]
    },
    {
     "name": "stdout",
     "output_type": "stream",
     "text": [
      "Epoch 35: 100%|██████████| 16/16 [00:00<00:00, 33.60it/s, train_loss_step=44.70, val_loss=38.70, val_price_loss=3.74e+10, val_category_loss=1.320, val_accuracy=0.596, val_rmse=1.93e+5, train_loss_epoch=41.80]"
     ]
    },
    {
     "name": "stderr",
     "output_type": "stream",
     "text": [
      "Metric val_loss improved by 0.009 >= min_delta = 0.0001. New best score: 38.707\n"
     ]
    },
    {
     "name": "stdout",
     "output_type": "stream",
     "text": [
      "Epoch 36: 100%|██████████| 16/16 [00:00<00:00, 44.81it/s, train_loss_step=44.60, val_loss=38.70, val_price_loss=3.74e+10, val_category_loss=1.310, val_accuracy=0.601, val_rmse=1.93e+5, train_loss_epoch=41.70]"
     ]
    },
    {
     "name": "stderr",
     "output_type": "stream",
     "text": [
      "Metric val_loss improved by 0.011 >= min_delta = 0.0001. New best score: 38.696\n"
     ]
    },
    {
     "name": "stdout",
     "output_type": "stream",
     "text": [
      "Epoch 37: 100%|██████████| 16/16 [00:00<00:00, 45.71it/s, train_loss_step=48.60, val_loss=38.70, val_price_loss=3.74e+10, val_category_loss=1.300, val_accuracy=0.606, val_rmse=1.93e+5, train_loss_epoch=41.70]"
     ]
    },
    {
     "name": "stderr",
     "output_type": "stream",
     "text": [
      "Metric val_loss improved by 0.014 >= min_delta = 0.0001. New best score: 38.682\n"
     ]
    },
    {
     "name": "stdout",
     "output_type": "stream",
     "text": [
      "Epoch 38: 100%|██████████| 16/16 [00:00<00:00, 44.20it/s, train_loss_step=43.40, val_loss=38.70, val_price_loss=3.74e+10, val_category_loss=1.280, val_accuracy=0.601, val_rmse=1.93e+5, train_loss_epoch=41.70]"
     ]
    },
    {
     "name": "stderr",
     "output_type": "stream",
     "text": [
      "Metric val_loss improved by 0.013 >= min_delta = 0.0001. New best score: 38.669\n"
     ]
    },
    {
     "name": "stdout",
     "output_type": "stream",
     "text": [
      "Epoch 39: 100%|██████████| 16/16 [00:00<00:00, 30.04it/s, train_loss_step=39.40, val_loss=38.70, val_price_loss=3.74e+10, val_category_loss=1.280, val_accuracy=0.601, val_rmse=1.93e+5, train_loss_epoch=41.60]"
     ]
    },
    {
     "name": "stderr",
     "output_type": "stream",
     "text": [
      "Metric val_loss improved by 0.007 >= min_delta = 0.0001. New best score: 38.661\n",
      "`Trainer.fit` stopped: `max_epochs=40` reached.\n"
     ]
    },
    {
     "name": "stdout",
     "output_type": "stream",
     "text": [
      "Epoch 39: 100%|██████████| 16/16 [00:01<00:00, 14.54it/s, train_loss_step=39.40, val_loss=38.70, val_price_loss=3.74e+10, val_category_loss=1.280, val_accuracy=0.601, val_rmse=1.93e+5, train_loss_epoch=41.60]"
     ]
    },
    {
     "name": "stderr",
     "output_type": "stream",
     "text": [
      "[I 2024-04-28 23:47:24,887] Trial 1 finished with value: 38.66144561767578 and parameters: {'num_layers': 2, 'hidden_dim': 1024, 'embedding_dim': 9, 'lr': 0.0002892271859588636, 'optimizer_type': 'SGD', 'relu_type': 'LeakyReLU', 'droupoutrate': 0.24244877070247428}. Best is trial 1 with value: 38.66144561767578.\n",
      "GPU available: True (cuda), used: True\n",
      "TPU available: False, using: 0 TPU cores\n",
      "IPU available: False, using: 0 IPUs\n",
      "HPU available: False, using: 0 HPUs\n",
      "LOCAL_RANK: 0 - CUDA_VISIBLE_DEVICES: [0]\n",
      "\n",
      "  | Name            | Type       | Params\n",
      "-----------------------------------------------\n",
      "0 | embeddings      | ModuleList | 1.8 K \n",
      "1 | fc              | Sequential | 3.8 M \n",
      "2 | output_category | Sequential | 534 K \n",
      "3 | output_price    | Sequential | 525 K \n",
      "-----------------------------------------------\n",
      "4.9 M     Trainable params\n",
      "0         Non-trainable params\n",
      "4.9 M     Total params\n",
      "19.603    Total estimated model params size (MB)\n"
     ]
    },
    {
     "name": "stdout",
     "output_type": "stream",
     "text": [
      "\n",
      "Number of embedding layers: 36\n",
      "Epoch 0: 100%|██████████| 16/16 [00:00<00:00, 38.84it/s, train_loss_step=14.40, val_loss=25.80, val_price_loss=1.6e+10, val_category_loss=9.740, val_accuracy=0.133, val_rmse=1.47e+5, train_loss_epoch=761.0]"
     ]
    },
    {
     "name": "stderr",
     "output_type": "stream",
     "text": [
      "Metric val_loss improved. New best score: 25.783\n"
     ]
    },
    {
     "name": "stdout",
     "output_type": "stream",
     "text": [
      "Epoch 1: 100%|██████████| 16/16 [00:00<00:00, 36.88it/s, train_loss_step=10.70, val_loss=11.60, val_price_loss=6.26e+9, val_category_loss=5.380, val_accuracy=0.252, val_rmse=8.08e+4, train_loss_epoch=11.80]"
     ]
    },
    {
     "name": "stderr",
     "output_type": "stream",
     "text": [
      "Metric val_loss improved by 14.139 >= min_delta = 0.0001. New best score: 11.644\n"
     ]
    },
    {
     "name": "stdout",
     "output_type": "stream",
     "text": [
      "Epoch 3: 100%|██████████| 16/16 [00:00<00:00, 34.72it/s, train_loss_step=15.10, val_loss=8.910, val_price_loss=6.35e+9, val_category_loss=2.550, val_accuracy=0.266, val_rmse=8.96e+4, train_loss_epoch=16.60]"
     ]
    },
    {
     "name": "stderr",
     "output_type": "stream",
     "text": [
      "Metric val_loss improved by 2.737 >= min_delta = 0.0001. New best score: 8.907\n"
     ]
    },
    {
     "name": "stdout",
     "output_type": "stream",
     "text": [
      "Epoch 8: 100%|██████████| 16/16 [00:00<00:00, 38.10it/s, train_loss_step=18.80, val_loss=11.50, val_price_loss=6.2e+9, val_category_loss=5.260, val_accuracy=0.362, val_rmse=8.07e+4, train_loss_epoch=9.170]  "
     ]
    },
    {
     "name": "stderr",
     "output_type": "stream",
     "text": [
      "Monitored metric val_loss did not improve in the last 5 records. Best score: 8.907. Signaling Trainer to stop.\n"
     ]
    },
    {
     "name": "stdout",
     "output_type": "stream",
     "text": [
      "Epoch 8: 100%|██████████| 16/16 [00:01<00:00,  9.87it/s, train_loss_step=18.80, val_loss=11.50, val_price_loss=6.2e+9, val_category_loss=5.260, val_accuracy=0.362, val_rmse=8.07e+4, train_loss_epoch=9.170]"
     ]
    },
    {
     "name": "stderr",
     "output_type": "stream",
     "text": [
      "[I 2024-04-28 23:47:38,859] Trial 2 finished with value: 11.454269409179688 and parameters: {'num_layers': 4, 'hidden_dim': 512, 'embedding_dim': 8, 'lr': 0.012988491318159653, 'optimizer_type': 'Adam', 'relu_type': 'ReLU', 'droupoutrate': 0.4241685765338611}. Best is trial 2 with value: 11.454269409179688.\n",
      "GPU available: True (cuda), used: True\n",
      "TPU available: False, using: 0 TPU cores\n",
      "IPU available: False, using: 0 IPUs\n",
      "HPU available: False, using: 0 HPUs\n",
      "LOCAL_RANK: 0 - CUDA_VISIBLE_DEVICES: [0]\n",
      "\n",
      "  | Name            | Type       | Params\n",
      "-----------------------------------------------\n",
      "0 | embeddings      | ModuleList | 3.2 K \n",
      "1 | fc              | Sequential | 42.8 K\n",
      "2 | output_category | Sequential | 9.4 K \n",
      "3 | output_price    | Sequential | 8.3 K \n",
      "-----------------------------------------------\n",
      "63.8 K    Trainable params\n",
      "0         Non-trainable params\n",
      "63.8 K    Total params\n",
      "0.255     Total estimated model params size (MB)\n"
     ]
    },
    {
     "name": "stdout",
     "output_type": "stream",
     "text": [
      "\n",
      "Number of embedding layers: 36\n",
      "Epoch 0: 100%|██████████| 16/16 [00:00<00:00, 32.34it/s, train_loss_step=42.10, val_loss=40.50, val_price_loss=3.74e+10, val_category_loss=3.120, val_accuracy=0.0229, val_rmse=1.93e+5, train_loss_epoch=43.80]"
     ]
    },
    {
     "name": "stderr",
     "output_type": "stream",
     "text": [
      "Metric val_loss improved. New best score: 40.505\n"
     ]
    },
    {
     "name": "stdout",
     "output_type": "stream",
     "text": [
      "Epoch 5: 100%|██████████| 16/16 [00:00<00:00, 33.75it/s, train_loss_step=41.20, val_loss=40.60, val_price_loss=3.74e+10, val_category_loss=3.180, val_accuracy=0.0505, val_rmse=1.93e+5, train_loss_epoch=43.90]"
     ]
    },
    {
     "name": "stderr",
     "output_type": "stream",
     "text": [
      "Monitored metric val_loss did not improve in the last 5 records. Best score: 40.505. Signaling Trainer to stop.\n"
     ]
    },
    {
     "name": "stdout",
     "output_type": "stream",
     "text": [
      "Epoch 5: 100%|██████████| 16/16 [00:00<00:00, 32.65it/s, train_loss_step=41.20, val_loss=40.60, val_price_loss=3.74e+10, val_category_loss=3.180, val_accuracy=0.0505, val_rmse=1.93e+5, train_loss_epoch=43.90]"
     ]
    },
    {
     "name": "stderr",
     "output_type": "stream",
     "text": [
      "[I 2024-04-28 23:47:42,004] Trial 3 finished with value: 40.565643310546875 and parameters: {'num_layers': 1, 'hidden_dim': 64, 'embedding_dim': 14, 'lr': 1.0379224112113858e-05, 'optimizer_type': 'SGD', 'relu_type': 'ReLU', 'droupoutrate': 0.039100819776468065}. Best is trial 2 with value: 11.454269409179688.\n"
     ]
    },
    {
     "name": "stdout",
     "output_type": "stream",
     "text": [
      "\n",
      "Number of embedding layers: 36\n"
     ]
    },
    {
     "name": "stderr",
     "output_type": "stream",
     "text": [
      "GPU available: True (cuda), used: True\n",
      "TPU available: False, using: 0 TPU cores\n",
      "IPU available: False, using: 0 IPUs\n",
      "HPU available: False, using: 0 HPUs\n",
      "LOCAL_RANK: 0 - CUDA_VISIBLE_DEVICES: [0]\n",
      "\n",
      "  | Name            | Type       | Params\n",
      "-----------------------------------------------\n",
      "0 | embeddings      | ModuleList | 4.2 K \n",
      "1 | fc              | Sequential | 1.9 M \n",
      "2 | output_category | Sequential | 534 K \n",
      "3 | output_price    | Sequential | 525 K \n",
      "-----------------------------------------------\n",
      "3.0 M     Trainable params\n",
      "0         Non-trainable params\n",
      "3.0 M     Total params\n",
      "11.952    Total estimated model params size (MB)\n"
     ]
    },
    {
     "name": "stdout",
     "output_type": "stream",
     "text": [
      "Epoch 0: 100%|██████████| 16/16 [00:00<00:00, 29.38it/s, train_loss_step=61.10, val_loss=54.70, val_price_loss=5.17e+10, val_category_loss=3.070, val_accuracy=0.248, val_rmse=2.1e+5, train_loss_epoch=9.91e+3]"
     ]
    },
    {
     "name": "stderr",
     "output_type": "stream",
     "text": [
      "Metric val_loss improved. New best score: 54.722\n"
     ]
    },
    {
     "name": "stdout",
     "output_type": "stream",
     "text": [
      "Epoch 1: 100%|██████████| 16/16 [00:00<00:00, 37.48it/s, train_loss_step=36.90, val_loss=17.50, val_price_loss=1.46e+10, val_category_loss=2.910, val_accuracy=0.243, val_rmse=1.12e+5, train_loss_epoch=49.90]  "
     ]
    },
    {
     "name": "stderr",
     "output_type": "stream",
     "text": [
      "Metric val_loss improved by 37.249 >= min_delta = 0.0001. New best score: 17.473\n"
     ]
    },
    {
     "name": "stdout",
     "output_type": "stream",
     "text": [
      "Epoch 2: 100%|██████████| 16/16 [00:00<00:00, 29.87it/s, train_loss_step=220.0, val_loss=13.80, val_price_loss=1.15e+10, val_category_loss=2.240, val_accuracy=0.225, val_rmse=6.76e+4, train_loss_epoch=57.80]"
     ]
    },
    {
     "name": "stderr",
     "output_type": "stream",
     "text": [
      "Metric val_loss improved by 3.713 >= min_delta = 0.0001. New best score: 13.760\n"
     ]
    },
    {
     "name": "stdout",
     "output_type": "stream",
     "text": [
      "Epoch 3: 100%|██████████| 16/16 [00:00<00:00, 34.95it/s, train_loss_step=15.60, val_loss=13.30, val_price_loss=1.09e+10, val_category_loss=2.330, val_accuracy=0.202, val_rmse=7.74e+4, train_loss_epoch=17.30]"
     ]
    },
    {
     "name": "stderr",
     "output_type": "stream",
     "text": [
      "Metric val_loss improved by 0.492 >= min_delta = 0.0001. New best score: 13.268\n"
     ]
    },
    {
     "name": "stdout",
     "output_type": "stream",
     "text": [
      "Epoch 4: 100%|██████████| 16/16 [00:00<00:00, 29.49it/s, train_loss_step=13.80, val_loss=9.540, val_price_loss=7.39e+9, val_category_loss=2.150, val_accuracy=0.261, val_rmse=6.28e+4, train_loss_epoch=13.10] "
     ]
    },
    {
     "name": "stderr",
     "output_type": "stream",
     "text": [
      "Metric val_loss improved by 3.732 >= min_delta = 0.0001. New best score: 9.536\n"
     ]
    },
    {
     "name": "stdout",
     "output_type": "stream",
     "text": [
      "Epoch 6: 100%|██████████| 16/16 [00:00<00:00, 31.24it/s, train_loss_step=16.40, val_loss=8.850, val_price_loss=6.75e+9, val_category_loss=2.100, val_accuracy=0.289, val_rmse=7.56e+4, train_loss_epoch=10.40]"
     ]
    },
    {
     "name": "stderr",
     "output_type": "stream",
     "text": [
      "Metric val_loss improved by 0.682 >= min_delta = 0.0001. New best score: 8.855\n"
     ]
    },
    {
     "name": "stdout",
     "output_type": "stream",
     "text": [
      "Epoch 7: 100%|██████████| 16/16 [00:00<00:00, 36.71it/s, train_loss_step=11.40, val_loss=8.530, val_price_loss=6.16e+9, val_category_loss=2.370, val_accuracy=0.229, val_rmse=7.35e+4, train_loss_epoch=9.430]"
     ]
    },
    {
     "name": "stderr",
     "output_type": "stream",
     "text": [
      "Metric val_loss improved by 0.324 >= min_delta = 0.0001. New best score: 8.530\n"
     ]
    },
    {
     "name": "stdout",
     "output_type": "stream",
     "text": [
      "Epoch 8: 100%|██████████| 16/16 [00:00<00:00, 28.60it/s, train_loss_step=11.70, val_loss=8.220, val_price_loss=6.09e+9, val_category_loss=2.130, val_accuracy=0.243, val_rmse=7.36e+4, train_loss_epoch=9.620]"
     ]
    },
    {
     "name": "stderr",
     "output_type": "stream",
     "text": [
      "Metric val_loss improved by 0.309 >= min_delta = 0.0001. New best score: 8.221\n"
     ]
    },
    {
     "name": "stdout",
     "output_type": "stream",
     "text": [
      "Epoch 10: 100%|██████████| 16/16 [00:00<00:00, 32.21it/s, train_loss_step=15.30, val_loss=8.190, val_price_loss=6.05e+9, val_category_loss=2.130, val_accuracy=0.261, val_rmse=7.3e+4, train_loss_epoch=9.890] "
     ]
    },
    {
     "name": "stderr",
     "output_type": "stream",
     "text": [
      "Metric val_loss improved by 0.035 >= min_delta = 0.0001. New best score: 8.186\n"
     ]
    },
    {
     "name": "stdout",
     "output_type": "stream",
     "text": [
      "Epoch 15: 100%|██████████| 16/16 [00:00<00:00, 31.27it/s, train_loss_step=8.030, val_loss=8.270, val_price_loss=6.21e+9, val_category_loss=2.070, val_accuracy=0.321, val_rmse=7.73e+4, train_loss_epoch=9.390]"
     ]
    },
    {
     "name": "stderr",
     "output_type": "stream",
     "text": [
      "Monitored metric val_loss did not improve in the last 5 records. Best score: 8.186. Signaling Trainer to stop.\n"
     ]
    },
    {
     "name": "stdout",
     "output_type": "stream",
     "text": [
      "Epoch 15: 100%|██████████| 16/16 [00:00<00:00, 16.56it/s, train_loss_step=8.030, val_loss=8.270, val_price_loss=6.21e+9, val_category_loss=2.070, val_accuracy=0.321, val_rmse=7.73e+4, train_loss_epoch=9.390]"
     ]
    },
    {
     "name": "stderr",
     "output_type": "stream",
     "text": [
      "[I 2024-04-28 23:47:57,872] Trial 4 finished with value: 8.273262977600098 and parameters: {'num_layers': 2, 'hidden_dim': 512, 'embedding_dim': 18, 'lr': 0.05941373107979325, 'optimizer_type': 'Adam', 'relu_type': 'LeakyReLU', 'droupoutrate': 0.3534372130174893}. Best is trial 4 with value: 8.273262977600098.\n"
     ]
    },
    {
     "name": "stdout",
     "output_type": "stream",
     "text": [
      "\n",
      "Number of embedding layers: 36\n"
     ]
    },
    {
     "name": "stderr",
     "output_type": "stream",
     "text": [
      "GPU available: True (cuda), used: True\n",
      "TPU available: False, using: 0 TPU cores\n",
      "IPU available: False, using: 0 IPUs\n",
      "HPU available: False, using: 0 HPUs\n",
      "LOCAL_RANK: 0 - CUDA_VISIBLE_DEVICES: [0]\n",
      "\n",
      "  | Name            | Type       | Params\n",
      "-----------------------------------------------\n",
      "0 | embeddings      | ModuleList | 1.2 K \n",
      "1 | fc              | Sequential | 14.9 M\n",
      "2 | output_category | Sequential | 2.1 M \n",
      "3 | output_price    | Sequential | 2.1 M \n",
      "-----------------------------------------------\n",
      "19.1 M    Trainable params\n",
      "0         Non-trainable params\n",
      "19.1 M    Total params\n",
      "76.502    Total estimated model params size (MB)\n"
     ]
    },
    {
     "name": "stdout",
     "output_type": "stream",
     "text": [
      "Epoch 0: 100%|██████████| 16/16 [00:00<00:00, 28.19it/s, train_loss_step=38.60, val_loss=38.40, val_price_loss=3.73e+10, val_category_loss=1.080, val_accuracy=0.683, val_rmse=1.93e+5, train_loss_epoch=42.20]"
     ]
    },
    {
     "name": "stderr",
     "output_type": "stream",
     "text": [
      "Metric val_loss improved. New best score: 38.427\n"
     ]
    },
    {
     "name": "stdout",
     "output_type": "stream",
     "text": [
      "Epoch 1: 100%|██████████| 16/16 [00:00<00:00, 24.86it/s, train_loss_step=33.50, val_loss=38.30, val_price_loss=3.73e+10, val_category_loss=1.070, val_accuracy=0.683, val_rmse=1.93e+5, train_loss_epoch=41.20]"
     ]
    },
    {
     "name": "stderr",
     "output_type": "stream",
     "text": [
      "Metric val_loss improved by 0.093 >= min_delta = 0.0001. New best score: 38.334\n"
     ]
    },
    {
     "name": "stdout",
     "output_type": "stream",
     "text": [
      "Epoch 2: 100%|██████████| 16/16 [00:00<00:00, 26.60it/s, train_loss_step=36.80, val_loss=38.00, val_price_loss=3.71e+10, val_category_loss=0.902, val_accuracy=0.693, val_rmse=1.93e+5, train_loss_epoch=40.70]"
     ]
    },
    {
     "name": "stderr",
     "output_type": "stream",
     "text": [
      "Metric val_loss improved by 0.315 >= min_delta = 0.0001. New best score: 38.019\n"
     ]
    },
    {
     "name": "stdout",
     "output_type": "stream",
     "text": [
      "Epoch 6: 100%|██████████| 16/16 [00:00<00:00, 26.86it/s, train_loss_step=14.00, val_loss=21.20, val_price_loss=7.47e+9, val_category_loss=13.70, val_accuracy=0.133, val_rmse=8.49e+4, train_loss_epoch=10.60] "
     ]
    },
    {
     "name": "stderr",
     "output_type": "stream",
     "text": [
      "Metric val_loss improved by 16.801 >= min_delta = 0.0001. New best score: 21.218\n"
     ]
    },
    {
     "name": "stdout",
     "output_type": "stream",
     "text": [
      "Epoch 8: 100%|██████████| 16/16 [00:00<00:00, 21.55it/s, train_loss_step=7.600, val_loss=14.20, val_price_loss=6.08e+9, val_category_loss=8.130, val_accuracy=0.307, val_rmse=7.5e+4, train_loss_epoch=7.800] "
     ]
    },
    {
     "name": "stderr",
     "output_type": "stream",
     "text": [
      "Metric val_loss improved by 7.017 >= min_delta = 0.0001. New best score: 14.201\n"
     ]
    },
    {
     "name": "stdout",
     "output_type": "stream",
     "text": [
      "Epoch 11: 100%|██████████| 16/16 [00:00<00:00, 25.36it/s, train_loss_step=4.920, val_loss=11.10, val_price_loss=5.86e+9, val_category_loss=5.280, val_accuracy=0.394, val_rmse=7.43e+4, train_loss_epoch=7.390] "
     ]
    },
    {
     "name": "stderr",
     "output_type": "stream",
     "text": [
      "Metric val_loss improved by 3.057 >= min_delta = 0.0001. New best score: 11.144\n"
     ]
    },
    {
     "name": "stdout",
     "output_type": "stream",
     "text": [
      "Epoch 16: 100%|██████████| 16/16 [00:00<00:00, 25.08it/s, train_loss_step=11.10, val_loss=35.70, val_price_loss=5.82e+9, val_category_loss=29.90, val_accuracy=0.133, val_rmse=7.46e+4, train_loss_epoch=7.040]"
     ]
    },
    {
     "name": "stderr",
     "output_type": "stream",
     "text": [
      "Monitored metric val_loss did not improve in the last 5 records. Best score: 11.144. Signaling Trainer to stop.\n"
     ]
    },
    {
     "name": "stdout",
     "output_type": "stream",
     "text": [
      "Epoch 16: 100%|██████████| 16/16 [00:05<00:00,  3.18it/s, train_loss_step=11.10, val_loss=35.70, val_price_loss=5.82e+9, val_category_loss=29.90, val_accuracy=0.133, val_rmse=7.46e+4, train_loss_epoch=7.040]"
     ]
    },
    {
     "name": "stderr",
     "output_type": "stream",
     "text": [
      "[I 2024-04-28 23:49:25,485] Trial 5 finished with value: 35.74263381958008 and parameters: {'num_layers': 4, 'hidden_dim': 1024, 'embedding_dim': 5, 'lr': 0.00016129819897982148, 'optimizer_type': 'Adam', 'relu_type': 'LeakyReLU', 'droupoutrate': 0.41349840295855167}. Best is trial 4 with value: 8.273262977600098.\n"
     ]
    },
    {
     "name": "stdout",
     "output_type": "stream",
     "text": [
      "\n",
      "Number of embedding layers: 36\n"
     ]
    },
    {
     "name": "stderr",
     "output_type": "stream",
     "text": [
      "GPU available: True (cuda), used: True\n",
      "TPU available: False, using: 0 TPU cores\n",
      "IPU available: False, using: 0 IPUs\n",
      "HPU available: False, using: 0 HPUs\n",
      "LOCAL_RANK: 0 - CUDA_VISIBLE_DEVICES: [0]\n",
      "\n",
      "  | Name            | Type       | Params\n",
      "-----------------------------------------------\n",
      "0 | embeddings      | ModuleList | 3.2 K \n",
      "1 | fc              | Sequential | 6.8 M \n",
      "2 | output_category | Sequential | 2.1 M \n",
      "3 | output_price    | Sequential | 2.1 M \n",
      "-----------------------------------------------\n",
      "11.1 M    Trainable params\n",
      "0         Non-trainable params\n",
      "11.1 M    Total params\n",
      "44.266    Total estimated model params size (MB)\n"
     ]
    },
    {
     "name": "stdout",
     "output_type": "stream",
     "text": [
      "Epoch 0: 100%|██████████| 16/16 [00:00<00:00, 24.64it/s, train_loss_step=54.30, val_loss=39.70, val_price_loss=3.74e+10, val_category_loss=2.290, val_accuracy=0.271, val_rmse=1.93e+5, train_loss_epoch=43.50]"
     ]
    },
    {
     "name": "stderr",
     "output_type": "stream",
     "text": [
      "Metric val_loss improved. New best score: 39.671\n"
     ]
    },
    {
     "name": "stdout",
     "output_type": "stream",
     "text": [
      "Epoch 1: 100%|██████████| 16/16 [00:00<00:00, 40.21it/s, train_loss_step=47.80, val_loss=39.70, val_price_loss=3.74e+10, val_category_loss=2.290, val_accuracy=0.271, val_rmse=1.93e+5, train_loss_epoch=43.50]"
     ]
    },
    {
     "name": "stderr",
     "output_type": "stream",
     "text": [
      "[I 2024-04-28 23:49:27,455] Trial 6 pruned. Trial was pruned at epoch 1.\n",
      "GPU available: True (cuda), used: True\n",
      "TPU available: False, using: 0 TPU cores\n",
      "IPU available: False, using: 0 IPUs\n",
      "HPU available: False, using: 0 HPUs\n",
      "LOCAL_RANK: 0 - CUDA_VISIBLE_DEVICES: [0]\n",
      "\n",
      "  | Name            | Type       | Params\n",
      "-----------------------------------------------\n",
      "0 | embeddings      | ModuleList | 2.3 K \n",
      "1 | fc              | Sequential | 99.6 K\n",
      "2 | output_category | Sequential | 9.4 K \n",
      "3 | output_price    | Sequential | 8.3 K \n",
      "-----------------------------------------------\n",
      "119 K     Trainable params\n",
      "0         Non-trainable params\n",
      "119 K     Total params\n",
      "0.479     Total estimated model params size (MB)\n"
     ]
    },
    {
     "name": "stdout",
     "output_type": "stream",
     "text": [
      "Number of embedding layers: 36\n",
      "Epoch 0: 100%|██████████| 16/16 [00:00<00:00, 37.48it/s, train_loss_step=41.60]"
     ]
    },
    {
     "name": "stderr",
     "output_type": "stream",
     "text": [
      "[I 2024-04-28 23:49:28,031] Trial 7 pruned. Trial was pruned at epoch 0.\n"
     ]
    },
    {
     "name": "stdout",
     "output_type": "stream",
     "text": [
      "Epoch 1: 100%|██████████| 16/16 [00:01<00:00, 15.16it/s, train_loss_step=47.80, val_loss=39.70, val_price_loss=3.74e+10, val_category_loss=2.290, val_accuracy=0.271, val_rmse=1.93e+5, train_loss_epoch=43.50]\n",
      "Epoch 0: 100%|██████████| 16/16 [00:00<00:00, 32.34it/s, train_loss_step=41.60]\n",
      "Number of embedding layers: 36\n"
     ]
    },
    {
     "name": "stderr",
     "output_type": "stream",
     "text": [
      "GPU available: True (cuda), used: True\n",
      "TPU available: False, using: 0 TPU cores\n",
      "IPU available: False, using: 0 IPUs\n",
      "HPU available: False, using: 0 HPUs\n",
      "LOCAL_RANK: 0 - CUDA_VISIBLE_DEVICES: [0]\n",
      "\n",
      "  | Name            | Type       | Params\n",
      "-----------------------------------------------\n",
      "0 | embeddings      | ModuleList | 2.1 K \n",
      "1 | fc              | Sequential | 4.9 M \n",
      "2 | output_category | Sequential | 534 K \n",
      "3 | output_price    | Sequential | 525 K \n",
      "-----------------------------------------------\n",
      "6.0 M     Trainable params\n",
      "0         Non-trainable params\n",
      "6.0 M     Total params\n",
      "23.876    Total estimated model params size (MB)\n"
     ]
    },
    {
     "name": "stdout",
     "output_type": "stream",
     "text": [
      "Epoch 0: 100%|██████████| 16/16 [00:00<00:00, 47.46it/s, train_loss_step=54.70]"
     ]
    },
    {
     "name": "stderr",
     "output_type": "stream",
     "text": [
      "[I 2024-04-28 23:49:28,586] Trial 8 pruned. Trial was pruned at epoch 0.\n"
     ]
    },
    {
     "name": "stdout",
     "output_type": "stream",
     "text": [
      "Number of embedding layers: 36\n"
     ]
    },
    {
     "name": "stderr",
     "output_type": "stream",
     "text": [
      "GPU available: True (cuda), used: True\n",
      "TPU available: False, using: 0 TPU cores\n",
      "IPU available: False, using: 0 IPUs\n",
      "HPU available: False, using: 0 HPUs\n",
      "LOCAL_RANK: 0 - CUDA_VISIBLE_DEVICES: [0]\n",
      "\n",
      "  | Name            | Type       | Params\n",
      "-----------------------------------------------\n",
      "0 | embeddings      | ModuleList | 2.5 K \n",
      "1 | fc              | Sequential | 1.8 M \n",
      "2 | output_category | Sequential | 534 K \n",
      "3 | output_price    | Sequential | 525 K \n",
      "-----------------------------------------------\n",
      "2.9 M     Trainable params\n",
      "0         Non-trainable params\n",
      "2.9 M     Total params\n",
      "11.430    Total estimated model params size (MB)\n"
     ]
    },
    {
     "name": "stdout",
     "output_type": "stream",
     "text": [
      "Epoch 0: 100%|██████████| 16/16 [00:00<00:00, 52.09it/s, train_loss_step=41.10]"
     ]
    },
    {
     "name": "stderr",
     "output_type": "stream",
     "text": [
      "[I 2024-04-28 23:49:29,151] Trial 9 pruned. Trial was pruned at epoch 0.\n"
     ]
    },
    {
     "name": "stdout",
     "output_type": "stream",
     "text": [
      "Number of embedding layers: 36\n",
      "Epoch 0: 100%|██████████| 16/16 [00:00<00:00, 40.41it/s, train_loss_step=41.10]\n"
     ]
    },
    {
     "name": "stderr",
     "output_type": "stream",
     "text": [
      "GPU available: True (cuda), used: True\n",
      "TPU available: False, using: 0 TPU cores\n",
      "IPU available: False, using: 0 IPUs\n",
      "HPU available: False, using: 0 HPUs\n",
      "LOCAL_RANK: 0 - CUDA_VISIBLE_DEVICES: [0]\n",
      "\n",
      "  | Name            | Type       | Params\n",
      "-----------------------------------------------\n",
      "0 | embeddings      | ModuleList | 4.6 K \n",
      "1 | fc              | Sequential | 261 K \n",
      "2 | output_category | Sequential | 35.2 K\n",
      "3 | output_price    | Sequential | 33.0 K\n",
      "-----------------------------------------------\n",
      "334 K     Trainable params\n",
      "0         Non-trainable params\n",
      "334 K     Total params\n",
      "1.336     Total estimated model params size (MB)\n"
     ]
    },
    {
     "name": "stdout",
     "output_type": "stream",
     "text": [
      "Epoch 0: 100%|██████████| 16/16 [00:00<00:00, 47.46it/s, train_loss_step=106.0] "
     ]
    },
    {
     "name": "stderr",
     "output_type": "stream",
     "text": [
      "[I 2024-04-28 23:49:29,650] Trial 10 pruned. Trial was pruned at epoch 0.\n"
     ]
    },
    {
     "name": "stdout",
     "output_type": "stream",
     "text": [
      "Number of embedding layers: 36\n"
     ]
    },
    {
     "name": "stderr",
     "output_type": "stream",
     "text": [
      "GPU available: True (cuda), used: True\n",
      "TPU available: False, using: 0 TPU cores\n",
      "IPU available: False, using: 0 IPUs\n",
      "HPU available: False, using: 0 HPUs\n",
      "LOCAL_RANK: 0 - CUDA_VISIBLE_DEVICES: [0]\n",
      "\n",
      "  | Name            | Type       | Params\n",
      "-----------------------------------------------\n",
      "0 | embeddings      | ModuleList | 4.4 K \n",
      "1 | fc              | Sequential | 1.1 M \n",
      "2 | output_category | Sequential | 135 K \n",
      "3 | output_price    | Sequential | 131 K \n",
      "-----------------------------------------------\n",
      "1.4 M     Trainable params\n",
      "0         Non-trainable params\n",
      "1.4 M     Total params\n",
      "5.502     Total estimated model params size (MB)\n"
     ]
    },
    {
     "name": "stdout",
     "output_type": "stream",
     "text": [
      "Epoch 0: 100%|██████████| 16/16 [00:00<00:00, 31.96it/s, train_loss_step=50.70, val_loss=39.60, val_price_loss=3.45e+10, val_category_loss=5.090, val_accuracy=0.0459, val_rmse=1.87e+5, train_loss_epoch=1.72e+5]"
     ]
    },
    {
     "name": "stderr",
     "output_type": "stream",
     "text": [
      "Metric val_loss improved. New best score: 39.627\n"
     ]
    },
    {
     "name": "stdout",
     "output_type": "stream",
     "text": [
      "Epoch 1: 100%|██████████| 16/16 [00:00<00:00, 27.10it/s, train_loss_step=40.90, val_loss=28.70, val_price_loss=2.49e+10, val_category_loss=3.810, val_accuracy=0.147, val_rmse=1.56e+5, train_loss_epoch=27.60]   "
     ]
    },
    {
     "name": "stderr",
     "output_type": "stream",
     "text": [
      "Metric val_loss improved by 10.948 >= min_delta = 0.0001. New best score: 28.679\n"
     ]
    },
    {
     "name": "stdout",
     "output_type": "stream",
     "text": [
      "Epoch 2: 100%|██████████| 16/16 [00:00<00:00, 32.15it/s, train_loss_step=9.180, val_loss=10.60, val_price_loss=8.28e+9, val_category_loss=2.270, val_accuracy=0.266, val_rmse=7.67e+4, train_loss_epoch=14.00] "
     ]
    },
    {
     "name": "stderr",
     "output_type": "stream",
     "text": [
      "Metric val_loss improved by 18.123 >= min_delta = 0.0001. New best score: 10.556\n"
     ]
    },
    {
     "name": "stdout",
     "output_type": "stream",
     "text": [
      "Epoch 3: 100%|██████████| 16/16 [00:00<00:00, 32.15it/s, train_loss_step=9.050, val_loss=8.900, val_price_loss=6.62e+9, val_category_loss=2.280, val_accuracy=0.257, val_rmse=9.23e+4, train_loss_epoch=10.90]"
     ]
    },
    {
     "name": "stderr",
     "output_type": "stream",
     "text": [
      "Metric val_loss improved by 1.659 >= min_delta = 0.0001. New best score: 8.897\n"
     ]
    },
    {
     "name": "stdout",
     "output_type": "stream",
     "text": [
      "Epoch 7: 100%|██████████| 16/16 [00:00<00:00, 37.39it/s, train_loss_step=6.350, val_loss=8.600, val_price_loss=6.67e+9, val_category_loss=1.920, val_accuracy=0.463, val_rmse=8.04e+4, train_loss_epoch=8.970]"
     ]
    },
    {
     "name": "stderr",
     "output_type": "stream",
     "text": [
      "Metric val_loss improved by 0.299 >= min_delta = 0.0001. New best score: 8.598\n"
     ]
    },
    {
     "name": "stdout",
     "output_type": "stream",
     "text": [
      "Epoch 8: 100%|██████████| 16/16 [00:00<00:00, 35.10it/s, train_loss_step=8.100, val_loss=8.150, val_price_loss=5.95e+9, val_category_loss=2.200, val_accuracy=0.358, val_rmse=7.58e+4, train_loss_epoch=8.820]"
     ]
    },
    {
     "name": "stderr",
     "output_type": "stream",
     "text": [
      "Metric val_loss improved by 0.445 >= min_delta = 0.0001. New best score: 8.153\n"
     ]
    },
    {
     "name": "stdout",
     "output_type": "stream",
     "text": [
      "Epoch 13: 100%|██████████| 16/16 [00:00<00:00, 33.49it/s, train_loss_step=7.480, val_loss=39.50, val_price_loss=1.12e+10, val_category_loss=28.30, val_accuracy=0.229, val_rmse=1.05e+5, train_loss_epoch=13.10]"
     ]
    },
    {
     "name": "stderr",
     "output_type": "stream",
     "text": [
      "Monitored metric val_loss did not improve in the last 5 records. Best score: 8.153. Signaling Trainer to stop.\n"
     ]
    },
    {
     "name": "stdout",
     "output_type": "stream",
     "text": [
      "Epoch 13: 100%|██████████| 16/16 [00:00<00:00, 28.65it/s, train_loss_step=7.480, val_loss=39.50, val_price_loss=1.12e+10, val_category_loss=28.30, val_accuracy=0.229, val_rmse=1.05e+5, train_loss_epoch=13.10]"
     ]
    },
    {
     "name": "stderr",
     "output_type": "stream",
     "text": [
      "[I 2024-04-28 23:49:37,665] Trial 11 finished with value: 39.53910446166992 and parameters: {'num_layers': 4, 'hidden_dim': 256, 'embedding_dim': 19, 'lr': 0.04619698279316068, 'optimizer_type': 'Adam', 'relu_type': 'ReLU', 'droupoutrate': 0.41432300933094685}. Best is trial 4 with value: 8.273262977600098.\n"
     ]
    },
    {
     "name": "stdout",
     "output_type": "stream",
     "text": [
      "\n",
      "Number of embedding layers: 36\n"
     ]
    },
    {
     "name": "stderr",
     "output_type": "stream",
     "text": [
      "GPU available: True (cuda), used: True\n",
      "TPU available: False, using: 0 TPU cores\n",
      "IPU available: False, using: 0 IPUs\n",
      "HPU available: False, using: 0 HPUs\n",
      "LOCAL_RANK: 0 - CUDA_VISIBLE_DEVICES: [0]\n",
      "\n",
      "  | Name            | Type       | Params\n",
      "-----------------------------------------------\n",
      "0 | embeddings      | ModuleList | 3.9 K \n",
      "1 | fc              | Sequential | 3.0 M \n",
      "2 | output_category | Sequential | 534 K \n",
      "3 | output_price    | Sequential | 525 K \n",
      "-----------------------------------------------\n",
      "4.0 M     Trainable params\n",
      "0         Non-trainable params\n",
      "4.0 M     Total params\n",
      "16.076    Total estimated model params size (MB)\n"
     ]
    },
    {
     "name": "stdout",
     "output_type": "stream",
     "text": [
      "Epoch 0: 100%|██████████| 16/16 [00:00<00:00, 28.16it/s, train_loss_step=9.440, val_loss=23.50, val_price_loss=7.62e+9, val_category_loss=15.90, val_accuracy=0.206, val_rmse=9.18e+4, train_loss_epoch=50.70]"
     ]
    },
    {
     "name": "stderr",
     "output_type": "stream",
     "text": [
      "Metric val_loss improved. New best score: 23.510\n"
     ]
    },
    {
     "name": "stdout",
     "output_type": "stream",
     "text": [
      "Epoch 1: 100%|██████████| 16/16 [00:00<00:00, 36.71it/s, train_loss_step=13.00, val_loss=22.40, val_price_loss=6.43e+9, val_category_loss=16.00, val_accuracy=0.206, val_rmse=7.46e+4, train_loss_epoch=12.30]"
     ]
    },
    {
     "name": "stderr",
     "output_type": "stream",
     "text": [
      "Metric val_loss improved by 1.079 >= min_delta = 0.0001. New best score: 22.431\n"
     ]
    },
    {
     "name": "stdout",
     "output_type": "stream",
     "text": [
      "Epoch 2: 100%|██████████| 16/16 [00:00<00:00, 27.01it/s, train_loss_step=10.10, val_loss=20.80, val_price_loss=8.74e+9, val_category_loss=12.00, val_accuracy=0.206, val_rmse=9.12e+4, train_loss_epoch=10.00]"
     ]
    },
    {
     "name": "stderr",
     "output_type": "stream",
     "text": [
      "Metric val_loss improved by 1.657 >= min_delta = 0.0001. New best score: 20.774\n"
     ]
    },
    {
     "name": "stdout",
     "output_type": "stream",
     "text": [
      "Epoch 3: 100%|██████████| 16/16 [00:00<00:00, 36.30it/s, train_loss_step=11.50, val_loss=15.30, val_price_loss=6.06e+9, val_category_loss=9.290, val_accuracy=0.206, val_rmse=7.54e+4, train_loss_epoch=9.720]"
     ]
    },
    {
     "name": "stderr",
     "output_type": "stream",
     "text": [
      "Metric val_loss improved by 5.424 >= min_delta = 0.0001. New best score: 15.350\n"
     ]
    },
    {
     "name": "stdout",
     "output_type": "stream",
     "text": [
      "Epoch 4: 100%|██████████| 16/16 [00:00<00:00, 29.24it/s, train_loss_step=10.80, val_loss=14.60, val_price_loss=6.26e+9, val_category_loss=8.350, val_accuracy=0.211, val_rmse=7.54e+4, train_loss_epoch=8.730]"
     ]
    },
    {
     "name": "stderr",
     "output_type": "stream",
     "text": [
      "Metric val_loss improved by 0.743 >= min_delta = 0.0001. New best score: 14.607\n"
     ]
    },
    {
     "name": "stdout",
     "output_type": "stream",
     "text": [
      "Epoch 5: 100%|██████████| 16/16 [00:00<00:00, 36.38it/s, train_loss_step=8.540, val_loss=9.410, val_price_loss=6.17e+9, val_category_loss=3.240, val_accuracy=0.399, val_rmse=7.38e+4, train_loss_epoch=8.550]"
     ]
    },
    {
     "name": "stderr",
     "output_type": "stream",
     "text": [
      "Metric val_loss improved by 5.192 >= min_delta = 0.0001. New best score: 9.414\n"
     ]
    },
    {
     "name": "stdout",
     "output_type": "stream",
     "text": [
      "Epoch 7: 100%|██████████| 16/16 [00:00<00:00, 39.90it/s, train_loss_step=7.570, val_loss=8.740, val_price_loss=6.38e+9, val_category_loss=2.360, val_accuracy=0.472, val_rmse=7.81e+4, train_loss_epoch=8.210]"
     ]
    },
    {
     "name": "stderr",
     "output_type": "stream",
     "text": [
      "Metric val_loss improved by 0.673 >= min_delta = 0.0001. New best score: 8.741\n"
     ]
    },
    {
     "name": "stdout",
     "output_type": "stream",
     "text": [
      "Epoch 8: 100%|██████████| 16/16 [00:00<00:00, 28.48it/s, train_loss_step=7.100, val_loss=8.040, val_price_loss=5.92e+9, val_category_loss=2.120, val_accuracy=0.372, val_rmse=7.46e+4, train_loss_epoch=7.980]"
     ]
    },
    {
     "name": "stderr",
     "output_type": "stream",
     "text": [
      "Metric val_loss improved by 0.703 >= min_delta = 0.0001. New best score: 8.038\n"
     ]
    },
    {
     "name": "stdout",
     "output_type": "stream",
     "text": [
      "Epoch 10: 100%|██████████| 16/16 [00:00<00:00, 28.96it/s, train_loss_step=5.500, val_loss=7.250, val_price_loss=5.88e+9, val_category_loss=1.360, val_accuracy=0.573, val_rmse=7.37e+4, train_loss_epoch=8.130]"
     ]
    },
    {
     "name": "stderr",
     "output_type": "stream",
     "text": [
      "Metric val_loss improved by 0.792 >= min_delta = 0.0001. New best score: 7.245\n"
     ]
    },
    {
     "name": "stdout",
     "output_type": "stream",
     "text": [
      "Epoch 15: 100%|██████████| 16/16 [00:00<00:00, 34.83it/s, train_loss_step=5.890, val_loss=12.10, val_price_loss=7.14e+9, val_category_loss=4.970, val_accuracy=0.211, val_rmse=8.11e+4, train_loss_epoch=7.670]"
     ]
    },
    {
     "name": "stderr",
     "output_type": "stream",
     "text": [
      "Monitored metric val_loss did not improve in the last 5 records. Best score: 7.245. Signaling Trainer to stop.\n"
     ]
    },
    {
     "name": "stdout",
     "output_type": "stream",
     "text": [
      "Epoch 15: 100%|██████████| 16/16 [00:01<00:00, 13.13it/s, train_loss_step=5.890, val_loss=12.10, val_price_loss=7.14e+9, val_category_loss=4.970, val_accuracy=0.211, val_rmse=8.11e+4, train_loss_epoch=7.670]"
     ]
    },
    {
     "name": "stderr",
     "output_type": "stream",
     "text": [
      "[I 2024-04-28 23:49:57,676] Trial 12 finished with value: 12.113236427307129 and parameters: {'num_layers': 3, 'hidden_dim': 512, 'embedding_dim': 17, 'lr': 0.010801719045826035, 'optimizer_type': 'Adam', 'relu_type': 'LeakyReLU', 'droupoutrate': 0.46818265099064443}. Best is trial 4 with value: 8.273262977600098.\n",
      "GPU available: True (cuda), used: True\n",
      "TPU available: False, using: 0 TPU cores\n",
      "IPU available: False, using: 0 IPUs\n",
      "HPU available: False, using: 0 HPUs\n",
      "LOCAL_RANK: 0 - CUDA_VISIBLE_DEVICES: [0]\n",
      "\n",
      "  | Name            | Type       | Params\n",
      "-----------------------------------------------\n",
      "0 | embeddings      | ModuleList | 3.9 K \n",
      "1 | fc              | Sequential | 4.0 M \n",
      "2 | output_category | Sequential | 534 K \n",
      "3 | output_price    | Sequential | 525 K \n",
      "-----------------------------------------------\n",
      "5.1 M     Trainable params\n",
      "0         Non-trainable params\n",
      "5.1 M     Total params\n",
      "20.275    Total estimated model params size (MB)\n"
     ]
    },
    {
     "name": "stdout",
     "output_type": "stream",
     "text": [
      "\n",
      "Number of embedding layers: 36\n",
      "Epoch 0: 100%|██████████| 16/16 [00:00<00:00, 26.83it/s, train_loss_step=10.00, val_loss=23.70, val_price_loss=1.13e+10, val_category_loss=12.40, val_accuracy=0.229, val_rmse=1.07e+5, train_loss_epoch=111.0]"
     ]
    },
    {
     "name": "stderr",
     "output_type": "stream",
     "text": [
      "Metric val_loss improved. New best score: 23.655\n"
     ]
    },
    {
     "name": "stdout",
     "output_type": "stream",
     "text": [
      "Epoch 1: 100%|██████████| 16/16 [00:00<00:00, 34.95it/s, train_loss_step=8.910, val_loss=11.10, val_price_loss=6.54e+9, val_category_loss=4.580, val_accuracy=0.248, val_rmse=7.48e+4, train_loss_epoch=12.40] "
     ]
    },
    {
     "name": "stderr",
     "output_type": "stream",
     "text": [
      "Metric val_loss improved by 12.542 >= min_delta = 0.0001. New best score: 11.113\n"
     ]
    },
    {
     "name": "stdout",
     "output_type": "stream",
     "text": [
      "Epoch 3: 100%|██████████| 16/16 [00:00<00:00, 33.49it/s, train_loss_step=12.00, val_loss=9.280, val_price_loss=5.92e+9, val_category_loss=3.360, val_accuracy=0.298, val_rmse=7.45e+4, train_loss_epoch=9.320]"
     ]
    },
    {
     "name": "stderr",
     "output_type": "stream",
     "text": [
      "Metric val_loss improved by 1.833 >= min_delta = 0.0001. New best score: 9.280\n"
     ]
    },
    {
     "name": "stdout",
     "output_type": "stream",
     "text": [
      "Epoch 7: 100%|██████████| 16/16 [00:00<00:00, 37.31it/s, train_loss_step=5.930, val_loss=8.120, val_price_loss=5.93e+9, val_category_loss=2.190, val_accuracy=0.353, val_rmse=7.64e+4, train_loss_epoch=8.880]"
     ]
    },
    {
     "name": "stderr",
     "output_type": "stream",
     "text": [
      "Metric val_loss improved by 1.162 >= min_delta = 0.0001. New best score: 8.117\n"
     ]
    },
    {
     "name": "stdout",
     "output_type": "stream",
     "text": [
      "Epoch 8: 100%|██████████| 16/16 [00:00<00:00, 28.50it/s, train_loss_step=4.770, val_loss=7.870, val_price_loss=5.91e+9, val_category_loss=1.950, val_accuracy=0.436, val_rmse=7.39e+4, train_loss_epoch=8.420]"
     ]
    },
    {
     "name": "stderr",
     "output_type": "stream",
     "text": [
      "Metric val_loss improved by 0.252 >= min_delta = 0.0001. New best score: 7.866\n"
     ]
    },
    {
     "name": "stdout",
     "output_type": "stream",
     "text": [
      "Epoch 11: 100%|██████████| 16/16 [00:00<00:00, 37.74it/s, train_loss_step=5.920, val_loss=7.630, val_price_loss=5.91e+9, val_category_loss=1.720, val_accuracy=0.482, val_rmse=7.47e+4, train_loss_epoch=8.320]"
     ]
    },
    {
     "name": "stderr",
     "output_type": "stream",
     "text": [
      "Metric val_loss improved by 0.237 >= min_delta = 0.0001. New best score: 7.629\n"
     ]
    },
    {
     "name": "stdout",
     "output_type": "stream",
     "text": [
      "Epoch 16: 100%|██████████| 16/16 [00:00<00:00, 25.24it/s, train_loss_step=8.080, val_loss=22.40, val_price_loss=8.46e+9, val_category_loss=13.90, val_accuracy=0.234, val_rmse=9.02e+4, train_loss_epoch=8.520]"
     ]
    },
    {
     "name": "stderr",
     "output_type": "stream",
     "text": [
      "Monitored metric val_loss did not improve in the last 5 records. Best score: 7.629. Signaling Trainer to stop.\n"
     ]
    },
    {
     "name": "stdout",
     "output_type": "stream",
     "text": [
      "Epoch 16: 100%|██████████| 16/16 [00:01<00:00,  8.30it/s, train_loss_step=8.080, val_loss=22.40, val_price_loss=8.46e+9, val_category_loss=13.90, val_accuracy=0.234, val_rmse=9.02e+4, train_loss_epoch=8.520]"
     ]
    },
    {
     "name": "stderr",
     "output_type": "stream",
     "text": [
      "[I 2024-04-28 23:50:25,921] Trial 13 finished with value: 22.36036491394043 and parameters: {'num_layers': 4, 'hidden_dim': 512, 'embedding_dim': 17, 'lr': 0.010825144062617855, 'optimizer_type': 'Adam', 'relu_type': 'ReLU', 'droupoutrate': 0.3146853192214886}. Best is trial 4 with value: 8.273262977600098.\n",
      "GPU available: True (cuda), used: True\n",
      "TPU available: False, using: 0 TPU cores\n",
      "IPU available: False, using: 0 IPUs\n",
      "HPU available: False, using: 0 HPUs\n",
      "LOCAL_RANK: 0 - CUDA_VISIBLE_DEVICES: [0]\n",
      "\n",
      "  | Name            | Type       | Params\n",
      "-----------------------------------------------\n",
      "0 | embeddings      | ModuleList | 3.0 K \n",
      "1 | fc              | Sequential | 228 K \n",
      "2 | output_category | Sequential | 35.2 K\n",
      "3 | output_price    | Sequential | 33.0 K\n",
      "-----------------------------------------------\n",
      "300 K     Trainable params\n",
      "0         Non-trainable params\n",
      "300 K     Total params\n",
      "1.201     Total estimated model params size (MB)\n"
     ]
    },
    {
     "name": "stdout",
     "output_type": "stream",
     "text": [
      "\n",
      "Number of embedding layers: 36\n",
      "Epoch 0: 100%|██████████| 16/16 [00:00<00:00, 31.80it/s, train_loss_step=22.00, val_loss=31.30, val_price_loss=1.41e+10, val_category_loss=17.20, val_accuracy=0.252, val_rmse=1.18e+5, train_loss_epoch=28.60]"
     ]
    },
    {
     "name": "stderr",
     "output_type": "stream",
     "text": [
      "Metric val_loss improved. New best score: 31.252\n"
     ]
    },
    {
     "name": "stdout",
     "output_type": "stream",
     "text": [
      "Epoch 1: 100%|██████████| 16/16 [00:00<00:00, 33.22it/s, train_loss_step=17.80, val_loss=24.60, val_price_loss=9.03e+9, val_category_loss=15.60, val_accuracy=0.206, val_rmse=9.07e+4, train_loss_epoch=11.40] "
     ]
    },
    {
     "name": "stderr",
     "output_type": "stream",
     "text": [
      "Metric val_loss improved by 6.608 >= min_delta = 0.0001. New best score: 24.644\n"
     ]
    },
    {
     "name": "stdout",
     "output_type": "stream",
     "text": [
      "Epoch 2: 100%|██████████| 16/16 [00:00<00:00, 31.39it/s, train_loss_step=5.510, val_loss=10.20, val_price_loss=6.6e+9, val_category_loss=3.570, val_accuracy=0.399, val_rmse=7.9e+4, train_loss_epoch=9.150]  "
     ]
    },
    {
     "name": "stderr",
     "output_type": "stream",
     "text": [
      "Metric val_loss improved by 14.476 >= min_delta = 0.0001. New best score: 10.168\n"
     ]
    },
    {
     "name": "stdout",
     "output_type": "stream",
     "text": [
      "Epoch 4: 100%|██████████| 16/16 [00:00<00:00, 30.44it/s, train_loss_step=10.80, val_loss=9.400, val_price_loss=5.87e+9, val_category_loss=3.530, val_accuracy=0.550, val_rmse=7.6e+4, train_loss_epoch=8.700] "
     ]
    },
    {
     "name": "stderr",
     "output_type": "stream",
     "text": [
      "Metric val_loss improved by 0.763 >= min_delta = 0.0001. New best score: 9.404\n"
     ]
    },
    {
     "name": "stdout",
     "output_type": "stream",
     "text": [
      "Epoch 5: 100%|██████████| 16/16 [00:00<00:00, 28.96it/s, train_loss_step=4.730, val_loss=8.610, val_price_loss=5.82e+9, val_category_loss=2.780, val_accuracy=0.468, val_rmse=7.42e+4, train_loss_epoch=7.990]"
     ]
    },
    {
     "name": "stderr",
     "output_type": "stream",
     "text": [
      "Metric val_loss improved by 0.798 >= min_delta = 0.0001. New best score: 8.606\n"
     ]
    },
    {
     "name": "stdout",
     "output_type": "stream",
     "text": [
      "Epoch 6: 100%|██████████| 16/16 [00:00<00:00, 29.07it/s, train_loss_step=6.280, val_loss=8.590, val_price_loss=5.83e+9, val_category_loss=2.760, val_accuracy=0.463, val_rmse=7.3e+4, train_loss_epoch=7.960] "
     ]
    },
    {
     "name": "stderr",
     "output_type": "stream",
     "text": [
      "Metric val_loss improved by 0.018 >= min_delta = 0.0001. New best score: 8.588\n"
     ]
    },
    {
     "name": "stdout",
     "output_type": "stream",
     "text": [
      "Epoch 8: 100%|██████████| 16/16 [00:00<00:00, 32.34it/s, train_loss_step=7.340, val_loss=7.950, val_price_loss=6.06e+9, val_category_loss=1.890, val_accuracy=0.564, val_rmse=7.8e+4, train_loss_epoch=8.320] "
     ]
    },
    {
     "name": "stderr",
     "output_type": "stream",
     "text": [
      "Metric val_loss improved by 0.635 >= min_delta = 0.0001. New best score: 7.953\n"
     ]
    },
    {
     "name": "stdout",
     "output_type": "stream",
     "text": [
      "Epoch 9: 100%|██████████| 16/16 [00:00<00:00, 33.56it/s, train_loss_step=8.670, val_loss=7.640, val_price_loss=5.98e+9, val_category_loss=1.670, val_accuracy=0.518, val_rmse=7.45e+4, train_loss_epoch=8.170]"
     ]
    },
    {
     "name": "stderr",
     "output_type": "stream",
     "text": [
      "Metric val_loss improved by 0.311 >= min_delta = 0.0001. New best score: 7.642\n"
     ]
    },
    {
     "name": "stdout",
     "output_type": "stream",
     "text": [
      "Epoch 14: 100%|██████████| 16/16 [00:00<00:00, 29.06it/s, train_loss_step=9.470, val_loss=9.080, val_price_loss=5.95e+9, val_category_loss=3.130, val_accuracy=0.330, val_rmse=7.55e+4, train_loss_epoch=7.780]"
     ]
    },
    {
     "name": "stderr",
     "output_type": "stream",
     "text": [
      "Monitored metric val_loss did not improve in the last 5 records. Best score: 7.642. Signaling Trainer to stop.\n"
     ]
    },
    {
     "name": "stdout",
     "output_type": "stream",
     "text": [
      "Epoch 14: 100%|██████████| 16/16 [00:00<00:00, 27.10it/s, train_loss_step=9.470, val_loss=9.080, val_price_loss=5.95e+9, val_category_loss=3.130, val_accuracy=0.330, val_rmse=7.55e+4, train_loss_epoch=7.780]"
     ]
    },
    {
     "name": "stderr",
     "output_type": "stream",
     "text": [
      "[I 2024-04-28 23:50:34,398] Trial 14 finished with value: 9.081500053405762 and parameters: {'num_layers': 3, 'hidden_dim': 128, 'embedding_dim': 13, 'lr': 0.012326286915161595, 'optimizer_type': 'Adam', 'relu_type': 'ReLU', 'droupoutrate': 0.26202599071075755}. Best is trial 4 with value: 8.273262977600098.\n"
     ]
    },
    {
     "name": "stdout",
     "output_type": "stream",
     "text": [
      "\n",
      "Number of embedding layers: 36\n"
     ]
    },
    {
     "name": "stderr",
     "output_type": "stream",
     "text": [
      "GPU available: True (cuda), used: True\n",
      "TPU available: False, using: 0 TPU cores\n",
      "IPU available: False, using: 0 IPUs\n",
      "HPU available: False, using: 0 HPUs\n",
      "LOCAL_RANK: 0 - CUDA_VISIBLE_DEVICES: [0]\n",
      "\n",
      "  | Name            | Type       | Params\n",
      "-----------------------------------------------\n",
      "0 | embeddings      | ModuleList | 3.0 K \n",
      "1 | fc              | Sequential | 163 K \n",
      "2 | output_category | Sequential | 35.2 K\n",
      "3 | output_price    | Sequential | 33.0 K\n",
      "-----------------------------------------------\n",
      "234 K     Trainable params\n",
      "0         Non-trainable params\n",
      "234 K     Total params\n",
      "0.938     Total estimated model params size (MB)\n"
     ]
    },
    {
     "name": "stdout",
     "output_type": "stream",
     "text": [
      "Epoch 0: 100%|██████████| 16/16 [00:00<00:00, 33.35it/s, train_loss_step=36.80, val_loss=39.00, val_price_loss=3.73e+10, val_category_loss=1.670, val_accuracy=0.509, val_rmse=1.93e+5, train_loss_epoch=42.40]"
     ]
    },
    {
     "name": "stderr",
     "output_type": "stream",
     "text": [
      "Metric val_loss improved. New best score: 39.015\n"
     ]
    },
    {
     "name": "stdout",
     "output_type": "stream",
     "text": [
      "Epoch 1: 100%|██████████| 16/16 [00:00<00:00, 36.63it/s, train_loss_step=45.00, val_loss=39.00, val_price_loss=3.73e+10, val_category_loss=1.670, val_accuracy=0.509, val_rmse=1.93e+5, train_loss_epoch=42.40]"
     ]
    },
    {
     "name": "stderr",
     "output_type": "stream",
     "text": [
      "[I 2024-04-28 23:50:35,540] Trial 15 pruned. Trial was pruned at epoch 1.\n"
     ]
    },
    {
     "name": "stdout",
     "output_type": "stream",
     "text": [
      "Number of embedding layers: 36\n"
     ]
    },
    {
     "name": "stderr",
     "output_type": "stream",
     "text": [
      "GPU available: True (cuda), used: True\n",
      "TPU available: False, using: 0 TPU cores\n",
      "IPU available: False, using: 0 IPUs\n",
      "HPU available: False, using: 0 HPUs\n",
      "LOCAL_RANK: 0 - CUDA_VISIBLE_DEVICES: [0]\n",
      "\n",
      "  | Name            | Type       | Params\n",
      "-----------------------------------------------\n",
      "0 | embeddings      | ModuleList | 3.7 K \n",
      "1 | fc              | Sequential | 242 K \n",
      "2 | output_category | Sequential | 35.2 K\n",
      "3 | output_price    | Sequential | 33.0 K\n",
      "-----------------------------------------------\n",
      "314 K     Trainable params\n",
      "0         Non-trainable params\n",
      "314 K     Total params\n",
      "1.259     Total estimated model params size (MB)\n"
     ]
    },
    {
     "name": "stdout",
     "output_type": "stream",
     "text": [
      "Epoch 1: 100%|██████████| 16/16 [00:00<00:00, 24.61it/s, train_loss_step=45.00, val_loss=39.00, val_price_loss=3.73e+10, val_category_loss=1.670, val_accuracy=0.509, val_rmse=1.93e+5, train_loss_epoch=42.40]\n",
      "Epoch 0: 100%|██████████| 16/16 [00:00<00:00, 29.66it/s, train_loss_step=10.30, val_loss=21.50, val_price_loss=1.49e+10, val_category_loss=6.650, val_accuracy=0.335, val_rmse=1.21e+5, train_loss_epoch=27.60]"
     ]
    },
    {
     "name": "stderr",
     "output_type": "stream",
     "text": [
      "Metric val_loss improved. New best score: 21.526\n"
     ]
    },
    {
     "name": "stdout",
     "output_type": "stream",
     "text": [
      "Epoch 1: 100%|██████████| 16/16 [00:00<00:00, 33.35it/s, train_loss_step=11.70, val_loss=17.70, val_price_loss=6.67e+9, val_category_loss=11.00, val_accuracy=0.229, val_rmse=7.86e+4, train_loss_epoch=13.60] "
     ]
    },
    {
     "name": "stderr",
     "output_type": "stream",
     "text": [
      "Metric val_loss improved by 3.870 >= min_delta = 0.0001. New best score: 17.656\n"
     ]
    },
    {
     "name": "stdout",
     "output_type": "stream",
     "text": [
      "Epoch 2: 100%|██████████| 16/16 [00:00<00:00, 31.24it/s, train_loss_step=7.180, val_loss=13.50, val_price_loss=6.83e+9, val_category_loss=6.710, val_accuracy=0.367, val_rmse=7.84e+4, train_loss_epoch=10.10]"
     ]
    },
    {
     "name": "stderr",
     "output_type": "stream",
     "text": [
      "Metric val_loss improved by 4.113 >= min_delta = 0.0001. New best score: 13.543\n"
     ]
    },
    {
     "name": "stdout",
     "output_type": "stream",
     "text": [
      "Epoch 3: 100%|██████████| 16/16 [00:00<00:00, 31.41it/s, train_loss_step=5.520, val_loss=10.70, val_price_loss=6.16e+9, val_category_loss=4.570, val_accuracy=0.234, val_rmse=7.32e+4, train_loss_epoch=8.690]"
     ]
    },
    {
     "name": "stderr",
     "output_type": "stream",
     "text": [
      "Metric val_loss improved by 2.817 >= min_delta = 0.0001. New best score: 10.726\n"
     ]
    },
    {
     "name": "stdout",
     "output_type": "stream",
     "text": [
      "Epoch 4: 100%|██████████| 16/16 [00:00<00:00, 30.12it/s, train_loss_step=11.00, val_loss=9.070, val_price_loss=6.14e+9, val_category_loss=2.920, val_accuracy=0.454, val_rmse=7.47e+4, train_loss_epoch=8.230]"
     ]
    },
    {
     "name": "stderr",
     "output_type": "stream",
     "text": [
      "Metric val_loss improved by 1.657 >= min_delta = 0.0001. New best score: 9.069\n"
     ]
    },
    {
     "name": "stdout",
     "output_type": "stream",
     "text": [
      "Epoch 7: 100%|██████████| 16/16 [00:00<00:00, 35.19it/s, train_loss_step=7.830, val_loss=9.350, val_price_loss=5.9e+9, val_category_loss=3.440, val_accuracy=0.427, val_rmse=7.71e+4, train_loss_epoch=8.200] "
     ]
    },
    {
     "name": "stderr",
     "output_type": "stream",
     "text": [
      "[I 2024-04-28 23:50:40,126] Trial 16 pruned. Trial was pruned at epoch 7.\n",
      "GPU available: True (cuda), used: True\n",
      "TPU available: False, using: 0 TPU cores\n",
      "IPU available: False, using: 0 IPUs\n",
      "HPU available: False, using: 0 HPUs\n"
     ]
    },
    {
     "name": "stdout",
     "output_type": "stream",
     "text": [
      "Number of embedding layers: 36\n"
     ]
    },
    {
     "name": "stderr",
     "output_type": "stream",
     "text": [
      "LOCAL_RANK: 0 - CUDA_VISIBLE_DEVICES: [0]\n",
      "\n",
      "  | Name            | Type       | Params\n",
      "-----------------------------------------------\n",
      "0 | embeddings      | ModuleList | 3.5 K \n",
      "1 | fc              | Sequential | 278 K \n",
      "2 | output_category | Sequential | 135 K \n",
      "3 | output_price    | Sequential | 131 K \n",
      "-----------------------------------------------\n",
      "549 K     Trainable params\n",
      "0         Non-trainable params\n",
      "549 K     Total params\n",
      "2.199     Total estimated model params size (MB)\n"
     ]
    },
    {
     "name": "stdout",
     "output_type": "stream",
     "text": [
      "Epoch 0: 100%|██████████| 16/16 [00:00<00:00, 35.66it/s, train_loss_step=40.30]"
     ]
    },
    {
     "name": "stderr",
     "output_type": "stream",
     "text": [
      "[I 2024-04-28 23:50:40,769] Trial 17 pruned. Trial was pruned at epoch 0.\n"
     ]
    },
    {
     "name": "stdout",
     "output_type": "stream",
     "text": [
      "Number of embedding layers: 36\n"
     ]
    },
    {
     "name": "stderr",
     "output_type": "stream",
     "text": [
      "GPU available: True (cuda), used: True\n",
      "TPU available: False, using: 0 TPU cores\n",
      "IPU available: False, using: 0 IPUs\n",
      "HPU available: False, using: 0 HPUs\n",
      "LOCAL_RANK: 0 - CUDA_VISIBLE_DEVICES: [0]\n",
      "\n",
      "  | Name            | Type       | Params\n",
      "-----------------------------------------------\n",
      "0 | embeddings      | ModuleList | 2.8 K \n",
      "1 | fc              | Sequential | 158 K \n",
      "2 | output_category | Sequential | 35.2 K\n",
      "3 | output_price    | Sequential | 33.0 K\n",
      "-----------------------------------------------\n",
      "229 K     Trainable params\n",
      "0         Non-trainable params\n",
      "229 K     Total params\n",
      "0.918     Total estimated model params size (MB)\n"
     ]
    },
    {
     "name": "stdout",
     "output_type": "stream",
     "text": [
      "Epoch 0: 100%|██████████| 16/16 [00:00<00:00, 35.65it/s, train_loss_step=15.60]"
     ]
    },
    {
     "name": "stderr",
     "output_type": "stream",
     "text": [
      "[I 2024-04-28 23:50:41,395] Trial 18 pruned. Trial was pruned at epoch 0.\n"
     ]
    },
    {
     "name": "stdout",
     "output_type": "stream",
     "text": [
      "Number of embedding layers: 36\n"
     ]
    },
    {
     "name": "stderr",
     "output_type": "stream",
     "text": [
      "GPU available: True (cuda), used: True\n",
      "TPU available: False, using: 0 TPU cores\n",
      "IPU available: False, using: 0 IPUs\n",
      "HPU available: False, using: 0 HPUs\n",
      "LOCAL_RANK: 0 - CUDA_VISIBLE_DEVICES: [0]\n",
      "\n",
      "  | Name            | Type       | Params\n",
      "-----------------------------------------------\n",
      "0 | embeddings      | ModuleList | 4.2 K \n",
      "1 | fc              | Sequential | 252 K \n",
      "2 | output_category | Sequential | 35.2 K\n",
      "3 | output_price    | Sequential | 33.0 K\n",
      "-----------------------------------------------\n",
      "324 K     Trainable params\n",
      "0         Non-trainable params\n",
      "324 K     Total params\n",
      "1.298     Total estimated model params size (MB)\n"
     ]
    },
    {
     "name": "stdout",
     "output_type": "stream",
     "text": [
      "Epoch 0: 100%|██████████| 16/16 [00:00<00:00, 33.21it/s, train_loss_step=28.00]"
     ]
    },
    {
     "name": "stderr",
     "output_type": "stream",
     "text": [
      "[I 2024-04-28 23:50:42,078] Trial 19 pruned. Trial was pruned at epoch 0.\n"
     ]
    },
    {
     "name": "stdout",
     "output_type": "stream",
     "text": [
      "Number of embedding layers: 36\n",
      "Epoch 0: 100%|██████████| 16/16 [00:01<00:00, 12.91it/s, train_loss_step=15.60]\n",
      "Epoch 0: 100%|██████████| 16/16 [00:00<00:00, 26.30it/s, train_loss_step=28.00]\n"
     ]
    },
    {
     "name": "stderr",
     "output_type": "stream",
     "text": [
      "GPU available: True (cuda), used: True\n",
      "TPU available: False, using: 0 TPU cores\n",
      "IPU available: False, using: 0 IPUs\n",
      "HPU available: False, using: 0 HPUs\n",
      "LOCAL_RANK: 0 - CUDA_VISIBLE_DEVICES: [0]\n",
      "\n",
      "  | Name            | Type       | Params\n",
      "-----------------------------------------------\n",
      "0 | embeddings      | ModuleList | 4.6 K \n",
      "1 | fc              | Sequential | 73.2 K\n",
      "2 | output_category | Sequential | 9.4 K \n",
      "3 | output_price    | Sequential | 8.3 K \n",
      "-----------------------------------------------\n",
      "95.5 K    Trainable params\n",
      "0         Non-trainable params\n",
      "95.5 K    Total params\n",
      "0.382     Total estimated model params size (MB)\n"
     ]
    },
    {
     "name": "stdout",
     "output_type": "stream",
     "text": [
      "Epoch 0: 100%|██████████| 16/16 [00:00<00:00, 31.15it/s, train_loss_step=9.980, val_loss=30.30, val_price_loss=1.16e+10, val_category_loss=18.60, val_accuracy=0.358, val_rmse=1.1e+5, train_loss_epoch=28.60]"
     ]
    },
    {
     "name": "stderr",
     "output_type": "stream",
     "text": [
      "Metric val_loss improved. New best score: 30.268\n"
     ]
    },
    {
     "name": "stdout",
     "output_type": "stream",
     "text": [
      "Epoch 1: 100%|██████████| 16/16 [00:00<00:00, 36.05it/s, train_loss_step=7.390, val_loss=30.30, val_price_loss=1.16e+10, val_category_loss=18.60, val_accuracy=0.358, val_rmse=1.1e+5, train_loss_epoch=28.60]"
     ]
    },
    {
     "name": "stderr",
     "output_type": "stream",
     "text": [
      "[I 2024-04-28 23:50:43,276] Trial 20 pruned. Trial was pruned at epoch 1.\n"
     ]
    },
    {
     "name": "stdout",
     "output_type": "stream",
     "text": [
      "Number of embedding layers: 36\n"
     ]
    },
    {
     "name": "stderr",
     "output_type": "stream",
     "text": [
      "GPU available: True (cuda), used: True\n",
      "TPU available: False, using: 0 TPU cores\n",
      "IPU available: False, using: 0 IPUs\n",
      "HPU available: False, using: 0 HPUs\n",
      "LOCAL_RANK: 0 - CUDA_VISIBLE_DEVICES: [0]\n",
      "\n",
      "  | Name            | Type       | Params\n",
      "-----------------------------------------------\n",
      "0 | embeddings      | ModuleList | 1.6 K \n",
      "1 | fc              | Sequential | 3.8 M \n",
      "2 | output_category | Sequential | 534 K \n",
      "3 | output_price    | Sequential | 525 K \n",
      "-----------------------------------------------\n",
      "4.9 M     Trainable params\n",
      "0         Non-trainable params\n",
      "4.9 M     Total params\n",
      "19.528    Total estimated model params size (MB)\n"
     ]
    },
    {
     "name": "stdout",
     "output_type": "stream",
     "text": [
      "Epoch 0: 100%|██████████| 16/16 [00:00<00:00, 29.54it/s, train_loss_step=24.40]"
     ]
    },
    {
     "name": "stderr",
     "output_type": "stream",
     "text": [
      "[I 2024-04-28 23:50:44,063] Trial 21 pruned. Trial was pruned at epoch 0.\n"
     ]
    },
    {
     "name": "stdout",
     "output_type": "stream",
     "text": [
      "Number of embedding layers: 36\n"
     ]
    },
    {
     "name": "stderr",
     "output_type": "stream",
     "text": [
      "GPU available: True (cuda), used: True\n",
      "TPU available: False, using: 0 TPU cores\n",
      "IPU available: False, using: 0 IPUs\n",
      "HPU available: False, using: 0 HPUs\n"
     ]
    },
    {
     "name": "stdout",
     "output_type": "stream",
     "text": [
      "Epoch 0: 100%|██████████| 16/16 [00:00<00:00, 22.76it/s, train_loss_step=24.40]\n"
     ]
    },
    {
     "name": "stderr",
     "output_type": "stream",
     "text": [
      "LOCAL_RANK: 0 - CUDA_VISIBLE_DEVICES: [0]\n",
      "\n",
      "  | Name            | Type       | Params\n",
      "-----------------------------------------------\n",
      "0 | embeddings      | ModuleList | 1.8 K \n",
      "1 | fc              | Sequential | 2.8 M \n",
      "2 | output_category | Sequential | 534 K \n",
      "3 | output_price    | Sequential | 525 K \n",
      "-----------------------------------------------\n",
      "3.9 M     Trainable params\n",
      "0         Non-trainable params\n",
      "3.9 M     Total params\n",
      "15.404    Total estimated model params size (MB)\n"
     ]
    },
    {
     "name": "stdout",
     "output_type": "stream",
     "text": [
      "Epoch 0: 100%|██████████| 16/16 [00:00<00:00, 34.88it/s, train_loss_step=21.50, val_loss=19.00, val_price_loss=1.26e+10, val_category_loss=6.500, val_accuracy=0.206, val_rmse=1.22e+5, train_loss_epoch=117.0]"
     ]
    },
    {
     "name": "stderr",
     "output_type": "stream",
     "text": [
      "Metric val_loss improved. New best score: 19.047\n"
     ]
    },
    {
     "name": "stdout",
     "output_type": "stream",
     "text": [
      "Epoch 1: 100%|██████████| 16/16 [00:00<00:00, 29.24it/s, train_loss_step=8.210, val_loss=16.10, val_price_loss=6.78e+9, val_category_loss=9.290, val_accuracy=0.216, val_rmse=7.27e+4, train_loss_epoch=12.20] "
     ]
    },
    {
     "name": "stderr",
     "output_type": "stream",
     "text": [
      "Metric val_loss improved by 2.983 >= min_delta = 0.0001. New best score: 16.064\n"
     ]
    },
    {
     "name": "stdout",
     "output_type": "stream",
     "text": [
      "Epoch 2: 100%|██████████| 16/16 [00:00<00:00, 35.57it/s, train_loss_step=6.930, val_loss=8.770, val_price_loss=6.5e+9, val_category_loss=2.270, val_accuracy=0.330, val_rmse=6.78e+4, train_loss_epoch=10.10] "
     ]
    },
    {
     "name": "stderr",
     "output_type": "stream",
     "text": [
      "Metric val_loss improved by 7.293 >= min_delta = 0.0001. New best score: 8.770\n"
     ]
    },
    {
     "name": "stdout",
     "output_type": "stream",
     "text": [
      "Epoch 3: 100%|██████████| 16/16 [00:00<00:00, 28.29it/s, train_loss_step=8.880, val_loss=7.930, val_price_loss=6.03e+9, val_category_loss=1.900, val_accuracy=0.358, val_rmse=7.37e+4, train_loss_epoch=9.320]"
     ]
    },
    {
     "name": "stderr",
     "output_type": "stream",
     "text": [
      "Metric val_loss improved by 0.842 >= min_delta = 0.0001. New best score: 7.928\n"
     ]
    },
    {
     "name": "stdout",
     "output_type": "stream",
     "text": [
      "Epoch 8: 100%|██████████| 16/16 [00:00<00:00, 35.68it/s, train_loss_step=8.330, val_loss=9.080, val_price_loss=6.1e+9, val_category_loss=2.980, val_accuracy=0.271, val_rmse=7.56e+4, train_loss_epoch=8.550] "
     ]
    },
    {
     "name": "stderr",
     "output_type": "stream",
     "text": [
      "Monitored metric val_loss did not improve in the last 5 records. Best score: 7.928. Signaling Trainer to stop.\n"
     ]
    },
    {
     "name": "stdout",
     "output_type": "stream",
     "text": [
      "Epoch 8: 100%|██████████| 16/16 [00:01<00:00, 14.62it/s, train_loss_step=8.330, val_loss=9.080, val_price_loss=6.1e+9, val_category_loss=2.980, val_accuracy=0.271, val_rmse=7.56e+4, train_loss_epoch=8.550]"
     ]
    },
    {
     "name": "stderr",
     "output_type": "stream",
     "text": [
      "[I 2024-04-28 23:50:55,060] Trial 22 finished with value: 9.07955265045166 and parameters: {'num_layers': 3, 'hidden_dim': 512, 'embedding_dim': 8, 'lr': 0.017076197234479437, 'optimizer_type': 'Adam', 'relu_type': 'ReLU', 'droupoutrate': 0.3579489575660475}. Best is trial 4 with value: 8.273262977600098.\n",
      "GPU available: True (cuda), used: True\n",
      "TPU available: False, using: 0 TPU cores\n",
      "IPU available: False, using: 0 IPUs\n",
      "HPU available: False, using: 0 HPUs\n",
      "LOCAL_RANK: 0 - CUDA_VISIBLE_DEVICES: [0]\n",
      "\n",
      "  | Name            | Type       | Params\n",
      "-----------------------------------------------\n",
      "0 | embeddings      | ModuleList | 2.8 K \n",
      "1 | fc              | Sequential | 2.9 M \n",
      "2 | output_category | Sequential | 534 K \n",
      "3 | output_price    | Sequential | 525 K \n",
      "-----------------------------------------------\n",
      "3.9 M     Trainable params\n",
      "0         Non-trainable params\n",
      "3.9 M     Total params\n",
      "15.703    Total estimated model params size (MB)\n"
     ]
    },
    {
     "name": "stdout",
     "output_type": "stream",
     "text": [
      "\n",
      "Number of embedding layers: 36\n",
      "Epoch 0: 100%|██████████| 16/16 [00:00<00:00, 28.82it/s, train_loss_step=20.00, val_loss=24.10, val_price_loss=1.24e+10, val_category_loss=11.80, val_accuracy=0.229, val_rmse=8.05e+4, train_loss_epoch=2.64e+4]"
     ]
    },
    {
     "name": "stderr",
     "output_type": "stream",
     "text": [
      "Metric val_loss improved. New best score: 24.145\n"
     ]
    },
    {
     "name": "stdout",
     "output_type": "stream",
     "text": [
      "Epoch 1: 100%|██████████| 16/16 [00:00<00:00, 37.41it/s, train_loss_step=14.40, val_loss=16.10, val_price_loss=8.62e+9, val_category_loss=7.450, val_accuracy=0.266, val_rmse=7.84e+4, train_loss_epoch=16.60]   "
     ]
    },
    {
     "name": "stderr",
     "output_type": "stream",
     "text": [
      "Metric val_loss improved by 8.080 >= min_delta = 0.0001. New best score: 16.064\n"
     ]
    },
    {
     "name": "stdout",
     "output_type": "stream",
     "text": [
      "Epoch 2: 100%|██████████| 16/16 [00:00<00:00, 30.49it/s, train_loss_step=16.20, val_loss=10.60, val_price_loss=7.1e+9, val_category_loss=3.520, val_accuracy=0.225, val_rmse=7.93e+4, train_loss_epoch=12.50] "
     ]
    },
    {
     "name": "stderr",
     "output_type": "stream",
     "text": [
      "Metric val_loss improved by 5.453 >= min_delta = 0.0001. New best score: 10.612\n"
     ]
    },
    {
     "name": "stdout",
     "output_type": "stream",
     "text": [
      "Epoch 3: 100%|██████████| 16/16 [00:00<00:00, 35.34it/s, train_loss_step=13.10, val_loss=9.170, val_price_loss=6.26e+9, val_category_loss=2.910, val_accuracy=0.330, val_rmse=6.99e+4, train_loss_epoch=10.40]"
     ]
    },
    {
     "name": "stderr",
     "output_type": "stream",
     "text": [
      "Metric val_loss improved by 1.441 >= min_delta = 0.0001. New best score: 9.170\n"
     ]
    },
    {
     "name": "stdout",
     "output_type": "stream",
     "text": [
      "Epoch 4: 100%|██████████| 16/16 [00:00<00:00, 29.43it/s, train_loss_step=6.190, val_loss=8.450, val_price_loss=6.4e+9, val_category_loss=2.050, val_accuracy=0.367, val_rmse=7.35e+4, train_loss_epoch=9.760] "
     ]
    },
    {
     "name": "stderr",
     "output_type": "stream",
     "text": [
      "Metric val_loss improved by 0.724 >= min_delta = 0.0001. New best score: 8.446\n"
     ]
    },
    {
     "name": "stdout",
     "output_type": "stream",
     "text": [
      "Epoch 6: 100%|██████████| 16/16 [00:00<00:00, 28.40it/s, train_loss_step=7.220, val_loss=8.150, val_price_loss=6.26e+9, val_category_loss=1.890, val_accuracy=0.431, val_rmse=6.71e+4, train_loss_epoch=9.230]"
     ]
    },
    {
     "name": "stderr",
     "output_type": "stream",
     "text": [
      "Metric val_loss improved by 0.293 >= min_delta = 0.0001. New best score: 8.153\n"
     ]
    },
    {
     "name": "stdout",
     "output_type": "stream",
     "text": [
      "Epoch 7: 100%|██████████| 16/16 [00:00<00:00, 29.12it/s, train_loss_step=7.760, val_loss=8.010, val_price_loss=6.01e+9, val_category_loss=2.000, val_accuracy=0.445, val_rmse=7.07e+4, train_loss_epoch=8.700]"
     ]
    },
    {
     "name": "stderr",
     "output_type": "stream",
     "text": [
      "Metric val_loss improved by 0.147 >= min_delta = 0.0001. New best score: 8.006\n"
     ]
    },
    {
     "name": "stdout",
     "output_type": "stream",
     "text": [
      "Epoch 8: 100%|██████████| 16/16 [00:00<00:00, 42.78it/s, train_loss_step=8.270, val_loss=7.520, val_price_loss=6e+9, val_category_loss=1.520, val_accuracy=0.495, val_rmse=7.09e+4, train_loss_epoch=8.850]   "
     ]
    },
    {
     "name": "stderr",
     "output_type": "stream",
     "text": [
      "Metric val_loss improved by 0.484 >= min_delta = 0.0001. New best score: 7.522\n"
     ]
    },
    {
     "name": "stdout",
     "output_type": "stream",
     "text": [
      "Epoch 13: 100%|██████████| 16/16 [00:00<00:00, 30.16it/s, train_loss_step=6.120, val_loss=7.610, val_price_loss=6.26e+9, val_category_loss=1.350, val_accuracy=0.606, val_rmse=7.26e+4, train_loss_epoch=8.340]"
     ]
    },
    {
     "name": "stderr",
     "output_type": "stream",
     "text": [
      "Monitored metric val_loss did not improve in the last 5 records. Best score: 7.522. Signaling Trainer to stop.\n"
     ]
    },
    {
     "name": "stdout",
     "output_type": "stream",
     "text": [
      "Epoch 13: 100%|██████████| 16/16 [00:01<00:00, 11.97it/s, train_loss_step=6.120, val_loss=7.610, val_price_loss=6.26e+9, val_category_loss=1.350, val_accuracy=0.606, val_rmse=7.26e+4, train_loss_epoch=8.340]"
     ]
    },
    {
     "name": "stderr",
     "output_type": "stream",
     "text": [
      "[I 2024-04-28 23:51:13,470] Trial 23 finished with value: 7.610217094421387 and parameters: {'num_layers': 3, 'hidden_dim': 512, 'embedding_dim': 12, 'lr': 0.03644383803083884, 'optimizer_type': 'Adam', 'relu_type': 'ReLU', 'droupoutrate': 0.3560448706256628}. Best is trial 23 with value: 7.610217094421387.\n",
      "GPU available: True (cuda), used: True\n",
      "TPU available: False, using: 0 TPU cores\n",
      "IPU available: False, using: 0 IPUs\n",
      "HPU available: False, using: 0 HPUs\n",
      "LOCAL_RANK: 0 - CUDA_VISIBLE_DEVICES: [0]\n",
      "\n",
      "  | Name            | Type       | Params\n",
      "-----------------------------------------------\n",
      "0 | embeddings      | ModuleList | 2.5 K \n",
      "1 | fc              | Sequential | 2.8 M \n",
      "2 | output_category | Sequential | 534 K \n",
      "3 | output_price    | Sequential | 525 K \n",
      "-----------------------------------------------\n",
      "3.9 M     Trainable params\n",
      "0         Non-trainable params\n",
      "3.9 M     Total params\n",
      "15.628    Total estimated model params size (MB)\n"
     ]
    },
    {
     "name": "stdout",
     "output_type": "stream",
     "text": [
      "\n",
      "Number of embedding layers: 36\n",
      "Epoch 0: 100%|██████████| 16/16 [00:00<00:00, 31.52it/s, train_loss_step=12.90, val_loss=31.10, val_price_loss=1.09e+10, val_category_loss=20.20, val_accuracy=0.229, val_rmse=9.67e+4, train_loss_epoch=54.20]"
     ]
    },
    {
     "name": "stderr",
     "output_type": "stream",
     "text": [
      "Metric val_loss improved. New best score: 31.109\n"
     ]
    },
    {
     "name": "stdout",
     "output_type": "stream",
     "text": [
      "Epoch 1: 100%|██████████| 16/16 [00:00<00:00, 28.20it/s, train_loss_step=9.370, val_loss=20.20, val_price_loss=6.12e+9, val_category_loss=14.10, val_accuracy=0.234, val_rmse=6.64e+4, train_loss_epoch=11.80] "
     ]
    },
    {
     "name": "stderr",
     "output_type": "stream",
     "text": [
      "Metric val_loss improved by 10.936 >= min_delta = 0.0001. New best score: 20.174\n"
     ]
    },
    {
     "name": "stdout",
     "output_type": "stream",
     "text": [
      "Epoch 2: 100%|██████████| 16/16 [00:00<00:00, 36.63it/s, train_loss_step=7.130, val_loss=11.20, val_price_loss=5.89e+9, val_category_loss=5.360, val_accuracy=0.248, val_rmse=7.21e+4, train_loss_epoch=9.390]"
     ]
    },
    {
     "name": "stderr",
     "output_type": "stream",
     "text": [
      "Metric val_loss improved by 8.926 >= min_delta = 0.0001. New best score: 11.248\n"
     ]
    },
    {
     "name": "stdout",
     "output_type": "stream",
     "text": [
      "Epoch 3: 100%|██████████| 16/16 [00:00<00:00, 29.17it/s, train_loss_step=8.820, val_loss=10.90, val_price_loss=7.14e+9, val_category_loss=3.770, val_accuracy=0.344, val_rmse=8.11e+4, train_loss_epoch=9.000]"
     ]
    },
    {
     "name": "stderr",
     "output_type": "stream",
     "text": [
      "Metric val_loss improved by 0.336 >= min_delta = 0.0001. New best score: 10.912\n"
     ]
    },
    {
     "name": "stdout",
     "output_type": "stream",
     "text": [
      "Epoch 4: 100%|██████████| 16/16 [00:00<00:00, 33.01it/s, train_loss_step=12.30, val_loss=9.700, val_price_loss=6.17e+9, val_category_loss=3.530, val_accuracy=0.239, val_rmse=7.6e+4, train_loss_epoch=8.610] "
     ]
    },
    {
     "name": "stderr",
     "output_type": "stream",
     "text": [
      "Metric val_loss improved by 1.214 >= min_delta = 0.0001. New best score: 9.698\n"
     ]
    },
    {
     "name": "stdout",
     "output_type": "stream",
     "text": [
      "Epoch 5: 100%|██████████| 16/16 [00:00<00:00, 26.46it/s, train_loss_step=11.80, val_loss=9.650, val_price_loss=6e+9, val_category_loss=3.650, val_accuracy=0.151, val_rmse=7.61e+4, train_loss_epoch=8.480]  "
     ]
    },
    {
     "name": "stderr",
     "output_type": "stream",
     "text": [
      "Metric val_loss improved by 0.044 >= min_delta = 0.0001. New best score: 9.653\n"
     ]
    },
    {
     "name": "stdout",
     "output_type": "stream",
     "text": [
      "Epoch 7: 100%|██████████| 16/16 [00:00<00:00, 33.49it/s, train_loss_step=9.920, val_loss=14.90, val_price_loss=8.19e+9, val_category_loss=6.710, val_accuracy=0.229, val_rmse=8.84e+4, train_loss_epoch=8.860]"
     ]
    },
    {
     "name": "stderr",
     "output_type": "stream",
     "text": [
      "[I 2024-04-28 23:51:22,894] Trial 24 pruned. Trial was pruned at epoch 7.\n"
     ]
    },
    {
     "name": "stdout",
     "output_type": "stream",
     "text": [
      "Number of embedding layers: 36\n"
     ]
    },
    {
     "name": "stderr",
     "output_type": "stream",
     "text": [
      "GPU available: True (cuda), used: True\n",
      "TPU available: False, using: 0 TPU cores\n",
      "IPU available: False, using: 0 IPUs\n",
      "HPU available: False, using: 0 HPUs\n",
      "LOCAL_RANK: 0 - CUDA_VISIBLE_DEVICES: [0]\n",
      "\n",
      "  | Name            | Type       | Params\n",
      "-----------------------------------------------\n",
      "0 | embeddings      | ModuleList | 1.6 K \n",
      "1 | fc              | Sequential | 1.7 M \n",
      "2 | output_category | Sequential | 534 K \n",
      "3 | output_price    | Sequential | 525 K \n",
      "-----------------------------------------------\n",
      "2.8 M     Trainable params\n",
      "0         Non-trainable params\n",
      "2.8 M     Total params\n",
      "11.131    Total estimated model params size (MB)\n"
     ]
    },
    {
     "name": "stdout",
     "output_type": "stream",
     "text": [
      "Epoch 0: 100%|██████████| 16/16 [00:00<00:00, 35.73it/s, train_loss_step=12.70, val_loss=21.60, val_price_loss=9.46e+9, val_category_loss=12.10, val_accuracy=0.211, val_rmse=8.95e+4, train_loss_epoch=40.50]"
     ]
    },
    {
     "name": "stderr",
     "output_type": "stream",
     "text": [
      "Metric val_loss improved. New best score: 21.560\n"
     ]
    },
    {
     "name": "stdout",
     "output_type": "stream",
     "text": [
      "Epoch 1: 100%|██████████| 16/16 [00:00<00:00, 30.79it/s, train_loss_step=8.560, val_loss=13.50, val_price_loss=8.02e+9, val_category_loss=5.510, val_accuracy=0.413, val_rmse=8.35e+4, train_loss_epoch=11.50]"
     ]
    },
    {
     "name": "stderr",
     "output_type": "stream",
     "text": [
      "Metric val_loss improved by 8.029 >= min_delta = 0.0001. New best score: 13.531\n"
     ]
    },
    {
     "name": "stdout",
     "output_type": "stream",
     "text": [
      "Epoch 2: 100%|██████████| 16/16 [00:00<00:00, 36.22it/s, train_loss_step=7.280, val_loss=9.280, val_price_loss=6.56e+9, val_category_loss=2.720, val_accuracy=0.463, val_rmse=7.93e+4, train_loss_epoch=9.570]"
     ]
    },
    {
     "name": "stderr",
     "output_type": "stream",
     "text": [
      "Metric val_loss improved by 4.249 >= min_delta = 0.0001. New best score: 9.282\n"
     ]
    },
    {
     "name": "stdout",
     "output_type": "stream",
     "text": [
      "Epoch 3: 100%|██████████| 16/16 [00:00<00:00, 31.39it/s, train_loss_step=4.640, val_loss=8.830, val_price_loss=6.56e+9, val_category_loss=2.270, val_accuracy=0.459, val_rmse=7.58e+4, train_loss_epoch=9.030]"
     ]
    },
    {
     "name": "stderr",
     "output_type": "stream",
     "text": [
      "Metric val_loss improved by 0.455 >= min_delta = 0.0001. New best score: 8.827\n"
     ]
    },
    {
     "name": "stdout",
     "output_type": "stream",
     "text": [
      "Epoch 4: 100%|██████████| 16/16 [00:00<00:00, 34.65it/s, train_loss_step=10.50, val_loss=8.330, val_price_loss=5.94e+9, val_category_loss=2.390, val_accuracy=0.385, val_rmse=7.66e+4, train_loss_epoch=8.840]"
     ]
    },
    {
     "name": "stderr",
     "output_type": "stream",
     "text": [
      "Metric val_loss improved by 0.494 >= min_delta = 0.0001. New best score: 8.332\n"
     ]
    },
    {
     "name": "stdout",
     "output_type": "stream",
     "text": [
      "Epoch 6: 100%|██████████| 16/16 [00:00<00:00, 27.52it/s, train_loss_step=9.610, val_loss=8.080, val_price_loss=6.22e+9, val_category_loss=1.860, val_accuracy=0.546, val_rmse=8.02e+4, train_loss_epoch=8.300]"
     ]
    },
    {
     "name": "stderr",
     "output_type": "stream",
     "text": [
      "Metric val_loss improved by 0.253 >= min_delta = 0.0001. New best score: 8.079\n"
     ]
    },
    {
     "name": "stdout",
     "output_type": "stream",
     "text": [
      "Epoch 7: 100%|██████████| 16/16 [00:00<00:00, 38.29it/s, train_loss_step=6.470, val_loss=7.340, val_price_loss=5.89e+9, val_category_loss=1.440, val_accuracy=0.587, val_rmse=7.69e+4, train_loss_epoch=7.830]"
     ]
    },
    {
     "name": "stderr",
     "output_type": "stream",
     "text": [
      "Metric val_loss improved by 0.743 >= min_delta = 0.0001. New best score: 7.336\n"
     ]
    },
    {
     "name": "stdout",
     "output_type": "stream",
     "text": [
      "Epoch 8: 100%|██████████| 16/16 [00:00<00:00, 31.96it/s, train_loss_step=10.40, val_loss=7.210, val_price_loss=5.92e+9, val_category_loss=1.290, val_accuracy=0.619, val_rmse=7.86e+4, train_loss_epoch=7.720]"
     ]
    },
    {
     "name": "stderr",
     "output_type": "stream",
     "text": [
      "Metric val_loss improved by 0.130 >= min_delta = 0.0001. New best score: 7.206\n"
     ]
    },
    {
     "name": "stdout",
     "output_type": "stream",
     "text": [
      "Epoch 13: 100%|██████████| 16/16 [00:00<00:00, 30.04it/s, train_loss_step=13.70, val_loss=9.920, val_price_loss=8.09e+9, val_category_loss=1.830, val_accuracy=0.546, val_rmse=8.72e+4, train_loss_epoch=8.880]"
     ]
    },
    {
     "name": "stderr",
     "output_type": "stream",
     "text": [
      "Monitored metric val_loss did not improve in the last 5 records. Best score: 7.206. Signaling Trainer to stop.\n"
     ]
    },
    {
     "name": "stdout",
     "output_type": "stream",
     "text": [
      "Epoch 13: 100%|██████████| 16/16 [00:00<00:00, 16.70it/s, train_loss_step=13.70, val_loss=9.920, val_price_loss=8.09e+9, val_category_loss=1.830, val_accuracy=0.546, val_rmse=8.72e+4, train_loss_epoch=8.880]"
     ]
    },
    {
     "name": "stderr",
     "output_type": "stream",
     "text": [
      "[I 2024-04-28 23:51:36,572] Trial 25 finished with value: 9.92478084564209 and parameters: {'num_layers': 2, 'hidden_dim': 512, 'embedding_dim': 7, 'lr': 0.026358270577206862, 'optimizer_type': 'Adam', 'relu_type': 'ReLU', 'droupoutrate': 0.3283292465410402}. Best is trial 23 with value: 7.610217094421387.\n",
      "GPU available: True (cuda), used: True\n",
      "TPU available: False, using: 0 TPU cores\n",
      "IPU available: False, using: 0 IPUs\n",
      "HPU available: False, using: 0 HPUs\n",
      "LOCAL_RANK: 0 - CUDA_VISIBLE_DEVICES: [0]\n",
      "\n",
      "  | Name            | Type       | Params\n",
      "-----------------------------------------------\n",
      "0 | embeddings      | ModuleList | 2.5 K \n",
      "1 | fc              | Sequential | 2.8 M \n",
      "2 | output_category | Sequential | 534 K \n",
      "3 | output_price    | Sequential | 525 K \n",
      "-----------------------------------------------\n",
      "3.9 M     Trainable params\n",
      "0         Non-trainable params\n",
      "3.9 M     Total params\n",
      "15.628    Total estimated model params size (MB)\n"
     ]
    },
    {
     "name": "stdout",
     "output_type": "stream",
     "text": [
      "\n",
      "Number of embedding layers: 36\n",
      "Epoch 0: 100%|██████████| 16/16 [00:00<00:00, 36.71it/s, train_loss_step=2.61e+3]"
     ]
    },
    {
     "name": "stderr",
     "output_type": "stream",
     "text": [
      "[I 2024-04-28 23:51:37,259] Trial 26 pruned. Trial was pruned at epoch 0.\n"
     ]
    },
    {
     "name": "stdout",
     "output_type": "stream",
     "text": [
      "Number of embedding layers: 36\n"
     ]
    },
    {
     "name": "stderr",
     "output_type": "stream",
     "text": [
      "GPU available: True (cuda), used: True\n",
      "TPU available: False, using: 0 TPU cores\n",
      "IPU available: False, using: 0 IPUs\n",
      "HPU available: False, using: 0 HPUs\n",
      "LOCAL_RANK: 0 - CUDA_VISIBLE_DEVICES: [0]\n",
      "\n",
      "  | Name            | Type       | Params\n",
      "-----------------------------------------------\n",
      "0 | embeddings      | ModuleList | 2.1 K \n",
      "1 | fc              | Sequential | 2.8 M \n",
      "2 | output_category | Sequential | 534 K \n",
      "3 | output_price    | Sequential | 525 K \n",
      "-----------------------------------------------\n",
      "3.9 M     Trainable params\n",
      "0         Non-trainable params\n",
      "3.9 M     Total params\n",
      "15.479    Total estimated model params size (MB)\n"
     ]
    },
    {
     "name": "stdout",
     "output_type": "stream",
     "text": [
      "Epoch 0: 100%|██████████| 16/16 [00:00<00:00, 32.41it/s, train_loss_step=37.90]"
     ]
    },
    {
     "name": "stderr",
     "output_type": "stream",
     "text": [
      "[I 2024-04-28 23:51:37,990] Trial 27 pruned. Trial was pruned at epoch 0.\n"
     ]
    },
    {
     "name": "stdout",
     "output_type": "stream",
     "text": [
      "Epoch 0: 100%|██████████| 16/16 [00:01<00:00, 12.40it/s, train_loss_step=2.61e+3]\n",
      "Epoch 0: 100%|██████████| 16/16 [00:00<00:00, 26.09it/s, train_loss_step=37.90]\n"
     ]
    },
    {
     "name": "stderr",
     "output_type": "stream",
     "text": [
      "GPU available: True (cuda), used: True\n"
     ]
    },
    {
     "name": "stdout",
     "output_type": "stream",
     "text": [
      "Number of embedding layers: 36\n"
     ]
    },
    {
     "name": "stderr",
     "output_type": "stream",
     "text": [
      "TPU available: False, using: 0 TPU cores\n",
      "IPU available: False, using: 0 IPUs\n",
      "HPU available: False, using: 0 HPUs\n",
      "LOCAL_RANK: 0 - CUDA_VISIBLE_DEVICES: [0]\n",
      "\n",
      "  | Name            | Type       | Params\n",
      "-----------------------------------------------\n",
      "0 | embeddings      | ModuleList | 2.8 K \n",
      "1 | fc              | Sequential | 251 K \n",
      "2 | output_category | Sequential | 135 K \n",
      "3 | output_price    | Sequential | 131 K \n",
      "-----------------------------------------------\n",
      "521 K     Trainable params\n",
      "0         Non-trainable params\n",
      "521 K     Total params\n",
      "2.086     Total estimated model params size (MB)\n"
     ]
    },
    {
     "name": "stdout",
     "output_type": "stream",
     "text": [
      "Epoch 0: 100%|██████████| 16/16 [00:00<00:00, 45.06it/s, train_loss_step=36.20]"
     ]
    },
    {
     "name": "stderr",
     "output_type": "stream",
     "text": [
      "[I 2024-04-28 23:51:38,524] Trial 28 pruned. Trial was pruned at epoch 0.\n"
     ]
    },
    {
     "name": "stdout",
     "output_type": "stream",
     "text": [
      "Number of embedding layers: 36\n"
     ]
    },
    {
     "name": "stderr",
     "output_type": "stream",
     "text": [
      "GPU available: True (cuda), used: True\n",
      "TPU available: False, using: 0 TPU cores\n",
      "IPU available: False, using: 0 IPUs\n",
      "HPU available: False, using: 0 HPUs\n",
      "LOCAL_RANK: 0 - CUDA_VISIBLE_DEVICES: [0]\n",
      "\n",
      "  | Name            | Type       | Params\n",
      "-----------------------------------------------\n",
      "0 | embeddings      | ModuleList | 1.2 K \n",
      "1 | fc              | Sequential | 635 K \n",
      "2 | output_category | Sequential | 534 K \n",
      "3 | output_price    | Sequential | 525 K \n",
      "-----------------------------------------------\n",
      "1.7 M     Trainable params\n",
      "0         Non-trainable params\n",
      "1.7 M     Total params\n",
      "6.784     Total estimated model params size (MB)\n"
     ]
    },
    {
     "name": "stdout",
     "output_type": "stream",
     "text": [
      "Epoch 0: 100%|██████████| 16/16 [00:00<00:00, 36.71it/s, train_loss_step=7.040, val_loss=23.40, val_price_loss=9.22e+9, val_category_loss=14.20, val_accuracy=0.381, val_rmse=9.94e+4, train_loss_epoch=22.50]"
     ]
    },
    {
     "name": "stderr",
     "output_type": "stream",
     "text": [
      "Metric val_loss improved. New best score: 23.402\n"
     ]
    },
    {
     "name": "stdout",
     "output_type": "stream",
     "text": [
      "Epoch 1: 100%|██████████| 16/16 [00:00<00:00, 31.52it/s, train_loss_step=8.370, val_loss=8.690, val_price_loss=6.66e+9, val_category_loss=2.030, val_accuracy=0.514, val_rmse=7.91e+4, train_loss_epoch=9.400]"
     ]
    },
    {
     "name": "stderr",
     "output_type": "stream",
     "text": [
      "Metric val_loss improved by 14.711 >= min_delta = 0.0001. New best score: 8.692\n"
     ]
    },
    {
     "name": "stdout",
     "output_type": "stream",
     "text": [
      "Epoch 2: 100%|██████████| 16/16 [00:00<00:00, 37.14it/s, train_loss_step=5.780, val_loss=8.480, val_price_loss=6.84e+9, val_category_loss=1.640, val_accuracy=0.528, val_rmse=8e+4, train_loss_epoch=8.820]   "
     ]
    },
    {
     "name": "stderr",
     "output_type": "stream",
     "text": [
      "Metric val_loss improved by 0.214 >= min_delta = 0.0001. New best score: 8.478\n"
     ]
    },
    {
     "name": "stdout",
     "output_type": "stream",
     "text": [
      "Epoch 3: 100%|██████████| 16/16 [00:00<00:00, 37.57it/s, train_loss_step=6.740, val_loss=7.800, val_price_loss=6.58e+9, val_category_loss=1.220, val_accuracy=0.697, val_rmse=7.98e+4, train_loss_epoch=8.590]"
     ]
    },
    {
     "name": "stderr",
     "output_type": "stream",
     "text": [
      "Metric val_loss improved by 0.683 >= min_delta = 0.0001. New best score: 7.795\n"
     ]
    },
    {
     "name": "stdout",
     "output_type": "stream",
     "text": [
      "Epoch 4: 100%|██████████| 16/16 [00:00<00:00, 27.90it/s, train_loss_step=6.900, val_loss=6.800, val_price_loss=5.85e+9, val_category_loss=0.949, val_accuracy=0.674, val_rmse=7.38e+4, train_loss_epoch=7.870]"
     ]
    },
    {
     "name": "stderr",
     "output_type": "stream",
     "text": [
      "Metric val_loss improved by 0.996 >= min_delta = 0.0001. New best score: 6.799\n"
     ]
    },
    {
     "name": "stdout",
     "output_type": "stream",
     "text": [
      "Epoch 6: 100%|██████████| 16/16 [00:00<00:00, 36.63it/s, train_loss_step=7.850, val_loss=6.690, val_price_loss=5.86e+9, val_category_loss=0.826, val_accuracy=0.734, val_rmse=7.73e+4, train_loss_epoch=8.060]"
     ]
    },
    {
     "name": "stderr",
     "output_type": "stream",
     "text": [
      "Metric val_loss improved by 0.110 >= min_delta = 0.0001. New best score: 6.690\n"
     ]
    },
    {
     "name": "stdout",
     "output_type": "stream",
     "text": [
      "Epoch 11: 100%|██████████| 16/16 [00:00<00:00, 38.11it/s, train_loss_step=7.900, val_loss=7.720, val_price_loss=5.89e+9, val_category_loss=1.830, val_accuracy=0.587, val_rmse=7.84e+4, train_loss_epoch=8.070]"
     ]
    },
    {
     "name": "stderr",
     "output_type": "stream",
     "text": [
      "Monitored metric val_loss did not improve in the last 5 records. Best score: 6.690. Signaling Trainer to stop.\n"
     ]
    },
    {
     "name": "stdout",
     "output_type": "stream",
     "text": [
      "Epoch 11: 100%|██████████| 16/16 [00:00<00:00, 27.71it/s, train_loss_step=7.900, val_loss=7.720, val_price_loss=5.89e+9, val_category_loss=1.830, val_accuracy=0.587, val_rmse=7.84e+4, train_loss_epoch=8.070]"
     ]
    },
    {
     "name": "stderr",
     "output_type": "stream",
     "text": [
      "[I 2024-04-28 23:51:46,928] Trial 29 finished with value: 7.719359397888184 and parameters: {'num_layers': 1, 'hidden_dim': 512, 'embedding_dim': 5, 'lr': 0.02217714678725941, 'optimizer_type': 'Adam', 'relu_type': 'ReLU', 'droupoutrate': 0.34239211408345727}. Best is trial 23 with value: 7.610217094421387.\n"
     ]
    },
    {
     "name": "stdout",
     "output_type": "stream",
     "text": [
      "\n"
     ]
    },
    {
     "name": "stderr",
     "output_type": "stream",
     "text": [
      "GPU available: True (cuda), used: True\n",
      "TPU available: False, using: 0 TPU cores\n",
      "IPU available: False, using: 0 IPUs\n",
      "HPU available: False, using: 0 HPUs\n",
      "LOCAL_RANK: 0 - CUDA_VISIBLE_DEVICES: [0]\n",
      "\n",
      "  | Name            | Type       | Params\n",
      "-----------------------------------------------\n",
      "0 | embeddings      | ModuleList | 1.2 K \n",
      "1 | fc              | Sequential | 635 K \n",
      "2 | output_category | Sequential | 534 K \n",
      "3 | output_price    | Sequential | 525 K \n",
      "-----------------------------------------------\n",
      "1.7 M     Trainable params\n",
      "0         Non-trainable params\n",
      "1.7 M     Total params\n",
      "6.784     Total estimated model params size (MB)\n"
     ]
    },
    {
     "name": "stdout",
     "output_type": "stream",
     "text": [
      "Number of embedding layers: 36\n",
      "Epoch 0: 100%|██████████| 16/16 [00:00<00:00, 42.78it/s, train_loss_step=31.90]"
     ]
    },
    {
     "name": "stderr",
     "output_type": "stream",
     "text": [
      "[I 2024-04-28 23:51:47,495] Trial 30 pruned. Trial was pruned at epoch 0.\n"
     ]
    },
    {
     "name": "stdout",
     "output_type": "stream",
     "text": [
      "Number of embedding layers: 36\n"
     ]
    },
    {
     "name": "stderr",
     "output_type": "stream",
     "text": [
      "GPU available: True (cuda), used: True\n",
      "TPU available: False, using: 0 TPU cores\n",
      "IPU available: False, using: 0 IPUs\n",
      "HPU available: False, using: 0 HPUs\n",
      "LOCAL_RANK: 0 - CUDA_VISIBLE_DEVICES: [0]\n",
      "\n",
      "  | Name            | Type       | Params\n",
      "-----------------------------------------------\n",
      "0 | embeddings      | ModuleList | 1.4 K \n",
      "1 | fc              | Sequential | 653 K \n",
      "2 | output_category | Sequential | 534 K \n",
      "3 | output_price    | Sequential | 525 K \n",
      "-----------------------------------------------\n",
      "1.7 M     Trainable params\n",
      "0         Non-trainable params\n",
      "1.7 M     Total params\n",
      "6.858     Total estimated model params size (MB)\n"
     ]
    },
    {
     "name": "stdout",
     "output_type": "stream",
     "text": [
      "Epoch 0: 100%|██████████| 16/16 [00:00<00:00, 34.91it/s, train_loss_step=17.00, val_loss=16.00, val_price_loss=1e+10, val_category_loss=6.030, val_accuracy=0.344, val_rmse=9.48e+4, train_loss_epoch=27.30]"
     ]
    },
    {
     "name": "stderr",
     "output_type": "stream",
     "text": [
      "Metric val_loss improved. New best score: 16.047\n"
     ]
    },
    {
     "name": "stdout",
     "output_type": "stream",
     "text": [
      "Epoch 1: 100%|██████████| 16/16 [00:00<00:00, 29.01it/s, train_loss_step=8.900, val_loss=11.10, val_price_loss=7.19e+9, val_category_loss=3.870, val_accuracy=0.427, val_rmse=8.94e+4, train_loss_epoch=10.90]"
     ]
    },
    {
     "name": "stderr",
     "output_type": "stream",
     "text": [
      "Metric val_loss improved by 4.982 >= min_delta = 0.0001. New best score: 11.064\n"
     ]
    },
    {
     "name": "stdout",
     "output_type": "stream",
     "text": [
      "Epoch 2: 100%|██████████| 16/16 [00:00<00:00, 33.49it/s, train_loss_step=15.70, val_loss=9.520, val_price_loss=5.86e+9, val_category_loss=3.670, val_accuracy=0.440, val_rmse=7.3e+4, train_loss_epoch=8.640] "
     ]
    },
    {
     "name": "stderr",
     "output_type": "stream",
     "text": [
      "Metric val_loss improved by 1.541 >= min_delta = 0.0001. New best score: 9.523\n"
     ]
    },
    {
     "name": "stdout",
     "output_type": "stream",
     "text": [
      "Epoch 3: 100%|██████████| 16/16 [00:00<00:00, 38.02it/s, train_loss_step=5.560, val_loss=7.210, val_price_loss=5.89e+9, val_category_loss=1.310, val_accuracy=0.606, val_rmse=7.32e+4, train_loss_epoch=8.130]"
     ]
    },
    {
     "name": "stderr",
     "output_type": "stream",
     "text": [
      "Metric val_loss improved by 2.317 >= min_delta = 0.0001. New best score: 7.206\n"
     ]
    },
    {
     "name": "stdout",
     "output_type": "stream",
     "text": [
      "Epoch 4: 100%|██████████| 16/16 [00:00<00:00, 28.50it/s, train_loss_step=6.260, val_loss=7.200, val_price_loss=5.93e+9, val_category_loss=1.270, val_accuracy=0.583, val_rmse=7.81e+4, train_loss_epoch=8.100]"
     ]
    },
    {
     "name": "stderr",
     "output_type": "stream",
     "text": [
      "Metric val_loss improved by 0.010 >= min_delta = 0.0001. New best score: 7.196\n"
     ]
    },
    {
     "name": "stdout",
     "output_type": "stream",
     "text": [
      "Epoch 7: 100%|██████████| 16/16 [00:00<00:00, 34.43it/s, train_loss_step=5.180, val_loss=6.960, val_price_loss=6e+9, val_category_loss=0.962, val_accuracy=0.706, val_rmse=7.49e+4, train_loss_epoch=7.640]   "
     ]
    },
    {
     "name": "stderr",
     "output_type": "stream",
     "text": [
      "Metric val_loss improved by 0.237 >= min_delta = 0.0001. New best score: 6.959\n"
     ]
    },
    {
     "name": "stdout",
     "output_type": "stream",
     "text": [
      "Epoch 12: 100%|██████████| 16/16 [00:00<00:00, 31.73it/s, train_loss_step=8.090, val_loss=7.810, val_price_loss=5.82e+9, val_category_loss=1.990, val_accuracy=0.578, val_rmse=7.53e+4, train_loss_epoch=7.600]"
     ]
    },
    {
     "name": "stderr",
     "output_type": "stream",
     "text": [
      "Monitored metric val_loss did not improve in the last 5 records. Best score: 6.959. Signaling Trainer to stop.\n"
     ]
    },
    {
     "name": "stdout",
     "output_type": "stream",
     "text": [
      "Epoch 12: 100%|██████████| 16/16 [00:00<00:00, 24.36it/s, train_loss_step=8.090, val_loss=7.810, val_price_loss=5.82e+9, val_category_loss=1.990, val_accuracy=0.578, val_rmse=7.53e+4, train_loss_epoch=7.600]"
     ]
    },
    {
     "name": "stderr",
     "output_type": "stream",
     "text": [
      "[I 2024-04-28 23:51:56,622] Trial 31 finished with value: 7.810176372528076 and parameters: {'num_layers': 1, 'hidden_dim': 512, 'embedding_dim': 6, 'lr': 0.021577931549910074, 'optimizer_type': 'Adam', 'relu_type': 'ReLU', 'droupoutrate': 0.3497791575892477}. Best is trial 23 with value: 7.610217094421387.\n"
     ]
    },
    {
     "name": "stdout",
     "output_type": "stream",
     "text": [
      "\n",
      "Number of embedding layers: 36\n"
     ]
    },
    {
     "name": "stderr",
     "output_type": "stream",
     "text": [
      "GPU available: True (cuda), used: True\n",
      "TPU available: False, using: 0 TPU cores\n",
      "IPU available: False, using: 0 IPUs\n",
      "HPU available: False, using: 0 HPUs\n",
      "LOCAL_RANK: 0 - CUDA_VISIBLE_DEVICES: [0]\n",
      "\n",
      "  | Name            | Type       | Params\n",
      "-----------------------------------------------\n",
      "0 | embeddings      | ModuleList | 1.4 K \n",
      "1 | fc              | Sequential | 653 K \n",
      "2 | output_category | Sequential | 534 K \n",
      "3 | output_price    | Sequential | 525 K \n",
      "-----------------------------------------------\n",
      "1.7 M     Trainable params\n",
      "0         Non-trainable params\n",
      "1.7 M     Total params\n",
      "6.858     Total estimated model params size (MB)\n"
     ]
    },
    {
     "name": "stdout",
     "output_type": "stream",
     "text": [
      "Epoch 0: 100%|██████████| 16/16 [00:00<00:00, 36.05it/s, train_loss_step=23.70, val_loss=23.60, val_price_loss=1.24e+10, val_category_loss=11.20, val_accuracy=0.174, val_rmse=1.42e+5, train_loss_epoch=34.10]"
     ]
    },
    {
     "name": "stderr",
     "output_type": "stream",
     "text": [
      "Metric val_loss improved. New best score: 23.633\n"
     ]
    },
    {
     "name": "stdout",
     "output_type": "stream",
     "text": [
      "Epoch 1: 100%|██████████| 16/16 [00:00<00:00, 40.72it/s, train_loss_step=10.80, val_loss=9.990, val_price_loss=6.23e+9, val_category_loss=3.760, val_accuracy=0.225, val_rmse=7.8e+4, train_loss_epoch=13.50]  "
     ]
    },
    {
     "name": "stderr",
     "output_type": "stream",
     "text": [
      "Metric val_loss improved by 13.644 >= min_delta = 0.0001. New best score: 9.990\n"
     ]
    },
    {
     "name": "stdout",
     "output_type": "stream",
     "text": [
      "Epoch 2: 100%|██████████| 16/16 [00:00<00:00, 34.26it/s, train_loss_step=6.640, val_loss=7.790, val_price_loss=6.22e+9, val_category_loss=1.580, val_accuracy=0.514, val_rmse=7.88e+4, train_loss_epoch=9.150]"
     ]
    },
    {
     "name": "stderr",
     "output_type": "stream",
     "text": [
      "Metric val_loss improved by 2.196 >= min_delta = 0.0001. New best score: 7.793\n"
     ]
    },
    {
     "name": "stdout",
     "output_type": "stream",
     "text": [
      "Epoch 4: 100%|██████████| 16/16 [00:00<00:00, 32.15it/s, train_loss_step=7.830, val_loss=7.450, val_price_loss=6.38e+9, val_category_loss=1.070, val_accuracy=0.638, val_rmse=7.57e+4, train_loss_epoch=9.140]"
     ]
    },
    {
     "name": "stderr",
     "output_type": "stream",
     "text": [
      "Metric val_loss improved by 0.342 >= min_delta = 0.0001. New best score: 7.451\n"
     ]
    },
    {
     "name": "stdout",
     "output_type": "stream",
     "text": [
      "Epoch 5: 100%|██████████| 16/16 [00:00<00:00, 35.35it/s, train_loss_step=4.380, val_loss=6.890, val_price_loss=5.88e+9, val_category_loss=1.010, val_accuracy=0.656, val_rmse=7.31e+4, train_loss_epoch=8.230]"
     ]
    },
    {
     "name": "stderr",
     "output_type": "stream",
     "text": [
      "Metric val_loss improved by 0.561 >= min_delta = 0.0001. New best score: 6.890\n"
     ]
    },
    {
     "name": "stdout",
     "output_type": "stream",
     "text": [
      "Epoch 6: 100%|██████████| 16/16 [00:00<00:00, 37.48it/s, train_loss_step=10.30, val_loss=6.730, val_price_loss=5.87e+9, val_category_loss=0.856, val_accuracy=0.702, val_rmse=7.33e+4, train_loss_epoch=7.860]"
     ]
    },
    {
     "name": "stderr",
     "output_type": "stream",
     "text": [
      "Metric val_loss improved by 0.161 >= min_delta = 0.0001. New best score: 6.729\n"
     ]
    },
    {
     "name": "stdout",
     "output_type": "stream",
     "text": [
      "Epoch 11: 100%|██████████| 16/16 [00:00<00:00, 39.03it/s, train_loss_step=6.130, val_loss=6.930, val_price_loss=5.97e+9, val_category_loss=0.960, val_accuracy=0.729, val_rmse=7.28e+4, train_loss_epoch=7.870]"
     ]
    },
    {
     "name": "stderr",
     "output_type": "stream",
     "text": [
      "Monitored metric val_loss did not improve in the last 5 records. Best score: 6.729. Signaling Trainer to stop.\n"
     ]
    },
    {
     "name": "stdout",
     "output_type": "stream",
     "text": [
      "Epoch 11: 100%|██████████| 16/16 [00:00<00:00, 22.21it/s, train_loss_step=6.130, val_loss=6.930, val_price_loss=5.97e+9, val_category_loss=0.960, val_accuracy=0.729, val_rmse=7.28e+4, train_loss_epoch=7.870]"
     ]
    },
    {
     "name": "stderr",
     "output_type": "stream",
     "text": [
      "[I 2024-04-28 23:52:04,916] Trial 32 finished with value: 6.927556991577148 and parameters: {'num_layers': 1, 'hidden_dim': 512, 'embedding_dim': 6, 'lr': 0.05623279944047358, 'optimizer_type': 'Adam', 'relu_type': 'ReLU', 'droupoutrate': 0.3891542304059217}. Best is trial 32 with value: 6.927556991577148.\n",
      "GPU available: True (cuda), used: True\n",
      "TPU available: False, using: 0 TPU cores\n",
      "IPU available: False, using: 0 IPUs\n",
      "HPU available: False, using: 0 HPUs\n",
      "LOCAL_RANK: 0 - CUDA_VISIBLE_DEVICES: [0]\n",
      "\n",
      "  | Name            | Type       | Params\n",
      "-----------------------------------------------\n",
      "0 | embeddings      | ModuleList | 1.4 K \n",
      "1 | fc              | Sequential | 653 K \n",
      "2 | output_category | Sequential | 534 K \n",
      "3 | output_price    | Sequential | 525 K \n",
      "-----------------------------------------------\n",
      "1.7 M     Trainable params\n",
      "0         Non-trainable params\n",
      "1.7 M     Total params\n",
      "6.858     Total estimated model params size (MB)\n"
     ]
    },
    {
     "name": "stdout",
     "output_type": "stream",
     "text": [
      "\n",
      "Number of embedding layers: 36\n",
      "Epoch 0: 100%|██████████| 16/16 [00:00<00:00, 36.88it/s, train_loss_step=6.390, val_loss=17.40, val_price_loss=6.28e+9, val_category_loss=11.10, val_accuracy=0.183, val_rmse=8.29e+4, train_loss_epoch=24.60]"
     ]
    },
    {
     "name": "stderr",
     "output_type": "stream",
     "text": [
      "Metric val_loss improved. New best score: 17.389\n"
     ]
    },
    {
     "name": "stdout",
     "output_type": "stream",
     "text": [
      "Epoch 1: 100%|██████████| 16/16 [00:00<00:00, 30.14it/s, train_loss_step=9.270, val_loss=8.340, val_price_loss=6.65e+9, val_category_loss=1.690, val_accuracy=0.546, val_rmse=7.9e+4, train_loss_epoch=9.930] "
     ]
    },
    {
     "name": "stderr",
     "output_type": "stream",
     "text": [
      "Metric val_loss improved by 9.050 >= min_delta = 0.0001. New best score: 8.339\n"
     ]
    },
    {
     "name": "stdout",
     "output_type": "stream",
     "text": [
      "Epoch 3: 100%|██████████| 16/16 [00:00<00:00, 40.82it/s, train_loss_step=11.30, val_loss=6.990, val_price_loss=5.84e+9, val_category_loss=1.150, val_accuracy=0.633, val_rmse=7.75e+4, train_loss_epoch=8.160]"
     ]
    },
    {
     "name": "stderr",
     "output_type": "stream",
     "text": [
      "Metric val_loss improved by 1.353 >= min_delta = 0.0001. New best score: 6.986\n"
     ]
    },
    {
     "name": "stdout",
     "output_type": "stream",
     "text": [
      "Epoch 4: 100%|██████████| 16/16 [00:00<00:00, 41.47it/s, train_loss_step=7.200, val_loss=6.730, val_price_loss=5.84e+9, val_category_loss=0.889, val_accuracy=0.729, val_rmse=7.73e+4, train_loss_epoch=7.800]"
     ]
    },
    {
     "name": "stderr",
     "output_type": "stream",
     "text": [
      "Metric val_loss improved by 0.257 >= min_delta = 0.0001. New best score: 6.729\n"
     ]
    },
    {
     "name": "stdout",
     "output_type": "stream",
     "text": [
      "Epoch 9: 100%|██████████| 16/16 [00:00<00:00, 32.07it/s, train_loss_step=11.60, val_loss=7.520, val_price_loss=6.09e+9, val_category_loss=1.430, val_accuracy=0.624, val_rmse=7.69e+4, train_loss_epoch=7.570]"
     ]
    },
    {
     "name": "stderr",
     "output_type": "stream",
     "text": [
      "Monitored metric val_loss did not improve in the last 5 records. Best score: 6.729. Signaling Trainer to stop.\n"
     ]
    },
    {
     "name": "stdout",
     "output_type": "stream",
     "text": [
      "Epoch 9: 100%|██████████| 16/16 [00:00<00:00, 24.47it/s, train_loss_step=11.60, val_loss=7.520, val_price_loss=6.09e+9, val_category_loss=1.430, val_accuracy=0.624, val_rmse=7.69e+4, train_loss_epoch=7.570]"
     ]
    },
    {
     "name": "stderr",
     "output_type": "stream",
     "text": [
      "[I 2024-04-28 23:52:11,410] Trial 33 finished with value: 7.520977973937988 and parameters: {'num_layers': 1, 'hidden_dim': 512, 'embedding_dim': 6, 'lr': 0.021800163529429126, 'optimizer_type': 'Adam', 'relu_type': 'ReLU', 'droupoutrate': 0.39642756143764984}. Best is trial 32 with value: 6.927556991577148.\n"
     ]
    },
    {
     "name": "stdout",
     "output_type": "stream",
     "text": [
      "\n"
     ]
    },
    {
     "name": "stderr",
     "output_type": "stream",
     "text": [
      "GPU available: True (cuda), used: True\n",
      "TPU available: False, using: 0 TPU cores\n",
      "IPU available: False, using: 0 IPUs\n",
      "HPU available: False, using: 0 HPUs\n",
      "LOCAL_RANK: 0 - CUDA_VISIBLE_DEVICES: [0]\n",
      "\n",
      "  | Name            | Type       | Params\n",
      "-----------------------------------------------\n",
      "0 | embeddings      | ModuleList | 1.4 K \n",
      "1 | fc              | Sequential | 653 K \n",
      "2 | output_category | Sequential | 534 K \n",
      "3 | output_price    | Sequential | 525 K \n",
      "-----------------------------------------------\n",
      "1.7 M     Trainable params\n",
      "0         Non-trainable params\n",
      "1.7 M     Total params\n",
      "6.858     Total estimated model params size (MB)\n"
     ]
    },
    {
     "name": "stdout",
     "output_type": "stream",
     "text": [
      "Number of embedding layers: 36\n",
      "Epoch 0: 100%|██████████| 16/16 [00:00<00:00, 41.78it/s, train_loss_step=48.90]"
     ]
    },
    {
     "name": "stderr",
     "output_type": "stream",
     "text": [
      "[I 2024-04-28 23:52:11,970] Trial 34 pruned. Trial was pruned at epoch 0.\n"
     ]
    },
    {
     "name": "stdout",
     "output_type": "stream",
     "text": [
      "Number of embedding layers: 36\n"
     ]
    },
    {
     "name": "stderr",
     "output_type": "stream",
     "text": [
      "GPU available: True (cuda), used: True\n",
      "TPU available: False, using: 0 TPU cores\n",
      "IPU available: False, using: 0 IPUs\n",
      "HPU available: False, using: 0 HPUs\n"
     ]
    },
    {
     "name": "stdout",
     "output_type": "stream",
     "text": [
      "Epoch 0: 100%|██████████| 16/16 [00:00<00:00, 28.91it/s, train_loss_step=48.90]\n"
     ]
    },
    {
     "name": "stderr",
     "output_type": "stream",
     "text": [
      "LOCAL_RANK: 0 - CUDA_VISIBLE_DEVICES: [0]\n",
      "\n",
      "  | Name            | Type       | Params\n",
      "-----------------------------------------------\n",
      "0 | embeddings      | ModuleList | 1.6 K \n",
      "1 | fc              | Sequential | 2.4 M \n",
      "2 | output_category | Sequential | 2.1 M \n",
      "3 | output_price    | Sequential | 2.1 M \n",
      "-----------------------------------------------\n",
      "6.6 M     Trainable params\n",
      "0         Non-trainable params\n",
      "6.6 M     Total params\n",
      "26.442    Total estimated model params size (MB)\n"
     ]
    },
    {
     "name": "stdout",
     "output_type": "stream",
     "text": [
      "Epoch 0: 100%|██████████| 16/16 [00:00<00:00, 28.15it/s, train_loss_step=18.50, val_loss=18.80, val_price_loss=1.03e+10, val_category_loss=8.520, val_accuracy=0.248, val_rmse=8.94e+4, train_loss_epoch=35.40]"
     ]
    },
    {
     "name": "stderr",
     "output_type": "stream",
     "text": [
      "Metric val_loss improved. New best score: 18.811\n"
     ]
    },
    {
     "name": "stdout",
     "output_type": "stream",
     "text": [
      "Epoch 1: 100%|██████████| 16/16 [00:00<00:00, 34.46it/s, train_loss_step=19.30, val_loss=10.70, val_price_loss=8.69e+9, val_category_loss=1.960, val_accuracy=0.404, val_rmse=8.76e+4, train_loss_epoch=12.80] "
     ]
    },
    {
     "name": "stderr",
     "output_type": "stream",
     "text": [
      "Metric val_loss improved by 8.159 >= min_delta = 0.0001. New best score: 10.652\n"
     ]
    },
    {
     "name": "stdout",
     "output_type": "stream",
     "text": [
      "Epoch 2: 100%|██████████| 16/16 [00:00<00:00, 41.14it/s, train_loss_step=10.10, val_loss=7.520, val_price_loss=6.23e+9, val_category_loss=1.280, val_accuracy=0.541, val_rmse=7.63e+4, train_loss_epoch=9.720]"
     ]
    },
    {
     "name": "stderr",
     "output_type": "stream",
     "text": [
      "Metric val_loss improved by 3.137 >= min_delta = 0.0001. New best score: 7.516\n"
     ]
    },
    {
     "name": "stdout",
     "output_type": "stream",
     "text": [
      "Epoch 3: 100%|██████████| 16/16 [00:00<00:00, 25.19it/s, train_loss_step=6.270, val_loss=7.450, val_price_loss=6.28e+9, val_category_loss=1.170, val_accuracy=0.615, val_rmse=7.65e+4, train_loss_epoch=8.460]"
     ]
    },
    {
     "name": "stderr",
     "output_type": "stream",
     "text": [
      "Metric val_loss improved by 0.064 >= min_delta = 0.0001. New best score: 7.451\n"
     ]
    },
    {
     "name": "stdout",
     "output_type": "stream",
     "text": [
      "Epoch 5: 100%|██████████| 16/16 [00:00<00:00, 24.27it/s, train_loss_step=6.310, val_loss=7.030, val_price_loss=6.07e+9, val_category_loss=0.961, val_accuracy=0.633, val_rmse=8.4e+4, train_loss_epoch=9.050] "
     ]
    },
    {
     "name": "stderr",
     "output_type": "stream",
     "text": [
      "Metric val_loss improved by 0.423 >= min_delta = 0.0001. New best score: 7.028\n"
     ]
    },
    {
     "name": "stdout",
     "output_type": "stream",
     "text": [
      "Epoch 9: 100%|██████████| 16/16 [00:00<00:00, 24.90it/s, train_loss_step=7.060, val_loss=6.940, val_price_loss=5.9e+9, val_category_loss=1.040, val_accuracy=0.697, val_rmse=7.1e+4, train_loss_epoch=7.620]  "
     ]
    },
    {
     "name": "stderr",
     "output_type": "stream",
     "text": [
      "Metric val_loss improved by 0.087 >= min_delta = 0.0001. New best score: 6.941\n"
     ]
    },
    {
     "name": "stdout",
     "output_type": "stream",
     "text": [
      "Epoch 10: 100%|██████████| 16/16 [00:00<00:00, 30.73it/s, train_loss_step=5.870, val_loss=6.930, val_price_loss=5.92e+9, val_category_loss=1.010, val_accuracy=0.688, val_rmse=7.16e+4, train_loss_epoch=7.510]"
     ]
    },
    {
     "name": "stderr",
     "output_type": "stream",
     "text": [
      "Metric val_loss improved by 0.010 >= min_delta = 0.0001. New best score: 6.931\n"
     ]
    },
    {
     "name": "stdout",
     "output_type": "stream",
     "text": [
      "Epoch 15: 100%|██████████| 16/16 [00:00<00:00, 25.23it/s, train_loss_step=6.940, val_loss=8.080, val_price_loss=6.9e+9, val_category_loss=1.180, val_accuracy=0.720, val_rmse=8.05e+4, train_loss_epoch=7.560] "
     ]
    },
    {
     "name": "stderr",
     "output_type": "stream",
     "text": [
      "Monitored metric val_loss did not improve in the last 5 records. Best score: 6.931. Signaling Trainer to stop.\n"
     ]
    },
    {
     "name": "stdout",
     "output_type": "stream",
     "text": [
      "Epoch 15: 100%|██████████| 16/16 [00:02<00:00,  7.97it/s, train_loss_step=6.940, val_loss=8.080, val_price_loss=6.9e+9, val_category_loss=1.180, val_accuracy=0.720, val_rmse=8.05e+4, train_loss_epoch=7.560]"
     ]
    },
    {
     "name": "stderr",
     "output_type": "stream",
     "text": [
      "[I 2024-04-28 23:52:42,672] Trial 35 finished with value: 8.084251403808594 and parameters: {'num_layers': 1, 'hidden_dim': 1024, 'embedding_dim': 7, 'lr': 0.034113434572979225, 'optimizer_type': 'Adam', 'relu_type': 'ReLU', 'droupoutrate': 0.3919366271852235}. Best is trial 32 with value: 6.927556991577148.\n",
      "GPU available: True (cuda), used: True\n",
      "TPU available: False, using: 0 TPU cores\n",
      "IPU available: False, using: 0 IPUs\n",
      "HPU available: False, using: 0 HPUs\n",
      "LOCAL_RANK: 0 - CUDA_VISIBLE_DEVICES: [0]\n",
      "\n",
      "  | Name            | Type       | Params\n",
      "-----------------------------------------------\n",
      "0 | embeddings      | ModuleList | 1.2 K \n",
      "1 | fc              | Sequential | 635 K \n",
      "2 | output_category | Sequential | 534 K \n",
      "3 | output_price    | Sequential | 525 K \n",
      "-----------------------------------------------\n",
      "1.7 M     Trainable params\n",
      "0         Non-trainable params\n",
      "1.7 M     Total params\n",
      "6.784     Total estimated model params size (MB)\n"
     ]
    },
    {
     "name": "stdout",
     "output_type": "stream",
     "text": [
      "\n",
      "Number of embedding layers: 36\n",
      "Epoch 0: 100%|██████████| 16/16 [00:00<00:00, 32.47it/s, train_loss_step=12.30, val_loss=14.50, val_price_loss=9.2e+9, val_category_loss=5.290, val_accuracy=0.399, val_rmse=7.3e+4, train_loss_epoch=31.90]"
     ]
    },
    {
     "name": "stderr",
     "output_type": "stream",
     "text": [
      "Metric val_loss improved. New best score: 14.494\n"
     ]
    },
    {
     "name": "stdout",
     "output_type": "stream",
     "text": [
      "Epoch 1: 100%|██████████| 16/16 [00:00<00:00, 33.27it/s, train_loss_step=13.00, val_loss=8.420, val_price_loss=6.06e+9, val_category_loss=2.360, val_accuracy=0.486, val_rmse=8.16e+4, train_loss_epoch=10.90]"
     ]
    },
    {
     "name": "stderr",
     "output_type": "stream",
     "text": [
      "Metric val_loss improved by 6.071 >= min_delta = 0.0001. New best score: 8.423\n"
     ]
    },
    {
     "name": "stdout",
     "output_type": "stream",
     "text": [
      "Epoch 2: 100%|██████████| 16/16 [00:00<00:00, 34.72it/s, train_loss_step=9.630, val_loss=8.160, val_price_loss=6.74e+9, val_category_loss=1.420, val_accuracy=0.518, val_rmse=8.49e+4, train_loss_epoch=9.770]"
     ]
    },
    {
     "name": "stderr",
     "output_type": "stream",
     "text": [
      "Metric val_loss improved by 0.262 >= min_delta = 0.0001. New best score: 8.161\n"
     ]
    },
    {
     "name": "stdout",
     "output_type": "stream",
     "text": [
      "Epoch 3: 100%|██████████| 16/16 [00:00<00:00, 33.63it/s, train_loss_step=7.780, val_loss=7.270, val_price_loss=5.93e+9, val_category_loss=1.350, val_accuracy=0.509, val_rmse=7.58e+4, train_loss_epoch=8.380]"
     ]
    },
    {
     "name": "stderr",
     "output_type": "stream",
     "text": [
      "Metric val_loss improved by 0.890 >= min_delta = 0.0001. New best score: 7.271\n"
     ]
    },
    {
     "name": "stdout",
     "output_type": "stream",
     "text": [
      "Epoch 5: 100%|██████████| 16/16 [00:00<00:00, 31.75it/s, train_loss_step=8.020, val_loss=6.970, val_price_loss=5.92e+9, val_category_loss=1.040, val_accuracy=0.683, val_rmse=7.59e+4, train_loss_epoch=8.170]"
     ]
    },
    {
     "name": "stderr",
     "output_type": "stream",
     "text": [
      "Metric val_loss improved by 0.304 >= min_delta = 0.0001. New best score: 6.967\n"
     ]
    },
    {
     "name": "stdout",
     "output_type": "stream",
     "text": [
      "Epoch 7: 100%|██████████| 16/16 [00:00<00:00, 31.96it/s, train_loss_step=12.10, val_loss=6.910, val_price_loss=5.93e+9, val_category_loss=0.981, val_accuracy=0.665, val_rmse=7.62e+4, train_loss_epoch=7.710]"
     ]
    },
    {
     "name": "stderr",
     "output_type": "stream",
     "text": [
      "Metric val_loss improved by 0.052 >= min_delta = 0.0001. New best score: 6.915\n"
     ]
    },
    {
     "name": "stdout",
     "output_type": "stream",
     "text": [
      "Epoch 12: 100%|██████████| 16/16 [00:00<00:00, 31.03it/s, train_loss_step=8.190, val_loss=7.340, val_price_loss=5.98e+9, val_category_loss=1.360, val_accuracy=0.670, val_rmse=7.34e+4, train_loss_epoch=7.940]"
     ]
    },
    {
     "name": "stderr",
     "output_type": "stream",
     "text": [
      "Monitored metric val_loss did not improve in the last 5 records. Best score: 6.915. Signaling Trainer to stop.\n"
     ]
    },
    {
     "name": "stdout",
     "output_type": "stream",
     "text": [
      "Epoch 12: 100%|██████████| 16/16 [00:00<00:00, 23.98it/s, train_loss_step=8.190, val_loss=7.340, val_price_loss=5.98e+9, val_category_loss=1.360, val_accuracy=0.670, val_rmse=7.34e+4, train_loss_epoch=7.940]"
     ]
    },
    {
     "name": "stderr",
     "output_type": "stream",
     "text": [
      "[I 2024-04-28 23:52:51,619] Trial 36 finished with value: 7.338553428649902 and parameters: {'num_layers': 1, 'hidden_dim': 512, 'embedding_dim': 5, 'lr': 0.07348846513303141, 'optimizer_type': 'Adam', 'relu_type': 'ReLU', 'droupoutrate': 0.3925576900690683}. Best is trial 32 with value: 6.927556991577148.\n"
     ]
    },
    {
     "name": "stdout",
     "output_type": "stream",
     "text": [
      "\n",
      "Number of embedding layers: 36\n"
     ]
    },
    {
     "name": "stderr",
     "output_type": "stream",
     "text": [
      "GPU available: True (cuda), used: True\n",
      "TPU available: False, using: 0 TPU cores\n",
      "IPU available: False, using: 0 IPUs\n",
      "HPU available: False, using: 0 HPUs\n",
      "LOCAL_RANK: 0 - CUDA_VISIBLE_DEVICES: [0]\n",
      "\n",
      "  | Name            | Type       | Params\n",
      "-----------------------------------------------\n",
      "0 | embeddings      | ModuleList | 1.8 K \n",
      "1 | fc              | Sequential | 29.0 K\n",
      "2 | output_category | Sequential | 9.4 K \n",
      "3 | output_price    | Sequential | 8.3 K \n",
      "-----------------------------------------------\n",
      "48.6 K    Trainable params\n",
      "0         Non-trainable params\n",
      "48.6 K    Total params\n",
      "0.194     Total estimated model params size (MB)\n"
     ]
    },
    {
     "name": "stdout",
     "output_type": "stream",
     "text": [
      "Epoch 0: 100%|██████████| 16/16 [00:00<00:00, 42.33it/s, train_loss_step=9.460]"
     ]
    },
    {
     "name": "stderr",
     "output_type": "stream",
     "text": [
      "[I 2024-04-28 23:52:52,163] Trial 37 pruned. Trial was pruned at epoch 0.\n"
     ]
    },
    {
     "name": "stdout",
     "output_type": "stream",
     "text": [
      "Number of embedding layers: 36\n"
     ]
    },
    {
     "name": "stderr",
     "output_type": "stream",
     "text": [
      "GPU available: True (cuda), used: True\n",
      "TPU available: False, using: 0 TPU cores\n",
      "IPU available: False, using: 0 IPUs\n",
      "HPU available: False, using: 0 HPUs\n",
      "LOCAL_RANK: 0 - CUDA_VISIBLE_DEVICES: [0]\n",
      "\n",
      "  | Name            | Type       | Params\n",
      "-----------------------------------------------\n",
      "0 | embeddings      | ModuleList | 1.4 K \n",
      "1 | fc              | Sequential | 6.6 M \n",
      "2 | output_category | Sequential | 2.1 M \n",
      "3 | output_price    | Sequential | 2.1 M \n",
      "-----------------------------------------------\n",
      "10.8 M    Trainable params\n",
      "0         Non-trainable params\n",
      "10.8 M    Total params\n",
      "43.079    Total estimated model params size (MB)\n"
     ]
    },
    {
     "name": "stdout",
     "output_type": "stream",
     "text": [
      "Epoch 0: 100%|██████████| 16/16 [00:00<00:00, 33.56it/s, train_loss_step=49.40]"
     ]
    },
    {
     "name": "stderr",
     "output_type": "stream",
     "text": [
      "[I 2024-04-28 23:52:52,921] Trial 38 pruned. Trial was pruned at epoch 0.\n"
     ]
    },
    {
     "name": "stdout",
     "output_type": "stream",
     "text": [
      "Number of embedding layers: 36\n"
     ]
    },
    {
     "name": "stderr",
     "output_type": "stream",
     "text": [
      "GPU available: True (cuda), used: True\n",
      "TPU available: False, using: 0 TPU cores\n",
      "IPU available: False, using: 0 IPUs\n",
      "HPU available: False, using: 0 HPUs\n"
     ]
    },
    {
     "name": "stdout",
     "output_type": "stream",
     "text": [
      "Epoch 0: 100%|██████████| 16/16 [00:01<00:00, 12.78it/s, train_loss_step=9.460]\n",
      "Epoch 0: 100%|██████████| 16/16 [00:00<00:00, 26.09it/s, train_loss_step=49.40]\n"
     ]
    },
    {
     "name": "stderr",
     "output_type": "stream",
     "text": [
      "LOCAL_RANK: 0 - CUDA_VISIBLE_DEVICES: [0]\n",
      "\n",
      "  | Name            | Type       | Params\n",
      "-----------------------------------------------\n",
      "0 | embeddings      | ModuleList | 1.2 K \n",
      "1 | fc              | Sequential | 635 K \n",
      "2 | output_category | Sequential | 534 K \n",
      "3 | output_price    | Sequential | 525 K \n",
      "-----------------------------------------------\n",
      "1.7 M     Trainable params\n",
      "0         Non-trainable params\n",
      "1.7 M     Total params\n",
      "6.784     Total estimated model params size (MB)\n"
     ]
    },
    {
     "name": "stdout",
     "output_type": "stream",
     "text": [
      "Epoch 0: 100%|██████████| 16/16 [00:00<00:00, 40.07it/s, train_loss_step=30.80]"
     ]
    },
    {
     "name": "stderr",
     "output_type": "stream",
     "text": [
      "[I 2024-04-28 23:52:53,497] Trial 39 pruned. Trial was pruned at epoch 0.\n"
     ]
    },
    {
     "name": "stdout",
     "output_type": "stream",
     "text": [
      "Number of embedding layers: 36\n"
     ]
    },
    {
     "name": "stderr",
     "output_type": "stream",
     "text": [
      "GPU available: True (cuda), used: True\n",
      "TPU available: False, using: 0 TPU cores\n",
      "IPU available: False, using: 0 IPUs\n",
      "HPU available: False, using: 0 HPUs\n",
      "LOCAL_RANK: 0 - CUDA_VISIBLE_DEVICES: [0]\n",
      "\n",
      "  | Name            | Type       | Params\n",
      "-----------------------------------------------\n",
      "0 | embeddings      | ModuleList | 2.3 K \n",
      "1 | fc              | Sequential | 4.9 M \n",
      "2 | output_category | Sequential | 534 K \n",
      "3 | output_price    | Sequential | 525 K \n",
      "-----------------------------------------------\n",
      "6.0 M     Trainable params\n",
      "0         Non-trainable params\n",
      "6.0 M     Total params\n",
      "23.950    Total estimated model params size (MB)\n"
     ]
    },
    {
     "name": "stdout",
     "output_type": "stream",
     "text": [
      "Epoch 0: 100%|██████████| 16/16 [00:00<00:00, 37.22it/s, train_loss_step=48.60]"
     ]
    },
    {
     "name": "stderr",
     "output_type": "stream",
     "text": [
      "[I 2024-04-28 23:52:54,143] Trial 40 pruned. Trial was pruned at epoch 0.\n",
      "GPU available: True (cuda), used: True\n"
     ]
    },
    {
     "name": "stdout",
     "output_type": "stream",
     "text": [
      "Number of embedding layers: 36\n"
     ]
    },
    {
     "name": "stderr",
     "output_type": "stream",
     "text": [
      "TPU available: False, using: 0 TPU cores\n",
      "IPU available: False, using: 0 IPUs\n",
      "HPU available: False, using: 0 HPUs\n",
      "LOCAL_RANK: 0 - CUDA_VISIBLE_DEVICES: [0]\n",
      "\n",
      "  | Name            | Type       | Params\n",
      "-----------------------------------------------\n",
      "0 | embeddings      | ModuleList | 1.2 K \n",
      "1 | fc              | Sequential | 635 K \n",
      "2 | output_category | Sequential | 534 K \n",
      "3 | output_price    | Sequential | 525 K \n",
      "-----------------------------------------------\n",
      "1.7 M     Trainable params\n",
      "0         Non-trainable params\n",
      "1.7 M     Total params\n",
      "6.784     Total estimated model params size (MB)\n"
     ]
    },
    {
     "name": "stdout",
     "output_type": "stream",
     "text": [
      "Epoch 0: 100%|██████████| 16/16 [00:00<00:00, 25.11it/s, train_loss_step=48.60]\n",
      "Epoch 0: 100%|██████████| 16/16 [00:00<00:00, 34.34it/s, train_loss_step=11.40, val_loss=13.20, val_price_loss=6.05e+9, val_category_loss=7.150, val_accuracy=0.454, val_rmse=7.51e+4, train_loss_epoch=24.70]"
     ]
    },
    {
     "name": "stderr",
     "output_type": "stream",
     "text": [
      "Metric val_loss improved. New best score: 13.204\n"
     ]
    },
    {
     "name": "stdout",
     "output_type": "stream",
     "text": [
      "Epoch 1: 100%|██████████| 16/16 [00:00<00:00, 30.86it/s, train_loss_step=6.000, val_loss=10.30, val_price_loss=5.88e+9, val_category_loss=4.450, val_accuracy=0.546, val_rmse=7.58e+4, train_loss_epoch=8.800]"
     ]
    },
    {
     "name": "stderr",
     "output_type": "stream",
     "text": [
      "Metric val_loss improved by 2.868 >= min_delta = 0.0001. New best score: 10.336\n"
     ]
    },
    {
     "name": "stdout",
     "output_type": "stream",
     "text": [
      "Epoch 2: 100%|██████████| 16/16 [00:00<00:00, 32.68it/s, train_loss_step=5.060, val_loss=7.750, val_price_loss=5.85e+9, val_category_loss=1.910, val_accuracy=0.546, val_rmse=7.7e+4, train_loss_epoch=8.090] "
     ]
    },
    {
     "name": "stderr",
     "output_type": "stream",
     "text": [
      "Metric val_loss improved by 2.581 >= min_delta = 0.0001. New best score: 7.755\n"
     ]
    },
    {
     "name": "stdout",
     "output_type": "stream",
     "text": [
      "Epoch 3: 100%|██████████| 16/16 [00:00<00:00, 29.75it/s, train_loss_step=6.620, val_loss=7.190, val_price_loss=5.86e+9, val_category_loss=1.330, val_accuracy=0.596, val_rmse=7.47e+4, train_loss_epoch=8.070]"
     ]
    },
    {
     "name": "stderr",
     "output_type": "stream",
     "text": [
      "Metric val_loss improved by 0.568 >= min_delta = 0.0001. New best score: 7.187\n"
     ]
    },
    {
     "name": "stdout",
     "output_type": "stream",
     "text": [
      "Epoch 5: 100%|██████████| 16/16 [00:00<00:00, 32.19it/s, train_loss_step=5.580, val_loss=6.950, val_price_loss=5.84e+9, val_category_loss=1.110, val_accuracy=0.642, val_rmse=7.32e+4, train_loss_epoch=7.620]"
     ]
    },
    {
     "name": "stderr",
     "output_type": "stream",
     "text": [
      "Metric val_loss improved by 0.240 >= min_delta = 0.0001. New best score: 6.947\n"
     ]
    },
    {
     "name": "stdout",
     "output_type": "stream",
     "text": [
      "Epoch 10: 100%|██████████| 16/16 [00:00<00:00, 32.18it/s, train_loss_step=5.740, val_loss=7.770, val_price_loss=5.88e+9, val_category_loss=1.890, val_accuracy=0.628, val_rmse=7.63e+4, train_loss_epoch=7.640]"
     ]
    },
    {
     "name": "stderr",
     "output_type": "stream",
     "text": [
      "Monitored metric val_loss did not improve in the last 5 records. Best score: 6.947. Signaling Trainer to stop.\n"
     ]
    },
    {
     "name": "stdout",
     "output_type": "stream",
     "text": [
      "Epoch 10: 100%|██████████| 16/16 [00:00<00:00, 17.16it/s, train_loss_step=5.740, val_loss=7.770, val_price_loss=5.88e+9, val_category_loss=1.890, val_accuracy=0.628, val_rmse=7.63e+4, train_loss_epoch=7.640]"
     ]
    },
    {
     "name": "stderr",
     "output_type": "stream",
     "text": [
      "[I 2024-04-28 23:53:02,447] Trial 41 finished with value: 7.768589496612549 and parameters: {'num_layers': 1, 'hidden_dim': 512, 'embedding_dim': 5, 'lr': 0.017903068456701143, 'optimizer_type': 'Adam', 'relu_type': 'ReLU', 'droupoutrate': 0.37601723541765353}. Best is trial 32 with value: 6.927556991577148.\n",
      "GPU available: True (cuda), used: True\n",
      "TPU available: False, using: 0 TPU cores\n",
      "IPU available: False, using: 0 IPUs\n",
      "HPU available: False, using: 0 HPUs\n",
      "LOCAL_RANK: 0 - CUDA_VISIBLE_DEVICES: [0]\n",
      "\n",
      "  | Name            | Type       | Params\n",
      "-----------------------------------------------\n",
      "0 | embeddings      | ModuleList | 1.6 K \n",
      "1 | fc              | Sequential | 672 K \n",
      "2 | output_category | Sequential | 534 K \n",
      "3 | output_price    | Sequential | 525 K \n",
      "-----------------------------------------------\n",
      "1.7 M     Trainable params\n",
      "0         Non-trainable params\n",
      "1.7 M     Total params\n",
      "6.933     Total estimated model params size (MB)\n"
     ]
    },
    {
     "name": "stdout",
     "output_type": "stream",
     "text": [
      "\n",
      "Number of embedding layers: 36\n",
      "Epoch 0: 100%|██████████| 16/16 [00:00<00:00, 30.16it/s, train_loss_step=10.10, val_loss=12.20, val_price_loss=6.01e+9, val_category_loss=6.210, val_accuracy=0.344, val_rmse=6.48e+4, train_loss_epoch=20.50]"
     ]
    },
    {
     "name": "stderr",
     "output_type": "stream",
     "text": [
      "Metric val_loss improved. New best score: 12.225\n"
     ]
    },
    {
     "name": "stdout",
     "output_type": "stream",
     "text": [
      "Epoch 1: 100%|██████████| 16/16 [00:00<00:00, 32.41it/s, train_loss_step=17.80, val_loss=8.020, val_price_loss=6.46e+9, val_category_loss=1.550, val_accuracy=0.560, val_rmse=7.21e+4, train_loss_epoch=11.30]"
     ]
    },
    {
     "name": "stderr",
     "output_type": "stream",
     "text": [
      "Metric val_loss improved by 4.210 >= min_delta = 0.0001. New best score: 8.015\n"
     ]
    },
    {
     "name": "stdout",
     "output_type": "stream",
     "text": [
      "Epoch 2: 100%|██████████| 16/16 [00:00<00:00, 31.43it/s, train_loss_step=9.590, val_loss=7.120, val_price_loss=5.95e+9, val_category_loss=1.170, val_accuracy=0.624, val_rmse=7.12e+4, train_loss_epoch=9.340]"
     ]
    },
    {
     "name": "stderr",
     "output_type": "stream",
     "text": [
      "Metric val_loss improved by 0.893 >= min_delta = 0.0001. New best score: 7.122\n"
     ]
    },
    {
     "name": "stdout",
     "output_type": "stream",
     "text": [
      "Epoch 4: 100%|██████████| 16/16 [00:00<00:00, 33.56it/s, train_loss_step=8.400, val_loss=6.740, val_price_loss=5.85e+9, val_category_loss=0.890, val_accuracy=0.702, val_rmse=7.74e+4, train_loss_epoch=8.150]"
     ]
    },
    {
     "name": "stderr",
     "output_type": "stream",
     "text": [
      "Metric val_loss improved by 0.382 >= min_delta = 0.0001. New best score: 6.741\n"
     ]
    },
    {
     "name": "stdout",
     "output_type": "stream",
     "text": [
      "Epoch 9: 100%|██████████| 16/16 [00:00<00:00, 32.99it/s, train_loss_step=4.460, val_loss=8.260, val_price_loss=7.07e+9, val_category_loss=1.190, val_accuracy=0.674, val_rmse=8.33e+4, train_loss_epoch=7.840]"
     ]
    },
    {
     "name": "stderr",
     "output_type": "stream",
     "text": [
      "Monitored metric val_loss did not improve in the last 5 records. Best score: 6.741. Signaling Trainer to stop.\n"
     ]
    },
    {
     "name": "stdout",
     "output_type": "stream",
     "text": [
      "Epoch 9: 100%|██████████| 16/16 [00:00<00:00, 24.65it/s, train_loss_step=4.460, val_loss=8.260, val_price_loss=7.07e+9, val_category_loss=1.190, val_accuracy=0.674, val_rmse=8.33e+4, train_loss_epoch=7.840]"
     ]
    },
    {
     "name": "stderr",
     "output_type": "stream",
     "text": [
      "[I 2024-04-28 23:53:09,265] Trial 42 finished with value: 8.261663436889648 and parameters: {'num_layers': 1, 'hidden_dim': 512, 'embedding_dim': 7, 'lr': 0.035517912712437975, 'optimizer_type': 'Adam', 'relu_type': 'ReLU', 'droupoutrate': 0.3379150699622863}. Best is trial 32 with value: 6.927556991577148.\n"
     ]
    },
    {
     "name": "stdout",
     "output_type": "stream",
     "text": [
      "\n"
     ]
    },
    {
     "name": "stderr",
     "output_type": "stream",
     "text": [
      "GPU available: True (cuda), used: True\n",
      "TPU available: False, using: 0 TPU cores\n",
      "IPU available: False, using: 0 IPUs\n",
      "HPU available: False, using: 0 HPUs\n",
      "LOCAL_RANK: 0 - CUDA_VISIBLE_DEVICES: [0]\n",
      "\n",
      "  | Name            | Type       | Params\n",
      "-----------------------------------------------\n",
      "0 | embeddings      | ModuleList | 1.2 K \n",
      "1 | fc              | Sequential | 635 K \n",
      "2 | output_category | Sequential | 534 K \n",
      "3 | output_price    | Sequential | 525 K \n",
      "-----------------------------------------------\n",
      "1.7 M     Trainable params\n",
      "0         Non-trainable params\n",
      "1.7 M     Total params\n",
      "6.784     Total estimated model params size (MB)\n"
     ]
    },
    {
     "name": "stdout",
     "output_type": "stream",
     "text": [
      "Number of embedding layers: 36\n",
      "Epoch 0: 100%|██████████| 16/16 [00:00<00:00, 30.99it/s, train_loss_step=8.720, val_loss=17.30, val_price_loss=6.25e+9, val_category_loss=11.10, val_accuracy=0.390, val_rmse=7.78e+4, train_loss_epoch=23.30]"
     ]
    },
    {
     "name": "stderr",
     "output_type": "stream",
     "text": [
      "Metric val_loss improved. New best score: 17.313\n"
     ]
    },
    {
     "name": "stdout",
     "output_type": "stream",
     "text": [
      "Epoch 1: 100%|██████████| 16/16 [00:00<00:00, 31.93it/s, train_loss_step=5.780, val_loss=7.590, val_price_loss=5.99e+9, val_category_loss=1.600, val_accuracy=0.583, val_rmse=7.34e+4, train_loss_epoch=9.030]"
     ]
    },
    {
     "name": "stderr",
     "output_type": "stream",
     "text": [
      "Metric val_loss improved by 9.724 >= min_delta = 0.0001. New best score: 7.588\n"
     ]
    },
    {
     "name": "stdout",
     "output_type": "stream",
     "text": [
      "Epoch 2: 100%|██████████| 16/16 [00:00<00:00, 31.80it/s, train_loss_step=6.000, val_loss=7.010, val_price_loss=5.96e+9, val_category_loss=1.050, val_accuracy=0.702, val_rmse=7.59e+4, train_loss_epoch=8.390]"
     ]
    },
    {
     "name": "stderr",
     "output_type": "stream",
     "text": [
      "Metric val_loss improved by 0.578 >= min_delta = 0.0001. New best score: 7.010\n"
     ]
    },
    {
     "name": "stdout",
     "output_type": "stream",
     "text": [
      "Epoch 4: 100%|██████████| 16/16 [00:00<00:00, 31.67it/s, train_loss_step=6.670, val_loss=6.710, val_price_loss=5.84e+9, val_category_loss=0.867, val_accuracy=0.734, val_rmse=7.46e+4, train_loss_epoch=7.810]"
     ]
    },
    {
     "name": "stderr",
     "output_type": "stream",
     "text": [
      "Metric val_loss improved by 0.304 >= min_delta = 0.0001. New best score: 6.706\n"
     ]
    },
    {
     "name": "stdout",
     "output_type": "stream",
     "text": [
      "Epoch 9: 100%|██████████| 16/16 [00:00<00:00, 32.17it/s, train_loss_step=7.370, val_loss=7.410, val_price_loss=6.36e+9, val_category_loss=1.050, val_accuracy=0.752, val_rmse=7.49e+4, train_loss_epoch=7.670]"
     ]
    },
    {
     "name": "stderr",
     "output_type": "stream",
     "text": [
      "Monitored metric val_loss did not improve in the last 5 records. Best score: 6.706. Signaling Trainer to stop.\n"
     ]
    },
    {
     "name": "stdout",
     "output_type": "stream",
     "text": [
      "Epoch 9: 100%|██████████| 16/16 [00:00<00:00, 24.77it/s, train_loss_step=7.370, val_loss=7.410, val_price_loss=6.36e+9, val_category_loss=1.050, val_accuracy=0.752, val_rmse=7.49e+4, train_loss_epoch=7.670]"
     ]
    },
    {
     "name": "stderr",
     "output_type": "stream",
     "text": [
      "[I 2024-04-28 23:53:16,097] Trial 43 finished with value: 7.407287120819092 and parameters: {'num_layers': 1, 'hidden_dim': 512, 'embedding_dim': 5, 'lr': 0.05291991378118191, 'optimizer_type': 'Adam', 'relu_type': 'ReLU', 'droupoutrate': 0.3904729604511306}. Best is trial 32 with value: 6.927556991577148.\n"
     ]
    },
    {
     "name": "stdout",
     "output_type": "stream",
     "text": [
      "\n"
     ]
    },
    {
     "name": "stderr",
     "output_type": "stream",
     "text": [
      "GPU available: True (cuda), used: True\n",
      "TPU available: False, using: 0 TPU cores\n",
      "IPU available: False, using: 0 IPUs\n",
      "HPU available: False, using: 0 HPUs\n",
      "LOCAL_RANK: 0 - CUDA_VISIBLE_DEVICES: [0]\n",
      "\n",
      "  | Name            | Type       | Params\n",
      "-----------------------------------------------\n",
      "0 | embeddings      | ModuleList | 1.4 K \n",
      "1 | fc              | Sequential | 1.7 M \n",
      "2 | output_category | Sequential | 534 K \n",
      "3 | output_price    | Sequential | 525 K \n",
      "-----------------------------------------------\n",
      "2.8 M     Trainable params\n",
      "0         Non-trainable params\n",
      "2.8 M     Total params\n",
      "11.057    Total estimated model params size (MB)\n"
     ]
    },
    {
     "name": "stdout",
     "output_type": "stream",
     "text": [
      "Number of embedding layers: 36\n",
      "Epoch 0: 100%|██████████| 16/16 [00:00<00:00, 28.65it/s, train_loss_step=18.00, val_loss=17.20, val_price_loss=1.15e+10, val_category_loss=5.690, val_accuracy=0.229, val_rmse=1.16e+5, train_loss_epoch=2.06e+4]"
     ]
    },
    {
     "name": "stderr",
     "output_type": "stream",
     "text": [
      "Metric val_loss improved. New best score: 17.196\n"
     ]
    },
    {
     "name": "stdout",
     "output_type": "stream",
     "text": [
      "Epoch 1: 100%|██████████| 16/16 [00:00<00:00, 29.87it/s, train_loss_step=17.00, val_loss=12.40, val_price_loss=1.02e+10, val_category_loss=2.170, val_accuracy=0.266, val_rmse=7.26e+4, train_loss_epoch=16.90]  "
     ]
    },
    {
     "name": "stderr",
     "output_type": "stream",
     "text": [
      "Metric val_loss improved by 4.838 >= min_delta = 0.0001. New best score: 12.358\n"
     ]
    },
    {
     "name": "stdout",
     "output_type": "stream",
     "text": [
      "Epoch 2: 100%|██████████| 16/16 [00:00<00:00, 31.15it/s, train_loss_step=11.70, val_loss=9.540, val_price_loss=7.33e+9, val_category_loss=2.210, val_accuracy=0.271, val_rmse=9.14e+4, train_loss_epoch=12.70] "
     ]
    },
    {
     "name": "stderr",
     "output_type": "stream",
     "text": [
      "Metric val_loss improved by 2.815 >= min_delta = 0.0001. New best score: 9.543\n"
     ]
    },
    {
     "name": "stdout",
     "output_type": "stream",
     "text": [
      "Epoch 3: 100%|██████████| 16/16 [00:00<00:00, 34.98it/s, train_loss_step=11.00, val_loss=9.540, val_price_loss=7.33e+9, val_category_loss=2.210, val_accuracy=0.271, val_rmse=9.14e+4, train_loss_epoch=12.70]"
     ]
    },
    {
     "name": "stderr",
     "output_type": "stream",
     "text": [
      "[I 2024-04-28 23:53:19,689] Trial 44 pruned. Trial was pruned at epoch 3.\n"
     ]
    },
    {
     "name": "stdout",
     "output_type": "stream",
     "text": [
      "Number of embedding layers: 36\n"
     ]
    },
    {
     "name": "stderr",
     "output_type": "stream",
     "text": [
      "GPU available: True (cuda), used: True\n",
      "TPU available: False, using: 0 TPU cores\n",
      "IPU available: False, using: 0 IPUs\n",
      "HPU available: False, using: 0 HPUs\n",
      "LOCAL_RANK: 0 - CUDA_VISIBLE_DEVICES: [0]\n",
      "\n",
      "  | Name            | Type       | Params\n",
      "-----------------------------------------------\n",
      "0 | embeddings      | ModuleList | 2.1 K \n",
      "1 | fc              | Sequential | 31.3 K\n",
      "2 | output_category | Sequential | 9.4 K \n",
      "3 | output_price    | Sequential | 8.3 K \n",
      "-----------------------------------------------\n",
      "51.1 K    Trainable params\n",
      "0         Non-trainable params\n",
      "51.1 K    Total params\n",
      "0.204     Total estimated model params size (MB)\n"
     ]
    },
    {
     "name": "stdout",
     "output_type": "stream",
     "text": [
      "Epoch 0: 100%|██████████| 16/16 [00:00<00:00, 38.83it/s, train_loss_step=8.880, val_loss=23.50, val_price_loss=6.25e+9, val_category_loss=17.30, val_accuracy=0.261, val_rmse=7.44e+4, train_loss_epoch=30.30]"
     ]
    },
    {
     "name": "stderr",
     "output_type": "stream",
     "text": [
      "Metric val_loss improved. New best score: 23.549\n"
     ]
    },
    {
     "name": "stdout",
     "output_type": "stream",
     "text": [
      "Epoch 1: 100%|██████████| 16/16 [00:00<00:00, 41.86it/s, train_loss_step=8.010, val_loss=23.50, val_price_loss=6.25e+9, val_category_loss=17.30, val_accuracy=0.261, val_rmse=7.44e+4, train_loss_epoch=30.30]"
     ]
    },
    {
     "name": "stderr",
     "output_type": "stream",
     "text": [
      "[I 2024-04-28 23:53:20,679] Trial 45 pruned. Trial was pruned at epoch 1.\n",
      "GPU available: True (cuda), used: True\n"
     ]
    },
    {
     "name": "stdout",
     "output_type": "stream",
     "text": [
      "Number of embedding layers: 36\n"
     ]
    },
    {
     "name": "stderr",
     "output_type": "stream",
     "text": [
      "TPU available: False, using: 0 TPU cores\n",
      "IPU available: False, using: 0 IPUs\n",
      "HPU available: False, using: 0 HPUs\n",
      "LOCAL_RANK: 0 - CUDA_VISIBLE_DEVICES: [0]\n",
      "\n",
      "  | Name            | Type       | Params\n",
      "-----------------------------------------------\n",
      "0 | embeddings      | ModuleList | 1.8 K \n",
      "1 | fc              | Sequential | 1.7 M \n",
      "2 | output_category | Sequential | 534 K \n",
      "3 | output_price    | Sequential | 525 K \n",
      "-----------------------------------------------\n",
      "2.8 M     Trainable params\n",
      "0         Non-trainable params\n",
      "2.8 M     Total params\n",
      "11.206    Total estimated model params size (MB)\n"
     ]
    },
    {
     "name": "stdout",
     "output_type": "stream",
     "text": [
      "Epoch 0: 100%|██████████| 16/16 [00:00<00:00, 41.78it/s, train_loss_step=41.80]"
     ]
    },
    {
     "name": "stderr",
     "output_type": "stream",
     "text": [
      "[I 2024-04-28 23:53:21,241] Trial 46 pruned. Trial was pruned at epoch 0.\n"
     ]
    },
    {
     "name": "stdout",
     "output_type": "stream",
     "text": [
      "Number of embedding layers: 36\n",
      "Epoch 1: 100%|██████████| 16/16 [00:01<00:00, 15.47it/s, train_loss_step=8.010, val_loss=23.50, val_price_loss=6.25e+9, val_category_loss=17.30, val_accuracy=0.261, val_rmse=7.44e+4, train_loss_epoch=30.30]\n",
      "Epoch 0: 100%|██████████| 16/16 [00:00<00:00, 33.58it/s, train_loss_step=41.80]\n"
     ]
    },
    {
     "name": "stderr",
     "output_type": "stream",
     "text": [
      "GPU available: True (cuda), used: True\n",
      "TPU available: False, using: 0 TPU cores\n",
      "IPU available: False, using: 0 IPUs\n",
      "HPU available: False, using: 0 HPUs\n",
      "LOCAL_RANK: 0 - CUDA_VISIBLE_DEVICES: [0]\n",
      "\n",
      "  | Name            | Type       | Params\n",
      "-----------------------------------------------\n",
      "0 | embeddings      | ModuleList | 1.2 K \n",
      "1 | fc              | Sequential | 186 K \n",
      "2 | output_category | Sequential | 135 K \n",
      "3 | output_price    | Sequential | 131 K \n",
      "-----------------------------------------------\n",
      "455 K     Trainable params\n",
      "0         Non-trainable params\n",
      "455 K     Total params\n",
      "1.821     Total estimated model params size (MB)\n"
     ]
    },
    {
     "name": "stdout",
     "output_type": "stream",
     "text": [
      "Epoch 0: 100%|██████████| 16/16 [00:00<00:00, 39.71it/s, train_loss_step=11.50]"
     ]
    },
    {
     "name": "stderr",
     "output_type": "stream",
     "text": [
      "[I 2024-04-28 23:53:21,815] Trial 47 pruned. Trial was pruned at epoch 0.\n"
     ]
    },
    {
     "name": "stdout",
     "output_type": "stream",
     "text": [
      "Number of embedding layers: 36\n"
     ]
    },
    {
     "name": "stderr",
     "output_type": "stream",
     "text": [
      "GPU available: True (cuda), used: True\n",
      "TPU available: False, using: 0 TPU cores\n",
      "IPU available: False, using: 0 IPUs\n",
      "HPU available: False, using: 0 HPUs\n",
      "LOCAL_RANK: 0 - CUDA_VISIBLE_DEVICES: [0]\n",
      "\n",
      "  | Name            | Type       | Params\n",
      "-----------------------------------------------\n",
      "0 | embeddings      | ModuleList | 1.6 K \n",
      "1 | fc              | Sequential | 2.4 M \n",
      "2 | output_category | Sequential | 2.1 M \n",
      "3 | output_price    | Sequential | 2.1 M \n",
      "-----------------------------------------------\n",
      "6.6 M     Trainable params\n",
      "0         Non-trainable params\n",
      "6.6 M     Total params\n",
      "26.442    Total estimated model params size (MB)\n"
     ]
    },
    {
     "name": "stdout",
     "output_type": "stream",
     "text": [
      "Epoch 0: 100%|██████████| 16/16 [00:00<00:00, 32.70it/s, train_loss_step=49.00]"
     ]
    },
    {
     "name": "stderr",
     "output_type": "stream",
     "text": [
      "[I 2024-04-28 23:53:22,551] Trial 48 pruned. Trial was pruned at epoch 0.\n"
     ]
    },
    {
     "name": "stdout",
     "output_type": "stream",
     "text": [
      "Number of embedding layers: 36\n"
     ]
    },
    {
     "name": "stderr",
     "output_type": "stream",
     "text": [
      "GPU available: True (cuda), used: True\n",
      "TPU available: False, using: 0 TPU cores\n",
      "IPU available: False, using: 0 IPUs\n",
      "HPU available: False, using: 0 HPUs\n"
     ]
    },
    {
     "name": "stdout",
     "output_type": "stream",
     "text": [
      "Epoch 0: 100%|██████████| 16/16 [00:00<00:00, 24.94it/s, train_loss_step=49.00]\n"
     ]
    },
    {
     "name": "stderr",
     "output_type": "stream",
     "text": [
      "LOCAL_RANK: 0 - CUDA_VISIBLE_DEVICES: [0]\n",
      "\n",
      "  | Name            | Type       | Params\n",
      "-----------------------------------------------\n",
      "0 | embeddings      | ModuleList | 2.3 K \n",
      "1 | fc              | Sequential | 1.8 M \n",
      "2 | output_category | Sequential | 534 K \n",
      "3 | output_price    | Sequential | 525 K \n",
      "-----------------------------------------------\n",
      "2.8 M     Trainable params\n",
      "0         Non-trainable params\n",
      "2.8 M     Total params\n",
      "11.355    Total estimated model params size (MB)\n"
     ]
    },
    {
     "name": "stdout",
     "output_type": "stream",
     "text": [
      "Epoch 0: 100%|██████████| 16/16 [03:54<00:00,  0.07it/s, train_loss_step=54.70]\n",
      "Epoch 0: 100%|██████████| 16/16 [03:53<00:00,  0.07it/s, train_loss_step=106.0]\n",
      "Epoch 7: 100%|██████████| 16/16 [02:43<00:00,  0.10it/s, train_loss_step=7.830, val_loss=9.350, val_price_loss=5.9e+9, val_category_loss=3.440, val_accuracy=0.427, val_rmse=7.71e+4, train_loss_epoch=8.200]\n",
      "Epoch 0: 100%|██████████| 16/16 [02:42<00:00,  0.10it/s, train_loss_step=40.30]\n",
      "Epoch 1: 100%|██████████| 16/16 [02:40<00:00,  0.10it/s, train_loss_step=7.390, val_loss=30.30, val_price_loss=1.16e+10, val_category_loss=18.60, val_accuracy=0.358, val_rmse=1.1e+5, train_loss_epoch=28.60]\n",
      "Epoch 7: 100%|██████████| 16/16 [02:00<00:00,  0.13it/s, train_loss_step=9.920, val_loss=14.90, val_price_loss=8.19e+9, val_category_loss=6.710, val_accuracy=0.229, val_rmse=8.84e+4, train_loss_epoch=8.860]\n",
      "Epoch 0: 100%|██████████| 16/16 [01:44<00:00,  0.15it/s, train_loss_step=36.20]\n",
      "Epoch 0: 100%|██████████| 16/16 [01:35<00:00,  0.17it/s, train_loss_step=31.90]\n",
      "Epoch 0: 100%|██████████| 16/16 [00:29<00:00,  0.54it/s, train_loss_step=30.80]\n",
      "Epoch 3: 100%|██████████| 16/16 [00:03<00:00,  4.40it/s, train_loss_step=11.00, val_loss=9.540, val_price_loss=7.33e+9, val_category_loss=2.210, val_accuracy=0.271, val_rmse=9.14e+4, train_loss_epoch=12.70]\n",
      "Epoch 0: 100%|██████████| 16/16 [00:01<00:00, 11.07it/s, train_loss_step=11.50]\n",
      "Epoch 0: 100%|██████████| 16/16 [00:00<00:00, 33.92it/s, train_loss_step=14.70] "
     ]
    },
    {
     "name": "stderr",
     "output_type": "stream",
     "text": [
      "[I 2024-04-28 23:53:23,201] Trial 49 pruned. Trial was pruned at epoch 0.\n"
     ]
    },
    {
     "name": "stdout",
     "output_type": "stream",
     "text": [
      "Number of embedding layers: 36\n"
     ]
    },
    {
     "name": "stderr",
     "output_type": "stream",
     "text": [
      "GPU available: True (cuda), used: True\n",
      "TPU available: False, using: 0 TPU cores\n",
      "IPU available: False, using: 0 IPUs\n",
      "HPU available: False, using: 0 HPUs\n",
      "LOCAL_RANK: 0 - CUDA_VISIBLE_DEVICES: [0]\n",
      "\n",
      "  | Name            | Type       | Params\n",
      "-----------------------------------------------\n",
      "0 | embeddings      | ModuleList | 1.4 K \n",
      "1 | fc              | Sequential | 4.9 M \n",
      "2 | output_category | Sequential | 534 K \n",
      "3 | output_price    | Sequential | 525 K \n",
      "-----------------------------------------------\n",
      "5.9 M     Trainable params\n",
      "0         Non-trainable params\n",
      "5.9 M     Total params\n",
      "23.652    Total estimated model params size (MB)\n"
     ]
    },
    {
     "name": "stdout",
     "output_type": "stream",
     "text": [
      "Epoch 0: 100%|██████████| 16/16 [00:00<00:00, 41.89it/s, train_loss_step=19.40] "
     ]
    },
    {
     "name": "stderr",
     "output_type": "stream",
     "text": [
      "[I 2024-04-28 23:53:23,822] Trial 50 pruned. Trial was pruned at epoch 0.\n"
     ]
    },
    {
     "name": "stdout",
     "output_type": "stream",
     "text": [
      "Epoch 0: 100%|██████████| 16/16 [00:00<00:00, 33.21it/s, train_loss_step=19.40]\n"
     ]
    },
    {
     "name": "stderr",
     "output_type": "stream",
     "text": [
      "GPU available: True (cuda), used: True\n"
     ]
    },
    {
     "name": "stdout",
     "output_type": "stream",
     "text": [
      "Number of embedding layers: 36\n"
     ]
    },
    {
     "name": "stderr",
     "output_type": "stream",
     "text": [
      "TPU available: False, using: 0 TPU cores\n",
      "IPU available: False, using: 0 IPUs\n",
      "HPU available: False, using: 0 HPUs\n",
      "LOCAL_RANK: 0 - CUDA_VISIBLE_DEVICES: [0]\n",
      "\n",
      "  | Name            | Type       | Params\n",
      "-----------------------------------------------\n",
      "0 | embeddings      | ModuleList | 1.2 K \n",
      "1 | fc              | Sequential | 635 K \n",
      "2 | output_category | Sequential | 534 K \n",
      "3 | output_price    | Sequential | 525 K \n",
      "-----------------------------------------------\n",
      "1.7 M     Trainable params\n",
      "0         Non-trainable params\n",
      "1.7 M     Total params\n",
      "6.784     Total estimated model params size (MB)\n"
     ]
    },
    {
     "name": "stdout",
     "output_type": "stream",
     "text": [
      "Epoch 0: 100%|██████████| 16/16 [00:00<00:00, 38.18it/s, train_loss_step=15.90, val_loss=19.20, val_price_loss=1.32e+10, val_category_loss=5.910, val_accuracy=0.422, val_rmse=1.11e+5, train_loss_epoch=27.60]"
     ]
    },
    {
     "name": "stderr",
     "output_type": "stream",
     "text": [
      "Metric val_loss improved. New best score: 19.152\n"
     ]
    },
    {
     "name": "stdout",
     "output_type": "stream",
     "text": [
      "Epoch 1: 100%|██████████| 16/16 [00:00<00:00, 34.91it/s, train_loss_step=7.140, val_loss=11.00, val_price_loss=6.41e+9, val_category_loss=4.600, val_accuracy=0.500, val_rmse=8.08e+4, train_loss_epoch=10.50] "
     ]
    },
    {
     "name": "stderr",
     "output_type": "stream",
     "text": [
      "Metric val_loss improved by 8.144 >= min_delta = 0.0001. New best score: 11.008\n"
     ]
    },
    {
     "name": "stdout",
     "output_type": "stream",
     "text": [
      "Epoch 2: 100%|██████████| 16/16 [00:00<00:00, 34.11it/s, train_loss_step=6.210, val_loss=7.910, val_price_loss=6.45e+9, val_category_loss=1.460, val_accuracy=0.615, val_rmse=7.79e+4, train_loss_epoch=8.240]"
     ]
    },
    {
     "name": "stderr",
     "output_type": "stream",
     "text": [
      "Metric val_loss improved by 3.099 >= min_delta = 0.0001. New best score: 7.908\n"
     ]
    },
    {
     "name": "stdout",
     "output_type": "stream",
     "text": [
      "Epoch 4: 100%|██████████| 16/16 [00:00<00:00, 30.33it/s, train_loss_step=10.30, val_loss=7.680, val_price_loss=6.68e+9, val_category_loss=0.998, val_accuracy=0.716, val_rmse=8.32e+4, train_loss_epoch=7.870]"
     ]
    },
    {
     "name": "stderr",
     "output_type": "stream",
     "text": [
      "Metric val_loss improved by 0.227 >= min_delta = 0.0001. New best score: 7.681\n"
     ]
    },
    {
     "name": "stdout",
     "output_type": "stream",
     "text": [
      "Epoch 5: 100%|██████████| 16/16 [00:00<00:00, 30.22it/s, train_loss_step=6.710, val_loss=7.160, val_price_loss=6.18e+9, val_category_loss=0.987, val_accuracy=0.711, val_rmse=7.38e+4, train_loss_epoch=7.790]"
     ]
    },
    {
     "name": "stderr",
     "output_type": "stream",
     "text": [
      "Metric val_loss improved by 0.518 >= min_delta = 0.0001. New best score: 7.164\n"
     ]
    },
    {
     "name": "stdout",
     "output_type": "stream",
     "text": [
      "Epoch 10: 100%|██████████| 16/16 [00:00<00:00, 31.58it/s, train_loss_step=10.30, val_loss=7.720, val_price_loss=6.04e+9, val_category_loss=1.680, val_accuracy=0.569, val_rmse=78309.0, train_loss_epoch=7.910]"
     ]
    },
    {
     "name": "stderr",
     "output_type": "stream",
     "text": [
      "Monitored metric val_loss did not improve in the last 5 records. Best score: 7.164. Signaling Trainer to stop.\n"
     ]
    },
    {
     "name": "stdout",
     "output_type": "stream",
     "text": [
      "Epoch 10: 100%|██████████| 16/16 [00:00<00:00, 24.21it/s, train_loss_step=10.30, val_loss=7.720, val_price_loss=6.04e+9, val_category_loss=1.680, val_accuracy=0.569, val_rmse=78309.0, train_loss_epoch=7.910]"
     ]
    },
    {
     "name": "stderr",
     "output_type": "stream",
     "text": [
      "[I 2024-04-28 23:53:31,037] Trial 51 finished with value: 7.715743064880371 and parameters: {'num_layers': 1, 'hidden_dim': 512, 'embedding_dim': 5, 'lr': 0.018631649606785452, 'optimizer_type': 'Adam', 'relu_type': 'ReLU', 'droupoutrate': 0.34299223689718705}. Best is trial 32 with value: 6.927556991577148.\n"
     ]
    },
    {
     "name": "stdout",
     "output_type": "stream",
     "text": [
      "\n"
     ]
    },
    {
     "name": "stderr",
     "output_type": "stream",
     "text": [
      "GPU available: True (cuda), used: True\n",
      "TPU available: False, using: 0 TPU cores\n",
      "IPU available: False, using: 0 IPUs\n",
      "HPU available: False, using: 0 HPUs\n",
      "LOCAL_RANK: 0 - CUDA_VISIBLE_DEVICES: [0]\n",
      "\n",
      "  | Name            | Type       | Params\n",
      "-----------------------------------------------\n",
      "0 | embeddings      | ModuleList | 1.2 K \n",
      "1 | fc              | Sequential | 635 K \n",
      "2 | output_category | Sequential | 534 K \n",
      "3 | output_price    | Sequential | 525 K \n",
      "-----------------------------------------------\n",
      "1.7 M     Trainable params\n",
      "0         Non-trainable params\n",
      "1.7 M     Total params\n",
      "6.784     Total estimated model params size (MB)\n"
     ]
    },
    {
     "name": "stdout",
     "output_type": "stream",
     "text": [
      "Number of embedding layers: 36\n",
      "Epoch 0: 100%|██████████| 16/16 [00:00<00:00, 28.34it/s, train_loss_step=17.90, val_loss=20.70, val_price_loss=1.22e+10, val_category_loss=8.570, val_accuracy=0.317, val_rmse=1.12e+5, train_loss_epoch=23.00]"
     ]
    },
    {
     "name": "stderr",
     "output_type": "stream",
     "text": [
      "Metric val_loss improved. New best score: 20.725\n"
     ]
    },
    {
     "name": "stdout",
     "output_type": "stream",
     "text": [
      "Epoch 1: 100%|██████████| 16/16 [00:00<00:00, 31.58it/s, train_loss_step=13.90, val_loss=7.770, val_price_loss=5.92e+9, val_category_loss=1.850, val_accuracy=0.537, val_rmse=7.9e+4, train_loss_epoch=11.00]  "
     ]
    },
    {
     "name": "stderr",
     "output_type": "stream",
     "text": [
      "Metric val_loss improved by 12.957 >= min_delta = 0.0001. New best score: 7.769\n"
     ]
    },
    {
     "name": "stdout",
     "output_type": "stream",
     "text": [
      "Epoch 2: 100%|██████████| 16/16 [00:00<00:00, 32.55it/s, train_loss_step=10.30, val_loss=7.520, val_price_loss=6.41e+9, val_category_loss=1.110, val_accuracy=0.661, val_rmse=7.38e+4, train_loss_epoch=8.710]"
     ]
    },
    {
     "name": "stderr",
     "output_type": "stream",
     "text": [
      "Metric val_loss improved by 0.245 >= min_delta = 0.0001. New best score: 7.523\n"
     ]
    },
    {
     "name": "stdout",
     "output_type": "stream",
     "text": [
      "Epoch 4: 100%|██████████| 16/16 [00:00<00:00, 31.80it/s, train_loss_step=14.40, val_loss=7.320, val_price_loss=6.37e+9, val_category_loss=0.954, val_accuracy=0.711, val_rmse=7.15e+4, train_loss_epoch=7.970]"
     ]
    },
    {
     "name": "stderr",
     "output_type": "stream",
     "text": [
      "Metric val_loss improved by 0.199 >= min_delta = 0.0001. New best score: 7.324\n"
     ]
    },
    {
     "name": "stdout",
     "output_type": "stream",
     "text": [
      "Epoch 5: 100%|██████████| 16/16 [00:00<00:00, 30.91it/s, train_loss_step=6.590, val_loss=7.320, val_price_loss=6.36e+9, val_category_loss=0.961, val_accuracy=0.702, val_rmse=7.31e+4, train_loss_epoch=8.240]"
     ]
    },
    {
     "name": "stderr",
     "output_type": "stream",
     "text": [
      "Metric val_loss improved by 0.007 >= min_delta = 0.0001. New best score: 7.317\n"
     ]
    },
    {
     "name": "stdout",
     "output_type": "stream",
     "text": [
      "Epoch 6: 100%|██████████| 16/16 [00:00<00:00, 28.95it/s, train_loss_step=6.180, val_loss=6.800, val_price_loss=5.91e+9, val_category_loss=0.895, val_accuracy=0.688, val_rmse=7.11e+4, train_loss_epoch=7.760]"
     ]
    },
    {
     "name": "stderr",
     "output_type": "stream",
     "text": [
      "Metric val_loss improved by 0.514 >= min_delta = 0.0001. New best score: 6.803\n"
     ]
    },
    {
     "name": "stdout",
     "output_type": "stream",
     "text": [
      "Epoch 11: 100%|██████████| 16/16 [00:00<00:00, 33.35it/s, train_loss_step=14.20, val_loss=8.120, val_price_loss=6.79e+9, val_category_loss=1.330, val_accuracy=0.688, val_rmse=7.73e+4, train_loss_epoch=8.230]"
     ]
    },
    {
     "name": "stderr",
     "output_type": "stream",
     "text": [
      "Monitored metric val_loss did not improve in the last 5 records. Best score: 6.803. Signaling Trainer to stop.\n"
     ]
    },
    {
     "name": "stdout",
     "output_type": "stream",
     "text": [
      "Epoch 11: 100%|██████████| 16/16 [00:00<00:00, 25.61it/s, train_loss_step=14.20, val_loss=8.120, val_price_loss=6.79e+9, val_category_loss=1.330, val_accuracy=0.688, val_rmse=7.73e+4, train_loss_epoch=8.230]"
     ]
    },
    {
     "name": "stderr",
     "output_type": "stream",
     "text": [
      "[I 2024-04-28 23:53:39,173] Trial 52 finished with value: 8.119972229003906 and parameters: {'num_layers': 1, 'hidden_dim': 512, 'embedding_dim': 5, 'lr': 0.037998556737660394, 'optimizer_type': 'Adam', 'relu_type': 'ReLU', 'droupoutrate': 0.3737912987462695}. Best is trial 32 with value: 6.927556991577148.\n"
     ]
    },
    {
     "name": "stdout",
     "output_type": "stream",
     "text": [
      "\n",
      "Number of embedding layers: 36\n"
     ]
    },
    {
     "name": "stderr",
     "output_type": "stream",
     "text": [
      "GPU available: True (cuda), used: True\n",
      "TPU available: False, using: 0 TPU cores\n",
      "IPU available: False, using: 0 IPUs\n",
      "HPU available: False, using: 0 HPUs\n",
      "LOCAL_RANK: 0 - CUDA_VISIBLE_DEVICES: [0]\n",
      "\n",
      "  | Name            | Type       | Params\n",
      "-----------------------------------------------\n",
      "0 | embeddings      | ModuleList | 1.4 K \n",
      "1 | fc              | Sequential | 653 K \n",
      "2 | output_category | Sequential | 534 K \n",
      "3 | output_price    | Sequential | 525 K \n",
      "-----------------------------------------------\n",
      "1.7 M     Trainable params\n",
      "0         Non-trainable params\n",
      "1.7 M     Total params\n",
      "6.858     Total estimated model params size (MB)\n"
     ]
    },
    {
     "name": "stdout",
     "output_type": "stream",
     "text": [
      "Epoch 0: 100%|██████████| 16/16 [00:00<00:00, 31.83it/s, train_loss_step=25.10, val_loss=20.30, val_price_loss=1.66e+10, val_category_loss=3.730, val_accuracy=0.450, val_rmse=1.27e+5, train_loss_epoch=27.30]"
     ]
    },
    {
     "name": "stderr",
     "output_type": "stream",
     "text": [
      "Metric val_loss improved. New best score: 20.309\n"
     ]
    },
    {
     "name": "stdout",
     "output_type": "stream",
     "text": [
      "Epoch 1: 100%|██████████| 16/16 [00:00<00:00, 37.05it/s, train_loss_step=7.060, val_loss=20.30, val_price_loss=1.66e+10, val_category_loss=3.730, val_accuracy=0.450, val_rmse=1.27e+5, train_loss_epoch=27.30]"
     ]
    },
    {
     "name": "stderr",
     "output_type": "stream",
     "text": [
      "[I 2024-04-28 23:53:40,501] Trial 53 pruned. Trial was pruned at epoch 1.\n"
     ]
    },
    {
     "name": "stdout",
     "output_type": "stream",
     "text": [
      "Number of embedding layers: 36\n"
     ]
    },
    {
     "name": "stderr",
     "output_type": "stream",
     "text": [
      "GPU available: True (cuda), used: True\n",
      "TPU available: False, using: 0 TPU cores\n",
      "IPU available: False, using: 0 IPUs\n",
      "HPU available: False, using: 0 HPUs\n",
      "LOCAL_RANK: 0 - CUDA_VISIBLE_DEVICES: [0]\n",
      "\n",
      "  | Name            | Type       | Params\n",
      "-----------------------------------------------\n",
      "0 | embeddings      | ModuleList | 1.8 K \n",
      "1 | fc              | Sequential | 690 K \n",
      "2 | output_category | Sequential | 534 K \n",
      "3 | output_price    | Sequential | 525 K \n",
      "-----------------------------------------------\n",
      "1.8 M     Trainable params\n",
      "0         Non-trainable params\n",
      "1.8 M     Total params\n",
      "7.008     Total estimated model params size (MB)\n"
     ]
    },
    {
     "name": "stdout",
     "output_type": "stream",
     "text": [
      "Epoch 0: 100%|██████████| 16/16 [00:00<00:00, 37.05it/s, train_loss_step=35.20]"
     ]
    },
    {
     "name": "stderr",
     "output_type": "stream",
     "text": [
      "[I 2024-04-28 23:53:41,120] Trial 54 pruned. Trial was pruned at epoch 0.\n"
     ]
    },
    {
     "name": "stdout",
     "output_type": "stream",
     "text": [
      "Epoch 0: 100%|██████████| 16/16 [00:00<00:00, 29.99it/s, train_loss_step=35.20]\n"
     ]
    },
    {
     "name": "stderr",
     "output_type": "stream",
     "text": [
      "GPU available: True (cuda), used: True\n"
     ]
    },
    {
     "name": "stdout",
     "output_type": "stream",
     "text": [
      "Number of embedding layers: 36\n"
     ]
    },
    {
     "name": "stderr",
     "output_type": "stream",
     "text": [
      "TPU available: False, using: 0 TPU cores\n",
      "IPU available: False, using: 0 IPUs\n",
      "HPU available: False, using: 0 HPUs\n",
      "LOCAL_RANK: 0 - CUDA_VISIBLE_DEVICES: [0]\n",
      "\n",
      "  | Name            | Type       | Params\n",
      "-----------------------------------------------\n",
      "0 | embeddings      | ModuleList | 3.2 K \n",
      "1 | fc              | Sequential | 1.9 M \n",
      "2 | output_category | Sequential | 534 K \n",
      "3 | output_price    | Sequential | 525 K \n",
      "-----------------------------------------------\n",
      "2.9 M     Trainable params\n",
      "0         Non-trainable params\n",
      "2.9 M     Total params\n",
      "11.654    Total estimated model params size (MB)\n"
     ]
    },
    {
     "name": "stdout",
     "output_type": "stream",
     "text": [
      "Epoch 0: 100%|██████████| 16/16 [00:00<00:00, 32.31it/s, train_loss_step=12.60] "
     ]
    },
    {
     "name": "stderr",
     "output_type": "stream",
     "text": [
      "[I 2024-04-28 23:53:41,822] Trial 55 pruned. Trial was pruned at epoch 0.\n"
     ]
    },
    {
     "name": "stdout",
     "output_type": "stream",
     "text": [
      "Number of embedding layers: 36\n"
     ]
    },
    {
     "name": "stderr",
     "output_type": "stream",
     "text": [
      "GPU available: True (cuda), used: True\n",
      "TPU available: False, using: 0 TPU cores\n",
      "IPU available: False, using: 0 IPUs\n",
      "HPU available: False, using: 0 HPUs\n",
      "LOCAL_RANK: 0 - CUDA_VISIBLE_DEVICES: [0]\n",
      "\n",
      "  | Name            | Type       | Params\n",
      "-----------------------------------------------\n",
      "0 | embeddings      | ModuleList | 1.2 K \n",
      "1 | fc              | Sequential | 635 K \n",
      "2 | output_category | Sequential | 534 K \n",
      "3 | output_price    | Sequential | 525 K \n",
      "-----------------------------------------------\n",
      "1.7 M     Trainable params\n",
      "0         Non-trainable params\n",
      "1.7 M     Total params\n",
      "6.784     Total estimated model params size (MB)\n"
     ]
    },
    {
     "name": "stdout",
     "output_type": "stream",
     "text": [
      "Epoch 0: 100%|██████████| 16/16 [00:00<00:00, 33.73it/s, train_loss_step=18.20, val_loss=18.00, val_price_loss=1.24e+10, val_category_loss=5.680, val_accuracy=0.362, val_rmse=1.32e+5, train_loss_epoch=33.40]"
     ]
    },
    {
     "name": "stderr",
     "output_type": "stream",
     "text": [
      "Metric val_loss improved. New best score: 18.043\n"
     ]
    },
    {
     "name": "stdout",
     "output_type": "stream",
     "text": [
      "Epoch 1: 100%|██████████| 16/16 [00:00<00:00, 35.73it/s, train_loss_step=12.00, val_loss=10.20, val_price_loss=7.39e+9, val_category_loss=2.770, val_accuracy=0.394, val_rmse=9.7e+4, train_loss_epoch=10.90]  "
     ]
    },
    {
     "name": "stderr",
     "output_type": "stream",
     "text": [
      "Metric val_loss improved by 7.883 >= min_delta = 0.0001. New best score: 10.160\n"
     ]
    },
    {
     "name": "stdout",
     "output_type": "stream",
     "text": [
      "Epoch 2: 100%|██████████| 16/16 [00:00<00:00, 33.99it/s, train_loss_step=10.50, val_loss=7.660, val_price_loss=6.27e+9, val_category_loss=1.390, val_accuracy=0.555, val_rmse=6.09e+4, train_loss_epoch=9.130]"
     ]
    },
    {
     "name": "stderr",
     "output_type": "stream",
     "text": [
      "Metric val_loss improved by 2.501 >= min_delta = 0.0001. New best score: 7.659\n"
     ]
    },
    {
     "name": "stdout",
     "output_type": "stream",
     "text": [
      "Epoch 3: 100%|██████████| 16/16 [00:00<00:00, 32.66it/s, train_loss_step=13.20, val_loss=7.360, val_price_loss=6.11e+9, val_category_loss=1.260, val_accuracy=0.601, val_rmse=8.14e+4, train_loss_epoch=8.980]"
     ]
    },
    {
     "name": "stderr",
     "output_type": "stream",
     "text": [
      "Metric val_loss improved by 0.296 >= min_delta = 0.0001. New best score: 7.363\n"
     ]
    },
    {
     "name": "stdout",
     "output_type": "stream",
     "text": [
      "Epoch 8: 100%|██████████| 16/16 [00:00<00:00, 32.02it/s, train_loss_step=5.150, val_loss=7.030, val_price_loss=6.06e+9, val_category_loss=0.974, val_accuracy=0.706, val_rmse=7.44e+4, train_loss_epoch=7.910]"
     ]
    },
    {
     "name": "stderr",
     "output_type": "stream",
     "text": [
      "Metric val_loss improved by 0.331 >= min_delta = 0.0001. New best score: 7.032\n"
     ]
    },
    {
     "name": "stdout",
     "output_type": "stream",
     "text": [
      "Epoch 13: 100%|██████████| 16/16 [00:00<00:00, 32.76it/s, train_loss_step=9.170, val_loss=8.430, val_price_loss=6.51e+9, val_category_loss=1.910, val_accuracy=0.606, val_rmse=7.9e+4, train_loss_epoch=8.430] "
     ]
    },
    {
     "name": "stderr",
     "output_type": "stream",
     "text": [
      "Monitored metric val_loss did not improve in the last 5 records. Best score: 7.032. Signaling Trainer to stop.\n"
     ]
    },
    {
     "name": "stdout",
     "output_type": "stream",
     "text": [
      "Epoch 13: 100%|██████████| 16/16 [00:00<00:00, 24.23it/s, train_loss_step=9.170, val_loss=8.430, val_price_loss=6.51e+9, val_category_loss=1.910, val_accuracy=0.606, val_rmse=7.9e+4, train_loss_epoch=8.430]"
     ]
    },
    {
     "name": "stderr",
     "output_type": "stream",
     "text": [
      "[I 2024-04-28 23:53:51,033] Trial 56 finished with value: 8.425116539001465 and parameters: {'num_layers': 1, 'hidden_dim': 512, 'embedding_dim': 5, 'lr': 0.043064173395548994, 'optimizer_type': 'Adam', 'relu_type': 'ReLU', 'droupoutrate': 0.4513672847716623}. Best is trial 32 with value: 6.927556991577148.\n"
     ]
    },
    {
     "name": "stdout",
     "output_type": "stream",
     "text": [
      "\n"
     ]
    },
    {
     "name": "stderr",
     "output_type": "stream",
     "text": [
      "GPU available: True (cuda), used: True\n",
      "TPU available: False, using: 0 TPU cores\n",
      "IPU available: False, using: 0 IPUs\n",
      "HPU available: False, using: 0 HPUs\n",
      "LOCAL_RANK: 0 - CUDA_VISIBLE_DEVICES: [0]\n",
      "\n",
      "  | Name            | Type       | Params\n",
      "-----------------------------------------------\n",
      "0 | embeddings      | ModuleList | 1.6 K \n",
      "1 | fc              | Sequential | 993 K \n",
      "2 | output_category | Sequential | 135 K \n",
      "3 | output_price    | Sequential | 131 K \n",
      "-----------------------------------------------\n",
      "1.3 M     Trainable params\n",
      "0         Non-trainable params\n",
      "1.3 M     Total params\n",
      "5.049     Total estimated model params size (MB)\n"
     ]
    },
    {
     "name": "stdout",
     "output_type": "stream",
     "text": [
      "Number of embedding layers: 36\n",
      "Epoch 0: 100%|██████████| 16/16 [00:00<00:00, 40.21it/s, train_loss_step=33.40]"
     ]
    },
    {
     "name": "stderr",
     "output_type": "stream",
     "text": [
      "[I 2024-04-28 23:53:51,605] Trial 57 pruned. Trial was pruned at epoch 0.\n"
     ]
    },
    {
     "name": "stdout",
     "output_type": "stream",
     "text": [
      "Number of embedding layers: 36\n"
     ]
    },
    {
     "name": "stderr",
     "output_type": "stream",
     "text": [
      "GPU available: True (cuda), used: True\n",
      "TPU available: False, using: 0 TPU cores\n",
      "IPU available: False, using: 0 IPUs\n",
      "HPU available: False, using: 0 HPUs\n",
      "LOCAL_RANK: 0 - CUDA_VISIBLE_DEVICES: [0]\n",
      "\n",
      "  | Name            | Type       | Params\n",
      "-----------------------------------------------\n",
      "0 | embeddings      | ModuleList | 1.4 K \n",
      "1 | fc              | Sequential | 40.9 K\n",
      "2 | output_category | Sequential | 9.4 K \n",
      "3 | output_price    | Sequential | 8.3 K \n",
      "-----------------------------------------------\n",
      "60.0 K    Trainable params\n",
      "0         Non-trainable params\n",
      "60.0 K    Total params\n",
      "0.240     Total estimated model params size (MB)\n"
     ]
    },
    {
     "name": "stdout",
     "output_type": "stream",
     "text": [
      "Epoch 0: 100%|██████████| 16/16 [00:00<00:00, 27.05it/s, train_loss_step=33.40]\n",
      "Epoch 0: 100%|██████████| 16/16 [00:00<00:00, 38.14it/s, train_loss_step=46.80]"
     ]
    },
    {
     "name": "stderr",
     "output_type": "stream",
     "text": [
      "[I 2024-04-28 23:53:52,183] Trial 58 pruned. Trial was pruned at epoch 0.\n"
     ]
    },
    {
     "name": "stdout",
     "output_type": "stream",
     "text": [
      "Number of embedding layers: 36\n"
     ]
    },
    {
     "name": "stderr",
     "output_type": "stream",
     "text": [
      "GPU available: True (cuda), used: True\n",
      "TPU available: False, using: 0 TPU cores\n",
      "IPU available: False, using: 0 IPUs\n",
      "HPU available: False, using: 0 HPUs\n",
      "LOCAL_RANK: 0 - CUDA_VISIBLE_DEVICES: [0]\n",
      "\n",
      "  | Name            | Type       | Params\n",
      "-----------------------------------------------\n",
      "0 | embeddings      | ModuleList | 3.5 K \n",
      "1 | fc              | Sequential | 819 K \n",
      "2 | output_category | Sequential | 534 K \n",
      "3 | output_price    | Sequential | 525 K \n",
      "-----------------------------------------------\n",
      "1.9 M     Trainable params\n",
      "0         Non-trainable params\n",
      "1.9 M     Total params\n",
      "7.530     Total estimated model params size (MB)\n"
     ]
    },
    {
     "name": "stdout",
     "output_type": "stream",
     "text": [
      "Epoch 0: 100%|██████████| 16/16 [00:00<00:00, 32.67it/s, train_loss_step=14.20]"
     ]
    },
    {
     "name": "stderr",
     "output_type": "stream",
     "text": [
      "[I 2024-04-28 23:53:52,864] Trial 59 pruned. Trial was pruned at epoch 0.\n"
     ]
    },
    {
     "name": "stdout",
     "output_type": "stream",
     "text": [
      "Number of embedding layers: 36\n"
     ]
    },
    {
     "name": "stderr",
     "output_type": "stream",
     "text": [
      "GPU available: True (cuda), used: True\n",
      "TPU available: False, using: 0 TPU cores\n",
      "IPU available: False, using: 0 IPUs\n",
      "HPU available: False, using: 0 HPUs\n",
      "LOCAL_RANK: 0 - CUDA_VISIBLE_DEVICES: [0]\n",
      "\n",
      "  | Name            | Type       | Params\n",
      "-----------------------------------------------\n",
      "0 | embeddings      | ModuleList | 1.4 K \n",
      "1 | fc              | Sequential | 653 K \n",
      "2 | output_category | Sequential | 534 K \n",
      "3 | output_price    | Sequential | 525 K \n",
      "-----------------------------------------------\n",
      "1.7 M     Trainable params\n",
      "0         Non-trainable params\n",
      "1.7 M     Total params\n",
      "6.858     Total estimated model params size (MB)\n"
     ]
    },
    {
     "name": "stdout",
     "output_type": "stream",
     "text": [
      "Epoch 0: 100%|██████████| 16/16 [00:00<00:00, 34.10it/s, train_loss_step=13.10]"
     ]
    },
    {
     "name": "stderr",
     "output_type": "stream",
     "text": [
      "[I 2024-04-28 23:53:53,521] Trial 60 pruned. Trial was pruned at epoch 0.\n"
     ]
    },
    {
     "name": "stdout",
     "output_type": "stream",
     "text": [
      "Number of embedding layers: 36\n",
      "Epoch 0: 100%|██████████| 16/16 [00:01<00:00, 12.59it/s, train_loss_step=14.20]\n",
      "Epoch 0: 100%|██████████| 16/16 [00:00<00:00, 26.77it/s, train_loss_step=13.10]\n"
     ]
    },
    {
     "name": "stderr",
     "output_type": "stream",
     "text": [
      "GPU available: True (cuda), used: True\n",
      "TPU available: False, using: 0 TPU cores\n",
      "IPU available: False, using: 0 IPUs\n",
      "HPU available: False, using: 0 HPUs\n",
      "LOCAL_RANK: 0 - CUDA_VISIBLE_DEVICES: [0]\n",
      "\n",
      "  | Name            | Type       | Params\n",
      "-----------------------------------------------\n",
      "0 | embeddings      | ModuleList | 1.2 K \n",
      "1 | fc              | Sequential | 635 K \n",
      "2 | output_category | Sequential | 534 K \n",
      "3 | output_price    | Sequential | 525 K \n",
      "-----------------------------------------------\n",
      "1.7 M     Trainable params\n",
      "0         Non-trainable params\n",
      "1.7 M     Total params\n",
      "6.784     Total estimated model params size (MB)\n"
     ]
    },
    {
     "name": "stdout",
     "output_type": "stream",
     "text": [
      "Epoch 0: 100%|██████████| 16/16 [00:00<00:00, 28.83it/s, train_loss_step=16.90, val_loss=14.90, val_price_loss=8.65e+9, val_category_loss=6.240, val_accuracy=0.413, val_rmse=9.65e+4, train_loss_epoch=26.80]"
     ]
    },
    {
     "name": "stderr",
     "output_type": "stream",
     "text": [
      "Metric val_loss improved. New best score: 14.888\n"
     ]
    },
    {
     "name": "stdout",
     "output_type": "stream",
     "text": [
      "Epoch 1: 100%|██████████| 16/16 [00:00<00:00, 36.13it/s, train_loss_step=9.710, val_loss=14.90, val_price_loss=8.65e+9, val_category_loss=6.240, val_accuracy=0.413, val_rmse=9.65e+4, train_loss_epoch=26.80]"
     ]
    },
    {
     "name": "stderr",
     "output_type": "stream",
     "text": [
      "[I 2024-04-28 23:53:54,879] Trial 61 pruned. Trial was pruned at epoch 1.\n"
     ]
    },
    {
     "name": "stdout",
     "output_type": "stream",
     "text": [
      "Number of embedding layers: 36\n"
     ]
    },
    {
     "name": "stderr",
     "output_type": "stream",
     "text": [
      "GPU available: True (cuda), used: True\n",
      "TPU available: False, using: 0 TPU cores\n",
      "IPU available: False, using: 0 IPUs\n",
      "HPU available: False, using: 0 HPUs\n",
      "LOCAL_RANK: 0 - CUDA_VISIBLE_DEVICES: [0]\n",
      "\n",
      "  | Name            | Type       | Params\n",
      "-----------------------------------------------\n",
      "0 | embeddings      | ModuleList | 1.2 K \n",
      "1 | fc              | Sequential | 635 K \n",
      "2 | output_category | Sequential | 534 K \n",
      "3 | output_price    | Sequential | 525 K \n",
      "-----------------------------------------------\n",
      "1.7 M     Trainable params\n",
      "0         Non-trainable params\n",
      "1.7 M     Total params\n",
      "6.784     Total estimated model params size (MB)\n"
     ]
    },
    {
     "name": "stdout",
     "output_type": "stream",
     "text": [
      "Epoch 0: 100%|██████████| 16/16 [00:00<00:00, 34.28it/s, train_loss_step=17.70]"
     ]
    },
    {
     "name": "stderr",
     "output_type": "stream",
     "text": [
      "[I 2024-04-28 23:53:55,535] Trial 62 pruned. Trial was pruned at epoch 0.\n"
     ]
    },
    {
     "name": "stdout",
     "output_type": "stream",
     "text": [
      "Number of embedding layers: 36\n",
      "Epoch 0: 100%|██████████| 16/16 [00:00<00:00, 26.92it/s, train_loss_step=17.70]\n"
     ]
    },
    {
     "name": "stderr",
     "output_type": "stream",
     "text": [
      "GPU available: True (cuda), used: True\n",
      "TPU available: False, using: 0 TPU cores\n",
      "IPU available: False, using: 0 IPUs\n",
      "HPU available: False, using: 0 HPUs\n",
      "LOCAL_RANK: 0 - CUDA_VISIBLE_DEVICES: [0]\n",
      "\n",
      "  | Name            | Type       | Params\n",
      "-----------------------------------------------\n",
      "0 | embeddings      | ModuleList | 1.6 K \n",
      "1 | fc              | Sequential | 672 K \n",
      "2 | output_category | Sequential | 534 K \n",
      "3 | output_price    | Sequential | 525 K \n",
      "-----------------------------------------------\n",
      "1.7 M     Trainable params\n",
      "0         Non-trainable params\n",
      "1.7 M     Total params\n",
      "6.933     Total estimated model params size (MB)\n"
     ]
    },
    {
     "name": "stdout",
     "output_type": "stream",
     "text": [
      "Epoch 0: 100%|██████████| 16/16 [00:00<00:00, 30.73it/s, train_loss_step=62.30, val_loss=23.30, val_price_loss=1.16e+10, val_category_loss=11.70, val_accuracy=0.133, val_rmse=7.66e+4, train_loss_epoch=100.0]"
     ]
    },
    {
     "name": "stderr",
     "output_type": "stream",
     "text": [
      "Metric val_loss improved. New best score: 23.342\n"
     ]
    },
    {
     "name": "stdout",
     "output_type": "stream",
     "text": [
      "Epoch 1: 100%|██████████| 16/16 [00:00<00:00, 31.94it/s, train_loss_step=16.90, val_loss=11.10, val_price_loss=8.55e+9, val_category_loss=2.530, val_accuracy=0.321, val_rmse=9.77e+4, train_loss_epoch=15.60] "
     ]
    },
    {
     "name": "stderr",
     "output_type": "stream",
     "text": [
      "Metric val_loss improved by 12.266 >= min_delta = 0.0001. New best score: 11.077\n"
     ]
    },
    {
     "name": "stdout",
     "output_type": "stream",
     "text": [
      "Epoch 2: 100%|██████████| 16/16 [00:00<00:00, 29.38it/s, train_loss_step=7.460, val_loss=8.360, val_price_loss=6.56e+9, val_category_loss=1.800, val_accuracy=0.362, val_rmse=7.46e+4, train_loss_epoch=14.60]"
     ]
    },
    {
     "name": "stderr",
     "output_type": "stream",
     "text": [
      "Metric val_loss improved by 2.717 >= min_delta = 0.0001. New best score: 8.360\n"
     ]
    },
    {
     "name": "stdout",
     "output_type": "stream",
     "text": [
      "Epoch 3: 100%|██████████| 16/16 [00:00<00:00, 27.88it/s, train_loss_step=5.730, val_loss=7.610, val_price_loss=6.07e+9, val_category_loss=1.550, val_accuracy=0.427, val_rmse=7.72e+4, train_loss_epoch=9.300]"
     ]
    },
    {
     "name": "stderr",
     "output_type": "stream",
     "text": [
      "Metric val_loss improved by 0.745 >= min_delta = 0.0001. New best score: 7.614\n"
     ]
    },
    {
     "name": "stdout",
     "output_type": "stream",
     "text": [
      "Epoch 4: 100%|██████████| 16/16 [00:00<00:00, 30.94it/s, train_loss_step=7.800, val_loss=7.440, val_price_loss=6.11e+9, val_category_loss=1.340, val_accuracy=0.541, val_rmse=7.63e+4, train_loss_epoch=8.810]"
     ]
    },
    {
     "name": "stderr",
     "output_type": "stream",
     "text": [
      "Metric val_loss improved by 0.171 >= min_delta = 0.0001. New best score: 7.444\n"
     ]
    },
    {
     "name": "stdout",
     "output_type": "stream",
     "text": [
      "Epoch 5: 100%|██████████| 16/16 [00:00<00:00, 30.63it/s, train_loss_step=13.50, val_loss=7.270, val_price_loss=6.03e+9, val_category_loss=1.240, val_accuracy=0.619, val_rmse=7.85e+4, train_loss_epoch=8.920]"
     ]
    },
    {
     "name": "stderr",
     "output_type": "stream",
     "text": [
      "Metric val_loss improved by 0.177 >= min_delta = 0.0001. New best score: 7.267\n"
     ]
    },
    {
     "name": "stdout",
     "output_type": "stream",
     "text": [
      "Epoch 6: 100%|██████████| 16/16 [00:00<00:00, 30.79it/s, train_loss_step=6.450, val_loss=7.150, val_price_loss=5.89e+9, val_category_loss=1.260, val_accuracy=0.583, val_rmse=7.55e+4, train_loss_epoch=8.350]"
     ]
    },
    {
     "name": "stderr",
     "output_type": "stream",
     "text": [
      "Metric val_loss improved by 0.113 >= min_delta = 0.0001. New best score: 7.154\n"
     ]
    },
    {
     "name": "stdout",
     "output_type": "stream",
     "text": [
      "Epoch 7: 100%|██████████| 16/16 [00:00<00:00, 31.46it/s, train_loss_step=8.340, val_loss=6.980, val_price_loss=5.85e+9, val_category_loss=1.140, val_accuracy=0.642, val_rmse=7.31e+4, train_loss_epoch=8.320]"
     ]
    },
    {
     "name": "stderr",
     "output_type": "stream",
     "text": [
      "Metric val_loss improved by 0.171 >= min_delta = 0.0001. New best score: 6.983\n"
     ]
    },
    {
     "name": "stdout",
     "output_type": "stream",
     "text": [
      "Epoch 12: 100%|██████████| 16/16 [00:00<00:00, 31.32it/s, train_loss_step=9.390, val_loss=6.930, val_price_loss=5.93e+9, val_category_loss=0.993, val_accuracy=0.716, val_rmse=7.49e+4, train_loss_epoch=8.300]"
     ]
    },
    {
     "name": "stderr",
     "output_type": "stream",
     "text": [
      "Metric val_loss improved by 0.056 >= min_delta = 0.0001. New best score: 6.926\n"
     ]
    },
    {
     "name": "stdout",
     "output_type": "stream",
     "text": [
      "Epoch 17: 100%|██████████| 16/16 [00:00<00:00, 30.31it/s, train_loss_step=6.170, val_loss=6.870, val_price_loss=5.87e+9, val_category_loss=1.000, val_accuracy=0.729, val_rmse=7.17e+4, train_loss_epoch=8.430]"
     ]
    },
    {
     "name": "stderr",
     "output_type": "stream",
     "text": [
      "Metric val_loss improved by 0.058 >= min_delta = 0.0001. New best score: 6.869\n"
     ]
    },
    {
     "name": "stdout",
     "output_type": "stream",
     "text": [
      "Epoch 22: 100%|██████████| 16/16 [00:00<00:00, 31.21it/s, train_loss_step=11.70, val_loss=7.740, val_price_loss=6.69e+9, val_category_loss=1.060, val_accuracy=0.725, val_rmse=7.83e+4, train_loss_epoch=8.800]"
     ]
    },
    {
     "name": "stderr",
     "output_type": "stream",
     "text": [
      "Monitored metric val_loss did not improve in the last 5 records. Best score: 6.869. Signaling Trainer to stop.\n"
     ]
    },
    {
     "name": "stdout",
     "output_type": "stream",
     "text": [
      "Epoch 22: 100%|██████████| 16/16 [00:00<00:00, 23.82it/s, train_loss_step=11.70, val_loss=7.740, val_price_loss=6.69e+9, val_category_loss=1.060, val_accuracy=0.725, val_rmse=7.83e+4, train_loss_epoch=8.800]"
     ]
    },
    {
     "name": "stderr",
     "output_type": "stream",
     "text": [
      "[I 2024-04-28 23:54:11,839] Trial 63 finished with value: 7.7449727058410645 and parameters: {'num_layers': 1, 'hidden_dim': 512, 'embedding_dim': 7, 'lr': 0.0998815025092947, 'optimizer_type': 'Adam', 'relu_type': 'ReLU', 'droupoutrate': 0.3473025224666273}. Best is trial 32 with value: 6.927556991577148.\n"
     ]
    },
    {
     "name": "stdout",
     "output_type": "stream",
     "text": [
      "\n"
     ]
    },
    {
     "name": "stderr",
     "output_type": "stream",
     "text": [
      "GPU available: True (cuda), used: True\n",
      "TPU available: False, using: 0 TPU cores\n",
      "IPU available: False, using: 0 IPUs\n",
      "HPU available: False, using: 0 HPUs\n",
      "LOCAL_RANK: 0 - CUDA_VISIBLE_DEVICES: [0]\n",
      "\n",
      "  | Name            | Type       | Params\n",
      "-----------------------------------------------\n",
      "0 | embeddings      | ModuleList | 1.2 K \n",
      "1 | fc              | Sequential | 60.5 K\n",
      "2 | output_category | Sequential | 35.2 K\n",
      "3 | output_price    | Sequential | 33.0 K\n",
      "-----------------------------------------------\n",
      "129 K     Trainable params\n",
      "0         Non-trainable params\n",
      "129 K     Total params\n",
      "0.520     Total estimated model params size (MB)\n"
     ]
    },
    {
     "name": "stdout",
     "output_type": "stream",
     "text": [
      "Number of embedding layers: 36\n",
      "Epoch 0: 100%|██████████| 16/16 [00:00<00:00, 39.00it/s, train_loss_step=9.480]"
     ]
    },
    {
     "name": "stderr",
     "output_type": "stream",
     "text": [
      "[I 2024-04-28 23:54:12,417] Trial 64 pruned. Trial was pruned at epoch 0.\n"
     ]
    },
    {
     "name": "stdout",
     "output_type": "stream",
     "text": [
      "Number of embedding layers: 36\n"
     ]
    },
    {
     "name": "stderr",
     "output_type": "stream",
     "text": [
      "GPU available: True (cuda), used: True\n",
      "TPU available: False, using: 0 TPU cores\n",
      "IPU available: False, using: 0 IPUs\n",
      "HPU available: False, using: 0 HPUs\n",
      "LOCAL_RANK: 0 - CUDA_VISIBLE_DEVICES: [0]\n",
      "\n",
      "  | Name            | Type       | Params\n",
      "-----------------------------------------------\n",
      "0 | embeddings      | ModuleList | 1.4 K \n",
      "1 | fc              | Sequential | 3.8 M \n",
      "2 | output_category | Sequential | 534 K \n",
      "3 | output_price    | Sequential | 525 K \n",
      "-----------------------------------------------\n",
      "4.9 M     Trainable params\n",
      "0         Non-trainable params\n",
      "4.9 M     Total params\n",
      "19.453    Total estimated model params size (MB)\n"
     ]
    },
    {
     "name": "stdout",
     "output_type": "stream",
     "text": [
      "Epoch 0: 100%|██████████| 16/16 [00:00<00:00, 25.66it/s, train_loss_step=9.480]\n",
      "Epoch 0: 100%|██████████| 16/16 [00:00<00:00, 26.42it/s, train_loss_step=45.30] "
     ]
    },
    {
     "name": "stderr",
     "output_type": "stream",
     "text": [
      "[I 2024-04-28 23:54:13,254] Trial 65 pruned. Trial was pruned at epoch 0.\n",
      "GPU available: True (cuda), used: True\n"
     ]
    },
    {
     "name": "stdout",
     "output_type": "stream",
     "text": [
      "Number of embedding layers: 36\n"
     ]
    },
    {
     "name": "stderr",
     "output_type": "stream",
     "text": [
      "TPU available: False, using: 0 TPU cores\n",
      "IPU available: False, using: 0 IPUs\n",
      "HPU available: False, using: 0 HPUs\n",
      "LOCAL_RANK: 0 - CUDA_VISIBLE_DEVICES: [0]\n",
      "\n",
      "  | Name            | Type       | Params\n",
      "-----------------------------------------------\n",
      "0 | embeddings      | ModuleList | 1.4 K \n",
      "1 | fc              | Sequential | 1.7 M \n",
      "2 | output_category | Sequential | 534 K \n",
      "3 | output_price    | Sequential | 525 K \n",
      "-----------------------------------------------\n",
      "2.8 M     Trainable params\n",
      "0         Non-trainable params\n",
      "2.8 M     Total params\n",
      "11.057    Total estimated model params size (MB)\n"
     ]
    },
    {
     "name": "stdout",
     "output_type": "stream",
     "text": [
      "Epoch 0: 100%|██████████| 16/16 [00:00<00:00, 37.13it/s, train_loss_step=15.00]"
     ]
    },
    {
     "name": "stderr",
     "output_type": "stream",
     "text": [
      "[I 2024-04-28 23:54:13,875] Trial 66 pruned. Trial was pruned at epoch 0.\n"
     ]
    },
    {
     "name": "stdout",
     "output_type": "stream",
     "text": [
      "Number of embedding layers: 36\n"
     ]
    },
    {
     "name": "stderr",
     "output_type": "stream",
     "text": [
      "GPU available: True (cuda), used: True\n",
      "TPU available: False, using: 0 TPU cores\n",
      "IPU available: False, using: 0 IPUs\n",
      "HPU available: False, using: 0 HPUs\n",
      "LOCAL_RANK: 0 - CUDA_VISIBLE_DEVICES: [0]\n",
      "\n",
      "  | Name            | Type       | Params\n",
      "-----------------------------------------------\n",
      "0 | embeddings      | ModuleList | 1.2 K \n",
      "1 | fc              | Sequential | 635 K \n",
      "2 | output_category | Sequential | 534 K \n",
      "3 | output_price    | Sequential | 525 K \n",
      "-----------------------------------------------\n",
      "1.7 M     Trainable params\n",
      "0         Non-trainable params\n",
      "1.7 M     Total params\n",
      "6.784     Total estimated model params size (MB)\n"
     ]
    },
    {
     "name": "stdout",
     "output_type": "stream",
     "text": [
      "Epoch 0: 100%|██████████| 16/16 [00:00<00:00, 27.04it/s, train_loss_step=15.00]\n",
      "Epoch 0: 100%|██████████| 16/16 [00:00<00:00, 34.58it/s, train_loss_step=7.190, val_loss=19.10, val_price_loss=7.19e+9, val_category_loss=11.90, val_accuracy=0.385, val_rmse=8.01e+4, train_loss_epoch=23.70]"
     ]
    },
    {
     "name": "stderr",
     "output_type": "stream",
     "text": [
      "Metric val_loss improved. New best score: 19.081\n"
     ]
    },
    {
     "name": "stdout",
     "output_type": "stream",
     "text": [
      "Epoch 1: 100%|██████████| 16/16 [00:00<00:00, 36.32it/s, train_loss_step=8.170, val_loss=8.750, val_price_loss=5.89e+9, val_category_loss=2.860, val_accuracy=0.445, val_rmse=7.4e+4, train_loss_epoch=10.50] "
     ]
    },
    {
     "name": "stderr",
     "output_type": "stream",
     "text": [
      "Metric val_loss improved by 10.333 >= min_delta = 0.0001. New best score: 8.748\n"
     ]
    },
    {
     "name": "stdout",
     "output_type": "stream",
     "text": [
      "Epoch 2: 100%|██████████| 16/16 [00:00<00:00, 34.69it/s, train_loss_step=5.780, val_loss=7.290, val_price_loss=5.86e+9, val_category_loss=1.430, val_accuracy=0.606, val_rmse=7.54e+4, train_loss_epoch=8.310]"
     ]
    },
    {
     "name": "stderr",
     "output_type": "stream",
     "text": [
      "Metric val_loss improved by 1.460 >= min_delta = 0.0001. New best score: 7.288\n"
     ]
    },
    {
     "name": "stdout",
     "output_type": "stream",
     "text": [
      "Epoch 6: 100%|██████████| 16/16 [00:00<00:00, 31.39it/s, train_loss_step=11.40, val_loss=7.250, val_price_loss=5.86e+9, val_category_loss=1.390, val_accuracy=0.661, val_rmse=7.51e+4, train_loss_epoch=7.610]"
     ]
    },
    {
     "name": "stderr",
     "output_type": "stream",
     "text": [
      "Metric val_loss improved by 0.037 >= min_delta = 0.0001. New best score: 7.251\n"
     ]
    },
    {
     "name": "stdout",
     "output_type": "stream",
     "text": [
      "Epoch 7: 100%|██████████| 16/16 [00:00<00:00, 31.62it/s, train_loss_step=6.320, val_loss=6.930, val_price_loss=5.88e+9, val_category_loss=1.050, val_accuracy=0.702, val_rmse=7.65e+4, train_loss_epoch=7.950]"
     ]
    },
    {
     "name": "stderr",
     "output_type": "stream",
     "text": [
      "Metric val_loss improved by 0.321 >= min_delta = 0.0001. New best score: 6.930\n"
     ]
    },
    {
     "name": "stdout",
     "output_type": "stream",
     "text": [
      "Epoch 12: 100%|██████████| 16/16 [00:00<00:00, 31.46it/s, train_loss_step=4.860, val_loss=7.430, val_price_loss=5.96e+9, val_category_loss=1.470, val_accuracy=0.716, val_rmse=7.31e+4, train_loss_epoch=7.630]"
     ]
    },
    {
     "name": "stderr",
     "output_type": "stream",
     "text": [
      "Monitored metric val_loss did not improve in the last 5 records. Best score: 6.930. Signaling Trainer to stop.\n"
     ]
    },
    {
     "name": "stdout",
     "output_type": "stream",
     "text": [
      "Epoch 12: 100%|██████████| 16/16 [00:00<00:00, 20.16it/s, train_loss_step=4.860, val_loss=7.430, val_price_loss=5.96e+9, val_category_loss=1.470, val_accuracy=0.716, val_rmse=7.31e+4, train_loss_epoch=7.630]"
     ]
    },
    {
     "name": "stderr",
     "output_type": "stream",
     "text": [
      "[I 2024-04-28 23:54:22,951] Trial 67 finished with value: 7.43038272857666 and parameters: {'num_layers': 1, 'hidden_dim': 512, 'embedding_dim': 5, 'lr': 0.022396577167684464, 'optimizer_type': 'Adam', 'relu_type': 'LeakyReLU', 'droupoutrate': 0.13813868560001716}. Best is trial 32 with value: 6.927556991577148.\n",
      "GPU available: True (cuda), used: True\n",
      "TPU available: False, using: 0 TPU cores\n",
      "IPU available: False, using: 0 IPUs\n",
      "HPU available: False, using: 0 HPUs\n",
      "LOCAL_RANK: 0 - CUDA_VISIBLE_DEVICES: [0]\n",
      "\n",
      "  | Name            | Type       | Params\n",
      "-----------------------------------------------\n",
      "0 | embeddings      | ModuleList | 1.8 K \n",
      "1 | fc              | Sequential | 2.4 M \n",
      "2 | output_category | Sequential | 2.1 M \n",
      "3 | output_price    | Sequential | 2.1 M \n",
      "-----------------------------------------------\n",
      "6.6 M     Trainable params\n",
      "0         Non-trainable params\n",
      "6.6 M     Total params\n",
      "26.590    Total estimated model params size (MB)\n"
     ]
    },
    {
     "name": "stdout",
     "output_type": "stream",
     "text": [
      "\n",
      "Number of embedding layers: 36\n",
      "Epoch 0: 100%|██████████| 16/16 [00:00<00:00, 31.33it/s, train_loss_step=39.30]"
     ]
    },
    {
     "name": "stderr",
     "output_type": "stream",
     "text": [
      "[I 2024-04-28 23:54:23,712] Trial 68 pruned. Trial was pruned at epoch 0.\n"
     ]
    },
    {
     "name": "stdout",
     "output_type": "stream",
     "text": [
      "Number of embedding layers: 36\n"
     ]
    },
    {
     "name": "stderr",
     "output_type": "stream",
     "text": [
      "GPU available: True (cuda), used: True\n",
      "TPU available: False, using: 0 TPU cores\n",
      "IPU available: False, using: 0 IPUs\n",
      "HPU available: False, using: 0 HPUs\n",
      "LOCAL_RANK: 0 - CUDA_VISIBLE_DEVICES: [0]\n",
      "\n",
      "  | Name            | Type       | Params\n",
      "-----------------------------------------------\n",
      "0 | embeddings      | ModuleList | 1.6 K \n",
      "1 | fc              | Sequential | 1.7 M \n",
      "2 | output_category | Sequential | 534 K \n",
      "3 | output_price    | Sequential | 525 K \n",
      "-----------------------------------------------\n",
      "2.8 M     Trainable params\n",
      "0         Non-trainable params\n",
      "2.8 M     Total params\n",
      "11.131    Total estimated model params size (MB)\n"
     ]
    },
    {
     "name": "stdout",
     "output_type": "stream",
     "text": [
      "Epoch 0: 100%|██████████| 16/16 [00:00<00:00, 22.98it/s, train_loss_step=39.30]\n",
      "Epoch 0: 100%|██████████| 16/16 [00:00<00:00, 42.42it/s, train_loss_step=12.10, val_loss=21.70, val_price_loss=9.45e+9, val_category_loss=12.20, val_accuracy=0.271, val_rmse=9.36e+4, train_loss_epoch=75.60]"
     ]
    },
    {
     "name": "stderr",
     "output_type": "stream",
     "text": [
      "Metric val_loss improved. New best score: 21.669\n"
     ]
    },
    {
     "name": "stdout",
     "output_type": "stream",
     "text": [
      "Epoch 1: 100%|██████████| 16/16 [00:00<00:00, 50.65it/s, train_loss_step=11.70, val_loss=21.70, val_price_loss=9.45e+9, val_category_loss=12.20, val_accuracy=0.271, val_rmse=9.36e+4, train_loss_epoch=75.60]"
     ]
    },
    {
     "name": "stderr",
     "output_type": "stream",
     "text": [
      "[I 2024-04-28 23:54:25,025] Trial 69 pruned. Trial was pruned at epoch 1.\n"
     ]
    },
    {
     "name": "stdout",
     "output_type": "stream",
     "text": [
      "Number of embedding layers: 36\n"
     ]
    },
    {
     "name": "stderr",
     "output_type": "stream",
     "text": [
      "GPU available: True (cuda), used: True\n",
      "TPU available: False, using: 0 TPU cores\n",
      "IPU available: False, using: 0 IPUs\n",
      "HPU available: False, using: 0 HPUs\n",
      "LOCAL_RANK: 0 - CUDA_VISIBLE_DEVICES: [0]\n",
      "\n",
      "  | Name            | Type       | Params\n",
      "-----------------------------------------------\n",
      "0 | embeddings      | ModuleList | 1.2 K \n",
      "1 | fc              | Sequential | 186 K \n",
      "2 | output_category | Sequential | 135 K \n",
      "3 | output_price    | Sequential | 131 K \n",
      "-----------------------------------------------\n",
      "455 K     Trainable params\n",
      "0         Non-trainable params\n",
      "455 K     Total params\n",
      "1.821     Total estimated model params size (MB)\n"
     ]
    },
    {
     "name": "stdout",
     "output_type": "stream",
     "text": [
      "Epoch 0: 100%|██████████| 16/16 [00:00<00:00, 51.58it/s, train_loss_step=42.10]"
     ]
    },
    {
     "name": "stderr",
     "output_type": "stream",
     "text": [
      "[I 2024-04-28 23:54:25,483] Trial 70 pruned. Trial was pruned at epoch 0.\n",
      "GPU available: True (cuda), used: True\n"
     ]
    },
    {
     "name": "stdout",
     "output_type": "stream",
     "text": [
      "Number of embedding layers: 36\n"
     ]
    },
    {
     "name": "stderr",
     "output_type": "stream",
     "text": [
      "TPU available: False, using: 0 TPU cores\n",
      "IPU available: False, using: 0 IPUs\n",
      "HPU available: False, using: 0 HPUs\n",
      "LOCAL_RANK: 0 - CUDA_VISIBLE_DEVICES: [0]\n",
      "\n",
      "  | Name            | Type       | Params\n",
      "-----------------------------------------------\n",
      "0 | embeddings      | ModuleList | 1.2 K \n",
      "1 | fc              | Sequential | 635 K \n",
      "2 | output_category | Sequential | 534 K \n",
      "3 | output_price    | Sequential | 525 K \n",
      "-----------------------------------------------\n",
      "1.7 M     Trainable params\n",
      "0         Non-trainable params\n",
      "1.7 M     Total params\n",
      "6.784     Total estimated model params size (MB)\n"
     ]
    },
    {
     "name": "stdout",
     "output_type": "stream",
     "text": [
      "Epoch 0: 100%|██████████| 16/16 [00:00<00:00, 32.48it/s, train_loss_step=8.850, val_loss=16.90, val_price_loss=6.13e+9, val_category_loss=10.80, val_accuracy=0.289, val_rmse=8.34e+4, train_loss_epoch=24.00]"
     ]
    },
    {
     "name": "stderr",
     "output_type": "stream",
     "text": [
      "Metric val_loss improved. New best score: 16.907\n"
     ]
    },
    {
     "name": "stdout",
     "output_type": "stream",
     "text": [
      "Epoch 0: 100%|██████████| 16/16 [00:00<00:00, 16.14it/s, train_loss_step=42.10]\n",
      "Epoch 1: 100%|██████████| 16/16 [00:00<00:00, 33.37it/s, train_loss_step=6.920, val_loss=7.810, val_price_loss=5.97e+9, val_category_loss=1.840, val_accuracy=0.601, val_rmse=7.25e+4, train_loss_epoch=8.830]"
     ]
    },
    {
     "name": "stderr",
     "output_type": "stream",
     "text": [
      "Metric val_loss improved by 9.096 >= min_delta = 0.0001. New best score: 7.812\n"
     ]
    },
    {
     "name": "stdout",
     "output_type": "stream",
     "text": [
      "Epoch 3: 100%|██████████| 16/16 [00:00<00:00, 30.95it/s, train_loss_step=7.710, val_loss=7.030, val_price_loss=5.86e+9, val_category_loss=1.160, val_accuracy=0.592, val_rmse=7.72e+4, train_loss_epoch=7.930]"
     ]
    },
    {
     "name": "stderr",
     "output_type": "stream",
     "text": [
      "Metric val_loss improved by 0.786 >= min_delta = 0.0001. New best score: 7.026\n"
     ]
    },
    {
     "name": "stdout",
     "output_type": "stream",
     "text": [
      "Epoch 4: 100%|██████████| 16/16 [00:00<00:00, 30.88it/s, train_loss_step=5.080, val_loss=6.900, val_price_loss=5.82e+9, val_category_loss=1.080, val_accuracy=0.624, val_rmse=7.3e+4, train_loss_epoch=7.670] "
     ]
    },
    {
     "name": "stderr",
     "output_type": "stream",
     "text": [
      "Metric val_loss improved by 0.125 >= min_delta = 0.0001. New best score: 6.901\n"
     ]
    },
    {
     "name": "stdout",
     "output_type": "stream",
     "text": [
      "Epoch 9: 100%|██████████| 16/16 [00:00<00:00, 32.65it/s, train_loss_step=11.80, val_loss=7.510, val_price_loss=5.83e+9, val_category_loss=1.680, val_accuracy=0.642, val_rmse=7.42e+4, train_loss_epoch=7.500]"
     ]
    },
    {
     "name": "stderr",
     "output_type": "stream",
     "text": [
      "Monitored metric val_loss did not improve in the last 5 records. Best score: 6.901. Signaling Trainer to stop.\n"
     ]
    },
    {
     "name": "stdout",
     "output_type": "stream",
     "text": [
      "Epoch 9: 100%|██████████| 16/16 [00:00<00:00, 21.61it/s, train_loss_step=11.80, val_loss=7.510, val_price_loss=5.83e+9, val_category_loss=1.680, val_accuracy=0.642, val_rmse=7.42e+4, train_loss_epoch=7.500]"
     ]
    },
    {
     "name": "stderr",
     "output_type": "stream",
     "text": [
      "[I 2024-04-28 23:54:32,241] Trial 71 finished with value: 7.510167598724365 and parameters: {'num_layers': 1, 'hidden_dim': 512, 'embedding_dim': 5, 'lr': 0.01968259099855199, 'optimizer_type': 'Adam', 'relu_type': 'LeakyReLU', 'droupoutrate': 0.22048443640548737}. Best is trial 32 with value: 6.927556991577148.\n",
      "GPU available: True (cuda), used: True\n",
      "TPU available: False, using: 0 TPU cores\n",
      "IPU available: False, using: 0 IPUs\n",
      "HPU available: False, using: 0 HPUs\n",
      "LOCAL_RANK: 0 - CUDA_VISIBLE_DEVICES: [0]\n",
      "\n",
      "  | Name            | Type       | Params\n",
      "-----------------------------------------------\n",
      "0 | embeddings      | ModuleList | 4.4 K \n",
      "1 | fc              | Sequential | 893 K \n",
      "2 | output_category | Sequential | 534 K \n",
      "3 | output_price    | Sequential | 525 K \n",
      "-----------------------------------------------\n",
      "2.0 M     Trainable params\n",
      "0         Non-trainable params\n",
      "2.0 M     Total params\n",
      "7.829     Total estimated model params size (MB)\n"
     ]
    },
    {
     "name": "stdout",
     "output_type": "stream",
     "text": [
      "\n",
      "Number of embedding layers: 36\n",
      "Epoch 0: 100%|██████████| 16/16 [00:00<00:00, 28.20it/s, train_loss_step=13.70, val_loss=21.70, val_price_loss=8.06e+9, val_category_loss=13.60, val_accuracy=0.344, val_rmse=8.69e+4, train_loss_epoch=32.20]"
     ]
    },
    {
     "name": "stderr",
     "output_type": "stream",
     "text": [
      "Metric val_loss improved. New best score: 21.707\n"
     ]
    },
    {
     "name": "stdout",
     "output_type": "stream",
     "text": [
      "Epoch 1: 100%|██████████| 16/16 [00:00<00:00, 35.25it/s, train_loss_step=8.060, val_loss=21.70, val_price_loss=8.06e+9, val_category_loss=13.60, val_accuracy=0.344, val_rmse=8.69e+4, train_loss_epoch=32.20]"
     ]
    },
    {
     "name": "stderr",
     "output_type": "stream",
     "text": [
      "[I 2024-04-28 23:54:33,666] Trial 72 pruned. Trial was pruned at epoch 1.\n",
      "GPU available: True (cuda), used: True\n"
     ]
    },
    {
     "name": "stdout",
     "output_type": "stream",
     "text": [
      "Number of embedding layers: 36\n"
     ]
    },
    {
     "name": "stderr",
     "output_type": "stream",
     "text": [
      "TPU available: False, using: 0 TPU cores\n",
      "IPU available: False, using: 0 IPUs\n",
      "HPU available: False, using: 0 HPUs\n",
      "LOCAL_RANK: 0 - CUDA_VISIBLE_DEVICES: [0]\n",
      "\n",
      "  | Name            | Type       | Params\n",
      "-----------------------------------------------\n",
      "0 | embeddings      | ModuleList | 1.2 K \n",
      "1 | fc              | Sequential | 635 K \n",
      "2 | output_category | Sequential | 534 K \n",
      "3 | output_price    | Sequential | 525 K \n",
      "-----------------------------------------------\n",
      "1.7 M     Trainable params\n",
      "0         Non-trainable params\n",
      "1.7 M     Total params\n",
      "6.784     Total estimated model params size (MB)\n"
     ]
    },
    {
     "name": "stdout",
     "output_type": "stream",
     "text": [
      "Epoch 0: 100%|██████████| 16/16 [00:00<00:00, 30.72it/s, train_loss_step=19.30, val_loss=14.90, val_price_loss=7.19e+9, val_category_loss=7.720, val_accuracy=0.376, val_rmse=7.75e+4, train_loss_epoch=25.70]"
     ]
    },
    {
     "name": "stderr",
     "output_type": "stream",
     "text": [
      "Metric val_loss improved. New best score: 14.904\n"
     ]
    },
    {
     "name": "stdout",
     "output_type": "stream",
     "text": [
      "Epoch 1: 100%|██████████| 16/16 [00:00<00:00, 36.80it/s, train_loss_step=10.80, val_loss=14.90, val_price_loss=7.19e+9, val_category_loss=7.720, val_accuracy=0.376, val_rmse=7.75e+4, train_loss_epoch=25.70]"
     ]
    },
    {
     "name": "stderr",
     "output_type": "stream",
     "text": [
      "[I 2024-04-28 23:54:34,966] Trial 73 pruned. Trial was pruned at epoch 1.\n",
      "GPU available: True (cuda), used: True\n"
     ]
    },
    {
     "name": "stdout",
     "output_type": "stream",
     "text": [
      "Number of embedding layers: 36\n"
     ]
    },
    {
     "name": "stderr",
     "output_type": "stream",
     "text": [
      "TPU available: False, using: 0 TPU cores\n",
      "IPU available: False, using: 0 IPUs\n",
      "HPU available: False, using: 0 HPUs\n"
     ]
    },
    {
     "name": "stdout",
     "output_type": "stream",
     "text": [
      "Epoch 1: 100%|██████████| 16/16 [00:00<00:00, 28.23it/s, train_loss_step=10.80, val_loss=14.90, val_price_loss=7.19e+9, val_category_loss=7.720, val_accuracy=0.376, val_rmse=7.75e+4, train_loss_epoch=25.70]\n"
     ]
    },
    {
     "name": "stderr",
     "output_type": "stream",
     "text": [
      "LOCAL_RANK: 0 - CUDA_VISIBLE_DEVICES: [0]\n",
      "\n",
      "  | Name            | Type       | Params\n",
      "-----------------------------------------------\n",
      "0 | embeddings      | ModuleList | 1.4 K \n",
      "1 | fc              | Sequential | 653 K \n",
      "2 | output_category | Sequential | 534 K \n",
      "3 | output_price    | Sequential | 525 K \n",
      "-----------------------------------------------\n",
      "1.7 M     Trainable params\n",
      "0         Non-trainable params\n",
      "1.7 M     Total params\n",
      "6.858     Total estimated model params size (MB)\n"
     ]
    },
    {
     "name": "stdout",
     "output_type": "stream",
     "text": [
      "Epoch 0: 100%|██████████| 16/16 [00:00<00:00, 35.68it/s, train_loss_step=13.30]"
     ]
    },
    {
     "name": "stderr",
     "output_type": "stream",
     "text": [
      "[I 2024-04-28 23:54:35,600] Trial 74 pruned. Trial was pruned at epoch 0.\n",
      "GPU available: True (cuda), used: True\n"
     ]
    },
    {
     "name": "stdout",
     "output_type": "stream",
     "text": [
      "Number of embedding layers: 36\n"
     ]
    },
    {
     "name": "stderr",
     "output_type": "stream",
     "text": [
      "TPU available: False, using: 0 TPU cores\n",
      "IPU available: False, using: 0 IPUs\n",
      "HPU available: False, using: 0 HPUs\n",
      "LOCAL_RANK: 0 - CUDA_VISIBLE_DEVICES: [0]\n",
      "\n",
      "  | Name            | Type       | Params\n",
      "-----------------------------------------------\n",
      "0 | embeddings      | ModuleList | 1.4 K \n",
      "1 | fc              | Sequential | 653 K \n",
      "2 | output_category | Sequential | 534 K \n",
      "3 | output_price    | Sequential | 525 K \n",
      "-----------------------------------------------\n",
      "1.7 M     Trainable params\n",
      "0         Non-trainable params\n",
      "1.7 M     Total params\n",
      "6.858     Total estimated model params size (MB)\n"
     ]
    },
    {
     "name": "stdout",
     "output_type": "stream",
     "text": [
      "Epoch 0: 100%|██████████| 16/16 [00:00<00:00, 30.97it/s, train_loss_step=13.50, val_loss=17.00, val_price_loss=8.05e+9, val_category_loss=8.910, val_accuracy=0.179, val_rmse=9.12e+4, train_loss_epoch=78.60]"
     ]
    },
    {
     "name": "stderr",
     "output_type": "stream",
     "text": [
      "Metric val_loss improved. New best score: 16.961\n"
     ]
    },
    {
     "name": "stdout",
     "output_type": "stream",
     "text": [
      "Epoch 1: 100%|██████████| 16/16 [00:00<00:00, 30.87it/s, train_loss_step=16.20, val_loss=9.330, val_price_loss=6.9e+9, val_category_loss=2.420, val_accuracy=0.399, val_rmse=6.98e+4, train_loss_epoch=16.10] "
     ]
    },
    {
     "name": "stderr",
     "output_type": "stream",
     "text": [
      "Metric val_loss improved by 7.636 >= min_delta = 0.0001. New best score: 9.325\n"
     ]
    },
    {
     "name": "stdout",
     "output_type": "stream",
     "text": [
      "Epoch 2: 100%|██████████| 16/16 [00:00<00:00, 33.19it/s, train_loss_step=10.20, val_loss=8.050, val_price_loss=6.22e+9, val_category_loss=1.830, val_accuracy=0.454, val_rmse=8.13e+4, train_loss_epoch=11.20]"
     ]
    },
    {
     "name": "stderr",
     "output_type": "stream",
     "text": [
      "Metric val_loss improved by 1.275 >= min_delta = 0.0001. New best score: 8.050\n"
     ]
    },
    {
     "name": "stdout",
     "output_type": "stream",
     "text": [
      "Epoch 3: 100%|██████████| 16/16 [00:00<00:00, 30.50it/s, train_loss_step=10.60, val_loss=7.540, val_price_loss=5.95e+9, val_category_loss=1.580, val_accuracy=0.472, val_rmse=7.49e+4, train_loss_epoch=8.830]"
     ]
    },
    {
     "name": "stderr",
     "output_type": "stream",
     "text": [
      "Metric val_loss improved by 0.512 >= min_delta = 0.0001. New best score: 7.539\n"
     ]
    },
    {
     "name": "stdout",
     "output_type": "stream",
     "text": [
      "Epoch 5: 100%|██████████| 16/16 [00:00<00:00, 31.74it/s, train_loss_step=9.970, val_loss=7.160, val_price_loss=5.99e+9, val_category_loss=1.170, val_accuracy=0.573, val_rmse=7.41e+4, train_loss_epoch=8.180]"
     ]
    },
    {
     "name": "stderr",
     "output_type": "stream",
     "text": [
      "Metric val_loss improved by 0.377 >= min_delta = 0.0001. New best score: 7.162\n"
     ]
    },
    {
     "name": "stdout",
     "output_type": "stream",
     "text": [
      "Epoch 6: 100%|██████████| 16/16 [00:00<00:00, 29.15it/s, train_loss_step=7.400, val_loss=6.930, val_price_loss=5.86e+9, val_category_loss=1.060, val_accuracy=0.628, val_rmse=7.41e+4, train_loss_epoch=8.070]"
     ]
    },
    {
     "name": "stderr",
     "output_type": "stream",
     "text": [
      "Metric val_loss improved by 0.236 >= min_delta = 0.0001. New best score: 6.926\n"
     ]
    },
    {
     "name": "stdout",
     "output_type": "stream",
     "text": [
      "Epoch 11: 100%|██████████| 16/16 [00:00<00:00, 30.72it/s, train_loss_step=9.590, val_loss=8.110, val_price_loss=6.97e+9, val_category_loss=1.140, val_accuracy=0.661, val_rmse=8.29e+4, train_loss_epoch=8.140]"
     ]
    },
    {
     "name": "stderr",
     "output_type": "stream",
     "text": [
      "Monitored metric val_loss did not improve in the last 5 records. Best score: 6.926. Signaling Trainer to stop.\n"
     ]
    },
    {
     "name": "stdout",
     "output_type": "stream",
     "text": [
      "Epoch 11: 100%|██████████| 16/16 [00:00<00:00, 23.79it/s, train_loss_step=9.590, val_loss=8.110, val_price_loss=6.97e+9, val_category_loss=1.140, val_accuracy=0.661, val_rmse=8.29e+4, train_loss_epoch=8.140]"
     ]
    },
    {
     "name": "stderr",
     "output_type": "stream",
     "text": [
      "[I 2024-04-28 23:54:44,086] Trial 75 finished with value: 8.114755630493164 and parameters: {'num_layers': 1, 'hidden_dim': 512, 'embedding_dim': 6, 'lr': 0.07217862384386088, 'optimizer_type': 'Adam', 'relu_type': 'LeakyReLU', 'droupoutrate': 0.2566962279974552}. Best is trial 32 with value: 6.927556991577148.\n"
     ]
    },
    {
     "name": "stdout",
     "output_type": "stream",
     "text": [
      "\n"
     ]
    },
    {
     "name": "stderr",
     "output_type": "stream",
     "text": [
      "GPU available: True (cuda), used: True\n",
      "TPU available: False, using: 0 TPU cores\n",
      "IPU available: False, using: 0 IPUs\n",
      "HPU available: False, using: 0 HPUs\n",
      "LOCAL_RANK: 0 - CUDA_VISIBLE_DEVICES: [0]\n",
      "\n",
      "  | Name            | Type       | Params\n",
      "-----------------------------------------------\n",
      "0 | embeddings      | ModuleList | 2.1 K \n",
      "1 | fc              | Sequential | 79.0 K\n",
      "2 | output_category | Sequential | 35.2 K\n",
      "3 | output_price    | Sequential | 33.0 K\n",
      "-----------------------------------------------\n",
      "149 K     Trainable params\n",
      "0         Non-trainable params\n",
      "149 K     Total params\n",
      "0.597     Total estimated model params size (MB)\n"
     ]
    },
    {
     "name": "stdout",
     "output_type": "stream",
     "text": [
      "Number of embedding layers: 36\n",
      "Epoch 0: 100%|██████████| 16/16 [00:00<00:00, 42.43it/s, train_loss_step=10.70]"
     ]
    },
    {
     "name": "stderr",
     "output_type": "stream",
     "text": [
      "[I 2024-04-28 23:54:44,623] Trial 76 pruned. Trial was pruned at epoch 0.\n"
     ]
    },
    {
     "name": "stdout",
     "output_type": "stream",
     "text": [
      "Number of embedding layers: 36\n"
     ]
    },
    {
     "name": "stderr",
     "output_type": "stream",
     "text": [
      "GPU available: True (cuda), used: True\n",
      "TPU available: False, using: 0 TPU cores\n",
      "IPU available: False, using: 0 IPUs\n",
      "HPU available: False, using: 0 HPUs\n",
      "LOCAL_RANK: 0 - CUDA_VISIBLE_DEVICES: [0]\n",
      "\n",
      "  | Name            | Type       | Params\n",
      "-----------------------------------------------\n",
      "0 | embeddings      | ModuleList | 1.6 K \n",
      "1 | fc              | Sequential | 672 K \n",
      "2 | output_category | Sequential | 534 K \n",
      "3 | output_price    | Sequential | 525 K \n",
      "-----------------------------------------------\n",
      "1.7 M     Trainable params\n",
      "0         Non-trainable params\n",
      "1.7 M     Total params\n",
      "6.933     Total estimated model params size (MB)\n"
     ]
    },
    {
     "name": "stdout",
     "output_type": "stream",
     "text": [
      "Epoch 0: 100%|██████████| 16/16 [00:00<00:00, 36.79it/s, train_loss_step=25.70]"
     ]
    },
    {
     "name": "stderr",
     "output_type": "stream",
     "text": [
      "[I 2024-04-28 23:54:45,240] Trial 77 pruned. Trial was pruned at epoch 0.\n",
      "GPU available: True (cuda), used: True\n"
     ]
    },
    {
     "name": "stdout",
     "output_type": "stream",
     "text": [
      "Number of embedding layers: 36\n"
     ]
    },
    {
     "name": "stderr",
     "output_type": "stream",
     "text": [
      "TPU available: False, using: 0 TPU cores\n",
      "IPU available: False, using: 0 IPUs\n",
      "HPU available: False, using: 0 HPUs\n",
      "LOCAL_RANK: 0 - CUDA_VISIBLE_DEVICES: [0]\n",
      "\n",
      "  | Name            | Type       | Params\n",
      "-----------------------------------------------\n",
      "0 | embeddings      | ModuleList | 1.2 K \n",
      "1 | fc              | Sequential | 38.6 K\n",
      "2 | output_category | Sequential | 9.4 K \n",
      "3 | output_price    | Sequential | 8.3 K \n",
      "-----------------------------------------------\n",
      "57.5 K    Trainable params\n",
      "0         Non-trainable params\n",
      "57.5 K    Total params\n",
      "0.230     Total estimated model params size (MB)\n"
     ]
    },
    {
     "name": "stdout",
     "output_type": "stream",
     "text": [
      "Epoch 0: 100%|██████████| 16/16 [00:00<00:00, 24.76it/s, train_loss_step=25.70]\n",
      "Epoch 0: 100%|██████████| 16/16 [00:00<00:00, 42.19it/s, train_loss_step=36.50]"
     ]
    },
    {
     "name": "stderr",
     "output_type": "stream",
     "text": [
      "[I 2024-04-28 23:54:45,781] Trial 78 pruned. Trial was pruned at epoch 0.\n"
     ]
    },
    {
     "name": "stdout",
     "output_type": "stream",
     "text": [
      "Number of embedding layers: 36\n"
     ]
    },
    {
     "name": "stderr",
     "output_type": "stream",
     "text": [
      "GPU available: True (cuda), used: True\n",
      "TPU available: False, using: 0 TPU cores\n",
      "IPU available: False, using: 0 IPUs\n",
      "HPU available: False, using: 0 HPUs\n",
      "LOCAL_RANK: 0 - CUDA_VISIBLE_DEVICES: [0]\n",
      "\n",
      "  | Name            | Type       | Params\n",
      "-----------------------------------------------\n",
      "0 | embeddings      | ModuleList | 3.9 K \n",
      "1 | fc              | Sequential | 856 K \n",
      "2 | output_category | Sequential | 534 K \n",
      "3 | output_price    | Sequential | 525 K \n",
      "-----------------------------------------------\n",
      "1.9 M     Trainable params\n",
      "0         Non-trainable params\n",
      "1.9 M     Total params\n",
      "7.679     Total estimated model params size (MB)\n"
     ]
    },
    {
     "name": "stdout",
     "output_type": "stream",
     "text": [
      "Epoch 0: 100%|██████████| 16/16 [00:00<00:00, 30.13it/s, train_loss_step=9.320, val_loss=18.20, val_price_loss=9.25e+9, val_category_loss=9.000, val_accuracy=0.390, val_rmse=9.23e+4, train_loss_epoch=29.40]"
     ]
    },
    {
     "name": "stderr",
     "output_type": "stream",
     "text": [
      "Metric val_loss improved. New best score: 18.249\n"
     ]
    },
    {
     "name": "stdout",
     "output_type": "stream",
     "text": [
      "Epoch 1: 100%|██████████| 16/16 [00:00<00:00, 29.40it/s, train_loss_step=6.140, val_loss=10.00, val_price_loss=5.92e+9, val_category_loss=4.090, val_accuracy=0.564, val_rmse=7.62e+4, train_loss_epoch=10.00]"
     ]
    },
    {
     "name": "stderr",
     "output_type": "stream",
     "text": [
      "Metric val_loss improved by 8.238 >= min_delta = 0.0001. New best score: 10.011\n"
     ]
    },
    {
     "name": "stdout",
     "output_type": "stream",
     "text": [
      "Epoch 2: 100%|██████████| 16/16 [00:00<00:00, 33.73it/s, train_loss_step=13.40, val_loss=10.00, val_price_loss=5.92e+9, val_category_loss=4.090, val_accuracy=0.564, val_rmse=7.62e+4, train_loss_epoch=10.00]"
     ]
    },
    {
     "name": "stderr",
     "output_type": "stream",
     "text": [
      "[I 2024-04-28 23:54:47,981] Trial 79 pruned. Trial was pruned at epoch 2.\n"
     ]
    },
    {
     "name": "stdout",
     "output_type": "stream",
     "text": [
      "Number of embedding layers: 36\n"
     ]
    },
    {
     "name": "stderr",
     "output_type": "stream",
     "text": [
      "GPU available: True (cuda), used: True\n",
      "TPU available: False, using: 0 TPU cores\n",
      "IPU available: False, using: 0 IPUs\n",
      "HPU available: False, using: 0 HPUs\n"
     ]
    },
    {
     "name": "stdout",
     "output_type": "stream",
     "text": [
      "Epoch 2: 100%|██████████| 16/16 [00:00<00:00, 24.54it/s, train_loss_step=13.40, val_loss=10.00, val_price_loss=5.92e+9, val_category_loss=4.090, val_accuracy=0.564, val_rmse=7.62e+4, train_loss_epoch=10.00]\n"
     ]
    },
    {
     "name": "stderr",
     "output_type": "stream",
     "text": [
      "LOCAL_RANK: 0 - CUDA_VISIBLE_DEVICES: [0]\n",
      "\n",
      "  | Name            | Type       | Params\n",
      "-----------------------------------------------\n",
      "0 | embeddings      | ModuleList | 1.2 K \n",
      "1 | fc              | Sequential | 4.8 M \n",
      "2 | output_category | Sequential | 534 K \n",
      "3 | output_price    | Sequential | 525 K \n",
      "-----------------------------------------------\n",
      "5.9 M     Trainable params\n",
      "0         Non-trainable params\n",
      "5.9 M     Total params\n",
      "23.577    Total estimated model params size (MB)\n"
     ]
    },
    {
     "name": "stdout",
     "output_type": "stream",
     "text": [
      "Epoch 0: 100%|██████████| 16/16 [00:00<00:00, 26.87it/s, train_loss_step=40.20] "
     ]
    },
    {
     "name": "stderr",
     "output_type": "stream",
     "text": [
      "[I 2024-04-28 23:54:48,849] Trial 80 pruned. Trial was pruned at epoch 0.\n"
     ]
    },
    {
     "name": "stdout",
     "output_type": "stream",
     "text": [
      "Number of embedding layers: 36\n"
     ]
    },
    {
     "name": "stderr",
     "output_type": "stream",
     "text": [
      "GPU available: True (cuda), used: True\n",
      "TPU available: False, using: 0 TPU cores\n",
      "IPU available: False, using: 0 IPUs\n",
      "HPU available: False, using: 0 HPUs\n",
      "LOCAL_RANK: 0 - CUDA_VISIBLE_DEVICES: [0]\n",
      "\n",
      "  | Name            | Type       | Params\n",
      "-----------------------------------------------\n",
      "0 | embeddings      | ModuleList | 1.2 K \n",
      "1 | fc              | Sequential | 635 K \n",
      "2 | output_category | Sequential | 534 K \n",
      "3 | output_price    | Sequential | 525 K \n",
      "-----------------------------------------------\n",
      "1.7 M     Trainable params\n",
      "0         Non-trainable params\n",
      "1.7 M     Total params\n",
      "6.784     Total estimated model params size (MB)\n"
     ]
    },
    {
     "name": "stdout",
     "output_type": "stream",
     "text": [
      "Epoch 0: 100%|██████████| 16/16 [00:00<00:00, 50.76it/s, train_loss_step=11.60]"
     ]
    },
    {
     "name": "stderr",
     "output_type": "stream",
     "text": [
      "[I 2024-04-28 23:54:49,326] Trial 81 pruned. Trial was pruned at epoch 0.\n"
     ]
    },
    {
     "name": "stdout",
     "output_type": "stream",
     "text": [
      "Number of embedding layers: 36\n"
     ]
    },
    {
     "name": "stderr",
     "output_type": "stream",
     "text": [
      "GPU available: True (cuda), used: True\n",
      "TPU available: False, using: 0 TPU cores\n",
      "IPU available: False, using: 0 IPUs\n",
      "HPU available: False, using: 0 HPUs\n"
     ]
    },
    {
     "name": "stdout",
     "output_type": "stream",
     "text": [
      "Epoch 0: 100%|██████████| 16/16 [00:00<00:00, 36.55it/s, train_loss_step=11.60]\n"
     ]
    },
    {
     "name": "stderr",
     "output_type": "stream",
     "text": [
      "LOCAL_RANK: 0 - CUDA_VISIBLE_DEVICES: [0]\n",
      "\n",
      "  | Name            | Type       | Params\n",
      "-----------------------------------------------\n",
      "0 | embeddings      | ModuleList | 1.4 K \n",
      "1 | fc              | Sequential | 653 K \n",
      "2 | output_category | Sequential | 534 K \n",
      "3 | output_price    | Sequential | 525 K \n",
      "-----------------------------------------------\n",
      "1.7 M     Trainable params\n",
      "0         Non-trainable params\n",
      "1.7 M     Total params\n",
      "6.858     Total estimated model params size (MB)\n"
     ]
    },
    {
     "name": "stdout",
     "output_type": "stream",
     "text": [
      "Epoch 0: 100%|██████████| 16/16 [00:00<00:00, 44.69it/s, train_loss_step=12.50, val_loss=14.90, val_price_loss=1.08e+10, val_category_loss=4.180, val_accuracy=0.427, val_rmse=1.05e+5, train_loss_epoch=26.20]"
     ]
    },
    {
     "name": "stderr",
     "output_type": "stream",
     "text": [
      "Metric val_loss improved. New best score: 14.946\n"
     ]
    },
    {
     "name": "stdout",
     "output_type": "stream",
     "text": [
      "Epoch 1: 100%|██████████| 16/16 [00:00<00:00, 52.76it/s, train_loss_step=7.610, val_loss=14.90, val_price_loss=1.08e+10, val_category_loss=4.180, val_accuracy=0.427, val_rmse=1.05e+5, train_loss_epoch=26.20]"
     ]
    },
    {
     "name": "stderr",
     "output_type": "stream",
     "text": [
      "[I 2024-04-28 23:54:50,325] Trial 82 pruned. Trial was pruned at epoch 1.\n",
      "GPU available: True (cuda), used: True\n"
     ]
    },
    {
     "name": "stdout",
     "output_type": "stream",
     "text": [
      "Number of embedding layers: 36\n"
     ]
    },
    {
     "name": "stderr",
     "output_type": "stream",
     "text": [
      "TPU available: False, using: 0 TPU cores\n",
      "IPU available: False, using: 0 IPUs\n",
      "HPU available: False, using: 0 HPUs\n",
      "LOCAL_RANK: 0 - CUDA_VISIBLE_DEVICES: [0]\n",
      "\n",
      "  | Name            | Type       | Params\n",
      "-----------------------------------------------\n",
      "0 | embeddings      | ModuleList | 3.0 K \n",
      "1 | fc              | Sequential | 782 K \n",
      "2 | output_category | Sequential | 534 K \n",
      "3 | output_price    | Sequential | 525 K \n",
      "-----------------------------------------------\n",
      "1.8 M     Trainable params\n",
      "0         Non-trainable params\n",
      "1.8 M     Total params\n",
      "7.381     Total estimated model params size (MB)\n"
     ]
    },
    {
     "name": "stdout",
     "output_type": "stream",
     "text": [
      "Epoch 0: 100%|██████████| 16/16 [00:00<00:00, 33.82it/s, train_loss_step=11.80, val_loss=15.30, val_price_loss=6.87e+9, val_category_loss=8.420, val_accuracy=0.275, val_rmse=8.2e+4, train_loss_epoch=38.40]"
     ]
    },
    {
     "name": "stderr",
     "output_type": "stream",
     "text": [
      "Metric val_loss improved. New best score: 15.292\n"
     ]
    },
    {
     "name": "stdout",
     "output_type": "stream",
     "text": [
      "Epoch 1: 100%|██████████| 16/16 [00:00<00:00, 34.04it/s, train_loss_step=12.10, val_loss=11.00, val_price_loss=9e+9, val_category_loss=1.990, val_accuracy=0.440, val_rmse=9.5e+4, train_loss_epoch=12.10]   "
     ]
    },
    {
     "name": "stderr",
     "output_type": "stream",
     "text": [
      "Metric val_loss improved by 4.303 >= min_delta = 0.0001. New best score: 10.989\n"
     ]
    },
    {
     "name": "stdout",
     "output_type": "stream",
     "text": [
      "Epoch 2: 100%|██████████| 16/16 [00:00<00:00, 31.03it/s, train_loss_step=8.190, val_loss=11.00, val_price_loss=9e+9, val_category_loss=1.990, val_accuracy=0.440, val_rmse=9.5e+4, train_loss_epoch=12.10]"
     ]
    },
    {
     "name": "stderr",
     "output_type": "stream",
     "text": [
      "[I 2024-04-28 23:54:52,360] Trial 83 pruned. Trial was pruned at epoch 2.\n",
      "GPU available: True (cuda), used: True\n"
     ]
    },
    {
     "name": "stdout",
     "output_type": "stream",
     "text": [
      "Number of embedding layers: 36\n"
     ]
    },
    {
     "name": "stderr",
     "output_type": "stream",
     "text": [
      "TPU available: False, using: 0 TPU cores\n",
      "IPU available: False, using: 0 IPUs\n",
      "HPU available: False, using: 0 HPUs\n"
     ]
    },
    {
     "name": "stdout",
     "output_type": "stream",
     "text": [
      "Epoch 2: 100%|██████████| 16/16 [00:00<00:00, 24.49it/s, train_loss_step=8.190, val_loss=11.00, val_price_loss=9e+9, val_category_loss=1.990, val_accuracy=0.440, val_rmse=9.5e+4, train_loss_epoch=12.10]\n"
     ]
    },
    {
     "name": "stderr",
     "output_type": "stream",
     "text": [
      "LOCAL_RANK: 0 - CUDA_VISIBLE_DEVICES: [0]\n",
      "\n",
      "  | Name            | Type       | Params\n",
      "-----------------------------------------------\n",
      "0 | embeddings      | ModuleList | 1.2 K \n",
      "1 | fc              | Sequential | 635 K \n",
      "2 | output_category | Sequential | 534 K \n",
      "3 | output_price    | Sequential | 525 K \n",
      "-----------------------------------------------\n",
      "1.7 M     Trainable params\n",
      "0         Non-trainable params\n",
      "1.7 M     Total params\n",
      "6.784     Total estimated model params size (MB)\n"
     ]
    },
    {
     "name": "stdout",
     "output_type": "stream",
     "text": [
      "Epoch 0: 100%|██████████| 16/16 [00:00<00:00, 29.82it/s, train_loss_step=5.680, val_loss=14.70, val_price_loss=5.97e+9, val_category_loss=8.750, val_accuracy=0.408, val_rmse=7.05e+4, train_loss_epoch=24.00]"
     ]
    },
    {
     "name": "stderr",
     "output_type": "stream",
     "text": [
      "Metric val_loss improved. New best score: 14.721\n"
     ]
    },
    {
     "name": "stdout",
     "output_type": "stream",
     "text": [
      "Epoch 1: 100%|██████████| 16/16 [00:00<00:00, 31.03it/s, train_loss_step=6.180, val_loss=8.630, val_price_loss=5.96e+9, val_category_loss=2.670, val_accuracy=0.431, val_rmse=7.41e+4, train_loss_epoch=9.190]"
     ]
    },
    {
     "name": "stderr",
     "output_type": "stream",
     "text": [
      "Metric val_loss improved by 6.094 >= min_delta = 0.0001. New best score: 8.627\n"
     ]
    },
    {
     "name": "stdout",
     "output_type": "stream",
     "text": [
      "Epoch 2: 100%|██████████| 16/16 [00:00<00:00, 30.73it/s, train_loss_step=6.300, val_loss=7.780, val_price_loss=6.07e+9, val_category_loss=1.710, val_accuracy=0.495, val_rmse=7.6e+4, train_loss_epoch=8.740] "
     ]
    },
    {
     "name": "stderr",
     "output_type": "stream",
     "text": [
      "Metric val_loss improved by 0.845 >= min_delta = 0.0001. New best score: 7.782\n"
     ]
    },
    {
     "name": "stdout",
     "output_type": "stream",
     "text": [
      "Epoch 3: 100%|██████████| 16/16 [00:00<00:00, 31.14it/s, train_loss_step=8.360, val_loss=6.880, val_price_loss=5.91e+9, val_category_loss=0.969, val_accuracy=0.693, val_rmse=7.58e+4, train_loss_epoch=8.050]"
     ]
    },
    {
     "name": "stderr",
     "output_type": "stream",
     "text": [
      "Metric val_loss improved by 0.903 >= min_delta = 0.0001. New best score: 6.879\n"
     ]
    },
    {
     "name": "stdout",
     "output_type": "stream",
     "text": [
      "Epoch 4: 100%|██████████| 16/16 [00:00<00:00, 29.82it/s, train_loss_step=8.160, val_loss=6.770, val_price_loss=5.88e+9, val_category_loss=0.894, val_accuracy=0.725, val_rmse=7.51e+4, train_loss_epoch=7.870]"
     ]
    },
    {
     "name": "stderr",
     "output_type": "stream",
     "text": [
      "Metric val_loss improved by 0.105 >= min_delta = 0.0001. New best score: 6.774\n"
     ]
    },
    {
     "name": "stdout",
     "output_type": "stream",
     "text": [
      "Epoch 9: 100%|██████████| 16/16 [00:00<00:00, 31.20it/s, train_loss_step=4.320, val_loss=7.440, val_price_loss=6.09e+9, val_category_loss=1.350, val_accuracy=0.665, val_rmse=7.14e+4, train_loss_epoch=7.530]"
     ]
    },
    {
     "name": "stderr",
     "output_type": "stream",
     "text": [
      "Monitored metric val_loss did not improve in the last 5 records. Best score: 6.774. Signaling Trainer to stop.\n"
     ]
    },
    {
     "name": "stdout",
     "output_type": "stream",
     "text": [
      "Epoch 9: 100%|██████████| 16/16 [00:00<00:00, 24.13it/s, train_loss_step=4.320, val_loss=7.440, val_price_loss=6.09e+9, val_category_loss=1.350, val_accuracy=0.665, val_rmse=7.14e+4, train_loss_epoch=7.530]"
     ]
    },
    {
     "name": "stderr",
     "output_type": "stream",
     "text": [
      "[I 2024-04-28 23:54:59,277] Trial 84 finished with value: 7.441023349761963 and parameters: {'num_layers': 1, 'hidden_dim': 512, 'embedding_dim': 5, 'lr': 0.019456249490523013, 'optimizer_type': 'Adam', 'relu_type': 'ReLU', 'droupoutrate': 0.32071926673989054}. Best is trial 32 with value: 6.927556991577148.\n"
     ]
    },
    {
     "name": "stdout",
     "output_type": "stream",
     "text": [
      "\n",
      "Number of embedding layers: 36\n"
     ]
    },
    {
     "name": "stderr",
     "output_type": "stream",
     "text": [
      "GPU available: True (cuda), used: True\n",
      "TPU available: False, using: 0 TPU cores\n",
      "IPU available: False, using: 0 IPUs\n",
      "HPU available: False, using: 0 HPUs\n",
      "LOCAL_RANK: 0 - CUDA_VISIBLE_DEVICES: [0]\n",
      "\n",
      "  | Name            | Type       | Params\n",
      "-----------------------------------------------\n",
      "0 | embeddings      | ModuleList | 1.2 K \n",
      "1 | fc              | Sequential | 635 K \n",
      "2 | output_category | Sequential | 534 K \n",
      "3 | output_price    | Sequential | 525 K \n",
      "-----------------------------------------------\n",
      "1.7 M     Trainable params\n",
      "0         Non-trainable params\n",
      "1.7 M     Total params\n",
      "6.784     Total estimated model params size (MB)\n"
     ]
    },
    {
     "name": "stdout",
     "output_type": "stream",
     "text": [
      "Epoch 0: 100%|██████████| 16/16 [00:00<00:00, 32.94it/s, train_loss_step=56.10]"
     ]
    },
    {
     "name": "stderr",
     "output_type": "stream",
     "text": [
      "[I 2024-04-28 23:54:59,985] Trial 85 pruned. Trial was pruned at epoch 0.\n"
     ]
    },
    {
     "name": "stdout",
     "output_type": "stream",
     "text": [
      "Number of embedding layers: 36\n"
     ]
    },
    {
     "name": "stderr",
     "output_type": "stream",
     "text": [
      "GPU available: True (cuda), used: True\n",
      "TPU available: False, using: 0 TPU cores\n",
      "IPU available: False, using: 0 IPUs\n",
      "HPU available: False, using: 0 HPUs\n",
      "LOCAL_RANK: 0 - CUDA_VISIBLE_DEVICES: [0]\n",
      "\n",
      "  | Name            | Type       | Params\n",
      "-----------------------------------------------\n",
      "0 | embeddings      | ModuleList | 1.4 K \n",
      "1 | fc              | Sequential | 2.4 M \n",
      "2 | output_category | Sequential | 2.1 M \n",
      "3 | output_price    | Sequential | 2.1 M \n",
      "-----------------------------------------------\n",
      "6.6 M     Trainable params\n",
      "0         Non-trainable params\n",
      "6.6 M     Total params\n",
      "26.294    Total estimated model params size (MB)\n"
     ]
    },
    {
     "name": "stdout",
     "output_type": "stream",
     "text": [
      "Epoch 0: 100%|██████████| 16/16 [00:00<00:00, 20.48it/s, train_loss_step=56.10]\n",
      "Epoch 0: 100%|██████████| 16/16 [00:00<00:00, 29.28it/s, train_loss_step=13.20, val_loss=18.50, val_price_loss=9.19e+9, val_category_loss=9.280, val_accuracy=0.344, val_rmse=1.18e+5, train_loss_epoch=20.00]"
     ]
    },
    {
     "name": "stderr",
     "output_type": "stream",
     "text": [
      "Metric val_loss improved. New best score: 18.462\n"
     ]
    },
    {
     "name": "stdout",
     "output_type": "stream",
     "text": [
      "Epoch 1: 100%|██████████| 16/16 [00:00<00:00, 33.72it/s, train_loss_step=8.740, val_loss=8.120, val_price_loss=6.31e+9, val_category_loss=1.810, val_accuracy=0.463, val_rmse=7.86e+4, train_loss_epoch=11.20]"
     ]
    },
    {
     "name": "stderr",
     "output_type": "stream",
     "text": [
      "Metric val_loss improved by 10.342 >= min_delta = 0.0001. New best score: 8.120\n"
     ]
    },
    {
     "name": "stdout",
     "output_type": "stream",
     "text": [
      "Epoch 3: 100%|██████████| 16/16 [00:00<00:00, 35.26it/s, train_loss_step=8.180, val_loss=8.740, val_price_loss=7.43e+9, val_category_loss=1.310, val_accuracy=0.596, val_rmse=8.13e+4, train_loss_epoch=8.790]"
     ]
    },
    {
     "name": "stderr",
     "output_type": "stream",
     "text": [
      "[I 2024-04-28 23:55:06,305] Trial 86 pruned. Trial was pruned at epoch 3.\n"
     ]
    },
    {
     "name": "stdout",
     "output_type": "stream",
     "text": [
      "Number of embedding layers: 36\n"
     ]
    },
    {
     "name": "stderr",
     "output_type": "stream",
     "text": [
      "GPU available: True (cuda), used: True\n",
      "TPU available: False, using: 0 TPU cores\n",
      "IPU available: False, using: 0 IPUs\n",
      "HPU available: False, using: 0 HPUs\n",
      "LOCAL_RANK: 0 - CUDA_VISIBLE_DEVICES: [0]\n",
      "\n",
      "  | Name            | Type       | Params\n",
      "-----------------------------------------------\n",
      "0 | embeddings      | ModuleList | 1.6 K \n",
      "1 | fc              | Sequential | 672 K \n",
      "2 | output_category | Sequential | 534 K \n",
      "3 | output_price    | Sequential | 525 K \n",
      "-----------------------------------------------\n",
      "1.7 M     Trainable params\n",
      "0         Non-trainable params\n",
      "1.7 M     Total params\n",
      "6.933     Total estimated model params size (MB)\n"
     ]
    },
    {
     "name": "stdout",
     "output_type": "stream",
     "text": [
      "Epoch 0: 100%|██████████| 16/16 [00:00<00:00, 59.64it/s, train_loss_step=45.90]"
     ]
    },
    {
     "name": "stderr",
     "output_type": "stream",
     "text": [
      "[I 2024-04-28 23:55:06,723] Trial 87 pruned. Trial was pruned at epoch 0.\n"
     ]
    },
    {
     "name": "stdout",
     "output_type": "stream",
     "text": [
      "Number of embedding layers: 36\n"
     ]
    },
    {
     "name": "stderr",
     "output_type": "stream",
     "text": [
      "GPU available: True (cuda), used: True\n",
      "TPU available: False, using: 0 TPU cores\n",
      "IPU available: False, using: 0 IPUs\n",
      "HPU available: False, using: 0 HPUs\n",
      "LOCAL_RANK: 0 - CUDA_VISIBLE_DEVICES: [0]\n",
      "\n",
      "  | Name            | Type       | Params\n",
      "-----------------------------------------------\n",
      "0 | embeddings      | ModuleList | 1.2 K \n",
      "1 | fc              | Sequential | 635 K \n",
      "2 | output_category | Sequential | 534 K \n",
      "3 | output_price    | Sequential | 525 K \n",
      "-----------------------------------------------\n",
      "1.7 M     Trainable params\n",
      "0         Non-trainable params\n",
      "1.7 M     Total params\n",
      "6.784     Total estimated model params size (MB)\n"
     ]
    },
    {
     "name": "stdout",
     "output_type": "stream",
     "text": [
      "Epoch 0: 100%|██████████| 16/16 [00:00<00:00, 39.32it/s, train_loss_step=45.90]\n",
      "Epoch 0: 100%|██████████| 16/16 [00:00<00:00, 45.58it/s, train_loss_step=7.170, val_loss=12.20, val_price_loss=8.7e+9, val_category_loss=3.470, val_accuracy=0.459, val_rmse=9.12e+4, train_loss_epoch=23.10]"
     ]
    },
    {
     "name": "stderr",
     "output_type": "stream",
     "text": [
      "Metric val_loss improved. New best score: 12.172\n"
     ]
    },
    {
     "name": "stdout",
     "output_type": "stream",
     "text": [
      "Epoch 1: 100%|██████████| 16/16 [00:00<00:00, 54.24it/s, train_loss_step=7.570, val_loss=12.20, val_price_loss=8.7e+9, val_category_loss=3.470, val_accuracy=0.459, val_rmse=9.12e+4, train_loss_epoch=23.10]"
     ]
    },
    {
     "name": "stderr",
     "output_type": "stream",
     "text": [
      "[I 2024-04-28 23:55:07,694] Trial 88 pruned. Trial was pruned at epoch 1.\n"
     ]
    },
    {
     "name": "stdout",
     "output_type": "stream",
     "text": [
      "Number of embedding layers: 36\n"
     ]
    },
    {
     "name": "stderr",
     "output_type": "stream",
     "text": [
      "GPU available: True (cuda), used: True\n",
      "TPU available: False, using: 0 TPU cores\n",
      "IPU available: False, using: 0 IPUs\n",
      "HPU available: False, using: 0 HPUs\n",
      "LOCAL_RANK: 0 - CUDA_VISIBLE_DEVICES: [0]\n",
      "\n",
      "  | Name            | Type       | Params\n",
      "-----------------------------------------------\n",
      "0 | embeddings      | ModuleList | 1.4 K \n",
      "1 | fc              | Sequential | 653 K \n",
      "2 | output_category | Sequential | 534 K \n",
      "3 | output_price    | Sequential | 525 K \n",
      "-----------------------------------------------\n",
      "1.7 M     Trainable params\n",
      "0         Non-trainable params\n",
      "1.7 M     Total params\n",
      "6.858     Total estimated model params size (MB)\n"
     ]
    },
    {
     "name": "stdout",
     "output_type": "stream",
     "text": [
      "Epoch 0: 100%|██████████| 16/16 [00:00<00:00, 34.72it/s, train_loss_step=17.10, val_loss=12.50, val_price_loss=7.02e+9, val_category_loss=5.490, val_accuracy=0.518, val_rmse=8.3e+4, train_loss_epoch=25.30]"
     ]
    },
    {
     "name": "stderr",
     "output_type": "stream",
     "text": [
      "Metric val_loss improved. New best score: 12.505\n"
     ]
    },
    {
     "name": "stdout",
     "output_type": "stream",
     "text": [
      "Epoch 1: 100%|██████████| 16/16 [00:00<00:00, 34.33it/s, train_loss_step=10.10, val_loss=10.50, val_price_loss=7.11e+9, val_category_loss=3.420, val_accuracy=0.445, val_rmse=8.27e+4, train_loss_epoch=9.970]"
     ]
    },
    {
     "name": "stderr",
     "output_type": "stream",
     "text": [
      "Metric val_loss improved by 1.980 >= min_delta = 0.0001. New best score: 10.526\n"
     ]
    },
    {
     "name": "stdout",
     "output_type": "stream",
     "text": [
      "Epoch 2: 100%|██████████| 16/16 [00:00<00:00, 30.97it/s, train_loss_step=7.770, val_loss=7.400, val_price_loss=5.85e+9, val_category_loss=1.560, val_accuracy=0.546, val_rmse=7.42e+4, train_loss_epoch=8.270]"
     ]
    },
    {
     "name": "stderr",
     "output_type": "stream",
     "text": [
      "Metric val_loss improved by 3.122 >= min_delta = 0.0001. New best score: 7.404\n"
     ]
    },
    {
     "name": "stdout",
     "output_type": "stream",
     "text": [
      "Epoch 3: 100%|██████████| 16/16 [00:00<00:00, 30.27it/s, train_loss_step=7.590, val_loss=6.820, val_price_loss=5.83e+9, val_category_loss=0.986, val_accuracy=0.679, val_rmse=7.45e+4, train_loss_epoch=7.800]"
     ]
    },
    {
     "name": "stderr",
     "output_type": "stream",
     "text": [
      "Metric val_loss improved by 0.589 >= min_delta = 0.0001. New best score: 6.816\n"
     ]
    },
    {
     "name": "stdout",
     "output_type": "stream",
     "text": [
      "Epoch 8: 100%|██████████| 16/16 [00:00<00:00, 30.96it/s, train_loss_step=10.90, val_loss=7.470, val_price_loss=5.88e+9, val_category_loss=1.590, val_accuracy=0.583, val_rmse=7.75e+4, train_loss_epoch=7.840]"
     ]
    },
    {
     "name": "stderr",
     "output_type": "stream",
     "text": [
      "Monitored metric val_loss did not improve in the last 5 records. Best score: 6.816. Signaling Trainer to stop.\n"
     ]
    },
    {
     "name": "stdout",
     "output_type": "stream",
     "text": [
      "Epoch 8: 100%|██████████| 16/16 [00:00<00:00, 23.69it/s, train_loss_step=10.90, val_loss=7.470, val_price_loss=5.88e+9, val_category_loss=1.590, val_accuracy=0.583, val_rmse=7.75e+4, train_loss_epoch=7.840]"
     ]
    },
    {
     "name": "stderr",
     "output_type": "stream",
     "text": [
      "[I 2024-04-28 23:55:13,835] Trial 89 finished with value: 7.472370147705078 and parameters: {'num_layers': 1, 'hidden_dim': 512, 'embedding_dim': 6, 'lr': 0.018983949092310146, 'optimizer_type': 'Adam', 'relu_type': 'LeakyReLU', 'droupoutrate': 0.39200164679343974}. Best is trial 32 with value: 6.927556991577148.\n"
     ]
    },
    {
     "name": "stdout",
     "output_type": "stream",
     "text": [
      "\n"
     ]
    },
    {
     "name": "stderr",
     "output_type": "stream",
     "text": [
      "GPU available: True (cuda), used: True\n",
      "TPU available: False, using: 0 TPU cores\n",
      "IPU available: False, using: 0 IPUs\n",
      "HPU available: False, using: 0 HPUs\n",
      "LOCAL_RANK: 0 - CUDA_VISIBLE_DEVICES: [0]\n",
      "\n",
      "  | Name            | Type       | Params\n",
      "-----------------------------------------------\n",
      "0 | embeddings      | ModuleList | 1.4 K \n",
      "1 | fc              | Sequential | 1.7 M \n",
      "2 | output_category | Sequential | 534 K \n",
      "3 | output_price    | Sequential | 525 K \n",
      "-----------------------------------------------\n",
      "2.8 M     Trainable params\n",
      "0         Non-trainable params\n",
      "2.8 M     Total params\n",
      "11.057    Total estimated model params size (MB)\n"
     ]
    },
    {
     "name": "stdout",
     "output_type": "stream",
     "text": [
      "Number of embedding layers: 36\n",
      "Epoch 0: 100%|██████████| 16/16 [00:00<00:00, 31.50it/s, train_loss_step=18.90]  "
     ]
    },
    {
     "name": "stderr",
     "output_type": "stream",
     "text": [
      "[I 2024-04-28 23:55:14,555] Trial 90 pruned. Trial was pruned at epoch 0.\n",
      "GPU available: True (cuda), used: True\n"
     ]
    },
    {
     "name": "stdout",
     "output_type": "stream",
     "text": [
      "Number of embedding layers: 36\n"
     ]
    },
    {
     "name": "stderr",
     "output_type": "stream",
     "text": [
      "TPU available: False, using: 0 TPU cores\n",
      "IPU available: False, using: 0 IPUs\n",
      "HPU available: False, using: 0 HPUs\n"
     ]
    },
    {
     "name": "stdout",
     "output_type": "stream",
     "text": [
      "Epoch 0: 100%|██████████| 16/16 [00:00<00:00, 24.63it/s, train_loss_step=18.90]\n"
     ]
    },
    {
     "name": "stderr",
     "output_type": "stream",
     "text": [
      "LOCAL_RANK: 0 - CUDA_VISIBLE_DEVICES: [0]\n",
      "\n",
      "  | Name            | Type       | Params\n",
      "-----------------------------------------------\n",
      "0 | embeddings      | ModuleList | 1.4 K \n",
      "1 | fc              | Sequential | 653 K \n",
      "2 | output_category | Sequential | 534 K \n",
      "3 | output_price    | Sequential | 525 K \n",
      "-----------------------------------------------\n",
      "1.7 M     Trainable params\n",
      "0         Non-trainable params\n",
      "1.7 M     Total params\n",
      "6.858     Total estimated model params size (MB)\n"
     ]
    },
    {
     "name": "stdout",
     "output_type": "stream",
     "text": [
      "Epoch 0: 100%|██████████| 16/16 [00:00<00:00, 32.34it/s, train_loss_step=10.90, val_loss=13.40, val_price_loss=6.71e+9, val_category_loss=6.660, val_accuracy=0.349, val_rmse=7.39e+4, train_loss_epoch=25.30]"
     ]
    },
    {
     "name": "stderr",
     "output_type": "stream",
     "text": [
      "Metric val_loss improved. New best score: 13.373\n"
     ]
    },
    {
     "name": "stdout",
     "output_type": "stream",
     "text": [
      "Epoch 1: 100%|██████████| 16/16 [00:00<00:00, 32.70it/s, train_loss_step=9.600, val_loss=8.530, val_price_loss=6.02e+9, val_category_loss=2.510, val_accuracy=0.495, val_rmse=7.57e+4, train_loss_epoch=9.350]"
     ]
    },
    {
     "name": "stderr",
     "output_type": "stream",
     "text": [
      "Metric val_loss improved by 4.843 >= min_delta = 0.0001. New best score: 8.530\n"
     ]
    },
    {
     "name": "stdout",
     "output_type": "stream",
     "text": [
      "Epoch 2: 100%|██████████| 16/16 [00:00<00:00, 33.39it/s, train_loss_step=6.160, val_loss=7.450, val_price_loss=5.83e+9, val_category_loss=1.610, val_accuracy=0.518, val_rmse=7.61e+4, train_loss_epoch=8.580]"
     ]
    },
    {
     "name": "stderr",
     "output_type": "stream",
     "text": [
      "Metric val_loss improved by 1.084 >= min_delta = 0.0001. New best score: 7.446\n"
     ]
    },
    {
     "name": "stdout",
     "output_type": "stream",
     "text": [
      "Epoch 3: 100%|██████████| 16/16 [00:00<00:00, 32.33it/s, train_loss_step=10.50, val_loss=7.340, val_price_loss=5.86e+9, val_category_loss=1.480, val_accuracy=0.578, val_rmse=7.29e+4, train_loss_epoch=7.770]"
     ]
    },
    {
     "name": "stderr",
     "output_type": "stream",
     "text": [
      "Metric val_loss improved by 0.110 >= min_delta = 0.0001. New best score: 7.335\n"
     ]
    },
    {
     "name": "stdout",
     "output_type": "stream",
     "text": [
      "Epoch 5: 100%|██████████| 16/16 [00:00<00:00, 30.97it/s, train_loss_step=7.540, val_loss=7.120, val_price_loss=5.81e+9, val_category_loss=1.310, val_accuracy=0.647, val_rmse=7.37e+4, train_loss_epoch=7.560]"
     ]
    },
    {
     "name": "stderr",
     "output_type": "stream",
     "text": [
      "Metric val_loss improved by 0.213 >= min_delta = 0.0001. New best score: 7.122\n"
     ]
    },
    {
     "name": "stdout",
     "output_type": "stream",
     "text": [
      "Epoch 6: 100%|██████████| 16/16 [00:00<00:00, 31.56it/s, train_loss_step=10.40, val_loss=7.110, val_price_loss=6.16e+9, val_category_loss=0.952, val_accuracy=0.711, val_rmse=7.7e+4, train_loss_epoch=7.880] "
     ]
    },
    {
     "name": "stderr",
     "output_type": "stream",
     "text": [
      "Metric val_loss improved by 0.008 >= min_delta = 0.0001. New best score: 7.114\n"
     ]
    },
    {
     "name": "stdout",
     "output_type": "stream",
     "text": [
      "Epoch 11: 100%|██████████| 16/16 [00:00<00:00, 30.55it/s, train_loss_step=12.10, val_loss=9.470, val_price_loss=6.47e+9, val_category_loss=3.010, val_accuracy=0.573, val_rmse=7.68e+4, train_loss_epoch=7.350]"
     ]
    },
    {
     "name": "stderr",
     "output_type": "stream",
     "text": [
      "Monitored metric val_loss did not improve in the last 5 records. Best score: 7.114. Signaling Trainer to stop.\n"
     ]
    },
    {
     "name": "stdout",
     "output_type": "stream",
     "text": [
      "Epoch 11: 100%|██████████| 16/16 [00:00<00:00, 23.22it/s, train_loss_step=12.10, val_loss=9.470, val_price_loss=6.47e+9, val_category_loss=3.010, val_accuracy=0.573, val_rmse=7.68e+4, train_loss_epoch=7.350]"
     ]
    },
    {
     "name": "stderr",
     "output_type": "stream",
     "text": [
      "[I 2024-04-28 23:55:23,467] Trial 91 finished with value: 9.474371910095215 and parameters: {'num_layers': 1, 'hidden_dim': 512, 'embedding_dim': 6, 'lr': 0.01888203805143086, 'optimizer_type': 'Adam', 'relu_type': 'LeakyReLU', 'droupoutrate': 0.4397930520008107}. Best is trial 32 with value: 6.927556991577148.\n"
     ]
    },
    {
     "name": "stdout",
     "output_type": "stream",
     "text": [
      "\n"
     ]
    },
    {
     "name": "stderr",
     "output_type": "stream",
     "text": [
      "GPU available: True (cuda), used: True\n",
      "TPU available: False, using: 0 TPU cores\n",
      "IPU available: False, using: 0 IPUs\n",
      "HPU available: False, using: 0 HPUs\n",
      "LOCAL_RANK: 0 - CUDA_VISIBLE_DEVICES: [0]\n",
      "\n",
      "  | Name            | Type       | Params\n",
      "-----------------------------------------------\n",
      "0 | embeddings      | ModuleList | 1.2 K \n",
      "1 | fc              | Sequential | 635 K \n",
      "2 | output_category | Sequential | 534 K \n",
      "3 | output_price    | Sequential | 525 K \n",
      "-----------------------------------------------\n",
      "1.7 M     Trainable params\n",
      "0         Non-trainable params\n",
      "1.7 M     Total params\n",
      "6.784     Total estimated model params size (MB)\n"
     ]
    },
    {
     "name": "stdout",
     "output_type": "stream",
     "text": [
      "Number of embedding layers: 36\n",
      "Epoch 0: 100%|██████████| 16/16 [00:00<00:00, 32.46it/s, train_loss_step=18.60]"
     ]
    },
    {
     "name": "stderr",
     "output_type": "stream",
     "text": [
      "[I 2024-04-28 23:55:24,186] Trial 92 pruned. Trial was pruned at epoch 0.\n"
     ]
    },
    {
     "name": "stdout",
     "output_type": "stream",
     "text": [
      "Number of embedding layers: 36\n"
     ]
    },
    {
     "name": "stderr",
     "output_type": "stream",
     "text": [
      "GPU available: True (cuda), used: True\n",
      "TPU available: False, using: 0 TPU cores\n",
      "IPU available: False, using: 0 IPUs\n",
      "HPU available: False, using: 0 HPUs\n",
      "LOCAL_RANK: 0 - CUDA_VISIBLE_DEVICES: [0]\n",
      "\n",
      "  | Name            | Type       | Params\n",
      "-----------------------------------------------\n",
      "0 | embeddings      | ModuleList | 2.8 K \n",
      "1 | fc              | Sequential | 764 K \n",
      "2 | output_category | Sequential | 534 K \n",
      "3 | output_price    | Sequential | 525 K \n",
      "-----------------------------------------------\n",
      "1.8 M     Trainable params\n",
      "0         Non-trainable params\n",
      "1.8 M     Total params\n",
      "7.306     Total estimated model params size (MB)\n"
     ]
    },
    {
     "name": "stdout",
     "output_type": "stream",
     "text": [
      "Epoch 0: 100%|██████████| 16/16 [00:00<00:00, 23.76it/s, train_loss_step=18.60]\n",
      "Epoch 0: 100%|██████████| 16/16 [00:00<00:00, 35.18it/s, train_loss_step=6.160]"
     ]
    },
    {
     "name": "stderr",
     "output_type": "stream",
     "text": [
      "[I 2024-04-28 23:55:24,837] Trial 93 pruned. Trial was pruned at epoch 0.\n"
     ]
    },
    {
     "name": "stdout",
     "output_type": "stream",
     "text": [
      "Number of embedding layers: 36\n"
     ]
    },
    {
     "name": "stderr",
     "output_type": "stream",
     "text": [
      "GPU available: True (cuda), used: True\n",
      "TPU available: False, using: 0 TPU cores\n",
      "IPU available: False, using: 0 IPUs\n",
      "HPU available: False, using: 0 HPUs\n",
      "LOCAL_RANK: 0 - CUDA_VISIBLE_DEVICES: [0]\n",
      "\n",
      "  | Name            | Type       | Params\n",
      "-----------------------------------------------\n",
      "0 | embeddings      | ModuleList | 1.6 K \n",
      "1 | fc              | Sequential | 672 K \n",
      "2 | output_category | Sequential | 534 K \n",
      "3 | output_price    | Sequential | 525 K \n",
      "-----------------------------------------------\n",
      "1.7 M     Trainable params\n",
      "0         Non-trainable params\n",
      "1.7 M     Total params\n",
      "6.933     Total estimated model params size (MB)\n"
     ]
    },
    {
     "name": "stdout",
     "output_type": "stream",
     "text": [
      "Epoch 0: 100%|██████████| 16/16 [00:00<00:00, 36.21it/s, train_loss_step=8.620]"
     ]
    },
    {
     "name": "stderr",
     "output_type": "stream",
     "text": [
      "[I 2024-04-28 23:55:25,464] Trial 94 pruned. Trial was pruned at epoch 0.\n",
      "GPU available: True (cuda), used: True\n"
     ]
    },
    {
     "name": "stdout",
     "output_type": "stream",
     "text": [
      "Number of embedding layers: 36\n"
     ]
    },
    {
     "name": "stderr",
     "output_type": "stream",
     "text": [
      "TPU available: False, using: 0 TPU cores\n",
      "IPU available: False, using: 0 IPUs\n",
      "HPU available: False, using: 0 HPUs\n",
      "LOCAL_RANK: 0 - CUDA_VISIBLE_DEVICES: [0]\n",
      "\n",
      "  | Name            | Type       | Params\n",
      "-----------------------------------------------\n",
      "0 | embeddings      | ModuleList | 1.2 K \n",
      "1 | fc              | Sequential | 711 K \n",
      "2 | output_category | Sequential | 135 K \n",
      "3 | output_price    | Sequential | 131 K \n",
      "-----------------------------------------------\n",
      "980 K     Trainable params\n",
      "0         Non-trainable params\n",
      "980 K     Total params\n",
      "3.923     Total estimated model params size (MB)\n"
     ]
    },
    {
     "name": "stdout",
     "output_type": "stream",
     "text": [
      "Epoch 0: 100%|██████████| 16/16 [00:00<00:00, 24.27it/s, train_loss_step=8.620]\n",
      "Epoch 0: 100%|██████████| 16/16 [00:00<00:00, 36.75it/s, train_loss_step=12.50] "
     ]
    },
    {
     "name": "stderr",
     "output_type": "stream",
     "text": [
      "[I 2024-04-28 23:55:26,076] Trial 95 pruned. Trial was pruned at epoch 0.\n"
     ]
    },
    {
     "name": "stdout",
     "output_type": "stream",
     "text": [
      "Number of embedding layers: 36\n"
     ]
    },
    {
     "name": "stderr",
     "output_type": "stream",
     "text": [
      "GPU available: True (cuda), used: True\n",
      "TPU available: False, using: 0 TPU cores\n",
      "IPU available: False, using: 0 IPUs\n",
      "HPU available: False, using: 0 HPUs\n",
      "LOCAL_RANK: 0 - CUDA_VISIBLE_DEVICES: [0]\n",
      "\n",
      "  | Name            | Type       | Params\n",
      "-----------------------------------------------\n",
      "0 | embeddings      | ModuleList | 1.4 K \n",
      "1 | fc              | Sequential | 3.8 M \n",
      "2 | output_category | Sequential | 534 K \n",
      "3 | output_price    | Sequential | 525 K \n",
      "-----------------------------------------------\n",
      "4.9 M     Trainable params\n",
      "0         Non-trainable params\n",
      "4.9 M     Total params\n",
      "19.453    Total estimated model params size (MB)\n"
     ]
    },
    {
     "name": "stdout",
     "output_type": "stream",
     "text": [
      "Epoch 0: 100%|██████████| 16/16 [00:00<00:00, 27.61it/s, train_loss_step=41.40]"
     ]
    },
    {
     "name": "stderr",
     "output_type": "stream",
     "text": [
      "[I 2024-04-28 23:55:26,897] Trial 96 pruned. Trial was pruned at epoch 0.\n",
      "GPU available: True (cuda), used: True\n"
     ]
    },
    {
     "name": "stdout",
     "output_type": "stream",
     "text": [
      "Number of embedding layers: 36\n"
     ]
    },
    {
     "name": "stderr",
     "output_type": "stream",
     "text": [
      "TPU available: False, using: 0 TPU cores\n",
      "IPU available: False, using: 0 IPUs\n",
      "HPU available: False, using: 0 HPUs\n",
      "LOCAL_RANK: 0 - CUDA_VISIBLE_DEVICES: [0]\n",
      "\n",
      "  | Name            | Type       | Params\n",
      "-----------------------------------------------\n",
      "0 | embeddings      | ModuleList | 1.4 K \n",
      "1 | fc              | Sequential | 65.2 K\n",
      "2 | output_category | Sequential | 35.2 K\n",
      "3 | output_price    | Sequential | 33.0 K\n",
      "-----------------------------------------------\n",
      "134 K     Trainable params\n",
      "0         Non-trainable params\n",
      "134 K     Total params\n",
      "0.539     Total estimated model params size (MB)\n"
     ]
    },
    {
     "name": "stdout",
     "output_type": "stream",
     "text": [
      "Epoch 0: 100%|██████████| 16/16 [00:00<00:00, 20.62it/s, train_loss_step=41.40]\n",
      "Epoch 0: 100%|██████████| 16/16 [00:00<00:00, 52.60it/s, train_loss_step=37.50]"
     ]
    },
    {
     "name": "stderr",
     "output_type": "stream",
     "text": [
      "[I 2024-04-28 23:55:27,343] Trial 97 pruned. Trial was pruned at epoch 0.\n"
     ]
    },
    {
     "name": "stdout",
     "output_type": "stream",
     "text": [
      "Number of embedding layers: 36\n"
     ]
    },
    {
     "name": "stderr",
     "output_type": "stream",
     "text": [
      "GPU available: True (cuda), used: True\n",
      "TPU available: False, using: 0 TPU cores\n",
      "IPU available: False, using: 0 IPUs\n",
      "HPU available: False, using: 0 HPUs\n",
      "LOCAL_RANK: 0 - CUDA_VISIBLE_DEVICES: [0]\n",
      "\n",
      "  | Name            | Type       | Params\n",
      "-----------------------------------------------\n",
      "0 | embeddings      | ModuleList | 1.2 K \n",
      "1 | fc              | Sequential | 22.1 K\n",
      "2 | output_category | Sequential | 9.4 K \n",
      "3 | output_price    | Sequential | 8.3 K \n",
      "-----------------------------------------------\n",
      "41.0 K    Trainable params\n",
      "0         Non-trainable params\n",
      "41.0 K    Total params\n",
      "0.164     Total estimated model params size (MB)\n"
     ]
    },
    {
     "name": "stdout",
     "output_type": "stream",
     "text": [
      "Epoch 0: 100%|██████████| 16/16 [00:00<00:00, 53.65it/s, train_loss_step=8.090]"
     ]
    },
    {
     "name": "stderr",
     "output_type": "stream",
     "text": [
      "[I 2024-04-28 23:55:27,790] Trial 98 pruned. Trial was pruned at epoch 0.\n"
     ]
    },
    {
     "name": "stdout",
     "output_type": "stream",
     "text": [
      "Number of embedding layers: 36\n"
     ]
    },
    {
     "name": "stderr",
     "output_type": "stream",
     "text": [
      "GPU available: True (cuda), used: True\n",
      "TPU available: False, using: 0 TPU cores\n",
      "IPU available: False, using: 0 IPUs\n",
      "HPU available: False, using: 0 HPUs\n",
      "LOCAL_RANK: 0 - CUDA_VISIBLE_DEVICES: [0]\n",
      "\n",
      "  | Name            | Type       | Params\n",
      "-----------------------------------------------\n",
      "0 | embeddings      | ModuleList | 1.6 K \n",
      "1 | fc              | Sequential | 672 K \n",
      "2 | output_category | Sequential | 534 K \n",
      "3 | output_price    | Sequential | 525 K \n",
      "-----------------------------------------------\n",
      "1.7 M     Trainable params\n",
      "0         Non-trainable params\n",
      "1.7 M     Total params\n",
      "6.933     Total estimated model params size (MB)\n"
     ]
    },
    {
     "name": "stdout",
     "output_type": "stream",
     "text": [
      "Epoch 0: 100%|██████████| 16/16 [00:00<00:00, 56.09it/s, train_loss_step=43.30]"
     ]
    },
    {
     "name": "stderr",
     "output_type": "stream",
     "text": [
      "[I 2024-04-28 23:55:28,231] Trial 99 pruned. Trial was pruned at epoch 0.\n"
     ]
    },
    {
     "name": "stdout",
     "output_type": "stream",
     "text": [
      "Epoch 0: 100%|██████████| 16/16 [00:00<00:00, 19.35it/s, train_loss_step=8.090]\n",
      "Epoch 0: 100%|██████████| 16/16 [00:00<00:00, 44.18it/s, train_loss_step=43.30]\n"
     ]
    },
    {
     "name": "stderr",
     "output_type": "stream",
     "text": [
      "GPU available: True (cuda), used: True\n"
     ]
    },
    {
     "name": "stdout",
     "output_type": "stream",
     "text": [
      "Number of embedding layers: 36\n"
     ]
    },
    {
     "name": "stderr",
     "output_type": "stream",
     "text": [
      "TPU available: False, using: 0 TPU cores\n",
      "IPU available: False, using: 0 IPUs\n",
      "HPU available: False, using: 0 HPUs\n",
      "LOCAL_RANK: 0 - CUDA_VISIBLE_DEVICES: [0]\n",
      "\n",
      "  | Name            | Type       | Params\n",
      "-----------------------------------------------\n",
      "0 | embeddings      | ModuleList | 2.5 K \n",
      "1 | fc              | Sequential | 745 K \n",
      "2 | output_category | Sequential | 534 K \n",
      "3 | output_price    | Sequential | 525 K \n",
      "-----------------------------------------------\n",
      "1.8 M     Trainable params\n",
      "0         Non-trainable params\n",
      "1.8 M     Total params\n",
      "7.231     Total estimated model params size (MB)\n"
     ]
    },
    {
     "name": "stdout",
     "output_type": "stream",
     "text": [
      "Epoch 0: 100%|██████████| 16/16 [00:00<00:00, 38.19it/s, train_loss_step=13.40, val_loss=19.00, val_price_loss=8.26e+9, val_category_loss=10.70, val_accuracy=0.344, val_rmse=8.79e+4, train_loss_epoch=22.50]"
     ]
    },
    {
     "name": "stderr",
     "output_type": "stream",
     "text": [
      "Metric val_loss improved. New best score: 18.999\n"
     ]
    },
    {
     "name": "stdout",
     "output_type": "stream",
     "text": [
      "Epoch 1: 100%|██████████| 16/16 [00:00<00:00, 32.53it/s, train_loss_step=9.070, val_loss=7.310, val_price_loss=5.94e+9, val_category_loss=1.370, val_accuracy=0.628, val_rmse=7.91e+4, train_loss_epoch=9.520]"
     ]
    },
    {
     "name": "stderr",
     "output_type": "stream",
     "text": [
      "Metric val_loss improved by 11.685 >= min_delta = 0.0001. New best score: 7.315\n"
     ]
    },
    {
     "name": "stdout",
     "output_type": "stream",
     "text": [
      "Epoch 3: 100%|██████████| 16/16 [00:00<00:00, 32.74it/s, train_loss_step=8.480, val_loss=6.910, val_price_loss=5.81e+9, val_category_loss=1.100, val_accuracy=0.656, val_rmse=7.49e+4, train_loss_epoch=7.930]"
     ]
    },
    {
     "name": "stderr",
     "output_type": "stream",
     "text": [
      "Metric val_loss improved by 0.409 >= min_delta = 0.0001. New best score: 6.906\n"
     ]
    },
    {
     "name": "stdout",
     "output_type": "stream",
     "text": [
      "Epoch 4: 100%|██████████| 16/16 [00:00<00:00, 30.97it/s, train_loss_step=16.40, val_loss=6.800, val_price_loss=5.8e+9, val_category_loss=0.995, val_accuracy=0.670, val_rmse=7.69e+4, train_loss_epoch=7.870] "
     ]
    },
    {
     "name": "stderr",
     "output_type": "stream",
     "text": [
      "Metric val_loss improved by 0.108 >= min_delta = 0.0001. New best score: 6.798\n"
     ]
    },
    {
     "name": "stdout",
     "output_type": "stream",
     "text": [
      "Epoch 9: 100%|██████████| 16/16 [00:00<00:00, 32.16it/s, train_loss_step=5.890, val_loss=7.240, val_price_loss=5.81e+9, val_category_loss=1.440, val_accuracy=0.587, val_rmse=7.5e+4, train_loss_epoch=8.010] "
     ]
    },
    {
     "name": "stderr",
     "output_type": "stream",
     "text": [
      "Monitored metric val_loss did not improve in the last 5 records. Best score: 6.798. Signaling Trainer to stop.\n"
     ]
    },
    {
     "name": "stdout",
     "output_type": "stream",
     "text": [
      "Epoch 9: 100%|██████████| 16/16 [00:00<00:00, 17.33it/s, train_loss_step=5.890, val_loss=7.240, val_price_loss=5.81e+9, val_category_loss=1.440, val_accuracy=0.587, val_rmse=7.5e+4, train_loss_epoch=8.010]"
     ]
    },
    {
     "name": "stderr",
     "output_type": "stream",
     "text": [
      "[I 2024-04-28 23:55:35,415] Trial 100 finished with value: 7.243337154388428 and parameters: {'num_layers': 1, 'hidden_dim': 512, 'embedding_dim': 11, 'lr': 0.01989842480225841, 'optimizer_type': 'Adam', 'relu_type': 'ReLU', 'droupoutrate': 0.32066239647711137}. Best is trial 32 with value: 6.927556991577148.\n",
      "GPU available: True (cuda), used: True\n",
      "TPU available: False, using: 0 TPU cores\n",
      "IPU available: False, using: 0 IPUs\n",
      "HPU available: False, using: 0 HPUs\n",
      "LOCAL_RANK: 0 - CUDA_VISIBLE_DEVICES: [0]\n",
      "\n",
      "  | Name            | Type       | Params\n",
      "-----------------------------------------------\n",
      "0 | embeddings      | ModuleList | 2.5 K \n",
      "1 | fc              | Sequential | 745 K \n",
      "2 | output_category | Sequential | 534 K \n",
      "3 | output_price    | Sequential | 525 K \n",
      "-----------------------------------------------\n",
      "1.8 M     Trainable params\n",
      "0         Non-trainable params\n",
      "1.8 M     Total params\n",
      "7.231     Total estimated model params size (MB)\n"
     ]
    },
    {
     "name": "stdout",
     "output_type": "stream",
     "text": [
      "\n",
      "Number of embedding layers: 36\n",
      "Epoch 0: 100%|██████████| 16/16 [00:00<00:00, 30.97it/s, train_loss_step=17.70, val_loss=18.10, val_price_loss=9.89e+9, val_category_loss=8.210, val_accuracy=0.202, val_rmse=9.69e+4, train_loss_epoch=26.80]"
     ]
    },
    {
     "name": "stderr",
     "output_type": "stream",
     "text": [
      "Metric val_loss improved. New best score: 18.091\n"
     ]
    },
    {
     "name": "stdout",
     "output_type": "stream",
     "text": [
      "Epoch 1: 100%|██████████| 16/16 [00:00<00:00, 34.73it/s, train_loss_step=14.60, val_loss=18.10, val_price_loss=9.89e+9, val_category_loss=8.210, val_accuracy=0.202, val_rmse=9.69e+4, train_loss_epoch=26.80]"
     ]
    },
    {
     "name": "stderr",
     "output_type": "stream",
     "text": [
      "[I 2024-04-28 23:55:36,792] Trial 101 pruned. Trial was pruned at epoch 1.\n",
      "GPU available: True (cuda), used: True\n"
     ]
    },
    {
     "name": "stdout",
     "output_type": "stream",
     "text": [
      "Number of embedding layers: 36\n"
     ]
    },
    {
     "name": "stderr",
     "output_type": "stream",
     "text": [
      "TPU available: False, using: 0 TPU cores\n",
      "IPU available: False, using: 0 IPUs\n",
      "HPU available: False, using: 0 HPUs\n"
     ]
    },
    {
     "name": "stdout",
     "output_type": "stream",
     "text": [
      "Epoch 1: 100%|██████████| 16/16 [00:00<00:00, 26.60it/s, train_loss_step=14.60, val_loss=18.10, val_price_loss=9.89e+9, val_category_loss=8.210, val_accuracy=0.202, val_rmse=9.69e+4, train_loss_epoch=26.80]\n"
     ]
    },
    {
     "name": "stderr",
     "output_type": "stream",
     "text": [
      "LOCAL_RANK: 0 - CUDA_VISIBLE_DEVICES: [0]\n",
      "\n",
      "  | Name            | Type       | Params\n",
      "-----------------------------------------------\n",
      "0 | embeddings      | ModuleList | 3.0 K \n",
      "1 | fc              | Sequential | 782 K \n",
      "2 | output_category | Sequential | 534 K \n",
      "3 | output_price    | Sequential | 525 K \n",
      "-----------------------------------------------\n",
      "1.8 M     Trainable params\n",
      "0         Non-trainable params\n",
      "1.8 M     Total params\n",
      "7.381     Total estimated model params size (MB)\n"
     ]
    },
    {
     "name": "stdout",
     "output_type": "stream",
     "text": [
      "Epoch 0: 100%|██████████| 16/16 [00:00<00:00, 30.01it/s, train_loss_step=10.50, val_loss=16.00, val_price_loss=5.92e+9, val_category_loss=10.10, val_accuracy=0.440, val_rmse=7.75e+4, train_loss_epoch=25.20]"
     ]
    },
    {
     "name": "stderr",
     "output_type": "stream",
     "text": [
      "Metric val_loss improved. New best score: 15.975\n"
     ]
    },
    {
     "name": "stdout",
     "output_type": "stream",
     "text": [
      "Epoch 1: 100%|██████████| 16/16 [00:00<00:00, 33.49it/s, train_loss_step=10.70, val_loss=8.950, val_price_loss=6.3e+9, val_category_loss=2.650, val_accuracy=0.477, val_rmse=7.87e+4, train_loss_epoch=10.10] "
     ]
    },
    {
     "name": "stderr",
     "output_type": "stream",
     "text": [
      "Metric val_loss improved by 7.025 >= min_delta = 0.0001. New best score: 8.950\n"
     ]
    },
    {
     "name": "stdout",
     "output_type": "stream",
     "text": [
      "Epoch 2: 100%|██████████| 16/16 [00:00<00:00, 32.94it/s, train_loss_step=13.20, val_loss=7.060, val_price_loss=6.13e+9, val_category_loss=0.934, val_accuracy=0.670, val_rmse=7.94e+4, train_loss_epoch=8.700]"
     ]
    },
    {
     "name": "stderr",
     "output_type": "stream",
     "text": [
      "Metric val_loss improved by 1.890 >= min_delta = 0.0001. New best score: 7.060\n"
     ]
    },
    {
     "name": "stdout",
     "output_type": "stream",
     "text": [
      "Epoch 5: 100%|██████████| 16/16 [00:00<00:00, 32.04it/s, train_loss_step=6.220, val_loss=7.000, val_price_loss=5.85e+9, val_category_loss=1.150, val_accuracy=0.596, val_rmse=7.41e+4, train_loss_epoch=7.790]"
     ]
    },
    {
     "name": "stderr",
     "output_type": "stream",
     "text": [
      "Metric val_loss improved by 0.060 >= min_delta = 0.0001. New best score: 6.999\n"
     ]
    },
    {
     "name": "stdout",
     "output_type": "stream",
     "text": [
      "Epoch 6: 100%|██████████| 16/16 [00:00<00:00, 30.73it/s, train_loss_step=7.240, val_loss=6.910, val_price_loss=5.82e+9, val_category_loss=1.090, val_accuracy=0.688, val_rmse=7.48e+4, train_loss_epoch=7.620]"
     ]
    },
    {
     "name": "stderr",
     "output_type": "stream",
     "text": [
      "Metric val_loss improved by 0.088 >= min_delta = 0.0001. New best score: 6.911\n"
     ]
    },
    {
     "name": "stdout",
     "output_type": "stream",
     "text": [
      "Epoch 11: 100%|██████████| 16/16 [00:00<00:00, 28.97it/s, train_loss_step=6.420, val_loss=8.500, val_price_loss=6.76e+9, val_category_loss=1.740, val_accuracy=0.592, val_rmse=8.04e+4, train_loss_epoch=7.740]"
     ]
    },
    {
     "name": "stderr",
     "output_type": "stream",
     "text": [
      "Monitored metric val_loss did not improve in the last 5 records. Best score: 6.911. Signaling Trainer to stop.\n"
     ]
    },
    {
     "name": "stdout",
     "output_type": "stream",
     "text": [
      "Epoch 11: 100%|██████████| 16/16 [00:00<00:00, 21.37it/s, train_loss_step=6.420, val_loss=8.500, val_price_loss=6.76e+9, val_category_loss=1.740, val_accuracy=0.592, val_rmse=8.04e+4, train_loss_epoch=7.740]"
     ]
    },
    {
     "name": "stderr",
     "output_type": "stream",
     "text": [
      "[I 2024-04-28 23:55:45,537] Trial 102 finished with value: 8.49821662902832 and parameters: {'num_layers': 1, 'hidden_dim': 512, 'embedding_dim': 13, 'lr': 0.019511262121027398, 'optimizer_type': 'Adam', 'relu_type': 'ReLU', 'droupoutrate': 0.33170616490771127}. Best is trial 32 with value: 6.927556991577148.\n",
      "GPU available: True (cuda), used: True\n",
      "TPU available: False, using: 0 TPU cores\n",
      "IPU available: False, using: 0 IPUs\n",
      "HPU available: False, using: 0 HPUs\n",
      "LOCAL_RANK: 0 - CUDA_VISIBLE_DEVICES: [0]\n",
      "\n",
      "  | Name            | Type       | Params\n",
      "-----------------------------------------------\n",
      "0 | embeddings      | ModuleList | 2.5 K \n",
      "1 | fc              | Sequential | 745 K \n",
      "2 | output_category | Sequential | 534 K \n",
      "3 | output_price    | Sequential | 525 K \n",
      "-----------------------------------------------\n",
      "1.8 M     Trainable params\n",
      "0         Non-trainable params\n",
      "1.8 M     Total params\n",
      "7.231     Total estimated model params size (MB)\n"
     ]
    },
    {
     "name": "stdout",
     "output_type": "stream",
     "text": [
      "\n",
      "Number of embedding layers: 36\n",
      "Epoch 0: 100%|██████████| 16/16 [00:00<00:00, 35.99it/s, train_loss_step=17.00]"
     ]
    },
    {
     "name": "stderr",
     "output_type": "stream",
     "text": [
      "[I 2024-04-28 23:55:46,181] Trial 103 pruned. Trial was pruned at epoch 0.\n"
     ]
    },
    {
     "name": "stdout",
     "output_type": "stream",
     "text": [
      "Number of embedding layers: 36\n"
     ]
    },
    {
     "name": "stderr",
     "output_type": "stream",
     "text": [
      "GPU available: True (cuda), used: True\n",
      "TPU available: False, using: 0 TPU cores\n",
      "IPU available: False, using: 0 IPUs\n",
      "HPU available: False, using: 0 HPUs\n",
      "LOCAL_RANK: 0 - CUDA_VISIBLE_DEVICES: [0]\n",
      "\n",
      "  | Name            | Type       | Params\n",
      "-----------------------------------------------\n",
      "0 | embeddings      | ModuleList | 2.8 K \n",
      "1 | fc              | Sequential | 764 K \n",
      "2 | output_category | Sequential | 534 K \n",
      "3 | output_price    | Sequential | 525 K \n",
      "-----------------------------------------------\n",
      "1.8 M     Trainable params\n",
      "0         Non-trainable params\n",
      "1.8 M     Total params\n",
      "7.306     Total estimated model params size (MB)\n"
     ]
    },
    {
     "name": "stdout",
     "output_type": "stream",
     "text": [
      "Epoch 0: 100%|██████████| 16/16 [00:00<00:00, 25.68it/s, train_loss_step=17.00]\n",
      "Epoch 0: 100%|██████████| 16/16 [00:00<00:00, 32.02it/s, train_loss_step=11.90, val_loss=17.80, val_price_loss=1.3e+10, val_category_loss=4.730, val_accuracy=0.381, val_rmse=1.13e+5, train_loss_epoch=27.90]"
     ]
    },
    {
     "name": "stderr",
     "output_type": "stream",
     "text": [
      "Metric val_loss improved. New best score: 17.754\n"
     ]
    },
    {
     "name": "stdout",
     "output_type": "stream",
     "text": [
      "Epoch 1: 100%|██████████| 16/16 [00:00<00:00, 32.41it/s, train_loss_step=9.040, val_loss=8.910, val_price_loss=5.97e+9, val_category_loss=2.950, val_accuracy=0.528, val_rmse=7.56e+4, train_loss_epoch=10.80]"
     ]
    },
    {
     "name": "stderr",
     "output_type": "stream",
     "text": [
      "Metric val_loss improved by 8.840 >= min_delta = 0.0001. New best score: 8.914\n"
     ]
    },
    {
     "name": "stdout",
     "output_type": "stream",
     "text": [
      "Epoch 2: 100%|██████████| 16/16 [00:00<00:00, 34.60it/s, train_loss_step=8.250, val_loss=8.910, val_price_loss=5.97e+9, val_category_loss=2.950, val_accuracy=0.528, val_rmse=7.56e+4, train_loss_epoch=10.80]"
     ]
    },
    {
     "name": "stderr",
     "output_type": "stream",
     "text": [
      "[I 2024-04-28 23:55:48,227] Trial 104 pruned. Trial was pruned at epoch 2.\n"
     ]
    },
    {
     "name": "stdout",
     "output_type": "stream",
     "text": [
      "Number of embedding layers: 36\n"
     ]
    },
    {
     "name": "stderr",
     "output_type": "stream",
     "text": [
      "GPU available: True (cuda), used: True\n",
      "TPU available: False, using: 0 TPU cores\n",
      "IPU available: False, using: 0 IPUs\n",
      "HPU available: False, using: 0 HPUs\n",
      "LOCAL_RANK: 0 - CUDA_VISIBLE_DEVICES: [0]\n",
      "\n",
      "  | Name            | Type       | Params\n",
      "-----------------------------------------------\n",
      "0 | embeddings      | ModuleList | 3.2 K \n",
      "1 | fc              | Sequential | 801 K \n",
      "2 | output_category | Sequential | 534 K \n",
      "3 | output_price    | Sequential | 525 K \n",
      "-----------------------------------------------\n",
      "1.9 M     Trainable params\n",
      "0         Non-trainable params\n",
      "1.9 M     Total params\n",
      "7.455     Total estimated model params size (MB)\n"
     ]
    },
    {
     "name": "stdout",
     "output_type": "stream",
     "text": [
      "Epoch 0: 100%|██████████| 16/16 [00:00<00:00, 30.73it/s, train_loss_step=12.10, val_loss=11.40, val_price_loss=9.01e+9, val_category_loss=2.370, val_accuracy=0.367, val_rmse=8.56e+4, train_loss_epoch=34.40]"
     ]
    },
    {
     "name": "stderr",
     "output_type": "stream",
     "text": [
      "Metric val_loss improved. New best score: 11.387\n"
     ]
    },
    {
     "name": "stdout",
     "output_type": "stream",
     "text": [
      "Epoch 1: 100%|██████████| 16/16 [00:00<00:00, 33.11it/s, train_loss_step=10.50, val_loss=8.600, val_price_loss=6.62e+9, val_category_loss=1.980, val_accuracy=0.491, val_rmse=8.44e+4, train_loss_epoch=10.20]"
     ]
    },
    {
     "name": "stderr",
     "output_type": "stream",
     "text": [
      "Metric val_loss improved by 2.785 >= min_delta = 0.0001. New best score: 8.602\n"
     ]
    },
    {
     "name": "stdout",
     "output_type": "stream",
     "text": [
      "Epoch 2: 100%|██████████| 16/16 [00:00<00:00, 32.11it/s, train_loss_step=8.140, val_loss=7.790, val_price_loss=6.59e+9, val_category_loss=1.200, val_accuracy=0.573, val_rmse=8.36e+4, train_loss_epoch=8.920]"
     ]
    },
    {
     "name": "stderr",
     "output_type": "stream",
     "text": [
      "Metric val_loss improved by 0.814 >= min_delta = 0.0001. New best score: 7.788\n"
     ]
    },
    {
     "name": "stdout",
     "output_type": "stream",
     "text": [
      "Epoch 3: 100%|██████████| 16/16 [00:00<00:00, 32.40it/s, train_loss_step=7.350, val_loss=7.070, val_price_loss=5.9e+9, val_category_loss=1.180, val_accuracy=0.628, val_rmse=7.64e+4, train_loss_epoch=8.240] "
     ]
    },
    {
     "name": "stderr",
     "output_type": "stream",
     "text": [
      "Metric val_loss improved by 0.716 >= min_delta = 0.0001. New best score: 7.073\n"
     ]
    },
    {
     "name": "stdout",
     "output_type": "stream",
     "text": [
      "Epoch 5: 100%|██████████| 16/16 [00:00<00:00, 29.37it/s, train_loss_step=6.380, val_loss=7.000, val_price_loss=5.93e+9, val_category_loss=1.060, val_accuracy=0.665, val_rmse=7.36e+4, train_loss_epoch=7.840]"
     ]
    },
    {
     "name": "stderr",
     "output_type": "stream",
     "text": [
      "Metric val_loss improved by 0.073 >= min_delta = 0.0001. New best score: 6.999\n"
     ]
    },
    {
     "name": "stdout",
     "output_type": "stream",
     "text": [
      "Epoch 10: 100%|██████████| 16/16 [00:00<00:00, 31.35it/s, train_loss_step=6.800, val_loss=8.090, val_price_loss=5.89e+9, val_category_loss=2.200, val_accuracy=0.610, val_rmse=7.23e+4, train_loss_epoch=7.600]"
     ]
    },
    {
     "name": "stderr",
     "output_type": "stream",
     "text": [
      "Monitored metric val_loss did not improve in the last 5 records. Best score: 6.999. Signaling Trainer to stop.\n"
     ]
    },
    {
     "name": "stdout",
     "output_type": "stream",
     "text": [
      "Epoch 10: 100%|██████████| 16/16 [00:00<00:00, 22.76it/s, train_loss_step=6.800, val_loss=8.090, val_price_loss=5.89e+9, val_category_loss=2.200, val_accuracy=0.610, val_rmse=7.23e+4, train_loss_epoch=7.600]"
     ]
    },
    {
     "name": "stderr",
     "output_type": "stream",
     "text": [
      "[I 2024-04-28 23:55:56,281] Trial 105 finished with value: 8.088725090026855 and parameters: {'num_layers': 1, 'hidden_dim': 512, 'embedding_dim': 14, 'lr': 0.039027348299854964, 'optimizer_type': 'Adam', 'relu_type': 'ReLU', 'droupoutrate': 0.3899403481404348}. Best is trial 32 with value: 6.927556991577148.\n",
      "GPU available: True (cuda), used: True\n",
      "TPU available: False, using: 0 TPU cores\n",
      "IPU available: False, using: 0 IPUs\n",
      "HPU available: False, using: 0 HPUs\n",
      "LOCAL_RANK: 0 - CUDA_VISIBLE_DEVICES: [0]\n",
      "\n",
      "  | Name            | Type       | Params\n",
      "-----------------------------------------------\n",
      "0 | embeddings      | ModuleList | 1.2 K \n",
      "1 | fc              | Sequential | 635 K \n",
      "2 | output_category | Sequential | 534 K \n",
      "3 | output_price    | Sequential | 525 K \n",
      "-----------------------------------------------\n",
      "1.7 M     Trainable params\n",
      "0         Non-trainable params\n",
      "1.7 M     Total params\n",
      "6.784     Total estimated model params size (MB)\n"
     ]
    },
    {
     "name": "stdout",
     "output_type": "stream",
     "text": [
      "\n",
      "Number of embedding layers: 36\n",
      "Epoch 0: 100%|██████████| 16/16 [00:00<00:00, 30.73it/s, train_loss_step=12.90]"
     ]
    },
    {
     "name": "stderr",
     "output_type": "stream",
     "text": [
      "[I 2024-04-28 23:55:56,988] Trial 106 pruned. Trial was pruned at epoch 0.\n"
     ]
    },
    {
     "name": "stdout",
     "output_type": "stream",
     "text": [
      "Epoch 0: 100%|██████████| 16/16 [00:00<00:00, 25.67it/s, train_loss_step=12.90]\n",
      "Number of embedding layers: 36\n"
     ]
    },
    {
     "name": "stderr",
     "output_type": "stream",
     "text": [
      "GPU available: True (cuda), used: True\n",
      "TPU available: False, using: 0 TPU cores\n",
      "IPU available: False, using: 0 IPUs\n",
      "HPU available: False, using: 0 HPUs\n",
      "LOCAL_RANK: 0 - CUDA_VISIBLE_DEVICES: [0]\n",
      "\n",
      "  | Name            | Type       | Params\n",
      "-----------------------------------------------\n",
      "0 | embeddings      | ModuleList | 1.4 K \n",
      "1 | fc              | Sequential | 2.4 M \n",
      "2 | output_category | Sequential | 2.1 M \n",
      "3 | output_price    | Sequential | 2.1 M \n",
      "-----------------------------------------------\n",
      "6.6 M     Trainable params\n",
      "0         Non-trainable params\n",
      "6.6 M     Total params\n",
      "26.294    Total estimated model params size (MB)\n"
     ]
    },
    {
     "name": "stdout",
     "output_type": "stream",
     "text": [
      "Epoch 0: 100%|██████████| 16/16 [00:00<00:00, 28.60it/s, train_loss_step=20.10]"
     ]
    },
    {
     "name": "stderr",
     "output_type": "stream",
     "text": [
      "[I 2024-04-28 23:55:57,788] Trial 107 pruned. Trial was pruned at epoch 0.\n"
     ]
    },
    {
     "name": "stdout",
     "output_type": "stream",
     "text": [
      "Number of embedding layers: 36\n"
     ]
    },
    {
     "name": "stderr",
     "output_type": "stream",
     "text": [
      "GPU available: True (cuda), used: True\n",
      "TPU available: False, using: 0 TPU cores\n",
      "IPU available: False, using: 0 IPUs\n",
      "HPU available: False, using: 0 HPUs\n",
      "LOCAL_RANK: 0 - CUDA_VISIBLE_DEVICES: [0]\n",
      "\n",
      "  | Name            | Type       | Params\n",
      "-----------------------------------------------\n",
      "0 | embeddings      | ModuleList | 1.2 K \n",
      "1 | fc              | Sequential | 1.7 M \n",
      "2 | output_category | Sequential | 534 K \n",
      "3 | output_price    | Sequential | 525 K \n",
      "-----------------------------------------------\n",
      "2.7 M     Trainable params\n",
      "0         Non-trainable params\n",
      "2.7 M     Total params\n",
      "10.982    Total estimated model params size (MB)\n"
     ]
    },
    {
     "name": "stdout",
     "output_type": "stream",
     "text": [
      "Epoch 0: 100%|██████████| 16/16 [00:00<00:00, 50.54it/s, train_loss_step=33.70] "
     ]
    },
    {
     "name": "stderr",
     "output_type": "stream",
     "text": [
      "[I 2024-04-28 23:55:58,290] Trial 108 pruned. Trial was pruned at epoch 0.\n"
     ]
    },
    {
     "name": "stdout",
     "output_type": "stream",
     "text": [
      "Number of embedding layers: 36\n"
     ]
    },
    {
     "name": "stderr",
     "output_type": "stream",
     "text": [
      "GPU available: True (cuda), used: True\n",
      "TPU available: False, using: 0 TPU cores\n",
      "IPU available: False, using: 0 IPUs\n",
      "HPU available: False, using: 0 HPUs\n"
     ]
    },
    {
     "name": "stdout",
     "output_type": "stream",
     "text": [
      "Epoch 0: 100%|██████████| 16/16 [00:00<00:00, 36.10it/s, train_loss_step=33.70]\n"
     ]
    },
    {
     "name": "stderr",
     "output_type": "stream",
     "text": [
      "LOCAL_RANK: 0 - CUDA_VISIBLE_DEVICES: [0]\n",
      "\n",
      "  | Name            | Type       | Params\n",
      "-----------------------------------------------\n",
      "0 | embeddings      | ModuleList | 2.8 K \n",
      "1 | fc              | Sequential | 764 K \n",
      "2 | output_category | Sequential | 534 K \n",
      "3 | output_price    | Sequential | 525 K \n",
      "-----------------------------------------------\n",
      "1.8 M     Trainable params\n",
      "0         Non-trainable params\n",
      "1.8 M     Total params\n",
      "7.306     Total estimated model params size (MB)\n"
     ]
    },
    {
     "name": "stdout",
     "output_type": "stream",
     "text": [
      "Epoch 0: 100%|██████████| 16/16 [00:00<00:00, 51.91it/s, train_loss_step=13.50]"
     ]
    },
    {
     "name": "stderr",
     "output_type": "stream",
     "text": [
      "[I 2024-04-28 23:55:58,762] Trial 109 pruned. Trial was pruned at epoch 0.\n"
     ]
    },
    {
     "name": "stdout",
     "output_type": "stream",
     "text": [
      "Number of embedding layers: 36\n"
     ]
    },
    {
     "name": "stderr",
     "output_type": "stream",
     "text": [
      "GPU available: True (cuda), used: True\n",
      "TPU available: False, using: 0 TPU cores\n",
      "IPU available: False, using: 0 IPUs\n",
      "HPU available: False, using: 0 HPUs\n",
      "LOCAL_RANK: 0 - CUDA_VISIBLE_DEVICES: [0]\n",
      "\n",
      "  | Name            | Type       | Params\n",
      "-----------------------------------------------\n",
      "0 | embeddings      | ModuleList | 1.4 K \n",
      "1 | fc              | Sequential | 653 K \n",
      "2 | output_category | Sequential | 534 K \n",
      "3 | output_price    | Sequential | 525 K \n",
      "-----------------------------------------------\n",
      "1.7 M     Trainable params\n",
      "0         Non-trainable params\n",
      "1.7 M     Total params\n",
      "6.858     Total estimated model params size (MB)\n"
     ]
    },
    {
     "name": "stdout",
     "output_type": "stream",
     "text": [
      "Epoch 0: 100%|██████████| 16/16 [00:00<00:00, 43.11it/s, train_loss_step=14.70, val_loss=11.90, val_price_loss=7.52e+9, val_category_loss=4.390, val_accuracy=0.321, val_rmse=9.75e+4, train_loss_epoch=34.50]"
     ]
    },
    {
     "name": "stderr",
     "output_type": "stream",
     "text": [
      "Metric val_loss improved. New best score: 11.911\n"
     ]
    },
    {
     "name": "stdout",
     "output_type": "stream",
     "text": [
      "Epoch 1: 100%|██████████| 16/16 [00:00<00:00, 35.90it/s, train_loss_step=13.70, val_loss=9.890, val_price_loss=8.19e+9, val_category_loss=1.700, val_accuracy=0.532, val_rmse=8.84e+4, train_loss_epoch=11.20]"
     ]
    },
    {
     "name": "stderr",
     "output_type": "stream",
     "text": [
      "Metric val_loss improved by 2.023 >= min_delta = 0.0001. New best score: 9.888\n"
     ]
    },
    {
     "name": "stdout",
     "output_type": "stream",
     "text": [
      "Epoch 2: 100%|██████████| 16/16 [00:00<00:00, 34.72it/s, train_loss_step=8.080, val_loss=8.110, val_price_loss=6.57e+9, val_category_loss=1.540, val_accuracy=0.422, val_rmse=7.15e+4, train_loss_epoch=9.390]"
     ]
    },
    {
     "name": "stderr",
     "output_type": "stream",
     "text": [
      "Metric val_loss improved by 1.775 >= min_delta = 0.0001. New best score: 8.113\n"
     ]
    },
    {
     "name": "stdout",
     "output_type": "stream",
     "text": [
      "Epoch 3: 100%|██████████| 16/16 [00:00<00:00, 33.09it/s, train_loss_step=13.20, val_loss=7.290, val_price_loss=5.94e+9, val_category_loss=1.350, val_accuracy=0.523, val_rmse=7.29e+4, train_loss_epoch=9.060]"
     ]
    },
    {
     "name": "stderr",
     "output_type": "stream",
     "text": [
      "Metric val_loss improved by 0.819 >= min_delta = 0.0001. New best score: 7.293\n"
     ]
    },
    {
     "name": "stdout",
     "output_type": "stream",
     "text": [
      "Epoch 4: 100%|██████████| 16/16 [00:00<00:00, 29.78it/s, train_loss_step=6.200, val_loss=7.140, val_price_loss=6e+9, val_category_loss=1.130, val_accuracy=0.633, val_rmse=7.64e+4, train_loss_epoch=8.120]   "
     ]
    },
    {
     "name": "stderr",
     "output_type": "stream",
     "text": [
      "Metric val_loss improved by 0.157 >= min_delta = 0.0001. New best score: 7.137\n"
     ]
    },
    {
     "name": "stdout",
     "output_type": "stream",
     "text": [
      "Epoch 5: 100%|██████████| 16/16 [00:00<00:00, 29.93it/s, train_loss_step=10.20, val_loss=7.120, val_price_loss=6.01e+9, val_category_loss=1.100, val_accuracy=0.628, val_rmse=7.84e+4, train_loss_epoch=8.170]"
     ]
    },
    {
     "name": "stderr",
     "output_type": "stream",
     "text": [
      "Metric val_loss improved by 0.020 >= min_delta = 0.0001. New best score: 7.116\n"
     ]
    },
    {
     "name": "stdout",
     "output_type": "stream",
     "text": [
      "Epoch 0: 100%|██████████| 16/16 [02:39<00:00,  0.10it/s, train_loss_step=14.70]\n",
      "Epoch 1: 100%|██████████| 16/16 [02:22<00:00,  0.11it/s, train_loss_step=7.060, val_loss=20.30, val_price_loss=1.66e+10, val_category_loss=3.730, val_accuracy=0.450, val_rmse=1.27e+5, train_loss_epoch=27.30]\n",
      "Epoch 0: 100%|██████████| 16/16 [02:21<00:00,  0.11it/s, train_loss_step=12.60]\n",
      "Epoch 0: 100%|██████████| 16/16 [02:10<00:00,  0.12it/s, train_loss_step=46.80]\n",
      "Epoch 1: 100%|██████████| 16/16 [02:08<00:00,  0.12it/s, train_loss_step=9.710, val_loss=14.90, val_price_loss=8.65e+9, val_category_loss=6.240, val_accuracy=0.413, val_rmse=9.65e+4, train_loss_epoch=26.80]\n",
      "Epoch 0: 100%|██████████| 16/16 [01:50<00:00,  0.15it/s, train_loss_step=45.30]\n",
      "Epoch 1: 100%|██████████| 16/16 [01:37<00:00,  0.16it/s, train_loss_step=11.70, val_loss=21.70, val_price_loss=9.45e+9, val_category_loss=12.20, val_accuracy=0.271, val_rmse=9.36e+4, train_loss_epoch=75.60]\n",
      "Epoch 1: 100%|██████████| 16/16 [01:29<00:00,  0.18it/s, train_loss_step=8.060, val_loss=21.70, val_price_loss=8.06e+9, val_category_loss=13.60, val_accuracy=0.344, val_rmse=8.69e+4, train_loss_epoch=32.20]\n",
      "Epoch 0: 100%|██████████| 16/16 [01:27<00:00,  0.18it/s, train_loss_step=13.30]\n",
      "Epoch 0: 100%|██████████| 16/16 [01:18<00:00,  0.20it/s, train_loss_step=10.70]\n",
      "Epoch 0: 100%|██████████| 16/16 [01:17<00:00,  0.21it/s, train_loss_step=36.50]\n",
      "Epoch 0: 100%|██████████| 16/16 [01:14<00:00,  0.21it/s, train_loss_step=40.20]\n",
      "Epoch 1: 100%|██████████| 16/16 [01:12<00:00,  0.22it/s, train_loss_step=7.610, val_loss=14.90, val_price_loss=1.08e+10, val_category_loss=4.180, val_accuracy=0.427, val_rmse=1.05e+5, train_loss_epoch=26.20]\n",
      "Epoch 3: 100%|██████████| 16/16 [00:56<00:00,  0.28it/s, train_loss_step=8.180, val_loss=8.740, val_price_loss=7.43e+9, val_category_loss=1.310, val_accuracy=0.596, val_rmse=8.13e+4, train_loss_epoch=8.790]\n",
      "Epoch 1: 100%|██████████| 16/16 [00:55<00:00,  0.29it/s, train_loss_step=7.570, val_loss=12.20, val_price_loss=8.7e+9, val_category_loss=3.470, val_accuracy=0.459, val_rmse=9.12e+4, train_loss_epoch=23.10]\n",
      "Epoch 0: 100%|██████████| 16/16 [00:38<00:00,  0.42it/s, train_loss_step=6.160]\n",
      "Epoch 0: 100%|██████████| 16/16 [00:37<00:00,  0.43it/s, train_loss_step=12.50]\n",
      "Epoch 0: 100%|██████████| 16/16 [00:35<00:00,  0.45it/s, train_loss_step=37.50]\n",
      "Epoch 2: 100%|██████████| 16/16 [00:14<00:00,  1.07it/s, train_loss_step=8.250, val_loss=8.910, val_price_loss=5.97e+9, val_category_loss=2.950, val_accuracy=0.528, val_rmse=7.56e+4, train_loss_epoch=10.80]\n",
      "Epoch 0: 100%|██████████| 16/16 [00:05<00:00,  2.92it/s, train_loss_step=20.10]\n",
      "Epoch 0: 100%|██████████| 16/16 [00:04<00:00,  3.79it/s, train_loss_step=13.50]\n",
      "Epoch 9: 100%|██████████| 16/16 [00:00<00:00, 31.77it/s, train_loss_step=11.20, val_loss=6.890, val_price_loss=5.88e+9, val_category_loss=1.010, val_accuracy=0.697, val_rmse=7.62e+4, train_loss_epoch=7.670]"
     ]
    },
    {
     "name": "stderr",
     "output_type": "stream",
     "text": [
      "Metric val_loss improved by 0.227 >= min_delta = 0.0001. New best score: 6.889\n"
     ]
    },
    {
     "name": "stdout",
     "output_type": "stream",
     "text": [
      "Epoch 10: 100%|██████████| 16/16 [00:00<00:00, 30.96it/s, train_loss_step=4.770, val_loss=6.830, val_price_loss=5.86e+9, val_category_loss=0.974, val_accuracy=0.720, val_rmse=7.45e+4, train_loss_epoch=7.600]"
     ]
    },
    {
     "name": "stderr",
     "output_type": "stream",
     "text": [
      "Metric val_loss improved by 0.060 >= min_delta = 0.0001. New best score: 6.830\n"
     ]
    },
    {
     "name": "stdout",
     "output_type": "stream",
     "text": [
      "Epoch 15: 100%|██████████| 16/16 [00:00<00:00, 29.05it/s, train_loss_step=6.200, val_loss=8.120, val_price_loss=6.8e+9, val_category_loss=1.320, val_accuracy=0.683, val_rmse=8.43e+4, train_loss_epoch=8.310] "
     ]
    },
    {
     "name": "stderr",
     "output_type": "stream",
     "text": [
      "Monitored metric val_loss did not improve in the last 5 records. Best score: 6.830. Signaling Trainer to stop.\n"
     ]
    },
    {
     "name": "stdout",
     "output_type": "stream",
     "text": [
      "Epoch 15: 100%|██████████| 16/16 [00:00<00:00, 23.11it/s, train_loss_step=6.200, val_loss=8.120, val_price_loss=6.8e+9, val_category_loss=1.320, val_accuracy=0.683, val_rmse=8.43e+4, train_loss_epoch=8.310]"
     ]
    },
    {
     "name": "stderr",
     "output_type": "stream",
     "text": [
      "[I 2024-04-28 23:56:09,528] Trial 110 finished with value: 8.116660118103027 and parameters: {'num_layers': 1, 'hidden_dim': 512, 'embedding_dim': 6, 'lr': 0.059401194379994436, 'optimizer_type': 'Adam', 'relu_type': 'ReLU', 'droupoutrate': 0.3068094816229314}. Best is trial 32 with value: 6.927556991577148.\n"
     ]
    },
    {
     "name": "stdout",
     "output_type": "stream",
     "text": [
      "\n",
      "Number of embedding layers: 36\n"
     ]
    },
    {
     "name": "stderr",
     "output_type": "stream",
     "text": [
      "GPU available: True (cuda), used: True\n",
      "TPU available: False, using: 0 TPU cores\n",
      "IPU available: False, using: 0 IPUs\n",
      "HPU available: False, using: 0 HPUs\n",
      "LOCAL_RANK: 0 - CUDA_VISIBLE_DEVICES: [0]\n",
      "\n",
      "  | Name            | Type       | Params\n",
      "-----------------------------------------------\n",
      "0 | embeddings      | ModuleList | 2.3 K \n",
      "1 | fc              | Sequential | 727 K \n",
      "2 | output_category | Sequential | 534 K \n",
      "3 | output_price    | Sequential | 525 K \n",
      "-----------------------------------------------\n",
      "1.8 M     Trainable params\n",
      "0         Non-trainable params\n",
      "1.8 M     Total params\n",
      "7.157     Total estimated model params size (MB)\n"
     ]
    },
    {
     "name": "stdout",
     "output_type": "stream",
     "text": [
      "Epoch 0: 100%|██████████| 16/16 [00:00<00:00, 28.96it/s, train_loss_step=10.70, val_loss=18.00, val_price_loss=8.58e+9, val_category_loss=9.410, val_accuracy=0.381, val_rmse=8.6e+4, train_loss_epoch=22.50]"
     ]
    },
    {
     "name": "stderr",
     "output_type": "stream",
     "text": [
      "Metric val_loss improved. New best score: 17.987\n"
     ]
    },
    {
     "name": "stdout",
     "output_type": "stream",
     "text": [
      "Epoch 1: 100%|██████████| 16/16 [00:00<00:00, 30.44it/s, train_loss_step=10.60, val_loss=8.450, val_price_loss=6.14e+9, val_category_loss=2.300, val_accuracy=0.450, val_rmse=7.97e+4, train_loss_epoch=9.750]"
     ]
    },
    {
     "name": "stderr",
     "output_type": "stream",
     "text": [
      "Metric val_loss improved by 9.542 >= min_delta = 0.0001. New best score: 8.446\n"
     ]
    },
    {
     "name": "stdout",
     "output_type": "stream",
     "text": [
      "Epoch 2: 100%|██████████| 16/16 [00:00<00:00, 31.52it/s, train_loss_step=8.200, val_loss=7.490, val_price_loss=6.53e+9, val_category_loss=0.957, val_accuracy=0.702, val_rmse=8.08e+4, train_loss_epoch=8.260]"
     ]
    },
    {
     "name": "stderr",
     "output_type": "stream",
     "text": [
      "Metric val_loss improved by 0.954 >= min_delta = 0.0001. New best score: 7.492\n"
     ]
    },
    {
     "name": "stdout",
     "output_type": "stream",
     "text": [
      "Epoch 3: 100%|██████████| 16/16 [00:00<00:00, 32.61it/s, train_loss_step=6.400, val_loss=7.080, val_price_loss=6.05e+9, val_category_loss=1.030, val_accuracy=0.688, val_rmse=7.39e+4, train_loss_epoch=7.910]"
     ]
    },
    {
     "name": "stderr",
     "output_type": "stream",
     "text": [
      "Metric val_loss improved by 0.413 >= min_delta = 0.0001. New best score: 7.079\n"
     ]
    },
    {
     "name": "stdout",
     "output_type": "stream",
     "text": [
      "Epoch 4: 100%|██████████| 16/16 [00:00<00:00, 31.47it/s, train_loss_step=10.50, val_loss=7.050, val_price_loss=5.99e+9, val_category_loss=1.060, val_accuracy=0.679, val_rmse=7.8e+4, train_loss_epoch=7.800] "
     ]
    },
    {
     "name": "stderr",
     "output_type": "stream",
     "text": [
      "Metric val_loss improved by 0.024 >= min_delta = 0.0001. New best score: 7.055\n"
     ]
    },
    {
     "name": "stdout",
     "output_type": "stream",
     "text": [
      "Epoch 5: 100%|██████████| 16/16 [00:00<00:00, 30.54it/s, train_loss_step=5.170, val_loss=6.900, val_price_loss=5.98e+9, val_category_loss=0.911, val_accuracy=0.688, val_rmse=7.8e+4, train_loss_epoch=7.960]"
     ]
    },
    {
     "name": "stderr",
     "output_type": "stream",
     "text": [
      "Metric val_loss improved by 0.160 >= min_delta = 0.0001. New best score: 6.895\n"
     ]
    },
    {
     "name": "stdout",
     "output_type": "stream",
     "text": [
      "Epoch 10: 100%|██████████| 16/16 [00:00<00:00, 30.67it/s, train_loss_step=10.80, val_loss=7.710, val_price_loss=6.37e+9, val_category_loss=1.340, val_accuracy=0.706, val_rmse=7.94e+4, train_loss_epoch=7.430]"
     ]
    },
    {
     "name": "stderr",
     "output_type": "stream",
     "text": [
      "Monitored metric val_loss did not improve in the last 5 records. Best score: 6.895. Signaling Trainer to stop.\n"
     ]
    },
    {
     "name": "stdout",
     "output_type": "stream",
     "text": [
      "Epoch 10: 100%|██████████| 16/16 [00:00<00:00, 23.07it/s, train_loss_step=10.80, val_loss=7.710, val_price_loss=6.37e+9, val_category_loss=1.340, val_accuracy=0.706, val_rmse=7.94e+4, train_loss_epoch=7.430]"
     ]
    },
    {
     "name": "stderr",
     "output_type": "stream",
     "text": [
      "[I 2024-04-28 23:56:17,429] Trial 111 finished with value: 7.711685657501221 and parameters: {'num_layers': 1, 'hidden_dim': 512, 'embedding_dim': 10, 'lr': 0.02175159171840855, 'optimizer_type': 'Adam', 'relu_type': 'ReLU', 'droupoutrate': 0.3468614853571026}. Best is trial 32 with value: 6.927556991577148.\n"
     ]
    },
    {
     "name": "stdout",
     "output_type": "stream",
     "text": [
      "\n"
     ]
    },
    {
     "name": "stderr",
     "output_type": "stream",
     "text": [
      "GPU available: True (cuda), used: True\n",
      "TPU available: False, using: 0 TPU cores\n",
      "IPU available: False, using: 0 IPUs\n",
      "HPU available: False, using: 0 HPUs\n",
      "LOCAL_RANK: 0 - CUDA_VISIBLE_DEVICES: [0]\n",
      "\n",
      "  | Name            | Type       | Params\n",
      "-----------------------------------------------\n",
      "0 | embeddings      | ModuleList | 2.3 K \n",
      "1 | fc              | Sequential | 727 K \n",
      "2 | output_category | Sequential | 534 K \n",
      "3 | output_price    | Sequential | 525 K \n",
      "-----------------------------------------------\n",
      "1.8 M     Trainable params\n",
      "0         Non-trainable params\n",
      "1.8 M     Total params\n",
      "7.157     Total estimated model params size (MB)\n"
     ]
    },
    {
     "name": "stdout",
     "output_type": "stream",
     "text": [
      "Number of embedding layers: 36\n",
      "Epoch 0: 100%|██████████| 16/16 [00:00<00:00, 30.09it/s, train_loss_step=10.30, val_loss=15.70, val_price_loss=7.17e+9, val_category_loss=8.500, val_accuracy=0.252, val_rmse=8.14e+4, train_loss_epoch=27.30]"
     ]
    },
    {
     "name": "stderr",
     "output_type": "stream",
     "text": [
      "Metric val_loss improved. New best score: 15.667\n"
     ]
    },
    {
     "name": "stdout",
     "output_type": "stream",
     "text": [
      "Epoch 1: 100%|██████████| 16/16 [00:00<00:00, 32.25it/s, train_loss_step=12.10, val_loss=9.120, val_price_loss=6.72e+9, val_category_loss=2.400, val_accuracy=0.564, val_rmse=8.58e+4, train_loss_epoch=10.50]"
     ]
    },
    {
     "name": "stderr",
     "output_type": "stream",
     "text": [
      "Metric val_loss improved by 6.548 >= min_delta = 0.0001. New best score: 9.119\n"
     ]
    },
    {
     "name": "stdout",
     "output_type": "stream",
     "text": [
      "Epoch 2: 100%|██████████| 16/16 [00:00<00:00, 32.34it/s, train_loss_step=6.140, val_loss=7.180, val_price_loss=6.05e+9, val_category_loss=1.130, val_accuracy=0.596, val_rmse=7.34e+4, train_loss_epoch=8.660]"
     ]
    },
    {
     "name": "stderr",
     "output_type": "stream",
     "text": [
      "Metric val_loss improved by 1.936 >= min_delta = 0.0001. New best score: 7.183\n"
     ]
    },
    {
     "name": "stdout",
     "output_type": "stream",
     "text": [
      "Epoch 3: 100%|██████████| 16/16 [00:00<00:00, 31.71it/s, train_loss_step=10.00, val_loss=7.100, val_price_loss=5.9e+9, val_category_loss=1.200, val_accuracy=0.619, val_rmse=7.73e+4, train_loss_epoch=7.840] "
     ]
    },
    {
     "name": "stderr",
     "output_type": "stream",
     "text": [
      "Metric val_loss improved by 0.086 >= min_delta = 0.0001. New best score: 7.097\n"
     ]
    },
    {
     "name": "stdout",
     "output_type": "stream",
     "text": [
      "Epoch 4: 100%|██████████| 16/16 [00:00<00:00, 30.89it/s, train_loss_step=5.720, val_loss=6.940, val_price_loss=5.81e+9, val_category_loss=1.130, val_accuracy=0.702, val_rmse=7.48e+4, train_loss_epoch=7.870]"
     ]
    },
    {
     "name": "stderr",
     "output_type": "stream",
     "text": [
      "Metric val_loss improved by 0.154 >= min_delta = 0.0001. New best score: 6.944\n"
     ]
    },
    {
     "name": "stdout",
     "output_type": "stream",
     "text": [
      "Epoch 9: 100%|██████████| 16/16 [00:00<00:00, 22.76it/s, train_loss_step=7.850, val_loss=7.440, val_price_loss=5.96e+9, val_category_loss=1.480, val_accuracy=0.642, val_rmse=7.67e+4, train_loss_epoch=7.560]"
     ]
    },
    {
     "name": "stderr",
     "output_type": "stream",
     "text": [
      "Monitored metric val_loss did not improve in the last 5 records. Best score: 6.944. Signaling Trainer to stop.\n"
     ]
    },
    {
     "name": "stdout",
     "output_type": "stream",
     "text": [
      "Epoch 9: 100%|██████████| 16/16 [00:00<00:00, 18.21it/s, train_loss_step=7.850, val_loss=7.440, val_price_loss=5.96e+9, val_category_loss=1.480, val_accuracy=0.642, val_rmse=7.67e+4, train_loss_epoch=7.560]"
     ]
    },
    {
     "name": "stderr",
     "output_type": "stream",
     "text": [
      "[I 2024-04-28 23:56:24,925] Trial 112 finished with value: 7.444741249084473 and parameters: {'num_layers': 1, 'hidden_dim': 512, 'embedding_dim': 10, 'lr': 0.0202077190979391, 'optimizer_type': 'Adam', 'relu_type': 'ReLU', 'droupoutrate': 0.34608811466370104}. Best is trial 32 with value: 6.927556991577148.\n",
      "GPU available: True (cuda), used: True\n",
      "TPU available: False, using: 0 TPU cores\n",
      "IPU available: False, using: 0 IPUs\n",
      "HPU available: False, using: 0 HPUs\n",
      "LOCAL_RANK: 0 - CUDA_VISIBLE_DEVICES: [0]\n",
      "\n",
      "  | Name            | Type       | Params\n",
      "-----------------------------------------------\n",
      "0 | embeddings      | ModuleList | 2.3 K \n",
      "1 | fc              | Sequential | 727 K \n",
      "2 | output_category | Sequential | 534 K \n",
      "3 | output_price    | Sequential | 525 K \n",
      "-----------------------------------------------\n",
      "1.8 M     Trainable params\n",
      "0         Non-trainable params\n",
      "1.8 M     Total params\n",
      "7.157     Total estimated model params size (MB)\n"
     ]
    },
    {
     "name": "stdout",
     "output_type": "stream",
     "text": [
      "\n",
      "Number of embedding layers: 36\n",
      "Epoch 0: 100%|██████████| 16/16 [00:00<00:00, 27.19it/s, train_loss_step=12.50, val_loss=17.70, val_price_loss=1.18e+10, val_category_loss=5.890, val_accuracy=0.468, val_rmse=1.05e+5, train_loss_epoch=23.30]"
     ]
    },
    {
     "name": "stderr",
     "output_type": "stream",
     "text": [
      "Metric val_loss improved. New best score: 17.739\n"
     ]
    },
    {
     "name": "stdout",
     "output_type": "stream",
     "text": [
      "Epoch 1: 100%|██████████| 16/16 [00:00<00:00, 29.76it/s, train_loss_step=8.060, val_loss=7.860, val_price_loss=5.85e+9, val_category_loss=2.010, val_accuracy=0.537, val_rmse=7.29e+4, train_loss_epoch=10.20] "
     ]
    },
    {
     "name": "stderr",
     "output_type": "stream",
     "text": [
      "Metric val_loss improved by 9.877 >= min_delta = 0.0001. New best score: 7.862\n"
     ]
    },
    {
     "name": "stdout",
     "output_type": "stream",
     "text": [
      "Epoch 2: 100%|██████████| 16/16 [00:00<00:00, 31.83it/s, train_loss_step=14.40, val_loss=7.330, val_price_loss=5.89e+9, val_category_loss=1.450, val_accuracy=0.555, val_rmse=7.75e+4, train_loss_epoch=8.150]"
     ]
    },
    {
     "name": "stderr",
     "output_type": "stream",
     "text": [
      "Metric val_loss improved by 0.530 >= min_delta = 0.0001. New best score: 7.332\n"
     ]
    },
    {
     "name": "stdout",
     "output_type": "stream",
     "text": [
      "Epoch 3: 100%|██████████| 16/16 [00:00<00:00, 30.67it/s, train_loss_step=7.620, val_loss=6.860, val_price_loss=5.83e+9, val_category_loss=1.030, val_accuracy=0.642, val_rmse=7.57e+4, train_loss_epoch=8.060]"
     ]
    },
    {
     "name": "stderr",
     "output_type": "stream",
     "text": [
      "Metric val_loss improved by 0.472 >= min_delta = 0.0001. New best score: 6.860\n"
     ]
    },
    {
     "name": "stdout",
     "output_type": "stream",
     "text": [
      "Epoch 8: 100%|██████████| 16/16 [00:00<00:00, 31.77it/s, train_loss_step=11.30, val_loss=7.970, val_price_loss=6.36e+9, val_category_loss=1.610, val_accuracy=0.596, val_rmse=8.09e+4, train_loss_epoch=7.610]"
     ]
    },
    {
     "name": "stderr",
     "output_type": "stream",
     "text": [
      "Monitored metric val_loss did not improve in the last 5 records. Best score: 6.860. Signaling Trainer to stop.\n"
     ]
    },
    {
     "name": "stdout",
     "output_type": "stream",
     "text": [
      "Epoch 8: 100%|██████████| 16/16 [00:00<00:00, 23.85it/s, train_loss_step=11.30, val_loss=7.970, val_price_loss=6.36e+9, val_category_loss=1.610, val_accuracy=0.596, val_rmse=8.09e+4, train_loss_epoch=7.610]"
     ]
    },
    {
     "name": "stderr",
     "output_type": "stream",
     "text": [
      "[I 2024-04-28 23:56:31,473] Trial 113 finished with value: 7.973683834075928 and parameters: {'num_layers': 1, 'hidden_dim': 512, 'embedding_dim': 10, 'lr': 0.025857490434952446, 'optimizer_type': 'Adam', 'relu_type': 'ReLU', 'droupoutrate': 0.3774500392487488}. Best is trial 32 with value: 6.927556991577148.\n"
     ]
    },
    {
     "name": "stdout",
     "output_type": "stream",
     "text": [
      "\n"
     ]
    },
    {
     "name": "stderr",
     "output_type": "stream",
     "text": [
      "GPU available: True (cuda), used: True\n",
      "TPU available: False, using: 0 TPU cores\n",
      "IPU available: False, using: 0 IPUs\n",
      "HPU available: False, using: 0 HPUs\n",
      "LOCAL_RANK: 0 - CUDA_VISIBLE_DEVICES: [0]\n",
      "\n",
      "  | Name            | Type       | Params\n",
      "-----------------------------------------------\n",
      "0 | embeddings      | ModuleList | 2.3 K \n",
      "1 | fc              | Sequential | 727 K \n",
      "2 | output_category | Sequential | 534 K \n",
      "3 | output_price    | Sequential | 525 K \n",
      "-----------------------------------------------\n",
      "1.8 M     Trainable params\n",
      "0         Non-trainable params\n",
      "1.8 M     Total params\n",
      "7.157     Total estimated model params size (MB)\n"
     ]
    },
    {
     "name": "stdout",
     "output_type": "stream",
     "text": [
      "Number of embedding layers: 36\n",
      "Epoch 0: 100%|██████████| 16/16 [00:00<00:00, 31.46it/s, train_loss_step=23.70, val_loss=12.70, val_price_loss=6.64e+9, val_category_loss=6.070, val_accuracy=0.385, val_rmse=6.95e+4, train_loss_epoch=21.20]"
     ]
    },
    {
     "name": "stderr",
     "output_type": "stream",
     "text": [
      "Metric val_loss improved. New best score: 12.710\n"
     ]
    },
    {
     "name": "stdout",
     "output_type": "stream",
     "text": [
      "Epoch 1: 100%|██████████| 16/16 [00:00<00:00, 31.88it/s, train_loss_step=14.80, val_loss=8.540, val_price_loss=7.17e+9, val_category_loss=1.370, val_accuracy=0.500, val_rmse=7.19e+4, train_loss_epoch=10.60]"
     ]
    },
    {
     "name": "stderr",
     "output_type": "stream",
     "text": [
      "Metric val_loss improved by 4.168 >= min_delta = 0.0001. New best score: 8.542\n"
     ]
    },
    {
     "name": "stdout",
     "output_type": "stream",
     "text": [
      "Epoch 2: 100%|██████████| 16/16 [00:00<00:00, 31.47it/s, train_loss_step=6.140, val_loss=7.270, val_price_loss=6.19e+9, val_category_loss=1.080, val_accuracy=0.606, val_rmse=7.81e+4, train_loss_epoch=8.700]"
     ]
    },
    {
     "name": "stderr",
     "output_type": "stream",
     "text": [
      "Metric val_loss improved by 1.268 >= min_delta = 0.0001. New best score: 7.274\n"
     ]
    },
    {
     "name": "stdout",
     "output_type": "stream",
     "text": [
      "Epoch 3: 100%|██████████| 16/16 [00:00<00:00, 32.41it/s, train_loss_step=8.580, val_loss=6.880, val_price_loss=5.88e+9, val_category_loss=0.995, val_accuracy=0.656, val_rmse=7.74e+4, train_loss_epoch=8.000]"
     ]
    },
    {
     "name": "stderr",
     "output_type": "stream",
     "text": [
      "Metric val_loss improved by 0.396 >= min_delta = 0.0001. New best score: 6.879\n"
     ]
    },
    {
     "name": "stdout",
     "output_type": "stream",
     "text": [
      "Epoch 5: 100%|██████████| 16/16 [00:00<00:00, 32.89it/s, train_loss_step=11.00, val_loss=6.870, val_price_loss=5.86e+9, val_category_loss=1.010, val_accuracy=0.642, val_rmse=7.5e+4, train_loss_epoch=7.980] "
     ]
    },
    {
     "name": "stderr",
     "output_type": "stream",
     "text": [
      "Metric val_loss improved by 0.006 >= min_delta = 0.0001. New best score: 6.873\n"
     ]
    },
    {
     "name": "stdout",
     "output_type": "stream",
     "text": [
      "Epoch 10: 100%|██████████| 16/16 [00:00<00:00, 31.33it/s, train_loss_step=8.240, val_loss=6.970, val_price_loss=5.84e+9, val_category_loss=1.130, val_accuracy=0.688, val_rmse=7.82e+4, train_loss_epoch=7.600]"
     ]
    },
    {
     "name": "stderr",
     "output_type": "stream",
     "text": [
      "Monitored metric val_loss did not improve in the last 5 records. Best score: 6.873. Signaling Trainer to stop.\n"
     ]
    },
    {
     "name": "stdout",
     "output_type": "stream",
     "text": [
      "Epoch 10: 100%|██████████| 16/16 [00:00<00:00, 23.35it/s, train_loss_step=8.240, val_loss=6.970, val_price_loss=5.84e+9, val_category_loss=1.130, val_accuracy=0.688, val_rmse=7.82e+4, train_loss_epoch=7.600]"
     ]
    },
    {
     "name": "stderr",
     "output_type": "stream",
     "text": [
      "[I 2024-04-28 23:56:39,106] Trial 114 finished with value: 6.967599868774414 and parameters: {'num_layers': 1, 'hidden_dim': 512, 'embedding_dim': 10, 'lr': 0.035506480216333645, 'optimizer_type': 'Adam', 'relu_type': 'ReLU', 'droupoutrate': 0.33890546625139195}. Best is trial 32 with value: 6.927556991577148.\n"
     ]
    },
    {
     "name": "stdout",
     "output_type": "stream",
     "text": [
      "\n"
     ]
    },
    {
     "name": "stderr",
     "output_type": "stream",
     "text": [
      "GPU available: True (cuda), used: True\n",
      "TPU available: False, using: 0 TPU cores\n",
      "IPU available: False, using: 0 IPUs\n",
      "HPU available: False, using: 0 HPUs\n",
      "LOCAL_RANK: 0 - CUDA_VISIBLE_DEVICES: [0]\n",
      "\n",
      "  | Name            | Type       | Params\n",
      "-----------------------------------------------\n",
      "0 | embeddings      | ModuleList | 2.1 K \n",
      "1 | fc              | Sequential | 709 K \n",
      "2 | output_category | Sequential | 534 K \n",
      "3 | output_price    | Sequential | 525 K \n",
      "-----------------------------------------------\n",
      "1.8 M     Trainable params\n",
      "0         Non-trainable params\n",
      "1.8 M     Total params\n",
      "7.082     Total estimated model params size (MB)\n"
     ]
    },
    {
     "name": "stdout",
     "output_type": "stream",
     "text": [
      "Number of embedding layers: 36\n",
      "Epoch 0: 100%|██████████| 16/16 [00:00<00:00, 29.93it/s, train_loss_step=9.420, val_loss=15.50, val_price_loss=6.11e+9, val_category_loss=9.380, val_accuracy=0.220, val_rmse=7.46e+4, train_loss_epoch=18.80]"
     ]
    },
    {
     "name": "stderr",
     "output_type": "stream",
     "text": [
      "Metric val_loss improved. New best score: 15.489\n"
     ]
    },
    {
     "name": "stdout",
     "output_type": "stream",
     "text": [
      "Epoch 1: 100%|██████████| 16/16 [00:00<00:00, 31.94it/s, train_loss_step=14.60, val_loss=8.560, val_price_loss=6.44e+9, val_category_loss=2.120, val_accuracy=0.555, val_rmse=7.95e+4, train_loss_epoch=8.790]"
     ]
    },
    {
     "name": "stderr",
     "output_type": "stream",
     "text": [
      "Metric val_loss improved by 6.930 >= min_delta = 0.0001. New best score: 8.559\n"
     ]
    },
    {
     "name": "stdout",
     "output_type": "stream",
     "text": [
      "Epoch 2: 100%|██████████| 16/16 [00:00<00:00, 35.10it/s, train_loss_step=8.130, val_loss=8.560, val_price_loss=6.44e+9, val_category_loss=2.120, val_accuracy=0.555, val_rmse=7.95e+4, train_loss_epoch=8.790]"
     ]
    },
    {
     "name": "stderr",
     "output_type": "stream",
     "text": [
      "[I 2024-04-28 23:56:41,182] Trial 115 pruned. Trial was pruned at epoch 2.\n"
     ]
    },
    {
     "name": "stdout",
     "output_type": "stream",
     "text": [
      "Number of embedding layers: 36\n"
     ]
    },
    {
     "name": "stderr",
     "output_type": "stream",
     "text": [
      "GPU available: True (cuda), used: True\n",
      "TPU available: False, using: 0 TPU cores\n",
      "IPU available: False, using: 0 IPUs\n",
      "HPU available: False, using: 0 HPUs\n",
      "LOCAL_RANK: 0 - CUDA_VISIBLE_DEVICES: [0]\n",
      "\n",
      "  | Name            | Type       | Params\n",
      "-----------------------------------------------\n",
      "0 | embeddings      | ModuleList | 2.5 K \n",
      "1 | fc              | Sequential | 745 K \n",
      "2 | output_category | Sequential | 534 K \n",
      "3 | output_price    | Sequential | 525 K \n",
      "-----------------------------------------------\n",
      "1.8 M     Trainable params\n",
      "0         Non-trainable params\n",
      "1.8 M     Total params\n",
      "7.231     Total estimated model params size (MB)\n"
     ]
    },
    {
     "name": "stdout",
     "output_type": "stream",
     "text": [
      "Epoch 0: 100%|██████████| 16/16 [00:00<00:00, 30.50it/s, train_loss_step=14.20, val_loss=10.40, val_price_loss=6.42e+9, val_category_loss=3.970, val_accuracy=0.376, val_rmse=6.41e+4, train_loss_epoch=26.90]"
     ]
    },
    {
     "name": "stderr",
     "output_type": "stream",
     "text": [
      "Metric val_loss improved. New best score: 10.396\n"
     ]
    },
    {
     "name": "stdout",
     "output_type": "stream",
     "text": [
      "Epoch 1: 100%|██████████| 16/16 [00:00<00:00, 32.48it/s, train_loss_step=12.50, val_loss=7.670, val_price_loss=6.21e+9, val_category_loss=1.460, val_accuracy=0.495, val_rmse=7.86e+4, train_loss_epoch=9.940]"
     ]
    },
    {
     "name": "stderr",
     "output_type": "stream",
     "text": [
      "Metric val_loss improved by 2.729 >= min_delta = 0.0001. New best score: 7.667\n"
     ]
    },
    {
     "name": "stdout",
     "output_type": "stream",
     "text": [
      "Epoch 2: 100%|██████████| 16/16 [00:00<00:00, 32.87it/s, train_loss_step=5.790, val_loss=7.290, val_price_loss=6.1e+9, val_category_loss=1.180, val_accuracy=0.532, val_rmse=7.62e+4, train_loss_epoch=8.560] "
     ]
    },
    {
     "name": "stderr",
     "output_type": "stream",
     "text": [
      "Metric val_loss improved by 0.379 >= min_delta = 0.0001. New best score: 7.288\n"
     ]
    },
    {
     "name": "stdout",
     "output_type": "stream",
     "text": [
      "Epoch 5: 100%|██████████| 16/16 [00:00<00:00, 29.49it/s, train_loss_step=5.920, val_loss=7.010, val_price_loss=6.12e+9, val_category_loss=0.885, val_accuracy=0.693, val_rmse=7.56e+4, train_loss_epoch=8.040]"
     ]
    },
    {
     "name": "stderr",
     "output_type": "stream",
     "text": [
      "Metric val_loss improved by 0.281 >= min_delta = 0.0001. New best score: 7.007\n"
     ]
    },
    {
     "name": "stdout",
     "output_type": "stream",
     "text": [
      "Epoch 10: 100%|██████████| 16/16 [00:00<00:00, 31.66it/s, train_loss_step=11.90, val_loss=12.40, val_price_loss=1.09e+10, val_category_loss=1.520, val_accuracy=0.656, val_rmse=1.01e+5, train_loss_epoch=8.640]"
     ]
    },
    {
     "name": "stderr",
     "output_type": "stream",
     "text": [
      "Monitored metric val_loss did not improve in the last 5 records. Best score: 7.007. Signaling Trainer to stop.\n"
     ]
    },
    {
     "name": "stdout",
     "output_type": "stream",
     "text": [
      "Epoch 10: 100%|██████████| 16/16 [00:00<00:00, 23.68it/s, train_loss_step=11.90, val_loss=12.40, val_price_loss=1.09e+10, val_category_loss=1.520, val_accuracy=0.656, val_rmse=1.01e+5, train_loss_epoch=8.640]"
     ]
    },
    {
     "name": "stderr",
     "output_type": "stream",
     "text": [
      "[I 2024-04-28 23:56:49,332] Trial 116 finished with value: 12.397713661193848 and parameters: {'num_layers': 1, 'hidden_dim': 512, 'embedding_dim': 11, 'lr': 0.05130120023302501, 'optimizer_type': 'Adam', 'relu_type': 'ReLU', 'droupoutrate': 0.4086122194036512}. Best is trial 32 with value: 6.927556991577148.\n"
     ]
    },
    {
     "name": "stdout",
     "output_type": "stream",
     "text": [
      "\n"
     ]
    },
    {
     "name": "stderr",
     "output_type": "stream",
     "text": [
      "GPU available: True (cuda), used: True\n",
      "TPU available: False, using: 0 TPU cores\n",
      "IPU available: False, using: 0 IPUs\n",
      "HPU available: False, using: 0 HPUs\n",
      "LOCAL_RANK: 0 - CUDA_VISIBLE_DEVICES: [0]\n",
      "\n",
      "  | Name            | Type       | Params\n",
      "-----------------------------------------------\n",
      "0 | embeddings      | ModuleList | 2.5 K \n",
      "1 | fc              | Sequential | 767 K \n",
      "2 | output_category | Sequential | 135 K \n",
      "3 | output_price    | Sequential | 131 K \n",
      "-----------------------------------------------\n",
      "1.0 M     Trainable params\n",
      "0         Non-trainable params\n",
      "1.0 M     Total params\n",
      "4.149     Total estimated model params size (MB)\n"
     ]
    },
    {
     "name": "stdout",
     "output_type": "stream",
     "text": [
      "Number of embedding layers: 36\n",
      "Epoch 0: 100%|██████████| 16/16 [00:00<00:00, 31.76it/s, train_loss_step=13.60] "
     ]
    },
    {
     "name": "stderr",
     "output_type": "stream",
     "text": [
      "[I 2024-04-28 23:56:50,035] Trial 117 pruned. Trial was pruned at epoch 0.\n",
      "GPU available: True (cuda), used: True\n"
     ]
    },
    {
     "name": "stdout",
     "output_type": "stream",
     "text": [
      "Number of embedding layers: 36\n"
     ]
    },
    {
     "name": "stderr",
     "output_type": "stream",
     "text": [
      "TPU available: False, using: 0 TPU cores\n",
      "IPU available: False, using: 0 IPUs\n",
      "HPU available: False, using: 0 HPUs\n",
      "LOCAL_RANK: 0 - CUDA_VISIBLE_DEVICES: [0]\n",
      "\n",
      "  | Name            | Type       | Params\n",
      "-----------------------------------------------\n",
      "0 | embeddings      | ModuleList | 2.3 K \n",
      "1 | fc              | Sequential | 727 K \n",
      "2 | output_category | Sequential | 534 K \n",
      "3 | output_price    | Sequential | 525 K \n",
      "-----------------------------------------------\n",
      "1.8 M     Trainable params\n",
      "0         Non-trainable params\n",
      "1.8 M     Total params\n",
      "7.157     Total estimated model params size (MB)\n"
     ]
    },
    {
     "name": "stdout",
     "output_type": "stream",
     "text": [
      "Epoch 0: 100%|██████████| 16/16 [00:00<00:00, 33.45it/s, train_loss_step=39.40]"
     ]
    },
    {
     "name": "stderr",
     "output_type": "stream",
     "text": [
      "[I 2024-04-28 23:56:50,706] Trial 118 pruned. Trial was pruned at epoch 0.\n"
     ]
    },
    {
     "name": "stdout",
     "output_type": "stream",
     "text": [
      "Number of embedding layers: 36\n"
     ]
    },
    {
     "name": "stderr",
     "output_type": "stream",
     "text": [
      "GPU available: True (cuda), used: True\n",
      "TPU available: False, using: 0 TPU cores\n",
      "IPU available: False, using: 0 IPUs\n",
      "HPU available: False, using: 0 HPUs\n"
     ]
    },
    {
     "name": "stdout",
     "output_type": "stream",
     "text": [
      "Epoch 0: 100%|██████████| 16/16 [00:00<00:00, 26.48it/s, train_loss_step=39.40]\n"
     ]
    },
    {
     "name": "stderr",
     "output_type": "stream",
     "text": [
      "LOCAL_RANK: 0 - CUDA_VISIBLE_DEVICES: [0]\n",
      "\n",
      "  | Name            | Type       | Params\n",
      "-----------------------------------------------\n",
      "0 | embeddings      | ModuleList | 2.5 K \n",
      "1 | fc              | Sequential | 88.2 K\n",
      "2 | output_category | Sequential | 35.2 K\n",
      "3 | output_price    | Sequential | 33.0 K\n",
      "-----------------------------------------------\n",
      "158 K     Trainable params\n",
      "0         Non-trainable params\n",
      "158 K     Total params\n",
      "0.636     Total estimated model params size (MB)\n"
     ]
    },
    {
     "name": "stdout",
     "output_type": "stream",
     "text": [
      "Epoch 0: 100%|██████████| 16/16 [00:00<00:00, 45.41it/s, train_loss_step=34.60]"
     ]
    },
    {
     "name": "stderr",
     "output_type": "stream",
     "text": [
      "[I 2024-04-28 23:56:51,218] Trial 119 pruned. Trial was pruned at epoch 0.\n"
     ]
    },
    {
     "name": "stdout",
     "output_type": "stream",
     "text": [
      "Number of embedding layers: 36\n"
     ]
    },
    {
     "name": "stderr",
     "output_type": "stream",
     "text": [
      "GPU available: True (cuda), used: True\n",
      "TPU available: False, using: 0 TPU cores\n",
      "IPU available: False, using: 0 IPUs\n",
      "HPU available: False, using: 0 HPUs\n",
      "LOCAL_RANK: 0 - CUDA_VISIBLE_DEVICES: [0]\n",
      "\n",
      "  | Name            | Type       | Params\n",
      "-----------------------------------------------\n",
      "0 | embeddings      | ModuleList | 2.3 K \n",
      "1 | fc              | Sequential | 727 K \n",
      "2 | output_category | Sequential | 534 K \n",
      "3 | output_price    | Sequential | 525 K \n",
      "-----------------------------------------------\n",
      "1.8 M     Trainable params\n",
      "0         Non-trainable params\n",
      "1.8 M     Total params\n",
      "7.157     Total estimated model params size (MB)\n"
     ]
    },
    {
     "name": "stdout",
     "output_type": "stream",
     "text": [
      "Epoch 0: 100%|██████████| 16/16 [00:00<00:00, 30.78it/s, train_loss_step=22.50, val_loss=18.20, val_price_loss=1.43e+10, val_category_loss=3.850, val_accuracy=0.349, val_rmse=7.75e+4, train_loss_epoch=44.60]"
     ]
    },
    {
     "name": "stderr",
     "output_type": "stream",
     "text": [
      "Metric val_loss improved. New best score: 18.177\n"
     ]
    },
    {
     "name": "stdout",
     "output_type": "stream",
     "text": [
      "Epoch 1: 100%|██████████| 16/16 [00:00<00:00, 35.09it/s, train_loss_step=9.380, val_loss=18.20, val_price_loss=1.43e+10, val_category_loss=3.850, val_accuracy=0.349, val_rmse=7.75e+4, train_loss_epoch=44.60]"
     ]
    },
    {
     "name": "stderr",
     "output_type": "stream",
     "text": [
      "[I 2024-04-28 23:56:52,568] Trial 120 pruned. Trial was pruned at epoch 1.\n"
     ]
    },
    {
     "name": "stdout",
     "output_type": "stream",
     "text": [
      "Number of embedding layers: 36\n"
     ]
    },
    {
     "name": "stderr",
     "output_type": "stream",
     "text": [
      "GPU available: True (cuda), used: True\n",
      "TPU available: False, using: 0 TPU cores\n",
      "IPU available: False, using: 0 IPUs\n",
      "HPU available: False, using: 0 HPUs\n",
      "LOCAL_RANK: 0 - CUDA_VISIBLE_DEVICES: [0]\n",
      "\n",
      "  | Name            | Type       | Params\n",
      "-----------------------------------------------\n",
      "0 | embeddings      | ModuleList | 2.3 K \n",
      "1 | fc              | Sequential | 727 K \n",
      "2 | output_category | Sequential | 534 K \n",
      "3 | output_price    | Sequential | 525 K \n",
      "-----------------------------------------------\n",
      "1.8 M     Trainable params\n",
      "0         Non-trainable params\n",
      "1.8 M     Total params\n",
      "7.157     Total estimated model params size (MB)\n"
     ]
    },
    {
     "name": "stdout",
     "output_type": "stream",
     "text": [
      "Epoch 1: 100%|██████████| 16/16 [00:00<00:00, 25.37it/s, train_loss_step=9.380, val_loss=18.20, val_price_loss=1.43e+10, val_category_loss=3.850, val_accuracy=0.349, val_rmse=7.75e+4, train_loss_epoch=44.60]\n",
      "Epoch 0: 100%|██████████| 16/16 [00:00<00:00, 36.95it/s, train_loss_step=14.00]"
     ]
    },
    {
     "name": "stderr",
     "output_type": "stream",
     "text": [
      "[I 2024-04-28 23:56:53,194] Trial 121 pruned. Trial was pruned at epoch 0.\n"
     ]
    },
    {
     "name": "stdout",
     "output_type": "stream",
     "text": [
      "Number of embedding layers: 36\n"
     ]
    },
    {
     "name": "stderr",
     "output_type": "stream",
     "text": [
      "GPU available: True (cuda), used: True\n",
      "TPU available: False, using: 0 TPU cores\n",
      "IPU available: False, using: 0 IPUs\n",
      "HPU available: False, using: 0 HPUs\n",
      "LOCAL_RANK: 0 - CUDA_VISIBLE_DEVICES: [0]\n",
      "\n",
      "  | Name            | Type       | Params\n",
      "-----------------------------------------------\n",
      "0 | embeddings      | ModuleList | 2.1 K \n",
      "1 | fc              | Sequential | 709 K \n",
      "2 | output_category | Sequential | 534 K \n",
      "3 | output_price    | Sequential | 525 K \n",
      "-----------------------------------------------\n",
      "1.8 M     Trainable params\n",
      "0         Non-trainable params\n",
      "1.8 M     Total params\n",
      "7.082     Total estimated model params size (MB)\n"
     ]
    },
    {
     "name": "stdout",
     "output_type": "stream",
     "text": [
      "Epoch 0: 100%|██████████| 16/16 [00:00<00:00, 31.77it/s, train_loss_step=15.00, val_loss=12.20, val_price_loss=6.29e+9, val_category_loss=5.960, val_accuracy=0.399, val_rmse=7.1e+4, train_loss_epoch=24.20]"
     ]
    },
    {
     "name": "stderr",
     "output_type": "stream",
     "text": [
      "Metric val_loss improved. New best score: 12.250\n"
     ]
    },
    {
     "name": "stdout",
     "output_type": "stream",
     "text": [
      "Epoch 1: 100%|██████████| 16/16 [00:00<00:00, 32.71it/s, train_loss_step=6.450, val_loss=9.020, val_price_loss=6.02e+9, val_category_loss=3.000, val_accuracy=0.491, val_rmse=7.51e+4, train_loss_epoch=10.70]"
     ]
    },
    {
     "name": "stderr",
     "output_type": "stream",
     "text": [
      "Metric val_loss improved by 3.233 >= min_delta = 0.0001. New best score: 9.017\n"
     ]
    },
    {
     "name": "stdout",
     "output_type": "stream",
     "text": [
      "Epoch 2: 100%|██████████| 16/16 [00:00<00:00, 34.59it/s, train_loss_step=10.90, val_loss=9.020, val_price_loss=6.02e+9, val_category_loss=3.000, val_accuracy=0.491, val_rmse=7.51e+4, train_loss_epoch=10.70]"
     ]
    },
    {
     "name": "stderr",
     "output_type": "stream",
     "text": [
      "[I 2024-04-28 23:56:55,194] Trial 122 pruned. Trial was pruned at epoch 2.\n",
      "GPU available: True (cuda), used: True\n"
     ]
    },
    {
     "name": "stdout",
     "output_type": "stream",
     "text": [
      "Number of embedding layers: 36\n"
     ]
    },
    {
     "name": "stderr",
     "output_type": "stream",
     "text": [
      "TPU available: False, using: 0 TPU cores\n",
      "IPU available: False, using: 0 IPUs\n",
      "HPU available: False, using: 0 HPUs\n"
     ]
    },
    {
     "name": "stdout",
     "output_type": "stream",
     "text": [
      "Epoch 2: 100%|██████████| 16/16 [00:00<00:00, 25.31it/s, train_loss_step=10.90, val_loss=9.020, val_price_loss=6.02e+9, val_category_loss=3.000, val_accuracy=0.491, val_rmse=7.51e+4, train_loss_epoch=10.70]\n"
     ]
    },
    {
     "name": "stderr",
     "output_type": "stream",
     "text": [
      "LOCAL_RANK: 0 - CUDA_VISIBLE_DEVICES: [0]\n",
      "\n",
      "  | Name            | Type       | Params\n",
      "-----------------------------------------------\n",
      "0 | embeddings      | ModuleList | 2.1 K \n",
      "1 | fc              | Sequential | 709 K \n",
      "2 | output_category | Sequential | 534 K \n",
      "3 | output_price    | Sequential | 525 K \n",
      "-----------------------------------------------\n",
      "1.8 M     Trainable params\n",
      "0         Non-trainable params\n",
      "1.8 M     Total params\n",
      "7.082     Total estimated model params size (MB)\n"
     ]
    },
    {
     "name": "stdout",
     "output_type": "stream",
     "text": [
      "Epoch 0: 100%|██████████| 16/16 [00:00<00:00, 33.92it/s, train_loss_step=6.430]"
     ]
    },
    {
     "name": "stderr",
     "output_type": "stream",
     "text": [
      "[I 2024-04-28 23:56:55,889] Trial 123 pruned. Trial was pruned at epoch 0.\n"
     ]
    },
    {
     "name": "stdout",
     "output_type": "stream",
     "text": [
      "Number of embedding layers: 36\n"
     ]
    },
    {
     "name": "stderr",
     "output_type": "stream",
     "text": [
      "GPU available: True (cuda), used: True\n",
      "TPU available: False, using: 0 TPU cores\n",
      "IPU available: False, using: 0 IPUs\n",
      "HPU available: False, using: 0 HPUs\n",
      "LOCAL_RANK: 0 - CUDA_VISIBLE_DEVICES: [0]\n",
      "\n",
      "  | Name            | Type       | Params\n",
      "-----------------------------------------------\n",
      "0 | embeddings      | ModuleList | 2.3 K \n",
      "1 | fc              | Sequential | 727 K \n",
      "2 | output_category | Sequential | 534 K \n",
      "3 | output_price    | Sequential | 525 K \n",
      "-----------------------------------------------\n",
      "1.8 M     Trainable params\n",
      "0         Non-trainable params\n",
      "1.8 M     Total params\n",
      "7.157     Total estimated model params size (MB)\n"
     ]
    },
    {
     "name": "stdout",
     "output_type": "stream",
     "text": [
      "Epoch 0: 100%|██████████| 16/16 [00:00<00:00, 35.81it/s, train_loss_step=45.40]"
     ]
    },
    {
     "name": "stderr",
     "output_type": "stream",
     "text": [
      "[I 2024-04-28 23:56:56,528] Trial 124 pruned. Trial was pruned at epoch 0.\n"
     ]
    },
    {
     "name": "stdout",
     "output_type": "stream",
     "text": [
      "Number of embedding layers: 36\n"
     ]
    },
    {
     "name": "stderr",
     "output_type": "stream",
     "text": [
      "GPU available: True (cuda), used: True\n",
      "TPU available: False, using: 0 TPU cores\n",
      "IPU available: False, using: 0 IPUs\n",
      "HPU available: False, using: 0 HPUs\n"
     ]
    },
    {
     "name": "stdout",
     "output_type": "stream",
     "text": [
      "Epoch 0: 100%|██████████| 16/16 [00:00<00:00, 27.15it/s, train_loss_step=45.40]\n"
     ]
    },
    {
     "name": "stderr",
     "output_type": "stream",
     "text": [
      "LOCAL_RANK: 0 - CUDA_VISIBLE_DEVICES: [0]\n",
      "\n",
      "  | Name            | Type       | Params\n",
      "-----------------------------------------------\n",
      "0 | embeddings      | ModuleList | 2.5 K \n",
      "1 | fc              | Sequential | 745 K \n",
      "2 | output_category | Sequential | 534 K \n",
      "3 | output_price    | Sequential | 525 K \n",
      "-----------------------------------------------\n",
      "1.8 M     Trainable params\n",
      "0         Non-trainable params\n",
      "1.8 M     Total params\n",
      "7.231     Total estimated model params size (MB)\n"
     ]
    },
    {
     "name": "stdout",
     "output_type": "stream",
     "text": [
      "Epoch 0: 100%|██████████| 16/16 [00:00<00:00, 31.37it/s, train_loss_step=6.840, val_loss=11.00, val_price_loss=7.67e+9, val_category_loss=3.350, val_accuracy=0.482, val_rmse=8.18e+4, train_loss_epoch=19.80]"
     ]
    },
    {
     "name": "stderr",
     "output_type": "stream",
     "text": [
      "Metric val_loss improved. New best score: 11.024\n"
     ]
    },
    {
     "name": "stdout",
     "output_type": "stream",
     "text": [
      "Epoch 1: 100%|██████████| 16/16 [00:00<00:00, 28.55it/s, train_loss_step=5.020, val_loss=8.050, val_price_loss=6.32e+9, val_category_loss=1.730, val_accuracy=0.523, val_rmse=7.44e+4, train_loss_epoch=9.560]"
     ]
    },
    {
     "name": "stderr",
     "output_type": "stream",
     "text": [
      "Metric val_loss improved by 2.971 >= min_delta = 0.0001. New best score: 8.052\n"
     ]
    },
    {
     "name": "stdout",
     "output_type": "stream",
     "text": [
      "Epoch 2: 100%|██████████| 16/16 [00:00<00:00, 33.72it/s, train_loss_step=8.020, val_loss=7.090, val_price_loss=5.91e+9, val_category_loss=1.180, val_accuracy=0.628, val_rmse=7.72e+4, train_loss_epoch=8.440]"
     ]
    },
    {
     "name": "stderr",
     "output_type": "stream",
     "text": [
      "Metric val_loss improved by 0.964 >= min_delta = 0.0001. New best score: 7.088\n"
     ]
    },
    {
     "name": "stdout",
     "output_type": "stream",
     "text": [
      "Epoch 3: 100%|██████████| 16/16 [00:00<00:00, 33.85it/s, train_loss_step=13.50, val_loss=6.810, val_price_loss=5.96e+9, val_category_loss=0.843, val_accuracy=0.725, val_rmse=7.71e+4, train_loss_epoch=8.540]"
     ]
    },
    {
     "name": "stderr",
     "output_type": "stream",
     "text": [
      "Metric val_loss improved by 0.281 >= min_delta = 0.0001. New best score: 6.807\n"
     ]
    },
    {
     "name": "stdout",
     "output_type": "stream",
     "text": [
      "Epoch 8: 100%|██████████| 16/16 [00:00<00:00, 31.82it/s, train_loss_step=12.80, val_loss=8.530, val_price_loss=7.25e+9, val_category_loss=1.280, val_accuracy=0.716, val_rmse=8.18e+4, train_loss_epoch=7.650]"
     ]
    },
    {
     "name": "stderr",
     "output_type": "stream",
     "text": [
      "Monitored metric val_loss did not improve in the last 5 records. Best score: 6.807. Signaling Trainer to stop.\n"
     ]
    },
    {
     "name": "stdout",
     "output_type": "stream",
     "text": [
      "Epoch 8: 100%|██████████| 16/16 [00:00<00:00, 23.94it/s, train_loss_step=12.80, val_loss=8.530, val_price_loss=7.25e+9, val_category_loss=1.280, val_accuracy=0.716, val_rmse=8.18e+4, train_loss_epoch=7.650]"
     ]
    },
    {
     "name": "stderr",
     "output_type": "stream",
     "text": [
      "[I 2024-04-28 23:57:02,886] Trial 125 finished with value: 8.532681465148926 and parameters: {'num_layers': 1, 'hidden_dim': 512, 'embedding_dim': 11, 'lr': 0.02703592625900505, 'optimizer_type': 'Adam', 'relu_type': 'ReLU', 'droupoutrate': 0.32014779744599664}. Best is trial 32 with value: 6.927556991577148.\n"
     ]
    },
    {
     "name": "stdout",
     "output_type": "stream",
     "text": [
      "\n"
     ]
    },
    {
     "name": "stderr",
     "output_type": "stream",
     "text": [
      "GPU available: True (cuda), used: True\n",
      "TPU available: False, using: 0 TPU cores\n",
      "IPU available: False, using: 0 IPUs\n",
      "HPU available: False, using: 0 HPUs\n",
      "LOCAL_RANK: 0 - CUDA_VISIBLE_DEVICES: [0]\n",
      "\n",
      "  | Name            | Type       | Params\n",
      "-----------------------------------------------\n",
      "0 | embeddings      | ModuleList | 2.8 K \n",
      "1 | fc              | Sequential | 38.2 K\n",
      "2 | output_category | Sequential | 9.4 K \n",
      "3 | output_price    | Sequential | 8.3 K \n",
      "-----------------------------------------------\n",
      "58.7 K    Trainable params\n",
      "0         Non-trainable params\n",
      "58.7 K    Total params\n",
      "0.235     Total estimated model params size (MB)\n"
     ]
    },
    {
     "name": "stdout",
     "output_type": "stream",
     "text": [
      "Number of embedding layers: 36\n",
      "Epoch 0: 100%|██████████| 16/16 [00:00<00:00, 41.89it/s, train_loss_step=41.90]"
     ]
    },
    {
     "name": "stderr",
     "output_type": "stream",
     "text": [
      "[I 2024-04-28 23:57:03,429] Trial 126 pruned. Trial was pruned at epoch 0.\n"
     ]
    },
    {
     "name": "stdout",
     "output_type": "stream",
     "text": [
      "Number of embedding layers: 36\n"
     ]
    },
    {
     "name": "stderr",
     "output_type": "stream",
     "text": [
      "GPU available: True (cuda), used: True\n",
      "TPU available: False, using: 0 TPU cores\n",
      "IPU available: False, using: 0 IPUs\n",
      "HPU available: False, using: 0 HPUs\n",
      "LOCAL_RANK: 0 - CUDA_VISIBLE_DEVICES: [0]\n",
      "\n",
      "  | Name            | Type       | Params\n",
      "-----------------------------------------------\n",
      "0 | embeddings      | ModuleList | 1.8 K \n",
      "1 | fc              | Sequential | 690 K \n",
      "2 | output_category | Sequential | 534 K \n",
      "3 | output_price    | Sequential | 525 K \n",
      "-----------------------------------------------\n",
      "1.8 M     Trainable params\n",
      "0         Non-trainable params\n",
      "1.8 M     Total params\n",
      "7.008     Total estimated model params size (MB)\n"
     ]
    },
    {
     "name": "stdout",
     "output_type": "stream",
     "text": [
      "Epoch 0: 100%|██████████| 16/16 [00:00<00:00, 30.51it/s, train_loss_step=13.20, val_loss=14.30, val_price_loss=9.67e+9, val_category_loss=4.600, val_accuracy=0.477, val_rmse=1.01e+5, train_loss_epoch=25.20]"
     ]
    },
    {
     "name": "stderr",
     "output_type": "stream",
     "text": [
      "Metric val_loss improved. New best score: 14.273\n"
     ]
    },
    {
     "name": "stdout",
     "output_type": "stream",
     "text": [
      "Epoch 1: 100%|██████████| 16/16 [00:00<00:00, 30.91it/s, train_loss_step=7.830, val_loss=9.110, val_price_loss=6.12e+9, val_category_loss=2.990, val_accuracy=0.491, val_rmse=7.05e+4, train_loss_epoch=9.850]"
     ]
    },
    {
     "name": "stderr",
     "output_type": "stream",
     "text": [
      "Metric val_loss improved by 5.168 >= min_delta = 0.0001. New best score: 9.106\n"
     ]
    },
    {
     "name": "stdout",
     "output_type": "stream",
     "text": [
      "Epoch 2: 100%|██████████| 16/16 [00:00<00:00, 36.05it/s, train_loss_step=9.960, val_loss=9.110, val_price_loss=6.12e+9, val_category_loss=2.990, val_accuracy=0.491, val_rmse=7.05e+4, train_loss_epoch=9.850]"
     ]
    },
    {
     "name": "stderr",
     "output_type": "stream",
     "text": [
      "[I 2024-04-28 23:57:05,484] Trial 127 pruned. Trial was pruned at epoch 2.\n"
     ]
    },
    {
     "name": "stdout",
     "output_type": "stream",
     "text": [
      "Number of embedding layers: 36\n"
     ]
    },
    {
     "name": "stderr",
     "output_type": "stream",
     "text": [
      "GPU available: True (cuda), used: True\n",
      "TPU available: False, using: 0 TPU cores\n",
      "IPU available: False, using: 0 IPUs\n",
      "HPU available: False, using: 0 HPUs\n",
      "LOCAL_RANK: 0 - CUDA_VISIBLE_DEVICES: [0]\n",
      "\n",
      "  | Name            | Type       | Params\n",
      "-----------------------------------------------\n",
      "0 | embeddings      | ModuleList | 3.0 K \n",
      "1 | fc              | Sequential | 782 K \n",
      "2 | output_category | Sequential | 534 K \n",
      "3 | output_price    | Sequential | 525 K \n",
      "-----------------------------------------------\n",
      "1.8 M     Trainable params\n",
      "0         Non-trainable params\n",
      "1.8 M     Total params\n",
      "7.381     Total estimated model params size (MB)\n"
     ]
    },
    {
     "name": "stdout",
     "output_type": "stream",
     "text": [
      "Epoch 0: 100%|██████████| 16/16 [00:00<00:00, 30.91it/s, train_loss_step=15.60, val_loss=10.10, val_price_loss=6.19e+9, val_category_loss=3.950, val_accuracy=0.394, val_rmse=7.35e+4, train_loss_epoch=20.10]"
     ]
    },
    {
     "name": "stderr",
     "output_type": "stream",
     "text": [
      "Metric val_loss improved. New best score: 10.132\n"
     ]
    },
    {
     "name": "stdout",
     "output_type": "stream",
     "text": [
      "Epoch 1: 100%|██████████| 16/16 [00:00<00:00, 32.15it/s, train_loss_step=10.80, val_loss=7.510, val_price_loss=6.07e+9, val_category_loss=1.430, val_accuracy=0.537, val_rmse=7.09e+4, train_loss_epoch=8.850]"
     ]
    },
    {
     "name": "stderr",
     "output_type": "stream",
     "text": [
      "Metric val_loss improved by 2.625 >= min_delta = 0.0001. New best score: 7.507\n"
     ]
    },
    {
     "name": "stdout",
     "output_type": "stream",
     "text": [
      "Epoch 2: 100%|██████████| 16/16 [00:00<00:00, 32.54it/s, train_loss_step=9.050, val_loss=7.340, val_price_loss=6.18e+9, val_category_loss=1.160, val_accuracy=0.606, val_rmse=7.81e+4, train_loss_epoch=8.910]"
     ]
    },
    {
     "name": "stderr",
     "output_type": "stream",
     "text": [
      "Metric val_loss improved by 0.168 >= min_delta = 0.0001. New best score: 7.340\n"
     ]
    },
    {
     "name": "stdout",
     "output_type": "stream",
     "text": [
      "Epoch 3: 100%|██████████| 16/16 [00:00<00:00, 33.03it/s, train_loss_step=8.480, val_loss=6.820, val_price_loss=5.84e+9, val_category_loss=0.979, val_accuracy=0.674, val_rmse=7.54e+4, train_loss_epoch=8.200]"
     ]
    },
    {
     "name": "stderr",
     "output_type": "stream",
     "text": [
      "Metric val_loss improved by 0.523 >= min_delta = 0.0001. New best score: 6.817\n"
     ]
    },
    {
     "name": "stdout",
     "output_type": "stream",
     "text": [
      "Epoch 7: 100%|██████████| 16/16 [00:00<00:00, 30.95it/s, train_loss_step=6.870, val_loss=6.790, val_price_loss=5.9e+9, val_category_loss=0.886, val_accuracy=0.725, val_rmse=7.73e+4, train_loss_epoch=8.230]  "
     ]
    },
    {
     "name": "stderr",
     "output_type": "stream",
     "text": [
      "Metric val_loss improved by 0.027 >= min_delta = 0.0001. New best score: 6.790\n"
     ]
    },
    {
     "name": "stdout",
     "output_type": "stream",
     "text": [
      "Epoch 12: 100%|██████████| 16/16 [00:00<00:00, 30.27it/s, train_loss_step=6.230, val_loss=6.970, val_price_loss=5.97e+9, val_category_loss=1.000, val_accuracy=0.716, val_rmse=7.63e+4, train_loss_epoch=7.900]"
     ]
    },
    {
     "name": "stderr",
     "output_type": "stream",
     "text": [
      "Monitored metric val_loss did not improve in the last 5 records. Best score: 6.790. Signaling Trainer to stop.\n"
     ]
    },
    {
     "name": "stdout",
     "output_type": "stream",
     "text": [
      "Epoch 12: 100%|██████████| 16/16 [00:00<00:00, 21.24it/s, train_loss_step=6.230, val_loss=6.970, val_price_loss=5.97e+9, val_category_loss=1.000, val_accuracy=0.716, val_rmse=7.63e+4, train_loss_epoch=7.900]"
     ]
    },
    {
     "name": "stderr",
     "output_type": "stream",
     "text": [
      "[I 2024-04-28 23:57:14,737] Trial 128 finished with value: 6.974069118499756 and parameters: {'num_layers': 1, 'hidden_dim': 512, 'embedding_dim': 13, 'lr': 0.043347702880269005, 'optimizer_type': 'Adam', 'relu_type': 'ReLU', 'droupoutrate': 0.3660163210129703}. Best is trial 32 with value: 6.927556991577148.\n",
      "GPU available: True (cuda), used: True\n",
      "TPU available: False, using: 0 TPU cores\n",
      "IPU available: False, using: 0 IPUs\n",
      "HPU available: False, using: 0 HPUs\n",
      "LOCAL_RANK: 0 - CUDA_VISIBLE_DEVICES: [0]\n",
      "\n",
      "  | Name            | Type       | Params\n",
      "-----------------------------------------------\n",
      "0 | embeddings      | ModuleList | 3.0 K \n",
      "1 | fc              | Sequential | 782 K \n",
      "2 | output_category | Sequential | 534 K \n",
      "3 | output_price    | Sequential | 525 K \n",
      "-----------------------------------------------\n",
      "1.8 M     Trainable params\n",
      "0         Non-trainable params\n",
      "1.8 M     Total params\n",
      "7.381     Total estimated model params size (MB)\n"
     ]
    },
    {
     "name": "stdout",
     "output_type": "stream",
     "text": [
      "\n",
      "Number of embedding layers: 36\n",
      "Epoch 0: 100%|██████████| 16/16 [00:00<00:00, 30.43it/s, train_loss_step=16.80, val_loss=17.60, val_price_loss=9.05e+9, val_category_loss=8.570, val_accuracy=0.390, val_rmse=9.55e+4, train_loss_epoch=21.90]"
     ]
    },
    {
     "name": "stderr",
     "output_type": "stream",
     "text": [
      "Metric val_loss improved. New best score: 17.621\n"
     ]
    },
    {
     "name": "stdout",
     "output_type": "stream",
     "text": [
      "Epoch 1: 100%|██████████| 16/16 [00:00<00:00, 31.77it/s, train_loss_step=7.580, val_loss=8.510, val_price_loss=6.84e+9, val_category_loss=1.670, val_accuracy=0.550, val_rmse=8.09e+4, train_loss_epoch=10.50]"
     ]
    },
    {
     "name": "stderr",
     "output_type": "stream",
     "text": [
      "Metric val_loss improved by 9.115 >= min_delta = 0.0001. New best score: 8.506\n"
     ]
    },
    {
     "name": "stdout",
     "output_type": "stream",
     "text": [
      "Epoch 2: 100%|██████████| 16/16 [00:00<00:00, 32.41it/s, train_loss_step=9.130, val_loss=7.070, val_price_loss=5.92e+9, val_category_loss=1.150, val_accuracy=0.624, val_rmse=7.99e+4, train_loss_epoch=9.100]"
     ]
    },
    {
     "name": "stderr",
     "output_type": "stream",
     "text": [
      "Metric val_loss improved by 1.434 >= min_delta = 0.0001. New best score: 7.073\n"
     ]
    },
    {
     "name": "stdout",
     "output_type": "stream",
     "text": [
      "Epoch 4: 100%|██████████| 16/16 [00:00<00:00, 31.92it/s, train_loss_step=7.820, val_loss=6.990, val_price_loss=5.99e+9, val_category_loss=1.000, val_accuracy=0.693, val_rmse=8.16e+4, train_loss_epoch=8.280]"
     ]
    },
    {
     "name": "stderr",
     "output_type": "stream",
     "text": [
      "Metric val_loss improved by 0.082 >= min_delta = 0.0001. New best score: 6.991\n"
     ]
    },
    {
     "name": "stdout",
     "output_type": "stream",
     "text": [
      "Epoch 6: 100%|██████████| 16/16 [00:00<00:00, 34.10it/s, train_loss_step=6.020, val_loss=6.760, val_price_loss=5.91e+9, val_category_loss=0.851, val_accuracy=0.720, val_rmse=7.42e+4, train_loss_epoch=8.040]"
     ]
    },
    {
     "name": "stderr",
     "output_type": "stream",
     "text": [
      "Metric val_loss improved by 0.229 >= min_delta = 0.0001. New best score: 6.762\n"
     ]
    },
    {
     "name": "stdout",
     "output_type": "stream",
     "text": [
      "Epoch 11: 100%|██████████| 16/16 [00:00<00:00, 31.39it/s, train_loss_step=10.70, val_loss=6.900, val_price_loss=5.89e+9, val_category_loss=1.010, val_accuracy=0.743, val_rmse=7.54e+4, train_loss_epoch=7.510]"
     ]
    },
    {
     "name": "stderr",
     "output_type": "stream",
     "text": [
      "Monitored metric val_loss did not improve in the last 5 records. Best score: 6.762. Signaling Trainer to stop.\n"
     ]
    },
    {
     "name": "stdout",
     "output_type": "stream",
     "text": [
      "Epoch 11: 100%|██████████| 16/16 [00:00<00:00, 22.85it/s, train_loss_step=10.70, val_loss=6.900, val_price_loss=5.89e+9, val_category_loss=1.010, val_accuracy=0.743, val_rmse=7.54e+4, train_loss_epoch=7.510]"
     ]
    },
    {
     "name": "stderr",
     "output_type": "stream",
     "text": [
      "[I 2024-04-28 23:57:23,534] Trial 129 finished with value: 6.897573471069336 and parameters: {'num_layers': 1, 'hidden_dim': 512, 'embedding_dim': 13, 'lr': 0.046235963032270275, 'optimizer_type': 'Adam', 'relu_type': 'LeakyReLU', 'droupoutrate': 0.3698665635008425}. Best is trial 129 with value: 6.897573471069336.\n",
      "GPU available: True (cuda), used: True\n",
      "TPU available: False, using: 0 TPU cores\n",
      "IPU available: False, using: 0 IPUs\n",
      "HPU available: False, using: 0 HPUs\n",
      "LOCAL_RANK: 0 - CUDA_VISIBLE_DEVICES: [0]\n",
      "\n",
      "  | Name            | Type       | Params\n",
      "-----------------------------------------------\n",
      "0 | embeddings      | ModuleList | 3.0 K \n",
      "1 | fc              | Sequential | 782 K \n",
      "2 | output_category | Sequential | 534 K \n",
      "3 | output_price    | Sequential | 525 K \n",
      "-----------------------------------------------\n",
      "1.8 M     Trainable params\n",
      "0         Non-trainable params\n",
      "1.8 M     Total params\n",
      "7.381     Total estimated model params size (MB)\n"
     ]
    },
    {
     "name": "stdout",
     "output_type": "stream",
     "text": [
      "\n",
      "Number of embedding layers: 36\n",
      "Epoch 0: 100%|██████████| 16/16 [00:00<00:00, 30.70it/s, train_loss_step=17.80, val_loss=16.00, val_price_loss=1e+10, val_category_loss=5.980, val_accuracy=0.197, val_rmse=8.6e+4, train_loss_epoch=77.60]"
     ]
    },
    {
     "name": "stderr",
     "output_type": "stream",
     "text": [
      "Metric val_loss improved. New best score: 15.991\n"
     ]
    },
    {
     "name": "stdout",
     "output_type": "stream",
     "text": [
      "Epoch 1: 100%|██████████| 16/16 [00:00<00:00, 35.67it/s, train_loss_step=12.10, val_loss=16.00, val_price_loss=1e+10, val_category_loss=5.980, val_accuracy=0.197, val_rmse=8.6e+4, train_loss_epoch=77.60]"
     ]
    },
    {
     "name": "stderr",
     "output_type": "stream",
     "text": [
      "[I 2024-04-28 23:57:24,921] Trial 130 pruned. Trial was pruned at epoch 1.\n"
     ]
    },
    {
     "name": "stdout",
     "output_type": "stream",
     "text": [
      "Number of embedding layers: 36\n"
     ]
    },
    {
     "name": "stderr",
     "output_type": "stream",
     "text": [
      "GPU available: True (cuda), used: True\n",
      "TPU available: False, using: 0 TPU cores\n",
      "IPU available: False, using: 0 IPUs\n",
      "HPU available: False, using: 0 HPUs\n",
      "LOCAL_RANK: 0 - CUDA_VISIBLE_DEVICES: [0]\n",
      "\n",
      "  | Name            | Type       | Params\n",
      "-----------------------------------------------\n",
      "0 | embeddings      | ModuleList | 3.2 K \n",
      "1 | fc              | Sequential | 801 K \n",
      "2 | output_category | Sequential | 534 K \n",
      "3 | output_price    | Sequential | 525 K \n",
      "-----------------------------------------------\n",
      "1.9 M     Trainable params\n",
      "0         Non-trainable params\n",
      "1.9 M     Total params\n",
      "7.455     Total estimated model params size (MB)\n"
     ]
    },
    {
     "name": "stdout",
     "output_type": "stream",
     "text": [
      "Epoch 0: 100%|██████████| 16/16 [00:00<00:00, 30.75it/s, train_loss_step=9.260, val_loss=12.40, val_price_loss=8.49e+9, val_category_loss=3.860, val_accuracy=0.431, val_rmse=9.42e+4, train_loss_epoch=19.60]"
     ]
    },
    {
     "name": "stderr",
     "output_type": "stream",
     "text": [
      "Metric val_loss improved. New best score: 12.355\n"
     ]
    },
    {
     "name": "stdout",
     "output_type": "stream",
     "text": [
      "Epoch 1: 100%|██████████| 16/16 [00:00<00:00, 32.67it/s, train_loss_step=6.490, val_loss=7.660, val_price_loss=6.07e+9, val_category_loss=1.590, val_accuracy=0.546, val_rmse=8.67e+4, train_loss_epoch=10.10]"
     ]
    },
    {
     "name": "stderr",
     "output_type": "stream",
     "text": [
      "Metric val_loss improved by 4.695 >= min_delta = 0.0001. New best score: 7.660\n"
     ]
    },
    {
     "name": "stdout",
     "output_type": "stream",
     "text": [
      "Epoch 2: 100%|██████████| 16/16 [00:00<00:00, 31.13it/s, train_loss_step=14.70, val_loss=7.300, val_price_loss=6.06e+9, val_category_loss=1.240, val_accuracy=0.537, val_rmse=7.82e+4, train_loss_epoch=8.680]"
     ]
    },
    {
     "name": "stderr",
     "output_type": "stream",
     "text": [
      "Metric val_loss improved by 0.356 >= min_delta = 0.0001. New best score: 7.304\n"
     ]
    },
    {
     "name": "stdout",
     "output_type": "stream",
     "text": [
      "Epoch 5: 100%|██████████| 16/16 [00:00<00:00, 31.83it/s, train_loss_step=6.130, val_loss=6.850, val_price_loss=5.91e+9, val_category_loss=0.940, val_accuracy=0.661, val_rmse=7.54e+4, train_loss_epoch=8.020]"
     ]
    },
    {
     "name": "stderr",
     "output_type": "stream",
     "text": [
      "Metric val_loss improved by 0.455 >= min_delta = 0.0001. New best score: 6.849\n"
     ]
    },
    {
     "name": "stdout",
     "output_type": "stream",
     "text": [
      "Epoch 10: 100%|██████████| 16/16 [00:00<00:00, 30.68it/s, train_loss_step=6.260, val_loss=7.430, val_price_loss=6.48e+9, val_category_loss=0.952, val_accuracy=0.693, val_rmse=7.78e+4, train_loss_epoch=7.870]"
     ]
    },
    {
     "name": "stderr",
     "output_type": "stream",
     "text": [
      "Monitored metric val_loss did not improve in the last 5 records. Best score: 6.849. Signaling Trainer to stop.\n"
     ]
    },
    {
     "name": "stdout",
     "output_type": "stream",
     "text": [
      "Epoch 10: 100%|██████████| 16/16 [00:00<00:00, 16.10it/s, train_loss_step=6.260, val_loss=7.430, val_price_loss=6.48e+9, val_category_loss=0.952, val_accuracy=0.693, val_rmse=7.78e+4, train_loss_epoch=7.870]"
     ]
    },
    {
     "name": "stderr",
     "output_type": "stream",
     "text": [
      "[I 2024-04-28 23:57:33,413] Trial 131 finished with value: 7.434909820556641 and parameters: {'num_layers': 1, 'hidden_dim': 512, 'embedding_dim': 14, 'lr': 0.04336052875747966, 'optimizer_type': 'Adam', 'relu_type': 'LeakyReLU', 'droupoutrate': 0.4003731375811151}. Best is trial 129 with value: 6.897573471069336.\n",
      "GPU available: True (cuda), used: True\n",
      "TPU available: False, using: 0 TPU cores\n",
      "IPU available: False, using: 0 IPUs\n",
      "HPU available: False, using: 0 HPUs\n",
      "LOCAL_RANK: 0 - CUDA_VISIBLE_DEVICES: [0]\n",
      "\n",
      "  | Name            | Type       | Params\n",
      "-----------------------------------------------\n",
      "0 | embeddings      | ModuleList | 3.5 K \n",
      "1 | fc              | Sequential | 819 K \n",
      "2 | output_category | Sequential | 534 K \n",
      "3 | output_price    | Sequential | 525 K \n",
      "-----------------------------------------------\n",
      "1.9 M     Trainable params\n",
      "0         Non-trainable params\n",
      "1.9 M     Total params\n",
      "7.530     Total estimated model params size (MB)\n"
     ]
    },
    {
     "name": "stdout",
     "output_type": "stream",
     "text": [
      "\n",
      "Number of embedding layers: 36\n",
      "Epoch 0: 100%|██████████| 16/16 [00:00<00:00, 30.21it/s, train_loss_step=10.50, val_loss=14.30, val_price_loss=5.93e+9, val_category_loss=8.360, val_accuracy=0.349, val_rmse=7e+4, train_loss_epoch=18.60]"
     ]
    },
    {
     "name": "stderr",
     "output_type": "stream",
     "text": [
      "Metric val_loss improved. New best score: 14.284\n"
     ]
    },
    {
     "name": "stdout",
     "output_type": "stream",
     "text": [
      "Epoch 1: 100%|██████████| 16/16 [00:00<00:00, 31.27it/s, train_loss_step=8.800, val_loss=7.760, val_price_loss=6.24e+9, val_category_loss=1.530, val_accuracy=0.546, val_rmse=8.5e+4, train_loss_epoch=9.310]"
     ]
    },
    {
     "name": "stderr",
     "output_type": "stream",
     "text": [
      "Metric val_loss improved by 6.520 >= min_delta = 0.0001. New best score: 7.763\n"
     ]
    },
    {
     "name": "stdout",
     "output_type": "stream",
     "text": [
      "Epoch 2: 100%|██████████| 16/16 [00:00<00:00, 32.15it/s, train_loss_step=9.690, val_loss=7.020, val_price_loss=5.84e+9, val_category_loss=1.180, val_accuracy=0.596, val_rmse=7.2e+4, train_loss_epoch=8.680]"
     ]
    },
    {
     "name": "stderr",
     "output_type": "stream",
     "text": [
      "Metric val_loss improved by 0.743 >= min_delta = 0.0001. New best score: 7.021\n"
     ]
    },
    {
     "name": "stdout",
     "output_type": "stream",
     "text": [
      "Epoch 4: 100%|██████████| 16/16 [00:00<00:00, 31.92it/s, train_loss_step=8.190, val_loss=6.760, val_price_loss=5.82e+9, val_category_loss=0.942, val_accuracy=0.683, val_rmse=7.53e+4, train_loss_epoch=7.900]"
     ]
    },
    {
     "name": "stderr",
     "output_type": "stream",
     "text": [
      "Metric val_loss improved by 0.263 >= min_delta = 0.0001. New best score: 6.758\n"
     ]
    },
    {
     "name": "stdout",
     "output_type": "stream",
     "text": [
      "Epoch 5: 100%|██████████| 16/16 [00:00<00:00, 30.10it/s, train_loss_step=5.290, val_loss=6.720, val_price_loss=5.85e+9, val_category_loss=0.865, val_accuracy=0.693, val_rmse=7.53e+4, train_loss_epoch=7.880]"
     ]
    },
    {
     "name": "stderr",
     "output_type": "stream",
     "text": [
      "Metric val_loss improved by 0.041 >= min_delta = 0.0001. New best score: 6.717\n"
     ]
    },
    {
     "name": "stdout",
     "output_type": "stream",
     "text": [
      "Epoch 8: 100%|██████████| 16/16 [00:00<00:00, 33.34it/s, train_loss_step=3.640, val_loss=6.710, val_price_loss=5.87e+9, val_category_loss=0.843, val_accuracy=0.748, val_rmse=7.7e+4, train_loss_epoch=8.200] "
     ]
    },
    {
     "name": "stderr",
     "output_type": "stream",
     "text": [
      "Metric val_loss improved by 0.006 >= min_delta = 0.0001. New best score: 6.712\n"
     ]
    },
    {
     "name": "stdout",
     "output_type": "stream",
     "text": [
      "Epoch 13: 100%|██████████| 16/16 [00:00<00:00, 31.56it/s, train_loss_step=13.40, val_loss=7.950, val_price_loss=6.81e+9, val_category_loss=1.140, val_accuracy=0.720, val_rmse=7.98e+4, train_loss_epoch=7.760]"
     ]
    },
    {
     "name": "stderr",
     "output_type": "stream",
     "text": [
      "Monitored metric val_loss did not improve in the last 5 records. Best score: 6.712. Signaling Trainer to stop.\n"
     ]
    },
    {
     "name": "stdout",
     "output_type": "stream",
     "text": [
      "Epoch 13: 100%|██████████| 16/16 [00:00<00:00, 22.96it/s, train_loss_step=13.40, val_loss=7.950, val_price_loss=6.81e+9, val_category_loss=1.140, val_accuracy=0.720, val_rmse=7.98e+4, train_loss_epoch=7.760]"
     ]
    },
    {
     "name": "stderr",
     "output_type": "stream",
     "text": [
      "[I 2024-04-28 23:57:43,690] Trial 132 finished with value: 7.953644752502441 and parameters: {'num_layers': 1, 'hidden_dim': 512, 'embedding_dim': 15, 'lr': 0.044955671624725246, 'optimizer_type': 'Adam', 'relu_type': 'LeakyReLU', 'droupoutrate': 0.4022743842162392}. Best is trial 129 with value: 6.897573471069336.\n",
      "GPU available: True (cuda), used: True\n",
      "TPU available: False, using: 0 TPU cores\n",
      "IPU available: False, using: 0 IPUs\n",
      "HPU available: False, using: 0 HPUs\n",
      "LOCAL_RANK: 0 - CUDA_VISIBLE_DEVICES: [0]\n",
      "\n",
      "  | Name            | Type       | Params\n",
      "-----------------------------------------------\n",
      "0 | embeddings      | ModuleList | 3.2 K \n",
      "1 | fc              | Sequential | 801 K \n",
      "2 | output_category | Sequential | 534 K \n",
      "3 | output_price    | Sequential | 525 K \n",
      "-----------------------------------------------\n",
      "1.9 M     Trainable params\n",
      "0         Non-trainable params\n",
      "1.9 M     Total params\n",
      "7.455     Total estimated model params size (MB)\n"
     ]
    },
    {
     "name": "stdout",
     "output_type": "stream",
     "text": [
      "\n",
      "Number of embedding layers: 36\n",
      "Epoch 0: 100%|██████████| 16/16 [00:00<00:00, 36.29it/s, train_loss_step=32.60] "
     ]
    },
    {
     "name": "stderr",
     "output_type": "stream",
     "text": [
      "[I 2024-04-28 23:57:44,324] Trial 133 pruned. Trial was pruned at epoch 0.\n"
     ]
    },
    {
     "name": "stdout",
     "output_type": "stream",
     "text": [
      "Number of embedding layers: 36\n"
     ]
    },
    {
     "name": "stderr",
     "output_type": "stream",
     "text": [
      "GPU available: True (cuda), used: True\n",
      "TPU available: False, using: 0 TPU cores\n",
      "IPU available: False, using: 0 IPUs\n",
      "HPU available: False, using: 0 HPUs\n"
     ]
    },
    {
     "name": "stdout",
     "output_type": "stream",
     "text": [
      "Epoch 0: 100%|██████████| 16/16 [00:00<00:00, 27.65it/s, train_loss_step=32.60]\n"
     ]
    },
    {
     "name": "stderr",
     "output_type": "stream",
     "text": [
      "LOCAL_RANK: 0 - CUDA_VISIBLE_DEVICES: [0]\n",
      "\n",
      "  | Name            | Type       | Params\n",
      "-----------------------------------------------\n",
      "0 | embeddings      | ModuleList | 3.0 K \n",
      "1 | fc              | Sequential | 782 K \n",
      "2 | output_category | Sequential | 534 K \n",
      "3 | output_price    | Sequential | 525 K \n",
      "-----------------------------------------------\n",
      "1.8 M     Trainable params\n",
      "0         Non-trainable params\n",
      "1.8 M     Total params\n",
      "7.381     Total estimated model params size (MB)\n"
     ]
    },
    {
     "name": "stdout",
     "output_type": "stream",
     "text": [
      "Epoch 0: 100%|██████████| 16/16 [00:00<00:00, 31.99it/s, train_loss_step=33.50, val_loss=15.90, val_price_loss=6.94e+9, val_category_loss=8.950, val_accuracy=0.206, val_rmse=6.93e+4, train_loss_epoch=28.50]"
     ]
    },
    {
     "name": "stderr",
     "output_type": "stream",
     "text": [
      "Metric val_loss improved. New best score: 15.891\n"
     ]
    },
    {
     "name": "stdout",
     "output_type": "stream",
     "text": [
      "Epoch 1: 100%|██████████| 16/16 [00:00<00:00, 34.69it/s, train_loss_step=8.490, val_loss=15.90, val_price_loss=6.94e+9, val_category_loss=8.950, val_accuracy=0.206, val_rmse=6.93e+4, train_loss_epoch=28.50]"
     ]
    },
    {
     "name": "stderr",
     "output_type": "stream",
     "text": [
      "[I 2024-04-28 23:57:45,722] Trial 134 pruned. Trial was pruned at epoch 1.\n"
     ]
    },
    {
     "name": "stdout",
     "output_type": "stream",
     "text": [
      "Number of embedding layers: 36\n"
     ]
    },
    {
     "name": "stderr",
     "output_type": "stream",
     "text": [
      "GPU available: True (cuda), used: True\n",
      "TPU available: False, using: 0 TPU cores\n",
      "IPU available: False, using: 0 IPUs\n",
      "HPU available: False, using: 0 HPUs\n",
      "LOCAL_RANK: 0 - CUDA_VISIBLE_DEVICES: [0]\n",
      "\n",
      "  | Name            | Type       | Params\n",
      "-----------------------------------------------\n",
      "0 | embeddings      | ModuleList | 3.5 K \n",
      "1 | fc              | Sequential | 819 K \n",
      "2 | output_category | Sequential | 534 K \n",
      "3 | output_price    | Sequential | 525 K \n",
      "-----------------------------------------------\n",
      "1.9 M     Trainable params\n",
      "0         Non-trainable params\n",
      "1.9 M     Total params\n",
      "7.530     Total estimated model params size (MB)\n"
     ]
    },
    {
     "name": "stdout",
     "output_type": "stream",
     "text": [
      "Epoch 0: 100%|██████████| 16/16 [00:00<00:00, 34.91it/s, train_loss_step=10.60]"
     ]
    },
    {
     "name": "stderr",
     "output_type": "stream",
     "text": [
      "[I 2024-04-28 23:57:46,370] Trial 135 pruned. Trial was pruned at epoch 0.\n"
     ]
    },
    {
     "name": "stdout",
     "output_type": "stream",
     "text": [
      "Number of embedding layers: 36\n"
     ]
    },
    {
     "name": "stderr",
     "output_type": "stream",
     "text": [
      "GPU available: True (cuda), used: True\n",
      "TPU available: False, using: 0 TPU cores\n",
      "IPU available: False, using: 0 IPUs\n",
      "HPU available: False, using: 0 HPUs\n"
     ]
    },
    {
     "name": "stdout",
     "output_type": "stream",
     "text": [
      "Epoch 0: 100%|██████████| 16/16 [00:00<00:00, 26.80it/s, train_loss_step=10.60]\n"
     ]
    },
    {
     "name": "stderr",
     "output_type": "stream",
     "text": [
      "LOCAL_RANK: 0 - CUDA_VISIBLE_DEVICES: [0]\n",
      "\n",
      "  | Name            | Type       | Params\n",
      "-----------------------------------------------\n",
      "0 | embeddings      | ModuleList | 3.0 K \n",
      "1 | fc              | Sequential | 782 K \n",
      "2 | output_category | Sequential | 534 K \n",
      "3 | output_price    | Sequential | 525 K \n",
      "-----------------------------------------------\n",
      "1.8 M     Trainable params\n",
      "0         Non-trainable params\n",
      "1.8 M     Total params\n",
      "7.381     Total estimated model params size (MB)\n"
     ]
    },
    {
     "name": "stdout",
     "output_type": "stream",
     "text": [
      "Epoch 0: 100%|██████████| 16/16 [00:00<00:00, 30.97it/s, train_loss_step=19.50, val_loss=15.80, val_price_loss=1.33e+10, val_category_loss=2.510, val_accuracy=0.339, val_rmse=1.18e+5, train_loss_epoch=29.20]"
     ]
    },
    {
     "name": "stderr",
     "output_type": "stream",
     "text": [
      "Metric val_loss improved. New best score: 15.836\n"
     ]
    },
    {
     "name": "stdout",
     "output_type": "stream",
     "text": [
      "Epoch 1: 100%|██████████| 16/16 [00:00<00:00, 32.37it/s, train_loss_step=8.210, val_loss=8.560, val_price_loss=6.98e+9, val_category_loss=1.580, val_accuracy=0.468, val_rmse=9.22e+4, train_loss_epoch=11.50] "
     ]
    },
    {
     "name": "stderr",
     "output_type": "stream",
     "text": [
      "Metric val_loss improved by 7.277 >= min_delta = 0.0001. New best score: 8.559\n"
     ]
    },
    {
     "name": "stdout",
     "output_type": "stream",
     "text": [
      "Epoch 2: 100%|██████████| 16/16 [00:00<00:00, 32.18it/s, train_loss_step=10.70, val_loss=7.040, val_price_loss=5.9e+9, val_category_loss=1.140, val_accuracy=0.596, val_rmse=7.59e+4, train_loss_epoch=8.640] "
     ]
    },
    {
     "name": "stderr",
     "output_type": "stream",
     "text": [
      "Metric val_loss improved by 1.517 >= min_delta = 0.0001. New best score: 7.042\n"
     ]
    },
    {
     "name": "stdout",
     "output_type": "stream",
     "text": [
      "Epoch 7: 100%|██████████| 16/16 [00:00<00:00, 33.81it/s, train_loss_step=6.810, val_loss=6.980, val_price_loss=6.01e+9, val_category_loss=0.966, val_accuracy=0.702, val_rmse=7.61e+4, train_loss_epoch=7.710]"
     ]
    },
    {
     "name": "stderr",
     "output_type": "stream",
     "text": [
      "Metric val_loss improved by 0.067 >= min_delta = 0.0001. New best score: 6.976\n"
     ]
    },
    {
     "name": "stdout",
     "output_type": "stream",
     "text": [
      "Epoch 12: 100%|██████████| 16/16 [00:00<00:00, 40.82it/s, train_loss_step=12.80, val_loss=9.090, val_price_loss=7.82e+9, val_category_loss=1.270, val_accuracy=0.706, val_rmse=8.88e+4, train_loss_epoch=8.080]"
     ]
    },
    {
     "name": "stderr",
     "output_type": "stream",
     "text": [
      "Monitored metric val_loss did not improve in the last 5 records. Best score: 6.976. Signaling Trainer to stop.\n"
     ]
    },
    {
     "name": "stdout",
     "output_type": "stream",
     "text": [
      "Epoch 12: 100%|██████████| 16/16 [00:00<00:00, 25.96it/s, train_loss_step=12.80, val_loss=9.090, val_price_loss=7.82e+9, val_category_loss=1.270, val_accuracy=0.706, val_rmse=8.88e+4, train_loss_epoch=8.080]"
     ]
    },
    {
     "name": "stderr",
     "output_type": "stream",
     "text": [
      "[I 2024-04-28 23:57:55,895] Trial 136 finished with value: 9.09232234954834 and parameters: {'num_layers': 1, 'hidden_dim': 512, 'embedding_dim': 13, 'lr': 0.051588468907717615, 'optimizer_type': 'Adam', 'relu_type': 'LeakyReLU', 'droupoutrate': 0.36614572662810196}. Best is trial 129 with value: 6.897573471069336.\n",
      "GPU available: True (cuda), used: True\n",
      "TPU available: False, using: 0 TPU cores\n",
      "IPU available: False, using: 0 IPUs\n",
      "HPU available: False, using: 0 HPUs\n",
      "LOCAL_RANK: 0 - CUDA_VISIBLE_DEVICES: [0]\n",
      "\n",
      "  | Name            | Type       | Params\n",
      "-----------------------------------------------\n",
      "0 | embeddings      | ModuleList | 3.0 K \n",
      "1 | fc              | Sequential | 2.6 M \n",
      "2 | output_category | Sequential | 2.1 M \n",
      "3 | output_price    | Sequential | 2.1 M \n",
      "-----------------------------------------------\n",
      "6.8 M     Trainable params\n",
      "0         Non-trainable params\n",
      "6.8 M     Total params\n",
      "27.332    Total estimated model params size (MB)\n"
     ]
    },
    {
     "name": "stdout",
     "output_type": "stream",
     "text": [
      "\n",
      "Number of embedding layers: 36\n",
      "Epoch 0: 100%|██████████| 16/16 [00:00<00:00, 42.62it/s, train_loss_step=27.60]"
     ]
    },
    {
     "name": "stderr",
     "output_type": "stream",
     "text": [
      "[I 2024-04-28 23:57:56,527] Trial 137 pruned. Trial was pruned at epoch 0.\n"
     ]
    },
    {
     "name": "stdout",
     "output_type": "stream",
     "text": [
      "Number of embedding layers: 36\n"
     ]
    },
    {
     "name": "stderr",
     "output_type": "stream",
     "text": [
      "GPU available: True (cuda), used: True\n",
      "TPU available: False, using: 0 TPU cores\n",
      "IPU available: False, using: 0 IPUs\n",
      "HPU available: False, using: 0 HPUs\n"
     ]
    },
    {
     "name": "stdout",
     "output_type": "stream",
     "text": [
      "Epoch 0: 100%|██████████| 16/16 [00:00<00:00, 29.91it/s, train_loss_step=27.60]\n"
     ]
    },
    {
     "name": "stderr",
     "output_type": "stream",
     "text": [
      "LOCAL_RANK: 0 - CUDA_VISIBLE_DEVICES: [0]\n",
      "\n",
      "  | Name            | Type       | Params\n",
      "-----------------------------------------------\n",
      "0 | embeddings      | ModuleList | 3.2 K \n",
      "1 | fc              | Sequential | 801 K \n",
      "2 | output_category | Sequential | 534 K \n",
      "3 | output_price    | Sequential | 525 K \n",
      "-----------------------------------------------\n",
      "1.9 M     Trainable params\n",
      "0         Non-trainable params\n",
      "1.9 M     Total params\n",
      "7.455     Total estimated model params size (MB)\n"
     ]
    },
    {
     "name": "stdout",
     "output_type": "stream",
     "text": [
      "Epoch 0: 100%|██████████| 16/16 [00:00<00:00, 35.81it/s, train_loss_step=19.60, val_loss=14.50, val_price_loss=1.03e+10, val_category_loss=4.170, val_accuracy=0.225, val_rmse=9.84e+4, train_loss_epoch=43.10]"
     ]
    },
    {
     "name": "stderr",
     "output_type": "stream",
     "text": [
      "Metric val_loss improved. New best score: 14.458\n"
     ]
    },
    {
     "name": "stdout",
     "output_type": "stream",
     "text": [
      "Epoch 1: 100%|██████████| 16/16 [00:00<00:00, 30.98it/s, train_loss_step=7.530, val_loss=8.240, val_price_loss=6.86e+9, val_category_loss=1.380, val_accuracy=0.546, val_rmse=8.45e+4, train_loss_epoch=12.90] "
     ]
    },
    {
     "name": "stderr",
     "output_type": "stream",
     "text": [
      "Metric val_loss improved by 6.215 >= min_delta = 0.0001. New best score: 8.243\n"
     ]
    },
    {
     "name": "stdout",
     "output_type": "stream",
     "text": [
      "Epoch 2: 100%|██████████| 16/16 [00:00<00:00, 46.64it/s, train_loss_step=7.610, val_loss=8.240, val_price_loss=6.86e+9, val_category_loss=1.380, val_accuracy=0.546, val_rmse=8.45e+4, train_loss_epoch=12.90]"
     ]
    },
    {
     "name": "stderr",
     "output_type": "stream",
     "text": [
      "[I 2024-04-28 23:57:58,498] Trial 138 pruned. Trial was pruned at epoch 2.\n"
     ]
    },
    {
     "name": "stdout",
     "output_type": "stream",
     "text": [
      "Number of embedding layers: 36\n"
     ]
    },
    {
     "name": "stderr",
     "output_type": "stream",
     "text": [
      "GPU available: True (cuda), used: True\n",
      "TPU available: False, using: 0 TPU cores\n",
      "IPU available: False, using: 0 IPUs\n",
      "HPU available: False, using: 0 HPUs\n",
      "LOCAL_RANK: 0 - CUDA_VISIBLE_DEVICES: [0]\n",
      "\n",
      "  | Name            | Type       | Params\n",
      "-----------------------------------------------\n",
      "0 | embeddings      | ModuleList | 3.2 K \n",
      "1 | fc              | Sequential | 801 K \n",
      "2 | output_category | Sequential | 534 K \n",
      "3 | output_price    | Sequential | 525 K \n",
      "-----------------------------------------------\n",
      "1.9 M     Trainable params\n",
      "0         Non-trainable params\n",
      "1.9 M     Total params\n",
      "7.455     Total estimated model params size (MB)\n"
     ]
    },
    {
     "name": "stdout",
     "output_type": "stream",
     "text": [
      "Epoch 0: 100%|██████████| 16/16 [00:00<00:00, 38.47it/s, train_loss_step=11.00, val_loss=12.30, val_price_loss=6.02e+9, val_category_loss=6.310, val_accuracy=0.394, val_rmse=6.22e+4, train_loss_epoch=32.30]"
     ]
    },
    {
     "name": "stderr",
     "output_type": "stream",
     "text": [
      "Metric val_loss improved. New best score: 12.339\n"
     ]
    },
    {
     "name": "stdout",
     "output_type": "stream",
     "text": [
      "Epoch 1: 100%|██████████| 16/16 [00:00<00:00, 38.20it/s, train_loss_step=6.270, val_loss=8.030, val_price_loss=6.11e+9, val_category_loss=1.920, val_accuracy=0.440, val_rmse=7.41e+4, train_loss_epoch=12.40]"
     ]
    },
    {
     "name": "stderr",
     "output_type": "stream",
     "text": [
      "Metric val_loss improved by 4.307 >= min_delta = 0.0001. New best score: 8.032\n"
     ]
    },
    {
     "name": "stdout",
     "output_type": "stream",
     "text": [
      "Epoch 2: 100%|██████████| 16/16 [00:00<00:00, 29.18it/s, train_loss_step=7.710, val_loss=7.310, val_price_loss=6.04e+9, val_category_loss=1.270, val_accuracy=0.606, val_rmse=7.93e+4, train_loss_epoch=9.560]"
     ]
    },
    {
     "name": "stderr",
     "output_type": "stream",
     "text": [
      "Metric val_loss improved by 0.718 >= min_delta = 0.0001. New best score: 7.314\n"
     ]
    },
    {
     "name": "stdout",
     "output_type": "stream",
     "text": [
      "Epoch 3: 100%|██████████| 16/16 [00:00<00:00, 30.72it/s, train_loss_step=7.830, val_loss=6.850, val_price_loss=5.88e+9, val_category_loss=0.974, val_accuracy=0.697, val_rmse=7.8e+4, train_loss_epoch=8.300] "
     ]
    },
    {
     "name": "stderr",
     "output_type": "stream",
     "text": [
      "Metric val_loss improved by 0.460 >= min_delta = 0.0001. New best score: 6.854\n"
     ]
    },
    {
     "name": "stdout",
     "output_type": "stream",
     "text": [
      "Epoch 5: 100%|██████████| 16/16 [00:00<00:00, 39.71it/s, train_loss_step=7.370, val_loss=6.830, val_price_loss=5.89e+9, val_category_loss=0.936, val_accuracy=0.633, val_rmse=7.52e+4, train_loss_epoch=7.800]"
     ]
    },
    {
     "name": "stderr",
     "output_type": "stream",
     "text": [
      "Metric val_loss improved by 0.024 >= min_delta = 0.0001. New best score: 6.830\n"
     ]
    },
    {
     "name": "stdout",
     "output_type": "stream",
     "text": [
      "Epoch 6: 100%|██████████| 16/16 [00:00<00:00, 40.48it/s, train_loss_step=4.180, val_loss=6.740, val_price_loss=5.95e+9, val_category_loss=0.796, val_accuracy=0.720, val_rmse=7.47e+4, train_loss_epoch=7.650]"
     ]
    },
    {
     "name": "stderr",
     "output_type": "stream",
     "text": [
      "Metric val_loss improved by 0.087 >= min_delta = 0.0001. New best score: 6.743\n"
     ]
    },
    {
     "name": "stdout",
     "output_type": "stream",
     "text": [
      "Epoch 11: 100%|██████████| 16/16 [00:00<00:00, 35.49it/s, train_loss_step=6.330, val_loss=6.860, val_price_loss=5.82e+9, val_category_loss=1.040, val_accuracy=0.729, val_rmse=7.56e+4, train_loss_epoch=7.550]"
     ]
    },
    {
     "name": "stderr",
     "output_type": "stream",
     "text": [
      "Monitored metric val_loss did not improve in the last 5 records. Best score: 6.743. Signaling Trainer to stop.\n"
     ]
    },
    {
     "name": "stdout",
     "output_type": "stream",
     "text": [
      "Epoch 11: 100%|██████████| 16/16 [00:00<00:00, 24.99it/s, train_loss_step=6.330, val_loss=6.860, val_price_loss=5.82e+9, val_category_loss=1.040, val_accuracy=0.729, val_rmse=7.56e+4, train_loss_epoch=7.550]"
     ]
    },
    {
     "name": "stderr",
     "output_type": "stream",
     "text": [
      "[I 2024-04-28 23:58:06,666] Trial 139 finished with value: 6.860494136810303 and parameters: {'num_layers': 1, 'hidden_dim': 512, 'embedding_dim': 14, 'lr': 0.028039151980518314, 'optimizer_type': 'Adam', 'relu_type': 'LeakyReLU', 'droupoutrate': 0.4030157350955987}. Best is trial 139 with value: 6.860494136810303.\n",
      "GPU available: True (cuda), used: True\n",
      "TPU available: False, using: 0 TPU cores\n",
      "IPU available: False, using: 0 IPUs\n",
      "HPU available: False, using: 0 HPUs\n",
      "LOCAL_RANK: 0 - CUDA_VISIBLE_DEVICES: [0]\n",
      "\n",
      "  | Name            | Type       | Params\n",
      "-----------------------------------------------\n",
      "0 | embeddings      | ModuleList | 3.2 K \n",
      "1 | fc              | Sequential | 801 K \n",
      "2 | output_category | Sequential | 534 K \n",
      "3 | output_price    | Sequential | 525 K \n",
      "-----------------------------------------------\n",
      "1.9 M     Trainable params\n",
      "0         Non-trainable params\n",
      "1.9 M     Total params\n",
      "7.455     Total estimated model params size (MB)\n"
     ]
    },
    {
     "name": "stdout",
     "output_type": "stream",
     "text": [
      "\n",
      "Number of embedding layers: 36\n",
      "Epoch 0: 100%|██████████| 16/16 [00:00<00:00, 31.64it/s, train_loss_step=40.40, val_loss=14.50, val_price_loss=8.45e+9, val_category_loss=6.070, val_accuracy=0.183, val_rmse=9.42e+4, train_loss_epoch=41.10]"
     ]
    },
    {
     "name": "stderr",
     "output_type": "stream",
     "text": [
      "Metric val_loss improved. New best score: 14.519\n"
     ]
    },
    {
     "name": "stdout",
     "output_type": "stream",
     "text": [
      "Epoch 1: 100%|██████████| 16/16 [00:00<00:00, 38.11it/s, train_loss_step=9.480, val_loss=14.50, val_price_loss=8.45e+9, val_category_loss=6.070, val_accuracy=0.183, val_rmse=9.42e+4, train_loss_epoch=41.10]"
     ]
    },
    {
     "name": "stderr",
     "output_type": "stream",
     "text": [
      "[I 2024-04-28 23:58:07,989] Trial 140 pruned. Trial was pruned at epoch 1.\n",
      "GPU available: True (cuda), used: True\n"
     ]
    },
    {
     "name": "stdout",
     "output_type": "stream",
     "text": [
      "Number of embedding layers: 36\n"
     ]
    },
    {
     "name": "stderr",
     "output_type": "stream",
     "text": [
      "TPU available: False, using: 0 TPU cores\n",
      "IPU available: False, using: 0 IPUs\n",
      "HPU available: False, using: 0 HPUs\n",
      "LOCAL_RANK: 0 - CUDA_VISIBLE_DEVICES: [0]\n",
      "\n",
      "  | Name            | Type       | Params\n",
      "-----------------------------------------------\n",
      "0 | embeddings      | ModuleList | 3.2 K \n",
      "1 | fc              | Sequential | 801 K \n",
      "2 | output_category | Sequential | 534 K \n",
      "3 | output_price    | Sequential | 525 K \n",
      "-----------------------------------------------\n",
      "1.9 M     Trainable params\n",
      "0         Non-trainable params\n",
      "1.9 M     Total params\n",
      "7.455     Total estimated model params size (MB)\n"
     ]
    },
    {
     "name": "stdout",
     "output_type": "stream",
     "text": [
      "Epoch 0: 100%|██████████| 16/16 [00:00<00:00, 31.58it/s, train_loss_step=11.00, val_loss=16.30, val_price_loss=8.47e+9, val_category_loss=7.850, val_accuracy=0.358, val_rmse=9.17e+4, train_loss_epoch=20.20]"
     ]
    },
    {
     "name": "stderr",
     "output_type": "stream",
     "text": [
      "Metric val_loss improved. New best score: 16.318\n"
     ]
    },
    {
     "name": "stdout",
     "output_type": "stream",
     "text": [
      "Epoch 1: 100%|██████████| 16/16 [00:00<00:00, 29.12it/s, train_loss_step=7.810, val_loss=7.970, val_price_loss=5.97e+9, val_category_loss=2.010, val_accuracy=0.509, val_rmse=7.52e+4, train_loss_epoch=9.070]"
     ]
    },
    {
     "name": "stderr",
     "output_type": "stream",
     "text": [
      "Metric val_loss improved by 8.344 >= min_delta = 0.0001. New best score: 7.974\n"
     ]
    },
    {
     "name": "stdout",
     "output_type": "stream",
     "text": [
      "Epoch 2: 100%|██████████| 16/16 [00:00<00:00, 44.07it/s, train_loss_step=18.20, val_loss=7.600, val_price_loss=6.05e+9, val_category_loss=1.550, val_accuracy=0.537, val_rmse=7.53e+4, train_loss_epoch=8.760]"
     ]
    },
    {
     "name": "stderr",
     "output_type": "stream",
     "text": [
      "Metric val_loss improved by 0.376 >= min_delta = 0.0001. New best score: 7.598\n"
     ]
    },
    {
     "name": "stdout",
     "output_type": "stream",
     "text": [
      "Epoch 3: 100%|██████████| 16/16 [00:00<00:00, 45.07it/s, train_loss_step=9.830, val_loss=7.100, val_price_loss=6.22e+9, val_category_loss=0.889, val_accuracy=0.716, val_rmse=7.78e+4, train_loss_epoch=7.950]"
     ]
    },
    {
     "name": "stderr",
     "output_type": "stream",
     "text": [
      "Metric val_loss improved by 0.494 >= min_delta = 0.0001. New best score: 7.104\n"
     ]
    },
    {
     "name": "stdout",
     "output_type": "stream",
     "text": [
      "Epoch 4: 100%|██████████| 16/16 [00:00<00:00, 34.24it/s, train_loss_step=5.910, val_loss=6.990, val_price_loss=6e+9, val_category_loss=0.989, val_accuracy=0.683, val_rmse=7.6e+4, train_loss_epoch=7.940]    "
     ]
    },
    {
     "name": "stderr",
     "output_type": "stream",
     "text": [
      "Metric val_loss improved by 0.114 >= min_delta = 0.0001. New best score: 6.990\n"
     ]
    },
    {
     "name": "stdout",
     "output_type": "stream",
     "text": [
      "Epoch 9: 100%|██████████| 16/16 [00:00<00:00, 36.21it/s, train_loss_step=6.570, val_loss=8.010, val_price_loss=6.26e+9, val_category_loss=1.760, val_accuracy=0.647, val_rmse=7.84e+4, train_loss_epoch=7.740]"
     ]
    },
    {
     "name": "stderr",
     "output_type": "stream",
     "text": [
      "Monitored metric val_loss did not improve in the last 5 records. Best score: 6.990. Signaling Trainer to stop.\n"
     ]
    },
    {
     "name": "stdout",
     "output_type": "stream",
     "text": [
      "Epoch 9: 100%|██████████| 16/16 [00:00<00:00, 22.62it/s, train_loss_step=6.570, val_loss=8.010, val_price_loss=6.26e+9, val_category_loss=1.760, val_accuracy=0.647, val_rmse=7.84e+4, train_loss_epoch=7.740]"
     ]
    },
    {
     "name": "stderr",
     "output_type": "stream",
     "text": [
      "[I 2024-04-28 23:58:15,612] Trial 141 finished with value: 8.01343822479248 and parameters: {'num_layers': 1, 'hidden_dim': 512, 'embedding_dim': 14, 'lr': 0.024903054793201467, 'optimizer_type': 'Adam', 'relu_type': 'LeakyReLU', 'droupoutrate': 0.40196904940529926}. Best is trial 139 with value: 6.860494136810303.\n",
      "GPU available: True (cuda), used: True\n",
      "TPU available: False, using: 0 TPU cores\n",
      "IPU available: False, using: 0 IPUs\n",
      "HPU available: False, using: 0 HPUs\n",
      "LOCAL_RANK: 0 - CUDA_VISIBLE_DEVICES: [0]\n",
      "\n",
      "  | Name            | Type       | Params\n",
      "-----------------------------------------------\n",
      "0 | embeddings      | ModuleList | 3.7 K \n",
      "1 | fc              | Sequential | 838 K \n",
      "2 | output_category | Sequential | 534 K \n",
      "3 | output_price    | Sequential | 525 K \n",
      "-----------------------------------------------\n",
      "1.9 M     Trainable params\n",
      "0         Non-trainable params\n",
      "1.9 M     Total params\n",
      "7.605     Total estimated model params size (MB)\n"
     ]
    },
    {
     "name": "stdout",
     "output_type": "stream",
     "text": [
      "\n",
      "Number of embedding layers: 36\n",
      "Epoch 0: 100%|██████████| 16/16 [00:00<00:00, 40.36it/s, train_loss_step=9.550, val_loss=10.90, val_price_loss=6.08e+9, val_category_loss=4.870, val_accuracy=0.381, val_rmse=6.44e+4, train_loss_epoch=28.00]"
     ]
    },
    {
     "name": "stderr",
     "output_type": "stream",
     "text": [
      "Metric val_loss improved. New best score: 10.948\n"
     ]
    },
    {
     "name": "stdout",
     "output_type": "stream",
     "text": [
      "Epoch 1: 100%|██████████| 16/16 [00:00<00:00, 35.12it/s, train_loss_step=6.840, val_loss=10.90, val_price_loss=6.08e+9, val_category_loss=4.870, val_accuracy=0.381, val_rmse=6.44e+4, train_loss_epoch=28.00]"
     ]
    },
    {
     "name": "stderr",
     "output_type": "stream",
     "text": [
      "[I 2024-04-28 23:58:16,946] Trial 142 pruned. Trial was pruned at epoch 1.\n"
     ]
    },
    {
     "name": "stdout",
     "output_type": "stream",
     "text": [
      "Number of embedding layers: 36\n"
     ]
    },
    {
     "name": "stderr",
     "output_type": "stream",
     "text": [
      "GPU available: True (cuda), used: True\n",
      "TPU available: False, using: 0 TPU cores\n",
      "IPU available: False, using: 0 IPUs\n",
      "HPU available: False, using: 0 HPUs\n",
      "LOCAL_RANK: 0 - CUDA_VISIBLE_DEVICES: [0]\n",
      "\n",
      "  | Name            | Type       | Params\n",
      "-----------------------------------------------\n",
      "0 | embeddings      | ModuleList | 3.5 K \n",
      "1 | fc              | Sequential | 819 K \n",
      "2 | output_category | Sequential | 534 K \n",
      "3 | output_price    | Sequential | 525 K \n",
      "-----------------------------------------------\n",
      "1.9 M     Trainable params\n",
      "0         Non-trainable params\n",
      "1.9 M     Total params\n",
      "7.530     Total estimated model params size (MB)\n"
     ]
    },
    {
     "name": "stdout",
     "output_type": "stream",
     "text": [
      "Epoch 0: 100%|██████████| 16/16 [00:00<00:00, 35.43it/s, train_loss_step=27.50]"
     ]
    },
    {
     "name": "stderr",
     "output_type": "stream",
     "text": [
      "[I 2024-04-28 23:58:17,624] Trial 143 pruned. Trial was pruned at epoch 0.\n"
     ]
    },
    {
     "name": "stdout",
     "output_type": "stream",
     "text": [
      "Number of embedding layers: 36\n"
     ]
    },
    {
     "name": "stderr",
     "output_type": "stream",
     "text": [
      "GPU available: True (cuda), used: True\n",
      "TPU available: False, using: 0 TPU cores\n",
      "IPU available: False, using: 0 IPUs\n",
      "HPU available: False, using: 0 HPUs\n",
      "LOCAL_RANK: 0 - CUDA_VISIBLE_DEVICES: [0]\n",
      "\n",
      "  | Name            | Type       | Params\n",
      "-----------------------------------------------\n",
      "0 | embeddings      | ModuleList | 3.0 K \n",
      "1 | fc              | Sequential | 782 K \n",
      "2 | output_category | Sequential | 534 K \n",
      "3 | output_price    | Sequential | 525 K \n",
      "-----------------------------------------------\n",
      "1.8 M     Trainable params\n",
      "0         Non-trainable params\n",
      "1.8 M     Total params\n",
      "7.381     Total estimated model params size (MB)\n"
     ]
    },
    {
     "name": "stdout",
     "output_type": "stream",
     "text": [
      "Epoch 0: 100%|██████████| 16/16 [00:00<00:00, 35.18it/s, train_loss_step=14.20, val_loss=17.60, val_price_loss=8.62e+9, val_category_loss=8.990, val_accuracy=0.317, val_rmse=1.13e+5, train_loss_epoch=27.40]"
     ]
    },
    {
     "name": "stderr",
     "output_type": "stream",
     "text": [
      "Metric val_loss improved. New best score: 17.608\n"
     ]
    },
    {
     "name": "stdout",
     "output_type": "stream",
     "text": [
      "Epoch 0: 100%|██████████| 16/16 [00:01<00:00, 14.14it/s, train_loss_step=27.50]\n",
      "Epoch 1: 100%|██████████| 16/16 [00:00<00:00, 40.43it/s, train_loss_step=7.560, val_loss=8.580, val_price_loss=5.99e+9, val_category_loss=2.590, val_accuracy=0.431, val_rmse=7.83e+4, train_loss_epoch=11.20]"
     ]
    },
    {
     "name": "stderr",
     "output_type": "stream",
     "text": [
      "Metric val_loss improved by 9.030 >= min_delta = 0.0001. New best score: 8.577\n"
     ]
    },
    {
     "name": "stdout",
     "output_type": "stream",
     "text": [
      "Epoch 2: 100%|██████████| 16/16 [00:00<00:00, 40.21it/s, train_loss_step=5.810, val_loss=7.280, val_price_loss=5.9e+9, val_category_loss=1.370, val_accuracy=0.514, val_rmse=7.23e+4, train_loss_epoch=8.630] "
     ]
    },
    {
     "name": "stderr",
     "output_type": "stream",
     "text": [
      "Metric val_loss improved by 1.302 >= min_delta = 0.0001. New best score: 7.275\n"
     ]
    },
    {
     "name": "stdout",
     "output_type": "stream",
     "text": [
      "Epoch 3: 100%|██████████| 16/16 [00:00<00:00, 36.05it/s, train_loss_step=4.680, val_loss=7.060, val_price_loss=5.94e+9, val_category_loss=1.130, val_accuracy=0.592, val_rmse=7.65e+4, train_loss_epoch=8.280]"
     ]
    },
    {
     "name": "stderr",
     "output_type": "stream",
     "text": [
      "Metric val_loss improved by 0.214 >= min_delta = 0.0001. New best score: 7.061\n"
     ]
    },
    {
     "name": "stdout",
     "output_type": "stream",
     "text": [
      "Epoch 5: 100%|██████████| 16/16 [00:00<00:00, 39.81it/s, train_loss_step=6.300, val_loss=7.050, val_price_loss=5.95e+9, val_category_loss=1.100, val_accuracy=0.606, val_rmse=7.51e+4, train_loss_epoch=8.060]"
     ]
    },
    {
     "name": "stderr",
     "output_type": "stream",
     "text": [
      "Metric val_loss improved by 0.007 >= min_delta = 0.0001. New best score: 7.054\n"
     ]
    },
    {
     "name": "stdout",
     "output_type": "stream",
     "text": [
      "Epoch 7: 100%|██████████| 16/16 [00:00<00:00, 38.84it/s, train_loss_step=6.310, val_loss=7.050, val_price_loss=6.03e+9, val_category_loss=1.020, val_accuracy=0.706, val_rmse=7.66e+4, train_loss_epoch=7.680]"
     ]
    },
    {
     "name": "stderr",
     "output_type": "stream",
     "text": [
      "Metric val_loss improved by 0.008 >= min_delta = 0.0001. New best score: 7.046\n"
     ]
    },
    {
     "name": "stdout",
     "output_type": "stream",
     "text": [
      "Epoch 12: 100%|██████████| 16/16 [00:00<00:00, 33.52it/s, train_loss_step=4.700, val_loss=7.140, val_price_loss=5.93e+9, val_category_loss=1.200, val_accuracy=0.711, val_rmse=7.53e+4, train_loss_epoch=7.940]"
     ]
    },
    {
     "name": "stderr",
     "output_type": "stream",
     "text": [
      "Monitored metric val_loss did not improve in the last 5 records. Best score: 7.046. Signaling Trainer to stop.\n"
     ]
    },
    {
     "name": "stdout",
     "output_type": "stream",
     "text": [
      "Epoch 12: 100%|██████████| 16/16 [00:00<00:00, 23.77it/s, train_loss_step=4.700, val_loss=7.140, val_price_loss=5.93e+9, val_category_loss=1.200, val_accuracy=0.711, val_rmse=7.53e+4, train_loss_epoch=7.940]"
     ]
    },
    {
     "name": "stderr",
     "output_type": "stream",
     "text": [
      "[I 2024-04-28 23:58:27,061] Trial 144 finished with value: 7.137220859527588 and parameters: {'num_layers': 1, 'hidden_dim': 512, 'embedding_dim': 13, 'lr': 0.06056782430883434, 'optimizer_type': 'Adam', 'relu_type': 'LeakyReLU', 'droupoutrate': 0.3920779084902595}. Best is trial 139 with value: 6.860494136810303.\n",
      "GPU available: True (cuda), used: True\n",
      "TPU available: False, using: 0 TPU cores\n",
      "IPU available: False, using: 0 IPUs\n",
      "HPU available: False, using: 0 HPUs\n",
      "LOCAL_RANK: 0 - CUDA_VISIBLE_DEVICES: [0]\n",
      "\n",
      "  | Name            | Type       | Params\n",
      "-----------------------------------------------\n",
      "0 | embeddings      | ModuleList | 3.0 K \n",
      "1 | fc              | Sequential | 782 K \n",
      "2 | output_category | Sequential | 534 K \n",
      "3 | output_price    | Sequential | 525 K \n",
      "-----------------------------------------------\n",
      "1.8 M     Trainable params\n",
      "0         Non-trainable params\n",
      "1.8 M     Total params\n",
      "7.381     Total estimated model params size (MB)\n"
     ]
    },
    {
     "name": "stdout",
     "output_type": "stream",
     "text": [
      "\n",
      "Number of embedding layers: 36\n",
      "Epoch 0: 100%|██████████| 16/16 [00:00<00:00, 33.92it/s, train_loss_step=21.70, val_loss=12.40, val_price_loss=9.33e+9, val_category_loss=3.100, val_accuracy=0.330, val_rmse=1.04e+5, train_loss_epoch=51.90]"
     ]
    },
    {
     "name": "stderr",
     "output_type": "stream",
     "text": [
      "Metric val_loss improved. New best score: 12.431\n"
     ]
    },
    {
     "name": "stdout",
     "output_type": "stream",
     "text": [
      "Epoch 1: 100%|██████████| 16/16 [00:00<00:00, 36.46it/s, train_loss_step=12.80, val_loss=12.40, val_price_loss=9.33e+9, val_category_loss=3.100, val_accuracy=0.330, val_rmse=1.04e+5, train_loss_epoch=51.90]"
     ]
    },
    {
     "name": "stderr",
     "output_type": "stream",
     "text": [
      "[I 2024-04-28 23:58:28,376] Trial 145 pruned. Trial was pruned at epoch 1.\n"
     ]
    },
    {
     "name": "stdout",
     "output_type": "stream",
     "text": [
      "Number of embedding layers: 36\n"
     ]
    },
    {
     "name": "stderr",
     "output_type": "stream",
     "text": [
      "GPU available: True (cuda), used: True\n",
      "TPU available: False, using: 0 TPU cores\n",
      "IPU available: False, using: 0 IPUs\n",
      "HPU available: False, using: 0 HPUs\n",
      "LOCAL_RANK: 0 - CUDA_VISIBLE_DEVICES: [0]\n",
      "\n",
      "  | Name            | Type       | Params\n",
      "-----------------------------------------------\n",
      "0 | embeddings      | ModuleList | 3.0 K \n",
      "1 | fc              | Sequential | 782 K \n",
      "2 | output_category | Sequential | 534 K \n",
      "3 | output_price    | Sequential | 525 K \n",
      "-----------------------------------------------\n",
      "1.8 M     Trainable params\n",
      "0         Non-trainable params\n",
      "1.8 M     Total params\n",
      "7.381     Total estimated model params size (MB)\n"
     ]
    },
    {
     "name": "stdout",
     "output_type": "stream",
     "text": [
      "Epoch 0: 100%|██████████| 16/16 [00:00<00:00, 33.98it/s, train_loss_step=10.70, val_loss=11.00, val_price_loss=7.61e+9, val_category_loss=3.370, val_accuracy=0.376, val_rmse=7.72e+4, train_loss_epoch=22.50]"
     ]
    },
    {
     "name": "stderr",
     "output_type": "stream",
     "text": [
      "Metric val_loss improved. New best score: 10.980\n"
     ]
    },
    {
     "name": "stdout",
     "output_type": "stream",
     "text": [
      "Epoch 1: 100%|██████████| 16/16 [00:01<00:00, 14.12it/s, train_loss_step=12.80, val_loss=12.40, val_price_loss=9.33e+9, val_category_loss=3.100, val_accuracy=0.330, val_rmse=1.04e+5, train_loss_epoch=51.90]\n",
      "Epoch 1: 100%|██████████| 16/16 [00:00<00:00, 33.92it/s, train_loss_step=11.10, val_loss=7.730, val_price_loss=6.14e+9, val_category_loss=1.580, val_accuracy=0.532, val_rmse=6.92e+4, train_loss_epoch=10.70]"
     ]
    },
    {
     "name": "stderr",
     "output_type": "stream",
     "text": [
      "Metric val_loss improved by 3.255 >= min_delta = 0.0001. New best score: 7.726\n"
     ]
    },
    {
     "name": "stdout",
     "output_type": "stream",
     "text": [
      "Epoch 2: 100%|██████████| 16/16 [00:00<00:00, 32.04it/s, train_loss_step=8.700, val_loss=7.270, val_price_loss=5.88e+9, val_category_loss=1.390, val_accuracy=0.482, val_rmse=7.28e+4, train_loss_epoch=9.460]"
     ]
    },
    {
     "name": "stderr",
     "output_type": "stream",
     "text": [
      "Metric val_loss improved by 0.454 >= min_delta = 0.0001. New best score: 7.272\n"
     ]
    },
    {
     "name": "stdout",
     "output_type": "stream",
     "text": [
      "Epoch 7: 100%|██████████| 16/16 [00:00<00:00, 42.67it/s, train_loss_step=9.160, val_loss=6.950, val_price_loss=5.82e+9, val_category_loss=1.130, val_accuracy=0.661, val_rmse=7.41e+4, train_loss_epoch=7.950]"
     ]
    },
    {
     "name": "stderr",
     "output_type": "stream",
     "text": [
      "Metric val_loss improved by 0.324 >= min_delta = 0.0001. New best score: 6.948\n"
     ]
    },
    {
     "name": "stdout",
     "output_type": "stream",
     "text": [
      "Epoch 11: 100%|██████████| 16/16 [00:00<00:00, 39.42it/s, train_loss_step=12.20, val_loss=6.850, val_price_loss=5.83e+9, val_category_loss=1.020, val_accuracy=0.725, val_rmse=7.55e+4, train_loss_epoch=7.590]"
     ]
    },
    {
     "name": "stderr",
     "output_type": "stream",
     "text": [
      "Metric val_loss improved by 0.097 >= min_delta = 0.0001. New best score: 6.851\n"
     ]
    },
    {
     "name": "stdout",
     "output_type": "stream",
     "text": [
      "Epoch 16: 100%|██████████| 16/16 [00:00<00:00, 42.12it/s, train_loss_step=9.760, val_loss=7.950, val_price_loss=6.37e+9, val_category_loss=1.590, val_accuracy=0.679, val_rmse=7.56e+4, train_loss_epoch=7.780]"
     ]
    },
    {
     "name": "stderr",
     "output_type": "stream",
     "text": [
      "Monitored metric val_loss did not improve in the last 5 records. Best score: 6.851. Signaling Trainer to stop.\n"
     ]
    },
    {
     "name": "stdout",
     "output_type": "stream",
     "text": [
      "Epoch 16: 100%|██████████| 16/16 [00:00<00:00, 28.58it/s, train_loss_step=9.760, val_loss=7.950, val_price_loss=6.37e+9, val_category_loss=1.590, val_accuracy=0.679, val_rmse=7.56e+4, train_loss_epoch=7.780]"
     ]
    },
    {
     "name": "stderr",
     "output_type": "stream",
     "text": [
      "[I 2024-04-28 23:58:39,468] Trial 146 finished with value: 7.95359468460083 and parameters: {'num_layers': 1, 'hidden_dim': 512, 'embedding_dim': 13, 'lr': 0.06629393376663813, 'optimizer_type': 'Adam', 'relu_type': 'LeakyReLU', 'droupoutrate': 0.3665632892995616}. Best is trial 139 with value: 6.860494136810303.\n",
      "GPU available: True (cuda), used: True\n",
      "TPU available: False, using: 0 TPU cores\n",
      "IPU available: False, using: 0 IPUs\n",
      "HPU available: False, using: 0 HPUs\n",
      "LOCAL_RANK: 0 - CUDA_VISIBLE_DEVICES: [0]\n",
      "\n",
      "  | Name            | Type       | Params\n",
      "-----------------------------------------------\n",
      "0 | embeddings      | ModuleList | 3.2 K \n",
      "1 | fc              | Sequential | 801 K \n",
      "2 | output_category | Sequential | 534 K \n",
      "3 | output_price    | Sequential | 525 K \n",
      "-----------------------------------------------\n",
      "1.9 M     Trainable params\n",
      "0         Non-trainable params\n",
      "1.9 M     Total params\n",
      "7.455     Total estimated model params size (MB)\n"
     ]
    },
    {
     "name": "stdout",
     "output_type": "stream",
     "text": [
      "\n",
      "Number of embedding layers: 36\n",
      "Epoch 0: 100%|██████████| 16/16 [00:00<00:00, 50.45it/s, train_loss_step=41.40]"
     ]
    },
    {
     "name": "stderr",
     "output_type": "stream",
     "text": [
      "[I 2024-04-28 23:58:39,955] Trial 147 pruned. Trial was pruned at epoch 0.\n"
     ]
    },
    {
     "name": "stdout",
     "output_type": "stream",
     "text": [
      "Number of embedding layers: 36\n"
     ]
    },
    {
     "name": "stderr",
     "output_type": "stream",
     "text": [
      "GPU available: True (cuda), used: True\n",
      "TPU available: False, using: 0 TPU cores\n",
      "IPU available: False, using: 0 IPUs\n",
      "HPU available: False, using: 0 HPUs\n"
     ]
    },
    {
     "name": "stdout",
     "output_type": "stream",
     "text": [
      "Epoch 0: 100%|██████████| 16/16 [00:00<00:00, 35.65it/s, train_loss_step=41.40]\n"
     ]
    },
    {
     "name": "stderr",
     "output_type": "stream",
     "text": [
      "LOCAL_RANK: 0 - CUDA_VISIBLE_DEVICES: [0]\n",
      "\n",
      "  | Name            | Type       | Params\n",
      "-----------------------------------------------\n",
      "0 | embeddings      | ModuleList | 2.8 K \n",
      "1 | fc              | Sequential | 764 K \n",
      "2 | output_category | Sequential | 534 K \n",
      "3 | output_price    | Sequential | 525 K \n",
      "-----------------------------------------------\n",
      "1.8 M     Trainable params\n",
      "0         Non-trainable params\n",
      "1.8 M     Total params\n",
      "7.306     Total estimated model params size (MB)\n"
     ]
    },
    {
     "name": "stdout",
     "output_type": "stream",
     "text": [
      "Epoch 0: 100%|██████████| 16/16 [00:00<00:00, 32.87it/s, train_loss_step=11.40, val_loss=12.10, val_price_loss=9.06e+9, val_category_loss=3.060, val_accuracy=0.239, val_rmse=5.94e+4, train_loss_epoch=31.80]"
     ]
    },
    {
     "name": "stderr",
     "output_type": "stream",
     "text": [
      "Metric val_loss improved. New best score: 12.120\n"
     ]
    },
    {
     "name": "stdout",
     "output_type": "stream",
     "text": [
      "Epoch 1: 100%|██████████| 16/16 [00:00<00:00, 39.09it/s, train_loss_step=10.40, val_loss=12.10, val_price_loss=9.06e+9, val_category_loss=3.060, val_accuracy=0.239, val_rmse=5.94e+4, train_loss_epoch=31.80]"
     ]
    },
    {
     "name": "stderr",
     "output_type": "stream",
     "text": [
      "[I 2024-04-28 23:58:41,314] Trial 148 pruned. Trial was pruned at epoch 1.\n"
     ]
    },
    {
     "name": "stdout",
     "output_type": "stream",
     "text": [
      "Number of embedding layers: 36\n"
     ]
    },
    {
     "name": "stderr",
     "output_type": "stream",
     "text": [
      "GPU available: True (cuda), used: True\n",
      "TPU available: False, using: 0 TPU cores\n",
      "IPU available: False, using: 0 IPUs\n",
      "HPU available: False, using: 0 HPUs\n",
      "LOCAL_RANK: 0 - CUDA_VISIBLE_DEVICES: [0]\n",
      "\n",
      "  | Name            | Type       | Params\n",
      "-----------------------------------------------\n",
      "0 | embeddings      | ModuleList | 3.2 K \n",
      "1 | fc              | Sequential | 269 K \n",
      "2 | output_category | Sequential | 135 K \n",
      "3 | output_price    | Sequential | 131 K \n",
      "-----------------------------------------------\n",
      "540 K     Trainable params\n",
      "0         Non-trainable params\n",
      "540 K     Total params\n",
      "2.161     Total estimated model params size (MB)\n"
     ]
    },
    {
     "name": "stdout",
     "output_type": "stream",
     "text": [
      "Epoch 0: 100%|██████████| 16/16 [00:00<00:00, 36.35it/s, train_loss_step=5.630, val_loss=15.10, val_price_loss=6.92e+9, val_category_loss=8.140, val_accuracy=0.312, val_rmse=7.85e+4, train_loss_epoch=20.60]"
     ]
    },
    {
     "name": "stderr",
     "output_type": "stream",
     "text": [
      "Metric val_loss improved. New best score: 15.057\n"
     ]
    },
    {
     "name": "stdout",
     "output_type": "stream",
     "text": [
      "Epoch 1: 100%|██████████| 16/16 [00:00<00:00, 35.12it/s, train_loss_step=9.050, val_loss=7.510, val_price_loss=5.84e+9, val_category_loss=1.670, val_accuracy=0.606, val_rmse=7.66e+4, train_loss_epoch=8.930]"
     ]
    },
    {
     "name": "stderr",
     "output_type": "stream",
     "text": [
      "Metric val_loss improved by 7.547 >= min_delta = 0.0001. New best score: 7.510\n"
     ]
    },
    {
     "name": "stdout",
     "output_type": "stream",
     "text": [
      "Epoch 2: 100%|██████████| 16/16 [00:00<00:00, 34.51it/s, train_loss_step=14.50, val_loss=6.950, val_price_loss=5.86e+9, val_category_loss=1.080, val_accuracy=0.656, val_rmse=7.7e+4, train_loss_epoch=8.420] "
     ]
    },
    {
     "name": "stderr",
     "output_type": "stream",
     "text": [
      "Metric val_loss improved by 0.563 >= min_delta = 0.0001. New best score: 6.947\n"
     ]
    },
    {
     "name": "stdout",
     "output_type": "stream",
     "text": [
      "Epoch 7: 100%|██████████| 16/16 [00:00<00:00, 32.54it/s, train_loss_step=8.630, val_loss=6.880, val_price_loss=5.83e+9, val_category_loss=1.060, val_accuracy=0.688, val_rmse=7.54e+4, train_loss_epoch=7.850]"
     ]
    },
    {
     "name": "stderr",
     "output_type": "stream",
     "text": [
      "Metric val_loss improved by 0.065 >= min_delta = 0.0001. New best score: 6.882\n"
     ]
    },
    {
     "name": "stdout",
     "output_type": "stream",
     "text": [
      "Epoch 12: 100%|██████████| 16/16 [00:00<00:00, 32.49it/s, train_loss_step=7.590, val_loss=9.150, val_price_loss=6.55e+9, val_category_loss=2.600, val_accuracy=0.560, val_rmse=8.27e+4, train_loss_epoch=8.030]"
     ]
    },
    {
     "name": "stderr",
     "output_type": "stream",
     "text": [
      "Monitored metric val_loss did not improve in the last 5 records. Best score: 6.882. Signaling Trainer to stop.\n"
     ]
    },
    {
     "name": "stdout",
     "output_type": "stream",
     "text": [
      "Epoch 12: 100%|██████████| 16/16 [00:00<00:00, 29.45it/s, train_loss_step=7.590, val_loss=9.150, val_price_loss=6.55e+9, val_category_loss=2.600, val_accuracy=0.560, val_rmse=8.27e+4, train_loss_epoch=8.030]"
     ]
    },
    {
     "name": "stderr",
     "output_type": "stream",
     "text": [
      "[I 2024-04-28 23:58:48,364] Trial 149 finished with value: 9.151545524597168 and parameters: {'num_layers': 1, 'hidden_dim': 256, 'embedding_dim': 14, 'lr': 0.043406997887122885, 'optimizer_type': 'Adam', 'relu_type': 'LeakyReLU', 'droupoutrate': 0.3309480681685008}. Best is trial 139 with value: 6.860494136810303.\n"
     ]
    },
    {
     "name": "stdout",
     "output_type": "stream",
     "text": [
      "\n",
      "Number of embedding layers: 36\n"
     ]
    },
    {
     "name": "stderr",
     "output_type": "stream",
     "text": [
      "GPU available: True (cuda), used: True\n",
      "TPU available: False, using: 0 TPU cores\n",
      "IPU available: False, using: 0 IPUs\n",
      "HPU available: False, using: 0 HPUs\n",
      "LOCAL_RANK: 0 - CUDA_VISIBLE_DEVICES: [0]\n",
      "\n",
      "  | Name            | Type       | Params\n",
      "-----------------------------------------------\n",
      "0 | embeddings      | ModuleList | 3.0 K \n",
      "1 | fc              | Sequential | 97.4 K\n",
      "2 | output_category | Sequential | 35.2 K\n",
      "3 | output_price    | Sequential | 33.0 K\n",
      "-----------------------------------------------\n",
      "168 K     Trainable params\n",
      "0         Non-trainable params\n",
      "168 K     Total params\n",
      "0.675     Total estimated model params size (MB)\n"
     ]
    },
    {
     "name": "stdout",
     "output_type": "stream",
     "text": [
      "Epoch 0: 100%|██████████| 16/16 [00:00<00:00, 39.51it/s, train_loss_step=18.60]"
     ]
    },
    {
     "name": "stderr",
     "output_type": "stream",
     "text": [
      "[I 2024-04-28 23:58:48,946] Trial 150 pruned. Trial was pruned at epoch 0.\n"
     ]
    },
    {
     "name": "stdout",
     "output_type": "stream",
     "text": [
      "Number of embedding layers: 36\n"
     ]
    },
    {
     "name": "stderr",
     "output_type": "stream",
     "text": [
      "GPU available: True (cuda), used: True\n",
      "TPU available: False, using: 0 TPU cores\n",
      "IPU available: False, using: 0 IPUs\n",
      "HPU available: False, using: 0 HPUs\n",
      "LOCAL_RANK: 0 - CUDA_VISIBLE_DEVICES: [0]\n",
      "\n",
      "  | Name            | Type       | Params\n",
      "-----------------------------------------------\n",
      "0 | embeddings      | ModuleList | 1.2 K \n",
      "1 | fc              | Sequential | 635 K \n",
      "2 | output_category | Sequential | 534 K \n",
      "3 | output_price    | Sequential | 525 K \n",
      "-----------------------------------------------\n",
      "1.7 M     Trainable params\n",
      "0         Non-trainable params\n",
      "1.7 M     Total params\n",
      "6.784     Total estimated model params size (MB)\n"
     ]
    },
    {
     "name": "stdout",
     "output_type": "stream",
     "text": [
      "Epoch 0: 100%|██████████| 16/16 [00:00<00:00, 35.70it/s, train_loss_step=11.50]"
     ]
    },
    {
     "name": "stderr",
     "output_type": "stream",
     "text": [
      "[I 2024-04-28 23:58:49,584] Trial 151 pruned. Trial was pruned at epoch 0.\n"
     ]
    },
    {
     "name": "stdout",
     "output_type": "stream",
     "text": [
      "Number of embedding layers: 36\n"
     ]
    },
    {
     "name": "stderr",
     "output_type": "stream",
     "text": [
      "GPU available: True (cuda), used: True\n",
      "TPU available: False, using: 0 TPU cores\n",
      "IPU available: False, using: 0 IPUs\n",
      "HPU available: False, using: 0 HPUs\n",
      "LOCAL_RANK: 0 - CUDA_VISIBLE_DEVICES: [0]\n",
      "\n",
      "  | Name            | Type       | Params\n",
      "-----------------------------------------------\n",
      "0 | embeddings      | ModuleList | 1.2 K \n",
      "1 | fc              | Sequential | 635 K \n",
      "2 | output_category | Sequential | 534 K \n",
      "3 | output_price    | Sequential | 525 K \n",
      "-----------------------------------------------\n",
      "1.7 M     Trainable params\n",
      "0         Non-trainable params\n",
      "1.7 M     Total params\n",
      "6.784     Total estimated model params size (MB)\n"
     ]
    },
    {
     "name": "stdout",
     "output_type": "stream",
     "text": [
      "Epoch 0: 100%|██████████| 16/16 [00:00<00:00, 32.67it/s, train_loss_step=14.80]"
     ]
    },
    {
     "name": "stderr",
     "output_type": "stream",
     "text": [
      "[I 2024-04-28 23:58:50,273] Trial 152 pruned. Trial was pruned at epoch 0.\n"
     ]
    },
    {
     "name": "stdout",
     "output_type": "stream",
     "text": [
      "Epoch 0: 100%|██████████| 16/16 [00:01<00:00, 12.84it/s, train_loss_step=11.50]\n",
      "Epoch 0: 100%|██████████| 16/16 [00:00<00:00, 26.47it/s, train_loss_step=14.80]\n"
     ]
    },
    {
     "name": "stderr",
     "output_type": "stream",
     "text": [
      "GPU available: True (cuda), used: True\n",
      "TPU available: False, using: 0 TPU cores\n",
      "IPU available: False, using: 0 IPUs\n",
      "HPU available: False, using: 0 HPUs\n",
      "LOCAL_RANK: 0 - CUDA_VISIBLE_DEVICES: [0]\n"
     ]
    },
    {
     "name": "stdout",
     "output_type": "stream",
     "text": [
      "Number of embedding layers: 36\n"
     ]
    },
    {
     "name": "stderr",
     "output_type": "stream",
     "text": [
      "\n",
      "  | Name            | Type       | Params\n",
      "-----------------------------------------------\n",
      "0 | embeddings      | ModuleList | 1.2 K \n",
      "1 | fc              | Sequential | 635 K \n",
      "2 | output_category | Sequential | 534 K \n",
      "3 | output_price    | Sequential | 525 K \n",
      "-----------------------------------------------\n",
      "1.7 M     Trainable params\n",
      "0         Non-trainable params\n",
      "1.7 M     Total params\n",
      "6.784     Total estimated model params size (MB)\n"
     ]
    },
    {
     "name": "stdout",
     "output_type": "stream",
     "text": [
      "Epoch 0: 100%|██████████| 16/16 [00:00<00:00, 31.34it/s, train_loss_step=5.920, val_loss=14.00, val_price_loss=6.3e+9, val_category_loss=7.700, val_accuracy=0.440, val_rmse=7.84e+4, train_loss_epoch=18.80]"
     ]
    },
    {
     "name": "stderr",
     "output_type": "stream",
     "text": [
      "Metric val_loss improved. New best score: 13.993\n"
     ]
    },
    {
     "name": "stdout",
     "output_type": "stream",
     "text": [
      "Epoch 1: 100%|██████████| 16/16 [00:00<00:00, 31.09it/s, train_loss_step=10.30, val_loss=7.920, val_price_loss=6.52e+9, val_category_loss=1.400, val_accuracy=0.587, val_rmse=7.59e+4, train_loss_epoch=9.110]"
     ]
    },
    {
     "name": "stderr",
     "output_type": "stream",
     "text": [
      "Metric val_loss improved by 6.070 >= min_delta = 0.0001. New best score: 7.923\n"
     ]
    },
    {
     "name": "stdout",
     "output_type": "stream",
     "text": [
      "Epoch 2: 100%|██████████| 16/16 [00:00<00:00, 36.54it/s, train_loss_step=8.070, val_loss=7.920, val_price_loss=6.52e+9, val_category_loss=1.400, val_accuracy=0.587, val_rmse=7.59e+4, train_loss_epoch=9.110]"
     ]
    },
    {
     "name": "stderr",
     "output_type": "stream",
     "text": [
      "[I 2024-04-28 23:58:52,254] Trial 153 pruned. Trial was pruned at epoch 2.\n"
     ]
    },
    {
     "name": "stdout",
     "output_type": "stream",
     "text": [
      "Number of embedding layers: 36\n"
     ]
    },
    {
     "name": "stderr",
     "output_type": "stream",
     "text": [
      "GPU available: True (cuda), used: True\n",
      "TPU available: False, using: 0 TPU cores\n",
      "IPU available: False, using: 0 IPUs\n",
      "HPU available: False, using: 0 HPUs\n",
      "LOCAL_RANK: 0 - CUDA_VISIBLE_DEVICES: [0]\n",
      "\n",
      "  | Name            | Type       | Params\n",
      "-----------------------------------------------\n",
      "0 | embeddings      | ModuleList | 1.4 K \n",
      "1 | fc              | Sequential | 653 K \n",
      "2 | output_category | Sequential | 534 K \n",
      "3 | output_price    | Sequential | 525 K \n",
      "-----------------------------------------------\n",
      "1.7 M     Trainable params\n",
      "0         Non-trainable params\n",
      "1.7 M     Total params\n",
      "6.858     Total estimated model params size (MB)\n"
     ]
    },
    {
     "name": "stdout",
     "output_type": "stream",
     "text": [
      "Epoch 0: 100%|██████████| 16/16 [00:00<00:00, 31.89it/s, train_loss_step=20.70, val_loss=15.50, val_price_loss=9.87e+9, val_category_loss=5.640, val_accuracy=0.463, val_rmse=9.85e+4, train_loss_epoch=26.40]"
     ]
    },
    {
     "name": "stderr",
     "output_type": "stream",
     "text": [
      "Metric val_loss improved. New best score: 15.515\n"
     ]
    },
    {
     "name": "stdout",
     "output_type": "stream",
     "text": [
      "Epoch 1: 100%|██████████| 16/16 [00:00<00:00, 36.02it/s, train_loss_step=9.350, val_loss=15.50, val_price_loss=9.87e+9, val_category_loss=5.640, val_accuracy=0.463, val_rmse=9.85e+4, train_loss_epoch=26.40]"
     ]
    },
    {
     "name": "stderr",
     "output_type": "stream",
     "text": [
      "[I 2024-04-28 23:58:53,560] Trial 154 pruned. Trial was pruned at epoch 1.\n"
     ]
    },
    {
     "name": "stdout",
     "output_type": "stream",
     "text": [
      "Epoch 1: 100%|██████████| 16/16 [00:00<00:00, 28.99it/s, train_loss_step=9.350, val_loss=15.50, val_price_loss=9.87e+9, val_category_loss=5.640, val_accuracy=0.463, val_rmse=9.85e+4, train_loss_epoch=26.40]\n"
     ]
    },
    {
     "name": "stderr",
     "output_type": "stream",
     "text": [
      "GPU available: True (cuda), used: True\n"
     ]
    },
    {
     "name": "stdout",
     "output_type": "stream",
     "text": [
      "Number of embedding layers: 36\n"
     ]
    },
    {
     "name": "stderr",
     "output_type": "stream",
     "text": [
      "TPU available: False, using: 0 TPU cores\n",
      "IPU available: False, using: 0 IPUs\n",
      "HPU available: False, using: 0 HPUs\n",
      "LOCAL_RANK: 0 - CUDA_VISIBLE_DEVICES: [0]\n",
      "\n",
      "  | Name            | Type       | Params\n",
      "-----------------------------------------------\n",
      "0 | embeddings      | ModuleList | 2.8 K \n",
      "1 | fc              | Sequential | 764 K \n",
      "2 | output_category | Sequential | 534 K \n",
      "3 | output_price    | Sequential | 525 K \n",
      "-----------------------------------------------\n",
      "1.8 M     Trainable params\n",
      "0         Non-trainable params\n",
      "1.8 M     Total params\n",
      "7.306     Total estimated model params size (MB)\n"
     ]
    },
    {
     "name": "stdout",
     "output_type": "stream",
     "text": [
      "Epoch 0: 100%|██████████| 16/16 [00:00<00:00, 35.33it/s, train_loss_step=19.60]"
     ]
    },
    {
     "name": "stderr",
     "output_type": "stream",
     "text": [
      "[I 2024-04-28 23:58:54,206] Trial 155 pruned. Trial was pruned at epoch 0.\n"
     ]
    },
    {
     "name": "stdout",
     "output_type": "stream",
     "text": [
      "Number of embedding layers: 36\n"
     ]
    },
    {
     "name": "stderr",
     "output_type": "stream",
     "text": [
      "GPU available: True (cuda), used: True\n",
      "TPU available: False, using: 0 TPU cores\n",
      "IPU available: False, using: 0 IPUs\n",
      "HPU available: False, using: 0 HPUs\n",
      "LOCAL_RANK: 0 - CUDA_VISIBLE_DEVICES: [0]\n",
      "\n",
      "  | Name            | Type       | Params\n",
      "-----------------------------------------------\n",
      "0 | embeddings      | ModuleList | 3.2 K \n",
      "1 | fc              | Sequential | 801 K \n",
      "2 | output_category | Sequential | 534 K \n",
      "3 | output_price    | Sequential | 525 K \n",
      "-----------------------------------------------\n",
      "1.9 M     Trainable params\n",
      "0         Non-trainable params\n",
      "1.9 M     Total params\n",
      "7.455     Total estimated model params size (MB)\n"
     ]
    },
    {
     "name": "stdout",
     "output_type": "stream",
     "text": [
      "Epoch 0: 100%|██████████| 16/16 [00:00<00:00, 30.63it/s, train_loss_step=11.60, val_loss=17.20, val_price_loss=1.53e+10, val_category_loss=1.850, val_accuracy=0.454, val_rmse=1.23e+5, train_loss_epoch=36.30]"
     ]
    },
    {
     "name": "stderr",
     "output_type": "stream",
     "text": [
      "Metric val_loss improved. New best score: 17.194\n"
     ]
    },
    {
     "name": "stdout",
     "output_type": "stream",
     "text": [
      "Epoch 1: 100%|██████████| 16/16 [00:00<00:00, 37.13it/s, train_loss_step=6.930, val_loss=17.20, val_price_loss=1.53e+10, val_category_loss=1.850, val_accuracy=0.454, val_rmse=1.23e+5, train_loss_epoch=36.30]"
     ]
    },
    {
     "name": "stderr",
     "output_type": "stream",
     "text": [
      "[I 2024-04-28 23:58:55,638] Trial 156 pruned. Trial was pruned at epoch 1.\n"
     ]
    },
    {
     "name": "stdout",
     "output_type": "stream",
     "text": [
      "Epoch 1: 100%|██████████| 16/16 [00:00<00:00, 29.71it/s, train_loss_step=6.930, val_loss=17.20, val_price_loss=1.53e+10, val_category_loss=1.850, val_accuracy=0.454, val_rmse=1.23e+5, train_loss_epoch=36.30]\n"
     ]
    },
    {
     "name": "stderr",
     "output_type": "stream",
     "text": [
      "GPU available: True (cuda), used: True\n"
     ]
    },
    {
     "name": "stdout",
     "output_type": "stream",
     "text": [
      "Number of embedding layers: 36\n"
     ]
    },
    {
     "name": "stderr",
     "output_type": "stream",
     "text": [
      "TPU available: False, using: 0 TPU cores\n",
      "IPU available: False, using: 0 IPUs\n",
      "HPU available: False, using: 0 HPUs\n",
      "LOCAL_RANK: 0 - CUDA_VISIBLE_DEVICES: [0]\n",
      "\n",
      "  | Name            | Type       | Params\n",
      "-----------------------------------------------\n",
      "0 | embeddings      | ModuleList | 1.4 K \n",
      "1 | fc              | Sequential | 653 K \n",
      "2 | output_category | Sequential | 534 K \n",
      "3 | output_price    | Sequential | 525 K \n",
      "-----------------------------------------------\n",
      "1.7 M     Trainable params\n",
      "0         Non-trainable params\n",
      "1.7 M     Total params\n",
      "6.858     Total estimated model params size (MB)\n"
     ]
    },
    {
     "name": "stdout",
     "output_type": "stream",
     "text": [
      "Epoch 0: 100%|██████████| 16/16 [00:00<00:00, 35.82it/s, train_loss_step=10.10]"
     ]
    },
    {
     "name": "stderr",
     "output_type": "stream",
     "text": [
      "[I 2024-04-28 23:58:56,275] Trial 157 pruned. Trial was pruned at epoch 0.\n",
      "GPU available: True (cuda), used: True\n"
     ]
    },
    {
     "name": "stdout",
     "output_type": "stream",
     "text": [
      "Number of embedding layers: 36\n"
     ]
    },
    {
     "name": "stderr",
     "output_type": "stream",
     "text": [
      "TPU available: False, using: 0 TPU cores\n",
      "IPU available: False, using: 0 IPUs\n",
      "HPU available: False, using: 0 HPUs\n",
      "LOCAL_RANK: 0 - CUDA_VISIBLE_DEVICES: [0]\n",
      "\n",
      "  | Name            | Type       | Params\n",
      "-----------------------------------------------\n",
      "0 | embeddings      | ModuleList | 1.2 K \n",
      "1 | fc              | Sequential | 635 K \n",
      "2 | output_category | Sequential | 534 K \n",
      "3 | output_price    | Sequential | 525 K \n",
      "-----------------------------------------------\n",
      "1.7 M     Trainable params\n",
      "0         Non-trainable params\n",
      "1.7 M     Total params\n",
      "6.784     Total estimated model params size (MB)\n"
     ]
    },
    {
     "name": "stdout",
     "output_type": "stream",
     "text": [
      "Epoch 0: 100%|██████████| 16/16 [00:00<00:00, 34.88it/s, train_loss_step=45.90]"
     ]
    },
    {
     "name": "stderr",
     "output_type": "stream",
     "text": [
      "[I 2024-04-28 23:58:56,918] Trial 158 pruned. Trial was pruned at epoch 0.\n"
     ]
    },
    {
     "name": "stdout",
     "output_type": "stream",
     "text": [
      "Number of embedding layers: 36\n",
      "Epoch 0: 100%|██████████| 16/16 [00:00<00:00, 28.15it/s, train_loss_step=45.90]\n"
     ]
    },
    {
     "name": "stderr",
     "output_type": "stream",
     "text": [
      "GPU available: True (cuda), used: True\n",
      "TPU available: False, using: 0 TPU cores\n",
      "IPU available: False, using: 0 IPUs\n",
      "HPU available: False, using: 0 HPUs\n",
      "LOCAL_RANK: 0 - CUDA_VISIBLE_DEVICES: [0]\n",
      "\n",
      "  | Name            | Type       | Params\n",
      "-----------------------------------------------\n",
      "0 | embeddings      | ModuleList | 3.0 K \n",
      "1 | fc              | Sequential | 40.5 K\n",
      "2 | output_category | Sequential | 9.4 K \n",
      "3 | output_price    | Sequential | 8.3 K \n",
      "-----------------------------------------------\n",
      "61.3 K    Trainable params\n",
      "0         Non-trainable params\n",
      "61.3 K    Total params\n",
      "0.245     Total estimated model params size (MB)\n"
     ]
    },
    {
     "name": "stdout",
     "output_type": "stream",
     "text": [
      "Epoch 0: 100%|██████████| 16/16 [00:00<00:00, 41.67it/s, train_loss_step=12.20]"
     ]
    },
    {
     "name": "stderr",
     "output_type": "stream",
     "text": [
      "[I 2024-04-28 23:58:57,485] Trial 159 pruned. Trial was pruned at epoch 0.\n",
      "GPU available: True (cuda), used: True\n"
     ]
    },
    {
     "name": "stdout",
     "output_type": "stream",
     "text": [
      "Number of embedding layers: 36\n"
     ]
    },
    {
     "name": "stderr",
     "output_type": "stream",
     "text": [
      "TPU available: False, using: 0 TPU cores\n",
      "IPU available: False, using: 0 IPUs\n",
      "HPU available: False, using: 0 HPUs\n",
      "LOCAL_RANK: 0 - CUDA_VISIBLE_DEVICES: [0]\n",
      "\n",
      "  | Name            | Type       | Params\n",
      "-----------------------------------------------\n",
      "0 | embeddings      | ModuleList | 3.5 K \n",
      "1 | fc              | Sequential | 819 K \n",
      "2 | output_category | Sequential | 534 K \n",
      "3 | output_price    | Sequential | 525 K \n",
      "-----------------------------------------------\n",
      "1.9 M     Trainable params\n",
      "0         Non-trainable params\n",
      "1.9 M     Total params\n",
      "7.530     Total estimated model params size (MB)\n"
     ]
    },
    {
     "name": "stdout",
     "output_type": "stream",
     "text": [
      "Epoch 0: 100%|██████████| 16/16 [00:00<00:00, 37.93it/s, train_loss_step=16.00]"
     ]
    },
    {
     "name": "stderr",
     "output_type": "stream",
     "text": [
      "[I 2024-04-28 23:58:58,093] Trial 160 pruned. Trial was pruned at epoch 0.\n"
     ]
    },
    {
     "name": "stdout",
     "output_type": "stream",
     "text": [
      "Number of embedding layers: 36\n"
     ]
    },
    {
     "name": "stderr",
     "output_type": "stream",
     "text": [
      "GPU available: True (cuda), used: True\n",
      "TPU available: False, using: 0 TPU cores\n",
      "IPU available: False, using: 0 IPUs\n",
      "HPU available: False, using: 0 HPUs\n"
     ]
    },
    {
     "name": "stdout",
     "output_type": "stream",
     "text": [
      "Epoch 0: 100%|██████████| 16/16 [00:00<00:00, 28.55it/s, train_loss_step=16.00]\n"
     ]
    },
    {
     "name": "stderr",
     "output_type": "stream",
     "text": [
      "LOCAL_RANK: 0 - CUDA_VISIBLE_DEVICES: [0]\n",
      "\n",
      "  | Name            | Type       | Params\n",
      "-----------------------------------------------\n",
      "0 | embeddings      | ModuleList | 2.8 K \n",
      "1 | fc              | Sequential | 764 K \n",
      "2 | output_category | Sequential | 534 K \n",
      "3 | output_price    | Sequential | 525 K \n",
      "-----------------------------------------------\n",
      "1.8 M     Trainable params\n",
      "0         Non-trainable params\n",
      "1.8 M     Total params\n",
      "7.306     Total estimated model params size (MB)\n"
     ]
    },
    {
     "name": "stdout",
     "output_type": "stream",
     "text": [
      "Epoch 0: 100%|██████████| 16/16 [00:00<00:00, 31.95it/s, train_loss_step=12.80, val_loss=14.40, val_price_loss=1.01e+10, val_category_loss=4.380, val_accuracy=0.353, val_rmse=9.72e+4, train_loss_epoch=23.60]"
     ]
    },
    {
     "name": "stderr",
     "output_type": "stream",
     "text": [
      "Metric val_loss improved. New best score: 14.442\n"
     ]
    },
    {
     "name": "stdout",
     "output_type": "stream",
     "text": [
      "Epoch 1: 100%|██████████| 16/16 [00:00<00:00, 31.23it/s, train_loss_step=11.40, val_loss=7.970, val_price_loss=5.95e+9, val_category_loss=2.020, val_accuracy=0.431, val_rmse=7.31e+4, train_loss_epoch=9.920] "
     ]
    },
    {
     "name": "stderr",
     "output_type": "stream",
     "text": [
      "Metric val_loss improved by 6.468 >= min_delta = 0.0001. New best score: 7.973\n"
     ]
    },
    {
     "name": "stdout",
     "output_type": "stream",
     "text": [
      "Epoch 2: 100%|██████████| 16/16 [00:00<00:00, 29.87it/s, train_loss_step=12.60, val_loss=7.280, val_price_loss=5.91e+9, val_category_loss=1.370, val_accuracy=0.523, val_rmse=7.43e+4, train_loss_epoch=8.410]"
     ]
    },
    {
     "name": "stderr",
     "output_type": "stream",
     "text": [
      "Metric val_loss improved by 0.693 >= min_delta = 0.0001. New best score: 7.280\n"
     ]
    },
    {
     "name": "stdout",
     "output_type": "stream",
     "text": [
      "Epoch 4: 100%|██████████| 16/16 [00:00<00:00, 32.11it/s, train_loss_step=12.20, val_loss=6.830, val_price_loss=5.87e+9, val_category_loss=0.964, val_accuracy=0.661, val_rmse=7.67e+4, train_loss_epoch=8.190]"
     ]
    },
    {
     "name": "stderr",
     "output_type": "stream",
     "text": [
      "Metric val_loss improved by 0.445 >= min_delta = 0.0001. New best score: 6.835\n"
     ]
    },
    {
     "name": "stdout",
     "output_type": "stream",
     "text": [
      "Epoch 8: 100%|██████████| 16/16 [00:00<00:00, 31.33it/s, train_loss_step=7.650, val_loss=6.770, val_price_loss=5.82e+9, val_category_loss=0.957, val_accuracy=0.729, val_rmse=7.53e+4, train_loss_epoch=7.640]"
     ]
    },
    {
     "name": "stderr",
     "output_type": "stream",
     "text": [
      "Metric val_loss improved by 0.060 >= min_delta = 0.0001. New best score: 6.775\n"
     ]
    },
    {
     "name": "stdout",
     "output_type": "stream",
     "text": [
      "Epoch 13: 100%|██████████| 16/16 [00:00<00:00, 32.76it/s, train_loss_step=11.80, val_loss=7.170, val_price_loss=5.91e+9, val_category_loss=1.260, val_accuracy=0.729, val_rmse=7.65e+4, train_loss_epoch=7.430]"
     ]
    },
    {
     "name": "stderr",
     "output_type": "stream",
     "text": [
      "Monitored metric val_loss did not improve in the last 5 records. Best score: 6.775. Signaling Trainer to stop.\n"
     ]
    },
    {
     "name": "stdout",
     "output_type": "stream",
     "text": [
      "Epoch 13: 100%|██████████| 16/16 [00:00<00:00, 24.02it/s, train_loss_step=11.80, val_loss=7.170, val_price_loss=5.91e+9, val_category_loss=1.260, val_accuracy=0.729, val_rmse=7.65e+4, train_loss_epoch=7.430]"
     ]
    },
    {
     "name": "stderr",
     "output_type": "stream",
     "text": [
      "[I 2024-04-28 23:59:08,152] Trial 161 finished with value: 7.167187213897705 and parameters: {'num_layers': 1, 'hidden_dim': 512, 'embedding_dim': 12, 'lr': 0.03501835414090432, 'optimizer_type': 'Adam', 'relu_type': 'ReLU', 'droupoutrate': 0.3428494812093238}. Best is trial 139 with value: 6.860494136810303.\n"
     ]
    },
    {
     "name": "stdout",
     "output_type": "stream",
     "text": [
      "\n"
     ]
    },
    {
     "name": "stderr",
     "output_type": "stream",
     "text": [
      "GPU available: True (cuda), used: True\n",
      "TPU available: False, using: 0 TPU cores\n",
      "IPU available: False, using: 0 IPUs\n",
      "HPU available: False, using: 0 HPUs\n",
      "LOCAL_RANK: 0 - CUDA_VISIBLE_DEVICES: [0]\n",
      "\n",
      "  | Name            | Type       | Params\n",
      "-----------------------------------------------\n",
      "0 | embeddings      | ModuleList | 2.8 K \n",
      "1 | fc              | Sequential | 764 K \n",
      "2 | output_category | Sequential | 534 K \n",
      "3 | output_price    | Sequential | 525 K \n",
      "-----------------------------------------------\n",
      "1.8 M     Trainable params\n",
      "0         Non-trainable params\n",
      "1.8 M     Total params\n",
      "7.306     Total estimated model params size (MB)\n"
     ]
    },
    {
     "name": "stdout",
     "output_type": "stream",
     "text": [
      "Number of embedding layers: 36\n",
      "Epoch 0: 100%|██████████| 16/16 [00:00<00:00, 29.35it/s, train_loss_step=15.60, val_loss=12.90, val_price_loss=7.8e+9, val_category_loss=5.110, val_accuracy=0.385, val_rmse=7.88e+4, train_loss_epoch=32.40]"
     ]
    },
    {
     "name": "stderr",
     "output_type": "stream",
     "text": [
      "Metric val_loss improved. New best score: 12.912\n"
     ]
    },
    {
     "name": "stdout",
     "output_type": "stream",
     "text": [
      "Epoch 1: 100%|██████████| 16/16 [00:00<00:00, 36.06it/s, train_loss_step=14.90, val_loss=12.90, val_price_loss=7.8e+9, val_category_loss=5.110, val_accuracy=0.385, val_rmse=7.88e+4, train_loss_epoch=32.40]"
     ]
    },
    {
     "name": "stderr",
     "output_type": "stream",
     "text": [
      "[I 2024-04-28 23:59:09,577] Trial 162 pruned. Trial was pruned at epoch 1.\n"
     ]
    },
    {
     "name": "stdout",
     "output_type": "stream",
     "text": [
      "Number of embedding layers: 36\n"
     ]
    },
    {
     "name": "stderr",
     "output_type": "stream",
     "text": [
      "GPU available: True (cuda), used: True\n",
      "TPU available: False, using: 0 TPU cores\n",
      "IPU available: False, using: 0 IPUs\n",
      "HPU available: False, using: 0 HPUs\n"
     ]
    },
    {
     "name": "stdout",
     "output_type": "stream",
     "text": [
      "Epoch 1: 100%|██████████| 16/16 [00:00<00:00, 27.10it/s, train_loss_step=14.90, val_loss=12.90, val_price_loss=7.8e+9, val_category_loss=5.110, val_accuracy=0.385, val_rmse=7.88e+4, train_loss_epoch=32.40]\n"
     ]
    },
    {
     "name": "stderr",
     "output_type": "stream",
     "text": [
      "LOCAL_RANK: 0 - CUDA_VISIBLE_DEVICES: [0]\n",
      "\n",
      "  | Name            | Type       | Params\n",
      "-----------------------------------------------\n",
      "0 | embeddings      | ModuleList | 2.8 K \n",
      "1 | fc              | Sequential | 764 K \n",
      "2 | output_category | Sequential | 534 K \n",
      "3 | output_price    | Sequential | 525 K \n",
      "-----------------------------------------------\n",
      "1.8 M     Trainable params\n",
      "0         Non-trainable params\n",
      "1.8 M     Total params\n",
      "7.306     Total estimated model params size (MB)\n"
     ]
    },
    {
     "name": "stdout",
     "output_type": "stream",
     "text": [
      "Epoch 0: 100%|██████████| 16/16 [00:00<00:00, 31.39it/s, train_loss_step=14.10, val_loss=10.50, val_price_loss=6.69e+9, val_category_loss=3.800, val_accuracy=0.349, val_rmse=8.04e+4, train_loss_epoch=28.10]"
     ]
    },
    {
     "name": "stderr",
     "output_type": "stream",
     "text": [
      "Metric val_loss improved. New best score: 10.496\n"
     ]
    },
    {
     "name": "stdout",
     "output_type": "stream",
     "text": [
      "Epoch 1: 100%|██████████| 16/16 [00:00<00:00, 35.25it/s, train_loss_step=5.720, val_loss=10.50, val_price_loss=6.69e+9, val_category_loss=3.800, val_accuracy=0.349, val_rmse=8.04e+4, train_loss_epoch=28.10]"
     ]
    },
    {
     "name": "stderr",
     "output_type": "stream",
     "text": [
      "[I 2024-04-28 23:59:10,950] Trial 163 pruned. Trial was pruned at epoch 1.\n"
     ]
    },
    {
     "name": "stdout",
     "output_type": "stream",
     "text": [
      "Number of embedding layers: 36\n"
     ]
    },
    {
     "name": "stderr",
     "output_type": "stream",
     "text": [
      "GPU available: True (cuda), used: True\n",
      "TPU available: False, using: 0 TPU cores\n",
      "IPU available: False, using: 0 IPUs\n",
      "HPU available: False, using: 0 HPUs\n",
      "LOCAL_RANK: 0 - CUDA_VISIBLE_DEVICES: [0]\n",
      "\n",
      "  | Name            | Type       | Params\n",
      "-----------------------------------------------\n",
      "0 | embeddings      | ModuleList | 3.0 K \n",
      "1 | fc              | Sequential | 782 K \n",
      "2 | output_category | Sequential | 534 K \n",
      "3 | output_price    | Sequential | 525 K \n",
      "-----------------------------------------------\n",
      "1.8 M     Trainable params\n",
      "0         Non-trainable params\n",
      "1.8 M     Total params\n",
      "7.381     Total estimated model params size (MB)\n"
     ]
    },
    {
     "name": "stdout",
     "output_type": "stream",
     "text": [
      "Epoch 0: 100%|██████████| 16/16 [00:00<00:00, 31.96it/s, train_loss_step=6.740]"
     ]
    },
    {
     "name": "stderr",
     "output_type": "stream",
     "text": [
      "[I 2024-04-28 23:59:11,656] Trial 164 pruned. Trial was pruned at epoch 0.\n"
     ]
    },
    {
     "name": "stdout",
     "output_type": "stream",
     "text": [
      "Number of embedding layers: 36\n"
     ]
    },
    {
     "name": "stderr",
     "output_type": "stream",
     "text": [
      "GPU available: True (cuda), used: True\n",
      "TPU available: False, using: 0 TPU cores\n",
      "IPU available: False, using: 0 IPUs\n",
      "HPU available: False, using: 0 HPUs\n"
     ]
    },
    {
     "name": "stdout",
     "output_type": "stream",
     "text": [
      "Epoch 0: 100%|██████████| 16/16 [00:00<00:00, 24.57it/s, train_loss_step=6.740]\n"
     ]
    },
    {
     "name": "stderr",
     "output_type": "stream",
     "text": [
      "LOCAL_RANK: 0 - CUDA_VISIBLE_DEVICES: [0]\n",
      "\n",
      "  | Name            | Type       | Params\n",
      "-----------------------------------------------\n",
      "0 | embeddings      | ModuleList | 1.2 K \n",
      "1 | fc              | Sequential | 635 K \n",
      "2 | output_category | Sequential | 534 K \n",
      "3 | output_price    | Sequential | 525 K \n",
      "-----------------------------------------------\n",
      "1.7 M     Trainable params\n",
      "0         Non-trainable params\n",
      "1.7 M     Total params\n",
      "6.784     Total estimated model params size (MB)\n"
     ]
    },
    {
     "name": "stdout",
     "output_type": "stream",
     "text": [
      "Epoch 2: 100%|██████████| 16/16 [02:31<00:00,  0.11it/s, train_loss_step=8.130, val_loss=8.560, val_price_loss=6.44e+9, val_category_loss=2.120, val_accuracy=0.555, val_rmse=7.95e+4, train_loss_epoch=8.790]\n",
      "Epoch 0: 100%|██████████| 16/16 [02:22<00:00,  0.11it/s, train_loss_step=13.60]\n",
      "Epoch 0: 100%|██████████| 16/16 [02:21<00:00,  0.11it/s, train_loss_step=34.60]\n",
      "Epoch 0: 100%|██████████| 16/16 [02:19<00:00,  0.11it/s, train_loss_step=14.00]\n",
      "Epoch 0: 100%|██████████| 16/16 [02:16<00:00,  0.12it/s, train_loss_step=6.430]\n",
      "Epoch 0: 100%|██████████| 16/16 [02:08<00:00,  0.12it/s, train_loss_step=41.90]\n",
      "Epoch 2: 100%|██████████| 16/16 [02:06<00:00,  0.13it/s, train_loss_step=9.960, val_loss=9.110, val_price_loss=6.12e+9, val_category_loss=2.990, val_accuracy=0.491, val_rmse=7.05e+4, train_loss_epoch=9.850]\n",
      "Epoch 1: 100%|██████████| 16/16 [01:47<00:00,  0.15it/s, train_loss_step=12.10, val_loss=16.00, val_price_loss=1e+10, val_category_loss=5.980, val_accuracy=0.197, val_rmse=8.6e+4, train_loss_epoch=77.60]\n",
      "Epoch 1: 100%|██████████| 16/16 [01:26<00:00,  0.18it/s, train_loss_step=8.490, val_loss=15.90, val_price_loss=6.94e+9, val_category_loss=8.950, val_accuracy=0.206, val_rmse=6.93e+4, train_loss_epoch=28.50]\n",
      "Epoch 2: 100%|██████████| 16/16 [01:13<00:00,  0.22it/s, train_loss_step=7.610, val_loss=8.240, val_price_loss=6.86e+9, val_category_loss=1.380, val_accuracy=0.546, val_rmse=8.45e+4, train_loss_epoch=12.90]\n",
      "Epoch 1: 100%|██████████| 16/16 [01:04<00:00,  0.25it/s, train_loss_step=9.480, val_loss=14.50, val_price_loss=8.45e+9, val_category_loss=6.070, val_accuracy=0.183, val_rmse=9.42e+4, train_loss_epoch=41.10]\n",
      "Epoch 1: 100%|██████████| 16/16 [00:55<00:00,  0.29it/s, train_loss_step=6.840, val_loss=10.90, val_price_loss=6.08e+9, val_category_loss=4.870, val_accuracy=0.381, val_rmse=6.44e+4, train_loss_epoch=28.00]\n",
      "Epoch 1: 100%|██████████| 16/16 [00:31<00:00,  0.52it/s, train_loss_step=10.40, val_loss=12.10, val_price_loss=9.06e+9, val_category_loss=3.060, val_accuracy=0.239, val_rmse=5.94e+4, train_loss_epoch=31.80]\n",
      "Epoch 0: 100%|██████████| 16/16 [00:23<00:00,  0.68it/s, train_loss_step=18.60]\n",
      "Epoch 2: 100%|██████████| 16/16 [00:20<00:00,  0.79it/s, train_loss_step=8.070, val_loss=7.920, val_price_loss=6.52e+9, val_category_loss=1.400, val_accuracy=0.587, val_rmse=7.59e+4, train_loss_epoch=9.110]\n",
      "Epoch 0: 100%|██████████| 16/16 [00:18<00:00,  0.88it/s, train_loss_step=19.60]\n",
      "Epoch 0: 100%|██████████| 16/16 [00:16<00:00,  0.99it/s, train_loss_step=10.10]\n",
      "Epoch 0: 100%|██████████| 16/16 [00:14<00:00,  1.08it/s, train_loss_step=12.20]\n",
      "Epoch 1: 100%|██████████| 16/16 [00:01<00:00, 10.79it/s, train_loss_step=5.720, val_loss=10.50, val_price_loss=6.69e+9, val_category_loss=3.800, val_accuracy=0.349, val_rmse=8.04e+4, train_loss_epoch=28.10]\n",
      "Epoch 0: 100%|██████████| 16/16 [00:00<00:00, 34.20it/s, train_loss_step=39.10]"
     ]
    },
    {
     "name": "stderr",
     "output_type": "stream",
     "text": [
      "[I 2024-04-28 23:59:12,494] Trial 165 pruned. Trial was pruned at epoch 0.\n"
     ]
    },
    {
     "name": "stdout",
     "output_type": "stream",
     "text": [
      "Number of embedding layers: 36\n"
     ]
    },
    {
     "name": "stderr",
     "output_type": "stream",
     "text": [
      "GPU available: True (cuda), used: True\n",
      "TPU available: False, using: 0 TPU cores\n",
      "IPU available: False, using: 0 IPUs\n",
      "HPU available: False, using: 0 HPUs\n",
      "LOCAL_RANK: 0 - CUDA_VISIBLE_DEVICES: [0]\n",
      "\n",
      "  | Name            | Type       | Params\n",
      "-----------------------------------------------\n",
      "0 | embeddings      | ModuleList | 2.8 K \n",
      "1 | fc              | Sequential | 764 K \n",
      "2 | output_category | Sequential | 534 K \n",
      "3 | output_price    | Sequential | 525 K \n",
      "-----------------------------------------------\n",
      "1.8 M     Trainable params\n",
      "0         Non-trainable params\n",
      "1.8 M     Total params\n",
      "7.306     Total estimated model params size (MB)\n"
     ]
    },
    {
     "name": "stdout",
     "output_type": "stream",
     "text": [
      "Epoch 0: 100%|██████████| 16/16 [00:00<00:00, 35.02it/s, train_loss_step=11.20]"
     ]
    },
    {
     "name": "stderr",
     "output_type": "stream",
     "text": [
      "[I 2024-04-28 23:59:13,156] Trial 166 pruned. Trial was pruned at epoch 0.\n"
     ]
    },
    {
     "name": "stdout",
     "output_type": "stream",
     "text": [
      "Number of embedding layers: 36\n",
      "Epoch 0: 100%|██████████| 16/16 [00:00<00:00, 27.37it/s, train_loss_step=11.20]\n"
     ]
    },
    {
     "name": "stderr",
     "output_type": "stream",
     "text": [
      "GPU available: True (cuda), used: True\n",
      "TPU available: False, using: 0 TPU cores\n",
      "IPU available: False, using: 0 IPUs\n",
      "HPU available: False, using: 0 HPUs\n",
      "LOCAL_RANK: 0 - CUDA_VISIBLE_DEVICES: [0]\n",
      "\n",
      "  | Name            | Type       | Params\n",
      "-----------------------------------------------\n",
      "0 | embeddings      | ModuleList | 1.2 K \n",
      "1 | fc              | Sequential | 635 K \n",
      "2 | output_category | Sequential | 534 K \n",
      "3 | output_price    | Sequential | 525 K \n",
      "-----------------------------------------------\n",
      "1.7 M     Trainable params\n",
      "0         Non-trainable params\n",
      "1.7 M     Total params\n",
      "6.784     Total estimated model params size (MB)\n"
     ]
    },
    {
     "name": "stdout",
     "output_type": "stream",
     "text": [
      "Epoch 0: 100%|██████████| 16/16 [00:00<00:00, 34.88it/s, train_loss_step=13.30]"
     ]
    },
    {
     "name": "stderr",
     "output_type": "stream",
     "text": [
      "[I 2024-04-28 23:59:13,799] Trial 167 pruned. Trial was pruned at epoch 0.\n"
     ]
    },
    {
     "name": "stdout",
     "output_type": "stream",
     "text": [
      "Number of embedding layers: 36\n"
     ]
    },
    {
     "name": "stderr",
     "output_type": "stream",
     "text": [
      "GPU available: True (cuda), used: True\n",
      "TPU available: False, using: 0 TPU cores\n",
      "IPU available: False, using: 0 IPUs\n",
      "HPU available: False, using: 0 HPUs\n",
      "LOCAL_RANK: 0 - CUDA_VISIBLE_DEVICES: [0]\n",
      "\n",
      "  | Name            | Type       | Params\n",
      "-----------------------------------------------\n",
      "0 | embeddings      | ModuleList | 2.5 K \n",
      "1 | fc              | Sequential | 2.5 M \n",
      "2 | output_category | Sequential | 2.1 M \n",
      "3 | output_price    | Sequential | 2.1 M \n",
      "-----------------------------------------------\n",
      "6.8 M     Trainable params\n",
      "0         Non-trainable params\n",
      "6.8 M     Total params\n",
      "27.036    Total estimated model params size (MB)\n"
     ]
    },
    {
     "name": "stdout",
     "output_type": "stream",
     "text": [
      "Epoch 0: 100%|██████████| 16/16 [00:00<00:00, 30.50it/s, train_loss_step=10.20]"
     ]
    },
    {
     "name": "stderr",
     "output_type": "stream",
     "text": [
      "[I 2024-04-28 23:59:14,565] Trial 168 pruned. Trial was pruned at epoch 0.\n"
     ]
    },
    {
     "name": "stdout",
     "output_type": "stream",
     "text": [
      "Number of embedding layers: 36\n",
      "Epoch 0: 100%|██████████| 16/16 [00:00<00:00, 24.76it/s, train_loss_step=10.20]\n"
     ]
    },
    {
     "name": "stderr",
     "output_type": "stream",
     "text": [
      "GPU available: True (cuda), used: True\n",
      "TPU available: False, using: 0 TPU cores\n",
      "IPU available: False, using: 0 IPUs\n",
      "HPU available: False, using: 0 HPUs\n",
      "LOCAL_RANK: 0 - CUDA_VISIBLE_DEVICES: [0]\n",
      "\n",
      "  | Name            | Type       | Params\n",
      "-----------------------------------------------\n",
      "0 | embeddings      | ModuleList | 3.2 K \n",
      "1 | fc              | Sequential | 801 K \n",
      "2 | output_category | Sequential | 534 K \n",
      "3 | output_price    | Sequential | 525 K \n",
      "-----------------------------------------------\n",
      "1.9 M     Trainable params\n",
      "0         Non-trainable params\n",
      "1.9 M     Total params\n",
      "7.455     Total estimated model params size (MB)\n"
     ]
    },
    {
     "name": "stdout",
     "output_type": "stream",
     "text": [
      "Epoch 0: 100%|██████████| 16/16 [00:00<00:00, 45.45it/s, train_loss_step=14.90, val_loss=15.70, val_price_loss=8.87e+9, val_category_loss=6.810, val_accuracy=0.294, val_rmse=9.06e+4, train_loss_epoch=26.90]"
     ]
    },
    {
     "name": "stderr",
     "output_type": "stream",
     "text": [
      "Metric val_loss improved. New best score: 15.680\n"
     ]
    },
    {
     "name": "stdout",
     "output_type": "stream",
     "text": [
      "Epoch 1: 100%|██████████| 16/16 [00:00<00:00, 53.65it/s, train_loss_step=8.050, val_loss=15.70, val_price_loss=8.87e+9, val_category_loss=6.810, val_accuracy=0.294, val_rmse=9.06e+4, train_loss_epoch=26.90]"
     ]
    },
    {
     "name": "stderr",
     "output_type": "stream",
     "text": [
      "[I 2024-04-28 23:59:15,618] Trial 169 pruned. Trial was pruned at epoch 1.\n"
     ]
    },
    {
     "name": "stdout",
     "output_type": "stream",
     "text": [
      "Number of embedding layers: 36\n"
     ]
    },
    {
     "name": "stderr",
     "output_type": "stream",
     "text": [
      "GPU available: True (cuda), used: True\n",
      "TPU available: False, using: 0 TPU cores\n",
      "IPU available: False, using: 0 IPUs\n",
      "HPU available: False, using: 0 HPUs\n",
      "LOCAL_RANK: 0 - CUDA_VISIBLE_DEVICES: [0]\n",
      "\n",
      "  | Name            | Type       | Params\n",
      "-----------------------------------------------\n",
      "0 | embeddings      | ModuleList | 1.4 K \n",
      "1 | fc              | Sequential | 653 K \n",
      "2 | output_category | Sequential | 534 K \n",
      "3 | output_price    | Sequential | 525 K \n",
      "-----------------------------------------------\n",
      "1.7 M     Trainable params\n",
      "0         Non-trainable params\n",
      "1.7 M     Total params\n",
      "6.858     Total estimated model params size (MB)\n"
     ]
    },
    {
     "name": "stdout",
     "output_type": "stream",
     "text": [
      "Epoch 0: 100%|██████████| 16/16 [00:00<00:00, 49.28it/s, train_loss_step=17.10]"
     ]
    },
    {
     "name": "stderr",
     "output_type": "stream",
     "text": [
      "[I 2024-04-28 23:59:16,109] Trial 170 pruned. Trial was pruned at epoch 0.\n"
     ]
    },
    {
     "name": "stdout",
     "output_type": "stream",
     "text": [
      "Epoch 0: 100%|██████████| 16/16 [00:00<00:00, 38.61it/s, train_loss_step=17.10]\n",
      "Number of embedding layers: 36\n"
     ]
    },
    {
     "name": "stderr",
     "output_type": "stream",
     "text": [
      "GPU available: True (cuda), used: True\n",
      "TPU available: False, using: 0 TPU cores\n",
      "IPU available: False, using: 0 IPUs\n",
      "HPU available: False, using: 0 HPUs\n",
      "LOCAL_RANK: 0 - CUDA_VISIBLE_DEVICES: [0]\n",
      "\n",
      "  | Name            | Type       | Params\n",
      "-----------------------------------------------\n",
      "0 | embeddings      | ModuleList | 2.8 K \n",
      "1 | fc              | Sequential | 2.9 M \n",
      "2 | output_category | Sequential | 534 K \n",
      "3 | output_price    | Sequential | 525 K \n",
      "-----------------------------------------------\n",
      "3.9 M     Trainable params\n",
      "0         Non-trainable params\n",
      "3.9 M     Total params\n",
      "15.703    Total estimated model params size (MB)\n"
     ]
    },
    {
     "name": "stdout",
     "output_type": "stream",
     "text": [
      "Epoch 0: 100%|██████████| 16/16 [00:00<00:00, 30.44it/s, train_loss_step=7.560] "
     ]
    },
    {
     "name": "stderr",
     "output_type": "stream",
     "text": [
      "[I 2024-04-28 23:59:16,873] Trial 171 pruned. Trial was pruned at epoch 0.\n"
     ]
    },
    {
     "name": "stdout",
     "output_type": "stream",
     "text": [
      "Number of embedding layers: 36\n"
     ]
    },
    {
     "name": "stderr",
     "output_type": "stream",
     "text": [
      "GPU available: True (cuda), used: True\n",
      "TPU available: False, using: 0 TPU cores\n",
      "IPU available: False, using: 0 IPUs\n",
      "HPU available: False, using: 0 HPUs\n",
      "LOCAL_RANK: 0 - CUDA_VISIBLE_DEVICES: [0]\n",
      "\n",
      "  | Name            | Type       | Params\n",
      "-----------------------------------------------\n",
      "0 | embeddings      | ModuleList | 2.5 K \n",
      "1 | fc              | Sequential | 4.9 M \n",
      "2 | output_category | Sequential | 534 K \n",
      "3 | output_price    | Sequential | 525 K \n",
      "-----------------------------------------------\n",
      "6.0 M     Trainable params\n",
      "0         Non-trainable params\n",
      "6.0 M     Total params\n",
      "24.025    Total estimated model params size (MB)\n"
     ]
    },
    {
     "name": "stdout",
     "output_type": "stream",
     "text": [
      "Epoch 0: 100%|██████████| 16/16 [00:00<00:00, 32.21it/s, train_loss_step=1.86e+5]"
     ]
    },
    {
     "name": "stderr",
     "output_type": "stream",
     "text": [
      "[I 2024-04-28 23:59:17,612] Trial 172 pruned. Trial was pruned at epoch 0.\n"
     ]
    },
    {
     "name": "stdout",
     "output_type": "stream",
     "text": [
      "Epoch 0: 100%|██████████| 16/16 [00:00<00:00, 26.12it/s, train_loss_step=1.86e+5]\n",
      "Number of embedding layers: 36\n"
     ]
    },
    {
     "name": "stderr",
     "output_type": "stream",
     "text": [
      "GPU available: True (cuda), used: True\n",
      "TPU available: False, using: 0 TPU cores\n",
      "IPU available: False, using: 0 IPUs\n",
      "HPU available: False, using: 0 HPUs\n",
      "LOCAL_RANK: 0 - CUDA_VISIBLE_DEVICES: [0]\n",
      "\n",
      "  | Name            | Type       | Params\n",
      "-----------------------------------------------\n",
      "0 | embeddings      | ModuleList | 3.0 K \n",
      "1 | fc              | Sequential | 3.9 M \n",
      "2 | output_category | Sequential | 534 K \n",
      "3 | output_price    | Sequential | 525 K \n",
      "-----------------------------------------------\n",
      "5.0 M     Trainable params\n",
      "0         Non-trainable params\n",
      "5.0 M     Total params\n",
      "19.976    Total estimated model params size (MB)\n"
     ]
    },
    {
     "name": "stdout",
     "output_type": "stream",
     "text": [
      "Epoch 0: 100%|██████████| 16/16 [00:00<00:00, 52.11it/s, train_loss_step=35.80]"
     ]
    },
    {
     "name": "stderr",
     "output_type": "stream",
     "text": [
      "[I 2024-04-28 23:59:18,147] Trial 173 pruned. Trial was pruned at epoch 0.\n"
     ]
    },
    {
     "name": "stdout",
     "output_type": "stream",
     "text": [
      "Number of embedding layers: 36\n"
     ]
    },
    {
     "name": "stderr",
     "output_type": "stream",
     "text": [
      "GPU available: True (cuda), used: True\n",
      "TPU available: False, using: 0 TPU cores\n",
      "IPU available: False, using: 0 IPUs\n",
      "HPU available: False, using: 0 HPUs\n",
      "LOCAL_RANK: 0 - CUDA_VISIBLE_DEVICES: [0]\n",
      "\n",
      "  | Name            | Type       | Params\n",
      "-----------------------------------------------\n",
      "0 | embeddings      | ModuleList | 3.0 K \n",
      "1 | fc              | Sequential | 782 K \n",
      "2 | output_category | Sequential | 534 K \n",
      "3 | output_price    | Sequential | 525 K \n",
      "-----------------------------------------------\n",
      "1.8 M     Trainable params\n",
      "0         Non-trainable params\n",
      "1.8 M     Total params\n",
      "7.381     Total estimated model params size (MB)\n"
     ]
    },
    {
     "name": "stdout",
     "output_type": "stream",
     "text": [
      "Epoch 0: 100%|██████████| 16/16 [00:00<00:00, 45.34it/s, train_loss_step=9.060, val_loss=10.30, val_price_loss=7.31e+9, val_category_loss=2.970, val_accuracy=0.404, val_rmse=9.04e+4, train_loss_epoch=28.20]"
     ]
    },
    {
     "name": "stderr",
     "output_type": "stream",
     "text": [
      "Metric val_loss improved. New best score: 10.286\n"
     ]
    },
    {
     "name": "stdout",
     "output_type": "stream",
     "text": [
      "Epoch 1: 100%|██████████| 16/16 [00:00<00:00, 50.96it/s, train_loss_step=10.60, val_loss=10.30, val_price_loss=7.31e+9, val_category_loss=2.970, val_accuracy=0.404, val_rmse=9.04e+4, train_loss_epoch=28.20]"
     ]
    },
    {
     "name": "stderr",
     "output_type": "stream",
     "text": [
      "[I 2024-04-28 23:59:19,188] Trial 174 pruned. Trial was pruned at epoch 1.\n"
     ]
    },
    {
     "name": "stdout",
     "output_type": "stream",
     "text": [
      "Epoch 1: 100%|██████████| 16/16 [00:00<00:00, 39.15it/s, train_loss_step=10.60, val_loss=10.30, val_price_loss=7.31e+9, val_category_loss=2.970, val_accuracy=0.404, val_rmse=9.04e+4, train_loss_epoch=28.20]\n"
     ]
    },
    {
     "name": "stderr",
     "output_type": "stream",
     "text": [
      "GPU available: True (cuda), used: True\n"
     ]
    },
    {
     "name": "stdout",
     "output_type": "stream",
     "text": [
      "Number of embedding layers: 36\n"
     ]
    },
    {
     "name": "stderr",
     "output_type": "stream",
     "text": [
      "TPU available: False, using: 0 TPU cores\n",
      "IPU available: False, using: 0 IPUs\n",
      "HPU available: False, using: 0 HPUs\n",
      "LOCAL_RANK: 0 - CUDA_VISIBLE_DEVICES: [0]\n",
      "\n",
      "  | Name            | Type       | Params\n",
      "-----------------------------------------------\n",
      "0 | embeddings      | ModuleList | 2.8 K \n",
      "1 | fc              | Sequential | 764 K \n",
      "2 | output_category | Sequential | 534 K \n",
      "3 | output_price    | Sequential | 525 K \n",
      "-----------------------------------------------\n",
      "1.8 M     Trainable params\n",
      "0         Non-trainable params\n",
      "1.8 M     Total params\n",
      "7.306     Total estimated model params size (MB)\n"
     ]
    },
    {
     "name": "stdout",
     "output_type": "stream",
     "text": [
      "Epoch 0: 100%|██████████| 16/16 [00:00<00:00, 37.31it/s, train_loss_step=15.50]"
     ]
    },
    {
     "name": "stderr",
     "output_type": "stream",
     "text": [
      "[I 2024-04-28 23:59:19,808] Trial 175 pruned. Trial was pruned at epoch 0.\n"
     ]
    },
    {
     "name": "stdout",
     "output_type": "stream",
     "text": [
      "Number of embedding layers: 36\n"
     ]
    },
    {
     "name": "stderr",
     "output_type": "stream",
     "text": [
      "GPU available: True (cuda), used: True\n",
      "TPU available: False, using: 0 TPU cores\n",
      "IPU available: False, using: 0 IPUs\n",
      "HPU available: False, using: 0 HPUs\n",
      "LOCAL_RANK: 0 - CUDA_VISIBLE_DEVICES: [0]\n",
      "\n",
      "  | Name            | Type       | Params\n",
      "-----------------------------------------------\n",
      "0 | embeddings      | ModuleList | 1.2 K \n",
      "1 | fc              | Sequential | 635 K \n",
      "2 | output_category | Sequential | 534 K \n",
      "3 | output_price    | Sequential | 525 K \n",
      "-----------------------------------------------\n",
      "1.7 M     Trainable params\n",
      "0         Non-trainable params\n",
      "1.7 M     Total params\n",
      "6.784     Total estimated model params size (MB)\n"
     ]
    },
    {
     "name": "stdout",
     "output_type": "stream",
     "text": [
      "Epoch 0: 100%|██████████| 16/16 [00:00<00:00, 32.09it/s, train_loss_step=10.60, val_loss=12.70, val_price_loss=7.28e+9, val_category_loss=5.460, val_accuracy=0.358, val_rmse=9.46e+4, train_loss_epoch=38.70]"
     ]
    },
    {
     "name": "stderr",
     "output_type": "stream",
     "text": [
      "Metric val_loss improved. New best score: 12.738\n"
     ]
    },
    {
     "name": "stdout",
     "output_type": "stream",
     "text": [
      "Epoch 1: 100%|██████████| 16/16 [00:00<00:00, 33.62it/s, train_loss_step=5.540, val_loss=12.70, val_price_loss=7.28e+9, val_category_loss=5.460, val_accuracy=0.358, val_rmse=9.46e+4, train_loss_epoch=38.70]"
     ]
    },
    {
     "name": "stderr",
     "output_type": "stream",
     "text": [
      "[I 2024-04-28 23:59:21,138] Trial 176 pruned. Trial was pruned at epoch 1.\n"
     ]
    },
    {
     "name": "stdout",
     "output_type": "stream",
     "text": [
      "Epoch 1: 100%|██████████| 16/16 [00:00<00:00, 27.14it/s, train_loss_step=5.540, val_loss=12.70, val_price_loss=7.28e+9, val_category_loss=5.460, val_accuracy=0.358, val_rmse=9.46e+4, train_loss_epoch=38.70]\n"
     ]
    },
    {
     "name": "stderr",
     "output_type": "stream",
     "text": [
      "GPU available: True (cuda), used: True\n"
     ]
    },
    {
     "name": "stdout",
     "output_type": "stream",
     "text": [
      "Number of embedding layers: 36\n"
     ]
    },
    {
     "name": "stderr",
     "output_type": "stream",
     "text": [
      "TPU available: False, using: 0 TPU cores\n",
      "IPU available: False, using: 0 IPUs\n",
      "HPU available: False, using: 0 HPUs\n",
      "LOCAL_RANK: 0 - CUDA_VISIBLE_DEVICES: [0]\n",
      "\n",
      "  | Name            | Type       | Params\n",
      "-----------------------------------------------\n",
      "0 | embeddings      | ModuleList | 2.5 K \n",
      "1 | fc              | Sequential | 745 K \n",
      "2 | output_category | Sequential | 534 K \n",
      "3 | output_price    | Sequential | 525 K \n",
      "-----------------------------------------------\n",
      "1.8 M     Trainable params\n",
      "0         Non-trainable params\n",
      "1.8 M     Total params\n",
      "7.231     Total estimated model params size (MB)\n"
     ]
    },
    {
     "name": "stdout",
     "output_type": "stream",
     "text": [
      "Epoch 0: 100%|██████████| 16/16 [00:00<00:00, 29.54it/s, train_loss_step=10.00, val_loss=13.20, val_price_loss=8.03e+9, val_category_loss=5.120, val_accuracy=0.404, val_rmse=8.62e+4, train_loss_epoch=21.50]"
     ]
    },
    {
     "name": "stderr",
     "output_type": "stream",
     "text": [
      "Metric val_loss improved. New best score: 13.154\n"
     ]
    },
    {
     "name": "stdout",
     "output_type": "stream",
     "text": [
      "Epoch 1: 100%|██████████| 16/16 [00:00<00:00, 32.56it/s, train_loss_step=8.480, val_loss=7.860, val_price_loss=5.91e+9, val_category_loss=1.950, val_accuracy=0.486, val_rmse=7.73e+4, train_loss_epoch=9.940]"
     ]
    },
    {
     "name": "stderr",
     "output_type": "stream",
     "text": [
      "Metric val_loss improved by 5.298 >= min_delta = 0.0001. New best score: 7.857\n"
     ]
    },
    {
     "name": "stdout",
     "output_type": "stream",
     "text": [
      "Epoch 2: 100%|██████████| 16/16 [00:00<00:00, 31.52it/s, train_loss_step=6.690, val_loss=7.590, val_price_loss=5.92e+9, val_category_loss=1.670, val_accuracy=0.472, val_rmse=7.31e+4, train_loss_epoch=8.500]"
     ]
    },
    {
     "name": "stderr",
     "output_type": "stream",
     "text": [
      "Metric val_loss improved by 0.267 >= min_delta = 0.0001. New best score: 7.589\n"
     ]
    },
    {
     "name": "stdout",
     "output_type": "stream",
     "text": [
      "Epoch 3: 100%|██████████| 16/16 [00:00<00:00, 30.42it/s, train_loss_step=8.700, val_loss=7.090, val_price_loss=5.84e+9, val_category_loss=1.250, val_accuracy=0.596, val_rmse=7.51e+4, train_loss_epoch=8.800]"
     ]
    },
    {
     "name": "stderr",
     "output_type": "stream",
     "text": [
      "Metric val_loss improved by 0.504 >= min_delta = 0.0001. New best score: 7.085\n"
     ]
    },
    {
     "name": "stdout",
     "output_type": "stream",
     "text": [
      "Epoch 4: 100%|██████████| 16/16 [00:00<00:00, 31.33it/s, train_loss_step=7.050, val_loss=7.010, val_price_loss=5.87e+9, val_category_loss=1.140, val_accuracy=0.651, val_rmse=7.27e+4, train_loss_epoch=9.740]"
     ]
    },
    {
     "name": "stderr",
     "output_type": "stream",
     "text": [
      "Metric val_loss improved by 0.074 >= min_delta = 0.0001. New best score: 7.011\n"
     ]
    },
    {
     "name": "stdout",
     "output_type": "stream",
     "text": [
      "Epoch 5: 100%|██████████| 16/16 [00:00<00:00, 30.67it/s, train_loss_step=5.230, val_loss=6.920, val_price_loss=5.85e+9, val_category_loss=1.070, val_accuracy=0.665, val_rmse=7.17e+4, train_loss_epoch=8.200]"
     ]
    },
    {
     "name": "stderr",
     "output_type": "stream",
     "text": [
      "Metric val_loss improved by 0.090 >= min_delta = 0.0001. New best score: 6.921\n"
     ]
    },
    {
     "name": "stdout",
     "output_type": "stream",
     "text": [
      "Epoch 10: 100%|██████████| 16/16 [00:00<00:00, 30.60it/s, train_loss_step=5.810, val_loss=7.270, val_price_loss=5.88e+9, val_category_loss=1.390, val_accuracy=0.670, val_rmse=7.77e+4, train_loss_epoch=7.990]"
     ]
    },
    {
     "name": "stderr",
     "output_type": "stream",
     "text": [
      "Monitored metric val_loss did not improve in the last 5 records. Best score: 6.921. Signaling Trainer to stop.\n"
     ]
    },
    {
     "name": "stdout",
     "output_type": "stream",
     "text": [
      "Epoch 10: 100%|██████████| 16/16 [00:00<00:00, 22.50it/s, train_loss_step=5.810, val_loss=7.270, val_price_loss=5.88e+9, val_category_loss=1.390, val_accuracy=0.670, val_rmse=7.77e+4, train_loss_epoch=7.990]"
     ]
    },
    {
     "name": "stderr",
     "output_type": "stream",
     "text": [
      "[I 2024-04-28 23:59:29,169] Trial 177 finished with value: 7.265097618103027 and parameters: {'num_layers': 1, 'hidden_dim': 512, 'embedding_dim': 11, 'lr': 0.02745348002459468, 'optimizer_type': 'Adam', 'relu_type': 'LeakyReLU', 'droupoutrate': 0.350860864859721}. Best is trial 139 with value: 6.860494136810303.\n",
      "GPU available: True (cuda), used: True\n",
      "TPU available: False, using: 0 TPU cores\n",
      "IPU available: False, using: 0 IPUs\n",
      "HPU available: False, using: 0 HPUs\n",
      "LOCAL_RANK: 0 - CUDA_VISIBLE_DEVICES: [0]\n",
      "\n",
      "  | Name            | Type       | Params\n",
      "-----------------------------------------------\n",
      "0 | embeddings      | ModuleList | 2.5 K \n",
      "1 | fc              | Sequential | 745 K \n",
      "2 | output_category | Sequential | 534 K \n",
      "3 | output_price    | Sequential | 525 K \n",
      "-----------------------------------------------\n",
      "1.8 M     Trainable params\n",
      "0         Non-trainable params\n",
      "1.8 M     Total params\n",
      "7.231     Total estimated model params size (MB)\n"
     ]
    },
    {
     "name": "stdout",
     "output_type": "stream",
     "text": [
      "\n",
      "Number of embedding layers: 36\n",
      "Epoch 0: 100%|██████████| 16/16 [00:00<00:00, 34.52it/s, train_loss_step=7.560]"
     ]
    },
    {
     "name": "stderr",
     "output_type": "stream",
     "text": [
      "[I 2024-04-28 23:59:29,826] Trial 178 pruned. Trial was pruned at epoch 0.\n"
     ]
    },
    {
     "name": "stdout",
     "output_type": "stream",
     "text": [
      "Number of embedding layers: 36\n"
     ]
    },
    {
     "name": "stderr",
     "output_type": "stream",
     "text": [
      "GPU available: True (cuda), used: True\n",
      "TPU available: False, using: 0 TPU cores\n",
      "IPU available: False, using: 0 IPUs\n",
      "HPU available: False, using: 0 HPUs\n"
     ]
    },
    {
     "name": "stdout",
     "output_type": "stream",
     "text": [
      "Epoch 0: 100%|██████████| 16/16 [00:00<00:00, 26.34it/s, train_loss_step=7.560]\n"
     ]
    },
    {
     "name": "stderr",
     "output_type": "stream",
     "text": [
      "LOCAL_RANK: 0 - CUDA_VISIBLE_DEVICES: [0]\n",
      "\n",
      "  | Name            | Type       | Params\n",
      "-----------------------------------------------\n",
      "0 | embeddings      | ModuleList | 2.3 K \n",
      "1 | fc              | Sequential | 727 K \n",
      "2 | output_category | Sequential | 534 K \n",
      "3 | output_price    | Sequential | 525 K \n",
      "-----------------------------------------------\n",
      "1.8 M     Trainable params\n",
      "0         Non-trainable params\n",
      "1.8 M     Total params\n",
      "7.157     Total estimated model params size (MB)\n"
     ]
    },
    {
     "name": "stdout",
     "output_type": "stream",
     "text": [
      "Epoch 0: 100%|██████████| 16/16 [00:00<00:00, 35.41it/s, train_loss_step=20.20]"
     ]
    },
    {
     "name": "stderr",
     "output_type": "stream",
     "text": [
      "[I 2024-04-28 23:59:30,464] Trial 179 pruned. Trial was pruned at epoch 0.\n"
     ]
    },
    {
     "name": "stdout",
     "output_type": "stream",
     "text": [
      "Number of embedding layers: 36\n"
     ]
    },
    {
     "name": "stderr",
     "output_type": "stream",
     "text": [
      "GPU available: True (cuda), used: True\n",
      "TPU available: False, using: 0 TPU cores\n",
      "IPU available: False, using: 0 IPUs\n",
      "HPU available: False, using: 0 HPUs\n",
      "LOCAL_RANK: 0 - CUDA_VISIBLE_DEVICES: [0]\n",
      "\n",
      "  | Name            | Type       | Params\n",
      "-----------------------------------------------\n",
      "0 | embeddings      | ModuleList | 1.6 K \n",
      "1 | fc              | Sequential | 205 K \n",
      "2 | output_category | Sequential | 135 K \n",
      "3 | output_price    | Sequential | 131 K \n",
      "-----------------------------------------------\n",
      "474 K     Trainable params\n",
      "0         Non-trainable params\n",
      "474 K     Total params\n",
      "1.897     Total estimated model params size (MB)\n"
     ]
    },
    {
     "name": "stdout",
     "output_type": "stream",
     "text": [
      "Epoch 0: 100%|██████████| 16/16 [00:00<00:00, 36.78it/s, train_loss_step=12.30, val_loss=11.50, val_price_loss=9.23e+9, val_category_loss=2.320, val_accuracy=0.321, val_rmse=7.65e+4, train_loss_epoch=26.30]"
     ]
    },
    {
     "name": "stderr",
     "output_type": "stream",
     "text": [
      "Metric val_loss improved. New best score: 11.546\n"
     ]
    },
    {
     "name": "stdout",
     "output_type": "stream",
     "text": [
      "Epoch 1: 100%|██████████| 16/16 [00:00<00:00, 36.30it/s, train_loss_step=9.370, val_loss=8.010, val_price_loss=6.61e+9, val_category_loss=1.400, val_accuracy=0.583, val_rmse=7.43e+4, train_loss_epoch=9.390]"
     ]
    },
    {
     "name": "stderr",
     "output_type": "stream",
     "text": [
      "Metric val_loss improved by 3.532 >= min_delta = 0.0001. New best score: 8.014\n"
     ]
    },
    {
     "name": "stdout",
     "output_type": "stream",
     "text": [
      "Epoch 2: 100%|██████████| 16/16 [00:00<00:00, 33.66it/s, train_loss_step=11.10, val_loss=7.500, val_price_loss=6.1e+9, val_category_loss=1.400, val_accuracy=0.500, val_rmse=7.36e+4, train_loss_epoch=9.380] "
     ]
    },
    {
     "name": "stderr",
     "output_type": "stream",
     "text": [
      "Metric val_loss improved by 0.513 >= min_delta = 0.0001. New best score: 7.501\n"
     ]
    },
    {
     "name": "stdout",
     "output_type": "stream",
     "text": [
      "Epoch 3: 100%|██████████| 16/16 [00:00<00:00, 38.13it/s, train_loss_step=7.570, val_loss=7.500, val_price_loss=6.1e+9, val_category_loss=1.400, val_accuracy=0.500, val_rmse=7.36e+4, train_loss_epoch=9.380]"
     ]
    },
    {
     "name": "stderr",
     "output_type": "stream",
     "text": [
      "[I 2024-04-28 23:59:32,580] Trial 180 pruned. Trial was pruned at epoch 3.\n"
     ]
    },
    {
     "name": "stdout",
     "output_type": "stream",
     "text": [
      "Epoch 3: 100%|██████████| 16/16 [00:00<00:00, 30.52it/s, train_loss_step=7.570, val_loss=7.500, val_price_loss=6.1e+9, val_category_loss=1.400, val_accuracy=0.500, val_rmse=7.36e+4, train_loss_epoch=9.380]\n"
     ]
    },
    {
     "name": "stderr",
     "output_type": "stream",
     "text": [
      "GPU available: True (cuda), used: True\n"
     ]
    },
    {
     "name": "stdout",
     "output_type": "stream",
     "text": [
      "Number of embedding layers: 36\n"
     ]
    },
    {
     "name": "stderr",
     "output_type": "stream",
     "text": [
      "TPU available: False, using: 0 TPU cores\n",
      "IPU available: False, using: 0 IPUs\n",
      "HPU available: False, using: 0 HPUs\n",
      "LOCAL_RANK: 0 - CUDA_VISIBLE_DEVICES: [0]\n",
      "\n",
      "  | Name            | Type       | Params\n",
      "-----------------------------------------------\n",
      "0 | embeddings      | ModuleList | 2.8 K \n",
      "1 | fc              | Sequential | 764 K \n",
      "2 | output_category | Sequential | 534 K \n",
      "3 | output_price    | Sequential | 525 K \n",
      "-----------------------------------------------\n",
      "1.8 M     Trainable params\n",
      "0         Non-trainable params\n",
      "1.8 M     Total params\n",
      "7.306     Total estimated model params size (MB)\n"
     ]
    },
    {
     "name": "stdout",
     "output_type": "stream",
     "text": [
      "Epoch 0: 100%|██████████| 16/16 [00:00<00:00, 28.44it/s, train_loss_step=13.50, val_loss=11.00, val_price_loss=6.61e+9, val_category_loss=4.350, val_accuracy=0.394, val_rmse=7.93e+4, train_loss_epoch=20.90]"
     ]
    },
    {
     "name": "stderr",
     "output_type": "stream",
     "text": [
      "Metric val_loss improved. New best score: 10.963\n"
     ]
    },
    {
     "name": "stdout",
     "output_type": "stream",
     "text": [
      "Epoch 1: 100%|██████████| 16/16 [00:00<00:00, 30.85it/s, train_loss_step=11.50, val_loss=7.400, val_price_loss=5.87e+9, val_category_loss=1.530, val_accuracy=0.610, val_rmse=7.66e+4, train_loss_epoch=9.360]"
     ]
    },
    {
     "name": "stderr",
     "output_type": "stream",
     "text": [
      "Metric val_loss improved by 3.564 >= min_delta = 0.0001. New best score: 7.399\n"
     ]
    },
    {
     "name": "stdout",
     "output_type": "stream",
     "text": [
      "Epoch 2: 100%|██████████| 16/16 [00:00<00:00, 29.49it/s, train_loss_step=8.750, val_loss=7.170, val_price_loss=6.11e+9, val_category_loss=1.070, val_accuracy=0.661, val_rmse=7.95e+4, train_loss_epoch=8.620]"
     ]
    },
    {
     "name": "stderr",
     "output_type": "stream",
     "text": [
      "Metric val_loss improved by 0.225 >= min_delta = 0.0001. New best score: 7.174\n"
     ]
    },
    {
     "name": "stdout",
     "output_type": "stream",
     "text": [
      "Epoch 3: 100%|██████████| 16/16 [00:00<00:00, 29.75it/s, train_loss_step=8.250, val_loss=6.720, val_price_loss=5.84e+9, val_category_loss=0.872, val_accuracy=0.720, val_rmse=7.65e+4, train_loss_epoch=8.940]"
     ]
    },
    {
     "name": "stderr",
     "output_type": "stream",
     "text": [
      "Metric val_loss improved by 0.459 >= min_delta = 0.0001. New best score: 6.716\n"
     ]
    },
    {
     "name": "stdout",
     "output_type": "stream",
     "text": [
      "Epoch 8: 100%|██████████| 16/16 [00:00<00:00, 31.95it/s, train_loss_step=18.30, val_loss=7.010, val_price_loss=6.02e+9, val_category_loss=0.994, val_accuracy=0.711, val_rmse=7.34e+4, train_loss_epoch=7.740]"
     ]
    },
    {
     "name": "stderr",
     "output_type": "stream",
     "text": [
      "Monitored metric val_loss did not improve in the last 5 records. Best score: 6.716. Signaling Trainer to stop.\n"
     ]
    },
    {
     "name": "stdout",
     "output_type": "stream",
     "text": [
      "Epoch 8: 100%|██████████| 16/16 [00:00<00:00, 23.37it/s, train_loss_step=18.30, val_loss=7.010, val_price_loss=6.02e+9, val_category_loss=0.994, val_accuracy=0.711, val_rmse=7.34e+4, train_loss_epoch=7.740]"
     ]
    },
    {
     "name": "stderr",
     "output_type": "stream",
     "text": [
      "[I 2024-04-28 23:59:39,289] Trial 181 finished with value: 7.011901378631592 and parameters: {'num_layers': 1, 'hidden_dim': 512, 'embedding_dim': 12, 'lr': 0.03374607540021468, 'optimizer_type': 'Adam', 'relu_type': 'LeakyReLU', 'droupoutrate': 0.3481485107786182}. Best is trial 139 with value: 6.860494136810303.\n",
      "GPU available: True (cuda), used: True\n",
      "TPU available: False, using: 0 TPU cores\n",
      "IPU available: False, using: 0 IPUs\n",
      "HPU available: False, using: 0 HPUs\n",
      "LOCAL_RANK: 0 - CUDA_VISIBLE_DEVICES: [0]\n",
      "\n",
      "  | Name            | Type       | Params\n",
      "-----------------------------------------------\n",
      "0 | embeddings      | ModuleList | 2.5 K \n",
      "1 | fc              | Sequential | 745 K \n",
      "2 | output_category | Sequential | 534 K \n",
      "3 | output_price    | Sequential | 525 K \n",
      "-----------------------------------------------\n",
      "1.8 M     Trainable params\n",
      "0         Non-trainable params\n",
      "1.8 M     Total params\n",
      "7.231     Total estimated model params size (MB)\n"
     ]
    },
    {
     "name": "stdout",
     "output_type": "stream",
     "text": [
      "\n",
      "Number of embedding layers: 36\n",
      "Epoch 0: 100%|██████████| 16/16 [00:00<00:00, 29.76it/s, train_loss_step=8.660, val_loss=13.50, val_price_loss=6.9e+9, val_category_loss=6.570, val_accuracy=0.404, val_rmse=8.04e+4, train_loss_epoch=19.20]"
     ]
    },
    {
     "name": "stderr",
     "output_type": "stream",
     "text": [
      "Metric val_loss improved. New best score: 13.476\n"
     ]
    },
    {
     "name": "stdout",
     "output_type": "stream",
     "text": [
      "Epoch 1: 100%|██████████| 16/16 [00:00<00:00, 31.18it/s, train_loss_step=7.280, val_loss=7.540, val_price_loss=6.07e+9, val_category_loss=1.460, val_accuracy=0.546, val_rmse=7.63e+4, train_loss_epoch=9.790]"
     ]
    },
    {
     "name": "stderr",
     "output_type": "stream",
     "text": [
      "Metric val_loss improved by 5.940 >= min_delta = 0.0001. New best score: 7.536\n"
     ]
    },
    {
     "name": "stdout",
     "output_type": "stream",
     "text": [
      "Epoch 3: 100%|██████████| 16/16 [00:00<00:00, 30.85it/s, train_loss_step=10.10, val_loss=6.870, val_price_loss=5.86e+9, val_category_loss=1.000, val_accuracy=0.638, val_rmse=7.26e+4, train_loss_epoch=9.070]"
     ]
    },
    {
     "name": "stderr",
     "output_type": "stream",
     "text": [
      "Metric val_loss improved by 0.669 >= min_delta = 0.0001. New best score: 6.867\n"
     ]
    },
    {
     "name": "stdout",
     "output_type": "stream",
     "text": [
      "Epoch 8: 100%|██████████| 16/16 [00:00<00:00, 31.70it/s, train_loss_step=7.190, val_loss=6.960, val_price_loss=5.86e+9, val_category_loss=1.100, val_accuracy=0.688, val_rmse=7.15e+4, train_loss_epoch=8.120]"
     ]
    },
    {
     "name": "stderr",
     "output_type": "stream",
     "text": [
      "Monitored metric val_loss did not improve in the last 5 records. Best score: 6.867. Signaling Trainer to stop.\n"
     ]
    },
    {
     "name": "stdout",
     "output_type": "stream",
     "text": [
      "Epoch 8: 100%|██████████| 16/16 [00:00<00:00, 19.54it/s, train_loss_step=7.190, val_loss=6.960, val_price_loss=5.86e+9, val_category_loss=1.100, val_accuracy=0.688, val_rmse=7.15e+4, train_loss_epoch=8.120]"
     ]
    },
    {
     "name": "stderr",
     "output_type": "stream",
     "text": [
      "[I 2024-04-28 23:59:45,790] Trial 182 finished with value: 6.96162223815918 and parameters: {'num_layers': 1, 'hidden_dim': 512, 'embedding_dim': 11, 'lr': 0.0331237713341563, 'optimizer_type': 'Adam', 'relu_type': 'LeakyReLU', 'droupoutrate': 0.34962128723579544}. Best is trial 139 with value: 6.860494136810303.\n",
      "GPU available: True (cuda), used: True\n",
      "TPU available: False, using: 0 TPU cores\n",
      "IPU available: False, using: 0 IPUs\n",
      "HPU available: False, using: 0 HPUs\n",
      "LOCAL_RANK: 0 - CUDA_VISIBLE_DEVICES: [0]\n",
      "\n",
      "  | Name            | Type       | Params\n",
      "-----------------------------------------------\n",
      "0 | embeddings      | ModuleList | 2.5 K \n",
      "1 | fc              | Sequential | 745 K \n",
      "2 | output_category | Sequential | 534 K \n",
      "3 | output_price    | Sequential | 525 K \n",
      "-----------------------------------------------\n",
      "1.8 M     Trainable params\n",
      "0         Non-trainable params\n",
      "1.8 M     Total params\n",
      "7.231     Total estimated model params size (MB)\n"
     ]
    },
    {
     "name": "stdout",
     "output_type": "stream",
     "text": [
      "\n",
      "Number of embedding layers: 36\n",
      "Epoch 0: 100%|██████████| 16/16 [00:00<00:00, 34.21it/s, train_loss_step=6.500]"
     ]
    },
    {
     "name": "stderr",
     "output_type": "stream",
     "text": [
      "[I 2024-04-28 23:59:46,468] Trial 183 pruned. Trial was pruned at epoch 0.\n"
     ]
    },
    {
     "name": "stdout",
     "output_type": "stream",
     "text": [
      "Number of embedding layers: 36\n"
     ]
    },
    {
     "name": "stderr",
     "output_type": "stream",
     "text": [
      "GPU available: True (cuda), used: True\n",
      "TPU available: False, using: 0 TPU cores\n",
      "IPU available: False, using: 0 IPUs\n",
      "HPU available: False, using: 0 HPUs\n"
     ]
    },
    {
     "name": "stdout",
     "output_type": "stream",
     "text": [
      "Epoch 0: 100%|██████████| 16/16 [00:00<00:00, 25.51it/s, train_loss_step=6.500]\n"
     ]
    },
    {
     "name": "stderr",
     "output_type": "stream",
     "text": [
      "LOCAL_RANK: 0 - CUDA_VISIBLE_DEVICES: [0]\n",
      "\n",
      "  | Name            | Type       | Params\n",
      "-----------------------------------------------\n",
      "0 | embeddings      | ModuleList | 2.5 K \n",
      "1 | fc              | Sequential | 745 K \n",
      "2 | output_category | Sequential | 534 K \n",
      "3 | output_price    | Sequential | 525 K \n",
      "-----------------------------------------------\n",
      "1.8 M     Trainable params\n",
      "0         Non-trainable params\n",
      "1.8 M     Total params\n",
      "7.231     Total estimated model params size (MB)\n"
     ]
    },
    {
     "name": "stdout",
     "output_type": "stream",
     "text": [
      "Epoch 0: 100%|██████████| 16/16 [00:00<00:00, 34.88it/s, train_loss_step=25.80]"
     ]
    },
    {
     "name": "stderr",
     "output_type": "stream",
     "text": [
      "[I 2024-04-28 23:59:47,126] Trial 184 pruned. Trial was pruned at epoch 0.\n"
     ]
    },
    {
     "name": "stdout",
     "output_type": "stream",
     "text": [
      "Number of embedding layers: 36\n"
     ]
    },
    {
     "name": "stderr",
     "output_type": "stream",
     "text": [
      "GPU available: True (cuda), used: True\n",
      "TPU available: False, using: 0 TPU cores\n",
      "IPU available: False, using: 0 IPUs\n",
      "HPU available: False, using: 0 HPUs\n",
      "LOCAL_RANK: 0 - CUDA_VISIBLE_DEVICES: [0]\n",
      "\n",
      "  | Name            | Type       | Params\n",
      "-----------------------------------------------\n",
      "0 | embeddings      | ModuleList | 2.5 K \n",
      "1 | fc              | Sequential | 745 K \n",
      "2 | output_category | Sequential | 534 K \n",
      "3 | output_price    | Sequential | 525 K \n",
      "-----------------------------------------------\n",
      "1.8 M     Trainable params\n",
      "0         Non-trainable params\n",
      "1.8 M     Total params\n",
      "7.231     Total estimated model params size (MB)\n"
     ]
    },
    {
     "name": "stdout",
     "output_type": "stream",
     "text": [
      "Epoch 0: 100%|██████████| 16/16 [00:00<00:00, 29.43it/s, train_loss_step=12.90, val_loss=14.70, val_price_loss=1.17e+10, val_category_loss=3.020, val_accuracy=0.394, val_rmse=1.08e+5, train_loss_epoch=29.00]"
     ]
    },
    {
     "name": "stderr",
     "output_type": "stream",
     "text": [
      "Metric val_loss improved. New best score: 14.677\n"
     ]
    },
    {
     "name": "stdout",
     "output_type": "stream",
     "text": [
      "Epoch 1: 100%|██████████| 16/16 [00:00<00:00, 29.76it/s, train_loss_step=12.00, val_loss=8.420, val_price_loss=7.02e+9, val_category_loss=1.390, val_accuracy=0.601, val_rmse=8.24e+4, train_loss_epoch=11.20] "
     ]
    },
    {
     "name": "stderr",
     "output_type": "stream",
     "text": [
      "Metric val_loss improved by 6.262 >= min_delta = 0.0001. New best score: 8.416\n"
     ]
    },
    {
     "name": "stdout",
     "output_type": "stream",
     "text": [
      "Epoch 2: 100%|██████████| 16/16 [00:00<00:00, 31.33it/s, train_loss_step=5.460, val_loss=7.200, val_price_loss=6.04e+9, val_category_loss=1.170, val_accuracy=0.638, val_rmse=8.06e+4, train_loss_epoch=9.270]"
     ]
    },
    {
     "name": "stderr",
     "output_type": "stream",
     "text": [
      "Metric val_loss improved by 1.212 >= min_delta = 0.0001. New best score: 7.204\n"
     ]
    },
    {
     "name": "stdout",
     "output_type": "stream",
     "text": [
      "Epoch 4: 100%|██████████| 16/16 [00:00<00:00, 31.39it/s, train_loss_step=9.940, val_loss=6.990, val_price_loss=6.04e+9, val_category_loss=0.949, val_accuracy=0.693, val_rmse=7.83e+4, train_loss_epoch=8.850]"
     ]
    },
    {
     "name": "stderr",
     "output_type": "stream",
     "text": [
      "Metric val_loss improved by 0.213 >= min_delta = 0.0001. New best score: 6.990\n"
     ]
    },
    {
     "name": "stdout",
     "output_type": "stream",
     "text": [
      "Epoch 7: 100%|██████████| 16/16 [00:00<00:00, 31.56it/s, train_loss_step=8.450, val_loss=6.930, val_price_loss=5.99e+9, val_category_loss=0.939, val_accuracy=0.665, val_rmse=7.43e+4, train_loss_epoch=8.020]"
     ]
    },
    {
     "name": "stderr",
     "output_type": "stream",
     "text": [
      "Metric val_loss improved by 0.064 >= min_delta = 0.0001. New best score: 6.927\n"
     ]
    },
    {
     "name": "stdout",
     "output_type": "stream",
     "text": [
      "Epoch 12: 100%|██████████| 16/16 [00:00<00:00, 32.17it/s, train_loss_step=7.300, val_loss=7.220, val_price_loss=6e+9, val_category_loss=1.220, val_accuracy=0.725, val_rmse=7.65e+4, train_loss_epoch=7.350]   "
     ]
    },
    {
     "name": "stderr",
     "output_type": "stream",
     "text": [
      "Monitored metric val_loss did not improve in the last 5 records. Best score: 6.927. Signaling Trainer to stop.\n"
     ]
    },
    {
     "name": "stdout",
     "output_type": "stream",
     "text": [
      "Epoch 12: 100%|██████████| 16/16 [00:00<00:00, 22.83it/s, train_loss_step=7.300, val_loss=7.220, val_price_loss=6e+9, val_category_loss=1.220, val_accuracy=0.725, val_rmse=7.65e+4, train_loss_epoch=7.350]"
     ]
    },
    {
     "name": "stderr",
     "output_type": "stream",
     "text": [
      "[I 2024-04-28 23:59:56,756] Trial 185 finished with value: 7.221431255340576 and parameters: {'num_layers': 1, 'hidden_dim': 512, 'embedding_dim': 11, 'lr': 0.05104963592174845, 'optimizer_type': 'Adam', 'relu_type': 'LeakyReLU', 'droupoutrate': 0.33381276895066414}. Best is trial 139 with value: 6.860494136810303.\n",
      "GPU available: True (cuda), used: True\n",
      "TPU available: False, using: 0 TPU cores\n",
      "IPU available: False, using: 0 IPUs\n",
      "HPU available: False, using: 0 HPUs\n",
      "LOCAL_RANK: 0 - CUDA_VISIBLE_DEVICES: [0]\n",
      "\n",
      "  | Name            | Type       | Params\n",
      "-----------------------------------------------\n",
      "0 | embeddings      | ModuleList | 2.5 K \n",
      "1 | fc              | Sequential | 745 K \n",
      "2 | output_category | Sequential | 534 K \n",
      "3 | output_price    | Sequential | 525 K \n",
      "-----------------------------------------------\n",
      "1.8 M     Trainable params\n",
      "0         Non-trainable params\n",
      "1.8 M     Total params\n",
      "7.231     Total estimated model params size (MB)\n"
     ]
    },
    {
     "name": "stdout",
     "output_type": "stream",
     "text": [
      "\n",
      "Number of embedding layers: 36\n",
      "Epoch 0: 100%|██████████| 16/16 [00:00<00:00, 30.18it/s, train_loss_step=18.70, val_loss=14.10, val_price_loss=1.09e+10, val_category_loss=3.150, val_accuracy=0.390, val_rmse=1.24e+5, train_loss_epoch=29.20]"
     ]
    },
    {
     "name": "stderr",
     "output_type": "stream",
     "text": [
      "Metric val_loss improved. New best score: 14.078\n"
     ]
    },
    {
     "name": "stdout",
     "output_type": "stream",
     "text": [
      "Epoch 1: 100%|██████████| 16/16 [00:00<00:00, 37.75it/s, train_loss_step=8.000, val_loss=14.10, val_price_loss=1.09e+10, val_category_loss=3.150, val_accuracy=0.390, val_rmse=1.24e+5, train_loss_epoch=29.20]"
     ]
    },
    {
     "name": "stderr",
     "output_type": "stream",
     "text": [
      "[I 2024-04-28 23:59:58,098] Trial 186 pruned. Trial was pruned at epoch 1.\n",
      "GPU available: True (cuda), used: True\n"
     ]
    },
    {
     "name": "stdout",
     "output_type": "stream",
     "text": [
      "Number of embedding layers: 36\n"
     ]
    },
    {
     "name": "stderr",
     "output_type": "stream",
     "text": [
      "TPU available: False, using: 0 TPU cores\n",
      "IPU available: False, using: 0 IPUs\n",
      "HPU available: False, using: 0 HPUs\n",
      "LOCAL_RANK: 0 - CUDA_VISIBLE_DEVICES: [0]\n",
      "\n",
      "  | Name            | Type       | Params\n",
      "-----------------------------------------------\n",
      "0 | embeddings      | ModuleList | 2.3 K \n",
      "1 | fc              | Sequential | 727 K \n",
      "2 | output_category | Sequential | 534 K \n",
      "3 | output_price    | Sequential | 525 K \n",
      "-----------------------------------------------\n",
      "1.8 M     Trainable params\n",
      "0         Non-trainable params\n",
      "1.8 M     Total params\n",
      "7.157     Total estimated model params size (MB)\n"
     ]
    },
    {
     "name": "stdout",
     "output_type": "stream",
     "text": [
      "Epoch 0: 100%|██████████| 16/16 [00:00<00:00, 35.94it/s, train_loss_step=19.60]"
     ]
    },
    {
     "name": "stderr",
     "output_type": "stream",
     "text": [
      "[I 2024-04-28 23:59:58,739] Trial 187 pruned. Trial was pruned at epoch 0.\n"
     ]
    },
    {
     "name": "stdout",
     "output_type": "stream",
     "text": [
      "Number of embedding layers: 36\n"
     ]
    },
    {
     "name": "stderr",
     "output_type": "stream",
     "text": [
      "GPU available: True (cuda), used: True\n",
      "TPU available: False, using: 0 TPU cores\n",
      "IPU available: False, using: 0 IPUs\n",
      "HPU available: False, using: 0 HPUs\n",
      "LOCAL_RANK: 0 - CUDA_VISIBLE_DEVICES: [0]\n",
      "\n",
      "  | Name            | Type       | Params\n",
      "-----------------------------------------------\n",
      "0 | embeddings      | ModuleList | 2.8 K \n",
      "1 | fc              | Sequential | 92.8 K\n",
      "2 | output_category | Sequential | 35.2 K\n",
      "3 | output_price    | Sequential | 33.0 K\n",
      "-----------------------------------------------\n",
      "163 K     Trainable params\n",
      "0         Non-trainable params\n",
      "163 K     Total params\n",
      "0.655     Total estimated model params size (MB)\n"
     ]
    },
    {
     "name": "stdout",
     "output_type": "stream",
     "text": [
      "Epoch 0: 100%|██████████| 16/16 [00:00<00:00, 26.41it/s, train_loss_step=19.60]\n",
      "Epoch 0: 100%|██████████| 16/16 [00:00<00:00, 40.31it/s, train_loss_step=20.40]"
     ]
    },
    {
     "name": "stderr",
     "output_type": "stream",
     "text": [
      "[I 2024-04-28 23:59:59,306] Trial 188 pruned. Trial was pruned at epoch 0.\n"
     ]
    },
    {
     "name": "stdout",
     "output_type": "stream",
     "text": [
      "Number of embedding layers:"
     ]
    },
    {
     "name": "stderr",
     "output_type": "stream",
     "text": [
      "GPU available: True (cuda), used: True\n"
     ]
    },
    {
     "name": "stdout",
     "output_type": "stream",
     "text": [
      " 36\n"
     ]
    },
    {
     "name": "stderr",
     "output_type": "stream",
     "text": [
      "TPU available: False, using: 0 TPU cores\n",
      "IPU available: False, using: 0 IPUs\n",
      "HPU available: False, using: 0 HPUs\n",
      "LOCAL_RANK: 0 - CUDA_VISIBLE_DEVICES: [0]\n",
      "\n",
      "  | Name            | Type       | Params\n",
      "-----------------------------------------------\n",
      "0 | embeddings      | ModuleList | 2.5 K \n",
      "1 | fc              | Sequential | 745 K \n",
      "2 | output_category | Sequential | 534 K \n",
      "3 | output_price    | Sequential | 525 K \n",
      "-----------------------------------------------\n",
      "1.8 M     Trainable params\n",
      "0         Non-trainable params\n",
      "1.8 M     Total params\n",
      "7.231     Total estimated model params size (MB)\n"
     ]
    },
    {
     "name": "stdout",
     "output_type": "stream",
     "text": [
      "Epoch 0: 100%|██████████| 16/16 [00:00<00:00, 30.67it/s, train_loss_step=16.40, val_loss=12.90, val_price_loss=6.66e+9, val_category_loss=6.230, val_accuracy=0.413, val_rmse=8.33e+4, train_loss_epoch=21.10]"
     ]
    },
    {
     "name": "stderr",
     "output_type": "stream",
     "text": [
      "Metric val_loss improved. New best score: 12.884\n"
     ]
    },
    {
     "name": "stdout",
     "output_type": "stream",
     "text": [
      "Epoch 1: 100%|██████████| 16/16 [00:00<00:00, 28.04it/s, train_loss_step=9.370, val_loss=8.220, val_price_loss=5.94e+9, val_category_loss=2.280, val_accuracy=0.509, val_rmse=7.79e+4, train_loss_epoch=10.10]"
     ]
    },
    {
     "name": "stderr",
     "output_type": "stream",
     "text": [
      "Metric val_loss improved by 4.668 >= min_delta = 0.0001. New best score: 8.217\n"
     ]
    },
    {
     "name": "stdout",
     "output_type": "stream",
     "text": [
      "Epoch 2: 100%|██████████| 16/16 [00:00<00:00, 31.12it/s, train_loss_step=12.40, val_loss=7.580, val_price_loss=6.12e+9, val_category_loss=1.460, val_accuracy=0.555, val_rmse=7.83e+4, train_loss_epoch=8.210]"
     ]
    },
    {
     "name": "stderr",
     "output_type": "stream",
     "text": [
      "Metric val_loss improved by 0.633 >= min_delta = 0.0001. New best score: 7.584\n"
     ]
    },
    {
     "name": "stdout",
     "output_type": "stream",
     "text": [
      "Epoch 3: 100%|██████████| 16/16 [00:00<00:00, 39.97it/s, train_loss_step=6.880, val_loss=7.580, val_price_loss=6.12e+9, val_category_loss=1.460, val_accuracy=0.555, val_rmse=7.83e+4, train_loss_epoch=8.210]"
     ]
    },
    {
     "name": "stderr",
     "output_type": "stream",
     "text": [
      "[I 2024-04-29 00:00:02,066] Trial 189 pruned. Trial was pruned at epoch 3.\n"
     ]
    },
    {
     "name": "stdout",
     "output_type": "stream",
     "text": [
      "Number of embedding layers: 36\n"
     ]
    },
    {
     "name": "stderr",
     "output_type": "stream",
     "text": [
      "GPU available: True (cuda), used: True\n",
      "TPU available: False, using: 0 TPU cores\n",
      "IPU available: False, using: 0 IPUs\n",
      "HPU available: False, using: 0 HPUs\n",
      "LOCAL_RANK: 0 - CUDA_VISIBLE_DEVICES: [0]\n",
      "\n",
      "  | Name            | Type       | Params\n",
      "-----------------------------------------------\n",
      "0 | embeddings      | ModuleList | 2.5 K \n",
      "1 | fc              | Sequential | 745 K \n",
      "2 | output_category | Sequential | 534 K \n",
      "3 | output_price    | Sequential | 525 K \n",
      "-----------------------------------------------\n",
      "1.8 M     Trainable params\n",
      "0         Non-trainable params\n",
      "1.8 M     Total params\n",
      "7.231     Total estimated model params size (MB)\n"
     ]
    },
    {
     "name": "stdout",
     "output_type": "stream",
     "text": [
      "Epoch 3: 100%|██████████| 16/16 [00:00<00:00, 26.15it/s, train_loss_step=6.880, val_loss=7.580, val_price_loss=6.12e+9, val_category_loss=1.460, val_accuracy=0.555, val_rmse=7.83e+4, train_loss_epoch=8.210]\n",
      "Epoch 0: 100%|██████████| 16/16 [00:00<00:00, 37.66it/s, train_loss_step=18.80]"
     ]
    },
    {
     "name": "stderr",
     "output_type": "stream",
     "text": [
      "[I 2024-04-29 00:00:02,694] Trial 190 pruned. Trial was pruned at epoch 0.\n"
     ]
    },
    {
     "name": "stdout",
     "output_type": "stream",
     "text": [
      "Number of embedding layers: 36\n"
     ]
    },
    {
     "name": "stderr",
     "output_type": "stream",
     "text": [
      "GPU available: True (cuda), used: True\n",
      "TPU available: False, using: 0 TPU cores\n",
      "IPU available: False, using: 0 IPUs\n",
      "HPU available: False, using: 0 HPUs\n",
      "LOCAL_RANK: 0 - CUDA_VISIBLE_DEVICES: [0]\n",
      "\n",
      "  | Name            | Type       | Params\n",
      "-----------------------------------------------\n",
      "0 | embeddings      | ModuleList | 2.8 K \n",
      "1 | fc              | Sequential | 764 K \n",
      "2 | output_category | Sequential | 534 K \n",
      "3 | output_price    | Sequential | 525 K \n",
      "-----------------------------------------------\n",
      "1.8 M     Trainable params\n",
      "0         Non-trainable params\n",
      "1.8 M     Total params\n",
      "7.306     Total estimated model params size (MB)\n"
     ]
    },
    {
     "name": "stdout",
     "output_type": "stream",
     "text": [
      "Epoch 0: 100%|██████████| 16/16 [00:00<00:00, 33.49it/s, train_loss_step=10.70, val_loss=12.30, val_price_loss=6.57e+9, val_category_loss=5.690, val_accuracy=0.197, val_rmse=6.59e+4, train_loss_epoch=26.90]"
     ]
    },
    {
     "name": "stderr",
     "output_type": "stream",
     "text": [
      "Metric val_loss improved. New best score: 12.254\n"
     ]
    },
    {
     "name": "stdout",
     "output_type": "stream",
     "text": [
      "Epoch 1: 100%|██████████| 16/16 [00:00<00:00, 34.35it/s, train_loss_step=9.450, val_loss=8.050, val_price_loss=5.89e+9, val_category_loss=2.160, val_accuracy=0.445, val_rmse=7.95e+4, train_loss_epoch=10.40]"
     ]
    },
    {
     "name": "stderr",
     "output_type": "stream",
     "text": [
      "Metric val_loss improved by 4.208 >= min_delta = 0.0001. New best score: 8.047\n"
     ]
    },
    {
     "name": "stdout",
     "output_type": "stream",
     "text": [
      "Epoch 2: 100%|██████████| 16/16 [00:00<00:00, 31.89it/s, train_loss_step=7.540, val_loss=7.150, val_price_loss=6.1e+9, val_category_loss=1.060, val_accuracy=0.679, val_rmse=8.07e+4, train_loss_epoch=8.430] "
     ]
    },
    {
     "name": "stderr",
     "output_type": "stream",
     "text": [
      "Metric val_loss improved by 0.892 >= min_delta = 0.0001. New best score: 7.155\n"
     ]
    },
    {
     "name": "stdout",
     "output_type": "stream",
     "text": [
      "Epoch 3: 100%|██████████| 16/16 [00:00<00:00, 31.49it/s, train_loss_step=6.560, val_loss=7.050, val_price_loss=6.09e+9, val_category_loss=0.960, val_accuracy=0.674, val_rmse=7.54e+4, train_loss_epoch=8.500]"
     ]
    },
    {
     "name": "stderr",
     "output_type": "stream",
     "text": [
      "Metric val_loss improved by 0.104 >= min_delta = 0.0001. New best score: 7.051\n"
     ]
    },
    {
     "name": "stdout",
     "output_type": "stream",
     "text": [
      "Epoch 4: 100%|██████████| 16/16 [00:00<00:00, 30.94it/s, train_loss_step=4.450, val_loss=6.810, val_price_loss=5.81e+9, val_category_loss=0.996, val_accuracy=0.628, val_rmse=7.38e+4, train_loss_epoch=8.190]"
     ]
    },
    {
     "name": "stderr",
     "output_type": "stream",
     "text": [
      "Metric val_loss improved by 0.244 >= min_delta = 0.0001. New best score: 6.808\n"
     ]
    },
    {
     "name": "stdout",
     "output_type": "stream",
     "text": [
      "Epoch 9: 100%|██████████| 16/16 [00:00<00:00, 31.72it/s, train_loss_step=5.610, val_loss=7.470, val_price_loss=5.92e+9, val_category_loss=1.540, val_accuracy=0.592, val_rmse=74208.0, train_loss_epoch=7.530]"
     ]
    },
    {
     "name": "stderr",
     "output_type": "stream",
     "text": [
      "Monitored metric val_loss did not improve in the last 5 records. Best score: 6.808. Signaling Trainer to stop.\n"
     ]
    },
    {
     "name": "stdout",
     "output_type": "stream",
     "text": [
      "Epoch 9: 100%|██████████| 16/16 [00:00<00:00, 22.38it/s, train_loss_step=5.610, val_loss=7.470, val_price_loss=5.92e+9, val_category_loss=1.540, val_accuracy=0.592, val_rmse=74208.0, train_loss_epoch=7.530]"
     ]
    },
    {
     "name": "stderr",
     "output_type": "stream",
     "text": [
      "[I 2024-04-29 00:00:10,392] Trial 191 finished with value: 7.465697765350342 and parameters: {'num_layers': 1, 'hidden_dim': 512, 'embedding_dim': 12, 'lr': 0.02442814541012314, 'optimizer_type': 'Adam', 'relu_type': 'LeakyReLU', 'droupoutrate': 0.35182479317190923}. Best is trial 139 with value: 6.860494136810303.\n",
      "GPU available: True (cuda), used: True\n",
      "TPU available: False, using: 0 TPU cores\n",
      "IPU available: False, using: 0 IPUs\n",
      "HPU available: False, using: 0 HPUs\n",
      "LOCAL_RANK: 0 - CUDA_VISIBLE_DEVICES: [0]\n",
      "\n",
      "  | Name            | Type       | Params\n",
      "-----------------------------------------------\n",
      "0 | embeddings      | ModuleList | 2.8 K \n",
      "1 | fc              | Sequential | 764 K \n",
      "2 | output_category | Sequential | 534 K \n",
      "3 | output_price    | Sequential | 525 K \n",
      "-----------------------------------------------\n",
      "1.8 M     Trainable params\n",
      "0         Non-trainable params\n",
      "1.8 M     Total params\n",
      "7.306     Total estimated model params size (MB)\n"
     ]
    },
    {
     "name": "stdout",
     "output_type": "stream",
     "text": [
      "\n",
      "Number of embedding layers: 36\n",
      "Epoch 0: 100%|██████████| 16/16 [00:00<00:00, 33.85it/s, train_loss_step=9.730]"
     ]
    },
    {
     "name": "stderr",
     "output_type": "stream",
     "text": [
      "[I 2024-04-29 00:00:11,074] Trial 192 pruned. Trial was pruned at epoch 0.\n"
     ]
    },
    {
     "name": "stdout",
     "output_type": "stream",
     "text": [
      "Number of embedding layers: 36\n"
     ]
    },
    {
     "name": "stderr",
     "output_type": "stream",
     "text": [
      "GPU available: True (cuda), used: True\n",
      "TPU available: False, using: 0 TPU cores\n",
      "IPU available: False, using: 0 IPUs\n",
      "HPU available: False, using: 0 HPUs\n"
     ]
    },
    {
     "name": "stdout",
     "output_type": "stream",
     "text": [
      "Epoch 0: 100%|██████████| 16/16 [00:00<00:00, 25.67it/s, train_loss_step=9.730]\n"
     ]
    },
    {
     "name": "stderr",
     "output_type": "stream",
     "text": [
      "LOCAL_RANK: 0 - CUDA_VISIBLE_DEVICES: [0]\n",
      "\n",
      "  | Name            | Type       | Params\n",
      "-----------------------------------------------\n",
      "0 | embeddings      | ModuleList | 2.8 K \n",
      "1 | fc              | Sequential | 764 K \n",
      "2 | output_category | Sequential | 534 K \n",
      "3 | output_price    | Sequential | 525 K \n",
      "-----------------------------------------------\n",
      "1.8 M     Trainable params\n",
      "0         Non-trainable params\n",
      "1.8 M     Total params\n",
      "7.306     Total estimated model params size (MB)\n"
     ]
    },
    {
     "name": "stdout",
     "output_type": "stream",
     "text": [
      "Epoch 0: 100%|██████████| 16/16 [00:00<00:00, 30.33it/s, train_loss_step=11.20, val_loss=11.40, val_price_loss=5.98e+9, val_category_loss=5.460, val_accuracy=0.408, val_rmse=6.89e+4, train_loss_epoch=19.20]"
     ]
    },
    {
     "name": "stderr",
     "output_type": "stream",
     "text": [
      "Metric val_loss improved. New best score: 11.445\n"
     ]
    },
    {
     "name": "stdout",
     "output_type": "stream",
     "text": [
      "Epoch 1: 100%|██████████| 16/16 [00:00<00:00, 30.94it/s, train_loss_step=9.700, val_loss=8.120, val_price_loss=6.35e+9, val_category_loss=1.770, val_accuracy=0.555, val_rmse=7.73e+4, train_loss_epoch=8.940]"
     ]
    },
    {
     "name": "stderr",
     "output_type": "stream",
     "text": [
      "Metric val_loss improved by 3.322 >= min_delta = 0.0001. New best score: 8.123\n"
     ]
    },
    {
     "name": "stdout",
     "output_type": "stream",
     "text": [
      "Epoch 2: 100%|██████████| 16/16 [00:00<00:00, 36.05it/s, train_loss_step=7.490, val_loss=8.120, val_price_loss=6.35e+9, val_category_loss=1.770, val_accuracy=0.555, val_rmse=7.73e+4, train_loss_epoch=8.940]"
     ]
    },
    {
     "name": "stderr",
     "output_type": "stream",
     "text": [
      "[I 2024-04-29 00:00:13,180] Trial 193 pruned. Trial was pruned at epoch 2.\n"
     ]
    },
    {
     "name": "stdout",
     "output_type": "stream",
     "text": [
      "Number of embedding layers: 36\n"
     ]
    },
    {
     "name": "stderr",
     "output_type": "stream",
     "text": [
      "GPU available: True (cuda), used: True\n",
      "TPU available: False, using: 0 TPU cores\n",
      "IPU available: False, using: 0 IPUs\n",
      "HPU available: False, using: 0 HPUs\n",
      "LOCAL_RANK: 0 - CUDA_VISIBLE_DEVICES: [0]\n",
      "\n",
      "  | Name            | Type       | Params\n",
      "-----------------------------------------------\n",
      "0 | embeddings      | ModuleList | 2.8 K \n",
      "1 | fc              | Sequential | 764 K \n",
      "2 | output_category | Sequential | 534 K \n",
      "3 | output_price    | Sequential | 525 K \n",
      "-----------------------------------------------\n",
      "1.8 M     Trainable params\n",
      "0         Non-trainable params\n",
      "1.8 M     Total params\n",
      "7.306     Total estimated model params size (MB)\n"
     ]
    },
    {
     "name": "stdout",
     "output_type": "stream",
     "text": [
      "Epoch 0: 100%|██████████| 16/16 [00:00<00:00, 31.39it/s, train_loss_step=10.20, val_loss=13.90, val_price_loss=8.39e+9, val_category_loss=5.510, val_accuracy=0.188, val_rmse=5.74e+4, train_loss_epoch=39.50]"
     ]
    },
    {
     "name": "stderr",
     "output_type": "stream",
     "text": [
      "Metric val_loss improved. New best score: 13.901\n"
     ]
    },
    {
     "name": "stdout",
     "output_type": "stream",
     "text": [
      "Epoch 1: 100%|██████████| 16/16 [00:00<00:00, 37.48it/s, train_loss_step=9.560, val_loss=13.90, val_price_loss=8.39e+9, val_category_loss=5.510, val_accuracy=0.188, val_rmse=5.74e+4, train_loss_epoch=39.50]"
     ]
    },
    {
     "name": "stderr",
     "output_type": "stream",
     "text": [
      "[I 2024-04-29 00:00:14,518] Trial 194 pruned. Trial was pruned at epoch 1.\n"
     ]
    },
    {
     "name": "stdout",
     "output_type": "stream",
     "text": [
      "Number of embedding layers: 36\n"
     ]
    },
    {
     "name": "stderr",
     "output_type": "stream",
     "text": [
      "GPU available: True (cuda), used: True\n",
      "TPU available: False, using: 0 TPU cores\n",
      "IPU available: False, using: 0 IPUs\n",
      "HPU available: False, using: 0 HPUs\n"
     ]
    },
    {
     "name": "stdout",
     "output_type": "stream",
     "text": [
      "Epoch 1: 100%|██████████| 16/16 [00:00<00:00, 28.49it/s, train_loss_step=9.560, val_loss=13.90, val_price_loss=8.39e+9, val_category_loss=5.510, val_accuracy=0.188, val_rmse=5.74e+4, train_loss_epoch=39.50]\n"
     ]
    },
    {
     "name": "stderr",
     "output_type": "stream",
     "text": [
      "LOCAL_RANK: 0 - CUDA_VISIBLE_DEVICES: [0]\n",
      "\n",
      "  | Name            | Type       | Params\n",
      "-----------------------------------------------\n",
      "0 | embeddings      | ModuleList | 3.0 K \n",
      "1 | fc              | Sequential | 782 K \n",
      "2 | output_category | Sequential | 534 K \n",
      "3 | output_price    | Sequential | 525 K \n",
      "-----------------------------------------------\n",
      "1.8 M     Trainable params\n",
      "0         Non-trainable params\n",
      "1.8 M     Total params\n",
      "7.381     Total estimated model params size (MB)\n"
     ]
    },
    {
     "name": "stdout",
     "output_type": "stream",
     "text": [
      "Epoch 0: 100%|██████████| 16/16 [00:00<00:00, 30.79it/s, train_loss_step=13.00, val_loss=16.70, val_price_loss=1.3e+10, val_category_loss=3.690, val_accuracy=0.427, val_rmse=1.27e+5, train_loss_epoch=46.90]"
     ]
    },
    {
     "name": "stderr",
     "output_type": "stream",
     "text": [
      "Metric val_loss improved. New best score: 16.725\n"
     ]
    },
    {
     "name": "stdout",
     "output_type": "stream",
     "text": [
      "Epoch 1: 100%|██████████| 16/16 [00:00<00:00, 31.55it/s, train_loss_step=8.620, val_loss=8.530, val_price_loss=6.6e+9, val_category_loss=1.930, val_accuracy=0.326, val_rmse=8.59e+4, train_loss_epoch=13.70] "
     ]
    },
    {
     "name": "stderr",
     "output_type": "stream",
     "text": [
      "Metric val_loss improved by 8.194 >= min_delta = 0.0001. New best score: 8.531\n"
     ]
    },
    {
     "name": "stdout",
     "output_type": "stream",
     "text": [
      "Epoch 2: 100%|██████████| 16/16 [00:00<00:00, 30.21it/s, train_loss_step=6.760, val_loss=7.390, val_price_loss=5.94e+9, val_category_loss=1.450, val_accuracy=0.518, val_rmse=7.56e+4, train_loss_epoch=9.230]"
     ]
    },
    {
     "name": "stderr",
     "output_type": "stream",
     "text": [
      "Metric val_loss improved by 1.144 >= min_delta = 0.0001. New best score: 7.387\n"
     ]
    },
    {
     "name": "stdout",
     "output_type": "stream",
     "text": [
      "Epoch 3: 100%|██████████| 16/16 [00:00<00:00, 35.41it/s, train_loss_step=8.640, val_loss=7.390, val_price_loss=5.94e+9, val_category_loss=1.450, val_accuracy=0.518, val_rmse=7.56e+4, train_loss_epoch=9.230]"
     ]
    },
    {
     "name": "stderr",
     "output_type": "stream",
     "text": [
      "[I 2024-04-29 00:00:17,353] Trial 195 pruned. Trial was pruned at epoch 3.\n"
     ]
    },
    {
     "name": "stdout",
     "output_type": "stream",
     "text": [
      "Number of embedding layers: 36\n"
     ]
    },
    {
     "name": "stderr",
     "output_type": "stream",
     "text": [
      "GPU available: True (cuda), used: True\n",
      "TPU available: False, using: 0 TPU cores\n",
      "IPU available: False, using: 0 IPUs\n",
      "HPU available: False, using: 0 HPUs\n",
      "LOCAL_RANK: 0 - CUDA_VISIBLE_DEVICES: [0]\n",
      "\n",
      "  | Name            | Type       | Params\n",
      "-----------------------------------------------\n",
      "0 | embeddings      | ModuleList | 2.3 K \n",
      "1 | fc              | Sequential | 727 K \n",
      "2 | output_category | Sequential | 534 K \n",
      "3 | output_price    | Sequential | 525 K \n",
      "-----------------------------------------------\n",
      "1.8 M     Trainable params\n",
      "0         Non-trainable params\n",
      "1.8 M     Total params\n",
      "7.157     Total estimated model params size (MB)\n"
     ]
    },
    {
     "name": "stdout",
     "output_type": "stream",
     "text": [
      "Epoch 0: 100%|██████████| 16/16 [00:00<00:00, 31.25it/s, train_loss_step=8.610, val_loss=12.90, val_price_loss=7.81e+9, val_category_loss=5.120, val_accuracy=0.417, val_rmse=8.69e+4, train_loss_epoch=19.70]"
     ]
    },
    {
     "name": "stderr",
     "output_type": "stream",
     "text": [
      "Metric val_loss improved. New best score: 12.933\n"
     ]
    },
    {
     "name": "stdout",
     "output_type": "stream",
     "text": [
      "Epoch 1: 100%|██████████| 16/16 [00:00<00:00, 35.26it/s, train_loss_step=8.440, val_loss=12.90, val_price_loss=7.81e+9, val_category_loss=5.120, val_accuracy=0.417, val_rmse=8.69e+4, train_loss_epoch=19.70]"
     ]
    },
    {
     "name": "stderr",
     "output_type": "stream",
     "text": [
      "[I 2024-04-29 00:00:18,705] Trial 196 pruned. Trial was pruned at epoch 1.\n"
     ]
    },
    {
     "name": "stdout",
     "output_type": "stream",
     "text": [
      "Number of embedding layers: 36\n"
     ]
    },
    {
     "name": "stderr",
     "output_type": "stream",
     "text": [
      "GPU available: True (cuda), used: True\n",
      "TPU available: False, using: 0 TPU cores\n",
      "IPU available: False, using: 0 IPUs\n",
      "HPU available: False, using: 0 HPUs\n",
      "LOCAL_RANK: 0 - CUDA_VISIBLE_DEVICES: [0]\n",
      "\n",
      "  | Name            | Type       | Params\n",
      "-----------------------------------------------\n",
      "0 | embeddings      | ModuleList | 2.8 K \n",
      "1 | fc              | Sequential | 38.2 K\n",
      "2 | output_category | Sequential | 9.4 K \n",
      "3 | output_price    | Sequential | 8.3 K \n",
      "-----------------------------------------------\n",
      "58.7 K    Trainable params\n",
      "0         Non-trainable params\n",
      "58.7 K    Total params\n",
      "0.235     Total estimated model params size (MB)\n"
     ]
    },
    {
     "name": "stdout",
     "output_type": "stream",
     "text": [
      "Epoch 0: 100%|██████████| 16/16 [00:00<00:00, 40.21it/s, train_loss_step=14.70]"
     ]
    },
    {
     "name": "stderr",
     "output_type": "stream",
     "text": [
      "[I 2024-04-29 00:00:19,281] Trial 197 pruned. Trial was pruned at epoch 0.\n"
     ]
    },
    {
     "name": "stdout",
     "output_type": "stream",
     "text": [
      "Number of embedding layers: 36\n"
     ]
    },
    {
     "name": "stderr",
     "output_type": "stream",
     "text": [
      "GPU available: True (cuda), used: True\n",
      "TPU available: False, using: 0 TPU cores\n",
      "IPU available: False, using: 0 IPUs\n",
      "HPU available: False, using: 0 HPUs\n",
      "LOCAL_RANK: 0 - CUDA_VISIBLE_DEVICES: [0]\n",
      "\n",
      "  | Name            | Type       | Params\n",
      "-----------------------------------------------\n",
      "0 | embeddings      | ModuleList | 2.5 K \n",
      "1 | fc              | Sequential | 745 K \n",
      "2 | output_category | Sequential | 534 K \n",
      "3 | output_price    | Sequential | 525 K \n",
      "-----------------------------------------------\n",
      "1.8 M     Trainable params\n",
      "0         Non-trainable params\n",
      "1.8 M     Total params\n",
      "7.231     Total estimated model params size (MB)\n"
     ]
    },
    {
     "name": "stdout",
     "output_type": "stream",
     "text": [
      "Epoch 0: 100%|██████████| 16/16 [00:00<00:00, 35.07it/s, train_loss_step=12.50]"
     ]
    },
    {
     "name": "stderr",
     "output_type": "stream",
     "text": [
      "[I 2024-04-29 00:00:19,934] Trial 198 pruned. Trial was pruned at epoch 0.\n"
     ]
    },
    {
     "name": "stdout",
     "output_type": "stream",
     "text": [
      "Epoch 0: 100%|██████████| 16/16 [00:01<00:00, 13.87it/s, train_loss_step=14.70]\n",
      "Epoch 0: 100%|██████████| 16/16 [00:00<00:00, 28.42it/s, train_loss_step=12.50]\n"
     ]
    },
    {
     "name": "stderr",
     "output_type": "stream",
     "text": [
      "GPU available: True (cuda), used: True\n"
     ]
    },
    {
     "name": "stdout",
     "output_type": "stream",
     "text": [
      "Number of embedding layers: 36\n"
     ]
    },
    {
     "name": "stderr",
     "output_type": "stream",
     "text": [
      "TPU available: False, using: 0 TPU cores\n",
      "IPU available: False, using: 0 IPUs\n",
      "HPU available: False, using: 0 HPUs\n",
      "LOCAL_RANK: 0 - CUDA_VISIBLE_DEVICES: [0]\n",
      "\n",
      "  | Name            | Type       | Params\n",
      "-----------------------------------------------\n",
      "0 | embeddings      | ModuleList | 3.7 K \n",
      "1 | fc              | Sequential | 838 K \n",
      "2 | output_category | Sequential | 534 K \n",
      "3 | output_price    | Sequential | 525 K \n",
      "-----------------------------------------------\n",
      "1.9 M     Trainable params\n",
      "0         Non-trainable params\n",
      "1.9 M     Total params\n",
      "7.605     Total estimated model params size (MB)\n"
     ]
    },
    {
     "name": "stdout",
     "output_type": "stream",
     "text": [
      "Epoch 0: 100%|██████████| 16/16 [00:00<00:00, 30.73it/s, train_loss_step=18.60, val_loss=12.70, val_price_loss=9.03e+9, val_category_loss=3.720, val_accuracy=0.239, val_rmse=7.9e+4, train_loss_epoch=30.40]"
     ]
    },
    {
     "name": "stderr",
     "output_type": "stream",
     "text": [
      "Metric val_loss improved. New best score: 12.744\n"
     ]
    },
    {
     "name": "stdout",
     "output_type": "stream",
     "text": [
      "Epoch 1: 100%|██████████| 16/16 [00:00<00:00, 32.92it/s, train_loss_step=6.530, val_loss=12.70, val_price_loss=9.03e+9, val_category_loss=3.720, val_accuracy=0.239, val_rmse=7.9e+4, train_loss_epoch=30.40]"
     ]
    },
    {
     "name": "stderr",
     "output_type": "stream",
     "text": [
      "[I 2024-04-29 00:00:21,359] Trial 199 pruned. Trial was pruned at epoch 1.\n"
     ]
    },
    {
     "name": "stdout",
     "output_type": "stream",
     "text": [
      "Best trial:\n",
      "  Value: 6.860494136810303\n",
      "  Params: \n",
      "    num_layers: 1\n",
      "    hidden_dim: 512\n",
      "    embedding_dim: 14\n",
      "    lr: 0.028039151980518314\n",
      "    optimizer_type: Adam\n",
      "    relu_type: LeakyReLU\n",
      "    droupoutrate: 0.4030157350955987\n"
     ]
    }
   ],
   "source": [
    "# Create a study object\n",
    "study = optuna.create_study(direction=\"minimize\")\n",
    "\n",
    "# Optimize the study\n",
    "study.optimize(objective, n_trials=200)  # Specify the number of trials you want\n",
    "\n",
    "# After the optimization, you can print the best parameters\n",
    "print(\"Best trial:\")\n",
    "trial = study.best_trial\n",
    "\n",
    "print(f\"  Value: {trial.value}\")\n",
    "print(\"  Params: \")\n",
    "for key, value in trial.params.items():\n",
    "    print(f\"    {key}: {value}\")\n"
   ]
  },
  {
   "cell_type": "code",
   "execution_count": 17,
   "metadata": {},
   "outputs": [
    {
     "name": "stdout",
     "output_type": "stream",
     "text": [
      "Study statistics: \n",
      "  Number of finished trials:  200\n",
      "  Best trial:\n",
      "    Value: 6.860494136810303\n",
      "    Parameters: \n",
      "      num_layers: 1\n",
      "      hidden_dim: 512\n",
      "      embedding_dim: 14\n",
      "      lr: 0.028039151980518314\n",
      "      optimizer_type: Adam\n",
      "      relu_type: LeakyReLU\n",
      "      droupoutrate: 0.4030157350955987\n",
      "  Best Validation Accuracy: 0.7293577790260315\n",
      "  Best Validation RMSE: 75607.171875\n"
     ]
    }
   ],
   "source": [
    "print(\"Study statistics: \")\n",
    "print(\"  Number of finished trials: \", len(study.trials))\n",
    "print(\"  Best trial:\")\n",
    "print(f\"    Value: {trial.value}\")\n",
    "print(\"    Parameters: \")\n",
    "for key, value in trial.params.items():\n",
    "    print(f\"      {key}: {value}\")\n",
    "\n",
    "\n",
    "best_trial = study.best_trial\n",
    "best_accuracy = best_trial.user_attrs.get('val_accuracy', 'Metric not recorded')\n",
    "best_rmse = best_trial.user_attrs.get('val_rmse', 'Metric not recorded')\n",
    "\n",
    "print(f\"  Best Validation Accuracy: {best_accuracy}\")\n",
    "print(f\"  Best Validation RMSE: {best_rmse}\")"
   ]
  },
  {
   "cell_type": "code",
   "execution_count": 24,
   "metadata": {},
   "outputs": [
    {
     "name": "stderr",
     "output_type": "stream",
     "text": [
      "GPU available: True (cuda), used: True\n",
      "TPU available: False, using: 0 TPU cores\n",
      "IPU available: False, using: 0 IPUs\n",
      "HPU available: False, using: 0 HPUs\n"
     ]
    },
    {
     "name": "stderr",
     "output_type": "stream",
     "text": [
      "LOCAL_RANK: 0 - CUDA_VISIBLE_DEVICES: [0]\n",
      "\n",
      "  | Name            | Type       | Params\n",
      "-----------------------------------------------\n",
      "0 | embeddings      | ModuleList | 3.2 K \n",
      "1 | fc              | Sequential | 801 K \n",
      "2 | output_category | Sequential | 534 K \n",
      "3 | output_price    | Sequential | 525 K \n",
      "-----------------------------------------------\n",
      "1.9 M     Trainable params\n",
      "0         Non-trainable params\n",
      "1.9 M     Total params\n",
      "7.455     Total estimated model params size (MB)\n"
     ]
    },
    {
     "name": "stdout",
     "output_type": "stream",
     "text": [
      "Number of embedding layers: 36\n",
      "Epoch 0: 100%|██████████| 16/16 [00:00<00:00, 24.99it/s, v_num=49, train_loss_step=16.30, val_loss=14.10, val_price_loss=9.38e+9, val_category_loss=4.710, val_accuracy=0.344, val_rmse=9.47e+4, train_loss_epoch=33.70]"
     ]
    },
    {
     "name": "stderr",
     "output_type": "stream",
     "text": [
      "Metric val_loss improved. New best score: 14.088\n"
     ]
    },
    {
     "name": "stdout",
     "output_type": "stream",
     "text": [
      "Epoch 1: 100%|██████████| 16/16 [00:00<00:00, 29.33it/s, v_num=49, train_loss_step=15.20, val_loss=10.30, val_price_loss=7.89e+9, val_category_loss=2.390, val_accuracy=0.431, val_rmse=9.08e+4, train_loss_epoch=11.00]"
     ]
    },
    {
     "name": "stderr",
     "output_type": "stream",
     "text": [
      "Metric val_loss improved by 3.808 >= min_delta = 0.0001. New best score: 10.280\n"
     ]
    },
    {
     "name": "stdout",
     "output_type": "stream",
     "text": [
      "Epoch 2: 100%|██████████| 16/16 [00:00<00:00, 38.75it/s, v_num=49, train_loss_step=9.110, val_loss=7.520, val_price_loss=6.15e+9, val_category_loss=1.370, val_accuracy=0.578, val_rmse=8.08e+4, train_loss_epoch=8.880]"
     ]
    },
    {
     "name": "stderr",
     "output_type": "stream",
     "text": [
      "Metric val_loss improved by 2.758 >= min_delta = 0.0001. New best score: 7.522\n"
     ]
    },
    {
     "name": "stdout",
     "output_type": "stream",
     "text": [
      "Epoch 4: 100%|██████████| 16/16 [00:00<00:00, 37.34it/s, v_num=49, train_loss_step=4.770, val_loss=7.180, val_price_loss=6.02e+9, val_category_loss=1.160, val_accuracy=0.638, val_rmse=7.49e+4, train_loss_epoch=7.780]"
     ]
    },
    {
     "name": "stderr",
     "output_type": "stream",
     "text": [
      "Metric val_loss improved by 0.342 >= min_delta = 0.0001. New best score: 7.180\n"
     ]
    },
    {
     "name": "stdout",
     "output_type": "stream",
     "text": [
      "Epoch 12: 100%|██████████| 16/16 [00:00<00:00, 45.32it/s, v_num=49, train_loss_step=10.50, val_loss=7.110, val_price_loss=5.99e+9, val_category_loss=1.120, val_accuracy=0.711, val_rmse=7.28e+4, train_loss_epoch=7.510]"
     ]
    },
    {
     "name": "stderr",
     "output_type": "stream",
     "text": [
      "Metric val_loss improved by 0.069 >= min_delta = 0.0001. New best score: 7.111\n"
     ]
    },
    {
     "name": "stdout",
     "output_type": "stream",
     "text": [
      "Epoch 32: 100%|██████████| 16/16 [00:00<00:00, 30.94it/s, v_num=49, train_loss_step=11.00, val_loss=9.830, val_price_loss=7.35e+9, val_category_loss=2.480, val_accuracy=0.739, val_rmse=8.21e+4, train_loss_epoch=7.120]"
     ]
    },
    {
     "name": "stderr",
     "output_type": "stream",
     "text": [
      "Monitored metric val_loss did not improve in the last 20 records. Best score: 7.111. Signaling Trainer to stop.\n"
     ]
    },
    {
     "name": "stdout",
     "output_type": "stream",
     "text": [
      "Epoch 32: 100%|██████████| 16/16 [00:00<00:00, 30.53it/s, v_num=49, train_loss_step=11.00, val_loss=9.830, val_price_loss=7.35e+9, val_category_loss=2.480, val_accuracy=0.739, val_rmse=8.21e+4, train_loss_epoch=7.120]\n"
     ]
    }
   ],
   "source": [
    "model = HousingNN(\n",
    "    cat_cols=[i for i in range(num_categorical_cols)],  \n",
    "    num_cols=num_numerical_features,  \n",
    "    num_layers=1, \n",
    "    num_embds=num_embds, \n",
    "    embedding_dim=14,  \n",
    "    hidden_dim=512,\n",
    "    output_dim_price=1,\n",
    "    output_dim_category=num_classes,\n",
    "    lr=0.028039151980518314,\n",
    "    relu_type='LeakyReLU',\n",
    "    dropoutrate=0.4030157350955987\n",
    "    \n",
    ")\n",
    "\n",
    "# Setup trainer with optional callbacks for checkpointing and early stopping\n",
    "checkpoint_callback = ModelCheckpoint(\n",
    "    monitor='val_loss',\n",
    "    dirpath='checkpoints/',\n",
    "    filename='model-{epoch:02d}-{val_loss:.2f}',\n",
    "    save_top_k=3,\n",
    "    mode='min'\n",
    ")\n",
    "\n",
    "early_stopping = EarlyStopping(\n",
    "    monitor='val_loss',\n",
    "    patience=20,\n",
    "    verbose=True,\n",
    "    mode='min',\n",
    "    min_delta= 0.0001\n",
    ")\n",
    "\n",
    "trainer = pl.Trainer(\n",
    "    max_epochs=1000,\n",
    "    callbacks=[checkpoint_callback, early_stopping],\n",
    "    accelerator='gpu',  \n",
    "    devices=1 if torch.cuda.is_available() else 0, \n",
    ")\n",
    "\n",
    "# Fit the model\n",
    "trainer.fit(model, train_loader, val_loader)"
   ]
  },
  {
   "cell_type": "code",
   "execution_count": 25,
   "metadata": {},
   "outputs": [
    {
     "name": "stderr",
     "output_type": "stream",
     "text": [
      "Restoring states from the checkpoint path at C:\\Users\\Owner\\Documents\\MMA\\MULTI TASK\\Final Project\\checkpoints\\model-epoch=12-val_loss=7.11.ckpt\n",
      "LOCAL_RANK: 0 - CUDA_VISIBLE_DEVICES: [0]\n",
      "Loaded model weights from the checkpoint at C:\\Users\\Owner\\Documents\\MMA\\MULTI TASK\\Final Project\\checkpoints\\model-epoch=12-val_loss=7.11.ckpt\n"
     ]
    },
    {
     "name": "stdout",
     "output_type": "stream",
     "text": [
      "Testing DataLoader 0: 100%|██████████| 4/4 [00:00<00:00, 66.85it/s]\n",
      "────────────────────────────────────────────────────────────────────────────────────────────────────────────────────────\n",
      "       Test metric             DataLoader 0\n",
      "────────────────────────────────────────────────────────────────────────────────────────────────────────────────────────\n",
      "      test_accuracy         0.7045454382896423\n",
      "   test_category_loss       1.3563281297683716\n",
      "     test_price_loss           4198658048.0\n",
      "        test_rmse             61701.86328125\n",
      "────────────────────────────────────────────────────────────────────────────────────────────────────────────────────────\n"
     ]
    },
    {
     "data": {
      "text/plain": [
       "[{'test_price_loss': 4198658048.0,\n",
       "  'test_category_loss': 1.3563281297683716,\n",
       "  'test_accuracy': 0.7045454382896423,\n",
       "  'test_rmse': 61701.86328125}]"
      ]
     },
     "execution_count": 25,
     "metadata": {},
     "output_type": "execute_result"
    }
   ],
   "source": [
    "trainer.test(dataloaders=test_loader)"
   ]
  }
 ],
 "metadata": {
  "kernelspec": {
   "display_name": "cuda_env",
   "language": "python",
   "name": "python3"
  },
  "language_info": {
   "codemirror_mode": {
    "name": "ipython",
    "version": 3
   },
   "file_extension": ".py",
   "mimetype": "text/x-python",
   "name": "python",
   "nbconvert_exporter": "python",
   "pygments_lexer": "ipython3",
   "version": "3.11.8"
  }
 },
 "nbformat": 4,
 "nbformat_minor": 2
}
